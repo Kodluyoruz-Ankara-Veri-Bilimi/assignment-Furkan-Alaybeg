{
 "cells": [
  {
   "cell_type": "markdown",
   "metadata": {},
   "source": [
    "# Regression Analysis\n",
    "\n",
    "Bu çalışmada HW_Dataset ve Linear Regression üzerine bir çalışma gerçekleştirildi. İlk önce veri seti keşfi ve analizi gerçekleştirildi. Daha sonra veri temizleme, görselleştirme ve regresyon algoritması uygulandı."
   ]
  },
  {
   "cell_type": "code",
   "execution_count": 1,
   "metadata": {},
   "outputs": [],
   "source": [
    "import pandas as pd \n",
    "import numpy as np \n",
    "import seaborn as sns \n",
    "import matplotlib.pyplot as plt \n",
    "\n",
    "from warnings import filterwarnings\n",
    "filterwarnings('ignore')"
   ]
  },
  {
   "cell_type": "code",
   "execution_count": 2,
   "metadata": {},
   "outputs": [],
   "source": [
    "def correlation_df(data, remove_columns=None):\n",
    "    if(remove_columns is None):\n",
    "        corr = data.corr()\n",
    "        corr = corr.where(np.triu(np.ones(corr.shape)).astype(np.bool))\n",
    "        corr = corr.stack().reset_index()\n",
    "        new_df = corr[corr[\"level_0\"] != corr[\"level_1\"]]\n",
    "        new_df.columns = ['feature1','feature2','Corr']\n",
    "        new_df[\"Corr\"] = abs(new_df[\"Corr\"])\n",
    "    else:\n",
    "        data2 = data.drop(remove_columns, axis=1)\n",
    "        corr = data2.corr()\n",
    "        corr = corr.where(np.triu(np.ones(corr.shape)).astype(np.bool))\n",
    "        corr = corr.stack().reset_index()\n",
    "        new_df = corr[corr[\"level_0\"] != corr[\"level_1\"]]\n",
    "        new_df.columns = ['feature1','feature2','Corr']\n",
    "        new_df[\"Corr\"] = abs(new_df[\"Corr\"])\n",
    "    return new_df"
   ]
  },
  {
   "cell_type": "code",
   "execution_count": 3,
   "metadata": {},
   "outputs": [],
   "source": [
    "def numeric_categoric_variable(data):\n",
    "    name_of_col = list(data.columns)\n",
    "    num_var_list = []\n",
    "    str_var_list = []\n",
    "    drop_col=[]\n",
    "\n",
    "    str_var_list = name_of_col.copy()\n",
    "    for var in name_of_col:\n",
    "        # check if column belongs to numeric type\n",
    "        if (data[var].dtypes not in (np.object, np.str)):\n",
    "            str_var_list.remove(var)\n",
    "            num_var_list.append(var)\n",
    "        # drop the omit column from list\n",
    "    for var in drop_col:\n",
    "        if var in str_var_list:\n",
    "            str_var_list.remove(var)\n",
    "        if var in num_var_list:\n",
    "            num_var_list.remove(var)\n",
    "    print(\"Numeric Column  :\\n\", num_var_list,\n",
    "          \"\\n\\nCategoric Column :\\n\", str_var_list)\n",
    "    return num_var_list, str_var_list\n",
    "\n",
    "def layer1(data_norm, remove_col, threshold):\n",
    "    corr_col=set()\n",
    "    data2 = data.drop(remove_col, axis=1)\n",
    "    corrmat=data2.corr()\n",
    "    for i in range(len(corrmat.columns)):\n",
    "        for j in range(i):\n",
    "            if abs(corrmat.iloc[i,j] > threshold):\n",
    "                colname=corrmat.columns[i]\n",
    "                corr_col.add(colname)\n",
    "    corr_col=list(corr_col)\n",
    "    layer1_df = data_norm.drop(corr_col, axis=1)\n",
    "    #layer1_df[\"labels\"] = data_norm[\"labels\"]\n",
    "    return layer1_df\n",
    "\n",
    "def layer2(new_df, target, num_feats):\n",
    "    x = new_df.drop(target, axis=1)\n",
    "    y = new_df[target]\n",
    "    cor_list = []\n",
    "    feature_name = list(x.columns)\n",
    "    for i in list(x.columns):\n",
    "        cor = np.corrcoef(x[i],y)[0,1]\n",
    "        cor_list.append(cor)\n",
    "\n",
    "    cor_list = [0 if np.isnan(i) else i for i in cor_list]\n",
    "    cor_feature = x.iloc[:,np.argsort(np.abs(cor_list))[-num_feats:]].columns.tolist()\n",
    "    return cor_feature"
   ]
  },
  {
   "cell_type": "code",
   "execution_count": 4,
   "metadata": {},
   "outputs": [
    {
     "data": {
      "text/html": [
       "<div>\n",
       "<style scoped>\n",
       "    .dataframe tbody tr th:only-of-type {\n",
       "        vertical-align: middle;\n",
       "    }\n",
       "\n",
       "    .dataframe tbody tr th {\n",
       "        vertical-align: top;\n",
       "    }\n",
       "\n",
       "    .dataframe thead th {\n",
       "        text-align: right;\n",
       "    }\n",
       "</style>\n",
       "<table border=\"1\" class=\"dataframe\">\n",
       "  <thead>\n",
       "    <tr style=\"text-align: right;\">\n",
       "      <th></th>\n",
       "      <th>ind_5</th>\n",
       "      <th>ind_6</th>\n",
       "      <th>ind_8</th>\n",
       "      <th>ind_9</th>\n",
       "      <th>ind_10</th>\n",
       "      <th>ind_12</th>\n",
       "      <th>ind_13</th>\n",
       "      <th>ind_14</th>\n",
       "      <th>ind_15</th>\n",
       "      <th>ind_16</th>\n",
       "      <th>...</th>\n",
       "      <th>ind_416</th>\n",
       "      <th>ind_418</th>\n",
       "      <th>ind_420</th>\n",
       "      <th>ind_422</th>\n",
       "      <th>ind_424</th>\n",
       "      <th>ind_426</th>\n",
       "      <th>ind_428</th>\n",
       "      <th>20_target</th>\n",
       "      <th>50_target</th>\n",
       "      <th>90_target</th>\n",
       "    </tr>\n",
       "  </thead>\n",
       "  <tbody>\n",
       "    <tr>\n",
       "      <th>0</th>\n",
       "      <td>19</td>\n",
       "      <td>17</td>\n",
       "      <td>100.0</td>\n",
       "      <td>85.714286</td>\n",
       "      <td>14.285714</td>\n",
       "      <td>72.363515</td>\n",
       "      <td>60.808814</td>\n",
       "      <td>23.80</td>\n",
       "      <td>17.62</td>\n",
       "      <td>11.73</td>\n",
       "      <td>...</td>\n",
       "      <td>-49.6</td>\n",
       "      <td>-54</td>\n",
       "      <td>-152</td>\n",
       "      <td>-353</td>\n",
       "      <td>1.0</td>\n",
       "      <td>0.498547</td>\n",
       "      <td>0.701906</td>\n",
       "      <td>15.135802</td>\n",
       "      <td>35.625252</td>\n",
       "      <td>36.997753</td>\n",
       "    </tr>\n",
       "    <tr>\n",
       "      <th>1</th>\n",
       "      <td>24</td>\n",
       "      <td>19</td>\n",
       "      <td>100.0</td>\n",
       "      <td>78.571429</td>\n",
       "      <td>21.428571</td>\n",
       "      <td>74.275883</td>\n",
       "      <td>64.366798</td>\n",
       "      <td>11.45</td>\n",
       "      <td>18.16</td>\n",
       "      <td>12.22</td>\n",
       "      <td>...</td>\n",
       "      <td>-55.6</td>\n",
       "      <td>-60</td>\n",
       "      <td>-158</td>\n",
       "      <td>-359</td>\n",
       "      <td>1.0</td>\n",
       "      <td>0.537088</td>\n",
       "      <td>0.690833</td>\n",
       "      <td>15.143348</td>\n",
       "      <td>35.643013</td>\n",
       "      <td>37.016198</td>\n",
       "    </tr>\n",
       "    <tr>\n",
       "      <th>2</th>\n",
       "      <td>30</td>\n",
       "      <td>24</td>\n",
       "      <td>100.0</td>\n",
       "      <td>71.428571</td>\n",
       "      <td>28.571429</td>\n",
       "      <td>75.140402</td>\n",
       "      <td>65.915803</td>\n",
       "      <td>8.75</td>\n",
       "      <td>17.86</td>\n",
       "      <td>12.28</td>\n",
       "      <td>...</td>\n",
       "      <td>-58.4</td>\n",
       "      <td>-60</td>\n",
       "      <td>-160</td>\n",
       "      <td>-362</td>\n",
       "      <td>1.0</td>\n",
       "      <td>0.615169</td>\n",
       "      <td>0.693040</td>\n",
       "      <td>15.146870</td>\n",
       "      <td>35.651301</td>\n",
       "      <td>-37.024805</td>\n",
       "    </tr>\n",
       "    <tr>\n",
       "      <th>3</th>\n",
       "      <td>37</td>\n",
       "      <td>30</td>\n",
       "      <td>100.0</td>\n",
       "      <td>64.285714</td>\n",
       "      <td>35.714286</td>\n",
       "      <td>76.677846</td>\n",
       "      <td>68.584234</td>\n",
       "      <td>7.80</td>\n",
       "      <td>14.76</td>\n",
       "      <td>12.61</td>\n",
       "      <td>...</td>\n",
       "      <td>-61.8</td>\n",
       "      <td>-65</td>\n",
       "      <td>-166</td>\n",
       "      <td>-367</td>\n",
       "      <td>1.0</td>\n",
       "      <td>0.661517</td>\n",
       "      <td>0.673418</td>\n",
       "      <td>15.153283</td>\n",
       "      <td>0.000000</td>\n",
       "      <td>-37.040483</td>\n",
       "    </tr>\n",
       "    <tr>\n",
       "      <th>4</th>\n",
       "      <td>41</td>\n",
       "      <td>37</td>\n",
       "      <td>100.0</td>\n",
       "      <td>57.142857</td>\n",
       "      <td>42.857143</td>\n",
       "      <td>81.603007</td>\n",
       "      <td>76.455495</td>\n",
       "      <td>14.90</td>\n",
       "      <td>11.92</td>\n",
       "      <td>14.25</td>\n",
       "      <td>...</td>\n",
       "      <td>-79.8</td>\n",
       "      <td>-86</td>\n",
       "      <td>-186</td>\n",
       "      <td>-388</td>\n",
       "      <td>1.0</td>\n",
       "      <td>0.747204</td>\n",
       "      <td>0.700522</td>\n",
       "      <td>-15.179065</td>\n",
       "      <td>-35.727079</td>\n",
       "      <td>-37.103503</td>\n",
       "    </tr>\n",
       "  </tbody>\n",
       "</table>\n",
       "<p>5 rows × 136 columns</p>\n",
       "</div>"
      ],
      "text/plain": [
       "   ind_5  ind_6  ind_8      ind_9     ind_10     ind_12     ind_13  ind_14  \\\n",
       "0     19     17  100.0  85.714286  14.285714  72.363515  60.808814   23.80   \n",
       "1     24     19  100.0  78.571429  21.428571  74.275883  64.366798   11.45   \n",
       "2     30     24  100.0  71.428571  28.571429  75.140402  65.915803    8.75   \n",
       "3     37     30  100.0  64.285714  35.714286  76.677846  68.584234    7.80   \n",
       "4     41     37  100.0  57.142857  42.857143  81.603007  76.455495   14.90   \n",
       "\n",
       "   ind_15  ind_16    ...      ind_416  ind_418  ind_420  ind_422  ind_424  \\\n",
       "0   17.62   11.73    ...        -49.6      -54     -152     -353      1.0   \n",
       "1   18.16   12.22    ...        -55.6      -60     -158     -359      1.0   \n",
       "2   17.86   12.28    ...        -58.4      -60     -160     -362      1.0   \n",
       "3   14.76   12.61    ...        -61.8      -65     -166     -367      1.0   \n",
       "4   11.92   14.25    ...        -79.8      -86     -186     -388      1.0   \n",
       "\n",
       "    ind_426   ind_428  20_target  50_target  90_target  \n",
       "0  0.498547  0.701906  15.135802  35.625252  36.997753  \n",
       "1  0.537088  0.690833  15.143348  35.643013  37.016198  \n",
       "2  0.615169  0.693040  15.146870  35.651301 -37.024805  \n",
       "3  0.661517  0.673418  15.153283   0.000000 -37.040483  \n",
       "4  0.747204  0.700522 -15.179065 -35.727079 -37.103503  \n",
       "\n",
       "[5 rows x 136 columns]"
      ]
     },
     "execution_count": 4,
     "metadata": {},
     "output_type": "execute_result"
    }
   ],
   "source": [
    "data = pd.read_excel(\"HW_Data_Set.xlsx\")\n",
    "data.head()"
   ]
  },
  {
   "cell_type": "markdown",
   "metadata": {},
   "source": [
    "Burada 20_target, 50_target ve 90_target olmak üzere 3 farklı hedef değişkenimiz bulunuyor. Burada 133 değişken üzerinde analiz yapıp, target verilerini ne kadar etkidiğini bulmaya çalışıyoruz."
   ]
  },
  {
   "cell_type": "markdown",
   "metadata": {},
   "source": [
    "# 1. Data Exploration"
   ]
  },
  {
   "cell_type": "markdown",
   "metadata": {},
   "source": [
    "### 1.1. Veri Özetleme"
   ]
  },
  {
   "cell_type": "code",
   "execution_count": 5,
   "metadata": {},
   "outputs": [
    {
     "data": {
      "text/plain": [
       "(6167, 136)"
      ]
     },
     "execution_count": 5,
     "metadata": {},
     "output_type": "execute_result"
    }
   ],
   "source": [
    "data.shape"
   ]
  },
  {
   "cell_type": "code",
   "execution_count": 6,
   "metadata": {
    "scrolled": false
   },
   "outputs": [
    {
     "data": {
      "text/html": [
       "<div>\n",
       "<style scoped>\n",
       "    .dataframe tbody tr th:only-of-type {\n",
       "        vertical-align: middle;\n",
       "    }\n",
       "\n",
       "    .dataframe tbody tr th {\n",
       "        vertical-align: top;\n",
       "    }\n",
       "\n",
       "    .dataframe thead th {\n",
       "        text-align: right;\n",
       "    }\n",
       "</style>\n",
       "<table border=\"1\" class=\"dataframe\">\n",
       "  <thead>\n",
       "    <tr style=\"text-align: right;\">\n",
       "      <th></th>\n",
       "      <th>ind_5</th>\n",
       "      <th>ind_6</th>\n",
       "      <th>ind_8</th>\n",
       "      <th>ind_9</th>\n",
       "      <th>ind_10</th>\n",
       "      <th>ind_12</th>\n",
       "      <th>ind_13</th>\n",
       "      <th>ind_14</th>\n",
       "      <th>ind_15</th>\n",
       "      <th>ind_16</th>\n",
       "      <th>...</th>\n",
       "      <th>ind_412</th>\n",
       "      <th>ind_414</th>\n",
       "      <th>ind_416</th>\n",
       "      <th>ind_418</th>\n",
       "      <th>ind_424</th>\n",
       "      <th>ind_426</th>\n",
       "      <th>ind_428</th>\n",
       "      <th>20_target</th>\n",
       "      <th>50_target</th>\n",
       "      <th>90_target</th>\n",
       "    </tr>\n",
       "  </thead>\n",
       "  <tbody>\n",
       "    <tr>\n",
       "      <th>count</th>\n",
       "      <td>6167.000000</td>\n",
       "      <td>6167.000000</td>\n",
       "      <td>6167.000000</td>\n",
       "      <td>6167.000000</td>\n",
       "      <td>6167.000000</td>\n",
       "      <td>6167.000000</td>\n",
       "      <td>6167.000000</td>\n",
       "      <td>6167.000000</td>\n",
       "      <td>6167.000000</td>\n",
       "      <td>6167.000000</td>\n",
       "      <td>...</td>\n",
       "      <td>6167.000000</td>\n",
       "      <td>6167.000000</td>\n",
       "      <td>6167.000000</td>\n",
       "      <td>6167.000000</td>\n",
       "      <td>6167.000000</td>\n",
       "      <td>6167.000000</td>\n",
       "      <td>6167.000000</td>\n",
       "      <td>6167.000000</td>\n",
       "      <td>6167.000000</td>\n",
       "      <td>6167.000000</td>\n",
       "    </tr>\n",
       "    <tr>\n",
       "      <th>mean</th>\n",
       "      <td>-0.803146</td>\n",
       "      <td>-0.803470</td>\n",
       "      <td>48.388890</td>\n",
       "      <td>48.289282</td>\n",
       "      <td>0.099609</td>\n",
       "      <td>49.488867</td>\n",
       "      <td>-18.497518</td>\n",
       "      <td>11.771485</td>\n",
       "      <td>11.773550</td>\n",
       "      <td>11.773392</td>\n",
       "      <td>...</td>\n",
       "      <td>0.000224</td>\n",
       "      <td>28.529204</td>\n",
       "      <td>-8.554792</td>\n",
       "      <td>-28.166694</td>\n",
       "      <td>0.490297</td>\n",
       "      <td>0.498188</td>\n",
       "      <td>0.490174</td>\n",
       "      <td>-0.057102</td>\n",
       "      <td>-2.906358</td>\n",
       "      <td>-3.315072</td>\n",
       "    </tr>\n",
       "    <tr>\n",
       "      <th>std</th>\n",
       "      <td>23.624403</td>\n",
       "      <td>23.624144</td>\n",
       "      <td>36.388526</td>\n",
       "      <td>36.478009</td>\n",
       "      <td>60.414625</td>\n",
       "      <td>12.198722</td>\n",
       "      <td>68.281120</td>\n",
       "      <td>6.803997</td>\n",
       "      <td>5.786089</td>\n",
       "      <td>4.970499</td>\n",
       "      <td>...</td>\n",
       "      <td>0.005660</td>\n",
       "      <td>26.316896</td>\n",
       "      <td>16.100087</td>\n",
       "      <td>23.271524</td>\n",
       "      <td>0.425376</td>\n",
       "      <td>0.228547</td>\n",
       "      <td>0.150483</td>\n",
       "      <td>14.834497</td>\n",
       "      <td>34.559778</td>\n",
       "      <td>36.841541</td>\n",
       "    </tr>\n",
       "    <tr>\n",
       "      <th>min</th>\n",
       "      <td>-131.000000</td>\n",
       "      <td>-131.000000</td>\n",
       "      <td>0.000000</td>\n",
       "      <td>0.000000</td>\n",
       "      <td>-100.000000</td>\n",
       "      <td>12.134540</td>\n",
       "      <td>-625.093855</td>\n",
       "      <td>1.050000</td>\n",
       "      <td>1.660000</td>\n",
       "      <td>2.580000</td>\n",
       "      <td>...</td>\n",
       "      <td>-0.023790</td>\n",
       "      <td>0.000000</td>\n",
       "      <td>-103.800000</td>\n",
       "      <td>-188.000000</td>\n",
       "      <td>0.000000</td>\n",
       "      <td>0.000000</td>\n",
       "      <td>0.083530</td>\n",
       "      <td>-15.780588</td>\n",
       "      <td>-37.142889</td>\n",
       "      <td>-38.573858</td>\n",
       "    </tr>\n",
       "    <tr>\n",
       "      <th>25%</th>\n",
       "      <td>-14.000000</td>\n",
       "      <td>-14.000000</td>\n",
       "      <td>14.285714</td>\n",
       "      <td>14.285714</td>\n",
       "      <td>-50.000000</td>\n",
       "      <td>40.868503</td>\n",
       "      <td>-45.687212</td>\n",
       "      <td>6.850000</td>\n",
       "      <td>7.260000</td>\n",
       "      <td>7.635000</td>\n",
       "      <td>...</td>\n",
       "      <td>-0.003230</td>\n",
       "      <td>10.700000</td>\n",
       "      <td>-11.700000</td>\n",
       "      <td>-39.000000</td>\n",
       "      <td>0.000000</td>\n",
       "      <td>0.323783</td>\n",
       "      <td>0.379894</td>\n",
       "      <td>-15.350354</td>\n",
       "      <td>-36.208094</td>\n",
       "      <td>-37.695273</td>\n",
       "    </tr>\n",
       "    <tr>\n",
       "      <th>50%</th>\n",
       "      <td>0.000000</td>\n",
       "      <td>0.000000</td>\n",
       "      <td>50.000000</td>\n",
       "      <td>50.000000</td>\n",
       "      <td>0.000000</td>\n",
       "      <td>49.549766</td>\n",
       "      <td>-2.817298</td>\n",
       "      <td>10.550000</td>\n",
       "      <td>11.040000</td>\n",
       "      <td>11.270000</td>\n",
       "      <td>...</td>\n",
       "      <td>-0.000053</td>\n",
       "      <td>21.300000</td>\n",
       "      <td>0.000000</td>\n",
       "      <td>-22.000000</td>\n",
       "      <td>0.473684</td>\n",
       "      <td>0.495192</td>\n",
       "      <td>0.487078</td>\n",
       "      <td>0.000000</td>\n",
       "      <td>-34.267756</td>\n",
       "      <td>-35.788391</td>\n",
       "    </tr>\n",
       "    <tr>\n",
       "      <th>75%</th>\n",
       "      <td>13.000000</td>\n",
       "      <td>13.000000</td>\n",
       "      <td>85.714286</td>\n",
       "      <td>85.714286</td>\n",
       "      <td>57.142857</td>\n",
       "      <td>58.504375</td>\n",
       "      <td>28.072613</td>\n",
       "      <td>14.950000</td>\n",
       "      <td>15.040000</td>\n",
       "      <td>14.960000</td>\n",
       "      <td>...</td>\n",
       "      <td>0.003414</td>\n",
       "      <td>38.400000</td>\n",
       "      <td>0.000000</td>\n",
       "      <td>-11.000000</td>\n",
       "      <td>1.000000</td>\n",
       "      <td>0.675730</td>\n",
       "      <td>0.601508</td>\n",
       "      <td>15.385945</td>\n",
       "      <td>35.879524</td>\n",
       "      <td>37.521892</td>\n",
       "    </tr>\n",
       "    <tr>\n",
       "      <th>max</th>\n",
       "      <td>76.000000</td>\n",
       "      <td>76.000000</td>\n",
       "      <td>100.000000</td>\n",
       "      <td>100.000000</td>\n",
       "      <td>100.000000</td>\n",
       "      <td>84.821848</td>\n",
       "      <td>81.105847</td>\n",
       "      <td>82.900000</td>\n",
       "      <td>54.240000</td>\n",
       "      <td>37.050000</td>\n",
       "      <td>...</td>\n",
       "      <td>0.023340</td>\n",
       "      <td>281.800000</td>\n",
       "      <td>0.000000</td>\n",
       "      <td>0.000000</td>\n",
       "      <td>1.000000</td>\n",
       "      <td>1.000000</td>\n",
       "      <td>0.868534</td>\n",
       "      <td>15.768767</td>\n",
       "      <td>37.038694</td>\n",
       "      <td>38.465649</td>\n",
       "    </tr>\n",
       "    <tr>\n",
       "      <th>variance</th>\n",
       "      <td>558.112000</td>\n",
       "      <td>558.100000</td>\n",
       "      <td>1324.125000</td>\n",
       "      <td>1330.645000</td>\n",
       "      <td>3649.927000</td>\n",
       "      <td>148.809000</td>\n",
       "      <td>4662.311000</td>\n",
       "      <td>46.294000</td>\n",
       "      <td>33.479000</td>\n",
       "      <td>24.706000</td>\n",
       "      <td>...</td>\n",
       "      <td>0.000000</td>\n",
       "      <td>692.579000</td>\n",
       "      <td>259.213000</td>\n",
       "      <td>541.564000</td>\n",
       "      <td>0.181000</td>\n",
       "      <td>0.052000</td>\n",
       "      <td>0.023000</td>\n",
       "      <td>220.062000</td>\n",
       "      <td>1194.378000</td>\n",
       "      <td>1357.299000</td>\n",
       "    </tr>\n",
       "    <tr>\n",
       "      <th>null_values</th>\n",
       "      <td>0.000000</td>\n",
       "      <td>0.000000</td>\n",
       "      <td>0.000000</td>\n",
       "      <td>0.000000</td>\n",
       "      <td>0.000000</td>\n",
       "      <td>0.000000</td>\n",
       "      <td>0.000000</td>\n",
       "      <td>0.000000</td>\n",
       "      <td>0.000000</td>\n",
       "      <td>0.000000</td>\n",
       "      <td>...</td>\n",
       "      <td>0.000000</td>\n",
       "      <td>0.000000</td>\n",
       "      <td>0.000000</td>\n",
       "      <td>0.000000</td>\n",
       "      <td>0.000000</td>\n",
       "      <td>0.000000</td>\n",
       "      <td>0.000000</td>\n",
       "      <td>0.000000</td>\n",
       "      <td>0.000000</td>\n",
       "      <td>0.000000</td>\n",
       "    </tr>\n",
       "    <tr>\n",
       "      <th>null__rate</th>\n",
       "      <td>0.000000</td>\n",
       "      <td>0.000000</td>\n",
       "      <td>0.000000</td>\n",
       "      <td>0.000000</td>\n",
       "      <td>0.000000</td>\n",
       "      <td>0.000000</td>\n",
       "      <td>0.000000</td>\n",
       "      <td>0.000000</td>\n",
       "      <td>0.000000</td>\n",
       "      <td>0.000000</td>\n",
       "      <td>...</td>\n",
       "      <td>0.000000</td>\n",
       "      <td>0.000000</td>\n",
       "      <td>0.000000</td>\n",
       "      <td>0.000000</td>\n",
       "      <td>0.000000</td>\n",
       "      <td>0.000000</td>\n",
       "      <td>0.000000</td>\n",
       "      <td>0.000000</td>\n",
       "      <td>0.000000</td>\n",
       "      <td>0.000000</td>\n",
       "    </tr>\n",
       "  </tbody>\n",
       "</table>\n",
       "<p>11 rows × 133 columns</p>\n",
       "</div>"
      ],
      "text/plain": [
       "                   ind_5        ind_6        ind_8        ind_9       ind_10  \\\n",
       "count        6167.000000  6167.000000  6167.000000  6167.000000  6167.000000   \n",
       "mean           -0.803146    -0.803470    48.388890    48.289282     0.099609   \n",
       "std            23.624403    23.624144    36.388526    36.478009    60.414625   \n",
       "min          -131.000000  -131.000000     0.000000     0.000000  -100.000000   \n",
       "25%           -14.000000   -14.000000    14.285714    14.285714   -50.000000   \n",
       "50%             0.000000     0.000000    50.000000    50.000000     0.000000   \n",
       "75%            13.000000    13.000000    85.714286    85.714286    57.142857   \n",
       "max            76.000000    76.000000   100.000000   100.000000   100.000000   \n",
       "variance      558.112000   558.100000  1324.125000  1330.645000  3649.927000   \n",
       "null_values     0.000000     0.000000     0.000000     0.000000     0.000000   \n",
       "null__rate      0.000000     0.000000     0.000000     0.000000     0.000000   \n",
       "\n",
       "                  ind_12       ind_13       ind_14       ind_15       ind_16  \\\n",
       "count        6167.000000  6167.000000  6167.000000  6167.000000  6167.000000   \n",
       "mean           49.488867   -18.497518    11.771485    11.773550    11.773392   \n",
       "std            12.198722    68.281120     6.803997     5.786089     4.970499   \n",
       "min            12.134540  -625.093855     1.050000     1.660000     2.580000   \n",
       "25%            40.868503   -45.687212     6.850000     7.260000     7.635000   \n",
       "50%            49.549766    -2.817298    10.550000    11.040000    11.270000   \n",
       "75%            58.504375    28.072613    14.950000    15.040000    14.960000   \n",
       "max            84.821848    81.105847    82.900000    54.240000    37.050000   \n",
       "variance      148.809000  4662.311000    46.294000    33.479000    24.706000   \n",
       "null_values     0.000000     0.000000     0.000000     0.000000     0.000000   \n",
       "null__rate      0.000000     0.000000     0.000000     0.000000     0.000000   \n",
       "\n",
       "                ...           ind_412      ind_414      ind_416      ind_418  \\\n",
       "count           ...       6167.000000  6167.000000  6167.000000  6167.000000   \n",
       "mean            ...          0.000224    28.529204    -8.554792   -28.166694   \n",
       "std             ...          0.005660    26.316896    16.100087    23.271524   \n",
       "min             ...         -0.023790     0.000000  -103.800000  -188.000000   \n",
       "25%             ...         -0.003230    10.700000   -11.700000   -39.000000   \n",
       "50%             ...         -0.000053    21.300000     0.000000   -22.000000   \n",
       "75%             ...          0.003414    38.400000     0.000000   -11.000000   \n",
       "max             ...          0.023340   281.800000     0.000000     0.000000   \n",
       "variance        ...          0.000000   692.579000   259.213000   541.564000   \n",
       "null_values     ...          0.000000     0.000000     0.000000     0.000000   \n",
       "null__rate      ...          0.000000     0.000000     0.000000     0.000000   \n",
       "\n",
       "                 ind_424      ind_426      ind_428    20_target    50_target  \\\n",
       "count        6167.000000  6167.000000  6167.000000  6167.000000  6167.000000   \n",
       "mean            0.490297     0.498188     0.490174    -0.057102    -2.906358   \n",
       "std             0.425376     0.228547     0.150483    14.834497    34.559778   \n",
       "min             0.000000     0.000000     0.083530   -15.780588   -37.142889   \n",
       "25%             0.000000     0.323783     0.379894   -15.350354   -36.208094   \n",
       "50%             0.473684     0.495192     0.487078     0.000000   -34.267756   \n",
       "75%             1.000000     0.675730     0.601508    15.385945    35.879524   \n",
       "max             1.000000     1.000000     0.868534    15.768767    37.038694   \n",
       "variance        0.181000     0.052000     0.023000   220.062000  1194.378000   \n",
       "null_values     0.000000     0.000000     0.000000     0.000000     0.000000   \n",
       "null__rate      0.000000     0.000000     0.000000     0.000000     0.000000   \n",
       "\n",
       "               90_target  \n",
       "count        6167.000000  \n",
       "mean           -3.315072  \n",
       "std            36.841541  \n",
       "min           -38.573858  \n",
       "25%           -37.695273  \n",
       "50%           -35.788391  \n",
       "75%            37.521892  \n",
       "max            38.465649  \n",
       "variance     1357.299000  \n",
       "null_values     0.000000  \n",
       "null__rate      0.000000  \n",
       "\n",
       "[11 rows x 133 columns]"
      ]
     },
     "execution_count": 6,
     "metadata": {},
     "output_type": "execute_result"
    }
   ],
   "source": [
    "desc_df = data.describe().T\n",
    "null_count = data.isnull().sum()\n",
    "null_percent = (data.isnull().sum() / data.count())*100\n",
    "variance = data.var()\n",
    "\n",
    "desc_df[\"variance\"] =  round(variance,3)\n",
    "desc_df[\"null_values\"] = round(null_count,3)\n",
    "desc_df[\"null__rate\"] = round(null_percent,3)\n",
    "desc_df.T"
   ]
  },
  {
   "cell_type": "markdown",
   "metadata": {},
   "source": [
    "### 1.2. Numerik ve Kategorik Öznitelikler"
   ]
  },
  {
   "cell_type": "code",
   "execution_count": 7,
   "metadata": {},
   "outputs": [
    {
     "name": "stdout",
     "output_type": "stream",
     "text": [
      "Numeric Column  :\n",
      " ['ind_5', 'ind_6', 'ind_8', 'ind_9', 'ind_10', 'ind_12', 'ind_13', 'ind_14', 'ind_15', 'ind_16', 'ind_17', 'ind_18', 'ind_19', 'ind_20', 'ind_21', 'ind_22', 'ind_23', 'ind_25', 'ind_26', 'ind_27', 'ind_28', 'ind_29', 'ind_30', 'ind_31', 'ind_32', 'ind_33', 'ind_34', 'ind_35', 'ind_36', 'ind_37', 'ind_39', 'ind_40', 'ind_41', 'ind_42', 'ind_43', 'ind_44', 'ind_45', 'ind_46', 'ind_47', 'ind_48', 'ind_49', 'ind_50', 'ind_51', 'ind_52', 'ind_53', 'ind_56', 'ind_58', 'ind_61', 'ind_62', 'ind_65', 'ind_67', 'ind_70', 'ind_71', 'ind_74', 'ind_77', 'ind_82', 'ind_83', 'ind_88', 'ind_92', 'ind_102', 'ind_116', 'ind_118', 'ind_122', 'ind_124', 'ind_128', 'ind_130', 'ind_132', 'ind_134', 'ind_136', 'ind_139', 'ind_142', 'ind_145', 'ind_147', 'ind_150', 'ind_153', 'ind_156', 'ind_164', 'ind_168', 'ind_172', 'ind_176', 'ind_179', 'ind_181', 'ind_188', 'ind_194', 'ind_212', 'ind_217', 'ind_225', 'ind_228', 'ind_234', 'ind_237', 'ind_239', 'ind_241', 'ind_243', 'ind_309', 'ind_310', 'ind_311', 'ind_313', 'ind_315', 'ind_316', 'ind_318', 'ind_321', 'ind_324', 'ind_327', 'ind_330', 'ind_332', 'ind_334', 'ind_338', 'ind_340', 'ind_344', 'ind_345', 'ind_347', 'ind_349', 'ind_351', 'ind_352', 'ind_387', 'ind_392', 'ind_397', 'ind_399', 'ind_403', 'ind_404', 'ind_406', 'ind_407', 'ind_410', 'ind_412', 'ind_414', 'ind_416', 'ind_418', 'ind_424', 'ind_426', 'ind_428', '20_target', '50_target', '90_target'] \n",
      "\n",
      "Categoric Column :\n",
      " ['ind_109', 'ind_420', 'ind_422']\n"
     ]
    }
   ],
   "source": [
    "num, cat = numeric_categoric_variable(data)"
   ]
  },
  {
   "cell_type": "markdown",
   "metadata": {},
   "source": [
    "Kategorik verilerde kaç farklı kategori mevcut olduğunu kontrol ediyoruz. ind_420 ve ind_422 özniteliklerde sırasıyla 582 ve 573 olmak üzere farklı kategori mevcut olduğu çıkıyor. Bu nedenle group by ile değerleri kontrol ettiğimizde tüm değerlerin numerik olduğunu ve \"?\" olarak girilen 1041 satır kirli veri olduğunu görüyoruz. Veri Temizleme işlemi uygulamamız gerekiyor."
   ]
  },
  {
   "cell_type": "code",
   "execution_count": 8,
   "metadata": {},
   "outputs": [
    {
     "name": "stdout",
     "output_type": "stream",
     "text": [
      "ind_109 :  2\n",
      "ind_420 :  582\n",
      "ind_422 :  573\n"
     ]
    }
   ],
   "source": [
    "for i in data.select_dtypes(include=[\"object\"]).columns:\n",
    "    print(i,\": \",data[i].value_counts().count())"
   ]
  },
  {
   "cell_type": "code",
   "execution_count": 9,
   "metadata": {
    "scrolled": false
   },
   "outputs": [
    {
     "data": {
      "text/html": [
       "<div>\n",
       "<style scoped>\n",
       "    .dataframe tbody tr th:only-of-type {\n",
       "        vertical-align: middle;\n",
       "    }\n",
       "\n",
       "    .dataframe tbody tr th {\n",
       "        vertical-align: top;\n",
       "    }\n",
       "\n",
       "    .dataframe thead th {\n",
       "        text-align: right;\n",
       "    }\n",
       "</style>\n",
       "<table border=\"1\" class=\"dataframe\">\n",
       "  <thead>\n",
       "    <tr style=\"text-align: right;\">\n",
       "      <th></th>\n",
       "      <th>ind_5</th>\n",
       "      <th>ind_6</th>\n",
       "      <th>ind_8</th>\n",
       "      <th>ind_9</th>\n",
       "      <th>ind_10</th>\n",
       "      <th>ind_12</th>\n",
       "      <th>ind_13</th>\n",
       "      <th>ind_14</th>\n",
       "      <th>ind_15</th>\n",
       "      <th>ind_16</th>\n",
       "      <th>...</th>\n",
       "      <th>ind_414</th>\n",
       "      <th>ind_416</th>\n",
       "      <th>ind_418</th>\n",
       "      <th>ind_422</th>\n",
       "      <th>ind_424</th>\n",
       "      <th>ind_426</th>\n",
       "      <th>ind_428</th>\n",
       "      <th>20_target</th>\n",
       "      <th>50_target</th>\n",
       "      <th>90_target</th>\n",
       "    </tr>\n",
       "    <tr>\n",
       "      <th>ind_420</th>\n",
       "      <th></th>\n",
       "      <th></th>\n",
       "      <th></th>\n",
       "      <th></th>\n",
       "      <th></th>\n",
       "      <th></th>\n",
       "      <th></th>\n",
       "      <th></th>\n",
       "      <th></th>\n",
       "      <th></th>\n",
       "      <th></th>\n",
       "      <th></th>\n",
       "      <th></th>\n",
       "      <th></th>\n",
       "      <th></th>\n",
       "      <th></th>\n",
       "      <th></th>\n",
       "      <th></th>\n",
       "      <th></th>\n",
       "      <th></th>\n",
       "      <th></th>\n",
       "    </tr>\n",
       "  </thead>\n",
       "  <tbody>\n",
       "    <tr>\n",
       "      <th>288</th>\n",
       "      <td>1</td>\n",
       "      <td>1</td>\n",
       "      <td>1</td>\n",
       "      <td>1</td>\n",
       "      <td>1</td>\n",
       "      <td>1</td>\n",
       "      <td>1</td>\n",
       "      <td>1</td>\n",
       "      <td>1</td>\n",
       "      <td>1</td>\n",
       "      <td>...</td>\n",
       "      <td>1</td>\n",
       "      <td>1</td>\n",
       "      <td>1</td>\n",
       "      <td>1</td>\n",
       "      <td>1</td>\n",
       "      <td>1</td>\n",
       "      <td>1</td>\n",
       "      <td>1</td>\n",
       "      <td>1</td>\n",
       "      <td>1</td>\n",
       "    </tr>\n",
       "    <tr>\n",
       "      <th>290</th>\n",
       "      <td>1</td>\n",
       "      <td>1</td>\n",
       "      <td>1</td>\n",
       "      <td>1</td>\n",
       "      <td>1</td>\n",
       "      <td>1</td>\n",
       "      <td>1</td>\n",
       "      <td>1</td>\n",
       "      <td>1</td>\n",
       "      <td>1</td>\n",
       "      <td>...</td>\n",
       "      <td>1</td>\n",
       "      <td>1</td>\n",
       "      <td>1</td>\n",
       "      <td>1</td>\n",
       "      <td>1</td>\n",
       "      <td>1</td>\n",
       "      <td>1</td>\n",
       "      <td>1</td>\n",
       "      <td>1</td>\n",
       "      <td>1</td>\n",
       "    </tr>\n",
       "    <tr>\n",
       "      <th>291</th>\n",
       "      <td>1</td>\n",
       "      <td>1</td>\n",
       "      <td>1</td>\n",
       "      <td>1</td>\n",
       "      <td>1</td>\n",
       "      <td>1</td>\n",
       "      <td>1</td>\n",
       "      <td>1</td>\n",
       "      <td>1</td>\n",
       "      <td>1</td>\n",
       "      <td>...</td>\n",
       "      <td>1</td>\n",
       "      <td>1</td>\n",
       "      <td>1</td>\n",
       "      <td>1</td>\n",
       "      <td>1</td>\n",
       "      <td>1</td>\n",
       "      <td>1</td>\n",
       "      <td>1</td>\n",
       "      <td>1</td>\n",
       "      <td>1</td>\n",
       "    </tr>\n",
       "    <tr>\n",
       "      <th>297</th>\n",
       "      <td>1</td>\n",
       "      <td>1</td>\n",
       "      <td>1</td>\n",
       "      <td>1</td>\n",
       "      <td>1</td>\n",
       "      <td>1</td>\n",
       "      <td>1</td>\n",
       "      <td>1</td>\n",
       "      <td>1</td>\n",
       "      <td>1</td>\n",
       "      <td>...</td>\n",
       "      <td>1</td>\n",
       "      <td>1</td>\n",
       "      <td>1</td>\n",
       "      <td>1</td>\n",
       "      <td>1</td>\n",
       "      <td>1</td>\n",
       "      <td>1</td>\n",
       "      <td>1</td>\n",
       "      <td>1</td>\n",
       "      <td>1</td>\n",
       "    </tr>\n",
       "    <tr>\n",
       "      <th>?</th>\n",
       "      <td>1041</td>\n",
       "      <td>1041</td>\n",
       "      <td>1041</td>\n",
       "      <td>1041</td>\n",
       "      <td>1041</td>\n",
       "      <td>1041</td>\n",
       "      <td>1041</td>\n",
       "      <td>1041</td>\n",
       "      <td>1041</td>\n",
       "      <td>1041</td>\n",
       "      <td>...</td>\n",
       "      <td>1041</td>\n",
       "      <td>1041</td>\n",
       "      <td>1041</td>\n",
       "      <td>1041</td>\n",
       "      <td>1041</td>\n",
       "      <td>1041</td>\n",
       "      <td>1041</td>\n",
       "      <td>1041</td>\n",
       "      <td>1041</td>\n",
       "      <td>1041</td>\n",
       "    </tr>\n",
       "  </tbody>\n",
       "</table>\n",
       "<p>5 rows × 135 columns</p>\n",
       "</div>"
      ],
      "text/plain": [
       "         ind_5  ind_6  ind_8  ind_9  ind_10  ind_12  ind_13  ind_14  ind_15  \\\n",
       "ind_420                                                                       \n",
       "288          1      1      1      1       1       1       1       1       1   \n",
       "290          1      1      1      1       1       1       1       1       1   \n",
       "291          1      1      1      1       1       1       1       1       1   \n",
       "297          1      1      1      1       1       1       1       1       1   \n",
       "?         1041   1041   1041   1041    1041    1041    1041    1041    1041   \n",
       "\n",
       "         ind_16    ...      ind_414  ind_416  ind_418  ind_422  ind_424  \\\n",
       "ind_420            ...                                                    \n",
       "288           1    ...            1        1        1        1        1   \n",
       "290           1    ...            1        1        1        1        1   \n",
       "291           1    ...            1        1        1        1        1   \n",
       "297           1    ...            1        1        1        1        1   \n",
       "?          1041    ...         1041     1041     1041     1041     1041   \n",
       "\n",
       "         ind_426  ind_428  20_target  50_target  90_target  \n",
       "ind_420                                                     \n",
       "288            1        1          1          1          1  \n",
       "290            1        1          1          1          1  \n",
       "291            1        1          1          1          1  \n",
       "297            1        1          1          1          1  \n",
       "?           1041     1041       1041       1041       1041  \n",
       "\n",
       "[5 rows x 135 columns]"
      ]
     },
     "execution_count": 9,
     "metadata": {},
     "output_type": "execute_result"
    }
   ],
   "source": [
    "data.groupby(\"ind_420\").count().tail(5)"
   ]
  },
  {
   "cell_type": "code",
   "execution_count": 10,
   "metadata": {
    "scrolled": false
   },
   "outputs": [
    {
     "data": {
      "text/html": [
       "<div>\n",
       "<style scoped>\n",
       "    .dataframe tbody tr th:only-of-type {\n",
       "        vertical-align: middle;\n",
       "    }\n",
       "\n",
       "    .dataframe tbody tr th {\n",
       "        vertical-align: top;\n",
       "    }\n",
       "\n",
       "    .dataframe thead th {\n",
       "        text-align: right;\n",
       "    }\n",
       "</style>\n",
       "<table border=\"1\" class=\"dataframe\">\n",
       "  <thead>\n",
       "    <tr style=\"text-align: right;\">\n",
       "      <th></th>\n",
       "      <th>ind_5</th>\n",
       "      <th>ind_6</th>\n",
       "      <th>ind_8</th>\n",
       "      <th>ind_9</th>\n",
       "      <th>ind_10</th>\n",
       "      <th>ind_12</th>\n",
       "      <th>ind_13</th>\n",
       "      <th>ind_14</th>\n",
       "      <th>ind_15</th>\n",
       "      <th>ind_16</th>\n",
       "      <th>...</th>\n",
       "      <th>ind_414</th>\n",
       "      <th>ind_416</th>\n",
       "      <th>ind_418</th>\n",
       "      <th>ind_420</th>\n",
       "      <th>ind_424</th>\n",
       "      <th>ind_426</th>\n",
       "      <th>ind_428</th>\n",
       "      <th>20_target</th>\n",
       "      <th>50_target</th>\n",
       "      <th>90_target</th>\n",
       "    </tr>\n",
       "    <tr>\n",
       "      <th>ind_422</th>\n",
       "      <th></th>\n",
       "      <th></th>\n",
       "      <th></th>\n",
       "      <th></th>\n",
       "      <th></th>\n",
       "      <th></th>\n",
       "      <th></th>\n",
       "      <th></th>\n",
       "      <th></th>\n",
       "      <th></th>\n",
       "      <th></th>\n",
       "      <th></th>\n",
       "      <th></th>\n",
       "      <th></th>\n",
       "      <th></th>\n",
       "      <th></th>\n",
       "      <th></th>\n",
       "      <th></th>\n",
       "      <th></th>\n",
       "      <th></th>\n",
       "      <th></th>\n",
       "    </tr>\n",
       "  </thead>\n",
       "  <tbody>\n",
       "    <tr>\n",
       "      <th>117</th>\n",
       "      <td>1</td>\n",
       "      <td>1</td>\n",
       "      <td>1</td>\n",
       "      <td>1</td>\n",
       "      <td>1</td>\n",
       "      <td>1</td>\n",
       "      <td>1</td>\n",
       "      <td>1</td>\n",
       "      <td>1</td>\n",
       "      <td>1</td>\n",
       "      <td>...</td>\n",
       "      <td>1</td>\n",
       "      <td>1</td>\n",
       "      <td>1</td>\n",
       "      <td>1</td>\n",
       "      <td>1</td>\n",
       "      <td>1</td>\n",
       "      <td>1</td>\n",
       "      <td>1</td>\n",
       "      <td>1</td>\n",
       "      <td>1</td>\n",
       "    </tr>\n",
       "    <tr>\n",
       "      <th>118</th>\n",
       "      <td>2</td>\n",
       "      <td>2</td>\n",
       "      <td>2</td>\n",
       "      <td>2</td>\n",
       "      <td>2</td>\n",
       "      <td>2</td>\n",
       "      <td>2</td>\n",
       "      <td>2</td>\n",
       "      <td>2</td>\n",
       "      <td>2</td>\n",
       "      <td>...</td>\n",
       "      <td>2</td>\n",
       "      <td>2</td>\n",
       "      <td>2</td>\n",
       "      <td>2</td>\n",
       "      <td>2</td>\n",
       "      <td>2</td>\n",
       "      <td>2</td>\n",
       "      <td>2</td>\n",
       "      <td>2</td>\n",
       "      <td>2</td>\n",
       "    </tr>\n",
       "    <tr>\n",
       "      <th>119</th>\n",
       "      <td>5</td>\n",
       "      <td>5</td>\n",
       "      <td>5</td>\n",
       "      <td>5</td>\n",
       "      <td>5</td>\n",
       "      <td>5</td>\n",
       "      <td>5</td>\n",
       "      <td>5</td>\n",
       "      <td>5</td>\n",
       "      <td>5</td>\n",
       "      <td>...</td>\n",
       "      <td>5</td>\n",
       "      <td>5</td>\n",
       "      <td>5</td>\n",
       "      <td>5</td>\n",
       "      <td>5</td>\n",
       "      <td>5</td>\n",
       "      <td>5</td>\n",
       "      <td>5</td>\n",
       "      <td>5</td>\n",
       "      <td>5</td>\n",
       "    </tr>\n",
       "    <tr>\n",
       "      <th>124</th>\n",
       "      <td>2</td>\n",
       "      <td>2</td>\n",
       "      <td>2</td>\n",
       "      <td>2</td>\n",
       "      <td>2</td>\n",
       "      <td>2</td>\n",
       "      <td>2</td>\n",
       "      <td>2</td>\n",
       "      <td>2</td>\n",
       "      <td>2</td>\n",
       "      <td>...</td>\n",
       "      <td>2</td>\n",
       "      <td>2</td>\n",
       "      <td>2</td>\n",
       "      <td>2</td>\n",
       "      <td>2</td>\n",
       "      <td>2</td>\n",
       "      <td>2</td>\n",
       "      <td>2</td>\n",
       "      <td>2</td>\n",
       "      <td>2</td>\n",
       "    </tr>\n",
       "    <tr>\n",
       "      <th>?</th>\n",
       "      <td>1041</td>\n",
       "      <td>1041</td>\n",
       "      <td>1041</td>\n",
       "      <td>1041</td>\n",
       "      <td>1041</td>\n",
       "      <td>1041</td>\n",
       "      <td>1041</td>\n",
       "      <td>1041</td>\n",
       "      <td>1041</td>\n",
       "      <td>1041</td>\n",
       "      <td>...</td>\n",
       "      <td>1041</td>\n",
       "      <td>1041</td>\n",
       "      <td>1041</td>\n",
       "      <td>1041</td>\n",
       "      <td>1041</td>\n",
       "      <td>1041</td>\n",
       "      <td>1041</td>\n",
       "      <td>1041</td>\n",
       "      <td>1041</td>\n",
       "      <td>1041</td>\n",
       "    </tr>\n",
       "  </tbody>\n",
       "</table>\n",
       "<p>5 rows × 135 columns</p>\n",
       "</div>"
      ],
      "text/plain": [
       "         ind_5  ind_6  ind_8  ind_9  ind_10  ind_12  ind_13  ind_14  ind_15  \\\n",
       "ind_422                                                                       \n",
       "117          1      1      1      1       1       1       1       1       1   \n",
       "118          2      2      2      2       2       2       2       2       2   \n",
       "119          5      5      5      5       5       5       5       5       5   \n",
       "124          2      2      2      2       2       2       2       2       2   \n",
       "?         1041   1041   1041   1041    1041    1041    1041    1041    1041   \n",
       "\n",
       "         ind_16    ...      ind_414  ind_416  ind_418  ind_420  ind_424  \\\n",
       "ind_422            ...                                                    \n",
       "117           1    ...            1        1        1        1        1   \n",
       "118           2    ...            2        2        2        2        2   \n",
       "119           5    ...            5        5        5        5        5   \n",
       "124           2    ...            2        2        2        2        2   \n",
       "?          1041    ...         1041     1041     1041     1041     1041   \n",
       "\n",
       "         ind_426  ind_428  20_target  50_target  90_target  \n",
       "ind_422                                                     \n",
       "117            1        1          1          1          1  \n",
       "118            2        2          2          2          2  \n",
       "119            5        5          5          5          5  \n",
       "124            2        2          2          2          2  \n",
       "?           1041     1041       1041       1041       1041  \n",
       "\n",
       "[5 rows x 135 columns]"
      ]
     },
     "execution_count": 10,
     "metadata": {},
     "output_type": "execute_result"
    }
   ],
   "source": [
    "data.groupby(\"ind_422\").count().tail(5)"
   ]
  },
  {
   "cell_type": "markdown",
   "metadata": {},
   "source": [
    "# 2. Data Preprocessing"
   ]
  },
  {
   "cell_type": "markdown",
   "metadata": {},
   "source": [
    "### 2.1. Veri Temizleme (Replace with NULL)\n",
    "\n",
    "Burada ind_420 ve ind_422 özniteliklerinde \"?\" değerlerini NULL değerler ile değiştiriyoruz. Böylece bu iki öznitelik numerik değerlere dönüşüyor"
   ]
  },
  {
   "cell_type": "code",
   "execution_count": 11,
   "metadata": {},
   "outputs": [],
   "source": [
    "data[\"ind_420\"] = data[\"ind_420\"].replace(\"?\", np.nan)\n",
    "data[\"ind_422\"] = data[\"ind_422\"].replace(\"?\", np.nan)"
   ]
  },
  {
   "cell_type": "markdown",
   "metadata": {},
   "source": [
    "### 2.2. Veri Temizleme (Drop columns)\n",
    "\n",
    "Burada \"?\" değerleri içeren ind_420 ve ind_422 özniteliklerini verisetimizden siliyoruz."
   ]
  },
  {
   "cell_type": "code",
   "execution_count": 12,
   "metadata": {},
   "outputs": [
    {
     "data": {
      "text/html": [
       "<div>\n",
       "<style scoped>\n",
       "    .dataframe tbody tr th:only-of-type {\n",
       "        vertical-align: middle;\n",
       "    }\n",
       "\n",
       "    .dataframe tbody tr th {\n",
       "        vertical-align: top;\n",
       "    }\n",
       "\n",
       "    .dataframe thead th {\n",
       "        text-align: right;\n",
       "    }\n",
       "</style>\n",
       "<table border=\"1\" class=\"dataframe\">\n",
       "  <thead>\n",
       "    <tr style=\"text-align: right;\">\n",
       "      <th></th>\n",
       "      <th>ind_5</th>\n",
       "      <th>ind_6</th>\n",
       "      <th>ind_8</th>\n",
       "      <th>ind_9</th>\n",
       "      <th>ind_10</th>\n",
       "      <th>ind_12</th>\n",
       "      <th>ind_13</th>\n",
       "      <th>ind_14</th>\n",
       "      <th>ind_15</th>\n",
       "      <th>ind_16</th>\n",
       "      <th>...</th>\n",
       "      <th>ind_412</th>\n",
       "      <th>ind_414</th>\n",
       "      <th>ind_416</th>\n",
       "      <th>ind_418</th>\n",
       "      <th>ind_424</th>\n",
       "      <th>ind_426</th>\n",
       "      <th>ind_428</th>\n",
       "      <th>20_target</th>\n",
       "      <th>50_target</th>\n",
       "      <th>90_target</th>\n",
       "    </tr>\n",
       "  </thead>\n",
       "  <tbody>\n",
       "    <tr>\n",
       "      <th>0</th>\n",
       "      <td>19</td>\n",
       "      <td>17</td>\n",
       "      <td>100.0</td>\n",
       "      <td>85.714286</td>\n",
       "      <td>14.285714</td>\n",
       "      <td>72.363515</td>\n",
       "      <td>60.808814</td>\n",
       "      <td>23.80</td>\n",
       "      <td>17.62</td>\n",
       "      <td>11.73</td>\n",
       "      <td>...</td>\n",
       "      <td>0.002371</td>\n",
       "      <td>2.0</td>\n",
       "      <td>-49.6</td>\n",
       "      <td>-54</td>\n",
       "      <td>1.0</td>\n",
       "      <td>0.498547</td>\n",
       "      <td>0.701906</td>\n",
       "      <td>15.135802</td>\n",
       "      <td>35.625252</td>\n",
       "      <td>36.997753</td>\n",
       "    </tr>\n",
       "    <tr>\n",
       "      <th>1</th>\n",
       "      <td>24</td>\n",
       "      <td>19</td>\n",
       "      <td>100.0</td>\n",
       "      <td>78.571429</td>\n",
       "      <td>21.428571</td>\n",
       "      <td>74.275883</td>\n",
       "      <td>64.366798</td>\n",
       "      <td>11.45</td>\n",
       "      <td>18.16</td>\n",
       "      <td>12.22</td>\n",
       "      <td>...</td>\n",
       "      <td>0.003074</td>\n",
       "      <td>0.8</td>\n",
       "      <td>-55.6</td>\n",
       "      <td>-60</td>\n",
       "      <td>1.0</td>\n",
       "      <td>0.537088</td>\n",
       "      <td>0.690833</td>\n",
       "      <td>15.143348</td>\n",
       "      <td>35.643013</td>\n",
       "      <td>37.016198</td>\n",
       "    </tr>\n",
       "    <tr>\n",
       "      <th>2</th>\n",
       "      <td>30</td>\n",
       "      <td>24</td>\n",
       "      <td>100.0</td>\n",
       "      <td>71.428571</td>\n",
       "      <td>28.571429</td>\n",
       "      <td>75.140402</td>\n",
       "      <td>65.915803</td>\n",
       "      <td>8.75</td>\n",
       "      <td>17.86</td>\n",
       "      <td>12.28</td>\n",
       "      <td>...</td>\n",
       "      <td>0.003561</td>\n",
       "      <td>2.7</td>\n",
       "      <td>-58.4</td>\n",
       "      <td>-60</td>\n",
       "      <td>1.0</td>\n",
       "      <td>0.615169</td>\n",
       "      <td>0.693040</td>\n",
       "      <td>15.146870</td>\n",
       "      <td>35.651301</td>\n",
       "      <td>-37.024805</td>\n",
       "    </tr>\n",
       "    <tr>\n",
       "      <th>3</th>\n",
       "      <td>37</td>\n",
       "      <td>30</td>\n",
       "      <td>100.0</td>\n",
       "      <td>64.285714</td>\n",
       "      <td>35.714286</td>\n",
       "      <td>76.677846</td>\n",
       "      <td>68.584234</td>\n",
       "      <td>7.80</td>\n",
       "      <td>14.76</td>\n",
       "      <td>12.61</td>\n",
       "      <td>...</td>\n",
       "      <td>0.004366</td>\n",
       "      <td>0.9</td>\n",
       "      <td>-61.8</td>\n",
       "      <td>-65</td>\n",
       "      <td>1.0</td>\n",
       "      <td>0.661517</td>\n",
       "      <td>0.673418</td>\n",
       "      <td>15.153283</td>\n",
       "      <td>0.000000</td>\n",
       "      <td>-37.040483</td>\n",
       "    </tr>\n",
       "    <tr>\n",
       "      <th>4</th>\n",
       "      <td>41</td>\n",
       "      <td>37</td>\n",
       "      <td>100.0</td>\n",
       "      <td>57.142857</td>\n",
       "      <td>42.857143</td>\n",
       "      <td>81.603007</td>\n",
       "      <td>76.455495</td>\n",
       "      <td>14.90</td>\n",
       "      <td>11.92</td>\n",
       "      <td>14.25</td>\n",
       "      <td>...</td>\n",
       "      <td>0.004198</td>\n",
       "      <td>0.1</td>\n",
       "      <td>-79.8</td>\n",
       "      <td>-86</td>\n",
       "      <td>1.0</td>\n",
       "      <td>0.747204</td>\n",
       "      <td>0.700522</td>\n",
       "      <td>-15.179065</td>\n",
       "      <td>-35.727079</td>\n",
       "      <td>-37.103503</td>\n",
       "    </tr>\n",
       "  </tbody>\n",
       "</table>\n",
       "<p>5 rows × 134 columns</p>\n",
       "</div>"
      ],
      "text/plain": [
       "   ind_5  ind_6  ind_8      ind_9     ind_10     ind_12     ind_13  ind_14  \\\n",
       "0     19     17  100.0  85.714286  14.285714  72.363515  60.808814   23.80   \n",
       "1     24     19  100.0  78.571429  21.428571  74.275883  64.366798   11.45   \n",
       "2     30     24  100.0  71.428571  28.571429  75.140402  65.915803    8.75   \n",
       "3     37     30  100.0  64.285714  35.714286  76.677846  68.584234    7.80   \n",
       "4     41     37  100.0  57.142857  42.857143  81.603007  76.455495   14.90   \n",
       "\n",
       "   ind_15  ind_16    ...       ind_412  ind_414  ind_416  ind_418  ind_424  \\\n",
       "0   17.62   11.73    ...      0.002371      2.0    -49.6      -54      1.0   \n",
       "1   18.16   12.22    ...      0.003074      0.8    -55.6      -60      1.0   \n",
       "2   17.86   12.28    ...      0.003561      2.7    -58.4      -60      1.0   \n",
       "3   14.76   12.61    ...      0.004366      0.9    -61.8      -65      1.0   \n",
       "4   11.92   14.25    ...      0.004198      0.1    -79.8      -86      1.0   \n",
       "\n",
       "    ind_426   ind_428  20_target  50_target  90_target  \n",
       "0  0.498547  0.701906  15.135802  35.625252  36.997753  \n",
       "1  0.537088  0.690833  15.143348  35.643013  37.016198  \n",
       "2  0.615169  0.693040  15.146870  35.651301 -37.024805  \n",
       "3  0.661517  0.673418  15.153283   0.000000 -37.040483  \n",
       "4  0.747204  0.700522 -15.179065 -35.727079 -37.103503  \n",
       "\n",
       "[5 rows x 134 columns]"
      ]
     },
     "execution_count": 12,
     "metadata": {},
     "output_type": "execute_result"
    }
   ],
   "source": [
    "data = data.drop([\"ind_420\", \"ind_422\"], axis=1)\n",
    "data.head()"
   ]
  },
  {
   "cell_type": "markdown",
   "metadata": {},
   "source": [
    "### 2.3. Data Transformation\n",
    "#### 2.3.1. Label Encoder Donusumu\n",
    "\n",
    "ind_109 değişkeni kategorik değişkenlerdir. GREEN ve RED değerleri aldığı için hedef değişkeni tahmin etmede önemli olacağını düşünerek dönüştürme işlemi uyguladım."
   ]
  },
  {
   "cell_type": "code",
   "execution_count": 13,
   "metadata": {
    "scrolled": true
   },
   "outputs": [
    {
     "data": {
      "text/plain": [
       "'from sklearn.preprocessing import LabelEncoder\\nle = LabelEncoder()\\n\\nle.fit(data[\"ind_109\"])\\ndata[\"ind_109\"] = le.fit_transform(data[\"ind_109\"])\\n\\nnp.unique(data[\"ind_109\"])\\n'"
      ]
     },
     "execution_count": 13,
     "metadata": {},
     "output_type": "execute_result"
    }
   ],
   "source": [
    "'''from sklearn.preprocessing import LabelEncoder\n",
    "le = LabelEncoder()\n",
    "\n",
    "le.fit(data[\"ind_109\"])\n",
    "data[\"ind_109\"] = le.fit_transform(data[\"ind_109\"])\n",
    "\n",
    "np.unique(data[\"ind_109\"])\n",
    "'''"
   ]
  },
  {
   "cell_type": "markdown",
   "metadata": {},
   "source": [
    "#### 2.3.2. Dummy Dönüştürme \n",
    "\n",
    "ind_109 değişkeni kategorik değişkenlerdir. GREEN ve RED değerleri aldığı için hedef değişkeni tahmin etmede önemli olacağını düşünerek dönüştürme işlemi uyguladım."
   ]
  },
  {
   "cell_type": "code",
   "execution_count": 14,
   "metadata": {},
   "outputs": [],
   "source": [
    "dummy = pd.get_dummies(data[\"ind_109\"])\n",
    "data_dummy = pd.concat([data, dummy],axis=1)\n",
    "data_dummy = data_dummy.drop([\"ind_109\"], axis=1)\n",
    "data_dummy.head()\n",
    "data = data_dummy"
   ]
  },
  {
   "cell_type": "markdown",
   "metadata": {},
   "source": [
    "Dummy donusumu sonrasinda uygulayacagimiz model icin hicbir kategorik degiskenimizin olmadigini test ediyoruz"
   ]
  },
  {
   "cell_type": "code",
   "execution_count": 15,
   "metadata": {},
   "outputs": [
    {
     "name": "stdout",
     "output_type": "stream",
     "text": [
      "Numeric Column  :\n",
      " ['ind_5', 'ind_6', 'ind_8', 'ind_9', 'ind_10', 'ind_12', 'ind_13', 'ind_14', 'ind_15', 'ind_16', 'ind_17', 'ind_18', 'ind_19', 'ind_20', 'ind_21', 'ind_22', 'ind_23', 'ind_25', 'ind_26', 'ind_27', 'ind_28', 'ind_29', 'ind_30', 'ind_31', 'ind_32', 'ind_33', 'ind_34', 'ind_35', 'ind_36', 'ind_37', 'ind_39', 'ind_40', 'ind_41', 'ind_42', 'ind_43', 'ind_44', 'ind_45', 'ind_46', 'ind_47', 'ind_48', 'ind_49', 'ind_50', 'ind_51', 'ind_52', 'ind_53', 'ind_56', 'ind_58', 'ind_61', 'ind_62', 'ind_65', 'ind_67', 'ind_70', 'ind_71', 'ind_74', 'ind_77', 'ind_82', 'ind_83', 'ind_88', 'ind_92', 'ind_102', 'ind_116', 'ind_118', 'ind_122', 'ind_124', 'ind_128', 'ind_130', 'ind_132', 'ind_134', 'ind_136', 'ind_139', 'ind_142', 'ind_145', 'ind_147', 'ind_150', 'ind_153', 'ind_156', 'ind_164', 'ind_168', 'ind_172', 'ind_176', 'ind_179', 'ind_181', 'ind_188', 'ind_194', 'ind_212', 'ind_217', 'ind_225', 'ind_228', 'ind_234', 'ind_237', 'ind_239', 'ind_241', 'ind_243', 'ind_309', 'ind_310', 'ind_311', 'ind_313', 'ind_315', 'ind_316', 'ind_318', 'ind_321', 'ind_324', 'ind_327', 'ind_330', 'ind_332', 'ind_334', 'ind_338', 'ind_340', 'ind_344', 'ind_345', 'ind_347', 'ind_349', 'ind_351', 'ind_352', 'ind_387', 'ind_392', 'ind_397', 'ind_399', 'ind_403', 'ind_404', 'ind_406', 'ind_407', 'ind_410', 'ind_412', 'ind_414', 'ind_416', 'ind_418', 'ind_424', 'ind_426', 'ind_428', '20_target', '50_target', '90_target', 'GREEN', 'RED'] \n",
      "\n",
      "Categoric Column :\n",
      " []\n"
     ]
    }
   ],
   "source": [
    "num, cat = numeric_categoric_variable(data)"
   ]
  },
  {
   "cell_type": "markdown",
   "metadata": {},
   "source": [
    "# 3. Feature Selection (Correlation)"
   ]
  },
  {
   "cell_type": "code",
   "execution_count": 16,
   "metadata": {},
   "outputs": [
    {
     "name": "stdout",
     "output_type": "stream",
     "text": [
      "     feature1 feature2      Corr\n",
      "8776    GREEN      RED  1.000000\n",
      "8674  ind_403  ind_404  1.000000\n",
      "7699  ind_225  ind_234  0.999907\n",
      "6082  ind_102  ind_128  0.999641\n",
      "8184  ind_316  ind_318  0.998663 \n",
      "\n",
      "     feature1 feature2      Corr\n",
      "8060  ind_310  ind_399  0.000009\n",
      "2418   ind_27  ind_321  0.000044\n",
      "3638   ind_40   ind_51  0.000055\n",
      "8572  ind_351  ind_397  0.000056\n",
      "8537  ind_347  ind_410  0.000095\n"
     ]
    }
   ],
   "source": [
    "print(correlation_df(data, [\"20_target\",\"50_target\",\"90_target\"]).sort_values(by=\"Corr\", ascending=False).head(5),\"\\n\")\n",
    "print(correlation_df(data, [\"20_target\",\"50_target\",\"90_target\"]).sort_values(by=\"Corr\", ascending=True).head(5))"
   ]
  },
  {
   "cell_type": "code",
   "execution_count": 17,
   "metadata": {},
   "outputs": [
    {
     "data": {
      "text/html": [
       "<div>\n",
       "<style scoped>\n",
       "    .dataframe tbody tr th:only-of-type {\n",
       "        vertical-align: middle;\n",
       "    }\n",
       "\n",
       "    .dataframe tbody tr th {\n",
       "        vertical-align: top;\n",
       "    }\n",
       "\n",
       "    .dataframe thead th {\n",
       "        text-align: right;\n",
       "    }\n",
       "</style>\n",
       "<table border=\"1\" class=\"dataframe\">\n",
       "  <thead>\n",
       "    <tr style=\"text-align: right;\">\n",
       "      <th></th>\n",
       "      <th>ind_5</th>\n",
       "      <th>ind_8</th>\n",
       "      <th>ind_9</th>\n",
       "      <th>ind_14</th>\n",
       "      <th>ind_18</th>\n",
       "      <th>ind_26</th>\n",
       "      <th>ind_27</th>\n",
       "      <th>ind_28</th>\n",
       "      <th>ind_40</th>\n",
       "      <th>ind_42</th>\n",
       "      <th>...</th>\n",
       "      <th>ind_338</th>\n",
       "      <th>ind_340</th>\n",
       "      <th>ind_344</th>\n",
       "      <th>ind_347</th>\n",
       "      <th>ind_349</th>\n",
       "      <th>ind_351</th>\n",
       "      <th>ind_416</th>\n",
       "      <th>20_target</th>\n",
       "      <th>50_target</th>\n",
       "      <th>90_target</th>\n",
       "    </tr>\n",
       "  </thead>\n",
       "  <tbody>\n",
       "    <tr>\n",
       "      <th>0</th>\n",
       "      <td>19</td>\n",
       "      <td>100.0</td>\n",
       "      <td>85.714286</td>\n",
       "      <td>23.80</td>\n",
       "      <td>9.1100</td>\n",
       "      <td>-0.002670</td>\n",
       "      <td>0.000010</td>\n",
       "      <td>66.666667</td>\n",
       "      <td>3</td>\n",
       "      <td>-5</td>\n",
       "      <td>...</td>\n",
       "      <td>1.197238</td>\n",
       "      <td>-0.319064</td>\n",
       "      <td>0.0</td>\n",
       "      <td>0.0</td>\n",
       "      <td>0.0</td>\n",
       "      <td>0.0</td>\n",
       "      <td>-49.6</td>\n",
       "      <td>15.135802</td>\n",
       "      <td>35.625252</td>\n",
       "      <td>36.997753</td>\n",
       "    </tr>\n",
       "    <tr>\n",
       "      <th>1</th>\n",
       "      <td>24</td>\n",
       "      <td>100.0</td>\n",
       "      <td>78.571429</td>\n",
       "      <td>11.45</td>\n",
       "      <td>9.2225</td>\n",
       "      <td>-0.003111</td>\n",
       "      <td>-0.000191</td>\n",
       "      <td>66.666667</td>\n",
       "      <td>3</td>\n",
       "      <td>-6</td>\n",
       "      <td>...</td>\n",
       "      <td>1.197328</td>\n",
       "      <td>-0.318905</td>\n",
       "      <td>0.0</td>\n",
       "      <td>0.0</td>\n",
       "      <td>0.0</td>\n",
       "      <td>0.0</td>\n",
       "      <td>-55.6</td>\n",
       "      <td>15.143348</td>\n",
       "      <td>35.643013</td>\n",
       "      <td>37.016198</td>\n",
       "    </tr>\n",
       "    <tr>\n",
       "      <th>2</th>\n",
       "      <td>30</td>\n",
       "      <td>100.0</td>\n",
       "      <td>71.428571</td>\n",
       "      <td>8.75</td>\n",
       "      <td>9.3125</td>\n",
       "      <td>-0.003530</td>\n",
       "      <td>-0.000375</td>\n",
       "      <td>66.666667</td>\n",
       "      <td>3</td>\n",
       "      <td>-4</td>\n",
       "      <td>...</td>\n",
       "      <td>1.197419</td>\n",
       "      <td>-0.318831</td>\n",
       "      <td>0.0</td>\n",
       "      <td>0.0</td>\n",
       "      <td>0.0</td>\n",
       "      <td>0.0</td>\n",
       "      <td>-58.4</td>\n",
       "      <td>15.146870</td>\n",
       "      <td>35.651301</td>\n",
       "      <td>-37.024805</td>\n",
       "    </tr>\n",
       "    <tr>\n",
       "      <th>3</th>\n",
       "      <td>37</td>\n",
       "      <td>100.0</td>\n",
       "      <td>64.285714</td>\n",
       "      <td>7.80</td>\n",
       "      <td>9.4150</td>\n",
       "      <td>-0.003961</td>\n",
       "      <td>-0.000641</td>\n",
       "      <td>66.666667</td>\n",
       "      <td>3</td>\n",
       "      <td>-5</td>\n",
       "      <td>...</td>\n",
       "      <td>1.197509</td>\n",
       "      <td>-0.318696</td>\n",
       "      <td>0.0</td>\n",
       "      <td>0.0</td>\n",
       "      <td>0.0</td>\n",
       "      <td>0.0</td>\n",
       "      <td>-61.8</td>\n",
       "      <td>15.153283</td>\n",
       "      <td>0.000000</td>\n",
       "      <td>-37.040483</td>\n",
       "    </tr>\n",
       "    <tr>\n",
       "      <th>4</th>\n",
       "      <td>41</td>\n",
       "      <td>100.0</td>\n",
       "      <td>57.142857</td>\n",
       "      <td>14.90</td>\n",
       "      <td>9.8925</td>\n",
       "      <td>-0.004624</td>\n",
       "      <td>-0.000319</td>\n",
       "      <td>66.666667</td>\n",
       "      <td>2</td>\n",
       "      <td>-18</td>\n",
       "      <td>...</td>\n",
       "      <td>1.197600</td>\n",
       "      <td>-0.318155</td>\n",
       "      <td>0.0</td>\n",
       "      <td>0.0</td>\n",
       "      <td>0.0</td>\n",
       "      <td>0.0</td>\n",
       "      <td>-79.8</td>\n",
       "      <td>-15.179065</td>\n",
       "      <td>-35.727079</td>\n",
       "      <td>-37.103503</td>\n",
       "    </tr>\n",
       "  </tbody>\n",
       "</table>\n",
       "<p>5 rows × 40 columns</p>\n",
       "</div>"
      ],
      "text/plain": [
       "   ind_5  ind_8      ind_9  ind_14  ind_18    ind_26    ind_27     ind_28  \\\n",
       "0     19  100.0  85.714286   23.80  9.1100 -0.002670  0.000010  66.666667   \n",
       "1     24  100.0  78.571429   11.45  9.2225 -0.003111 -0.000191  66.666667   \n",
       "2     30  100.0  71.428571    8.75  9.3125 -0.003530 -0.000375  66.666667   \n",
       "3     37  100.0  64.285714    7.80  9.4150 -0.003961 -0.000641  66.666667   \n",
       "4     41  100.0  57.142857   14.90  9.8925 -0.004624 -0.000319  66.666667   \n",
       "\n",
       "   ind_40  ind_42    ...       ind_338   ind_340  ind_344  ind_347  ind_349  \\\n",
       "0       3      -5    ...      1.197238 -0.319064      0.0      0.0      0.0   \n",
       "1       3      -6    ...      1.197328 -0.318905      0.0      0.0      0.0   \n",
       "2       3      -4    ...      1.197419 -0.318831      0.0      0.0      0.0   \n",
       "3       3      -5    ...      1.197509 -0.318696      0.0      0.0      0.0   \n",
       "4       2     -18    ...      1.197600 -0.318155      0.0      0.0      0.0   \n",
       "\n",
       "   ind_351  ind_416  20_target  50_target  90_target  \n",
       "0      0.0    -49.6  15.135802  35.625252  36.997753  \n",
       "1      0.0    -55.6  15.143348  35.643013  37.016198  \n",
       "2      0.0    -58.4  15.146870  35.651301 -37.024805  \n",
       "3      0.0    -61.8  15.153283   0.000000 -37.040483  \n",
       "4      0.0    -79.8 -15.179065 -35.727079 -37.103503  \n",
       "\n",
       "[5 rows x 40 columns]"
      ]
     },
     "execution_count": 17,
     "metadata": {},
     "output_type": "execute_result"
    }
   ],
   "source": [
    "fs_df = layer1(data ,[\"20_target\",\"50_target\",\"90_target\"], 0.6)\n",
    "fs_df.head()"
   ]
  },
  {
   "cell_type": "code",
   "execution_count": 18,
   "metadata": {},
   "outputs": [
    {
     "data": {
      "text/html": [
       "<div>\n",
       "<style scoped>\n",
       "    .dataframe tbody tr th:only-of-type {\n",
       "        vertical-align: middle;\n",
       "    }\n",
       "\n",
       "    .dataframe tbody tr th {\n",
       "        vertical-align: top;\n",
       "    }\n",
       "\n",
       "    .dataframe thead th {\n",
       "        text-align: right;\n",
       "    }\n",
       "</style>\n",
       "<table border=\"1\" class=\"dataframe\">\n",
       "  <thead>\n",
       "    <tr style=\"text-align: right;\">\n",
       "      <th></th>\n",
       "      <th>ind_27</th>\n",
       "      <th>ind_18</th>\n",
       "      <th>ind_239</th>\n",
       "      <th>ind_316</th>\n",
       "      <th>ind_324</th>\n",
       "      <th>ind_330</th>\n",
       "      <th>ind_5</th>\n",
       "      <th>ind_338</th>\n",
       "      <th>ind_334</th>\n",
       "      <th>ind_332</th>\n",
       "      <th>20_target</th>\n",
       "    </tr>\n",
       "  </thead>\n",
       "  <tbody>\n",
       "    <tr>\n",
       "      <th>0</th>\n",
       "      <td>0.000010</td>\n",
       "      <td>9.1100</td>\n",
       "      <td>0.000217</td>\n",
       "      <td>98.905563</td>\n",
       "      <td>-0.000062</td>\n",
       "      <td>-0.157039</td>\n",
       "      <td>19</td>\n",
       "      <td>1.197238</td>\n",
       "      <td>-0.000091</td>\n",
       "      <td>20.967742</td>\n",
       "      <td>15.135802</td>\n",
       "    </tr>\n",
       "    <tr>\n",
       "      <th>1</th>\n",
       "      <td>-0.000191</td>\n",
       "      <td>9.2225</td>\n",
       "      <td>0.000217</td>\n",
       "      <td>98.859627</td>\n",
       "      <td>-0.000062</td>\n",
       "      <td>-0.156961</td>\n",
       "      <td>24</td>\n",
       "      <td>1.197328</td>\n",
       "      <td>-0.000091</td>\n",
       "      <td>20.800000</td>\n",
       "      <td>15.143348</td>\n",
       "    </tr>\n",
       "    <tr>\n",
       "      <th>2</th>\n",
       "      <td>-0.000375</td>\n",
       "      <td>9.3125</td>\n",
       "      <td>0.000217</td>\n",
       "      <td>98.839991</td>\n",
       "      <td>-0.000062</td>\n",
       "      <td>-0.156925</td>\n",
       "      <td>30</td>\n",
       "      <td>1.197419</td>\n",
       "      <td>-0.000091</td>\n",
       "      <td>20.634921</td>\n",
       "      <td>15.146870</td>\n",
       "    </tr>\n",
       "    <tr>\n",
       "      <th>3</th>\n",
       "      <td>-0.000641</td>\n",
       "      <td>9.4150</td>\n",
       "      <td>0.000217</td>\n",
       "      <td>98.801500</td>\n",
       "      <td>-0.000062</td>\n",
       "      <td>-0.156858</td>\n",
       "      <td>37</td>\n",
       "      <td>1.197509</td>\n",
       "      <td>-0.000091</td>\n",
       "      <td>20.472441</td>\n",
       "      <td>15.153283</td>\n",
       "    </tr>\n",
       "    <tr>\n",
       "      <th>4</th>\n",
       "      <td>-0.000319</td>\n",
       "      <td>9.8925</td>\n",
       "      <td>0.000217</td>\n",
       "      <td>98.637028</td>\n",
       "      <td>-0.000062</td>\n",
       "      <td>-0.156592</td>\n",
       "      <td>41</td>\n",
       "      <td>1.197600</td>\n",
       "      <td>-0.000091</td>\n",
       "      <td>20.312500</td>\n",
       "      <td>-15.179065</td>\n",
       "    </tr>\n",
       "  </tbody>\n",
       "</table>\n",
       "</div>"
      ],
      "text/plain": [
       "     ind_27  ind_18   ind_239    ind_316   ind_324   ind_330  ind_5   ind_338  \\\n",
       "0  0.000010  9.1100  0.000217  98.905563 -0.000062 -0.157039     19  1.197238   \n",
       "1 -0.000191  9.2225  0.000217  98.859627 -0.000062 -0.156961     24  1.197328   \n",
       "2 -0.000375  9.3125  0.000217  98.839991 -0.000062 -0.156925     30  1.197419   \n",
       "3 -0.000641  9.4150  0.000217  98.801500 -0.000062 -0.156858     37  1.197509   \n",
       "4 -0.000319  9.8925  0.000217  98.637028 -0.000062 -0.156592     41  1.197600   \n",
       "\n",
       "    ind_334    ind_332  20_target  \n",
       "0 -0.000091  20.967742  15.135802  \n",
       "1 -0.000091  20.800000  15.143348  \n",
       "2 -0.000091  20.634921  15.146870  \n",
       "3 -0.000091  20.472441  15.153283  \n",
       "4 -0.000091  20.312500 -15.179065  "
      ]
     },
     "execution_count": 18,
     "metadata": {},
     "output_type": "execute_result"
    }
   ],
   "source": [
    "gg = fs_df.drop([\"50_target\",\"90_target\"],axis=1)\n",
    "fs_df = fs_df[layer2(gg,  \"20_target\", 10)]\n",
    "fs_df[\"20_target\"] = data[\"20_target\"]\n",
    "fs_df.head()"
   ]
  },
  {
   "cell_type": "code",
   "execution_count": 19,
   "metadata": {},
   "outputs": [
    {
     "name": "stdout",
     "output_type": "stream",
     "text": [
      "Numeric Column  :\n",
      " ['ind_27', 'ind_18', 'ind_239', 'ind_316', 'ind_324', 'ind_330', 'ind_5', 'ind_338', 'ind_334', 'ind_332', '20_target'] \n",
      "\n",
      "Categoric Column :\n",
      " []\n"
     ]
    }
   ],
   "source": [
    "import pylab\n",
    "import scipy.stats as stats\n",
    "num, cat = numeric_categoric_variable(fs_df)"
   ]
  },
  {
   "cell_type": "markdown",
   "metadata": {},
   "source": [
    "# 4. Visualization"
   ]
  },
  {
   "cell_type": "markdown",
   "metadata": {},
   "source": [
    "### 4.1. Heat Map"
   ]
  },
  {
   "cell_type": "code",
   "execution_count": 20,
   "metadata": {
    "scrolled": false
   },
   "outputs": [
    {
     "data": {
      "image/png": "[encoded data removed]",
      "text/plain": [
       "<Figure size 1800x1440 with 2 Axes>"
      ]
     },
     "metadata": {
      "needs_background": "light"
     },
     "output_type": "display_data"
    }
   ],
   "source": [
    "fig, ax = plt.subplots(figsize=(25,20))  \n",
    "corrmat = fs_df.drop([\"20_target\"], axis=1)\n",
    "sns.heatmap(corrmat.corr(), annot=True, linewidths=0.2, ax=ax)\n",
    "plt.show()"
   ]
  },
  {
   "cell_type": "code",
   "execution_count": 21,
   "metadata": {},
   "outputs": [
    {
     "name": "stdout",
     "output_type": "stream",
     "text": [
      "   feature1 feature2      Corr\n",
      "50  ind_338  ind_334  0.871267\n",
      "44  ind_330  ind_332  0.775937\n",
      "42  ind_330  ind_338  0.427342\n",
      "36  ind_324    ind_5  0.409430\n",
      "51  ind_338  ind_332  0.404481 \n",
      "\n",
      "   feature1 feature2      Corr\n",
      "7    ind_27  ind_338  0.002009\n",
      "26  ind_239  ind_332  0.005120\n",
      "1    ind_27   ind_18  0.008946\n",
      "8    ind_27  ind_334  0.015735\n",
      "37  ind_324  ind_338  0.027333\n"
     ]
    }
   ],
   "source": [
    "print(correlation_df(fs_df, [\"20_target\"]).sort_values(by=\"Corr\", ascending=False).head(5),\"\\n\")\n",
    "print(correlation_df(fs_df, [\"20_target\"]).sort_values(by=\"Corr\", ascending=True).head(5))"
   ]
  },
  {
   "cell_type": "markdown",
   "metadata": {},
   "source": [
    "### 4.2. Box Plot (Outlier ve 5 Five Number Summary)"
   ]
  },
  {
   "cell_type": "markdown",
   "metadata": {},
   "source": [
    "Verilerimizde cok sayida Outlier deger oldugunu boxplot grafigi ile goruyoruz. Burada iki yaklasim uygulanabilir. \n",
    "\n",
    "1. Outlier degerler silinebilir \n",
    "2. Veriler normalize edilebilir\n",
    "\n",
    "Burada orjinal veriler oldugunu dusunerek outlier degerleri remove etmeyip normalize yontemini seciyoruz. Normalize yöntemi olarak StandardScaler, Z-Score, Min-Max uygulayabiliriz."
   ]
  },
  {
   "cell_type": "code",
   "execution_count": 22,
   "metadata": {},
   "outputs": [
    {
     "data": {
      "image/png": "[encoded data removed]",
      "text/plain": [
       "<Figure size 1872x720 with 1 Axes>"
      ]
     },
     "metadata": {
      "needs_background": "light"
     },
     "output_type": "display_data"
    }
   ],
   "source": [
    "plt.figure(figsize=(26,10))\n",
    "fs_df.boxplot()\n",
    "plt.show()"
   ]
  },
  {
   "cell_type": "markdown",
   "metadata": {},
   "source": [
    "### 4.3. Histogam (Dagilim Grafigi)"
   ]
  },
  {
   "cell_type": "markdown",
   "metadata": {},
   "source": [
    "Burada ozniteliklerin cogunun normal dagilimdan gelmedigini goruyoruz. Bu nedenle normal dagildigini dusundugumuz oznitelikler icin shapiro normalllik testi uygulamamiz gerekiyor. "
   ]
  },
  {
   "cell_type": "code",
   "execution_count": 23,
   "metadata": {},
   "outputs": [
    {
     "data": {
      "image/png": "[encoded data removed]",
      "text/plain": [
       "<Figure size 1872x1296 with 12 Axes>"
      ]
     },
     "metadata": {
      "needs_background": "light"
     },
     "output_type": "display_data"
    }
   ],
   "source": [
    "data_df = fs_df.drop([\"20_target\"], axis=1)\n",
    "data_df.hist(figsize=(26,18), bins=40, xlabelsize=6, ylabelsize=6)\n",
    "plt.show()"
   ]
  },
  {
   "cell_type": "markdown",
   "metadata": {},
   "source": [
    "# 5. Normalization\n",
    "\n",
    "Veriler uzerinde outlier degerlerin oldugunu gorduk ve boylece Min-Max Normalizasyon yontemi uyguladik"
   ]
  },
  {
   "cell_type": "code",
   "execution_count": 24,
   "metadata": {},
   "outputs": [
    {
     "data": {
      "text/html": [
       "<div>\n",
       "<style scoped>\n",
       "    .dataframe tbody tr th:only-of-type {\n",
       "        vertical-align: middle;\n",
       "    }\n",
       "\n",
       "    .dataframe tbody tr th {\n",
       "        vertical-align: top;\n",
       "    }\n",
       "\n",
       "    .dataframe thead th {\n",
       "        text-align: right;\n",
       "    }\n",
       "</style>\n",
       "<table border=\"1\" class=\"dataframe\">\n",
       "  <thead>\n",
       "    <tr style=\"text-align: right;\">\n",
       "      <th></th>\n",
       "      <th>ind_27</th>\n",
       "      <th>ind_18</th>\n",
       "      <th>ind_239</th>\n",
       "      <th>ind_316</th>\n",
       "      <th>ind_324</th>\n",
       "      <th>ind_330</th>\n",
       "      <th>ind_5</th>\n",
       "      <th>ind_338</th>\n",
       "      <th>ind_334</th>\n",
       "      <th>ind_332</th>\n",
       "      <th>20_target</th>\n",
       "    </tr>\n",
       "  </thead>\n",
       "  <tbody>\n",
       "    <tr>\n",
       "      <th>0</th>\n",
       "      <td>0.409832</td>\n",
       "      <td>0.179402</td>\n",
       "      <td>0.084932</td>\n",
       "      <td>0.979995</td>\n",
       "      <td>0.960129</td>\n",
       "      <td>0.944473</td>\n",
       "      <td>0.724638</td>\n",
       "      <td>0.960087</td>\n",
       "      <td>0.851232</td>\n",
       "      <td>0.210376</td>\n",
       "      <td>0.979937</td>\n",
       "    </tr>\n",
       "    <tr>\n",
       "      <th>1</th>\n",
       "      <td>0.390871</td>\n",
       "      <td>0.184535</td>\n",
       "      <td>0.084932</td>\n",
       "      <td>0.979540</td>\n",
       "      <td>0.960129</td>\n",
       "      <td>0.944500</td>\n",
       "      <td>0.748792</td>\n",
       "      <td>0.960159</td>\n",
       "      <td>0.851232</td>\n",
       "      <td>0.208693</td>\n",
       "      <td>0.980177</td>\n",
       "    </tr>\n",
       "    <tr>\n",
       "      <th>2</th>\n",
       "      <td>0.373539</td>\n",
       "      <td>0.188641</td>\n",
       "      <td>0.084932</td>\n",
       "      <td>0.979346</td>\n",
       "      <td>0.960129</td>\n",
       "      <td>0.944513</td>\n",
       "      <td>0.777778</td>\n",
       "      <td>0.960232</td>\n",
       "      <td>0.851232</td>\n",
       "      <td>0.207037</td>\n",
       "      <td>0.980288</td>\n",
       "    </tr>\n",
       "    <tr>\n",
       "      <th>3</th>\n",
       "      <td>0.348484</td>\n",
       "      <td>0.193317</td>\n",
       "      <td>0.084932</td>\n",
       "      <td>0.978964</td>\n",
       "      <td>0.960129</td>\n",
       "      <td>0.944537</td>\n",
       "      <td>0.811594</td>\n",
       "      <td>0.960305</td>\n",
       "      <td>0.851232</td>\n",
       "      <td>0.205407</td>\n",
       "      <td>0.980491</td>\n",
       "    </tr>\n",
       "    <tr>\n",
       "      <th>4</th>\n",
       "      <td>0.378814</td>\n",
       "      <td>0.215100</td>\n",
       "      <td>0.084932</td>\n",
       "      <td>0.977335</td>\n",
       "      <td>0.960129</td>\n",
       "      <td>0.944631</td>\n",
       "      <td>0.830918</td>\n",
       "      <td>0.960377</td>\n",
       "      <td>0.851232</td>\n",
       "      <td>0.203802</td>\n",
       "      <td>0.019066</td>\n",
       "    </tr>\n",
       "  </tbody>\n",
       "</table>\n",
       "</div>"
      ],
      "text/plain": [
       "     ind_27    ind_18   ind_239   ind_316   ind_324   ind_330     ind_5  \\\n",
       "0  0.409832  0.179402  0.084932  0.979995  0.960129  0.944473  0.724638   \n",
       "1  0.390871  0.184535  0.084932  0.979540  0.960129  0.944500  0.748792   \n",
       "2  0.373539  0.188641  0.084932  0.979346  0.960129  0.944513  0.777778   \n",
       "3  0.348484  0.193317  0.084932  0.978964  0.960129  0.944537  0.811594   \n",
       "4  0.378814  0.215100  0.084932  0.977335  0.960129  0.944631  0.830918   \n",
       "\n",
       "    ind_338   ind_334   ind_332  20_target  \n",
       "0  0.960087  0.851232  0.210376   0.979937  \n",
       "1  0.960159  0.851232  0.208693   0.980177  \n",
       "2  0.960232  0.851232  0.207037   0.980288  \n",
       "3  0.960305  0.851232  0.205407   0.980491  \n",
       "4  0.960377  0.851232  0.203802   0.019066  "
      ]
     },
     "execution_count": 24,
     "metadata": {},
     "output_type": "execute_result"
    }
   ],
   "source": [
    "from sklearn.preprocessing import MinMaxScaler\n",
    "scaler = MinMaxScaler()\n",
    "scaler.fit(fs_df)\n",
    "dd = scaler.transform(fs_df)\n",
    "fs_df = pd.DataFrame(dd, columns=fs_df.columns)\n",
    "fs_df.head()"
   ]
  },
  {
   "cell_type": "markdown",
   "metadata": {},
   "source": [
    "### 5.1. Distribution Plot"
   ]
  },
  {
   "cell_type": "code",
   "execution_count": 25,
   "metadata": {},
   "outputs": [
    {
     "data": {
      "image/png": "[encoded data removed]",
      "text/plain": [
       "<Figure size 432x288 with 1 Axes>"
      ]
     },
     "metadata": {
      "needs_background": "light"
     },
     "output_type": "display_data"
    },
    {
     "data": {
      "image/png": "[encoded data removed]",
      "text/plain": [
       "<Figure size 432x288 with 1 Axes>"
      ]
     },
     "metadata": {
      "needs_background": "light"
     },
     "output_type": "display_data"
    },
    {
     "data": {
      "image/png": "[encoded data removed]",
      "text/plain": [
       "<Figure size 432x288 with 1 Axes>"
      ]
     },
     "metadata": {
      "needs_background": "light"
     },
     "output_type": "display_data"
    },
    {
     "data": {
      "image/png": "[encoded data removed]",
      "text/plain": [
       "<Figure size 432x288 with 1 Axes>"
      ]
     },
     "metadata": {
      "needs_background": "light"
     },
     "output_type": "display_data"
    },
    {
     "data": {
      "image/png": "[encoded data removed]",
      "text/plain": [
       "<Figure size 432x288 with 1 Axes>"
      ]
     },
     "metadata": {
      "needs_background": "light"
     },
     "output_type": "display_data"
    },
    {
     "data": {
      "image/png": "[encoded data removed]",
      "text/plain": [
       "<Figure size 432x288 with 1 Axes>"
      ]
     },
     "metadata": {
      "needs_background": "light"
     },
     "output_type": "display_data"
    },
    {
     "data": {
      "image/png": "[encoded data removed]",
      "text/plain": [
       "<Figure size 432x288 with 1 Axes>"
      ]
     },
     "metadata": {
      "needs_background": "light"
     },
     "output_type": "display_data"
    },
    {
     "data": {
      "image/png": "[encoded data removed]",
      "text/plain": [
       "<Figure size 432x288 with 1 Axes>"
      ]
     },
     "metadata": {
      "needs_background": "light"
     },
     "output_type": "display_data"
    },
    {
     "data": {
      "image/png": "[encoded data removed]",
      "text/plain": [
       "<Figure size 432x288 with 1 Axes>"
      ]
     },
     "metadata": {
      "needs_background": "light"
     },
     "output_type": "display_data"
    },
    {
     "data": {
      "image/png": "[encoded data removed]",
      "text/plain": [
       "<Figure size 432x288 with 1 Axes>"
      ]
     },
     "metadata": {
      "needs_background": "light"
     },
     "output_type": "display_data"
    },
    {
     "data": {
      "image/png": "[encoded data removed]",
      "text/plain": [
       "<Figure size 432x288 with 1 Axes>"
      ]
     },
     "metadata": {
      "needs_background": "light"
     },
     "output_type": "display_data"
    }
   ],
   "source": [
    "for i in num:\n",
    "    stats.probplot(fs_df[i], dist=\"norm\", plot=plt)\n",
    "    plt.title(i)\n",
    "    plt.show()"
   ]
  },
  {
   "cell_type": "markdown",
   "metadata": {},
   "source": [
    "# 6. Multiple Linear Regression"
   ]
  },
  {
   "cell_type": "code",
   "execution_count": 26,
   "metadata": {},
   "outputs": [],
   "source": [
    "import statsmodels.api as sm\n",
    "from sklearn.model_selection import train_test_split, cross_val_score, cross_val_predict\n",
    "\n",
    "df = fs_df.copy()\n",
    "x_df = df.drop([\"20_target\"], axis=1)\n",
    "y_df  = df[\"20_target\"]\n",
    "\n",
    "x_train, x_test, y_train, y_test = train_test_split(x_df,y_df, test_size=0.2, random_state=42)"
   ]
  },
  {
   "cell_type": "code",
   "execution_count": 27,
   "metadata": {},
   "outputs": [
    {
     "data": {
      "text/plain": [
       "((4933, 10), (4933,), (1234, 10), (1234, 10))"
      ]
     },
     "execution_count": 27,
     "metadata": {},
     "output_type": "execute_result"
    }
   ],
   "source": [
    "x_train.shape, y_train.shape, x_test.shape, x_test.shape"
   ]
  },
  {
   "cell_type": "code",
   "execution_count": 28,
   "metadata": {
    "scrolled": true
   },
   "outputs": [
    {
     "data": {
      "text/html": [
       "<table class=\"simpletable\">\n",
       "<caption>OLS Regression Results</caption>\n",
       "<tr>\n",
       "  <th>Dep. Variable:</th>        <td>20_target</td>    <th>  R-squared:         </th> <td>   0.530</td>\n",
       "</tr>\n",
       "<tr>\n",
       "  <th>Model:</th>                   <td>OLS</td>       <th>  Adj. R-squared:    </th> <td>   0.529</td>\n",
       "</tr>\n",
       "<tr>\n",
       "  <th>Method:</th>             <td>Least Squares</td>  <th>  F-statistic:       </th> <td>   555.4</td>\n",
       "</tr>\n",
       "<tr>\n",
       "  <th>Date:</th>             <td>Sun, 23 Aug 2020</td> <th>  Prob (F-statistic):</th>  <td>  0.00</td> \n",
       "</tr>\n",
       "<tr>\n",
       "  <th>Time:</th>                 <td>13:23:06</td>     <th>  Log-Likelihood:    </th> <td> -3250.5</td>\n",
       "</tr>\n",
       "<tr>\n",
       "  <th>No. Observations:</th>      <td>  4933</td>      <th>  AIC:               </th> <td>   6521.</td>\n",
       "</tr>\n",
       "<tr>\n",
       "  <th>Df Residuals:</th>          <td>  4923</td>      <th>  BIC:               </th> <td>   6586.</td>\n",
       "</tr>\n",
       "<tr>\n",
       "  <th>Df Model:</th>              <td>    10</td>      <th>                     </th>     <td> </td>   \n",
       "</tr>\n",
       "<tr>\n",
       "  <th>Covariance Type:</th>      <td>nonrobust</td>    <th>                     </th>     <td> </td>   \n",
       "</tr>\n",
       "</table>\n",
       "<table class=\"simpletable\">\n",
       "<tr>\n",
       "   <td></td>      <th>coef</th>     <th>std err</th>      <th>t</th>      <th>P>|t|</th>  <th>[0.025</th>    <th>0.975]</th>  \n",
       "</tr>\n",
       "<tr>\n",
       "  <th>x1</th>  <td>   -0.0818</td> <td>    0.114</td> <td>   -0.715</td> <td> 0.475</td> <td>   -0.306</td> <td>    0.143</td>\n",
       "</tr>\n",
       "<tr>\n",
       "  <th>x2</th>  <td>    0.1515</td> <td>    0.056</td> <td>    2.720</td> <td> 0.007</td> <td>    0.042</td> <td>    0.261</td>\n",
       "</tr>\n",
       "<tr>\n",
       "  <th>x3</th>  <td>   -0.2512</td> <td>    0.134</td> <td>   -1.880</td> <td> 0.060</td> <td>   -0.513</td> <td>    0.011</td>\n",
       "</tr>\n",
       "<tr>\n",
       "  <th>x4</th>  <td>    0.0365</td> <td>    0.019</td> <td>    1.924</td> <td> 0.054</td> <td>   -0.001</td> <td>    0.074</td>\n",
       "</tr>\n",
       "<tr>\n",
       "  <th>x5</th>  <td>    0.0951</td> <td>    0.071</td> <td>    1.331</td> <td> 0.183</td> <td>   -0.045</td> <td>    0.235</td>\n",
       "</tr>\n",
       "<tr>\n",
       "  <th>x6</th>  <td>    0.2615</td> <td>    0.062</td> <td>    4.221</td> <td> 0.000</td> <td>    0.140</td> <td>    0.383</td>\n",
       "</tr>\n",
       "<tr>\n",
       "  <th>x7</th>  <td>    0.0793</td> <td>    0.067</td> <td>    1.186</td> <td> 0.236</td> <td>   -0.052</td> <td>    0.210</td>\n",
       "</tr>\n",
       "<tr>\n",
       "  <th>x8</th>  <td>    0.0597</td> <td>    0.040</td> <td>    1.480</td> <td> 0.139</td> <td>   -0.019</td> <td>    0.139</td>\n",
       "</tr>\n",
       "<tr>\n",
       "  <th>x9</th>  <td>    0.0340</td> <td>    0.086</td> <td>    0.393</td> <td> 0.694</td> <td>   -0.135</td> <td>    0.203</td>\n",
       "</tr>\n",
       "<tr>\n",
       "  <th>x10</th> <td>    0.2150</td> <td>    0.034</td> <td>    6.322</td> <td> 0.000</td> <td>    0.148</td> <td>    0.282</td>\n",
       "</tr>\n",
       "</table>\n",
       "<table class=\"simpletable\">\n",
       "<tr>\n",
       "  <th>Omnibus:</th>       <td> 0.417</td> <th>  Durbin-Watson:     </th> <td>   2.040</td> \n",
       "</tr>\n",
       "<tr>\n",
       "  <th>Prob(Omnibus):</th> <td> 0.812</td> <th>  Jarque-Bera (JB):  </th> <td> 726.810</td> \n",
       "</tr>\n",
       "<tr>\n",
       "  <th>Skew:</th>          <td> 0.022</td> <th>  Prob(JB):          </th> <td>1.50e-158</td>\n",
       "</tr>\n",
       "<tr>\n",
       "  <th>Kurtosis:</th>      <td> 1.120</td> <th>  Cond. No.          </th> <td>    41.7</td> \n",
       "</tr>\n",
       "</table><br/><br/>Warnings:<br/>[1] Standard Errors assume that the covariance matrix of the errors is correctly specified."
      ],
      "text/plain": [
       "<class 'statsmodels.iolib.summary.Summary'>\n",
       "\"\"\"\n",
       "                            OLS Regression Results                            \n",
       "==============================================================================\n",
       "Dep. Variable:              20_target   R-squared:                       0.530\n",
       "Model:                            OLS   Adj. R-squared:                  0.529\n",
       "Method:                 Least Squares   F-statistic:                     555.4\n",
       "Date:                Sun, 23 Aug 2020   Prob (F-statistic):               0.00\n",
       "Time:                        13:23:06   Log-Likelihood:                -3250.5\n",
       "No. Observations:                4933   AIC:                             6521.\n",
       "Df Residuals:                    4923   BIC:                             6586.\n",
       "Df Model:                          10                                         \n",
       "Covariance Type:            nonrobust                                         \n",
       "==============================================================================\n",
       "                 coef    std err          t      P>|t|      [0.025      0.975]\n",
       "------------------------------------------------------------------------------\n",
       "x1            -0.0818      0.114     -0.715      0.475      -0.306       0.143\n",
       "x2             0.1515      0.056      2.720      0.007       0.042       0.261\n",
       "x3            -0.2512      0.134     -1.880      0.060      -0.513       0.011\n",
       "x4             0.0365      0.019      1.924      0.054      -0.001       0.074\n",
       "x5             0.0951      0.071      1.331      0.183      -0.045       0.235\n",
       "x6             0.2615      0.062      4.221      0.000       0.140       0.383\n",
       "x7             0.0793      0.067      1.186      0.236      -0.052       0.210\n",
       "x8             0.0597      0.040      1.480      0.139      -0.019       0.139\n",
       "x9             0.0340      0.086      0.393      0.694      -0.135       0.203\n",
       "x10            0.2150      0.034      6.322      0.000       0.148       0.282\n",
       "==============================================================================\n",
       "Omnibus:                        0.417   Durbin-Watson:                   2.040\n",
       "Prob(Omnibus):                  0.812   Jarque-Bera (JB):              726.810\n",
       "Skew:                           0.022   Prob(JB):                    1.50e-158\n",
       "Kurtosis:                       1.120   Cond. No.                         41.7\n",
       "==============================================================================\n",
       "\n",
       "Warnings:\n",
       "[1] Standard Errors assume that the covariance matrix of the errors is correctly specified.\n",
       "\"\"\""
      ]
     },
     "execution_count": 28,
     "metadata": {},
     "output_type": "execute_result"
    }
   ],
   "source": [
    "lm = sm.OLS(y_train, np.asarray(x_train))\n",
    "model = lm.fit()\n",
    "model.summary()"
   ]
  },
  {
   "cell_type": "markdown",
   "metadata": {},
   "source": [
    "### 6.1. Elimination 1"
   ]
  },
  {
   "cell_type": "code",
   "execution_count": 29,
   "metadata": {},
   "outputs": [
    {
     "data": {
      "text/html": [
       "<table class=\"simpletable\">\n",
       "<caption>OLS Regression Results</caption>\n",
       "<tr>\n",
       "  <th>Dep. Variable:</th>        <td>20_target</td>    <th>  R-squared:         </th> <td>   0.530</td>\n",
       "</tr>\n",
       "<tr>\n",
       "  <th>Model:</th>                   <td>OLS</td>       <th>  Adj. R-squared:    </th> <td>   0.529</td>\n",
       "</tr>\n",
       "<tr>\n",
       "  <th>Method:</th>             <td>Least Squares</td>  <th>  F-statistic:       </th> <td>   616.4</td>\n",
       "</tr>\n",
       "<tr>\n",
       "  <th>Date:</th>             <td>Sun, 23 Aug 2020</td> <th>  Prob (F-statistic):</th>  <td>  0.00</td> \n",
       "</tr>\n",
       "<tr>\n",
       "  <th>Time:</th>                 <td>13:23:06</td>     <th>  Log-Likelihood:    </th> <td> -3252.3</td>\n",
       "</tr>\n",
       "<tr>\n",
       "  <th>No. Observations:</th>      <td>  4933</td>      <th>  AIC:               </th> <td>   6523.</td>\n",
       "</tr>\n",
       "<tr>\n",
       "  <th>Df Residuals:</th>          <td>  4924</td>      <th>  BIC:               </th> <td>   6581.</td>\n",
       "</tr>\n",
       "<tr>\n",
       "  <th>Df Model:</th>              <td>     9</td>      <th>                     </th>     <td> </td>   \n",
       "</tr>\n",
       "<tr>\n",
       "  <th>Covariance Type:</th>      <td>nonrobust</td>    <th>                     </th>     <td> </td>   \n",
       "</tr>\n",
       "</table>\n",
       "<table class=\"simpletable\">\n",
       "<tr>\n",
       "   <td></td>     <th>coef</th>     <th>std err</th>      <th>t</th>      <th>P>|t|</th>  <th>[0.025</th>    <th>0.975]</th>  \n",
       "</tr>\n",
       "<tr>\n",
       "  <th>x1</th> <td>   -0.0779</td> <td>    0.114</td> <td>   -0.681</td> <td> 0.496</td> <td>   -0.302</td> <td>    0.146</td>\n",
       "</tr>\n",
       "<tr>\n",
       "  <th>x2</th> <td>    0.1484</td> <td>    0.056</td> <td>    2.664</td> <td> 0.008</td> <td>    0.039</td> <td>    0.258</td>\n",
       "</tr>\n",
       "<tr>\n",
       "  <th>x3</th> <td>   -0.2128</td> <td>    0.132</td> <td>   -1.610</td> <td> 0.107</td> <td>   -0.472</td> <td>    0.046</td>\n",
       "</tr>\n",
       "<tr>\n",
       "  <th>x4</th> <td>    0.0768</td> <td>    0.071</td> <td>    1.084</td> <td> 0.278</td> <td>   -0.062</td> <td>    0.216</td>\n",
       "</tr>\n",
       "<tr>\n",
       "  <th>x5</th> <td>    0.2648</td> <td>    0.062</td> <td>    4.275</td> <td> 0.000</td> <td>    0.143</td> <td>    0.386</td>\n",
       "</tr>\n",
       "<tr>\n",
       "  <th>x6</th> <td>    0.1171</td> <td>    0.064</td> <td>    1.832</td> <td> 0.067</td> <td>   -0.008</td> <td>    0.242</td>\n",
       "</tr>\n",
       "<tr>\n",
       "  <th>x7</th> <td>    0.0675</td> <td>    0.040</td> <td>    1.682</td> <td> 0.093</td> <td>   -0.011</td> <td>    0.146</td>\n",
       "</tr>\n",
       "<tr>\n",
       "  <th>x8</th> <td>    0.0506</td> <td>    0.086</td> <td>    0.588</td> <td> 0.556</td> <td>   -0.118</td> <td>    0.219</td>\n",
       "</tr>\n",
       "<tr>\n",
       "  <th>x9</th> <td>    0.2219</td> <td>    0.034</td> <td>    6.561</td> <td> 0.000</td> <td>    0.156</td> <td>    0.288</td>\n",
       "</tr>\n",
       "</table>\n",
       "<table class=\"simpletable\">\n",
       "<tr>\n",
       "  <th>Omnibus:</th>       <td> 0.465</td> <th>  Durbin-Watson:     </th> <td>   2.038</td> \n",
       "</tr>\n",
       "<tr>\n",
       "  <th>Prob(Omnibus):</th> <td> 0.793</td> <th>  Jarque-Bera (JB):  </th> <td> 728.620</td> \n",
       "</tr>\n",
       "<tr>\n",
       "  <th>Skew:</th>          <td> 0.024</td> <th>  Prob(JB):          </th> <td>6.06e-159</td>\n",
       "</tr>\n",
       "<tr>\n",
       "  <th>Kurtosis:</th>      <td> 1.118</td> <th>  Cond. No.          </th> <td>    37.7</td> \n",
       "</tr>\n",
       "</table><br/><br/>Warnings:<br/>[1] Standard Errors assume that the covariance matrix of the errors is correctly specified."
      ],
      "text/plain": [
       "<class 'statsmodels.iolib.summary.Summary'>\n",
       "\"\"\"\n",
       "                            OLS Regression Results                            \n",
       "==============================================================================\n",
       "Dep. Variable:              20_target   R-squared:                       0.530\n",
       "Model:                            OLS   Adj. R-squared:                  0.529\n",
       "Method:                 Least Squares   F-statistic:                     616.4\n",
       "Date:                Sun, 23 Aug 2020   Prob (F-statistic):               0.00\n",
       "Time:                        13:23:06   Log-Likelihood:                -3252.3\n",
       "No. Observations:                4933   AIC:                             6523.\n",
       "Df Residuals:                    4924   BIC:                             6581.\n",
       "Df Model:                           9                                         \n",
       "Covariance Type:            nonrobust                                         \n",
       "==============================================================================\n",
       "                 coef    std err          t      P>|t|      [0.025      0.975]\n",
       "------------------------------------------------------------------------------\n",
       "x1            -0.0779      0.114     -0.681      0.496      -0.302       0.146\n",
       "x2             0.1484      0.056      2.664      0.008       0.039       0.258\n",
       "x3            -0.2128      0.132     -1.610      0.107      -0.472       0.046\n",
       "x4             0.0768      0.071      1.084      0.278      -0.062       0.216\n",
       "x5             0.2648      0.062      4.275      0.000       0.143       0.386\n",
       "x6             0.1171      0.064      1.832      0.067      -0.008       0.242\n",
       "x7             0.0675      0.040      1.682      0.093      -0.011       0.146\n",
       "x8             0.0506      0.086      0.588      0.556      -0.118       0.219\n",
       "x9             0.2219      0.034      6.561      0.000       0.156       0.288\n",
       "==============================================================================\n",
       "Omnibus:                        0.465   Durbin-Watson:                   2.038\n",
       "Prob(Omnibus):                  0.793   Jarque-Bera (JB):              728.620\n",
       "Skew:                           0.024   Prob(JB):                    6.06e-159\n",
       "Kurtosis:                       1.118   Cond. No.                         37.7\n",
       "==============================================================================\n",
       "\n",
       "Warnings:\n",
       "[1] Standard Errors assume that the covariance matrix of the errors is correctly specified.\n",
       "\"\"\""
      ]
     },
     "execution_count": 29,
     "metadata": {},
     "output_type": "execute_result"
    }
   ],
   "source": [
    "x_train = x_train.drop([\"ind_316\"], axis=1)\n",
    "lm = sm.OLS(y_train, np.asarray(x_train))\n",
    "model = lm.fit()\n",
    "model.summary()"
   ]
  },
  {
   "cell_type": "markdown",
   "metadata": {},
   "source": [
    "### 6.2.  Elimination 2"
   ]
  },
  {
   "cell_type": "code",
   "execution_count": 30,
   "metadata": {},
   "outputs": [
    {
     "data": {
      "text/html": [
       "<table class=\"simpletable\">\n",
       "<caption>OLS Regression Results</caption>\n",
       "<tr>\n",
       "  <th>Dep. Variable:</th>        <td>20_target</td>    <th>  R-squared:         </th> <td>   0.529</td>\n",
       "</tr>\n",
       "<tr>\n",
       "  <th>Model:</th>                   <td>OLS</td>       <th>  Adj. R-squared:    </th> <td>   0.529</td>\n",
       "</tr>\n",
       "<tr>\n",
       "  <th>Method:</th>             <td>Least Squares</td>  <th>  F-statistic:       </th> <td>   692.7</td>\n",
       "</tr>\n",
       "<tr>\n",
       "  <th>Date:</th>             <td>Sun, 23 Aug 2020</td> <th>  Prob (F-statistic):</th>  <td>  0.00</td> \n",
       "</tr>\n",
       "<tr>\n",
       "  <th>Time:</th>                 <td>13:23:06</td>     <th>  Log-Likelihood:    </th> <td> -3254.0</td>\n",
       "</tr>\n",
       "<tr>\n",
       "  <th>No. Observations:</th>      <td>  4933</td>      <th>  AIC:               </th> <td>   6524.</td>\n",
       "</tr>\n",
       "<tr>\n",
       "  <th>Df Residuals:</th>          <td>  4925</td>      <th>  BIC:               </th> <td>   6576.</td>\n",
       "</tr>\n",
       "<tr>\n",
       "  <th>Df Model:</th>              <td>     8</td>      <th>                     </th>     <td> </td>   \n",
       "</tr>\n",
       "<tr>\n",
       "  <th>Covariance Type:</th>      <td>nonrobust</td>    <th>                     </th>     <td> </td>   \n",
       "</tr>\n",
       "</table>\n",
       "<table class=\"simpletable\">\n",
       "<tr>\n",
       "   <td></td>     <th>coef</th>     <th>std err</th>      <th>t</th>      <th>P>|t|</th>  <th>[0.025</th>    <th>0.975]</th>  \n",
       "</tr>\n",
       "<tr>\n",
       "  <th>x1</th> <td>   -0.0917</td> <td>    0.114</td> <td>   -0.803</td> <td> 0.422</td> <td>   -0.316</td> <td>    0.132</td>\n",
       "</tr>\n",
       "<tr>\n",
       "  <th>x2</th> <td>    0.1703</td> <td>    0.054</td> <td>    3.131</td> <td> 0.002</td> <td>    0.064</td> <td>    0.277</td>\n",
       "</tr>\n",
       "<tr>\n",
       "  <th>x3</th> <td>   -0.2896</td> <td>    0.125</td> <td>   -2.310</td> <td> 0.021</td> <td>   -0.535</td> <td>   -0.044</td>\n",
       "</tr>\n",
       "<tr>\n",
       "  <th>x4</th> <td>    0.0598</td> <td>    0.070</td> <td>    0.851</td> <td> 0.395</td> <td>   -0.078</td> <td>    0.198</td>\n",
       "</tr>\n",
       "<tr>\n",
       "  <th>x5</th> <td>    0.3030</td> <td>    0.058</td> <td>    5.196</td> <td> 0.000</td> <td>    0.189</td> <td>    0.417</td>\n",
       "</tr>\n",
       "<tr>\n",
       "  <th>x6</th> <td>    0.0956</td> <td>    0.037</td> <td>    2.578</td> <td> 0.010</td> <td>    0.023</td> <td>    0.168</td>\n",
       "</tr>\n",
       "<tr>\n",
       "  <th>x7</th> <td>    0.1010</td> <td>    0.082</td> <td>    1.239</td> <td> 0.216</td> <td>   -0.059</td> <td>    0.261</td>\n",
       "</tr>\n",
       "<tr>\n",
       "  <th>x8</th> <td>    0.2427</td> <td>    0.032</td> <td>    7.614</td> <td> 0.000</td> <td>    0.180</td> <td>    0.305</td>\n",
       "</tr>\n",
       "</table>\n",
       "<table class=\"simpletable\">\n",
       "<tr>\n",
       "  <th>Omnibus:</th>       <td> 0.483</td> <th>  Durbin-Watson:     </th> <td>   2.038</td> \n",
       "</tr>\n",
       "<tr>\n",
       "  <th>Prob(Omnibus):</th> <td> 0.785</td> <th>  Jarque-Bera (JB):  </th> <td> 727.493</td> \n",
       "</tr>\n",
       "<tr>\n",
       "  <th>Skew:</th>          <td> 0.024</td> <th>  Prob(JB):          </th> <td>1.06e-158</td>\n",
       "</tr>\n",
       "<tr>\n",
       "  <th>Kurtosis:</th>      <td> 1.119</td> <th>  Cond. No.          </th> <td>    33.4</td> \n",
       "</tr>\n",
       "</table><br/><br/>Warnings:<br/>[1] Standard Errors assume that the covariance matrix of the errors is correctly specified."
      ],
      "text/plain": [
       "<class 'statsmodels.iolib.summary.Summary'>\n",
       "\"\"\"\n",
       "                            OLS Regression Results                            \n",
       "==============================================================================\n",
       "Dep. Variable:              20_target   R-squared:                       0.529\n",
       "Model:                            OLS   Adj. R-squared:                  0.529\n",
       "Method:                 Least Squares   F-statistic:                     692.7\n",
       "Date:                Sun, 23 Aug 2020   Prob (F-statistic):               0.00\n",
       "Time:                        13:23:06   Log-Likelihood:                -3254.0\n",
       "No. Observations:                4933   AIC:                             6524.\n",
       "Df Residuals:                    4925   BIC:                             6576.\n",
       "Df Model:                           8                                         \n",
       "Covariance Type:            nonrobust                                         \n",
       "==============================================================================\n",
       "                 coef    std err          t      P>|t|      [0.025      0.975]\n",
       "------------------------------------------------------------------------------\n",
       "x1            -0.0917      0.114     -0.803      0.422      -0.316       0.132\n",
       "x2             0.1703      0.054      3.131      0.002       0.064       0.277\n",
       "x3            -0.2896      0.125     -2.310      0.021      -0.535      -0.044\n",
       "x4             0.0598      0.070      0.851      0.395      -0.078       0.198\n",
       "x5             0.3030      0.058      5.196      0.000       0.189       0.417\n",
       "x6             0.0956      0.037      2.578      0.010       0.023       0.168\n",
       "x7             0.1010      0.082      1.239      0.216      -0.059       0.261\n",
       "x8             0.2427      0.032      7.614      0.000       0.180       0.305\n",
       "==============================================================================\n",
       "Omnibus:                        0.483   Durbin-Watson:                   2.038\n",
       "Prob(Omnibus):                  0.785   Jarque-Bera (JB):              727.493\n",
       "Skew:                           0.024   Prob(JB):                    1.06e-158\n",
       "Kurtosis:                       1.119   Cond. No.                         33.4\n",
       "==============================================================================\n",
       "\n",
       "Warnings:\n",
       "[1] Standard Errors assume that the covariance matrix of the errors is correctly specified.\n",
       "\"\"\""
      ]
     },
     "execution_count": 30,
     "metadata": {},
     "output_type": "execute_result"
    }
   ],
   "source": [
    "x_train = x_train.drop([\"ind_5\"], axis=1)\n",
    "lm = sm.OLS(y_train, np.asarray(x_train))\n",
    "model = lm.fit()\n",
    "model.summary()"
   ]
  },
  {
   "cell_type": "markdown",
   "metadata": {},
   "source": [
    "# 7. Evaluation"
   ]
  },
  {
   "cell_type": "markdown",
   "metadata": {},
   "source": [
    "Burada modelimizdeki hatalar standard dagilima gore nasil bir dagilim gosterdigini hesapliyoruz. Hatamizin standard dagilimdan gelmesi gerekiyor. Grafikte goruldugu gibi hatalarimiz uclarda oldugundan outlier gozlemler bulunuyor. Yani modelimiz dogru bir fit yapmamis."
   ]
  },
  {
   "cell_type": "code",
   "execution_count": 31,
   "metadata": {},
   "outputs": [
    {
     "name": "stdout",
     "output_type": "stream",
     "text": [
      "Leverage v.s. Studentized Residuals\n"
     ]
    },
    {
     "data": {
      "text/plain": [
       "<matplotlib.axes._subplots.AxesSubplot at 0x7fa033a27c10>"
      ]
     },
     "execution_count": 31,
     "metadata": {},
     "output_type": "execute_result"
    },
    {
     "data": {
      "image/png": "[encoded data removed]",
      "text/plain": [
       "<Figure size 432x288 with 1 Axes>"
      ]
     },
     "metadata": {
      "needs_background": "light"
     },
     "output_type": "display_data"
    }
   ],
   "source": [
    "influence = model.get_influence()\n",
    "resid_student = influence.resid_studentized_external\n",
    "(cooks, p) = influence.cooks_distance\n",
    "(dffits, p) = influence.dffits\n",
    "leverage = influence.hat_matrix_diag\n",
    "print(\"Leverage v.s. Studentized Residuals\")\n",
    "sns.regplot(leverage, model.resid_pearson, fit_reg=False)"
   ]
  },
  {
   "cell_type": "code",
   "execution_count": 32,
   "metadata": {},
   "outputs": [
    {
     "data": {
      "image/png": "[encoded data removed]",
      "text/plain": [
       "<Figure size 432x288 with 1 Axes>"
      ]
     },
     "metadata": {
      "needs_background": "light"
     },
     "output_type": "display_data"
    }
   ],
   "source": [
    "hw_df = pd.concat([x_train , pd.Series(model.resid, name = 'resid'), pd.Series(model.predict(), name = \"predict\")], axis = 1)\n",
    "sns.kdeplot(np.array(hw_df.resid), bw=10)\n",
    "plt.show()"
   ]
  },
  {
   "cell_type": "code",
   "execution_count": 33,
   "metadata": {},
   "outputs": [
    {
     "data": {
      "image/png": "[encoded data removed]",
      "text/plain": [
       "<Figure size 432x288 with 1 Axes>"
      ]
     },
     "metadata": {
      "needs_background": "light"
     },
     "output_type": "display_data"
    }
   ],
   "source": [
    "sns.distplot(np.array(hw_df.resid), hist=False)\n",
    "plt.show()"
   ]
  },
  {
   "cell_type": "markdown",
   "metadata": {},
   "source": [
    "### 7.1. Hatalarin Dagilimi \n",
    "\n",
    "Burda goruyoruz ki hatalarimiz bekledigimiz normal dagilim varsayimina uymamaktadir. "
   ]
  },
  {
   "cell_type": "code",
   "execution_count": 34,
   "metadata": {
    "scrolled": true
   },
   "outputs": [
    {
     "data": {
      "image/png": "[encoded data removed]",
      "text/plain": [
       "<Figure size 432x288 with 1 Axes>"
      ]
     },
     "metadata": {
      "needs_background": "light"
     },
     "output_type": "display_data"
    }
   ],
   "source": [
    "import pylab\n",
    "stats.probplot(hw_df.resid, dist=\"norm\", plot=pylab)\n",
    "pylab.show()"
   ]
  },
  {
   "cell_type": "code",
   "execution_count": 35,
   "metadata": {},
   "outputs": [
    {
     "name": "stdout",
     "output_type": "stream",
     "text": [
      "Hatalar Normal (Gaussian) Dağılımdan gelmektedir (Fail to Reject H0)\n"
     ]
    }
   ],
   "source": [
    "from scipy.stats import shapiro\n",
    "\n",
    "stat, p =shapiro(hw_df.resid)\n",
    "alpha = 0.05\n",
    "if p > alpha:\n",
    "    print('Hatalar Normal (Gaussian) Dağılımdan gelmektedir (Fail to Reject H0)')\n",
    "else:\n",
    "    print('Hatalar Normal (Gaussian) Dağılımdan gelmemektedir (reject H0)')"
   ]
  },
  {
   "cell_type": "code",
   "execution_count": 37,
   "metadata": {},
   "outputs": [
    {
     "data": {
      "text/plain": [
       "<matplotlib.collections.PathCollection at 0x7fa03828b590>"
      ]
     },
     "execution_count": 37,
     "metadata": {},
     "output_type": "execute_result"
    },
    {
     "data": {
      "image/png": "[encoded data removed]",
      "text/plain": [
       "<Figure size 432x288 with 1 Axes>"
      ]
     },
     "metadata": {
      "needs_background": "light"
     },
     "output_type": "display_data"
    }
   ],
   "source": [
    "resid = model.resid\n",
    "plt.scatter(model.predict(), resid)"
   ]
  },
  {
   "cell_type": "code",
   "execution_count": 38,
   "metadata": {},
   "outputs": [
    {
     "name": "stdout",
     "output_type": "stream",
     "text": [
      "Train MSE:  0.46799698539497386\n",
      "Test MSE:  0.46751862739942407\n"
     ]
    }
   ],
   "source": [
    "from sklearn.metrics import mean_squared_error, r2_score\n",
    "print(\"Train MSE: \",np.sqrt(mean_squared_error(y_train, model.predict(x_train))))\n",
    "print(\"Test MSE: \",np.sqrt(mean_squared_error(y_test, model.predict(x_test[x_train.columns]))))\n"
   ]
  }
 ],
 "metadata": {
  "kernelspec": {
   "display_name": "Python 3",
   "language": "python",
   "name": "python3"
  },
  "language_info": {
   "codemirror_mode": {
    "name": "ipython",
    "version": 3
   },
   "file_extension": ".py",
   "mimetype": "text/x-python",
   "name": "python",
   "nbconvert_exporter": "python",
   "pygments_lexer": "ipython3",
   "version": "3.7.4"
  }
 },
 "nbformat": 4,
 "nbformat_minor": 2
}
