{
  "nbformat": 4,
  "nbformat_minor": 0,
  "metadata": {
    "kernelspec": {
      "display_name": "Python 3",
      "language": "python",
      "name": "python3"
    },
    "language_info": {
      "codemirror_mode": {
        "name": "ipython",
        "version": 3
      },
      "file_extension": ".py",
      "mimetype": "text/x-python",
      "name": "python",
      "nbconvert_exporter": "python",
      "pygments_lexer": "ipython3",
      "version": "3.7.4"
    },
    "colab": {
      "name": "assignment6-Classification.ipynb",
      "provenance": [],
      "collapsed_sections": []
    }
  },
  "cells": [
    {
      "cell_type": "code",
      "metadata": {
        "id": "M1meCQDTxqHy",
        "colab_type": "code",
        "colab": {
          "base_uri": "https://localhost:8080/",
          "height": 72
        },
        "outputId": "6c387b92-b19e-4567-aa7b-67dbe6d53f5d"
      },
      "source": [
        "import numpy as np\n",
        "import pandas as pd \n",
        "import statsmodels.api as sm\n",
        "import statsmodels.formula.api as smf\n",
        "import seaborn as sns\n",
        "import matplotlib.pyplot as plt\n",
        "from sklearn.preprocessing import scale, MinMaxScaler, Normalizer, StandardScaler, MaxAbsScaler\n",
        "from sklearn.model_selection import train_test_split, GridSearchCV, cross_val_score\n",
        "from sklearn.metrics import confusion_matrix, accuracy_score, classification_report\n",
        "from sklearn.metrics import precision_score, recall_score, f1_score\n",
        "from sklearn.metrics import roc_auc_score,roc_curve\n",
        "import statsmodels.formula.api as smf\n",
        "from sklearn.linear_model import LogisticRegression\n",
        "from sklearn import preprocessing\n",
        "from sklearn.tree import DecisionTreeClassifier\n",
        "from sklearn.ensemble import RandomForestClassifier\n",
        "from sklearn.neural_network import MLPClassifier\n",
        "from sklearn.decomposition import PCA\n",
        "from sklearn import tree \n",
        "import timeit\n",
        "from warnings import filterwarnings\n",
        "filterwarnings('ignore')"
      ],
      "execution_count": 1,
      "outputs": [
        {
          "output_type": "stream",
          "text": [
            "/usr/local/lib/python3.6/dist-packages/statsmodels/tools/_testing.py:19: FutureWarning: pandas.util.testing is deprecated. Use the functions in the public API at pandas.testing instead.\n",
            "  import pandas.util.testing as tm\n"
          ],
          "name": "stderr"
        }
      ]
    },
    {
      "cell_type": "code",
      "metadata": {
        "id": "rg7M5XzbxqID",
        "colab_type": "code",
        "colab": {}
      },
      "source": [
        "def crosstab(index, col, normalize=\"columns\"):\n",
        "    return pd.crosstab(index, col, normalize=normalize)"
      ],
      "execution_count": null,
      "outputs": []
    },
    {
      "cell_type": "code",
      "metadata": {
        "id": "i7_hKEOzxqIY",
        "colab_type": "code",
        "colab": {}
      },
      "source": [
        "def correlation_df(data, remove_columns=None):\n",
        "    if(remove_columns is None):\n",
        "        corr = data.corr()\n",
        "        corr = corr.where(np.triu(np.ones(corr.shape)).astype(np.bool))\n",
        "        corr = corr.stack().reset_index()\n",
        "        new_df = corr[corr[\"level_0\"] != corr[\"level_1\"]]\n",
        "        new_df.columns = ['feature1','feature2','Corr']\n",
        "        new_df[\"Corr\"] = abs(new_df[\"Corr\"])\n",
        "    else:\n",
        "        data2 = data.drop(remove_columns, axis=1)\n",
        "        corr = data2.corr()\n",
        "        corr = corr.where(np.triu(np.ones(corr.shape)).astype(np.bool))\n",
        "        corr = corr.stack().reset_index()\n",
        "        new_df = corr[corr[\"level_0\"] != corr[\"level_1\"]]\n",
        "        new_df.columns = ['feature1','feature2','Corr']\n",
        "        new_df[\"Corr\"] = abs(new_df[\"Corr\"])\n",
        "    return new_df"
      ],
      "execution_count": null,
      "outputs": []
    },
    {
      "cell_type": "code",
      "metadata": {
        "id": "G8DgCCBlxqIk",
        "colab_type": "code",
        "colab": {}
      },
      "source": [
        "def numeric_categoric_variable(data):\n",
        "    name_of_col = list(data.columns)\n",
        "    num_var_list = []\n",
        "    str_var_list = []\n",
        "    drop_col=[]\n",
        "\n",
        "    str_var_list = name_of_col.copy()\n",
        "    for var in name_of_col:\n",
        "        # check if column belongs to numeric type\n",
        "        if (data[var].dtypes not in (np.object, np.str)):\n",
        "            str_var_list.remove(var)\n",
        "            num_var_list.append(var)\n",
        "        # drop the omit column from list\n",
        "    for var in drop_col:\n",
        "        if var in str_var_list:\n",
        "            str_var_list.remove(var)\n",
        "        if var in num_var_list:\n",
        "            num_var_list.remove(var)\n",
        "    print(\"Numeric Column  :\\n\", num_var_list,\n",
        "          \"\\n\\nCategoric Column :\\n\", str_var_list)\n",
        "    return num_var_list, str_var_list\n",
        "\n",
        "def sortDifferentCategory(data):\n",
        "    def takeSecond(elem):\n",
        "        return elem[1]\n",
        "\n",
        "    listem = []\n",
        "    for i in data.select_dtypes(include=[\"object\", \"int64\", \"float64\"]).columns:\n",
        "        listem.append([i, data[i].value_counts().count()])\n",
        "\n",
        "    return sorted(listem, key=takeSecond ,reverse=False)\n"
      ],
      "execution_count": null,
      "outputs": []
    },
    {
      "cell_type": "code",
      "metadata": {
        "id": "_5Q6CsTaxqIv",
        "colab_type": "code",
        "colab": {}
      },
      "source": [
        "def layer1(data_norm, remove_col, threshold):\n",
        "    corr_col=set()\n",
        "    data2 = data.drop(remove_col, axis=1)\n",
        "    corrmat=data2.corr()\n",
        "    for i in range(len(corrmat.columns)):\n",
        "        for j in range(i):\n",
        "            if abs(corrmat.iloc[i,j] > threshold):\n",
        "                colname=corrmat.columns[i]\n",
        "                corr_col.add(colname)\n",
        "    corr_col=list(corr_col)\n",
        "    layer1_df = data_norm.drop(corr_col, axis=1)\n",
        "    #layer1_df[\"labels\"] = data_norm[\"labels\"]\n",
        "    return layer1_df\n",
        "\n",
        "def layer2(new_df, target, num_feats):\n",
        "    x = new_df.drop([target], axis=1)\n",
        "    y = new_df[target]\n",
        "    cor_list = []\n",
        "    feature_name = list(x.columns)\n",
        "    for i in list(x.columns):\n",
        "        cor = np.corrcoef(x[i],y)[0,1]\n",
        "        cor_list.append(cor)\n",
        "\n",
        "    cor_list = [0 if np.isnan(i) else i for i in cor_list]\n",
        "    cor_feature = x.iloc[:,np.argsort(np.abs(cor_list))[-num_feats:]].columns.tolist()\n",
        "    return cor_feature\n",
        "\n",
        "def featureselection_corrcorr(data, target, threshold, num_feat):\n",
        "    layer1_df = layer1(data, target, threshold)\n",
        "    last_features = layer2(layer1_df, target, num_feat)\n",
        "    reduced_df = data[last_features]\n",
        "    reduced_df[target] = data[target]\n",
        "    return reduced_df"
      ],
      "execution_count": null,
      "outputs": []
    },
    {
      "cell_type": "code",
      "metadata": {
        "id": "D6rMDpMixqI6",
        "colab_type": "code",
        "colab": {}
      },
      "source": [
        "def featureselection_pca(data_minmax, target, threshold):\n",
        "    x = data_minmax.drop([target], axis=1)\n",
        "    y = data_minmax[target]\n",
        "    pca = PCA()    \n",
        "    X_pca = pca.fit_transform(x)\n",
        "    arr = np.cumsum(np.round(pca.explained_variance_ratio_, decimals = 4)*100)\n",
        "    num_var = sum((arr < threshold*100)) + 1 \n",
        "    print('pca sonrası değişken sayısı: ',num_var)\n",
        "    X_pcad = pd.DataFrame(X_pca[:,0:num_var], index = x.index)\n",
        "    X_pcad[target] = y\n",
        "    return X_pcad"
      ],
      "execution_count": null,
      "outputs": []
    },
    {
      "cell_type": "code",
      "metadata": {
        "scrolled": true,
        "id": "nmBdnq-mxqJF",
        "colab_type": "code",
        "colab": {}
      },
      "source": [
        "def featureselection_randomforest(xtrain,ytrain, params, top_feat, cv=10, n_jobs=-1, verbose=2):\n",
        "    model = RandomForestClassifier()\n",
        "    gridsearch_cv = GridSearchCV(model, params, cv=cv, n_jobs=n_jobs, verbose=verbose)\n",
        "    grid_cv_model = gridsearch_cv.fit(xtrain, ytrain)\n",
        "    # best parameters\n",
        "    model.max_depth = grid_cv_model.best_params_[\"max_depth\"]\n",
        "    model.max_features = grid_cv_model.best_params_[\"max_features\"] \n",
        "    model.n_estimators = grid_cv_model.best_params_[\"n_estimators\"]\n",
        "    model.min_samples_split= grid_cv_model.best_params_[\"min_samples_split\"]\n",
        "    # tuned model\n",
        "    model_tuned = model.fit(xtrain, ytrain)\n",
        "    #y_pred = model_tuned.predict(xtest)\n",
        "    \n",
        "    importance = pd.DataFrame({\"importance\": model.feature_importances_*100}, index = xtrain.columns)\n",
        "    rf_columns = importance.sort_values(by=\"importance\", axis=0, ascending=False).head(top_feat).index\n",
        "    new_df = xtrain[rf_columns]\n",
        "    new_df[\"bad\"] = ytrain\n",
        "    return new_df"
      ],
      "execution_count": null,
      "outputs": []
    },
    {
      "cell_type": "code",
      "metadata": {
        "id": "cYu70vRMxqJO",
        "colab_type": "code",
        "colab": {}
      },
      "source": [
        "def describe(data):\n",
        "    desc_df = data.describe().T\n",
        "    null_count = data.isnull().sum()\n",
        "    null_percent = (data.isnull().sum() / data.count())*100\n",
        "    variance = data.var()\n",
        "\n",
        "    desc_df[\"variance\"] =  round(variance,3)\n",
        "    desc_df[\"null_values\"] = round(null_count,3)\n",
        "    desc_df[\"null__rate\"] = round(null_percent,3)\n",
        "    return desc_df.T"
      ],
      "execution_count": null,
      "outputs": []
    },
    {
      "cell_type": "code",
      "metadata": {
        "id": "JNndigoxxqJW",
        "colab_type": "code",
        "colab": {}
      },
      "source": [
        "def normalization_minmax(dataframe):\n",
        "    scaler = preprocessing.MinMaxScaler()\n",
        "    scaler.fit(dataframe)\n",
        "    array = scaler.transform(dataframe)\n",
        "    data_minmax = pd.DataFrame(array, columns=dataframe.columns)\n",
        "    return data_minmax"
      ],
      "execution_count": null,
      "outputs": []
    },
    {
      "cell_type": "code",
      "metadata": {
        "id": "IPS8cMwBxqJf",
        "colab_type": "code",
        "colab": {}
      },
      "source": [
        "def nulldata_check(data):\n",
        "    count = data.isnull().sum().sort_values(ascending=True).to_frame()\n",
        "    percent = (data.isnull().sum().sort_values(ascending=True)/data[\"bad\"].count()).to_frame().round(decimals=4)\n",
        "    df = pd.concat([count, percent], axis=1)\n",
        "    df.columns = [\"count\",\"percentage\"]\n",
        "    return df"
      ],
      "execution_count": null,
      "outputs": []
    },
    {
      "cell_type": "code",
      "metadata": {
        "id": "Ng9OktrpxqJo",
        "colab_type": "code",
        "colab": {}
      },
      "source": [
        "def evaluation_metrics(ytest, y_pred):\n",
        "    print(\"accuracy : \", round(accuracy_score(ytest,y_pred),5),\n",
        "      \"\\nprecision: \", round(precision_score(ytest,y_pred),5),\n",
        "      \"\\nrecall   : \", round(recall_score(ytest,y_pred),5),\n",
        "      \"\\nf1-score : \", round(f1_score(ytest,y_pred),5))"
      ],
      "execution_count": null,
      "outputs": []
    },
    {
      "cell_type": "markdown",
      "metadata": {
        "id": "ZPw0DnhZxqJ0",
        "colab_type": "text"
      },
      "source": [
        "# **1. Data Exploration**"
      ]
    },
    {
      "cell_type": "markdown",
      "metadata": {
        "id": "MGWP3TruxqJ2",
        "colab_type": "text"
      },
      "source": [
        "### **1.1.  Veri Degiskenlerinin Aciklanmasi**"
      ]
    },
    {
      "cell_type": "markdown",
      "metadata": {
        "id": "vf7hS8DBxqJ3",
        "colab_type": "text"
      },
      "source": [
        "**BAD:** BAD değişkeni veri setinde hedef değişkenidir. **'1'** kişinin borcunu zamanında ve usulüne göre yerine getirmediği durum. **'0'** kredi borcunu zamanında ödemiş. \n",
        "\n",
        "**LOAN:** Bankadan talep ettiği kredi miktarı \n",
        "\n",
        "**MORTDUE:** İpotek için ödemesi gereken tutar\n",
        "\n",
        "**VALUE:** Müşterinin geçerli mülk değeri\n",
        "\n",
        "**REASON:** **DebtCont=** diğer borç yükümlülükleri için alınan borç. **HomeImp=** Kişisel ev ihtiyaçları için alınan borç \n",
        "\n",
        "**JOB:** Müşterinin meslek (kategorik veri)\n",
        "\n",
        "**YOJ:** Mevcut mesleğinde kaç yıldır çalışıyor\n",
        "\n",
        "**DEROG:** Kredi almasını etkileyen önemli zararlı/uygunsuz rapor sayısı\n",
        "\n",
        "**DELINQ:** Zamanında ödenmemiş kredi sayısı\n",
        "\n",
        "**CLAGE:** Aylar içinde en eski kredi limitinin yaşı\n",
        "\n",
        "**NINQ:** Kredi ile ilgili son yapılan sorgu sayısı\n",
        "\n",
        "**CLNO:** Kredi limitinin sayısı \n",
        "\n",
        "**DEBTINC:** Müşterinin borç-gelir oranı "
      ]
    },
    {
      "cell_type": "code",
      "metadata": {
        "id": "pm7_ONOZxqJ4",
        "colab_type": "code",
        "colab": {
          "base_uri": "https://localhost:8080/",
          "height": 206
        },
        "outputId": "895a2044-fcf9-4e9a-c09d-a828013889e3"
      },
      "source": [
        "data = pd.read_csv(\"/content/drive/My Drive/Colab Notebooks/Veri-Bilimi-Bootcamp/hmelq.csv\")\n",
        "data.head()"
      ],
      "execution_count": null,
      "outputs": [
        {
          "output_type": "execute_result",
          "data": {
            "text/html": [
              "<div>\n",
              "<style scoped>\n",
              "    .dataframe tbody tr th:only-of-type {\n",
              "        vertical-align: middle;\n",
              "    }\n",
              "\n",
              "    .dataframe tbody tr th {\n",
              "        vertical-align: top;\n",
              "    }\n",
              "\n",
              "    .dataframe thead th {\n",
              "        text-align: right;\n",
              "    }\n",
              "</style>\n",
              "<table border=\"1\" class=\"dataframe\">\n",
              "  <thead>\n",
              "    <tr style=\"text-align: right;\">\n",
              "      <th></th>\n",
              "      <th>bad</th>\n",
              "      <th>loan</th>\n",
              "      <th>mortdue</th>\n",
              "      <th>value</th>\n",
              "      <th>reason</th>\n",
              "      <th>job</th>\n",
              "      <th>yoj</th>\n",
              "      <th>derog</th>\n",
              "      <th>delinq</th>\n",
              "      <th>clage</th>\n",
              "      <th>ninq</th>\n",
              "      <th>clno</th>\n",
              "      <th>debtinc</th>\n",
              "    </tr>\n",
              "  </thead>\n",
              "  <tbody>\n",
              "    <tr>\n",
              "      <th>0</th>\n",
              "      <td>0</td>\n",
              "      <td>81200</td>\n",
              "      <td>18834.0</td>\n",
              "      <td>108355.0</td>\n",
              "      <td>HomeImp</td>\n",
              "      <td>NaN</td>\n",
              "      <td>28.0</td>\n",
              "      <td>0.0</td>\n",
              "      <td>0.0</td>\n",
              "      <td>139.14</td>\n",
              "      <td>0.0</td>\n",
              "      <td>14.0</td>\n",
              "      <td>34.042</td>\n",
              "    </tr>\n",
              "    <tr>\n",
              "      <th>1</th>\n",
              "      <td>0</td>\n",
              "      <td>12600</td>\n",
              "      <td>103960.0</td>\n",
              "      <td>127384.0</td>\n",
              "      <td>DebtCon</td>\n",
              "      <td>NaN</td>\n",
              "      <td>2.0</td>\n",
              "      <td>0.0</td>\n",
              "      <td>0.0</td>\n",
              "      <td>129.02</td>\n",
              "      <td>0.0</td>\n",
              "      <td>25.0</td>\n",
              "      <td>34.479</td>\n",
              "    </tr>\n",
              "    <tr>\n",
              "      <th>2</th>\n",
              "      <td>0</td>\n",
              "      <td>18000</td>\n",
              "      <td>46865.0</td>\n",
              "      <td>61266.0</td>\n",
              "      <td>DebtCon</td>\n",
              "      <td>NaN</td>\n",
              "      <td>5.0</td>\n",
              "      <td>0.0</td>\n",
              "      <td>0.0</td>\n",
              "      <td>102.59</td>\n",
              "      <td>2.0</td>\n",
              "      <td>9.0</td>\n",
              "      <td>26.354</td>\n",
              "    </tr>\n",
              "    <tr>\n",
              "      <th>3</th>\n",
              "      <td>0</td>\n",
              "      <td>10300</td>\n",
              "      <td>57676.0</td>\n",
              "      <td>71027.0</td>\n",
              "      <td>DebtCon</td>\n",
              "      <td>NaN</td>\n",
              "      <td>19.0</td>\n",
              "      <td>0.0</td>\n",
              "      <td>0.0</td>\n",
              "      <td>157.52</td>\n",
              "      <td>1.0</td>\n",
              "      <td>11.0</td>\n",
              "      <td>33.992</td>\n",
              "    </tr>\n",
              "    <tr>\n",
              "      <th>4</th>\n",
              "      <td>0</td>\n",
              "      <td>9400</td>\n",
              "      <td>56508.0</td>\n",
              "      <td>78358.0</td>\n",
              "      <td>DebtCon</td>\n",
              "      <td>NaN</td>\n",
              "      <td>17.0</td>\n",
              "      <td>0.0</td>\n",
              "      <td>0.0</td>\n",
              "      <td>141.93</td>\n",
              "      <td>0.0</td>\n",
              "      <td>11.0</td>\n",
              "      <td>32.327</td>\n",
              "    </tr>\n",
              "  </tbody>\n",
              "</table>\n",
              "</div>"
            ],
            "text/plain": [
              "   bad   loan   mortdue     value   reason  ... delinq   clage  ninq  clno  debtinc\n",
              "0    0  81200   18834.0  108355.0  HomeImp  ...    0.0  139.14   0.0  14.0   34.042\n",
              "1    0  12600  103960.0  127384.0  DebtCon  ...    0.0  129.02   0.0  25.0   34.479\n",
              "2    0  18000   46865.0   61266.0  DebtCon  ...    0.0  102.59   2.0   9.0   26.354\n",
              "3    0  10300   57676.0   71027.0  DebtCon  ...    0.0  157.52   1.0  11.0   33.992\n",
              "4    0   9400   56508.0   78358.0  DebtCon  ...    0.0  141.93   0.0  11.0   32.327\n",
              "\n",
              "[5 rows x 13 columns]"
            ]
          },
          "metadata": {
            "tags": []
          },
          "execution_count": 19
        }
      ]
    },
    {
      "cell_type": "markdown",
      "metadata": {
        "id": "eHcVxyBBxqKG",
        "colab_type": "text"
      },
      "source": [
        "### **1.2. Verilerin Istatistiksel Dagilimi**"
      ]
    },
    {
      "cell_type": "code",
      "metadata": {
        "id": "drlEnU5sxqKH",
        "colab_type": "code",
        "colab": {
          "base_uri": "https://localhost:8080/",
          "height": 412
        },
        "outputId": "c9a9d0cd-f0ee-4154-f93f-094cb7582523"
      },
      "source": [
        "print(\"Shape: \", data.shape)\n",
        "describe(data).T"
      ],
      "execution_count": null,
      "outputs": [
        {
          "output_type": "stream",
          "text": [
            "Shape:  (3576, 13)\n"
          ],
          "name": "stdout"
        },
        {
          "output_type": "execute_result",
          "data": {
            "text/html": [
              "<div>\n",
              "<style scoped>\n",
              "    .dataframe tbody tr th:only-of-type {\n",
              "        vertical-align: middle;\n",
              "    }\n",
              "\n",
              "    .dataframe tbody tr th {\n",
              "        vertical-align: top;\n",
              "    }\n",
              "\n",
              "    .dataframe thead th {\n",
              "        text-align: right;\n",
              "    }\n",
              "</style>\n",
              "<table border=\"1\" class=\"dataframe\">\n",
              "  <thead>\n",
              "    <tr style=\"text-align: right;\">\n",
              "      <th></th>\n",
              "      <th>count</th>\n",
              "      <th>mean</th>\n",
              "      <th>std</th>\n",
              "      <th>min</th>\n",
              "      <th>25%</th>\n",
              "      <th>50%</th>\n",
              "      <th>75%</th>\n",
              "      <th>max</th>\n",
              "      <th>variance</th>\n",
              "      <th>null_values</th>\n",
              "      <th>null__rate</th>\n",
              "    </tr>\n",
              "  </thead>\n",
              "  <tbody>\n",
              "    <tr>\n",
              "      <th>bad</th>\n",
              "      <td>3576.0</td>\n",
              "      <td>0.199385</td>\n",
              "      <td>0.399594</td>\n",
              "      <td>0.00</td>\n",
              "      <td>0.00</td>\n",
              "      <td>0.000</td>\n",
              "      <td>0.00</td>\n",
              "      <td>1.000</td>\n",
              "      <td>1.600000e-01</td>\n",
              "      <td>0.0</td>\n",
              "      <td>0.000</td>\n",
              "    </tr>\n",
              "    <tr>\n",
              "      <th>loan</th>\n",
              "      <td>3576.0</td>\n",
              "      <td>18529.697987</td>\n",
              "      <td>11262.834060</td>\n",
              "      <td>1100.00</td>\n",
              "      <td>11000.00</td>\n",
              "      <td>16200.000</td>\n",
              "      <td>23100.00</td>\n",
              "      <td>89900.000</td>\n",
              "      <td>1.268514e+08</td>\n",
              "      <td>0.0</td>\n",
              "      <td>0.000</td>\n",
              "    </tr>\n",
              "    <tr>\n",
              "      <th>mortdue</th>\n",
              "      <td>3262.0</td>\n",
              "      <td>74013.907992</td>\n",
              "      <td>44016.833772</td>\n",
              "      <td>2619.00</td>\n",
              "      <td>46700.25</td>\n",
              "      <td>65858.000</td>\n",
              "      <td>91717.00</td>\n",
              "      <td>399550.000</td>\n",
              "      <td>1.937482e+09</td>\n",
              "      <td>314.0</td>\n",
              "      <td>9.626</td>\n",
              "    </tr>\n",
              "    <tr>\n",
              "      <th>value</th>\n",
              "      <td>3512.0</td>\n",
              "      <td>101076.922759</td>\n",
              "      <td>54865.275351</td>\n",
              "      <td>8800.00</td>\n",
              "      <td>65753.00</td>\n",
              "      <td>89183.000</td>\n",
              "      <td>118928.25</td>\n",
              "      <td>850000.000</td>\n",
              "      <td>3.010198e+09</td>\n",
              "      <td>64.0</td>\n",
              "      <td>1.822</td>\n",
              "    </tr>\n",
              "    <tr>\n",
              "      <th>yoj</th>\n",
              "      <td>3264.0</td>\n",
              "      <td>8.832644</td>\n",
              "      <td>7.568046</td>\n",
              "      <td>0.00</td>\n",
              "      <td>3.00</td>\n",
              "      <td>7.000</td>\n",
              "      <td>13.00</td>\n",
              "      <td>41.000</td>\n",
              "      <td>5.727500e+01</td>\n",
              "      <td>312.0</td>\n",
              "      <td>9.559</td>\n",
              "    </tr>\n",
              "    <tr>\n",
              "      <th>derog</th>\n",
              "      <td>3149.0</td>\n",
              "      <td>0.261670</td>\n",
              "      <td>0.865178</td>\n",
              "      <td>0.00</td>\n",
              "      <td>0.00</td>\n",
              "      <td>0.000</td>\n",
              "      <td>0.00</td>\n",
              "      <td>10.000</td>\n",
              "      <td>7.490000e-01</td>\n",
              "      <td>427.0</td>\n",
              "      <td>13.560</td>\n",
              "    </tr>\n",
              "    <tr>\n",
              "      <th>delinq</th>\n",
              "      <td>3225.0</td>\n",
              "      <td>0.432558</td>\n",
              "      <td>1.099230</td>\n",
              "      <td>0.00</td>\n",
              "      <td>0.00</td>\n",
              "      <td>0.000</td>\n",
              "      <td>0.00</td>\n",
              "      <td>15.000</td>\n",
              "      <td>1.208000e+00</td>\n",
              "      <td>351.0</td>\n",
              "      <td>10.884</td>\n",
              "    </tr>\n",
              "    <tr>\n",
              "      <th>clage</th>\n",
              "      <td>3397.0</td>\n",
              "      <td>179.832529</td>\n",
              "      <td>87.066198</td>\n",
              "      <td>0.49</td>\n",
              "      <td>115.60</td>\n",
              "      <td>173.640</td>\n",
              "      <td>230.71</td>\n",
              "      <td>1168.230</td>\n",
              "      <td>7.580523e+03</td>\n",
              "      <td>179.0</td>\n",
              "      <td>5.269</td>\n",
              "    </tr>\n",
              "    <tr>\n",
              "      <th>ninq</th>\n",
              "      <td>3273.0</td>\n",
              "      <td>1.186373</td>\n",
              "      <td>1.728723</td>\n",
              "      <td>0.00</td>\n",
              "      <td>0.00</td>\n",
              "      <td>1.000</td>\n",
              "      <td>2.00</td>\n",
              "      <td>17.000</td>\n",
              "      <td>2.988000e+00</td>\n",
              "      <td>303.0</td>\n",
              "      <td>9.258</td>\n",
              "    </tr>\n",
              "    <tr>\n",
              "      <th>clno</th>\n",
              "      <td>3443.0</td>\n",
              "      <td>21.507116</td>\n",
              "      <td>10.167490</td>\n",
              "      <td>0.00</td>\n",
              "      <td>15.00</td>\n",
              "      <td>20.000</td>\n",
              "      <td>26.00</td>\n",
              "      <td>71.000</td>\n",
              "      <td>1.033780e+02</td>\n",
              "      <td>133.0</td>\n",
              "      <td>3.863</td>\n",
              "    </tr>\n",
              "    <tr>\n",
              "      <th>debtinc</th>\n",
              "      <td>2809.0</td>\n",
              "      <td>33.831737</td>\n",
              "      <td>9.061837</td>\n",
              "      <td>0.72</td>\n",
              "      <td>29.14</td>\n",
              "      <td>34.747</td>\n",
              "      <td>38.94</td>\n",
              "      <td>203.312</td>\n",
              "      <td>8.211700e+01</td>\n",
              "      <td>767.0</td>\n",
              "      <td>27.305</td>\n",
              "    </tr>\n",
              "  </tbody>\n",
              "</table>\n",
              "</div>"
            ],
            "text/plain": [
              "          count           mean  ...  null_values  null__rate\n",
              "bad      3576.0       0.199385  ...          0.0       0.000\n",
              "loan     3576.0   18529.697987  ...          0.0       0.000\n",
              "mortdue  3262.0   74013.907992  ...        314.0       9.626\n",
              "value    3512.0  101076.922759  ...         64.0       1.822\n",
              "yoj      3264.0       8.832644  ...        312.0       9.559\n",
              "derog    3149.0       0.261670  ...        427.0      13.560\n",
              "delinq   3225.0       0.432558  ...        351.0      10.884\n",
              "clage    3397.0     179.832529  ...        179.0       5.269\n",
              "ninq     3273.0       1.186373  ...        303.0       9.258\n",
              "clno     3443.0      21.507116  ...        133.0       3.863\n",
              "debtinc  2809.0      33.831737  ...        767.0      27.305\n",
              "\n",
              "[11 rows x 11 columns]"
            ]
          },
          "metadata": {
            "tags": []
          },
          "execution_count": 20
        }
      ]
    },
    {
      "cell_type": "markdown",
      "metadata": {
        "id": "TcCxid3pxqKP",
        "colab_type": "text"
      },
      "source": [
        "### **1.3. Kategorik-Numerik Degiskenlerin Incelenmesi**"
      ]
    },
    {
      "cell_type": "code",
      "metadata": {
        "id": "s5GS3wi1xqKR",
        "colab_type": "code",
        "colab": {
          "base_uri": "https://localhost:8080/",
          "height": 173
        },
        "outputId": "bcda785b-d8c5-406d-92e6-2e197ec3c1fb"
      },
      "source": [
        "num, cat = numeric_categoric_variable(data)\n",
        "print(\"\\n\")\n",
        "for i in data.select_dtypes(include=[\"object\"]).columns:\n",
        "    print(i,\": \",data[i].value_counts().count())"
      ],
      "execution_count": null,
      "outputs": [
        {
          "output_type": "stream",
          "text": [
            "Numeric Column  :\n",
            " ['bad', 'loan', 'mortdue', 'value', 'yoj', 'derog', 'delinq', 'clage', 'ninq', 'clno', 'debtinc'] \n",
            "\n",
            "Categoric Column :\n",
            " ['reason', 'job']\n",
            "\n",
            "\n",
            "reason :  2\n",
            "job :  6\n"
          ],
          "name": "stdout"
        }
      ]
    },
    {
      "cell_type": "markdown",
      "metadata": {
        "id": "0H4_vBCGxqKe",
        "colab_type": "text"
      },
      "source": [
        "Burada degiskenlerde kac farkli kategori oldugunu kontrol ediyoruz. Daha onceden kategorik veriler sayisal olarak girilmis olabilir. Ancak degiskenleri inceledigimize job ve reason disinda kategorik degiskenlerin olmadigini goruyoruz. derog ve delinq degiskenlerini dusunduk ancak odenmemis kredi sayisi ve uygunsun rapor sayisi oldugundan ayrik sayisal degerler oldugunu goruyoruz."
      ]
    },
    {
      "cell_type": "code",
      "metadata": {
        "id": "-kHljLXZxqKn",
        "colab_type": "code",
        "colab": {
          "base_uri": "https://localhost:8080/",
          "height": 243
        },
        "outputId": "9e0d6ea8-e28c-4026-f56d-eda2c312afe5"
      },
      "source": [
        "sortDifferentCategory(data)"
      ],
      "execution_count": null,
      "outputs": [
        {
          "output_type": "execute_result",
          "data": {
            "text/plain": [
              "[['bad', 2],\n",
              " ['reason', 2],\n",
              " ['job', 6],\n",
              " ['derog', 11],\n",
              " ['delinq', 12],\n",
              " ['ninq', 15],\n",
              " ['clno', 61],\n",
              " ['yoj', 86],\n",
              " ['loan', 474],\n",
              " ['debtinc', 2653],\n",
              " ['clage', 3050],\n",
              " ['mortdue', 3095],\n",
              " ['value', 3302]]"
            ]
          },
          "metadata": {
            "tags": []
          },
          "execution_count": 22
        }
      ]
    },
    {
      "cell_type": "markdown",
      "metadata": {
        "id": "I7VMVZy0xqK1",
        "colab_type": "text"
      },
      "source": [
        "### **1.4. Categoric Variables using CrossTab**"
      ]
    },
    {
      "cell_type": "code",
      "metadata": {
        "id": "Q81GSWrwxqK4",
        "colab_type": "code",
        "colab": {
          "base_uri": "https://localhost:8080/",
          "height": 143
        },
        "outputId": "8ec54b40-8f02-4f2a-edc8-6e390d52532e"
      },
      "source": [
        "bad_class = pd.crosstab(index=data[\"bad\"], columns=data[\"job\"], normalize=\"columns\")\n",
        "bad_class"
      ],
      "execution_count": null,
      "outputs": [
        {
          "output_type": "execute_result",
          "data": {
            "text/html": [
              "<div>\n",
              "<style scoped>\n",
              "    .dataframe tbody tr th:only-of-type {\n",
              "        vertical-align: middle;\n",
              "    }\n",
              "\n",
              "    .dataframe tbody tr th {\n",
              "        vertical-align: top;\n",
              "    }\n",
              "\n",
              "    .dataframe thead th {\n",
              "        text-align: right;\n",
              "    }\n",
              "</style>\n",
              "<table border=\"1\" class=\"dataframe\">\n",
              "  <thead>\n",
              "    <tr style=\"text-align: right;\">\n",
              "      <th>job</th>\n",
              "      <th>Mgr</th>\n",
              "      <th>Office</th>\n",
              "      <th>Other</th>\n",
              "      <th>ProfEx</th>\n",
              "      <th>Sales</th>\n",
              "      <th>Self</th>\n",
              "    </tr>\n",
              "    <tr>\n",
              "      <th>bad</th>\n",
              "      <th></th>\n",
              "      <th></th>\n",
              "      <th></th>\n",
              "      <th></th>\n",
              "      <th></th>\n",
              "      <th></th>\n",
              "    </tr>\n",
              "  </thead>\n",
              "  <tbody>\n",
              "    <tr>\n",
              "      <th>0</th>\n",
              "      <td>0.767896</td>\n",
              "      <td>0.86819</td>\n",
              "      <td>0.767994</td>\n",
              "      <td>0.833116</td>\n",
              "      <td>0.651515</td>\n",
              "      <td>0.704348</td>\n",
              "    </tr>\n",
              "    <tr>\n",
              "      <th>1</th>\n",
              "      <td>0.232104</td>\n",
              "      <td>0.13181</td>\n",
              "      <td>0.232006</td>\n",
              "      <td>0.166884</td>\n",
              "      <td>0.348485</td>\n",
              "      <td>0.295652</td>\n",
              "    </tr>\n",
              "  </tbody>\n",
              "</table>\n",
              "</div>"
            ],
            "text/plain": [
              "job       Mgr   Office     Other    ProfEx     Sales      Self\n",
              "bad                                                           \n",
              "0    0.767896  0.86819  0.767994  0.833116  0.651515  0.704348\n",
              "1    0.232104  0.13181  0.232006  0.166884  0.348485  0.295652"
            ]
          },
          "metadata": {
            "tags": []
          },
          "execution_count": 23
        }
      ]
    },
    {
      "cell_type": "code",
      "metadata": {
        "id": "oiPHsb13xqLH",
        "colab_type": "code",
        "colab": {
          "base_uri": "https://localhost:8080/",
          "height": 206
        },
        "outputId": "5658d4a5-02be-4e73-affd-ffe858686342"
      },
      "source": [
        "crosstab([data[\"bad\"], data[\"reason\"]], data[\"job\"], \"index\")"
      ],
      "execution_count": null,
      "outputs": [
        {
          "output_type": "execute_result",
          "data": {
            "text/html": [
              "<div>\n",
              "<style scoped>\n",
              "    .dataframe tbody tr th:only-of-type {\n",
              "        vertical-align: middle;\n",
              "    }\n",
              "\n",
              "    .dataframe tbody tr th {\n",
              "        vertical-align: top;\n",
              "    }\n",
              "\n",
              "    .dataframe thead th {\n",
              "        text-align: right;\n",
              "    }\n",
              "</style>\n",
              "<table border=\"1\" class=\"dataframe\">\n",
              "  <thead>\n",
              "    <tr style=\"text-align: right;\">\n",
              "      <th></th>\n",
              "      <th>job</th>\n",
              "      <th>Mgr</th>\n",
              "      <th>Office</th>\n",
              "      <th>Other</th>\n",
              "      <th>ProfEx</th>\n",
              "      <th>Sales</th>\n",
              "      <th>Self</th>\n",
              "    </tr>\n",
              "    <tr>\n",
              "      <th>bad</th>\n",
              "      <th>reason</th>\n",
              "      <th></th>\n",
              "      <th></th>\n",
              "      <th></th>\n",
              "      <th></th>\n",
              "      <th></th>\n",
              "      <th></th>\n",
              "    </tr>\n",
              "  </thead>\n",
              "  <tbody>\n",
              "    <tr>\n",
              "      <th rowspan=\"2\" valign=\"top\">0</th>\n",
              "      <th>DebtCon</th>\n",
              "      <td>0.147216</td>\n",
              "      <td>0.172377</td>\n",
              "      <td>0.414347</td>\n",
              "      <td>0.229657</td>\n",
              "      <td>0.021413</td>\n",
              "      <td>0.014989</td>\n",
              "    </tr>\n",
              "    <tr>\n",
              "      <th>HomeImp</th>\n",
              "      <td>0.088348</td>\n",
              "      <td>0.203585</td>\n",
              "      <td>0.379001</td>\n",
              "      <td>0.257362</td>\n",
              "      <td>0.003841</td>\n",
              "      <td>0.067862</td>\n",
              "    </tr>\n",
              "    <tr>\n",
              "      <th rowspan=\"2\" valign=\"top\">1</th>\n",
              "      <th>DebtCon</th>\n",
              "      <td>0.154378</td>\n",
              "      <td>0.129032</td>\n",
              "      <td>0.460829</td>\n",
              "      <td>0.170507</td>\n",
              "      <td>0.046083</td>\n",
              "      <td>0.039171</td>\n",
              "    </tr>\n",
              "    <tr>\n",
              "      <th>HomeImp</th>\n",
              "      <td>0.144033</td>\n",
              "      <td>0.078189</td>\n",
              "      <td>0.518519</td>\n",
              "      <td>0.193416</td>\n",
              "      <td>0.012346</td>\n",
              "      <td>0.053498</td>\n",
              "    </tr>\n",
              "  </tbody>\n",
              "</table>\n",
              "</div>"
            ],
            "text/plain": [
              "job               Mgr    Office     Other    ProfEx     Sales      Self\n",
              "bad reason                                                             \n",
              "0   DebtCon  0.147216  0.172377  0.414347  0.229657  0.021413  0.014989\n",
              "    HomeImp  0.088348  0.203585  0.379001  0.257362  0.003841  0.067862\n",
              "1   DebtCon  0.154378  0.129032  0.460829  0.170507  0.046083  0.039171\n",
              "    HomeImp  0.144033  0.078189  0.518519  0.193416  0.012346  0.053498"
            ]
          },
          "metadata": {
            "tags": []
          },
          "execution_count": 24
        }
      ]
    },
    {
      "cell_type": "markdown",
      "metadata": {
        "id": "43uVZ1KvxqLL",
        "colab_type": "text"
      },
      "source": [
        "Burada kredisini odeyen ve odemeyen incelendi ve Karar agaclarinin daha kolay islem yapabilmesi icin ikiye ayrildi. 0-2 arasi odenmemis kredisi olanlar borcunu %79 oraninda oduyor ve bu nedenle 0-2 ve 3-10 arasi seklinde ayiriyoruz. Veya Yuksek-Orta-Hic seklindede ayirabiliriz."
      ]
    },
    {
      "cell_type": "code",
      "metadata": {
        "id": "XX24kLb4xqLL",
        "colab_type": "code",
        "colab": {
          "base_uri": "https://localhost:8080/",
          "height": 143
        },
        "outputId": "61747327-e025-4f2a-84c9-0ecb0418ad17"
      },
      "source": [
        "crosstab(data[\"bad\"], data[\"delinq\"], \"columns\")"
      ],
      "execution_count": null,
      "outputs": [
        {
          "output_type": "execute_result",
          "data": {
            "text/html": [
              "<div>\n",
              "<style scoped>\n",
              "    .dataframe tbody tr th:only-of-type {\n",
              "        vertical-align: middle;\n",
              "    }\n",
              "\n",
              "    .dataframe tbody tr th {\n",
              "        vertical-align: top;\n",
              "    }\n",
              "\n",
              "    .dataframe thead th {\n",
              "        text-align: right;\n",
              "    }\n",
              "</style>\n",
              "<table border=\"1\" class=\"dataframe\">\n",
              "  <thead>\n",
              "    <tr style=\"text-align: right;\">\n",
              "      <th>delinq</th>\n",
              "      <th>0.0</th>\n",
              "      <th>1.0</th>\n",
              "      <th>2.0</th>\n",
              "      <th>3.0</th>\n",
              "      <th>4.0</th>\n",
              "      <th>5.0</th>\n",
              "      <th>6.0</th>\n",
              "      <th>7.0</th>\n",
              "      <th>8.0</th>\n",
              "      <th>10.0</th>\n",
              "      <th>13.0</th>\n",
              "      <th>15.0</th>\n",
              "    </tr>\n",
              "    <tr>\n",
              "      <th>bad</th>\n",
              "      <th></th>\n",
              "      <th></th>\n",
              "      <th></th>\n",
              "      <th></th>\n",
              "      <th></th>\n",
              "      <th></th>\n",
              "      <th></th>\n",
              "      <th></th>\n",
              "      <th></th>\n",
              "      <th></th>\n",
              "      <th></th>\n",
              "      <th></th>\n",
              "    </tr>\n",
              "  </thead>\n",
              "  <tbody>\n",
              "    <tr>\n",
              "      <th>0</th>\n",
              "      <td>0.858959</td>\n",
              "      <td>0.648241</td>\n",
              "      <td>0.598592</td>\n",
              "      <td>0.391304</td>\n",
              "      <td>0.392157</td>\n",
              "      <td>0.190476</td>\n",
              "      <td>0.0</td>\n",
              "      <td>0.0</td>\n",
              "      <td>0.0</td>\n",
              "      <td>0.0</td>\n",
              "      <td>0.0</td>\n",
              "      <td>0.0</td>\n",
              "    </tr>\n",
              "    <tr>\n",
              "      <th>1</th>\n",
              "      <td>0.141041</td>\n",
              "      <td>0.351759</td>\n",
              "      <td>0.401408</td>\n",
              "      <td>0.608696</td>\n",
              "      <td>0.607843</td>\n",
              "      <td>0.809524</td>\n",
              "      <td>1.0</td>\n",
              "      <td>1.0</td>\n",
              "      <td>1.0</td>\n",
              "      <td>1.0</td>\n",
              "      <td>1.0</td>\n",
              "      <td>1.0</td>\n",
              "    </tr>\n",
              "  </tbody>\n",
              "</table>\n",
              "</div>"
            ],
            "text/plain": [
              "delinq      0.0       1.0       2.0       3.0   ...  8.0   10.0  13.0  15.0\n",
              "bad                                             ...                        \n",
              "0       0.858959  0.648241  0.598592  0.391304  ...   0.0   0.0   0.0   0.0\n",
              "1       0.141041  0.351759  0.401408  0.608696  ...   1.0   1.0   1.0   1.0\n",
              "\n",
              "[2 rows x 12 columns]"
            ]
          },
          "metadata": {
            "tags": []
          },
          "execution_count": 25
        }
      ]
    },
    {
      "cell_type": "markdown",
      "metadata": {
        "id": "bgt2oc78xqLU",
        "colab_type": "text"
      },
      "source": [
        "Toplam verisetinde %5'ten kucuk null degerine value, clno, reason, job degiskenleri oldugunu goruyoruz. Veri karakteristigini daha az etkileyecegini dusundugumuz bu %5lik degiskenleri median ile doldurmayi dusunduk."
      ]
    },
    {
      "cell_type": "markdown",
      "metadata": {
        "id": "MhQRbBu7xqLV",
        "colab_type": "text"
      },
      "source": [
        "### **1.5. NULL Values Checking**"
      ]
    },
    {
      "cell_type": "code",
      "metadata": {
        "id": "ZwLD-DipxqLW",
        "colab_type": "code",
        "colab": {
          "base_uri": "https://localhost:8080/",
          "height": 457
        },
        "outputId": "aef4e0fe-cddb-4f3c-b3a3-3e899b161f7d"
      },
      "source": [
        "null_data = nulldata_check(data)\n",
        "null_data[null_data[\"percentage\"] <= 0.55]"
      ],
      "execution_count": null,
      "outputs": [
        {
          "output_type": "execute_result",
          "data": {
            "text/html": [
              "<div>\n",
              "<style scoped>\n",
              "    .dataframe tbody tr th:only-of-type {\n",
              "        vertical-align: middle;\n",
              "    }\n",
              "\n",
              "    .dataframe tbody tr th {\n",
              "        vertical-align: top;\n",
              "    }\n",
              "\n",
              "    .dataframe thead th {\n",
              "        text-align: right;\n",
              "    }\n",
              "</style>\n",
              "<table border=\"1\" class=\"dataframe\">\n",
              "  <thead>\n",
              "    <tr style=\"text-align: right;\">\n",
              "      <th></th>\n",
              "      <th>count</th>\n",
              "      <th>percentage</th>\n",
              "    </tr>\n",
              "  </thead>\n",
              "  <tbody>\n",
              "    <tr>\n",
              "      <th>bad</th>\n",
              "      <td>0</td>\n",
              "      <td>0.0000</td>\n",
              "    </tr>\n",
              "    <tr>\n",
              "      <th>loan</th>\n",
              "      <td>0</td>\n",
              "      <td>0.0000</td>\n",
              "    </tr>\n",
              "    <tr>\n",
              "      <th>value</th>\n",
              "      <td>64</td>\n",
              "      <td>0.0179</td>\n",
              "    </tr>\n",
              "    <tr>\n",
              "      <th>clno</th>\n",
              "      <td>133</td>\n",
              "      <td>0.0372</td>\n",
              "    </tr>\n",
              "    <tr>\n",
              "      <th>reason</th>\n",
              "      <td>147</td>\n",
              "      <td>0.0411</td>\n",
              "    </tr>\n",
              "    <tr>\n",
              "      <th>job</th>\n",
              "      <td>167</td>\n",
              "      <td>0.0467</td>\n",
              "    </tr>\n",
              "    <tr>\n",
              "      <th>clage</th>\n",
              "      <td>179</td>\n",
              "      <td>0.0501</td>\n",
              "    </tr>\n",
              "    <tr>\n",
              "      <th>ninq</th>\n",
              "      <td>303</td>\n",
              "      <td>0.0847</td>\n",
              "    </tr>\n",
              "    <tr>\n",
              "      <th>yoj</th>\n",
              "      <td>312</td>\n",
              "      <td>0.0872</td>\n",
              "    </tr>\n",
              "    <tr>\n",
              "      <th>mortdue</th>\n",
              "      <td>314</td>\n",
              "      <td>0.0878</td>\n",
              "    </tr>\n",
              "    <tr>\n",
              "      <th>delinq</th>\n",
              "      <td>351</td>\n",
              "      <td>0.0982</td>\n",
              "    </tr>\n",
              "    <tr>\n",
              "      <th>derog</th>\n",
              "      <td>427</td>\n",
              "      <td>0.1194</td>\n",
              "    </tr>\n",
              "    <tr>\n",
              "      <th>debtinc</th>\n",
              "      <td>767</td>\n",
              "      <td>0.2145</td>\n",
              "    </tr>\n",
              "  </tbody>\n",
              "</table>\n",
              "</div>"
            ],
            "text/plain": [
              "         count  percentage\n",
              "bad          0      0.0000\n",
              "loan         0      0.0000\n",
              "value       64      0.0179\n",
              "clno       133      0.0372\n",
              "reason     147      0.0411\n",
              "job        167      0.0467\n",
              "clage      179      0.0501\n",
              "ninq       303      0.0847\n",
              "yoj        312      0.0872\n",
              "mortdue    314      0.0878\n",
              "delinq     351      0.0982\n",
              "derog      427      0.1194\n",
              "debtinc    767      0.2145"
            ]
          },
          "metadata": {
            "tags": []
          },
          "execution_count": 26
        }
      ]
    },
    {
      "cell_type": "markdown",
      "metadata": {
        "id": "X310SmyixqLb",
        "colab_type": "text"
      },
      "source": [
        "# **2. Data Visualization**"
      ]
    },
    {
      "cell_type": "markdown",
      "metadata": {
        "id": "uH8MBtH-xqLb",
        "colab_type": "text"
      },
      "source": [
        "### **2.1. Correlation HeatMap**"
      ]
    },
    {
      "cell_type": "code",
      "metadata": {
        "id": "PFggUlIHxqLc",
        "colab_type": "code",
        "colab": {
          "base_uri": "https://localhost:8080/",
          "height": 487
        },
        "outputId": "4bdaea57-3c09-453c-fedb-aaed2d7d7836"
      },
      "source": [
        "def heatmap(data, figsize=(16,8)):\n",
        "    fig, ax = plt.subplots(figsize=figsize)   \n",
        "    sns.heatmap(data.corr(), annot=True, linewidths=.3, ax=ax)\n",
        "    plt.show()\n",
        "\n",
        "heatmap(data.drop([\"bad\"],axis=1))"
      ],
      "execution_count": null,
      "outputs": [
        {
          "output_type": "display_data",
          "data": {
            "image/png": "[encoded data removed]",
            "text/plain": [
              "<Figure size 1152x576 with 2 Axes>"
            ]
          },
          "metadata": {
            "tags": [],
            "needs_background": "light"
          }
        }
      ]
    },
    {
      "cell_type": "markdown",
      "metadata": {
        "id": "ynhoZxFuxqLr",
        "colab_type": "text"
      },
      "source": [
        "Value ve mortdue incelendiğinnde 0.87 korelasyona sahip oldukları görülmektedir. Biri artarken diğerininde arttığı görülmektedir. Mal varlığı yüksek olan birisi ipoteğide fazla verip kredi skorunu etkileyebilir."
      ]
    },
    {
      "cell_type": "code",
      "metadata": {
        "id": "6c152bCcxqLs",
        "colab_type": "code",
        "colab": {
          "base_uri": "https://localhost:8080/",
          "height": 295
        },
        "outputId": "36231e09-d75d-4302-c4db-f6859408f2af"
      },
      "source": [
        "print(\"Most Correlated\\n\",correlation_df(data.drop([\"bad\"],axis=1)).sort_values(by=\"Corr\", ascending=False).head(5),\"\\n\")\n",
        "print(\"Less Correlated\\n\",correlation_df(data.drop([\"bad\"],axis=1)).sort_values(by=\"Corr\", ascending=True).head(5),\"\\n\")"
      ],
      "execution_count": null,
      "outputs": [
        {
          "output_type": "stream",
          "text": [
            "Most Correlated\n",
            "    feature1 feature2      Corr\n",
            "11  mortdue    value  0.873280\n",
            "17  mortdue     clno  0.340139\n",
            "2      loan    value  0.337453\n",
            "25    value     clno  0.290439\n",
            "35    derog   delinq  0.234706 \n",
            "\n",
            "Less Correlated\n",
            "    feature1 feature2      Corr\n",
            "4      loan    derog  0.001463\n",
            "20    value      yoj  0.002501\n",
            "14  mortdue   delinq  0.004971\n",
            "24    value     ninq  0.005191\n",
            "22    value   delinq  0.011014 \n",
            "\n"
          ],
          "name": "stdout"
        }
      ]
    },
    {
      "cell_type": "markdown",
      "metadata": {
        "id": "si1Ueh6t142-",
        "colab_type": "text"
      },
      "source": [
        "### **2.2. Scatter Plot**"
      ]
    },
    {
      "cell_type": "code",
      "metadata": {
        "id": "E0xmPFApxqL3",
        "colab_type": "code",
        "colab": {
          "base_uri": "https://localhost:8080/",
          "height": 279
        },
        "outputId": "4c673f19-67ed-402a-901b-bf7fcd61ffb4"
      },
      "source": [
        "def scatterplot(x,y, hue, data, figsize=(7,4)):\n",
        "    fig, ax = plt.subplots(figsize=figsize)        \n",
        "    sns.scatterplot(x=x, y=y, hue=hue, data=data, ax=ax)\n",
        "    plt.show()\n",
        "\n",
        "scatterplot(\"mortdue\", \"value\", \"bad\", data)"
      ],
      "execution_count": null,
      "outputs": [
        {
          "output_type": "display_data",
          "data": {
            "image/png": "[encoded data removed]",
            "text/plain": [
              "<Figure size 504x288 with 1 Axes>"
            ]
          },
          "metadata": {
            "tags": [],
            "needs_background": "light"
          }
        }
      ]
    },
    {
      "cell_type": "code",
      "metadata": {
        "id": "utqb8FAIxqL-",
        "colab_type": "code",
        "colab": {
          "base_uri": "https://localhost:8080/",
          "height": 279
        },
        "outputId": "16710070-e4af-4648-c4cb-4b5e5ccfcbc3"
      },
      "source": [
        "scatterplot(\"loan\", \"value\", \"bad\", data)"
      ],
      "execution_count": null,
      "outputs": [
        {
          "output_type": "display_data",
          "data": {
            "image/png": "[encoded data removed]",
            "text/plain": [
              "<Figure size 504x288 with 1 Axes>"
            ]
          },
          "metadata": {
            "tags": [],
            "needs_background": "light"
          }
        }
      ]
    },
    {
      "cell_type": "markdown",
      "metadata": {
        "id": "UJYob8IGxqML",
        "colab_type": "text"
      },
      "source": [
        "Boxplot grafigi incelendiginde ise **loan, mortdue ve value** degiskenlerinde aykiri degerler oldugunu goruyoruz. Orjinal verileri manipule edip silmek istemedigimizden, verilere normalizasyon yontemini uyguluyoruz."
      ]
    },
    {
      "cell_type": "markdown",
      "metadata": {
        "id": "xzw8qEzi18N6",
        "colab_type": "text"
      },
      "source": [
        "### **2.3. Box Plot**"
      ]
    },
    {
      "cell_type": "code",
      "metadata": {
        "scrolled": true,
        "id": "DqAExrJ5xqMO",
        "colab_type": "code",
        "colab": {
          "base_uri": "https://localhost:8080/",
          "height": 320
        },
        "outputId": "42438c55-b116-4cae-a8ef-629a4c818e8d"
      },
      "source": [
        "def boxplot(boxplot_df, figsize=(10,5)):\n",
        "    plt.figure(figsize=figsize)\n",
        "    boxplot_df.boxplot()\n",
        "    plt.show()\n",
        "\n",
        "boxplot(data)"
      ],
      "execution_count": null,
      "outputs": [
        {
          "output_type": "display_data",
          "data": {
            "image/png": "[encoded data removed]",
            "text/plain": [
              "<Figure size 720x360 with 1 Axes>"
            ]
          },
          "metadata": {
            "tags": [],
            "needs_background": "light"
          }
        }
      ]
    },
    {
      "cell_type": "markdown",
      "metadata": {
        "id": "xDn2ic5dxqMZ",
        "colab_type": "text"
      },
      "source": [
        "Histogram grafigi incelendiginde ise verilerin kesikli ve normal dagilimdan gelmedigini goruyoruz. Modelimizin daha iyi sonuc vermesi icin normalizasyon yontemlerinin uygulanmasi gerektigini uygun goruyoruz."
      ]
    },
    {
      "cell_type": "markdown",
      "metadata": {
        "id": "LNraFd_d2AKk",
        "colab_type": "text"
      },
      "source": [
        "### **2.4. Histogram**"
      ]
    },
    {
      "cell_type": "code",
      "metadata": {
        "id": "tDx8410FxqMc",
        "colab_type": "code",
        "colab": {
          "base_uri": "https://localhost:8080/",
          "height": 494
        },
        "outputId": "4ef2b729-3ca6-4e24-cfa5-909d4abf5a20"
      },
      "source": [
        "def histogram(datas, bins=40, xlabelsize=6, ylabelsize=6, figsize=(10,5)):\n",
        "    datas.hist(figsize=figsize, bins=bins, xlabelsize=xlabelsize, ylabelsize=ylabelsize)\n",
        "    plt.show()\n",
        "    \n",
        "histogram(data.drop([\"bad\"],axis=1), figsize=(16,8))"
      ],
      "execution_count": null,
      "outputs": [
        {
          "output_type": "display_data",
          "data": {
            "image/png": "[encoded data removed]",
            "text/plain": [
              "<Figure size 1152x576 with 12 Axes>"
            ]
          },
          "metadata": {
            "tags": [],
            "needs_background": "light"
          }
        }
      ]
    },
    {
      "cell_type": "markdown",
      "metadata": {
        "id": "IqEAundFxqMf",
        "colab_type": "text"
      },
      "source": [
        "## **3. Data Preprocessing**"
      ]
    },
    {
      "cell_type": "markdown",
      "metadata": {
        "id": "jSRtAKeBxqMh",
        "colab_type": "text"
      },
      "source": [
        "### **3.1. Data Imputation**\n",
        "- value \n",
        "- clno\n",
        "- reason\n",
        "- job\n",
        "\n",
        "Ancak dropna yaptigimizda datanin %45'sini silmis bulunuyoruz. Bu nedenle bazi degiskenleri silemk istmiyoruz. Imputation yontemine gidiyoruz. Burada %5'ten kucuk NULL oranina sahip degerleri median ile ve Unknown kategori ile dolduruyoruz."
      ]
    },
    {
      "cell_type": "markdown",
      "metadata": {
        "id": "z31VZ_-okFXg",
        "colab_type": "text"
      },
      "source": [
        "### **With Imputation**"
      ]
    },
    {
      "cell_type": "code",
      "metadata": {
        "scrolled": false,
        "id": "1bjqla8TxqMi",
        "colab_type": "code",
        "colab": {
          "base_uri": "https://localhost:8080/",
          "height": 260
        },
        "outputId": "e3d5e60f-202c-4d09-cc90-59d702dcf9f1"
      },
      "source": [
        "imputation_df = data.copy()\n",
        "imputation_df[\"value\"] = data[\"value\"].fillna(data[\"value\"].median())\n",
        "imputation_df[\"clno\"] = data[\"clno\"].fillna(data[\"clno\"].median())\n",
        "imputation_df[\"reason\"] = data[\"reason\"].fillna(\"Unknown\")\n",
        "imputation_df[\"job\"] = data[\"job\"].fillna(\"Unknown\")\n",
        "print(imputation_df.count())"
      ],
      "execution_count": null,
      "outputs": [
        {
          "output_type": "stream",
          "text": [
            "bad        3576\n",
            "loan       3576\n",
            "mortdue    3262\n",
            "value      3576\n",
            "reason     3576\n",
            "job        3576\n",
            "yoj        3264\n",
            "derog      3149\n",
            "delinq     3225\n",
            "clage      3397\n",
            "ninq       3273\n",
            "clno       3576\n",
            "debtinc    2809\n",
            "dtype: int64\n"
          ],
          "name": "stdout"
        }
      ]
    },
    {
      "cell_type": "markdown",
      "metadata": {
        "id": "VWDyGFi3j-ns",
        "colab_type": "text"
      },
      "source": [
        "### **Without Imputation**"
      ]
    },
    {
      "cell_type": "code",
      "metadata": {
        "id": "393RsiLikBXt",
        "colab_type": "code",
        "colab": {
          "base_uri": "https://localhost:8080/",
          "height": 474
        },
        "outputId": "ebf817ad-b5b3-42d1-ef47-312ea7abb9c3"
      },
      "source": [
        "without_imputation_df = data.copy()\n",
        "without_imputation_df.dropna(inplace=True)\n",
        "print(\"Total Row: \",without_imputation_df.count()[\"bad\"])\n",
        "nulldata_check(without_imputation_df)"
      ],
      "execution_count": null,
      "outputs": [
        {
          "output_type": "stream",
          "text": [
            "Total Row:  2018\n"
          ],
          "name": "stdout"
        },
        {
          "output_type": "execute_result",
          "data": {
            "text/html": [
              "<div>\n",
              "<style scoped>\n",
              "    .dataframe tbody tr th:only-of-type {\n",
              "        vertical-align: middle;\n",
              "    }\n",
              "\n",
              "    .dataframe tbody tr th {\n",
              "        vertical-align: top;\n",
              "    }\n",
              "\n",
              "    .dataframe thead th {\n",
              "        text-align: right;\n",
              "    }\n",
              "</style>\n",
              "<table border=\"1\" class=\"dataframe\">\n",
              "  <thead>\n",
              "    <tr style=\"text-align: right;\">\n",
              "      <th></th>\n",
              "      <th>count</th>\n",
              "      <th>percentage</th>\n",
              "    </tr>\n",
              "  </thead>\n",
              "  <tbody>\n",
              "    <tr>\n",
              "      <th>bad</th>\n",
              "      <td>0</td>\n",
              "      <td>0.0</td>\n",
              "    </tr>\n",
              "    <tr>\n",
              "      <th>loan</th>\n",
              "      <td>0</td>\n",
              "      <td>0.0</td>\n",
              "    </tr>\n",
              "    <tr>\n",
              "      <th>mortdue</th>\n",
              "      <td>0</td>\n",
              "      <td>0.0</td>\n",
              "    </tr>\n",
              "    <tr>\n",
              "      <th>value</th>\n",
              "      <td>0</td>\n",
              "      <td>0.0</td>\n",
              "    </tr>\n",
              "    <tr>\n",
              "      <th>reason</th>\n",
              "      <td>0</td>\n",
              "      <td>0.0</td>\n",
              "    </tr>\n",
              "    <tr>\n",
              "      <th>job</th>\n",
              "      <td>0</td>\n",
              "      <td>0.0</td>\n",
              "    </tr>\n",
              "    <tr>\n",
              "      <th>yoj</th>\n",
              "      <td>0</td>\n",
              "      <td>0.0</td>\n",
              "    </tr>\n",
              "    <tr>\n",
              "      <th>derog</th>\n",
              "      <td>0</td>\n",
              "      <td>0.0</td>\n",
              "    </tr>\n",
              "    <tr>\n",
              "      <th>delinq</th>\n",
              "      <td>0</td>\n",
              "      <td>0.0</td>\n",
              "    </tr>\n",
              "    <tr>\n",
              "      <th>clage</th>\n",
              "      <td>0</td>\n",
              "      <td>0.0</td>\n",
              "    </tr>\n",
              "    <tr>\n",
              "      <th>ninq</th>\n",
              "      <td>0</td>\n",
              "      <td>0.0</td>\n",
              "    </tr>\n",
              "    <tr>\n",
              "      <th>clno</th>\n",
              "      <td>0</td>\n",
              "      <td>0.0</td>\n",
              "    </tr>\n",
              "    <tr>\n",
              "      <th>debtinc</th>\n",
              "      <td>0</td>\n",
              "      <td>0.0</td>\n",
              "    </tr>\n",
              "  </tbody>\n",
              "</table>\n",
              "</div>"
            ],
            "text/plain": [
              "         count  percentage\n",
              "bad          0         0.0\n",
              "loan         0         0.0\n",
              "mortdue      0         0.0\n",
              "value        0         0.0\n",
              "reason       0         0.0\n",
              "job          0         0.0\n",
              "yoj          0         0.0\n",
              "derog        0         0.0\n",
              "delinq       0         0.0\n",
              "clage        0         0.0\n",
              "ninq         0         0.0\n",
              "clno         0         0.0\n",
              "debtinc      0         0.0"
            ]
          },
          "metadata": {
            "tags": []
          },
          "execution_count": 28
        }
      ]
    },
    {
      "cell_type": "markdown",
      "metadata": {
        "id": "jAd11x0FxqMp",
        "colab_type": "text"
      },
      "source": [
        "### **3.2. NULL Data Drop**"
      ]
    },
    {
      "cell_type": "code",
      "metadata": {
        "id": "Rz8c6ktzxqMr",
        "colab_type": "code",
        "colab": {
          "base_uri": "https://localhost:8080/",
          "height": 474
        },
        "outputId": "45c9a6b2-b218-46c4-93cf-e9eb5d4c3424"
      },
      "source": [
        "imputation_df.dropna(inplace=True)\n",
        "print(\"Total Row: \",imputation_df.count()[\"bad\"])\n",
        "nulldata_check(imputation_df)"
      ],
      "execution_count": null,
      "outputs": [
        {
          "output_type": "stream",
          "text": [
            "Total Row:  2114\n"
          ],
          "name": "stdout"
        },
        {
          "output_type": "execute_result",
          "data": {
            "text/html": [
              "<div>\n",
              "<style scoped>\n",
              "    .dataframe tbody tr th:only-of-type {\n",
              "        vertical-align: middle;\n",
              "    }\n",
              "\n",
              "    .dataframe tbody tr th {\n",
              "        vertical-align: top;\n",
              "    }\n",
              "\n",
              "    .dataframe thead th {\n",
              "        text-align: right;\n",
              "    }\n",
              "</style>\n",
              "<table border=\"1\" class=\"dataframe\">\n",
              "  <thead>\n",
              "    <tr style=\"text-align: right;\">\n",
              "      <th></th>\n",
              "      <th>count</th>\n",
              "      <th>percentage</th>\n",
              "    </tr>\n",
              "  </thead>\n",
              "  <tbody>\n",
              "    <tr>\n",
              "      <th>bad</th>\n",
              "      <td>0</td>\n",
              "      <td>0.0</td>\n",
              "    </tr>\n",
              "    <tr>\n",
              "      <th>loan</th>\n",
              "      <td>0</td>\n",
              "      <td>0.0</td>\n",
              "    </tr>\n",
              "    <tr>\n",
              "      <th>mortdue</th>\n",
              "      <td>0</td>\n",
              "      <td>0.0</td>\n",
              "    </tr>\n",
              "    <tr>\n",
              "      <th>value</th>\n",
              "      <td>0</td>\n",
              "      <td>0.0</td>\n",
              "    </tr>\n",
              "    <tr>\n",
              "      <th>reason</th>\n",
              "      <td>0</td>\n",
              "      <td>0.0</td>\n",
              "    </tr>\n",
              "    <tr>\n",
              "      <th>job</th>\n",
              "      <td>0</td>\n",
              "      <td>0.0</td>\n",
              "    </tr>\n",
              "    <tr>\n",
              "      <th>yoj</th>\n",
              "      <td>0</td>\n",
              "      <td>0.0</td>\n",
              "    </tr>\n",
              "    <tr>\n",
              "      <th>derog</th>\n",
              "      <td>0</td>\n",
              "      <td>0.0</td>\n",
              "    </tr>\n",
              "    <tr>\n",
              "      <th>delinq</th>\n",
              "      <td>0</td>\n",
              "      <td>0.0</td>\n",
              "    </tr>\n",
              "    <tr>\n",
              "      <th>clage</th>\n",
              "      <td>0</td>\n",
              "      <td>0.0</td>\n",
              "    </tr>\n",
              "    <tr>\n",
              "      <th>ninq</th>\n",
              "      <td>0</td>\n",
              "      <td>0.0</td>\n",
              "    </tr>\n",
              "    <tr>\n",
              "      <th>clno</th>\n",
              "      <td>0</td>\n",
              "      <td>0.0</td>\n",
              "    </tr>\n",
              "    <tr>\n",
              "      <th>debtinc</th>\n",
              "      <td>0</td>\n",
              "      <td>0.0</td>\n",
              "    </tr>\n",
              "  </tbody>\n",
              "</table>\n",
              "</div>"
            ],
            "text/plain": [
              "         count  percentage\n",
              "bad          0         0.0\n",
              "loan         0         0.0\n",
              "mortdue      0         0.0\n",
              "value        0         0.0\n",
              "reason       0         0.0\n",
              "job          0         0.0\n",
              "yoj          0         0.0\n",
              "derog        0         0.0\n",
              "delinq       0         0.0\n",
              "clage        0         0.0\n",
              "ninq         0         0.0\n",
              "clno         0         0.0\n",
              "debtinc      0         0.0"
            ]
          },
          "metadata": {
            "tags": []
          },
          "execution_count": 30
        }
      ]
    },
    {
      "cell_type": "markdown",
      "metadata": {
        "id": "XXXQm54PxqM3",
        "colab_type": "text"
      },
      "source": [
        "### **3.3. Numeric to Categoric Tranformation**"
      ]
    },
    {
      "cell_type": "markdown",
      "metadata": {
        "id": "jEnxJufwontJ",
        "colab_type": "text"
      },
      "source": [
        "## --> Without imputation"
      ]
    },
    {
      "cell_type": "code",
      "metadata": {
        "id": "l44W7SMcoqFy",
        "colab_type": "code",
        "colab": {
          "base_uri": "https://localhost:8080/",
          "height": 143
        },
        "outputId": "8a96ae3e-0ee7-4e1e-8edf-ed9243ba8f47"
      },
      "source": [
        "imputation_df = without_imputation_df\n",
        "imputation_df.head(3)"
      ],
      "execution_count": null,
      "outputs": [
        {
          "output_type": "execute_result",
          "data": {
            "text/html": [
              "<div>\n",
              "<style scoped>\n",
              "    .dataframe tbody tr th:only-of-type {\n",
              "        vertical-align: middle;\n",
              "    }\n",
              "\n",
              "    .dataframe tbody tr th {\n",
              "        vertical-align: top;\n",
              "    }\n",
              "\n",
              "    .dataframe thead th {\n",
              "        text-align: right;\n",
              "    }\n",
              "</style>\n",
              "<table border=\"1\" class=\"dataframe\">\n",
              "  <thead>\n",
              "    <tr style=\"text-align: right;\">\n",
              "      <th></th>\n",
              "      <th>bad</th>\n",
              "      <th>loan</th>\n",
              "      <th>mortdue</th>\n",
              "      <th>value</th>\n",
              "      <th>reason</th>\n",
              "      <th>job</th>\n",
              "      <th>yoj</th>\n",
              "      <th>derog</th>\n",
              "      <th>delinq</th>\n",
              "      <th>clage</th>\n",
              "      <th>ninq</th>\n",
              "      <th>clno</th>\n",
              "      <th>debtinc</th>\n",
              "    </tr>\n",
              "  </thead>\n",
              "  <tbody>\n",
              "    <tr>\n",
              "      <th>153</th>\n",
              "      <td>0</td>\n",
              "      <td>18200</td>\n",
              "      <td>94727.0</td>\n",
              "      <td>136877.0</td>\n",
              "      <td>DebtCon</td>\n",
              "      <td>Mgr</td>\n",
              "      <td>15.0</td>\n",
              "      <td>0.0</td>\n",
              "      <td>0.0</td>\n",
              "      <td>168.96</td>\n",
              "      <td>2.0</td>\n",
              "      <td>26.0</td>\n",
              "      <td>36.056</td>\n",
              "    </tr>\n",
              "    <tr>\n",
              "      <th>154</th>\n",
              "      <td>0</td>\n",
              "      <td>21700</td>\n",
              "      <td>79240.0</td>\n",
              "      <td>96784.0</td>\n",
              "      <td>DebtCon</td>\n",
              "      <td>Mgr</td>\n",
              "      <td>5.0</td>\n",
              "      <td>0.0</td>\n",
              "      <td>0.0</td>\n",
              "      <td>64.51</td>\n",
              "      <td>6.0</td>\n",
              "      <td>24.0</td>\n",
              "      <td>38.079</td>\n",
              "    </tr>\n",
              "    <tr>\n",
              "      <th>155</th>\n",
              "      <td>0</td>\n",
              "      <td>34100</td>\n",
              "      <td>241931.0</td>\n",
              "      <td>36486.0</td>\n",
              "      <td>DebtCon</td>\n",
              "      <td>Mgr</td>\n",
              "      <td>1.0</td>\n",
              "      <td>0.0</td>\n",
              "      <td>2.0</td>\n",
              "      <td>196.01</td>\n",
              "      <td>3.0</td>\n",
              "      <td>50.0</td>\n",
              "      <td>42.459</td>\n",
              "    </tr>\n",
              "  </tbody>\n",
              "</table>\n",
              "</div>"
            ],
            "text/plain": [
              "     bad   loan   mortdue     value  ...   clage ninq  clno  debtinc\n",
              "153    0  18200   94727.0  136877.0  ...  168.96  2.0  26.0   36.056\n",
              "154    0  21700   79240.0   96784.0  ...   64.51  6.0  24.0   38.079\n",
              "155    0  34100  241931.0   36486.0  ...  196.01  3.0  50.0   42.459\n",
              "\n",
              "[3 rows x 13 columns]"
            ]
          },
          "metadata": {
            "tags": []
          },
          "execution_count": 59
        }
      ]
    },
    {
      "cell_type": "markdown",
      "metadata": {
        "id": "eatYYgzYxqM5",
        "colab_type": "text"
      },
      "source": [
        "Burada degiskenleri bad hedef degiskenine gore crosstab ile analiz edip, kategori incelemesi gereceklestiriyoruz. Numerik olan degiskenlerin kateogrik olacak sekilde araliklarini belirliyoruz. "
      ]
    },
    {
      "cell_type": "markdown",
      "metadata": {
        "id": "bpDXETstxqM7",
        "colab_type": "text"
      },
      "source": [
        "#### **3.3.1 DEROG Degiskeni**\n",
        "\n",
        "DEROG - Kredi borcunu zamaninda odemesi bakimindan musteri hakkinda zararli rapor sayisini inceledigimizde 0-2 arasinda zararli rapor sayisina sahip olan musteriler borclarini %77.5-92.5 arasinda odedigi goruluyor. Bu nedenle bunu uc kategoriye ayiriyoruz. \n",
        "\n",
        "- **RaporYok (0)**: 0 raporu olanlar genellikle %92 oraninda borcunu geri odemektedir. \n",
        "- **DusukRapor  (1-2)**: 1-2 arasinda zararli rapora sahip olanlar borcunu yuksek oranda odedigi gorulmektedir.\n",
        "- **YuksekRapor (3-10)**: 3-10 arasinda zararli rapora sahip olanlar borcunu ortalamadan dusuk veya hic odemedigi goruluyor. Ancak bu kategoride elimizde yeterli (unbalanced) veri bulunmaktadir.rclarini geri oduyorlarmis. "
      ]
    },
    {
      "cell_type": "code",
      "metadata": {
        "scrolled": true,
        "id": "poK7V8OuxqM9",
        "colab_type": "code",
        "colab": {
          "base_uri": "https://localhost:8080/",
          "height": 143
        },
        "outputId": "60d7ad91-52bf-4a29-eecf-6c217a9c4a73"
      },
      "source": [
        "crosstab(imputation_df[\"bad\"], imputation_df[\"derog\"])"
      ],
      "execution_count": null,
      "outputs": [
        {
          "output_type": "execute_result",
          "data": {
            "text/html": [
              "<div>\n",
              "<style scoped>\n",
              "    .dataframe tbody tr th:only-of-type {\n",
              "        vertical-align: middle;\n",
              "    }\n",
              "\n",
              "    .dataframe tbody tr th {\n",
              "        vertical-align: top;\n",
              "    }\n",
              "\n",
              "    .dataframe thead th {\n",
              "        text-align: right;\n",
              "    }\n",
              "</style>\n",
              "<table border=\"1\" class=\"dataframe\">\n",
              "  <thead>\n",
              "    <tr style=\"text-align: right;\">\n",
              "      <th>derog</th>\n",
              "      <th>0.0</th>\n",
              "      <th>1.0</th>\n",
              "      <th>2.0</th>\n",
              "      <th>3.0</th>\n",
              "      <th>4.0</th>\n",
              "      <th>6.0</th>\n",
              "      <th>7.0</th>\n",
              "      <th>8.0</th>\n",
              "      <th>10.0</th>\n",
              "    </tr>\n",
              "    <tr>\n",
              "      <th>bad</th>\n",
              "      <th></th>\n",
              "      <th></th>\n",
              "      <th></th>\n",
              "      <th></th>\n",
              "      <th></th>\n",
              "      <th></th>\n",
              "      <th></th>\n",
              "      <th></th>\n",
              "      <th></th>\n",
              "    </tr>\n",
              "  </thead>\n",
              "  <tbody>\n",
              "    <tr>\n",
              "      <th>0</th>\n",
              "      <td>0.927043</td>\n",
              "      <td>0.835938</td>\n",
              "      <td>0.791667</td>\n",
              "      <td>0.416667</td>\n",
              "      <td>0.0</td>\n",
              "      <td>0.0</td>\n",
              "      <td>0.0</td>\n",
              "      <td>0.0</td>\n",
              "      <td>0.0</td>\n",
              "    </tr>\n",
              "    <tr>\n",
              "      <th>1</th>\n",
              "      <td>0.072957</td>\n",
              "      <td>0.164062</td>\n",
              "      <td>0.208333</td>\n",
              "      <td>0.583333</td>\n",
              "      <td>1.0</td>\n",
              "      <td>1.0</td>\n",
              "      <td>1.0</td>\n",
              "      <td>1.0</td>\n",
              "      <td>1.0</td>\n",
              "    </tr>\n",
              "  </tbody>\n",
              "</table>\n",
              "</div>"
            ],
            "text/plain": [
              "derog      0.0       1.0       2.0       3.0   4.0   6.0   7.0   8.0   10.0\n",
              "bad                                                                        \n",
              "0      0.927043  0.835938  0.791667  0.416667   0.0   0.0   0.0   0.0   0.0\n",
              "1      0.072957  0.164062  0.208333  0.583333   1.0   1.0   1.0   1.0   1.0"
            ]
          },
          "metadata": {
            "tags": []
          },
          "execution_count": 60
        }
      ]
    },
    {
      "cell_type": "code",
      "metadata": {
        "id": "WIjv4vBfxqNA",
        "colab_type": "code",
        "colab": {}
      },
      "source": [
        "derog_replace = {0: \"RaporYok\", 1: \"DusukRapor\", 2: \"DusukRapor\", 3: \"YuksekRapor\", 4: \"YuksekRapor\",\n",
        "                 4: \"YuksekRapor\",6: \"YuksekRapor\",7: \"YuksekRapor\",8: \"YuksekRapor\", 9: \"YuksekRapor\",\n",
        "                10: \"YuksekRapor\"}\n",
        "imputation_df = imputation_df.replace({\"derog\": derog_replace})"
      ],
      "execution_count": null,
      "outputs": []
    },
    {
      "cell_type": "markdown",
      "metadata": {
        "id": "OWky1AKgxqNH",
        "colab_type": "text"
      },
      "source": [
        "#### 1.3.2. DELINQ Degiskeni\n",
        "\n",
        "DELINQ - Zamaninda odenmemis kredi sayisi bakimindan cogunlugunu 0,1,2 ve 3 odenmemis kredi sayisina sahip musterler olusturdugunu goruyoruz. Musterinin borcunu geri odemesi bakimindan 3'den fazla odenmemis odenmemis kredisi olanlari yuksek odenmemis kredi olarak isaretliyoruz. \n",
        "\n",
        "- **GecikmeYok (0)**: Sifir gecikme sayisina sahip olanlar borcunu %93.2 oraninda geri odemektedir. \n",
        "- **DusukGecikme (1-3)**: 1-3 arasi dusuk sayida gecikmis kredi sayisina sahip olan musteriler %72-86.5 arasinda borcunu odemektedir.  \n",
        "- **YuksekGecikme (4-10)**: 4-10 arasi yuksek sayida gecikmis kredi sayisina sahip olan musteriler ise %0-50 arasinda borcunu geri odedigi gorulmektedir. Ancak 4'ten fazla gecikme sayisi olan musterilerin buyuk oranda borcunu hic odemedigi gorulmektedir."
      ]
    },
    {
      "cell_type": "code",
      "metadata": {
        "scrolled": true,
        "id": "Q-I-aNiYxqNJ",
        "colab_type": "code",
        "colab": {
          "base_uri": "https://localhost:8080/",
          "height": 143
        },
        "outputId": "c3cf8b66-b225-420d-be18-d53ce1e109f7"
      },
      "source": [
        "crosstab(imputation_df[\"bad\"], imputation_df[\"delinq\"])"
      ],
      "execution_count": null,
      "outputs": [
        {
          "output_type": "execute_result",
          "data": {
            "text/html": [
              "<div>\n",
              "<style scoped>\n",
              "    .dataframe tbody tr th:only-of-type {\n",
              "        vertical-align: middle;\n",
              "    }\n",
              "\n",
              "    .dataframe tbody tr th {\n",
              "        vertical-align: top;\n",
              "    }\n",
              "\n",
              "    .dataframe thead th {\n",
              "        text-align: right;\n",
              "    }\n",
              "</style>\n",
              "<table border=\"1\" class=\"dataframe\">\n",
              "  <thead>\n",
              "    <tr style=\"text-align: right;\">\n",
              "      <th>delinq</th>\n",
              "      <th>0.0</th>\n",
              "      <th>1.0</th>\n",
              "      <th>2.0</th>\n",
              "      <th>3.0</th>\n",
              "      <th>4.0</th>\n",
              "      <th>5.0</th>\n",
              "      <th>6.0</th>\n",
              "      <th>7.0</th>\n",
              "      <th>10.0</th>\n",
              "    </tr>\n",
              "    <tr>\n",
              "      <th>bad</th>\n",
              "      <th></th>\n",
              "      <th></th>\n",
              "      <th></th>\n",
              "      <th></th>\n",
              "      <th></th>\n",
              "      <th></th>\n",
              "      <th></th>\n",
              "      <th></th>\n",
              "      <th></th>\n",
              "    </tr>\n",
              "  </thead>\n",
              "  <tbody>\n",
              "    <tr>\n",
              "      <th>0</th>\n",
              "      <td>0.933294</td>\n",
              "      <td>0.871658</td>\n",
              "      <td>0.791667</td>\n",
              "      <td>0.72</td>\n",
              "      <td>0.538462</td>\n",
              "      <td>0.0</td>\n",
              "      <td>0.0</td>\n",
              "      <td>0.0</td>\n",
              "      <td>0.0</td>\n",
              "    </tr>\n",
              "    <tr>\n",
              "      <th>1</th>\n",
              "      <td>0.066706</td>\n",
              "      <td>0.128342</td>\n",
              "      <td>0.208333</td>\n",
              "      <td>0.28</td>\n",
              "      <td>0.461538</td>\n",
              "      <td>1.0</td>\n",
              "      <td>1.0</td>\n",
              "      <td>1.0</td>\n",
              "      <td>1.0</td>\n",
              "    </tr>\n",
              "  </tbody>\n",
              "</table>\n",
              "</div>"
            ],
            "text/plain": [
              "delinq      0.0       1.0       2.0   3.0       4.0   5.0   6.0   7.0   10.0\n",
              "bad                                                                         \n",
              "0       0.933294  0.871658  0.791667  0.72  0.538462   0.0   0.0   0.0   0.0\n",
              "1       0.066706  0.128342  0.208333  0.28  0.461538   1.0   1.0   1.0   1.0"
            ]
          },
          "metadata": {
            "tags": []
          },
          "execution_count": 62
        }
      ]
    },
    {
      "cell_type": "code",
      "metadata": {
        "id": "amHk-wAhxqNQ",
        "colab_type": "code",
        "colab": {}
      },
      "source": [
        "delinq_replace = {0: \"GecikmeYok\", 1: \"DusukGecikme\", 2: \"DusukGecikme\", 3: \"DusukGecikme\", \n",
        "                 4: \"YuksekGecikme\", 4: \"YuksekGecikme\",5: \"YuksekGecikme\",6: \"YuksekGecikme\",\n",
        "                 7: \"YuksekGecikme\",8: \"YuksekGecikme\", 9: \"YuksekGecikme\", 10: \"YuksekGecikme\"}\n",
        "imputation_df = imputation_df.replace({\"delinq\": delinq_replace})"
      ],
      "execution_count": null,
      "outputs": []
    },
    {
      "cell_type": "markdown",
      "metadata": {
        "id": "XvX6X9IPxqNY",
        "colab_type": "text"
      },
      "source": [
        "#### 1.3.3. NINQ Degiskeni\n",
        "\n",
        "NINQ - Kredi ile ilgili yapilan sorgu sayisi bakimindan incelendiginde, verinin cogunlugunu 0,1,2 ve 3 sorgu degerine sahip musteriler olusturmaktadir. Degiskeni kategorik hale getirmek icin musterilerin en az %70 oraninda borcunu geri odemesi ve hakkinda en fazla 4 kredi sorgu yapilmis olmasi varsayimlarini kabul ediyoruz. Kredi ile ilgili 0 hic sorgusu olmayan 1-3 arasi sorgu yapildiysa DusukSorgu, 4'ten fazla sorgularda ise YuksekSorgu olarak isaretliyoruz. \n",
        "\n",
        "- **SorguYok (0):** Sifir kredi sorgusu olan musterilerin kredisini %91.72 oraninda odedigi gorulmektedir.\n",
        "- **DusukSorgu (1-4):** Kredi ile ilgili sorgu sayisi 1-4 arasi olanlar kredilerini %74.41-93.01 oaraninda zamaninda odedigi gorulmektedir. \n",
        "- **YuksekSorgu (5-13):** 4-13 sroguya sahip olanlar genellikle %74'ten az oranda borclarini geri oduyorlarmis. "
      ]
    },
    {
      "cell_type": "code",
      "metadata": {
        "scrolled": true,
        "id": "zRWDR66FxqNc",
        "colab_type": "code",
        "colab": {
          "base_uri": "https://localhost:8080/",
          "height": 143
        },
        "outputId": "56e01f0f-636c-48c6-c153-ed9bda8ac296"
      },
      "source": [
        "crosstab(imputation_df[\"bad\"], imputation_df[\"ninq\"])"
      ],
      "execution_count": null,
      "outputs": [
        {
          "output_type": "execute_result",
          "data": {
            "text/html": [
              "<div>\n",
              "<style scoped>\n",
              "    .dataframe tbody tr th:only-of-type {\n",
              "        vertical-align: middle;\n",
              "    }\n",
              "\n",
              "    .dataframe tbody tr th {\n",
              "        vertical-align: top;\n",
              "    }\n",
              "\n",
              "    .dataframe thead th {\n",
              "        text-align: right;\n",
              "    }\n",
              "</style>\n",
              "<table border=\"1\" class=\"dataframe\">\n",
              "  <thead>\n",
              "    <tr style=\"text-align: right;\">\n",
              "      <th>ninq</th>\n",
              "      <th>0.0</th>\n",
              "      <th>1.0</th>\n",
              "      <th>2.0</th>\n",
              "      <th>3.0</th>\n",
              "      <th>4.0</th>\n",
              "      <th>5.0</th>\n",
              "      <th>6.0</th>\n",
              "      <th>7.0</th>\n",
              "      <th>8.0</th>\n",
              "      <th>9.0</th>\n",
              "      <th>10.0</th>\n",
              "      <th>11.0</th>\n",
              "      <th>13.0</th>\n",
              "    </tr>\n",
              "    <tr>\n",
              "      <th>bad</th>\n",
              "      <th></th>\n",
              "      <th></th>\n",
              "      <th></th>\n",
              "      <th></th>\n",
              "      <th></th>\n",
              "      <th></th>\n",
              "      <th></th>\n",
              "      <th></th>\n",
              "      <th></th>\n",
              "      <th></th>\n",
              "      <th></th>\n",
              "      <th></th>\n",
              "      <th></th>\n",
              "    </tr>\n",
              "  </thead>\n",
              "  <tbody>\n",
              "    <tr>\n",
              "      <th>0</th>\n",
              "      <td>0.920118</td>\n",
              "      <td>0.933333</td>\n",
              "      <td>0.92446</td>\n",
              "      <td>0.885714</td>\n",
              "      <td>0.75</td>\n",
              "      <td>0.6</td>\n",
              "      <td>0.642857</td>\n",
              "      <td>0.727273</td>\n",
              "      <td>1.0</td>\n",
              "      <td>0.666667</td>\n",
              "      <td>0.9</td>\n",
              "      <td>1.0</td>\n",
              "      <td>0.0</td>\n",
              "    </tr>\n",
              "    <tr>\n",
              "      <th>1</th>\n",
              "      <td>0.079882</td>\n",
              "      <td>0.066667</td>\n",
              "      <td>0.07554</td>\n",
              "      <td>0.114286</td>\n",
              "      <td>0.25</td>\n",
              "      <td>0.4</td>\n",
              "      <td>0.357143</td>\n",
              "      <td>0.272727</td>\n",
              "      <td>0.0</td>\n",
              "      <td>0.333333</td>\n",
              "      <td>0.1</td>\n",
              "      <td>0.0</td>\n",
              "      <td>1.0</td>\n",
              "    </tr>\n",
              "  </tbody>\n",
              "</table>\n",
              "</div>"
            ],
            "text/plain": [
              "ninq      0.0       1.0      2.0       3.0   ...      9.0   10.0  11.0  13.0\n",
              "bad                                          ...                            \n",
              "0     0.920118  0.933333  0.92446  0.885714  ...  0.666667   0.9   1.0   0.0\n",
              "1     0.079882  0.066667  0.07554  0.114286  ...  0.333333   0.1   0.0   1.0\n",
              "\n",
              "[2 rows x 13 columns]"
            ]
          },
          "metadata": {
            "tags": []
          },
          "execution_count": 64
        }
      ]
    },
    {
      "cell_type": "code",
      "metadata": {
        "id": "Kf05zq9JxqNi",
        "colab_type": "code",
        "colab": {}
      },
      "source": [
        "ninq_replace = {0: \"SorguYok\", 1: \"DusukSorgu\", 2: \"DusukSorgu\", 3: \"DusukSorgu\", \n",
        "                 4: \"DusukSorgu\", 4: \"YuksekSorgu\",5: \"YuksekSorgu\",6: \"YuksekSorgu\", 7: \"YuksekSorgu\",\n",
        "                 8: \"YuksekSorgu\", 9: \"YuksekSorgu\", 10: \"YuksekSorgu\", 11:\"YuksekSorgu\",\n",
        "                12:\"YuksekSorgu\", 13:\"YuksekSorgu\" }\n",
        "imputation_df = imputation_df.replace({\"ninq\": ninq_replace})"
      ],
      "execution_count": null,
      "outputs": []
    },
    {
      "cell_type": "markdown",
      "metadata": {
        "id": "QkP1n5kjxqNy",
        "colab_type": "text"
      },
      "source": [
        "#### 1.3.4. YOJ Degiskeni\n",
        "\n",
        "YOJ - Musterilerin mevcut is yerinde calistigi yil bakimindan incelendiginde, 0-10 yil arasinda musterilerin her yilda 100'den fazla musteri oldugunu goruyoruz. Bu nedenle musterileri mevcut is yili bakiminda 0-10, 11-20, 21-30, 31-40, 41-50 seklinde kategorilere ayiriyoruz. "
      ]
    },
    {
      "cell_type": "code",
      "metadata": {
        "scrolled": false,
        "id": "u3ogz9xWxqNy",
        "colab_type": "code",
        "colab": {
          "base_uri": "https://localhost:8080/",
          "height": 163
        },
        "outputId": "98f6dee9-2ad1-4cae-f40a-17df684b5a74"
      },
      "source": [
        "crosstab(imputation_df[\"bad\"], imputation_df[\"yoj\"])"
      ],
      "execution_count": null,
      "outputs": [
        {
          "output_type": "execute_result",
          "data": {
            "text/html": [
              "<div>\n",
              "<style scoped>\n",
              "    .dataframe tbody tr th:only-of-type {\n",
              "        vertical-align: middle;\n",
              "    }\n",
              "\n",
              "    .dataframe tbody tr th {\n",
              "        vertical-align: top;\n",
              "    }\n",
              "\n",
              "    .dataframe thead th {\n",
              "        text-align: right;\n",
              "    }\n",
              "</style>\n",
              "<table border=\"1\" class=\"dataframe\">\n",
              "  <thead>\n",
              "    <tr style=\"text-align: right;\">\n",
              "      <th>yoj</th>\n",
              "      <th>0.0</th>\n",
              "      <th>1.0</th>\n",
              "      <th>2.0</th>\n",
              "      <th>3.0</th>\n",
              "      <th>4.0</th>\n",
              "      <th>5.0</th>\n",
              "      <th>6.0</th>\n",
              "      <th>7.0</th>\n",
              "      <th>8.0</th>\n",
              "      <th>9.0</th>\n",
              "      <th>10.0</th>\n",
              "      <th>11.0</th>\n",
              "      <th>12.0</th>\n",
              "      <th>13.0</th>\n",
              "      <th>14.0</th>\n",
              "      <th>15.0</th>\n",
              "      <th>16.0</th>\n",
              "      <th>17.0</th>\n",
              "      <th>18.0</th>\n",
              "      <th>19.0</th>\n",
              "      <th>20.0</th>\n",
              "      <th>21.0</th>\n",
              "      <th>22.0</th>\n",
              "      <th>23.0</th>\n",
              "      <th>24.0</th>\n",
              "      <th>25.0</th>\n",
              "      <th>26.0</th>\n",
              "      <th>27.0</th>\n",
              "      <th>28.0</th>\n",
              "      <th>29.0</th>\n",
              "      <th>30.0</th>\n",
              "      <th>31.0</th>\n",
              "      <th>35.0</th>\n",
              "      <th>36.0</th>\n",
              "      <th>41.0</th>\n",
              "    </tr>\n",
              "    <tr>\n",
              "      <th>bad</th>\n",
              "      <th></th>\n",
              "      <th></th>\n",
              "      <th></th>\n",
              "      <th></th>\n",
              "      <th></th>\n",
              "      <th></th>\n",
              "      <th></th>\n",
              "      <th></th>\n",
              "      <th></th>\n",
              "      <th></th>\n",
              "      <th></th>\n",
              "      <th></th>\n",
              "      <th></th>\n",
              "      <th></th>\n",
              "      <th></th>\n",
              "      <th></th>\n",
              "      <th></th>\n",
              "      <th></th>\n",
              "      <th></th>\n",
              "      <th></th>\n",
              "      <th></th>\n",
              "      <th></th>\n",
              "      <th></th>\n",
              "      <th></th>\n",
              "      <th></th>\n",
              "      <th></th>\n",
              "      <th></th>\n",
              "      <th></th>\n",
              "      <th></th>\n",
              "      <th></th>\n",
              "      <th></th>\n",
              "      <th></th>\n",
              "      <th></th>\n",
              "      <th></th>\n",
              "      <th></th>\n",
              "    </tr>\n",
              "  </thead>\n",
              "  <tbody>\n",
              "    <tr>\n",
              "      <th>0</th>\n",
              "      <td>0.909605</td>\n",
              "      <td>0.927007</td>\n",
              "      <td>0.872</td>\n",
              "      <td>0.843478</td>\n",
              "      <td>0.921053</td>\n",
              "      <td>0.871795</td>\n",
              "      <td>0.928571</td>\n",
              "      <td>0.934783</td>\n",
              "      <td>0.895349</td>\n",
              "      <td>0.920354</td>\n",
              "      <td>0.932039</td>\n",
              "      <td>0.921875</td>\n",
              "      <td>0.894737</td>\n",
              "      <td>0.848485</td>\n",
              "      <td>0.88</td>\n",
              "      <td>0.913043</td>\n",
              "      <td>0.941176</td>\n",
              "      <td>0.970588</td>\n",
              "      <td>0.928571</td>\n",
              "      <td>0.885714</td>\n",
              "      <td>0.971429</td>\n",
              "      <td>0.961538</td>\n",
              "      <td>1.0</td>\n",
              "      <td>0.966667</td>\n",
              "      <td>1.0</td>\n",
              "      <td>0.909091</td>\n",
              "      <td>0.909091</td>\n",
              "      <td>0.947368</td>\n",
              "      <td>0.916667</td>\n",
              "      <td>1.0</td>\n",
              "      <td>0.875</td>\n",
              "      <td>1.0</td>\n",
              "      <td>1.0</td>\n",
              "      <td>1.0</td>\n",
              "      <td>0.0</td>\n",
              "    </tr>\n",
              "    <tr>\n",
              "      <th>1</th>\n",
              "      <td>0.090395</td>\n",
              "      <td>0.072993</td>\n",
              "      <td>0.128</td>\n",
              "      <td>0.156522</td>\n",
              "      <td>0.078947</td>\n",
              "      <td>0.128205</td>\n",
              "      <td>0.071429</td>\n",
              "      <td>0.065217</td>\n",
              "      <td>0.104651</td>\n",
              "      <td>0.079646</td>\n",
              "      <td>0.067961</td>\n",
              "      <td>0.078125</td>\n",
              "      <td>0.105263</td>\n",
              "      <td>0.151515</td>\n",
              "      <td>0.12</td>\n",
              "      <td>0.086957</td>\n",
              "      <td>0.058824</td>\n",
              "      <td>0.029412</td>\n",
              "      <td>0.071429</td>\n",
              "      <td>0.114286</td>\n",
              "      <td>0.028571</td>\n",
              "      <td>0.038462</td>\n",
              "      <td>0.0</td>\n",
              "      <td>0.033333</td>\n",
              "      <td>0.0</td>\n",
              "      <td>0.090909</td>\n",
              "      <td>0.090909</td>\n",
              "      <td>0.052632</td>\n",
              "      <td>0.083333</td>\n",
              "      <td>0.0</td>\n",
              "      <td>0.125</td>\n",
              "      <td>0.0</td>\n",
              "      <td>0.0</td>\n",
              "      <td>0.0</td>\n",
              "      <td>1.0</td>\n",
              "    </tr>\n",
              "  </tbody>\n",
              "</table>\n",
              "</div>"
            ],
            "text/plain": [
              "yoj      0.0       1.0    2.0       3.0   ...  31.0  35.0  36.0  41.0\n",
              "bad                                       ...                        \n",
              "0    0.909605  0.927007  0.872  0.843478  ...   1.0   1.0   1.0   0.0\n",
              "1    0.090395  0.072993  0.128  0.156522  ...   0.0   0.0   0.0   1.0\n",
              "\n",
              "[2 rows x 35 columns]"
            ]
          },
          "metadata": {
            "tags": []
          },
          "execution_count": 66
        }
      ]
    },
    {
      "cell_type": "code",
      "metadata": {
        "scrolled": true,
        "id": "PPPO1ibyxqOB",
        "colab_type": "code",
        "colab": {}
      },
      "source": [
        "yoj = []\n",
        "for i in imputation_df[\"yoj\"]:\n",
        "    i = int(i)\n",
        "    if(i >= 0 and i<=10):\n",
        "        yoj.append(\"0-10\")\n",
        "    elif(i>10 and i<=20):\n",
        "        yoj.append(\"11-20\")\n",
        "    elif(i>20 and i<=30):\n",
        "        yoj.append(\"21-30\")\n",
        "    elif(i>30 and i<=40):\n",
        "        yoj.append(\"31-40\")\n",
        "    else:\n",
        "        yoj.append(\"41-50\")\n",
        "\n",
        "imputation_df[\"yoj\"] = yoj"
      ],
      "execution_count": null,
      "outputs": []
    },
    {
      "cell_type": "code",
      "metadata": {
        "scrolled": true,
        "id": "0SrCon-1xqOE",
        "colab_type": "code",
        "colab": {
          "base_uri": "https://localhost:8080/",
          "height": 206
        },
        "outputId": "ec4880aa-1cd8-4006-9ccf-66624a947ba2"
      },
      "source": [
        "imputation_df.head()"
      ],
      "execution_count": null,
      "outputs": [
        {
          "output_type": "execute_result",
          "data": {
            "text/html": [
              "<div>\n",
              "<style scoped>\n",
              "    .dataframe tbody tr th:only-of-type {\n",
              "        vertical-align: middle;\n",
              "    }\n",
              "\n",
              "    .dataframe tbody tr th {\n",
              "        vertical-align: top;\n",
              "    }\n",
              "\n",
              "    .dataframe thead th {\n",
              "        text-align: right;\n",
              "    }\n",
              "</style>\n",
              "<table border=\"1\" class=\"dataframe\">\n",
              "  <thead>\n",
              "    <tr style=\"text-align: right;\">\n",
              "      <th></th>\n",
              "      <th>bad</th>\n",
              "      <th>loan</th>\n",
              "      <th>mortdue</th>\n",
              "      <th>value</th>\n",
              "      <th>reason</th>\n",
              "      <th>job</th>\n",
              "      <th>yoj</th>\n",
              "      <th>derog</th>\n",
              "      <th>delinq</th>\n",
              "      <th>clage</th>\n",
              "      <th>ninq</th>\n",
              "      <th>clno</th>\n",
              "      <th>debtinc</th>\n",
              "    </tr>\n",
              "  </thead>\n",
              "  <tbody>\n",
              "    <tr>\n",
              "      <th>153</th>\n",
              "      <td>0</td>\n",
              "      <td>18200</td>\n",
              "      <td>94727.0</td>\n",
              "      <td>136877.0</td>\n",
              "      <td>DebtCon</td>\n",
              "      <td>Mgr</td>\n",
              "      <td>11-20</td>\n",
              "      <td>RaporYok</td>\n",
              "      <td>GecikmeYok</td>\n",
              "      <td>168.96</td>\n",
              "      <td>DusukSorgu</td>\n",
              "      <td>26.0</td>\n",
              "      <td>36.056</td>\n",
              "    </tr>\n",
              "    <tr>\n",
              "      <th>154</th>\n",
              "      <td>0</td>\n",
              "      <td>21700</td>\n",
              "      <td>79240.0</td>\n",
              "      <td>96784.0</td>\n",
              "      <td>DebtCon</td>\n",
              "      <td>Mgr</td>\n",
              "      <td>0-10</td>\n",
              "      <td>RaporYok</td>\n",
              "      <td>GecikmeYok</td>\n",
              "      <td>64.51</td>\n",
              "      <td>YuksekSorgu</td>\n",
              "      <td>24.0</td>\n",
              "      <td>38.079</td>\n",
              "    </tr>\n",
              "    <tr>\n",
              "      <th>155</th>\n",
              "      <td>0</td>\n",
              "      <td>34100</td>\n",
              "      <td>241931.0</td>\n",
              "      <td>36486.0</td>\n",
              "      <td>DebtCon</td>\n",
              "      <td>Mgr</td>\n",
              "      <td>0-10</td>\n",
              "      <td>RaporYok</td>\n",
              "      <td>DusukGecikme</td>\n",
              "      <td>196.01</td>\n",
              "      <td>DusukSorgu</td>\n",
              "      <td>50.0</td>\n",
              "      <td>42.459</td>\n",
              "    </tr>\n",
              "    <tr>\n",
              "      <th>156</th>\n",
              "      <td>0</td>\n",
              "      <td>8400</td>\n",
              "      <td>62989.0</td>\n",
              "      <td>76718.0</td>\n",
              "      <td>HomeImp</td>\n",
              "      <td>Mgr</td>\n",
              "      <td>0-10</td>\n",
              "      <td>RaporYok</td>\n",
              "      <td>DusukGecikme</td>\n",
              "      <td>131.47</td>\n",
              "      <td>SorguYok</td>\n",
              "      <td>22.0</td>\n",
              "      <td>29.200</td>\n",
              "    </tr>\n",
              "    <tr>\n",
              "      <th>157</th>\n",
              "      <td>0</td>\n",
              "      <td>17400</td>\n",
              "      <td>25859.0</td>\n",
              "      <td>43684.0</td>\n",
              "      <td>DebtCon</td>\n",
              "      <td>Mgr</td>\n",
              "      <td>11-20</td>\n",
              "      <td>DusukRapor</td>\n",
              "      <td>GecikmeYok</td>\n",
              "      <td>95.36</td>\n",
              "      <td>DusukSorgu</td>\n",
              "      <td>17.0</td>\n",
              "      <td>27.108</td>\n",
              "    </tr>\n",
              "  </tbody>\n",
              "</table>\n",
              "</div>"
            ],
            "text/plain": [
              "     bad   loan   mortdue     value  ...   clage         ninq  clno debtinc\n",
              "153    0  18200   94727.0  136877.0  ...  168.96   DusukSorgu  26.0  36.056\n",
              "154    0  21700   79240.0   96784.0  ...   64.51  YuksekSorgu  24.0  38.079\n",
              "155    0  34100  241931.0   36486.0  ...  196.01   DusukSorgu  50.0  42.459\n",
              "156    0   8400   62989.0   76718.0  ...  131.47     SorguYok  22.0  29.200\n",
              "157    0  17400   25859.0   43684.0  ...   95.36   DusukSorgu  17.0  27.108\n",
              "\n",
              "[5 rows x 13 columns]"
            ]
          },
          "metadata": {
            "tags": []
          },
          "execution_count": 68
        }
      ]
    },
    {
      "cell_type": "markdown",
      "metadata": {
        "id": "rI2IEiNdxqOK",
        "colab_type": "text"
      },
      "source": [
        "### 2. Dummy Transformation"
      ]
    },
    {
      "cell_type": "code",
      "metadata": {
        "id": "BSeGKotHxqOL",
        "colab_type": "code",
        "colab": {
          "base_uri": "https://localhost:8080/",
          "height": 104
        },
        "outputId": "ad759002-22b9-463f-e617-e5d68020df5c"
      },
      "source": [
        "num, category = numeric_categoric_variable(imputation_df)"
      ],
      "execution_count": null,
      "outputs": [
        {
          "output_type": "stream",
          "text": [
            "Numeric Column  :\n",
            " ['bad', 'loan', 'mortdue', 'value', 'clage', 'clno', 'debtinc'] \n",
            "\n",
            "Categoric Column :\n",
            " ['reason', 'job', 'yoj', 'derog', 'delinq', 'ninq']\n"
          ],
          "name": "stdout"
        }
      ]
    },
    {
      "cell_type": "code",
      "metadata": {
        "scrolled": false,
        "id": "8Lks3jBExqOR",
        "colab_type": "code",
        "colab": {
          "base_uri": "https://localhost:8080/",
          "height": 250
        },
        "outputId": "7a03a30b-5b87-41b7-858a-3354f41d5703"
      },
      "source": [
        "def dummy_df(df, todummy_list):\n",
        "    for x in todummy_list:\n",
        "        dummies = pd.get_dummies(df[x], prefix=x, dummy_na=False)\n",
        "        df = df.drop(x, 1)\n",
        "        df = pd.concat([df, dummies], axis=1)\n",
        "    return df\n",
        "\n",
        "data_dummy = dummy_df(imputation_df, category)\n",
        "num, cat = numeric_categoric_variable(data_dummy)\n",
        "data_dummy.head(3)"
      ],
      "execution_count": null,
      "outputs": [
        {
          "output_type": "stream",
          "text": [
            "Numeric Column  :\n",
            " ['bad', 'loan', 'mortdue', 'value', 'clage', 'clno', 'debtinc', 'reason_DebtCon', 'reason_HomeImp', 'job_Mgr', 'job_Office', 'job_Other', 'job_ProfEx', 'job_Sales', 'job_Self', 'yoj_0-10', 'yoj_11-20', 'yoj_21-30', 'yoj_31-40', 'yoj_41-50', 'derog_DusukRapor', 'derog_RaporYok', 'derog_YuksekRapor', 'delinq_DusukGecikme', 'delinq_GecikmeYok', 'delinq_YuksekGecikme', 'ninq_DusukSorgu', 'ninq_SorguYok', 'ninq_YuksekSorgu'] \n",
            "\n",
            "Categoric Column :\n",
            " []\n"
          ],
          "name": "stdout"
        },
        {
          "output_type": "execute_result",
          "data": {
            "text/html": [
              "<div>\n",
              "<style scoped>\n",
              "    .dataframe tbody tr th:only-of-type {\n",
              "        vertical-align: middle;\n",
              "    }\n",
              "\n",
              "    .dataframe tbody tr th {\n",
              "        vertical-align: top;\n",
              "    }\n",
              "\n",
              "    .dataframe thead th {\n",
              "        text-align: right;\n",
              "    }\n",
              "</style>\n",
              "<table border=\"1\" class=\"dataframe\">\n",
              "  <thead>\n",
              "    <tr style=\"text-align: right;\">\n",
              "      <th></th>\n",
              "      <th>bad</th>\n",
              "      <th>loan</th>\n",
              "      <th>mortdue</th>\n",
              "      <th>value</th>\n",
              "      <th>clage</th>\n",
              "      <th>clno</th>\n",
              "      <th>debtinc</th>\n",
              "      <th>reason_DebtCon</th>\n",
              "      <th>reason_HomeImp</th>\n",
              "      <th>job_Mgr</th>\n",
              "      <th>job_Office</th>\n",
              "      <th>job_Other</th>\n",
              "      <th>job_ProfEx</th>\n",
              "      <th>job_Sales</th>\n",
              "      <th>job_Self</th>\n",
              "      <th>yoj_0-10</th>\n",
              "      <th>yoj_11-20</th>\n",
              "      <th>yoj_21-30</th>\n",
              "      <th>yoj_31-40</th>\n",
              "      <th>yoj_41-50</th>\n",
              "      <th>derog_DusukRapor</th>\n",
              "      <th>derog_RaporYok</th>\n",
              "      <th>derog_YuksekRapor</th>\n",
              "      <th>delinq_DusukGecikme</th>\n",
              "      <th>delinq_GecikmeYok</th>\n",
              "      <th>delinq_YuksekGecikme</th>\n",
              "      <th>ninq_DusukSorgu</th>\n",
              "      <th>ninq_SorguYok</th>\n",
              "      <th>ninq_YuksekSorgu</th>\n",
              "    </tr>\n",
              "  </thead>\n",
              "  <tbody>\n",
              "    <tr>\n",
              "      <th>153</th>\n",
              "      <td>0</td>\n",
              "      <td>18200</td>\n",
              "      <td>94727.0</td>\n",
              "      <td>136877.0</td>\n",
              "      <td>168.96</td>\n",
              "      <td>26.0</td>\n",
              "      <td>36.056</td>\n",
              "      <td>1</td>\n",
              "      <td>0</td>\n",
              "      <td>1</td>\n",
              "      <td>0</td>\n",
              "      <td>0</td>\n",
              "      <td>0</td>\n",
              "      <td>0</td>\n",
              "      <td>0</td>\n",
              "      <td>0</td>\n",
              "      <td>1</td>\n",
              "      <td>0</td>\n",
              "      <td>0</td>\n",
              "      <td>0</td>\n",
              "      <td>0</td>\n",
              "      <td>1</td>\n",
              "      <td>0</td>\n",
              "      <td>0</td>\n",
              "      <td>1</td>\n",
              "      <td>0</td>\n",
              "      <td>1</td>\n",
              "      <td>0</td>\n",
              "      <td>0</td>\n",
              "    </tr>\n",
              "    <tr>\n",
              "      <th>154</th>\n",
              "      <td>0</td>\n",
              "      <td>21700</td>\n",
              "      <td>79240.0</td>\n",
              "      <td>96784.0</td>\n",
              "      <td>64.51</td>\n",
              "      <td>24.0</td>\n",
              "      <td>38.079</td>\n",
              "      <td>1</td>\n",
              "      <td>0</td>\n",
              "      <td>1</td>\n",
              "      <td>0</td>\n",
              "      <td>0</td>\n",
              "      <td>0</td>\n",
              "      <td>0</td>\n",
              "      <td>0</td>\n",
              "      <td>1</td>\n",
              "      <td>0</td>\n",
              "      <td>0</td>\n",
              "      <td>0</td>\n",
              "      <td>0</td>\n",
              "      <td>0</td>\n",
              "      <td>1</td>\n",
              "      <td>0</td>\n",
              "      <td>0</td>\n",
              "      <td>1</td>\n",
              "      <td>0</td>\n",
              "      <td>0</td>\n",
              "      <td>0</td>\n",
              "      <td>1</td>\n",
              "    </tr>\n",
              "    <tr>\n",
              "      <th>155</th>\n",
              "      <td>0</td>\n",
              "      <td>34100</td>\n",
              "      <td>241931.0</td>\n",
              "      <td>36486.0</td>\n",
              "      <td>196.01</td>\n",
              "      <td>50.0</td>\n",
              "      <td>42.459</td>\n",
              "      <td>1</td>\n",
              "      <td>0</td>\n",
              "      <td>1</td>\n",
              "      <td>0</td>\n",
              "      <td>0</td>\n",
              "      <td>0</td>\n",
              "      <td>0</td>\n",
              "      <td>0</td>\n",
              "      <td>1</td>\n",
              "      <td>0</td>\n",
              "      <td>0</td>\n",
              "      <td>0</td>\n",
              "      <td>0</td>\n",
              "      <td>0</td>\n",
              "      <td>1</td>\n",
              "      <td>0</td>\n",
              "      <td>1</td>\n",
              "      <td>0</td>\n",
              "      <td>0</td>\n",
              "      <td>1</td>\n",
              "      <td>0</td>\n",
              "      <td>0</td>\n",
              "    </tr>\n",
              "  </tbody>\n",
              "</table>\n",
              "</div>"
            ],
            "text/plain": [
              "     bad   loan   mortdue  ...  ninq_DusukSorgu  ninq_SorguYok  ninq_YuksekSorgu\n",
              "153    0  18200   94727.0  ...                1              0                 0\n",
              "154    0  21700   79240.0  ...                0              0                 1\n",
              "155    0  34100  241931.0  ...                1              0                 0\n",
              "\n",
              "[3 rows x 29 columns]"
            ]
          },
          "metadata": {
            "tags": []
          },
          "execution_count": 70
        }
      ]
    },
    {
      "cell_type": "markdown",
      "metadata": {
        "id": "nGk8PJ7zxqOU",
        "colab_type": "text"
      },
      "source": [
        "### 4. Normalization"
      ]
    },
    {
      "cell_type": "code",
      "metadata": {
        "scrolled": false,
        "id": "x5xfWB41xqOU",
        "colab_type": "code",
        "colab": {
          "base_uri": "https://localhost:8080/",
          "height": 163
        },
        "outputId": "c33e3ded-0cb1-4609-a739-9577bb4a676c"
      },
      "source": [
        "data_minmax = normalization_minmax(data_dummy)\n",
        "data_minmax.head(3)"
      ],
      "execution_count": null,
      "outputs": [
        {
          "output_type": "execute_result",
          "data": {
            "text/html": [
              "<div>\n",
              "<style scoped>\n",
              "    .dataframe tbody tr th:only-of-type {\n",
              "        vertical-align: middle;\n",
              "    }\n",
              "\n",
              "    .dataframe tbody tr th {\n",
              "        vertical-align: top;\n",
              "    }\n",
              "\n",
              "    .dataframe thead th {\n",
              "        text-align: right;\n",
              "    }\n",
              "</style>\n",
              "<table border=\"1\" class=\"dataframe\">\n",
              "  <thead>\n",
              "    <tr style=\"text-align: right;\">\n",
              "      <th></th>\n",
              "      <th>bad</th>\n",
              "      <th>loan</th>\n",
              "      <th>mortdue</th>\n",
              "      <th>value</th>\n",
              "      <th>clage</th>\n",
              "      <th>clno</th>\n",
              "      <th>debtinc</th>\n",
              "      <th>reason_DebtCon</th>\n",
              "      <th>reason_HomeImp</th>\n",
              "      <th>job_Mgr</th>\n",
              "      <th>job_Office</th>\n",
              "      <th>job_Other</th>\n",
              "      <th>job_ProfEx</th>\n",
              "      <th>job_Sales</th>\n",
              "      <th>job_Self</th>\n",
              "      <th>yoj_0-10</th>\n",
              "      <th>yoj_11-20</th>\n",
              "      <th>yoj_21-30</th>\n",
              "      <th>yoj_31-40</th>\n",
              "      <th>yoj_41-50</th>\n",
              "      <th>derog_DusukRapor</th>\n",
              "      <th>derog_RaporYok</th>\n",
              "      <th>derog_YuksekRapor</th>\n",
              "      <th>delinq_DusukGecikme</th>\n",
              "      <th>delinq_GecikmeYok</th>\n",
              "      <th>delinq_YuksekGecikme</th>\n",
              "      <th>ninq_DusukSorgu</th>\n",
              "      <th>ninq_SorguYok</th>\n",
              "      <th>ninq_YuksekSorgu</th>\n",
              "    </tr>\n",
              "  </thead>\n",
              "  <tbody>\n",
              "    <tr>\n",
              "      <th>0</th>\n",
              "      <td>0.0</td>\n",
              "      <td>0.187075</td>\n",
              "      <td>0.227347</td>\n",
              "      <td>0.232520</td>\n",
              "      <td>0.144270</td>\n",
              "      <td>0.40625</td>\n",
              "      <td>0.228498</td>\n",
              "      <td>1.0</td>\n",
              "      <td>0.0</td>\n",
              "      <td>1.0</td>\n",
              "      <td>0.0</td>\n",
              "      <td>0.0</td>\n",
              "      <td>0.0</td>\n",
              "      <td>0.0</td>\n",
              "      <td>0.0</td>\n",
              "      <td>0.0</td>\n",
              "      <td>1.0</td>\n",
              "      <td>0.0</td>\n",
              "      <td>0.0</td>\n",
              "      <td>0.0</td>\n",
              "      <td>0.0</td>\n",
              "      <td>1.0</td>\n",
              "      <td>0.0</td>\n",
              "      <td>0.0</td>\n",
              "      <td>1.0</td>\n",
              "      <td>0.0</td>\n",
              "      <td>1.0</td>\n",
              "      <td>0.0</td>\n",
              "      <td>0.0</td>\n",
              "    </tr>\n",
              "    <tr>\n",
              "      <th>1</th>\n",
              "      <td>0.0</td>\n",
              "      <td>0.226757</td>\n",
              "      <td>0.188073</td>\n",
              "      <td>0.150633</td>\n",
              "      <td>0.054824</td>\n",
              "      <td>0.37500</td>\n",
              "      <td>0.242931</td>\n",
              "      <td>1.0</td>\n",
              "      <td>0.0</td>\n",
              "      <td>1.0</td>\n",
              "      <td>0.0</td>\n",
              "      <td>0.0</td>\n",
              "      <td>0.0</td>\n",
              "      <td>0.0</td>\n",
              "      <td>0.0</td>\n",
              "      <td>1.0</td>\n",
              "      <td>0.0</td>\n",
              "      <td>0.0</td>\n",
              "      <td>0.0</td>\n",
              "      <td>0.0</td>\n",
              "      <td>0.0</td>\n",
              "      <td>1.0</td>\n",
              "      <td>0.0</td>\n",
              "      <td>0.0</td>\n",
              "      <td>1.0</td>\n",
              "      <td>0.0</td>\n",
              "      <td>0.0</td>\n",
              "      <td>0.0</td>\n",
              "      <td>1.0</td>\n",
              "    </tr>\n",
              "    <tr>\n",
              "      <th>2</th>\n",
              "      <td>0.0</td>\n",
              "      <td>0.367347</td>\n",
              "      <td>0.600643</td>\n",
              "      <td>0.027481</td>\n",
              "      <td>0.167435</td>\n",
              "      <td>0.78125</td>\n",
              "      <td>0.274181</td>\n",
              "      <td>1.0</td>\n",
              "      <td>0.0</td>\n",
              "      <td>1.0</td>\n",
              "      <td>0.0</td>\n",
              "      <td>0.0</td>\n",
              "      <td>0.0</td>\n",
              "      <td>0.0</td>\n",
              "      <td>0.0</td>\n",
              "      <td>1.0</td>\n",
              "      <td>0.0</td>\n",
              "      <td>0.0</td>\n",
              "      <td>0.0</td>\n",
              "      <td>0.0</td>\n",
              "      <td>0.0</td>\n",
              "      <td>1.0</td>\n",
              "      <td>0.0</td>\n",
              "      <td>1.0</td>\n",
              "      <td>0.0</td>\n",
              "      <td>0.0</td>\n",
              "      <td>1.0</td>\n",
              "      <td>0.0</td>\n",
              "      <td>0.0</td>\n",
              "    </tr>\n",
              "  </tbody>\n",
              "</table>\n",
              "</div>"
            ],
            "text/plain": [
              "   bad      loan   mortdue  ...  ninq_DusukSorgu  ninq_SorguYok  ninq_YuksekSorgu\n",
              "0  0.0  0.187075  0.227347  ...              1.0            0.0               0.0\n",
              "1  0.0  0.226757  0.188073  ...              0.0            0.0               1.0\n",
              "2  0.0  0.367347  0.600643  ...              1.0            0.0               0.0\n",
              "\n",
              "[3 rows x 29 columns]"
            ]
          },
          "metadata": {
            "tags": []
          },
          "execution_count": 71
        }
      ]
    },
    {
      "cell_type": "markdown",
      "metadata": {
        "id": "H5zt--PGxqOc",
        "colab_type": "text"
      },
      "source": [
        "# 3. Feature Selection "
      ]
    },
    {
      "cell_type": "markdown",
      "metadata": {
        "id": "nWjRfGKmxqOe",
        "colab_type": "text"
      },
      "source": [
        "### 3.1. Principal Component Analysis"
      ]
    },
    {
      "cell_type": "code",
      "metadata": {
        "id": "MxN3dkTvxqOg",
        "colab_type": "code",
        "colab": {
          "base_uri": "https://localhost:8080/",
          "height": 223
        },
        "outputId": "6164a4cb-ef5b-42ab-ad41-0c0745754416"
      },
      "source": [
        "data_pca = featureselection_pca(data_minmax,\"bad\", 0.9)\n",
        "data_pca.head()"
      ],
      "execution_count": null,
      "outputs": [
        {
          "output_type": "stream",
          "text": [
            "pca sonrası değişken sayısı:  9\n"
          ],
          "name": "stdout"
        },
        {
          "output_type": "execute_result",
          "data": {
            "text/html": [
              "<div>\n",
              "<style scoped>\n",
              "    .dataframe tbody tr th:only-of-type {\n",
              "        vertical-align: middle;\n",
              "    }\n",
              "\n",
              "    .dataframe tbody tr th {\n",
              "        vertical-align: top;\n",
              "    }\n",
              "\n",
              "    .dataframe thead th {\n",
              "        text-align: right;\n",
              "    }\n",
              "</style>\n",
              "<table border=\"1\" class=\"dataframe\">\n",
              "  <thead>\n",
              "    <tr style=\"text-align: right;\">\n",
              "      <th></th>\n",
              "      <th>0</th>\n",
              "      <th>1</th>\n",
              "      <th>2</th>\n",
              "      <th>3</th>\n",
              "      <th>4</th>\n",
              "      <th>5</th>\n",
              "      <th>6</th>\n",
              "      <th>7</th>\n",
              "      <th>8</th>\n",
              "      <th>bad</th>\n",
              "    </tr>\n",
              "  </thead>\n",
              "  <tbody>\n",
              "    <tr>\n",
              "      <th>0</th>\n",
              "      <td>-0.731283</td>\n",
              "      <td>-0.503780</td>\n",
              "      <td>0.859174</td>\n",
              "      <td>0.650631</td>\n",
              "      <td>-0.230217</td>\n",
              "      <td>0.336906</td>\n",
              "      <td>0.511953</td>\n",
              "      <td>-0.650730</td>\n",
              "      <td>-0.049518</td>\n",
              "      <td>0.0</td>\n",
              "    </tr>\n",
              "    <tr>\n",
              "      <th>1</th>\n",
              "      <td>-0.365154</td>\n",
              "      <td>-0.203467</td>\n",
              "      <td>-0.512842</td>\n",
              "      <td>0.168786</td>\n",
              "      <td>-0.002665</td>\n",
              "      <td>0.367648</td>\n",
              "      <td>0.721640</td>\n",
              "      <td>-0.703201</td>\n",
              "      <td>0.123162</td>\n",
              "      <td>0.0</td>\n",
              "    </tr>\n",
              "    <tr>\n",
              "      <th>2</th>\n",
              "      <td>-0.856140</td>\n",
              "      <td>0.139723</td>\n",
              "      <td>-0.027679</td>\n",
              "      <td>0.261835</td>\n",
              "      <td>1.261572</td>\n",
              "      <td>0.133774</td>\n",
              "      <td>0.076385</td>\n",
              "      <td>-0.982768</td>\n",
              "      <td>0.260247</td>\n",
              "      <td>0.0</td>\n",
              "    </tr>\n",
              "    <tr>\n",
              "      <th>3</th>\n",
              "      <td>1.052660</td>\n",
              "      <td>0.648982</td>\n",
              "      <td>-0.011003</td>\n",
              "      <td>-0.076870</td>\n",
              "      <td>1.172337</td>\n",
              "      <td>0.263991</td>\n",
              "      <td>0.259323</td>\n",
              "      <td>-1.009152</td>\n",
              "      <td>0.149988</td>\n",
              "      <td>0.0</td>\n",
              "    </tr>\n",
              "    <tr>\n",
              "      <th>4</th>\n",
              "      <td>-0.835913</td>\n",
              "      <td>-0.429815</td>\n",
              "      <td>0.870792</td>\n",
              "      <td>0.478768</td>\n",
              "      <td>0.175907</td>\n",
              "      <td>0.128854</td>\n",
              "      <td>1.512593</td>\n",
              "      <td>0.165357</td>\n",
              "      <td>-0.179672</td>\n",
              "      <td>0.0</td>\n",
              "    </tr>\n",
              "  </tbody>\n",
              "</table>\n",
              "</div>"
            ],
            "text/plain": [
              "          0         1         2         3  ...         6         7         8  bad\n",
              "0 -0.731283 -0.503780  0.859174  0.650631  ...  0.511953 -0.650730 -0.049518  0.0\n",
              "1 -0.365154 -0.203467 -0.512842  0.168786  ...  0.721640 -0.703201  0.123162  0.0\n",
              "2 -0.856140  0.139723 -0.027679  0.261835  ...  0.076385 -0.982768  0.260247  0.0\n",
              "3  1.052660  0.648982 -0.011003 -0.076870  ...  0.259323 -1.009152  0.149988  0.0\n",
              "4 -0.835913 -0.429815  0.870792  0.478768  ...  1.512593  0.165357 -0.179672  0.0\n",
              "\n",
              "[5 rows x 10 columns]"
            ]
          },
          "metadata": {
            "tags": []
          },
          "execution_count": 72
        }
      ]
    },
    {
      "cell_type": "markdown",
      "metadata": {
        "id": "CLREJG2BxqOk",
        "colab_type": "text"
      },
      "source": [
        "### 3.2. Correlation based Feature Selection"
      ]
    },
    {
      "cell_type": "code",
      "metadata": {
        "scrolled": true,
        "id": "sysciTlgxqOl",
        "colab_type": "code",
        "colab": {
          "base_uri": "https://localhost:8080/",
          "height": 206
        },
        "outputId": "2189a51b-9b2e-4a3f-b394-c6de8ef613e1"
      },
      "source": [
        "data_corr = featureselection_corrcorr(data_minmax, \"bad\",0.6, 10)\n",
        "data_corr.head()"
      ],
      "execution_count": null,
      "outputs": [
        {
          "output_type": "execute_result",
          "data": {
            "text/html": [
              "<div>\n",
              "<style scoped>\n",
              "    .dataframe tbody tr th:only-of-type {\n",
              "        vertical-align: middle;\n",
              "    }\n",
              "\n",
              "    .dataframe tbody tr th {\n",
              "        vertical-align: top;\n",
              "    }\n",
              "\n",
              "    .dataframe thead th {\n",
              "        text-align: right;\n",
              "    }\n",
              "</style>\n",
              "<table border=\"1\" class=\"dataframe\">\n",
              "  <thead>\n",
              "    <tr style=\"text-align: right;\">\n",
              "      <th></th>\n",
              "      <th>yoj_41-50</th>\n",
              "      <th>clage</th>\n",
              "      <th>derog_DusukRapor</th>\n",
              "      <th>delinq_DusukGecikme</th>\n",
              "      <th>ninq_YuksekSorgu</th>\n",
              "      <th>derog_RaporYok</th>\n",
              "      <th>delinq_GecikmeYok</th>\n",
              "      <th>derog_YuksekRapor</th>\n",
              "      <th>delinq_YuksekGecikme</th>\n",
              "      <th>debtinc</th>\n",
              "      <th>bad</th>\n",
              "    </tr>\n",
              "  </thead>\n",
              "  <tbody>\n",
              "    <tr>\n",
              "      <th>0</th>\n",
              "      <td>0.0</td>\n",
              "      <td>0.144270</td>\n",
              "      <td>0.0</td>\n",
              "      <td>0.0</td>\n",
              "      <td>0.0</td>\n",
              "      <td>1.0</td>\n",
              "      <td>1.0</td>\n",
              "      <td>0.0</td>\n",
              "      <td>0.0</td>\n",
              "      <td>0.228498</td>\n",
              "      <td>0.0</td>\n",
              "    </tr>\n",
              "    <tr>\n",
              "      <th>1</th>\n",
              "      <td>0.0</td>\n",
              "      <td>0.054824</td>\n",
              "      <td>0.0</td>\n",
              "      <td>0.0</td>\n",
              "      <td>1.0</td>\n",
              "      <td>1.0</td>\n",
              "      <td>1.0</td>\n",
              "      <td>0.0</td>\n",
              "      <td>0.0</td>\n",
              "      <td>0.242931</td>\n",
              "      <td>0.0</td>\n",
              "    </tr>\n",
              "    <tr>\n",
              "      <th>2</th>\n",
              "      <td>0.0</td>\n",
              "      <td>0.167435</td>\n",
              "      <td>0.0</td>\n",
              "      <td>1.0</td>\n",
              "      <td>0.0</td>\n",
              "      <td>1.0</td>\n",
              "      <td>0.0</td>\n",
              "      <td>0.0</td>\n",
              "      <td>0.0</td>\n",
              "      <td>0.274181</td>\n",
              "      <td>0.0</td>\n",
              "    </tr>\n",
              "    <tr>\n",
              "      <th>3</th>\n",
              "      <td>0.0</td>\n",
              "      <td>0.112165</td>\n",
              "      <td>0.0</td>\n",
              "      <td>1.0</td>\n",
              "      <td>0.0</td>\n",
              "      <td>1.0</td>\n",
              "      <td>0.0</td>\n",
              "      <td>0.0</td>\n",
              "      <td>0.0</td>\n",
              "      <td>0.179582</td>\n",
              "      <td>0.0</td>\n",
              "    </tr>\n",
              "    <tr>\n",
              "      <th>4</th>\n",
              "      <td>0.0</td>\n",
              "      <td>0.081242</td>\n",
              "      <td>1.0</td>\n",
              "      <td>0.0</td>\n",
              "      <td>0.0</td>\n",
              "      <td>0.0</td>\n",
              "      <td>1.0</td>\n",
              "      <td>0.0</td>\n",
              "      <td>0.0</td>\n",
              "      <td>0.164656</td>\n",
              "      <td>0.0</td>\n",
              "    </tr>\n",
              "  </tbody>\n",
              "</table>\n",
              "</div>"
            ],
            "text/plain": [
              "   yoj_41-50     clage  derog_DusukRapor  ...  delinq_YuksekGecikme   debtinc  bad\n",
              "0        0.0  0.144270               0.0  ...                   0.0  0.228498  0.0\n",
              "1        0.0  0.054824               0.0  ...                   0.0  0.242931  0.0\n",
              "2        0.0  0.167435               0.0  ...                   0.0  0.274181  0.0\n",
              "3        0.0  0.112165               0.0  ...                   0.0  0.179582  0.0\n",
              "4        0.0  0.081242               1.0  ...                   0.0  0.164656  0.0\n",
              "\n",
              "[5 rows x 11 columns]"
            ]
          },
          "metadata": {
            "tags": []
          },
          "execution_count": 73
        }
      ]
    },
    {
      "cell_type": "markdown",
      "metadata": {
        "id": "NJ1bYTFLxqOr",
        "colab_type": "text"
      },
      "source": [
        "### 3.3. RandomForest based Feature Selection"
      ]
    },
    {
      "cell_type": "code",
      "metadata": {
        "id": "ZpTVBha0xqOr",
        "colab_type": "code",
        "colab": {
          "base_uri": "https://localhost:8080/",
          "height": 310
        },
        "outputId": "e962e056-f95f-44fa-8fda-c3115c24453d"
      },
      "source": [
        "rf_params = {\"max_depth\": [2,5,8,10],\n",
        "             \"max_features\": [2,3,4,5],\n",
        "             \"n_estimators\": [10,50,100],\n",
        "             \"min_samples_split\": [5,10]}\n",
        "\n",
        "x= data_minmax.drop([\"bad\"], axis=1)\n",
        "y = data_minmax[\"bad\"]\n",
        "\n",
        "data_rf = featureselection_randomforest(x,y, rf_params, 7) \n",
        "data_rf.head()"
      ],
      "execution_count": null,
      "outputs": [
        {
          "output_type": "stream",
          "text": [
            "Fitting 10 folds for each of 96 candidates, totalling 960 fits\n"
          ],
          "name": "stdout"
        },
        {
          "output_type": "stream",
          "text": [
            "[Parallel(n_jobs=-1)]: Using backend LokyBackend with 2 concurrent workers.\n",
            "[Parallel(n_jobs=-1)]: Done  37 tasks      | elapsed:    3.7s\n",
            "[Parallel(n_jobs=-1)]: Done 274 tasks      | elapsed:   22.9s\n",
            "[Parallel(n_jobs=-1)]: Done 680 tasks      | elapsed:  1.1min\n",
            "[Parallel(n_jobs=-1)]: Done 960 out of 960 | elapsed:  1.7min finished\n"
          ],
          "name": "stderr"
        },
        {
          "output_type": "execute_result",
          "data": {
            "text/html": [
              "<div>\n",
              "<style scoped>\n",
              "    .dataframe tbody tr th:only-of-type {\n",
              "        vertical-align: middle;\n",
              "    }\n",
              "\n",
              "    .dataframe tbody tr th {\n",
              "        vertical-align: top;\n",
              "    }\n",
              "\n",
              "    .dataframe thead th {\n",
              "        text-align: right;\n",
              "    }\n",
              "</style>\n",
              "<table border=\"1\" class=\"dataframe\">\n",
              "  <thead>\n",
              "    <tr style=\"text-align: right;\">\n",
              "      <th></th>\n",
              "      <th>debtinc</th>\n",
              "      <th>value</th>\n",
              "      <th>clage</th>\n",
              "      <th>loan</th>\n",
              "      <th>clno</th>\n",
              "      <th>mortdue</th>\n",
              "      <th>delinq_YuksekGecikme</th>\n",
              "      <th>bad</th>\n",
              "    </tr>\n",
              "  </thead>\n",
              "  <tbody>\n",
              "    <tr>\n",
              "      <th>0</th>\n",
              "      <td>0.228498</td>\n",
              "      <td>0.232520</td>\n",
              "      <td>0.144270</td>\n",
              "      <td>0.187075</td>\n",
              "      <td>0.406250</td>\n",
              "      <td>0.227347</td>\n",
              "      <td>0.0</td>\n",
              "      <td>0.0</td>\n",
              "    </tr>\n",
              "    <tr>\n",
              "      <th>1</th>\n",
              "      <td>0.242931</td>\n",
              "      <td>0.150633</td>\n",
              "      <td>0.054824</td>\n",
              "      <td>0.226757</td>\n",
              "      <td>0.375000</td>\n",
              "      <td>0.188073</td>\n",
              "      <td>0.0</td>\n",
              "      <td>0.0</td>\n",
              "    </tr>\n",
              "    <tr>\n",
              "      <th>2</th>\n",
              "      <td>0.274181</td>\n",
              "      <td>0.027481</td>\n",
              "      <td>0.167435</td>\n",
              "      <td>0.367347</td>\n",
              "      <td>0.781250</td>\n",
              "      <td>0.600643</td>\n",
              "      <td>0.0</td>\n",
              "      <td>0.0</td>\n",
              "    </tr>\n",
              "    <tr>\n",
              "      <th>3</th>\n",
              "      <td>0.179582</td>\n",
              "      <td>0.109651</td>\n",
              "      <td>0.112165</td>\n",
              "      <td>0.075964</td>\n",
              "      <td>0.343750</td>\n",
              "      <td>0.146862</td>\n",
              "      <td>0.0</td>\n",
              "      <td>0.0</td>\n",
              "    </tr>\n",
              "    <tr>\n",
              "      <th>4</th>\n",
              "      <td>0.164656</td>\n",
              "      <td>0.042182</td>\n",
              "      <td>0.081242</td>\n",
              "      <td>0.178005</td>\n",
              "      <td>0.265625</td>\n",
              "      <td>0.052704</td>\n",
              "      <td>0.0</td>\n",
              "      <td>0.0</td>\n",
              "    </tr>\n",
              "  </tbody>\n",
              "</table>\n",
              "</div>"
            ],
            "text/plain": [
              "    debtinc     value     clage  ...   mortdue  delinq_YuksekGecikme  bad\n",
              "0  0.228498  0.232520  0.144270  ...  0.227347                   0.0  0.0\n",
              "1  0.242931  0.150633  0.054824  ...  0.188073                   0.0  0.0\n",
              "2  0.274181  0.027481  0.167435  ...  0.600643                   0.0  0.0\n",
              "3  0.179582  0.109651  0.112165  ...  0.146862                   0.0  0.0\n",
              "4  0.164656  0.042182  0.081242  ...  0.052704                   0.0  0.0\n",
              "\n",
              "[5 rows x 8 columns]"
            ]
          },
          "metadata": {
            "tags": []
          },
          "execution_count": 74
        }
      ]
    },
    {
      "cell_type": "markdown",
      "metadata": {
        "id": "lpiK7AeixqOx",
        "colab_type": "text"
      },
      "source": [
        "# 4. Modelling (Algorithms)\n",
        "\n",
        "- Decision Tree\n",
        "- Random Forest\n",
        "- Neural Network\n",
        "- Logistic Regression"
      ]
    },
    {
      "cell_type": "markdown",
      "metadata": {
        "id": "vGND0DBhxqOy",
        "colab_type": "text"
      },
      "source": [
        "### Train-Test data split"
      ]
    },
    {
      "cell_type": "code",
      "metadata": {
        "id": "T2e90EUWxqOy",
        "colab_type": "code",
        "colab": {
          "base_uri": "https://localhost:8080/",
          "height": 34
        },
        "outputId": "fbeba021-9e25-4c80-9f6a-6ed5d1da9ec8"
      },
      "source": [
        "x = data_pca.drop([\"bad\"], axis=1)\n",
        "y = data_pca[\"bad\"]\n",
        "xtrain, xtest, ytrain, ytest = train_test_split(x,y, test_size=0.25, random_state=42)\n",
        "xtrain.shape, xtest.shape, ytrain.shape, ytest.shape"
      ],
      "execution_count": null,
      "outputs": [
        {
          "output_type": "execute_result",
          "data": {
            "text/plain": [
              "((1585, 10), (529, 10), (1585,), (529,))"
            ]
          },
          "metadata": {
            "tags": []
          },
          "execution_count": 70
        }
      ]
    },
    {
      "cell_type": "markdown",
      "metadata": {
        "id": "xWrOYi1YxqO2",
        "colab_type": "text"
      },
      "source": [
        "### 4.1. DecisionTree Classifier"
      ]
    },
    {
      "cell_type": "markdown",
      "metadata": {
        "id": "xgoN1IBMxqO3",
        "colab_type": "text"
      },
      "source": [
        "#### 4.1.1. PCA based FS"
      ]
    },
    {
      "cell_type": "code",
      "metadata": {
        "id": "MaDacUIYxqO5",
        "colab_type": "code",
        "colab": {
          "base_uri": "https://localhost:8080/",
          "height": 260
        },
        "outputId": "9b412ed0-9e5f-4ef8-c6d1-c9c5fb8f08dd"
      },
      "source": [
        "x = data_pca.drop([\"bad\"], axis=1)\n",
        "y = data_pca[\"bad\"]\n",
        "xtrain, xtest, ytrain, ytest = train_test_split(x,y, test_size=0.25, random_state=42)\n",
        "xtrain.shape, xtest.shape, ytrain.shape, ytest.shape\n",
        "\n",
        "cart_model = DecisionTreeClassifier().fit(xtrain, ytrain)\n",
        "y_pred = cart_model.predict(xtest)\n",
        "evaluation_metrics(ytest, y_pred)\n",
        "print(\"\\n\",classification_report(ytest, y_pred))"
      ],
      "execution_count": null,
      "outputs": [
        {
          "output_type": "stream",
          "text": [
            "accuracy :  0.89603 \n",
            "precision:  0.42105 \n",
            "recall   :  0.32653 \n",
            "f1-score :  0.36782\n",
            "\n",
            "               precision    recall  f1-score   support\n",
            "\n",
            "         0.0       0.93      0.95      0.94       480\n",
            "         1.0       0.42      0.33      0.37        49\n",
            "\n",
            "    accuracy                           0.90       529\n",
            "   macro avg       0.68      0.64      0.66       529\n",
            "weighted avg       0.89      0.90      0.89       529\n",
            "\n"
          ],
          "name": "stdout"
        }
      ]
    },
    {
      "cell_type": "markdown",
      "metadata": {
        "id": "WyeeYRjWxqO_",
        "colab_type": "text"
      },
      "source": [
        "#### 4.1.2. Correlation based FS"
      ]
    },
    {
      "cell_type": "code",
      "metadata": {
        "scrolled": true,
        "id": "SklHV_H5xqPA",
        "colab_type": "code",
        "colab": {
          "base_uri": "https://localhost:8080/",
          "height": 260
        },
        "outputId": "5f32c695-0352-4da1-e3c4-e185e45f3e97"
      },
      "source": [
        "x = data_corr.drop([\"bad\"], axis=1)\n",
        "y = data_corr[\"bad\"]\n",
        "xtrain, xtest, ytrain, ytest = train_test_split(x,y, test_size=0.25, random_state=42)\n",
        "xtrain.shape, xtest.shape, ytrain.shape, ytest.shape\n",
        "\n",
        "cart_model = DecisionTreeClassifier()\n",
        "cart_model.fit(xtrain, ytrain)\n",
        "y_pred = cart_model.predict(xtest)\n",
        "\n",
        "evaluation_metrics(ytest, y_pred)\n",
        "print(\"\\n\",classification_report(ytest, y_pred))"
      ],
      "execution_count": null,
      "outputs": [
        {
          "output_type": "stream",
          "text": [
            "accuracy :  0.90359 \n",
            "precision:  0.48 \n",
            "recall   :  0.4898 \n",
            "f1-score :  0.48485\n",
            "\n",
            "               precision    recall  f1-score   support\n",
            "\n",
            "         0.0       0.95      0.95      0.95       480\n",
            "         1.0       0.48      0.49      0.48        49\n",
            "\n",
            "    accuracy                           0.90       529\n",
            "   macro avg       0.71      0.72      0.72       529\n",
            "weighted avg       0.90      0.90      0.90       529\n",
            "\n"
          ],
          "name": "stdout"
        }
      ]
    },
    {
      "cell_type": "markdown",
      "metadata": {
        "id": "cGVP9b_txqPF",
        "colab_type": "text"
      },
      "source": [
        "#### 4.1.3. RandomForest based FS"
      ]
    },
    {
      "cell_type": "code",
      "metadata": {
        "scrolled": true,
        "id": "7HRT4_KexqPG",
        "colab_type": "code",
        "colab": {
          "base_uri": "https://localhost:8080/",
          "height": 260
        },
        "outputId": "0d0d5627-5587-489c-80bd-b4a62f7ad68f"
      },
      "source": [
        "x = data_rf.drop([\"bad\"], axis=1)\n",
        "y = data_rf[\"bad\"]\n",
        "xtrain, xtest, ytrain, ytest = train_test_split(x,y, test_size=0.25, random_state=42)\n",
        "xtrain.shape, xtest.shape, ytrain.shape, ytest.shape\n",
        "\n",
        "cart_model = DecisionTreeClassifier(max_depth=6, max_features=5)\n",
        "cart_model.fit(xtrain, ytrain)\n",
        "y_pred = cart_model.predict(xtest)\n",
        "evaluation_metrics(ytest, y_pred)\n",
        "print(\"\\n\",classification_report(ytest, y_pred))"
      ],
      "execution_count": null,
      "outputs": [
        {
          "output_type": "stream",
          "text": [
            "accuracy :  0.93573 \n",
            "precision:  0.82609 \n",
            "recall   :  0.38776 \n",
            "f1-score :  0.52778\n",
            "\n",
            "               precision    recall  f1-score   support\n",
            "\n",
            "         0.0       0.94      0.99      0.97       480\n",
            "         1.0       0.83      0.39      0.53        49\n",
            "\n",
            "    accuracy                           0.94       529\n",
            "   macro avg       0.88      0.69      0.75       529\n",
            "weighted avg       0.93      0.94      0.92       529\n",
            "\n"
          ],
          "name": "stdout"
        }
      ]
    },
    {
      "cell_type": "code",
      "metadata": {
        "id": "2FlkDdG7pOU8",
        "colab_type": "code",
        "colab": {
          "base_uri": "https://localhost:8080/",
          "height": 682
        },
        "outputId": "e7e0f939-d8ec-4e5b-db16-a861e31ac72d"
      },
      "source": [
        "plt.figure(figsize=(35,15))\n",
        "tree.plot_tree(cart_model);"
      ],
      "execution_count": null,
      "outputs": [
        {
          "output_type": "display_data",
          "data": {
            "image/png": "[encoded data removed]",
            "text/plain": [
              "<Figure size 2520x1080 with 1 Axes>"
            ]
          },
          "metadata": {
            "tags": [],
            "needs_background": "light"
          }
        }
      ]
    },
    {
      "cell_type": "markdown",
      "metadata": {
        "id": "n8v51u1hxqPM",
        "colab_type": "text"
      },
      "source": [
        "## 4.2. RandomForest Classifier"
      ]
    },
    {
      "cell_type": "markdown",
      "metadata": {
        "id": "n5VzC5XXxqPO",
        "colab_type": "text"
      },
      "source": [
        "#### 4.2.1. PCA based FS"
      ]
    },
    {
      "cell_type": "code",
      "metadata": {
        "id": "10A3C2jOxqPP",
        "colab_type": "code",
        "colab": {
          "base_uri": "https://localhost:8080/",
          "height": 260
        },
        "outputId": "d02f4ad4-ccd0-4fe0-8834-72dc18e47c94"
      },
      "source": [
        "x = data_pca.drop([\"bad\"], axis=1)\n",
        "y = data_pca[\"bad\"]\n",
        "xtrain, xtest, ytrain, ytest = train_test_split(x,y, test_size=0.25, random_state=42)\n",
        "xtrain.shape, xtest.shape, ytrain.shape, ytest.shape\n",
        "\n",
        "rf_model = RandomForestClassifier()\n",
        "rf_model.fit(xtrain, ytrain)\n",
        "y_pred = rf_model.predict(xtest)\n",
        "evaluation_metrics(ytest, y_pred)\n",
        "print(\"\\n\",classification_report(ytest, y_pred))"
      ],
      "execution_count": null,
      "outputs": [
        {
          "output_type": "stream",
          "text": [
            "accuracy :  0.90359 \n",
            "precision:  0.45455 \n",
            "recall   :  0.20408 \n",
            "f1-score :  0.28169\n",
            "\n",
            "               precision    recall  f1-score   support\n",
            "\n",
            "         0.0       0.92      0.97      0.95       480\n",
            "         1.0       0.45      0.20      0.28        49\n",
            "\n",
            "    accuracy                           0.90       529\n",
            "   macro avg       0.69      0.59      0.62       529\n",
            "weighted avg       0.88      0.90      0.89       529\n",
            "\n"
          ],
          "name": "stdout"
        }
      ]
    },
    {
      "cell_type": "markdown",
      "metadata": {
        "id": "chWm1eQ-xqP-",
        "colab_type": "text"
      },
      "source": [
        "#### 4.2.2. Correlation based FS"
      ]
    },
    {
      "cell_type": "code",
      "metadata": {
        "id": "hCGEyc59xqQB",
        "colab_type": "code",
        "colab": {
          "base_uri": "https://localhost:8080/",
          "height": 260
        },
        "outputId": "68857f61-8a95-4260-b375-f89e9747e849"
      },
      "source": [
        "x = data_corr.drop([\"bad\"], axis=1)\n",
        "y = data_corr[\"bad\"]\n",
        "xtrain, xtest, ytrain, ytest = train_test_split(x,y, test_size=0.25, random_state=42)\n",
        "xtrain.shape, xtest.shape, ytrain.shape, ytest.shape\n",
        "\n",
        "rf_model = RandomForestClassifier()\n",
        "rf_model.fit(xtrain, ytrain)\n",
        "y_pred = rf_model.predict(xtest)\n",
        "evaluation_metrics(ytest, y_pred)\n",
        "print(\"\\n\",classification_report(ytest, y_pred))"
      ],
      "execution_count": null,
      "outputs": [
        {
          "output_type": "stream",
          "text": [
            "accuracy :  0.93573 \n",
            "precision:  0.8 \n",
            "recall   :  0.40816 \n",
            "f1-score :  0.54054\n",
            "\n",
            "               precision    recall  f1-score   support\n",
            "\n",
            "         0.0       0.94      0.99      0.97       480\n",
            "         1.0       0.80      0.41      0.54        49\n",
            "\n",
            "    accuracy                           0.94       529\n",
            "   macro avg       0.87      0.70      0.75       529\n",
            "weighted avg       0.93      0.94      0.93       529\n",
            "\n"
          ],
          "name": "stdout"
        }
      ]
    },
    {
      "cell_type": "markdown",
      "metadata": {
        "id": "pWrbBmyaxqQH",
        "colab_type": "text"
      },
      "source": [
        "#### 4.2.3. RandomForest based FS"
      ]
    },
    {
      "cell_type": "code",
      "metadata": {
        "id": "mTHcLijIxqQI",
        "colab_type": "code",
        "colab": {
          "base_uri": "https://localhost:8080/",
          "height": 260
        },
        "outputId": "da69ca28-4e73-4b11-edbb-eec08dde67d2"
      },
      "source": [
        "x = data_rf.drop([\"bad\"], axis=1)\n",
        "y = data_rf[\"bad\"]\n",
        "xtrain, xtest, ytrain, ytest = train_test_split(x,y, test_size=0.25, random_state=42)\n",
        "xtrain.shape, xtest.shape, ytrain.shape, ytest.shape\n",
        "\n",
        "rf_model = RandomForestClassifier()\n",
        "rf_model.fit(xtrain, ytrain)\n",
        "y_pred = rf_model.predict(xtest)\n",
        "evaluation_metrics(ytest, y_pred)\n",
        "print(\"\\n\",classification_report(ytest, y_pred))"
      ],
      "execution_count": null,
      "outputs": [
        {
          "output_type": "stream",
          "text": [
            "accuracy :  0.94329 \n",
            "precision:  0.88 \n",
            "recall   :  0.44898 \n",
            "f1-score :  0.59459\n",
            "\n",
            "               precision    recall  f1-score   support\n",
            "\n",
            "         0.0       0.95      0.99      0.97       480\n",
            "         1.0       0.88      0.45      0.59        49\n",
            "\n",
            "    accuracy                           0.94       529\n",
            "   macro avg       0.91      0.72      0.78       529\n",
            "weighted avg       0.94      0.94      0.93       529\n",
            "\n"
          ],
          "name": "stdout"
        }
      ]
    },
    {
      "cell_type": "markdown",
      "metadata": {
        "id": "4SoOilua8fsH",
        "colab_type": "text"
      },
      "source": [
        "#### 4.2.4. Without Feature Selection"
      ]
    },
    {
      "cell_type": "code",
      "metadata": {
        "id": "8r2PLT1A8jD3",
        "colab_type": "code",
        "colab": {
          "base_uri": "https://localhost:8080/",
          "height": 260
        },
        "outputId": "9b7abdfb-a4a9-4bd5-e057-267afd42c8dd"
      },
      "source": [
        "x = data_minmax.drop([\"bad\"], axis=1)\n",
        "y = data_minmax[\"bad\"]\n",
        "xtrain, xtest, ytrain, ytest = train_test_split(x,y, test_size=0.25, random_state=42)\n",
        "xtrain.shape, xtest.shape, ytrain.shape, ytest.shape\n",
        "\n",
        "rf_model = RandomForestClassifier()\n",
        "rf_model.fit(xtrain, ytrain)\n",
        "y_pred = rf_model.predict(xtest)\n",
        "evaluation_metrics(ytest, y_pred)\n",
        "print(\"\\n\",classification_report(ytest, y_pred))"
      ],
      "execution_count": null,
      "outputs": [
        {
          "output_type": "stream",
          "text": [
            "accuracy :  0.94329 \n",
            "precision:  0.85185 \n",
            "recall   :  0.46939 \n",
            "f1-score :  0.60526\n",
            "\n",
            "               precision    recall  f1-score   support\n",
            "\n",
            "         0.0       0.95      0.99      0.97       480\n",
            "         1.0       0.85      0.47      0.61        49\n",
            "\n",
            "    accuracy                           0.94       529\n",
            "   macro avg       0.90      0.73      0.79       529\n",
            "weighted avg       0.94      0.94      0.94       529\n",
            "\n"
          ],
          "name": "stdout"
        }
      ]
    },
    {
      "cell_type": "markdown",
      "metadata": {
        "id": "eJZDu8WGxqQR",
        "colab_type": "text"
      },
      "source": [
        "### 4.3. NeuralNetwork Classifier"
      ]
    },
    {
      "cell_type": "markdown",
      "metadata": {
        "id": "aPglieF8xqQT",
        "colab_type": "text"
      },
      "source": [
        "#### 4.3.1. PCA based FS"
      ]
    },
    {
      "cell_type": "code",
      "metadata": {
        "id": "2M2h8O1vxqQW",
        "colab_type": "code",
        "colab": {
          "base_uri": "https://localhost:8080/",
          "height": 260
        },
        "outputId": "8fa2da43-8962-4bad-ae60-04b497714cee"
      },
      "source": [
        "x = data_pca.drop([\"bad\"], axis=1)\n",
        "y = data_pca[\"bad\"]\n",
        "xtrain, xtest, ytrain, ytest = train_test_split(x,y, test_size=0.25, random_state=42)\n",
        "xtrain.shape, xtest.shape, ytrain.shape, ytest.shape\n",
        "\n",
        "mlp_model = MLPClassifier()\n",
        "mlp_model.fit(xtrain, ytrain)\n",
        "y_pred = mlp_model.predict(xtest)\n",
        "evaluation_metrics(ytest, y_pred)\n",
        "print(\"\\n\",classification_report(ytest, y_pred))"
      ],
      "execution_count": null,
      "outputs": [
        {
          "output_type": "stream",
          "text": [
            "accuracy :  0.89603 \n",
            "precision:  0.28571 \n",
            "recall   :  0.08163 \n",
            "f1-score :  0.12698\n",
            "\n",
            "               precision    recall  f1-score   support\n",
            "\n",
            "         0.0       0.91      0.98      0.94       480\n",
            "         1.0       0.29      0.08      0.13        49\n",
            "\n",
            "    accuracy                           0.90       529\n",
            "   macro avg       0.60      0.53      0.54       529\n",
            "weighted avg       0.85      0.90      0.87       529\n",
            "\n"
          ],
          "name": "stdout"
        }
      ]
    },
    {
      "cell_type": "markdown",
      "metadata": {
        "id": "yrG1TlIgxqQZ",
        "colab_type": "text"
      },
      "source": [
        "#### 4.3.2. Correlation based FS"
      ]
    },
    {
      "cell_type": "code",
      "metadata": {
        "id": "iBwpFiaBxqQZ",
        "colab_type": "code",
        "colab": {
          "base_uri": "https://localhost:8080/",
          "height": 260
        },
        "outputId": "d600bbbe-7ed7-46d3-ee5b-f3b5597dc17d"
      },
      "source": [
        "x = data_corr.drop([\"bad\"], axis=1)\n",
        "y = data_corr[\"bad\"]\n",
        "xtrain, xtest, ytrain, ytest = train_test_split(x,y, test_size=0.25, random_state=42)\n",
        "xtrain.shape, xtest.shape, ytrain.shape, ytest.shape\n",
        "\n",
        "mlp_model = MLPClassifier()\n",
        "mlp_model.fit(xtrain, ytrain)\n",
        "y_pred = mlp_model.predict(xtest)\n",
        "evaluation_metrics(ytest, y_pred)\n",
        "print(\"\\n\",classification_report(ytest, y_pred))"
      ],
      "execution_count": null,
      "outputs": [
        {
          "output_type": "stream",
          "text": [
            "accuracy :  0.92439 \n",
            "precision:  0.84615 \n",
            "recall   :  0.22449 \n",
            "f1-score :  0.35484\n",
            "\n",
            "               precision    recall  f1-score   support\n",
            "\n",
            "         0.0       0.93      1.00      0.96       480\n",
            "         1.0       0.85      0.22      0.35        49\n",
            "\n",
            "    accuracy                           0.92       529\n",
            "   macro avg       0.89      0.61      0.66       529\n",
            "weighted avg       0.92      0.92      0.90       529\n",
            "\n"
          ],
          "name": "stdout"
        }
      ]
    },
    {
      "cell_type": "markdown",
      "metadata": {
        "id": "i13IH5itxqQh",
        "colab_type": "text"
      },
      "source": [
        "#### 4.3.3. RandomForest based FS"
      ]
    },
    {
      "cell_type": "code",
      "metadata": {
        "id": "SzQFjfEVxqQi",
        "colab_type": "code",
        "colab": {
          "base_uri": "https://localhost:8080/",
          "height": 260
        },
        "outputId": "56bea225-12a6-482f-b1d1-3c4bdbb09a88"
      },
      "source": [
        "x = data_rf.drop([\"bad\"], axis=1)\n",
        "y = data_rf[\"bad\"]\n",
        "xtrain, xtest, ytrain, ytest = train_test_split(x,y, test_size=0.25, random_state=42)\n",
        "xtrain.shape, xtest.shape, ytrain.shape, ytest.shape\n",
        "\n",
        "mlp_model = MLPClassifier()\n",
        "mlp_model.fit(xtrain, ytrain)\n",
        "y_pred = mlp_model.predict(xtest)\n",
        "evaluation_metrics(ytest, y_pred)\n",
        "print(\"\\n\",classification_report(ytest, y_pred))"
      ],
      "execution_count": null,
      "outputs": [
        {
          "output_type": "stream",
          "text": [
            "accuracy :  0.91871 \n",
            "precision:  0.75 \n",
            "recall   :  0.18367 \n",
            "f1-score :  0.29508\n",
            "\n",
            "               precision    recall  f1-score   support\n",
            "\n",
            "         0.0       0.92      0.99      0.96       480\n",
            "         1.0       0.75      0.18      0.30        49\n",
            "\n",
            "    accuracy                           0.92       529\n",
            "   macro avg       0.84      0.59      0.63       529\n",
            "weighted avg       0.91      0.92      0.90       529\n",
            "\n"
          ],
          "name": "stdout"
        }
      ]
    },
    {
      "cell_type": "markdown",
      "metadata": {
        "id": "2MdkqV60k1jl",
        "colab_type": "text"
      },
      "source": [
        "## 4.4. Logistic Regression"
      ]
    },
    {
      "cell_type": "markdown",
      "metadata": {
        "id": "3NmoboRvl1GH",
        "colab_type": "text"
      },
      "source": [
        "#### 4.4.1. PCA based FS"
      ]
    },
    {
      "cell_type": "code",
      "metadata": {
        "id": "zgezFi_Xl4UI",
        "colab_type": "code",
        "colab": {
          "base_uri": "https://localhost:8080/",
          "height": 260
        },
        "outputId": "550d2ec1-7c66-4cf7-f0fe-cf151e287d44"
      },
      "source": [
        "x = data_pca.drop([\"bad\"], axis=1)\n",
        "y = data_pca[\"bad\"]\n",
        "xtrain, xtest, ytrain, ytest = train_test_split(x,y, test_size=0.25, random_state=42)\n",
        "xtrain.shape, xtest.shape, ytrain.shape, ytest.shape\n",
        "\n",
        "clf = LogisticRegression(random_state=0).fit(xtrain, ytrain)\n",
        "y_pred = clf.predict(xtest)\n",
        "evaluation_metrics(ytest, y_pred)\n",
        "print(\"\\n\",classification_report(ytest, y_pred))"
      ],
      "execution_count": null,
      "outputs": [
        {
          "output_type": "stream",
          "text": [
            "accuracy :  0.92277 \n",
            "precision:  0.0 \n",
            "recall   :  0.0 \n",
            "f1-score :  0.0\n",
            "\n",
            "               precision    recall  f1-score   support\n",
            "\n",
            "         0.0       0.92      1.00      0.96       466\n",
            "         1.0       0.00      0.00      0.00        39\n",
            "\n",
            "    accuracy                           0.92       505\n",
            "   macro avg       0.46      0.50      0.48       505\n",
            "weighted avg       0.85      0.92      0.89       505\n",
            "\n"
          ],
          "name": "stdout"
        }
      ]
    },
    {
      "cell_type": "markdown",
      "metadata": {
        "id": "TK3nZOsQl4nK",
        "colab_type": "text"
      },
      "source": [
        "#### 4.4.2. Correlation based FS"
      ]
    },
    {
      "cell_type": "code",
      "metadata": {
        "id": "UEUHmNnIl7jB",
        "colab_type": "code",
        "colab": {
          "base_uri": "https://localhost:8080/",
          "height": 260
        },
        "outputId": "e6876043-ea9a-4c12-e097-3c7537f9b9ee"
      },
      "source": [
        "x = data_corr.drop([\"bad\"], axis=1)\n",
        "y = data_corr[\"bad\"]\n",
        "xtrain, xtest, ytrain, ytest = train_test_split(x,y, test_size=0.25, random_state=42)\n",
        "xtrain.shape, xtest.shape, ytrain.shape, ytest.shape\n",
        "\n",
        "clf = LogisticRegression(random_state=0).fit(xtrain, ytrain)\n",
        "y_pred = clf.predict(xtest)\n",
        "evaluation_metrics(ytest, y_pred)\n",
        "print(\"\\n\",classification_report(ytest, y_pred))"
      ],
      "execution_count": null,
      "outputs": [
        {
          "output_type": "stream",
          "text": [
            "accuracy :  0.92079 \n",
            "precision:  0.44444 \n",
            "recall   :  0.10256 \n",
            "f1-score :  0.16667\n",
            "\n",
            "               precision    recall  f1-score   support\n",
            "\n",
            "         0.0       0.93      0.99      0.96       466\n",
            "         1.0       0.44      0.10      0.17        39\n",
            "\n",
            "    accuracy                           0.92       505\n",
            "   macro avg       0.69      0.55      0.56       505\n",
            "weighted avg       0.89      0.92      0.90       505\n",
            "\n"
          ],
          "name": "stdout"
        }
      ]
    },
    {
      "cell_type": "markdown",
      "metadata": {
        "id": "ATyzyMFDk6x_",
        "colab_type": "text"
      },
      "source": [
        "#### 4.4.3. RandomForest based FS"
      ]
    },
    {
      "cell_type": "code",
      "metadata": {
        "id": "j2y4go13k4bt",
        "colab_type": "code",
        "colab": {
          "base_uri": "https://localhost:8080/",
          "height": 260
        },
        "outputId": "40adc31c-beff-4f75-bc9c-99eb3b895663"
      },
      "source": [
        "x = data_rf.drop([\"bad\"], axis=1)\n",
        "y = data_rf[\"bad\"]\n",
        "xtrain, xtest, ytrain, ytest = train_test_split(x,y, test_size=0.25, random_state=42)\n",
        "xtrain.shape, xtest.shape, ytrain.shape, ytest.shape\n",
        "\n",
        "clf = LogisticRegression(random_state=0).fit(xtrain, ytrain)\n",
        "y_pred = clf.predict(xtest)\n",
        "evaluation_metrics(ytest, y_pred)\n",
        "print(\"\\n\",classification_report(ytest, y_pred))"
      ],
      "execution_count": null,
      "outputs": [
        {
          "output_type": "stream",
          "text": [
            "accuracy :  0.91881 \n",
            "precision:  0.33333 \n",
            "recall   :  0.05128 \n",
            "f1-score :  0.08889\n",
            "\n",
            "               precision    recall  f1-score   support\n",
            "\n",
            "         0.0       0.93      0.99      0.96       466\n",
            "         1.0       0.33      0.05      0.09        39\n",
            "\n",
            "    accuracy                           0.92       505\n",
            "   macro avg       0.63      0.52      0.52       505\n",
            "weighted avg       0.88      0.92      0.89       505\n",
            "\n"
          ],
          "name": "stdout"
        }
      ]
    },
    {
      "cell_type": "markdown",
      "metadata": {
        "id": "yoUdZlAxxqQp",
        "colab_type": "text"
      },
      "source": [
        "# 5. Model Tuning \n",
        "- Finding best parameters using GridSearch\n",
        "\n",
        "Tuning yaparken modelling kisminda en iyi basariyi veren Feature Selection yontemi baz alinarak gerceklestirilmistir. "
      ]
    },
    {
      "cell_type": "code",
      "metadata": {
        "id": "UKxW7Ob06VF7",
        "colab_type": "code",
        "colab": {
          "base_uri": "https://localhost:8080/",
          "height": 34
        },
        "outputId": "59d33e50-3443-43b2-cb88-47a56794e042"
      },
      "source": [
        "x = data_rf.drop([\"bad\"], axis=1)\n",
        "y = data_rf[\"bad\"]\n",
        "xtrain, xtest, ytrain, ytest = train_test_split(x,y, test_size=0.25, random_state=42)\n",
        "xtrain.shape, xtest.shape, ytrain.shape, ytest.shape"
      ],
      "execution_count": null,
      "outputs": [
        {
          "output_type": "execute_result",
          "data": {
            "text/plain": [
              "((1585, 7), (529, 7), (1585,), (529,))"
            ]
          },
          "metadata": {
            "tags": []
          },
          "execution_count": 71
        }
      ]
    },
    {
      "cell_type": "markdown",
      "metadata": {
        "id": "J3oKdJiUxqQp",
        "colab_type": "text"
      },
      "source": [
        "### 5.1. DecisionTree Tuning"
      ]
    },
    {
      "cell_type": "code",
      "metadata": {
        "id": "OfX1AMyBxqQq",
        "colab_type": "code",
        "colab": {}
      },
      "source": [
        "def DecisionTreeTuning(xtrain,ytrain, xtest, ytest, params, cv=10, n_jobs=-1, verbose=2):\n",
        "    model = DecisionTreeClassifier()\n",
        "    gridsearch_cv = GridSearchCV(model, params, cv=cv, n_jobs=n_jobs, verbose=verbose)\n",
        "    grid_cv_model = gridsearch_cv.fit(xtrain, ytrain)\n",
        "    # best parameters\n",
        "    model.criterion = grid_cv_model.best_params_[\"criterion\"]\n",
        "    model.max_depth = grid_cv_model.best_params_[\"max_depth\"] \n",
        "    model.max_features = grid_cv_model.best_params_[\"max_features\"]\n",
        "    model.min_samples_split= grid_cv_model.best_params_[\"min_samples_split\"]\n",
        "    # tuned model\n",
        "    model_tuned = model.fit(xtrain, ytrain)\n",
        "    y_pred = model_tuned.predict(xtest)\n",
        "    return ytest, y_pred, model, grid_cv_model.best_params_"
      ],
      "execution_count": null,
      "outputs": []
    },
    {
      "cell_type": "code",
      "metadata": {
        "id": "hYhpNWKdxqQw",
        "colab_type": "code",
        "colab": {
          "base_uri": "https://localhost:8080/",
          "height": 260
        },
        "outputId": "aaf4a327-2a33-4b55-c7a6-a4b90aac1d9a"
      },
      "source": [
        "%time\n",
        "start = timeit.default_timer()\n",
        "dt_params = {\"criterion\": [\"gini\", \"entropy\"],\n",
        "             \"max_depth\": [2,3,4,5,6,7,8,9,10,11,12,13,14,15,20],\n",
        "             \"max_features\": [2,3,5,6,7,\"auto\", \"sqrt\", \"log2\"],\n",
        "             \"min_samples_split\": [5,7,10,15,20,25,30,50,100]}\n",
        "\n",
        "ytest, y_pred, model, best_params = DecisionTreeTuning(xtrain, ytrain, xtest, ytest, dt_params)\n",
        "evaluation_metrics(ytest, y_pred)\n",
        "print(best_params)"
      ],
      "execution_count": null,
      "outputs": [
        {
          "output_type": "stream",
          "text": [
            "CPU times: user 3 µs, sys: 0 ns, total: 3 µs\n",
            "Wall time: 5.25 µs\n",
            "Fitting 10 folds for each of 2160 candidates, totalling 21600 fits\n"
          ],
          "name": "stdout"
        },
        {
          "output_type": "stream",
          "text": [
            "[Parallel(n_jobs=-1)]: Using backend LokyBackend with 2 concurrent workers.\n",
            "[Parallel(n_jobs=-1)]: Done 296 tasks      | elapsed:    2.4s\n",
            "[Parallel(n_jobs=-1)]: Done 4168 tasks      | elapsed:   19.7s\n",
            "[Parallel(n_jobs=-1)]: Done 10664 tasks      | elapsed:  1.0min\n",
            "[Parallel(n_jobs=-1)]: Done 19720 tasks      | elapsed:  2.0min\n"
          ],
          "name": "stderr"
        },
        {
          "output_type": "stream",
          "text": [
            "accuracy :  0.92817 \n",
            "precision:  0.7619 \n",
            "recall   :  0.32653 \n",
            "f1-score :  0.45714\n",
            "{'criterion': 'entropy', 'max_depth': 5, 'max_features': 3, 'min_samples_split': 5}\n"
          ],
          "name": "stdout"
        },
        {
          "output_type": "stream",
          "text": [
            "[Parallel(n_jobs=-1)]: Done 21600 out of 21600 | elapsed:  2.3min finished\n"
          ],
          "name": "stderr"
        }
      ]
    },
    {
      "cell_type": "code",
      "metadata": {
        "id": "qWcX9gFMzCHU",
        "colab_type": "code",
        "colab": {}
      },
      "source": [
        "model.criterion = \"entropy\"\n",
        "model.max_depth = 5\n",
        "model.max_features = 3\n",
        "model.min_samples_split= 5\n",
        "model_tuned = model.fit(xtrain, ytrain)\n",
        "y_pred = model_tuned.predict(xtest)"
      ],
      "execution_count": null,
      "outputs": []
    },
    {
      "cell_type": "code",
      "metadata": {
        "id": "QB0kc1NA2Gyx",
        "colab_type": "code",
        "colab": {
          "base_uri": "https://localhost:8080/",
          "height": 121
        },
        "outputId": "c421d47b-d849-48bb-a450-8f914f1cfd2c"
      },
      "source": [
        "model_tuned"
      ],
      "execution_count": null,
      "outputs": [
        {
          "output_type": "execute_result",
          "data": {
            "text/plain": [
              "DecisionTreeClassifier(ccp_alpha=0.0, class_weight=None, criterion='entropy',\n",
              "                       max_depth=5, max_features=3, max_leaf_nodes=None,\n",
              "                       min_impurity_decrease=0.0, min_impurity_split=None,\n",
              "                       min_samples_leaf=1, min_samples_split=5,\n",
              "                       min_weight_fraction_leaf=0.0, presort='deprecated',\n",
              "                       random_state=None, splitter='best')"
            ]
          },
          "metadata": {
            "tags": []
          },
          "execution_count": 91
        }
      ]
    },
    {
      "cell_type": "code",
      "metadata": {
        "id": "a29Lmi-KxstM",
        "colab_type": "code",
        "colab": {
          "base_uri": "https://localhost:8080/",
          "height": 682
        },
        "outputId": "8c40e2b6-fb81-4812-ab0b-45e2f3a97add"
      },
      "source": [
        "plt.figure(figsize=(35,15))\n",
        "tree.plot_tree(model_tuned);"
      ],
      "execution_count": null,
      "outputs": [
        {
          "output_type": "display_data",
          "data": {
            "image/png": "[encoded data removed]",
            "text/plain": [
              "<Figure size 2520x1080 with 1 Axes>"
            ]
          },
          "metadata": {
            "tags": [],
            "needs_background": "light"
          }
        }
      ]
    },
    {
      "cell_type": "markdown",
      "metadata": {
        "id": "Ga3ElwDtxqQ0",
        "colab_type": "text"
      },
      "source": [
        "### 5.2. RandomForest Tuning"
      ]
    },
    {
      "cell_type": "code",
      "metadata": {
        "id": "cbMTu-rKxqQ2",
        "colab_type": "code",
        "colab": {}
      },
      "source": [
        "def RandomForestTuning(xtrain,ytrain, xtest, ytest, params, cv=10, n_jobs=-1, verbose=2):\n",
        "    model = RandomForestClassifier()\n",
        "    gridsearch_cv = GridSearchCV(model, params, cv=cv, n_jobs=n_jobs, verbose=verbose)\n",
        "    grid_cv_model = gridsearch_cv.fit(xtrain, ytrain)\n",
        "    # best parameters\n",
        "    model.max_depth = grid_cv_model.best_params_[\"max_depth\"]\n",
        "    model.max_features = grid_cv_model.best_params_[\"max_features\"] \n",
        "    model.n_estimators = grid_cv_model.best_params_[\"n_estimators\"]\n",
        "    model.min_samples_split= grid_cv_model.best_params_[\"min_samples_split\"]\n",
        "    # tuned model\n",
        "    model_tuned = model.fit(xtrain, ytrain)\n",
        "    y_pred = model_tuned.predict(xtest)\n",
        "    return ytest, y_pred, model, grid_cv_model.best_params_"
      ],
      "execution_count": null,
      "outputs": []
    },
    {
      "cell_type": "code",
      "metadata": {
        "id": "O1KPJJlexqQ4",
        "colab_type": "code",
        "colab": {
          "base_uri": "https://localhost:8080/",
          "height": 538
        },
        "outputId": "3ce87bbf-cc7d-47a4-a510-61ec1cf98886"
      },
      "source": [
        "start = timeit.default_timer()\n",
        "\n",
        "rf_params = {\"max_depth\": [2,3,5,6,7,8,9,10,12,13,15],\n",
        "             \"max_features\": [2,3,4,5,6,7],\n",
        "             \"n_estimators\": [10,50,100,150],\n",
        "             \"min_samples_split\": [5,10,15,20,30,50,100]}\n",
        "\n",
        "\n",
        "ytest, y_pred, model, best_params = RandomForestTuning(xtrain,ytrain,xtest,ytest, rf_params)\n",
        "evaluation_metrics(ytest, y_pred)\n",
        "print(best_params)"
      ],
      "execution_count": null,
      "outputs": [
        {
          "output_type": "stream",
          "text": [
            "Fitting 10 folds for each of 1848 candidates, totalling 18480 fits\n"
          ],
          "name": "stdout"
        },
        {
          "output_type": "stream",
          "text": [
            "[Parallel(n_jobs=-1)]: Using backend LokyBackend with 2 concurrent workers.\n",
            "[Parallel(n_jobs=-1)]: Done  37 tasks      | elapsed:    5.1s\n",
            "[Parallel(n_jobs=-1)]: Done 264 tasks      | elapsed:   28.9s\n",
            "[Parallel(n_jobs=-1)]: Done 670 tasks      | elapsed:  1.3min\n",
            "[Parallel(n_jobs=-1)]: Done 1236 tasks      | elapsed:  2.5min\n",
            "[Parallel(n_jobs=-1)]: Done 1966 tasks      | elapsed:  4.2min\n",
            "[Parallel(n_jobs=-1)]: Done 2856 tasks      | elapsed:  6.3min\n",
            "[Parallel(n_jobs=-1)]: Done 3519 tasks      | elapsed:  8.1min\n",
            "[Parallel(n_jobs=-1)]: Done 4126 tasks      | elapsed:  9.7min\n",
            "[Parallel(n_jobs=-1)]: Done 4815 tasks      | elapsed: 12.0min\n",
            "[Parallel(n_jobs=-1)]: Done 5584 tasks      | elapsed: 14.2min\n",
            "[Parallel(n_jobs=-1)]: Done 6435 tasks      | elapsed: 17.3min\n",
            "[Parallel(n_jobs=-1)]: Done 7366 tasks      | elapsed: 20.3min\n",
            "[Parallel(n_jobs=-1)]: Done 8379 tasks      | elapsed: 24.4min\n",
            "[Parallel(n_jobs=-1)]: Done 9472 tasks      | elapsed: 28.2min\n",
            "[Parallel(n_jobs=-1)]: Done 10647 tasks      | elapsed: 32.8min\n",
            "[Parallel(n_jobs=-1)]: Done 11902 tasks      | elapsed: 38.5min\n",
            "[Parallel(n_jobs=-1)]: Done 13239 tasks      | elapsed: 44.3min\n",
            "[Parallel(n_jobs=-1)]: Done 14656 tasks      | elapsed: 50.5min\n",
            "[Parallel(n_jobs=-1)]: Done 16155 tasks      | elapsed: 57.6min\n",
            "[Parallel(n_jobs=-1)]: Done 17734 tasks      | elapsed: 65.3min\n"
          ],
          "name": "stderr"
        },
        {
          "output_type": "stream",
          "text": [
            "accuracy :  0.93951 \n",
            "precision:  0.84 \n",
            "recall   :  0.42857 \n",
            "f1-score :  0.56757\n",
            "{'max_depth': 12, 'max_features': 6, 'min_samples_split': 5, 'n_estimators': 10}\n",
            "\n",
            "Passed Time:  4206.38664778\n"
          ],
          "name": "stdout"
        },
        {
          "output_type": "stream",
          "text": [
            "[Parallel(n_jobs=-1)]: Done 18480 out of 18480 | elapsed: 70.1min finished\n"
          ],
          "name": "stderr"
        }
      ]
    },
    {
      "cell_type": "markdown",
      "metadata": {
        "id": "Ghl86BXCxqQ6",
        "colab_type": "text"
      },
      "source": [
        "### 5.3. Neural Network Tuning"
      ]
    },
    {
      "cell_type": "code",
      "metadata": {
        "id": "I8legkVSxqQ7",
        "colab_type": "code",
        "colab": {}
      },
      "source": [
        "def NeuralNetworkTuning(xtrain,ytrain, xtest, ytest, params, cv=10, n_jobs=-1, verbose=2):\n",
        "    model = MLPClassifier()\n",
        "    gridsearch_cv = GridSearchCV(model, params, cv=cv, n_jobs=n_jobs, verbose=verbose)\n",
        "    grid_cv_model = gridsearch_cv.fit(xtrain, ytrain)\n",
        "    # best parameters\n",
        "    model.alpha = grid_cv_model.best_params_[\"alpha\"]\n",
        "    model.hidden_layer_sizes = grid_cv_model.best_params_[\"hidden_layer_sizes\"] \n",
        "    model.activation = grid_cv_model.best_params_[\"activation\"]\n",
        "    model.solver = grid_cv_model.best_params_[\"solver\"]\n",
        "    # tuned model\n",
        "    model_tuned = model.fit(xtrain, ytrain)\n",
        "    y_pred = model_tuned.predict(xtest)\n",
        "    return ytest, y_pred, model, grid_cv_model.best_params_"
      ],
      "execution_count": null,
      "outputs": []
    },
    {
      "cell_type": "code",
      "metadata": {
        "id": "YgEHU0CUxqQ-",
        "colab_type": "code",
        "colab": {
          "base_uri": "https://localhost:8080/",
          "height": 260
        },
        "outputId": "6f7077e6-8473-4c49-ed1e-961d6fdd62ec"
      },
      "source": [
        "start = timeit.default_timer()\n",
        "\n",
        "mlp_param = {\"alpha\": [0.1,0.01,0.005],\n",
        "             \"hidden_layer_sizes\": [(3,3), \n",
        "                                    (5,5), \n",
        "                                    (10,10), \n",
        "                                    (10,10,10)],\n",
        "             \"activation\": [\"relu\",\"logistic\"],\n",
        "              \"solver\": [\"lbfgs\", \"adam\",\"sgd\"]}\n",
        "\n",
        "ytest, y_pred, model, best_params = NeuralNetworkTuning(xtrain,ytrain,xtest,ytest, mlp_param)\n",
        "evaluation_metrics(ytest, y_pred)\n",
        "print(best_params)\n",
        "\n",
        "stop = timeit.default_timer()\n",
        "print('\\nPassed Time: ', stop - start)  "
      ],
      "execution_count": null,
      "outputs": [
        {
          "output_type": "stream",
          "text": [
            "Fitting 10 folds for each of 72 candidates, totalling 720 fits\n"
          ],
          "name": "stdout"
        },
        {
          "output_type": "stream",
          "text": [
            "[Parallel(n_jobs=-1)]: Using backend LokyBackend with 2 concurrent workers.\n",
            "[Parallel(n_jobs=-1)]: Done  37 tasks      | elapsed:   10.9s\n",
            "[Parallel(n_jobs=-1)]: Done 158 tasks      | elapsed:   57.9s\n",
            "[Parallel(n_jobs=-1)]: Done 361 tasks      | elapsed:  2.3min\n",
            "[Parallel(n_jobs=-1)]: Done 644 tasks      | elapsed:  3.5min\n",
            "[Parallel(n_jobs=-1)]: Done 720 out of 720 | elapsed:  3.9min finished\n"
          ],
          "name": "stderr"
        },
        {
          "output_type": "stream",
          "text": [
            "accuracy :  0.93195 \n",
            "precision:  0.69697 \n",
            "recall   :  0.46939 \n",
            "f1-score :  0.56098\n",
            "{'activation': 'relu', 'alpha': 0.1, 'hidden_layer_sizes': (10, 10, 10), 'solver': 'lbfgs'}\n",
            "\n",
            "Passed Time:  233.02350004100026\n"
          ],
          "name": "stdout"
        }
      ]
    },
    {
      "cell_type": "markdown",
      "metadata": {
        "id": "lPnFKMOqmwwj",
        "colab_type": "text"
      },
      "source": [
        "### **5.4. Logistic Regression**"
      ]
    },
    {
      "cell_type": "code",
      "metadata": {
        "id": "jUByFGMKoIHQ",
        "colab_type": "code",
        "colab": {}
      },
      "source": [
        "def LogisticTuning(xtrain,ytrain, xtest, ytest, params, cv=10, n_jobs=-1, verbose=2):\n",
        "    model = LogisticRegression()\n",
        "    gridsearch_cv = GridSearchCV(model, params, cv=cv, n_jobs=n_jobs, verbose=verbose)\n",
        "    grid_cv_model = gridsearch_cv.fit(xtrain, ytrain)\n",
        "    # best parameters\n",
        "    model.penalty = grid_cv_model.best_params_[\"penalty\"]\n",
        "    model.solver = grid_cv_model.best_params_[\"solver\"] \n",
        "    # tuned model\n",
        "    model_tuned = model.fit(xtrain, ytrain)\n",
        "    y_pred = model_tuned.predict(xtest)\n",
        "    return ytest, y_pred, model, grid_cv_model.best_params_"
      ],
      "execution_count": null,
      "outputs": []
    },
    {
      "cell_type": "code",
      "metadata": {
        "id": "NcZAuZQCm2yN",
        "colab_type": "code",
        "colab": {
          "base_uri": "https://localhost:8080/",
          "height": 208
        },
        "outputId": "ee086dba-2908-4f12-c08a-029adb1bc6e7"
      },
      "source": [
        "start = timeit.default_timer()\n",
        "\n",
        "log_param = {\"penalty\": [\"l1\",\"l2\", \"elasticnet\"],\n",
        "              \"solver\": [\"lbfgs\", \"liblinear\",\"sag\", \"newton\"]}\n",
        "\n",
        "ytest, y_pred, model, best_params = LogisticTuning(xtrain,ytrain,xtest,ytest, log_param)\n",
        "evaluation_metrics(ytest, y_pred)\n",
        "print(best_params)\n",
        "\n",
        "stop = timeit.default_timer()\n",
        "print('\\nPassed Time: ', stop - start)  "
      ],
      "execution_count": null,
      "outputs": [
        {
          "output_type": "stream",
          "text": [
            "Fitting 10 folds for each of 12 candidates, totalling 120 fits\n"
          ],
          "name": "stdout"
        },
        {
          "output_type": "stream",
          "text": [
            "[Parallel(n_jobs=-1)]: Using backend LokyBackend with 2 concurrent workers.\n"
          ],
          "name": "stderr"
        },
        {
          "output_type": "stream",
          "text": [
            "accuracy :  0.92079 \n",
            "precision:  0.42857 \n",
            "recall   :  0.07692 \n",
            "f1-score :  0.13043\n",
            "{'penalty': 'l1', 'solver': 'liblinear'}\n",
            "\n",
            "Passed Time:  0.6353861689999576\n"
          ],
          "name": "stdout"
        },
        {
          "output_type": "stream",
          "text": [
            "[Parallel(n_jobs=-1)]: Done 111 tasks      | elapsed:    0.6s\n",
            "[Parallel(n_jobs=-1)]: Done 120 out of 120 | elapsed:    0.6s finished\n"
          ],
          "name": "stderr"
        }
      ]
    },
    {
      "cell_type": "code",
      "metadata": {
        "id": "RGSkz4xXnqvL",
        "colab_type": "code",
        "colab": {}
      },
      "source": [
        ""
      ],
      "execution_count": null,
      "outputs": []
    }
  ]
}