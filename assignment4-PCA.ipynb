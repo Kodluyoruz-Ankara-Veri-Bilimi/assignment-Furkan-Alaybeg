{
 "cells": [
  {
   "cell_type": "markdown",
   "metadata": {},
   "source": [
    "# Principal Component Analysis & Linear Regression\n",
    "\n",
    "Bu calismada finans verisi uzerinde PCA feature selection algoritmasi ve Linear Regression uygulanarak hedef degiskeni tahmini gerceklestirildi."
   ]
  },
  {
   "cell_type": "code",
   "execution_count": 144,
   "metadata": {},
   "outputs": [],
   "source": [
    "import pandas as pd \n",
    "import numpy as np \n",
    "import seaborn as sns \n",
    "import matplotlib.pyplot as plt \n",
    "from sklearn.model_selection import train_test_split, GridSearchCV, cross_val_score\n",
    "from sklearn.metrics import confusion_matrix, accuracy_score, classification_report\n",
    "from sklearn.metrics import roc_auc_score,roc_curve\n",
    "import statsmodels.api as sm\n",
    "import statsmodels.formula.api as smf\n",
    "from sklearn.linear_model import LinearRegression\n",
    "from sklearn.preprocessing import power_transform, MinMaxScaler, StandardScaler,scale, Normalizer\n",
    "from scipy import stats\n",
    "from sklearn.decomposition import PCA\n",
    "\n",
    "from warnings import filterwarnings\n",
    "filterwarnings('ignore')"
   ]
  },
  {
   "cell_type": "code",
   "execution_count": 145,
   "metadata": {},
   "outputs": [],
   "source": [
    "def correlation_df(data, remove_columns=None):\n",
    "    if(remove_columns is None):\n",
    "        corr = data.corr()\n",
    "        corr = corr.where(np.triu(np.ones(corr.shape)).astype(np.bool))\n",
    "        corr = corr.stack().reset_index()\n",
    "        new_df = corr[corr[\"level_0\"] != corr[\"level_1\"]]\n",
    "        new_df.columns = ['feature1','feature2','Corr']\n",
    "        new_df[\"Corr\"] = abs(new_df[\"Corr\"])\n",
    "    else:\n",
    "        data2 = data.drop(remove_columns, axis=1)\n",
    "        corr = data2.corr()\n",
    "        corr = corr.where(np.triu(np.ones(corr.shape)).astype(np.bool))\n",
    "        corr = corr.stack().reset_index()\n",
    "        new_df = corr[corr[\"level_0\"] != corr[\"level_1\"]]\n",
    "        new_df.columns = ['feature1','feature2','Corr']\n",
    "        new_df[\"Corr\"] = abs(new_df[\"Corr\"])\n",
    "    return new_df\n",
    "\n",
    "def numeric_categoric_variable(data):\n",
    "    name_of_col = list(data.columns)\n",
    "    num_var_list = []\n",
    "    str_var_list = []\n",
    "    drop_col=[]\n",
    "\n",
    "    str_var_list = name_of_col.copy()\n",
    "    for var in name_of_col:\n",
    "        # check if column belongs to numeric type\n",
    "        if (data[var].dtypes not in (np.object, np.str)):\n",
    "            str_var_list.remove(var)\n",
    "            num_var_list.append(var)\n",
    "        # drop the omit column from list\n",
    "    for var in drop_col:\n",
    "        if var in str_var_list:\n",
    "            str_var_list.remove(var)\n",
    "        if var in num_var_list:\n",
    "            num_var_list.remove(var)\n",
    "    print(\"Numeric Column  :\\n\", num_var_list,\n",
    "          \"\\n\\nCategoric Column :\\n\", str_var_list)\n",
    "    return num_var_list, str_var_list\n",
    "\n",
    "## Layer(1) --> feature-feature Correlation\n",
    "\n",
    "def layer1(data_norm, remove_col, threshold):\n",
    "    corr_col=set()\n",
    "    data2 = data.drop(remove_col, axis=1)\n",
    "    corrmat=data2.corr()\n",
    "    for i in range(len(corrmat.columns)):\n",
    "        for j in range(i):\n",
    "            if abs(corrmat.iloc[i,j] > threshold):\n",
    "                colname=corrmat.columns[i]\n",
    "                corr_col.add(colname)\n",
    "    corr_col=list(corr_col)\n",
    "    layer1_df = data_norm.drop(corr_col, axis=1)\n",
    "    #layer1_df[\"labels\"] = data_norm[\"labels\"]\n",
    "    return layer1_df\n",
    "\n",
    "def layer2(fs_df,num_feats, target):\n",
    "    x = fs_df.iloc[:,:-1]\n",
    "    y = fs_df[target]\n",
    "    cor_list = []\n",
    "    feature_name = list(x.columns)\n",
    "    #Calculate the co-relation with y for each feature\n",
    "    for i in list(x.columns):\n",
    "        cor = np.corrcoef(x[i],y)[0,1]\n",
    "        cor_list.append(cor)\n",
    "#replace NaN with 0\n",
    "    cor_list = [0 if np.isnan(i) else i for i in cor_list]\n",
    "# feature name\n",
    "    cor_feature = x.iloc[:,np.argsort(np.abs(cor_list))[-num_feats:]].columns.tolist()\n",
    "#feature selection? 0 for not select, 1 for select\n",
    "#cor_support = [True if i in cor_feature else False for i in feature_name]\n",
    "#return cor_support, cor_feature\n",
    "    return cor_feature"
   ]
  },
  {
   "cell_type": "markdown",
   "metadata": {},
   "source": [
    "## Data Importing"
   ]
  },
  {
   "cell_type": "code",
   "execution_count": 146,
   "metadata": {},
   "outputs": [
    {
     "data": {
      "text/html": [
       "<div>\n",
       "<style scoped>\n",
       "    .dataframe tbody tr th:only-of-type {\n",
       "        vertical-align: middle;\n",
       "    }\n",
       "\n",
       "    .dataframe tbody tr th {\n",
       "        vertical-align: top;\n",
       "    }\n",
       "\n",
       "    .dataframe thead th {\n",
       "        text-align: right;\n",
       "    }\n",
       "</style>\n",
       "<table border=\"1\" class=\"dataframe\">\n",
       "  <thead>\n",
       "    <tr style=\"text-align: right;\">\n",
       "      <th></th>\n",
       "      <th>ind_5</th>\n",
       "      <th>ind_6</th>\n",
       "      <th>ind_8</th>\n",
       "      <th>ind_9</th>\n",
       "      <th>ind_10</th>\n",
       "      <th>ind_12</th>\n",
       "      <th>ind_13</th>\n",
       "      <th>ind_14</th>\n",
       "      <th>ind_15</th>\n",
       "      <th>ind_16</th>\n",
       "      <th>...</th>\n",
       "      <th>ind_416</th>\n",
       "      <th>ind_418</th>\n",
       "      <th>ind_420</th>\n",
       "      <th>ind_422</th>\n",
       "      <th>ind_424</th>\n",
       "      <th>ind_426</th>\n",
       "      <th>ind_428</th>\n",
       "      <th>20_target</th>\n",
       "      <th>50_target</th>\n",
       "      <th>90_target</th>\n",
       "    </tr>\n",
       "  </thead>\n",
       "  <tbody>\n",
       "    <tr>\n",
       "      <th>0</th>\n",
       "      <td>19</td>\n",
       "      <td>17</td>\n",
       "      <td>100.0</td>\n",
       "      <td>85.714286</td>\n",
       "      <td>14.285714</td>\n",
       "      <td>72.363515</td>\n",
       "      <td>60.808814</td>\n",
       "      <td>23.80</td>\n",
       "      <td>17.62</td>\n",
       "      <td>11.73</td>\n",
       "      <td>...</td>\n",
       "      <td>-49.6</td>\n",
       "      <td>-54</td>\n",
       "      <td>-152</td>\n",
       "      <td>-353</td>\n",
       "      <td>1.0</td>\n",
       "      <td>0.498547</td>\n",
       "      <td>0.701906</td>\n",
       "      <td>15.135802</td>\n",
       "      <td>35.625252</td>\n",
       "      <td>36.997753</td>\n",
       "    </tr>\n",
       "    <tr>\n",
       "      <th>1</th>\n",
       "      <td>24</td>\n",
       "      <td>19</td>\n",
       "      <td>100.0</td>\n",
       "      <td>78.571429</td>\n",
       "      <td>21.428571</td>\n",
       "      <td>74.275883</td>\n",
       "      <td>64.366798</td>\n",
       "      <td>11.45</td>\n",
       "      <td>18.16</td>\n",
       "      <td>12.22</td>\n",
       "      <td>...</td>\n",
       "      <td>-55.6</td>\n",
       "      <td>-60</td>\n",
       "      <td>-158</td>\n",
       "      <td>-359</td>\n",
       "      <td>1.0</td>\n",
       "      <td>0.537088</td>\n",
       "      <td>0.690833</td>\n",
       "      <td>15.143348</td>\n",
       "      <td>35.643013</td>\n",
       "      <td>37.016198</td>\n",
       "    </tr>\n",
       "    <tr>\n",
       "      <th>2</th>\n",
       "      <td>30</td>\n",
       "      <td>24</td>\n",
       "      <td>100.0</td>\n",
       "      <td>71.428571</td>\n",
       "      <td>28.571429</td>\n",
       "      <td>75.140402</td>\n",
       "      <td>65.915803</td>\n",
       "      <td>8.75</td>\n",
       "      <td>17.86</td>\n",
       "      <td>12.28</td>\n",
       "      <td>...</td>\n",
       "      <td>-58.4</td>\n",
       "      <td>-60</td>\n",
       "      <td>-160</td>\n",
       "      <td>-362</td>\n",
       "      <td>1.0</td>\n",
       "      <td>0.615169</td>\n",
       "      <td>0.693040</td>\n",
       "      <td>15.146870</td>\n",
       "      <td>35.651301</td>\n",
       "      <td>-37.024805</td>\n",
       "    </tr>\n",
       "    <tr>\n",
       "      <th>3</th>\n",
       "      <td>37</td>\n",
       "      <td>30</td>\n",
       "      <td>100.0</td>\n",
       "      <td>64.285714</td>\n",
       "      <td>35.714286</td>\n",
       "      <td>76.677846</td>\n",
       "      <td>68.584234</td>\n",
       "      <td>7.80</td>\n",
       "      <td>14.76</td>\n",
       "      <td>12.61</td>\n",
       "      <td>...</td>\n",
       "      <td>-61.8</td>\n",
       "      <td>-65</td>\n",
       "      <td>-166</td>\n",
       "      <td>-367</td>\n",
       "      <td>1.0</td>\n",
       "      <td>0.661517</td>\n",
       "      <td>0.673418</td>\n",
       "      <td>15.153283</td>\n",
       "      <td>0.000000</td>\n",
       "      <td>-37.040483</td>\n",
       "    </tr>\n",
       "    <tr>\n",
       "      <th>4</th>\n",
       "      <td>41</td>\n",
       "      <td>37</td>\n",
       "      <td>100.0</td>\n",
       "      <td>57.142857</td>\n",
       "      <td>42.857143</td>\n",
       "      <td>81.603007</td>\n",
       "      <td>76.455495</td>\n",
       "      <td>14.90</td>\n",
       "      <td>11.92</td>\n",
       "      <td>14.25</td>\n",
       "      <td>...</td>\n",
       "      <td>-79.8</td>\n",
       "      <td>-86</td>\n",
       "      <td>-186</td>\n",
       "      <td>-388</td>\n",
       "      <td>1.0</td>\n",
       "      <td>0.747204</td>\n",
       "      <td>0.700522</td>\n",
       "      <td>-15.179065</td>\n",
       "      <td>-35.727079</td>\n",
       "      <td>-37.103503</td>\n",
       "    </tr>\n",
       "  </tbody>\n",
       "</table>\n",
       "<p>5 rows × 136 columns</p>\n",
       "</div>"
      ],
      "text/plain": [
       "   ind_5  ind_6  ind_8      ind_9     ind_10     ind_12     ind_13  ind_14  \\\n",
       "0     19     17  100.0  85.714286  14.285714  72.363515  60.808814   23.80   \n",
       "1     24     19  100.0  78.571429  21.428571  74.275883  64.366798   11.45   \n",
       "2     30     24  100.0  71.428571  28.571429  75.140402  65.915803    8.75   \n",
       "3     37     30  100.0  64.285714  35.714286  76.677846  68.584234    7.80   \n",
       "4     41     37  100.0  57.142857  42.857143  81.603007  76.455495   14.90   \n",
       "\n",
       "   ind_15  ind_16    ...      ind_416  ind_418  ind_420  ind_422  ind_424  \\\n",
       "0   17.62   11.73    ...        -49.6      -54     -152     -353      1.0   \n",
       "1   18.16   12.22    ...        -55.6      -60     -158     -359      1.0   \n",
       "2   17.86   12.28    ...        -58.4      -60     -160     -362      1.0   \n",
       "3   14.76   12.61    ...        -61.8      -65     -166     -367      1.0   \n",
       "4   11.92   14.25    ...        -79.8      -86     -186     -388      1.0   \n",
       "\n",
       "    ind_426   ind_428  20_target  50_target  90_target  \n",
       "0  0.498547  0.701906  15.135802  35.625252  36.997753  \n",
       "1  0.537088  0.690833  15.143348  35.643013  37.016198  \n",
       "2  0.615169  0.693040  15.146870  35.651301 -37.024805  \n",
       "3  0.661517  0.673418  15.153283   0.000000 -37.040483  \n",
       "4  0.747204  0.700522 -15.179065 -35.727079 -37.103503  \n",
       "\n",
       "[5 rows x 136 columns]"
      ]
     },
     "execution_count": 146,
     "metadata": {},
     "output_type": "execute_result"
    }
   ],
   "source": [
    "data = pd.read_excel(\"HW_Data_Set.xlsx\")\n",
    "data.head()"
   ]
  },
  {
   "cell_type": "markdown",
   "metadata": {},
   "source": [
    "# 1. Data Exploration"
   ]
  },
  {
   "cell_type": "markdown",
   "metadata": {},
   "source": [
    "### 1.1. Data Statistics"
   ]
  },
  {
   "cell_type": "code",
   "execution_count": 147,
   "metadata": {},
   "outputs": [
    {
     "data": {
      "text/html": [
       "<div>\n",
       "<style scoped>\n",
       "    .dataframe tbody tr th:only-of-type {\n",
       "        vertical-align: middle;\n",
       "    }\n",
       "\n",
       "    .dataframe tbody tr th {\n",
       "        vertical-align: top;\n",
       "    }\n",
       "\n",
       "    .dataframe thead th {\n",
       "        text-align: right;\n",
       "    }\n",
       "</style>\n",
       "<table border=\"1\" class=\"dataframe\">\n",
       "  <thead>\n",
       "    <tr style=\"text-align: right;\">\n",
       "      <th></th>\n",
       "      <th>ind_5</th>\n",
       "      <th>ind_6</th>\n",
       "      <th>ind_8</th>\n",
       "      <th>ind_9</th>\n",
       "      <th>ind_10</th>\n",
       "      <th>ind_12</th>\n",
       "      <th>ind_13</th>\n",
       "      <th>ind_14</th>\n",
       "      <th>ind_15</th>\n",
       "      <th>ind_16</th>\n",
       "      <th>...</th>\n",
       "      <th>ind_412</th>\n",
       "      <th>ind_414</th>\n",
       "      <th>ind_416</th>\n",
       "      <th>ind_418</th>\n",
       "      <th>ind_424</th>\n",
       "      <th>ind_426</th>\n",
       "      <th>ind_428</th>\n",
       "      <th>20_target</th>\n",
       "      <th>50_target</th>\n",
       "      <th>90_target</th>\n",
       "    </tr>\n",
       "  </thead>\n",
       "  <tbody>\n",
       "    <tr>\n",
       "      <th>count</th>\n",
       "      <td>6167.000000</td>\n",
       "      <td>6167.000000</td>\n",
       "      <td>6167.000000</td>\n",
       "      <td>6167.000000</td>\n",
       "      <td>6167.000000</td>\n",
       "      <td>6167.000000</td>\n",
       "      <td>6167.000000</td>\n",
       "      <td>6167.000000</td>\n",
       "      <td>6167.000000</td>\n",
       "      <td>6167.000000</td>\n",
       "      <td>...</td>\n",
       "      <td>6167.000000</td>\n",
       "      <td>6167.000000</td>\n",
       "      <td>6167.000000</td>\n",
       "      <td>6167.000000</td>\n",
       "      <td>6167.000000</td>\n",
       "      <td>6167.000000</td>\n",
       "      <td>6167.000000</td>\n",
       "      <td>6167.000000</td>\n",
       "      <td>6167.000000</td>\n",
       "      <td>6167.000000</td>\n",
       "    </tr>\n",
       "    <tr>\n",
       "      <th>mean</th>\n",
       "      <td>-0.803146</td>\n",
       "      <td>-0.803470</td>\n",
       "      <td>48.388890</td>\n",
       "      <td>48.289282</td>\n",
       "      <td>0.099609</td>\n",
       "      <td>49.488867</td>\n",
       "      <td>-18.497518</td>\n",
       "      <td>11.771485</td>\n",
       "      <td>11.773550</td>\n",
       "      <td>11.773392</td>\n",
       "      <td>...</td>\n",
       "      <td>0.000224</td>\n",
       "      <td>28.529204</td>\n",
       "      <td>-8.554792</td>\n",
       "      <td>-28.166694</td>\n",
       "      <td>0.490297</td>\n",
       "      <td>0.498188</td>\n",
       "      <td>0.490174</td>\n",
       "      <td>-0.057102</td>\n",
       "      <td>-2.906358</td>\n",
       "      <td>-3.315072</td>\n",
       "    </tr>\n",
       "    <tr>\n",
       "      <th>std</th>\n",
       "      <td>23.624403</td>\n",
       "      <td>23.624144</td>\n",
       "      <td>36.388526</td>\n",
       "      <td>36.478009</td>\n",
       "      <td>60.414625</td>\n",
       "      <td>12.198722</td>\n",
       "      <td>68.281120</td>\n",
       "      <td>6.803997</td>\n",
       "      <td>5.786089</td>\n",
       "      <td>4.970499</td>\n",
       "      <td>...</td>\n",
       "      <td>0.005660</td>\n",
       "      <td>26.316896</td>\n",
       "      <td>16.100087</td>\n",
       "      <td>23.271524</td>\n",
       "      <td>0.425376</td>\n",
       "      <td>0.228547</td>\n",
       "      <td>0.150483</td>\n",
       "      <td>14.834497</td>\n",
       "      <td>34.559778</td>\n",
       "      <td>36.841541</td>\n",
       "    </tr>\n",
       "    <tr>\n",
       "      <th>min</th>\n",
       "      <td>-131.000000</td>\n",
       "      <td>-131.000000</td>\n",
       "      <td>0.000000</td>\n",
       "      <td>0.000000</td>\n",
       "      <td>-100.000000</td>\n",
       "      <td>12.134540</td>\n",
       "      <td>-625.093855</td>\n",
       "      <td>1.050000</td>\n",
       "      <td>1.660000</td>\n",
       "      <td>2.580000</td>\n",
       "      <td>...</td>\n",
       "      <td>-0.023790</td>\n",
       "      <td>0.000000</td>\n",
       "      <td>-103.800000</td>\n",
       "      <td>-188.000000</td>\n",
       "      <td>0.000000</td>\n",
       "      <td>0.000000</td>\n",
       "      <td>0.083530</td>\n",
       "      <td>-15.780588</td>\n",
       "      <td>-37.142889</td>\n",
       "      <td>-38.573858</td>\n",
       "    </tr>\n",
       "    <tr>\n",
       "      <th>25%</th>\n",
       "      <td>-14.000000</td>\n",
       "      <td>-14.000000</td>\n",
       "      <td>14.285714</td>\n",
       "      <td>14.285714</td>\n",
       "      <td>-50.000000</td>\n",
       "      <td>40.868503</td>\n",
       "      <td>-45.687212</td>\n",
       "      <td>6.850000</td>\n",
       "      <td>7.260000</td>\n",
       "      <td>7.635000</td>\n",
       "      <td>...</td>\n",
       "      <td>-0.003230</td>\n",
       "      <td>10.700000</td>\n",
       "      <td>-11.700000</td>\n",
       "      <td>-39.000000</td>\n",
       "      <td>0.000000</td>\n",
       "      <td>0.323783</td>\n",
       "      <td>0.379894</td>\n",
       "      <td>-15.350354</td>\n",
       "      <td>-36.208094</td>\n",
       "      <td>-37.695273</td>\n",
       "    </tr>\n",
       "    <tr>\n",
       "      <th>50%</th>\n",
       "      <td>0.000000</td>\n",
       "      <td>0.000000</td>\n",
       "      <td>50.000000</td>\n",
       "      <td>50.000000</td>\n",
       "      <td>0.000000</td>\n",
       "      <td>49.549766</td>\n",
       "      <td>-2.817298</td>\n",
       "      <td>10.550000</td>\n",
       "      <td>11.040000</td>\n",
       "      <td>11.270000</td>\n",
       "      <td>...</td>\n",
       "      <td>-0.000053</td>\n",
       "      <td>21.300000</td>\n",
       "      <td>0.000000</td>\n",
       "      <td>-22.000000</td>\n",
       "      <td>0.473684</td>\n",
       "      <td>0.495192</td>\n",
       "      <td>0.487078</td>\n",
       "      <td>0.000000</td>\n",
       "      <td>-34.267756</td>\n",
       "      <td>-35.788391</td>\n",
       "    </tr>\n",
       "    <tr>\n",
       "      <th>75%</th>\n",
       "      <td>13.000000</td>\n",
       "      <td>13.000000</td>\n",
       "      <td>85.714286</td>\n",
       "      <td>85.714286</td>\n",
       "      <td>57.142857</td>\n",
       "      <td>58.504375</td>\n",
       "      <td>28.072613</td>\n",
       "      <td>14.950000</td>\n",
       "      <td>15.040000</td>\n",
       "      <td>14.960000</td>\n",
       "      <td>...</td>\n",
       "      <td>0.003414</td>\n",
       "      <td>38.400000</td>\n",
       "      <td>0.000000</td>\n",
       "      <td>-11.000000</td>\n",
       "      <td>1.000000</td>\n",
       "      <td>0.675730</td>\n",
       "      <td>0.601508</td>\n",
       "      <td>15.385945</td>\n",
       "      <td>35.879524</td>\n",
       "      <td>37.521892</td>\n",
       "    </tr>\n",
       "    <tr>\n",
       "      <th>max</th>\n",
       "      <td>76.000000</td>\n",
       "      <td>76.000000</td>\n",
       "      <td>100.000000</td>\n",
       "      <td>100.000000</td>\n",
       "      <td>100.000000</td>\n",
       "      <td>84.821848</td>\n",
       "      <td>81.105847</td>\n",
       "      <td>82.900000</td>\n",
       "      <td>54.240000</td>\n",
       "      <td>37.050000</td>\n",
       "      <td>...</td>\n",
       "      <td>0.023340</td>\n",
       "      <td>281.800000</td>\n",
       "      <td>0.000000</td>\n",
       "      <td>0.000000</td>\n",
       "      <td>1.000000</td>\n",
       "      <td>1.000000</td>\n",
       "      <td>0.868534</td>\n",
       "      <td>15.768767</td>\n",
       "      <td>37.038694</td>\n",
       "      <td>38.465649</td>\n",
       "    </tr>\n",
       "    <tr>\n",
       "      <th>variance</th>\n",
       "      <td>558.112000</td>\n",
       "      <td>558.100000</td>\n",
       "      <td>1324.125000</td>\n",
       "      <td>1330.645000</td>\n",
       "      <td>3649.927000</td>\n",
       "      <td>148.809000</td>\n",
       "      <td>4662.311000</td>\n",
       "      <td>46.294000</td>\n",
       "      <td>33.479000</td>\n",
       "      <td>24.706000</td>\n",
       "      <td>...</td>\n",
       "      <td>0.000000</td>\n",
       "      <td>692.579000</td>\n",
       "      <td>259.213000</td>\n",
       "      <td>541.564000</td>\n",
       "      <td>0.181000</td>\n",
       "      <td>0.052000</td>\n",
       "      <td>0.023000</td>\n",
       "      <td>220.062000</td>\n",
       "      <td>1194.378000</td>\n",
       "      <td>1357.299000</td>\n",
       "    </tr>\n",
       "    <tr>\n",
       "      <th>null_values</th>\n",
       "      <td>0.000000</td>\n",
       "      <td>0.000000</td>\n",
       "      <td>0.000000</td>\n",
       "      <td>0.000000</td>\n",
       "      <td>0.000000</td>\n",
       "      <td>0.000000</td>\n",
       "      <td>0.000000</td>\n",
       "      <td>0.000000</td>\n",
       "      <td>0.000000</td>\n",
       "      <td>0.000000</td>\n",
       "      <td>...</td>\n",
       "      <td>0.000000</td>\n",
       "      <td>0.000000</td>\n",
       "      <td>0.000000</td>\n",
       "      <td>0.000000</td>\n",
       "      <td>0.000000</td>\n",
       "      <td>0.000000</td>\n",
       "      <td>0.000000</td>\n",
       "      <td>0.000000</td>\n",
       "      <td>0.000000</td>\n",
       "      <td>0.000000</td>\n",
       "    </tr>\n",
       "    <tr>\n",
       "      <th>null__rate</th>\n",
       "      <td>0.000000</td>\n",
       "      <td>0.000000</td>\n",
       "      <td>0.000000</td>\n",
       "      <td>0.000000</td>\n",
       "      <td>0.000000</td>\n",
       "      <td>0.000000</td>\n",
       "      <td>0.000000</td>\n",
       "      <td>0.000000</td>\n",
       "      <td>0.000000</td>\n",
       "      <td>0.000000</td>\n",
       "      <td>...</td>\n",
       "      <td>0.000000</td>\n",
       "      <td>0.000000</td>\n",
       "      <td>0.000000</td>\n",
       "      <td>0.000000</td>\n",
       "      <td>0.000000</td>\n",
       "      <td>0.000000</td>\n",
       "      <td>0.000000</td>\n",
       "      <td>0.000000</td>\n",
       "      <td>0.000000</td>\n",
       "      <td>0.000000</td>\n",
       "    </tr>\n",
       "  </tbody>\n",
       "</table>\n",
       "<p>11 rows × 133 columns</p>\n",
       "</div>"
      ],
      "text/plain": [
       "                   ind_5        ind_6        ind_8        ind_9       ind_10  \\\n",
       "count        6167.000000  6167.000000  6167.000000  6167.000000  6167.000000   \n",
       "mean           -0.803146    -0.803470    48.388890    48.289282     0.099609   \n",
       "std            23.624403    23.624144    36.388526    36.478009    60.414625   \n",
       "min          -131.000000  -131.000000     0.000000     0.000000  -100.000000   \n",
       "25%           -14.000000   -14.000000    14.285714    14.285714   -50.000000   \n",
       "50%             0.000000     0.000000    50.000000    50.000000     0.000000   \n",
       "75%            13.000000    13.000000    85.714286    85.714286    57.142857   \n",
       "max            76.000000    76.000000   100.000000   100.000000   100.000000   \n",
       "variance      558.112000   558.100000  1324.125000  1330.645000  3649.927000   \n",
       "null_values     0.000000     0.000000     0.000000     0.000000     0.000000   \n",
       "null__rate      0.000000     0.000000     0.000000     0.000000     0.000000   \n",
       "\n",
       "                  ind_12       ind_13       ind_14       ind_15       ind_16  \\\n",
       "count        6167.000000  6167.000000  6167.000000  6167.000000  6167.000000   \n",
       "mean           49.488867   -18.497518    11.771485    11.773550    11.773392   \n",
       "std            12.198722    68.281120     6.803997     5.786089     4.970499   \n",
       "min            12.134540  -625.093855     1.050000     1.660000     2.580000   \n",
       "25%            40.868503   -45.687212     6.850000     7.260000     7.635000   \n",
       "50%            49.549766    -2.817298    10.550000    11.040000    11.270000   \n",
       "75%            58.504375    28.072613    14.950000    15.040000    14.960000   \n",
       "max            84.821848    81.105847    82.900000    54.240000    37.050000   \n",
       "variance      148.809000  4662.311000    46.294000    33.479000    24.706000   \n",
       "null_values     0.000000     0.000000     0.000000     0.000000     0.000000   \n",
       "null__rate      0.000000     0.000000     0.000000     0.000000     0.000000   \n",
       "\n",
       "                ...           ind_412      ind_414      ind_416      ind_418  \\\n",
       "count           ...       6167.000000  6167.000000  6167.000000  6167.000000   \n",
       "mean            ...          0.000224    28.529204    -8.554792   -28.166694   \n",
       "std             ...          0.005660    26.316896    16.100087    23.271524   \n",
       "min             ...         -0.023790     0.000000  -103.800000  -188.000000   \n",
       "25%             ...         -0.003230    10.700000   -11.700000   -39.000000   \n",
       "50%             ...         -0.000053    21.300000     0.000000   -22.000000   \n",
       "75%             ...          0.003414    38.400000     0.000000   -11.000000   \n",
       "max             ...          0.023340   281.800000     0.000000     0.000000   \n",
       "variance        ...          0.000000   692.579000   259.213000   541.564000   \n",
       "null_values     ...          0.000000     0.000000     0.000000     0.000000   \n",
       "null__rate      ...          0.000000     0.000000     0.000000     0.000000   \n",
       "\n",
       "                 ind_424      ind_426      ind_428    20_target    50_target  \\\n",
       "count        6167.000000  6167.000000  6167.000000  6167.000000  6167.000000   \n",
       "mean            0.490297     0.498188     0.490174    -0.057102    -2.906358   \n",
       "std             0.425376     0.228547     0.150483    14.834497    34.559778   \n",
       "min             0.000000     0.000000     0.083530   -15.780588   -37.142889   \n",
       "25%             0.000000     0.323783     0.379894   -15.350354   -36.208094   \n",
       "50%             0.473684     0.495192     0.487078     0.000000   -34.267756   \n",
       "75%             1.000000     0.675730     0.601508    15.385945    35.879524   \n",
       "max             1.000000     1.000000     0.868534    15.768767    37.038694   \n",
       "variance        0.181000     0.052000     0.023000   220.062000  1194.378000   \n",
       "null_values     0.000000     0.000000     0.000000     0.000000     0.000000   \n",
       "null__rate      0.000000     0.000000     0.000000     0.000000     0.000000   \n",
       "\n",
       "               90_target  \n",
       "count        6167.000000  \n",
       "mean           -3.315072  \n",
       "std            36.841541  \n",
       "min           -38.573858  \n",
       "25%           -37.695273  \n",
       "50%           -35.788391  \n",
       "75%            37.521892  \n",
       "max            38.465649  \n",
       "variance     1357.299000  \n",
       "null_values     0.000000  \n",
       "null__rate      0.000000  \n",
       "\n",
       "[11 rows x 133 columns]"
      ]
     },
     "execution_count": 147,
     "metadata": {},
     "output_type": "execute_result"
    }
   ],
   "source": [
    "desc_df = data.describe().T\n",
    "null_count = data.isnull().sum()\n",
    "null_percent = (data.isnull().sum() / data.count())*100\n",
    "variance = data.var()\n",
    "\n",
    "desc_df[\"variance\"] =  round(variance,3)\n",
    "desc_df[\"null_values\"] = round(null_count,3)\n",
    "desc_df[\"null__rate\"] = round(null_percent,3)\n",
    "desc_df.T"
   ]
  },
  {
   "cell_type": "markdown",
   "metadata": {},
   "source": [
    "### 1.2. Numeric ve Categoric Features"
   ]
  },
  {
   "cell_type": "code",
   "execution_count": 148,
   "metadata": {},
   "outputs": [
    {
     "name": "stdout",
     "output_type": "stream",
     "text": [
      "Numeric Column  :\n",
      " ['ind_5', 'ind_6', 'ind_8', 'ind_9', 'ind_10', 'ind_12', 'ind_13', 'ind_14', 'ind_15', 'ind_16', 'ind_17', 'ind_18', 'ind_19', 'ind_20', 'ind_21', 'ind_22', 'ind_23', 'ind_25', 'ind_26', 'ind_27', 'ind_28', 'ind_29', 'ind_30', 'ind_31', 'ind_32', 'ind_33', 'ind_34', 'ind_35', 'ind_36', 'ind_37', 'ind_39', 'ind_40', 'ind_41', 'ind_42', 'ind_43', 'ind_44', 'ind_45', 'ind_46', 'ind_47', 'ind_48', 'ind_49', 'ind_50', 'ind_51', 'ind_52', 'ind_53', 'ind_56', 'ind_58', 'ind_61', 'ind_62', 'ind_65', 'ind_67', 'ind_70', 'ind_71', 'ind_74', 'ind_77', 'ind_82', 'ind_83', 'ind_88', 'ind_92', 'ind_102', 'ind_116', 'ind_118', 'ind_122', 'ind_124', 'ind_128', 'ind_130', 'ind_132', 'ind_134', 'ind_136', 'ind_139', 'ind_142', 'ind_145', 'ind_147', 'ind_150', 'ind_153', 'ind_156', 'ind_164', 'ind_168', 'ind_172', 'ind_176', 'ind_179', 'ind_181', 'ind_188', 'ind_194', 'ind_212', 'ind_217', 'ind_225', 'ind_228', 'ind_234', 'ind_237', 'ind_239', 'ind_241', 'ind_243', 'ind_309', 'ind_310', 'ind_311', 'ind_313', 'ind_315', 'ind_316', 'ind_318', 'ind_321', 'ind_324', 'ind_327', 'ind_330', 'ind_332', 'ind_334', 'ind_338', 'ind_340', 'ind_344', 'ind_345', 'ind_347', 'ind_349', 'ind_351', 'ind_352', 'ind_387', 'ind_392', 'ind_397', 'ind_399', 'ind_403', 'ind_404', 'ind_406', 'ind_407', 'ind_410', 'ind_412', 'ind_414', 'ind_416', 'ind_418', 'ind_424', 'ind_426', 'ind_428', '20_target', '50_target', '90_target'] \n",
      "\n",
      "Categoric Column :\n",
      " ['ind_109', 'ind_420', 'ind_422']\n"
     ]
    }
   ],
   "source": [
    "num, cat = numeric_categoric_variable(data)"
   ]
  },
  {
   "cell_type": "markdown",
   "metadata": {},
   "source": [
    "### 1.3. Different Values\n",
    "\n",
    "Kategorik verilerde kaç farklı kategori mevcut olduğunu kontrol ediyoruz. ind_420 ve ind_422 özniteliklerde sırasıyla 582 ve 573 olmak üzere farklı kategori mevcut olduğu çıkıyor. Bu nedenle group by ile değerleri kontrol ettiğimizde tüm değerlerin numerik olduğunu ve \"?\" olarak girilen 1041 satır kirli veri olduğunu görüyoruz. Veri Temizleme işlemi uygulamamız gerekiyor."
   ]
  },
  {
   "cell_type": "code",
   "execution_count": 149,
   "metadata": {},
   "outputs": [
    {
     "name": "stdout",
     "output_type": "stream",
     "text": [
      "ind_109 :  2\n",
      "ind_420 :  582\n",
      "ind_422 :  573\n"
     ]
    }
   ],
   "source": [
    "for i in data.select_dtypes(include=[\"object\"]).columns:\n",
    "    print(i,\": \",data[i].value_counts().count())"
   ]
  },
  {
   "cell_type": "markdown",
   "metadata": {},
   "source": [
    "### 1.4. 50_target Distribution"
   ]
  },
  {
   "cell_type": "code",
   "execution_count": 150,
   "metadata": {},
   "outputs": [
    {
     "data": {
      "image/png": "[encoded data removed]",
      "text/plain": [
       "<Figure size 432x288 with 1 Axes>"
      ]
     },
     "metadata": {
      "needs_background": "light"
     },
     "output_type": "display_data"
    },
    {
     "name": "stdout",
     "output_type": "stream",
     "text": [
      "Skewness: 0.160870 \n",
      "Kurtosis: -1.904826 \n"
     ]
    }
   ],
   "source": [
    "sns.distplot(data[\"50_target\"])\n",
    "plt.show()\n",
    "\n",
    "print(\"Skewness: %f \" % data[\"50_target\"].skew())\n",
    "print(\"Kurtosis: %f \" % data[\"50_target\"].kurt())"
   ]
  },
  {
   "cell_type": "markdown",
   "metadata": {},
   "source": [
    "# 2 Data Preprocessing"
   ]
  },
  {
   "cell_type": "markdown",
   "metadata": {},
   "source": [
    "### 2.1. Veri Temizleme (Drop columns)\n",
    "\n",
    "Burada \"?\" değerleri içeren ind_420 ve ind_422 özniteliklerini verisetimizden siliyoruz."
   ]
  },
  {
   "cell_type": "code",
   "execution_count": 151,
   "metadata": {},
   "outputs": [],
   "source": [
    "## data temizleme\n",
    "\n",
    "#data[\"ind_420\"] = data[\"ind_420\"].replace(\"?\", np.nan)\n",
    "#data[\"ind_422\"] = data[\"ind_422\"].replace(\"?\", np.nan)\n",
    "\n",
    "data = data.drop([\"ind_420\", \"ind_422\"], axis=1)"
   ]
  },
  {
   "cell_type": "markdown",
   "metadata": {},
   "source": [
    "### 2.2. Dummy Dönüştürme\n",
    "\n",
    "ind_109 değişkeni kategorik değişkenlerdir. GREEN ve RED değerleri aldığı için hedef değişkeni tahmin etmede önemli olacağını düşünerek dönüştürme işlemi uyguladım."
   ]
  },
  {
   "cell_type": "code",
   "execution_count": 152,
   "metadata": {},
   "outputs": [
    {
     "data": {
      "text/html": [
       "<div>\n",
       "<style scoped>\n",
       "    .dataframe tbody tr th:only-of-type {\n",
       "        vertical-align: middle;\n",
       "    }\n",
       "\n",
       "    .dataframe tbody tr th {\n",
       "        vertical-align: top;\n",
       "    }\n",
       "\n",
       "    .dataframe thead th {\n",
       "        text-align: right;\n",
       "    }\n",
       "</style>\n",
       "<table border=\"1\" class=\"dataframe\">\n",
       "  <thead>\n",
       "    <tr style=\"text-align: right;\">\n",
       "      <th></th>\n",
       "      <th>ind_5</th>\n",
       "      <th>ind_6</th>\n",
       "      <th>ind_8</th>\n",
       "      <th>ind_9</th>\n",
       "      <th>ind_10</th>\n",
       "      <th>ind_12</th>\n",
       "      <th>ind_13</th>\n",
       "      <th>ind_14</th>\n",
       "      <th>ind_15</th>\n",
       "      <th>ind_16</th>\n",
       "      <th>...</th>\n",
       "      <th>ind_416</th>\n",
       "      <th>ind_418</th>\n",
       "      <th>ind_424</th>\n",
       "      <th>ind_426</th>\n",
       "      <th>ind_428</th>\n",
       "      <th>20_target</th>\n",
       "      <th>50_target</th>\n",
       "      <th>90_target</th>\n",
       "      <th>GREEN</th>\n",
       "      <th>RED</th>\n",
       "    </tr>\n",
       "  </thead>\n",
       "  <tbody>\n",
       "    <tr>\n",
       "      <th>0</th>\n",
       "      <td>19</td>\n",
       "      <td>17</td>\n",
       "      <td>100.0</td>\n",
       "      <td>85.714286</td>\n",
       "      <td>14.285714</td>\n",
       "      <td>72.363515</td>\n",
       "      <td>60.808814</td>\n",
       "      <td>23.80</td>\n",
       "      <td>17.62</td>\n",
       "      <td>11.73</td>\n",
       "      <td>...</td>\n",
       "      <td>-49.6</td>\n",
       "      <td>-54</td>\n",
       "      <td>1.0</td>\n",
       "      <td>0.498547</td>\n",
       "      <td>0.701906</td>\n",
       "      <td>15.135802</td>\n",
       "      <td>35.625252</td>\n",
       "      <td>36.997753</td>\n",
       "      <td>1</td>\n",
       "      <td>0</td>\n",
       "    </tr>\n",
       "    <tr>\n",
       "      <th>1</th>\n",
       "      <td>24</td>\n",
       "      <td>19</td>\n",
       "      <td>100.0</td>\n",
       "      <td>78.571429</td>\n",
       "      <td>21.428571</td>\n",
       "      <td>74.275883</td>\n",
       "      <td>64.366798</td>\n",
       "      <td>11.45</td>\n",
       "      <td>18.16</td>\n",
       "      <td>12.22</td>\n",
       "      <td>...</td>\n",
       "      <td>-55.6</td>\n",
       "      <td>-60</td>\n",
       "      <td>1.0</td>\n",
       "      <td>0.537088</td>\n",
       "      <td>0.690833</td>\n",
       "      <td>15.143348</td>\n",
       "      <td>35.643013</td>\n",
       "      <td>37.016198</td>\n",
       "      <td>1</td>\n",
       "      <td>0</td>\n",
       "    </tr>\n",
       "    <tr>\n",
       "      <th>2</th>\n",
       "      <td>30</td>\n",
       "      <td>24</td>\n",
       "      <td>100.0</td>\n",
       "      <td>71.428571</td>\n",
       "      <td>28.571429</td>\n",
       "      <td>75.140402</td>\n",
       "      <td>65.915803</td>\n",
       "      <td>8.75</td>\n",
       "      <td>17.86</td>\n",
       "      <td>12.28</td>\n",
       "      <td>...</td>\n",
       "      <td>-58.4</td>\n",
       "      <td>-60</td>\n",
       "      <td>1.0</td>\n",
       "      <td>0.615169</td>\n",
       "      <td>0.693040</td>\n",
       "      <td>15.146870</td>\n",
       "      <td>35.651301</td>\n",
       "      <td>-37.024805</td>\n",
       "      <td>1</td>\n",
       "      <td>0</td>\n",
       "    </tr>\n",
       "  </tbody>\n",
       "</table>\n",
       "<p>3 rows × 135 columns</p>\n",
       "</div>"
      ],
      "text/plain": [
       "   ind_5  ind_6  ind_8      ind_9     ind_10     ind_12     ind_13  ind_14  \\\n",
       "0     19     17  100.0  85.714286  14.285714  72.363515  60.808814   23.80   \n",
       "1     24     19  100.0  78.571429  21.428571  74.275883  64.366798   11.45   \n",
       "2     30     24  100.0  71.428571  28.571429  75.140402  65.915803    8.75   \n",
       "\n",
       "   ind_15  ind_16 ...   ind_416  ind_418  ind_424   ind_426   ind_428  \\\n",
       "0   17.62   11.73 ...     -49.6      -54      1.0  0.498547  0.701906   \n",
       "1   18.16   12.22 ...     -55.6      -60      1.0  0.537088  0.690833   \n",
       "2   17.86   12.28 ...     -58.4      -60      1.0  0.615169  0.693040   \n",
       "\n",
       "   20_target  50_target  90_target  GREEN  RED  \n",
       "0  15.135802  35.625252  36.997753      1    0  \n",
       "1  15.143348  35.643013  37.016198      1    0  \n",
       "2  15.146870  35.651301 -37.024805      1    0  \n",
       "\n",
       "[3 rows x 135 columns]"
      ]
     },
     "execution_count": 152,
     "metadata": {},
     "output_type": "execute_result"
    }
   ],
   "source": [
    "## dummy degisken \n",
    "\n",
    "dummy = pd.get_dummies(data[\"ind_109\"])\n",
    "data_dummy = pd.concat([data, dummy],axis=1)\n",
    "data_dummy = data_dummy.drop([\"ind_109\"], axis=1)\n",
    "data_dummy.head(3)"
   ]
  },
  {
   "cell_type": "markdown",
   "metadata": {},
   "source": [
    "### 2.3. Normalization\n",
    "\n",
    "\n",
    "#### 2.3.1. Min-Max "
   ]
  },
  {
   "cell_type": "code",
   "execution_count": 153,
   "metadata": {},
   "outputs": [
    {
     "data": {
      "text/html": [
       "<div>\n",
       "<style scoped>\n",
       "    .dataframe tbody tr th:only-of-type {\n",
       "        vertical-align: middle;\n",
       "    }\n",
       "\n",
       "    .dataframe tbody tr th {\n",
       "        vertical-align: top;\n",
       "    }\n",
       "\n",
       "    .dataframe thead th {\n",
       "        text-align: right;\n",
       "    }\n",
       "</style>\n",
       "<table border=\"1\" class=\"dataframe\">\n",
       "  <thead>\n",
       "    <tr style=\"text-align: right;\">\n",
       "      <th></th>\n",
       "      <th>ind_5</th>\n",
       "      <th>ind_6</th>\n",
       "      <th>ind_8</th>\n",
       "      <th>ind_9</th>\n",
       "      <th>ind_10</th>\n",
       "      <th>ind_12</th>\n",
       "      <th>ind_13</th>\n",
       "      <th>ind_14</th>\n",
       "      <th>ind_15</th>\n",
       "      <th>ind_16</th>\n",
       "      <th>...</th>\n",
       "      <th>ind_416</th>\n",
       "      <th>ind_418</th>\n",
       "      <th>ind_424</th>\n",
       "      <th>ind_426</th>\n",
       "      <th>ind_428</th>\n",
       "      <th>20_target</th>\n",
       "      <th>50_target</th>\n",
       "      <th>90_target</th>\n",
       "      <th>GREEN</th>\n",
       "      <th>RED</th>\n",
       "    </tr>\n",
       "  </thead>\n",
       "  <tbody>\n",
       "    <tr>\n",
       "      <th>0</th>\n",
       "      <td>0.724638</td>\n",
       "      <td>0.714976</td>\n",
       "      <td>1.0</td>\n",
       "      <td>0.857143</td>\n",
       "      <td>0.571429</td>\n",
       "      <td>0.828604</td>\n",
       "      <td>0.971259</td>\n",
       "      <td>0.277947</td>\n",
       "      <td>0.303537</td>\n",
       "      <td>0.265448</td>\n",
       "      <td>...</td>\n",
       "      <td>0.522158</td>\n",
       "      <td>0.712766</td>\n",
       "      <td>1.0</td>\n",
       "      <td>0.498547</td>\n",
       "      <td>0.787736</td>\n",
       "      <td>0.979937</td>\n",
       "      <td>0.980946</td>\n",
       "      <td>0.980946</td>\n",
       "      <td>1.0</td>\n",
       "      <td>0.0</td>\n",
       "    </tr>\n",
       "    <tr>\n",
       "      <th>1</th>\n",
       "      <td>0.748792</td>\n",
       "      <td>0.724638</td>\n",
       "      <td>1.0</td>\n",
       "      <td>0.785714</td>\n",
       "      <td>0.607143</td>\n",
       "      <td>0.854913</td>\n",
       "      <td>0.976297</td>\n",
       "      <td>0.127062</td>\n",
       "      <td>0.313808</td>\n",
       "      <td>0.279663</td>\n",
       "      <td>...</td>\n",
       "      <td>0.464355</td>\n",
       "      <td>0.680851</td>\n",
       "      <td>1.0</td>\n",
       "      <td>0.537088</td>\n",
       "      <td>0.773630</td>\n",
       "      <td>0.980177</td>\n",
       "      <td>0.981186</td>\n",
       "      <td>0.981186</td>\n",
       "      <td>1.0</td>\n",
       "      <td>0.0</td>\n",
       "    </tr>\n",
       "    <tr>\n",
       "      <th>2</th>\n",
       "      <td>0.777778</td>\n",
       "      <td>0.748792</td>\n",
       "      <td>1.0</td>\n",
       "      <td>0.714286</td>\n",
       "      <td>0.642857</td>\n",
       "      <td>0.866807</td>\n",
       "      <td>0.978490</td>\n",
       "      <td>0.094075</td>\n",
       "      <td>0.308102</td>\n",
       "      <td>0.281404</td>\n",
       "      <td>...</td>\n",
       "      <td>0.437380</td>\n",
       "      <td>0.680851</td>\n",
       "      <td>1.0</td>\n",
       "      <td>0.615169</td>\n",
       "      <td>0.776441</td>\n",
       "      <td>0.980288</td>\n",
       "      <td>0.981297</td>\n",
       "      <td>0.020107</td>\n",
       "      <td>1.0</td>\n",
       "      <td>0.0</td>\n",
       "    </tr>\n",
       "  </tbody>\n",
       "</table>\n",
       "<p>3 rows × 135 columns</p>\n",
       "</div>"
      ],
      "text/plain": [
       "      ind_5     ind_6  ind_8     ind_9    ind_10    ind_12    ind_13  \\\n",
       "0  0.724638  0.714976    1.0  0.857143  0.571429  0.828604  0.971259   \n",
       "1  0.748792  0.724638    1.0  0.785714  0.607143  0.854913  0.976297   \n",
       "2  0.777778  0.748792    1.0  0.714286  0.642857  0.866807  0.978490   \n",
       "\n",
       "     ind_14    ind_15    ind_16 ...    ind_416   ind_418  ind_424   ind_426  \\\n",
       "0  0.277947  0.303537  0.265448 ...   0.522158  0.712766      1.0  0.498547   \n",
       "1  0.127062  0.313808  0.279663 ...   0.464355  0.680851      1.0  0.537088   \n",
       "2  0.094075  0.308102  0.281404 ...   0.437380  0.680851      1.0  0.615169   \n",
       "\n",
       "    ind_428  20_target  50_target  90_target  GREEN  RED  \n",
       "0  0.787736   0.979937   0.980946   0.980946    1.0  0.0  \n",
       "1  0.773630   0.980177   0.981186   0.981186    1.0  0.0  \n",
       "2  0.776441   0.980288   0.981297   0.020107    1.0  0.0  \n",
       "\n",
       "[3 rows x 135 columns]"
      ]
     },
     "execution_count": 153,
     "metadata": {},
     "output_type": "execute_result"
    }
   ],
   "source": [
    "## minmax \n",
    "scaler = MinMaxScaler()\n",
    "scaler.fit(data_dummy)\n",
    "data_minmax = scaler.transform(data_dummy)\n",
    "data_minmax = pd.DataFrame(data_minmax, columns=data_dummy.columns)\n",
    "data_minmax.head(3)"
   ]
  },
  {
   "cell_type": "markdown",
   "metadata": {},
   "source": [
    "#### 2.3.2. Standard Scaler"
   ]
  },
  {
   "cell_type": "code",
   "execution_count": 154,
   "metadata": {},
   "outputs": [
    {
     "data": {
      "text/html": [
       "<div>\n",
       "<style scoped>\n",
       "    .dataframe tbody tr th:only-of-type {\n",
       "        vertical-align: middle;\n",
       "    }\n",
       "\n",
       "    .dataframe tbody tr th {\n",
       "        vertical-align: top;\n",
       "    }\n",
       "\n",
       "    .dataframe thead th {\n",
       "        text-align: right;\n",
       "    }\n",
       "</style>\n",
       "<table border=\"1\" class=\"dataframe\">\n",
       "  <thead>\n",
       "    <tr style=\"text-align: right;\">\n",
       "      <th></th>\n",
       "      <th>ind_5</th>\n",
       "      <th>ind_6</th>\n",
       "      <th>ind_8</th>\n",
       "      <th>ind_9</th>\n",
       "      <th>ind_10</th>\n",
       "      <th>ind_12</th>\n",
       "      <th>ind_13</th>\n",
       "      <th>ind_14</th>\n",
       "      <th>ind_15</th>\n",
       "      <th>ind_16</th>\n",
       "      <th>...</th>\n",
       "      <th>ind_416</th>\n",
       "      <th>ind_418</th>\n",
       "      <th>ind_424</th>\n",
       "      <th>ind_426</th>\n",
       "      <th>ind_428</th>\n",
       "      <th>20_target</th>\n",
       "      <th>50_target</th>\n",
       "      <th>90_target</th>\n",
       "      <th>GREEN</th>\n",
       "      <th>RED</th>\n",
       "    </tr>\n",
       "  </thead>\n",
       "  <tbody>\n",
       "    <tr>\n",
       "      <th>0</th>\n",
       "      <td>0.838318</td>\n",
       "      <td>0.753674</td>\n",
       "      <td>1.41845</td>\n",
       "      <td>1.026044</td>\n",
       "      <td>0.234831</td>\n",
       "      <td>1.875320</td>\n",
       "      <td>1.161562</td>\n",
       "      <td>1.768003</td>\n",
       "      <td>1.010514</td>\n",
       "      <td>-0.008731</td>\n",
       "      <td>...</td>\n",
       "      <td>-2.549585</td>\n",
       "      <td>-1.110172</td>\n",
       "      <td>1.198341</td>\n",
       "      <td>0.001568</td>\n",
       "      <td>1.407132</td>\n",
       "      <td>1.024243</td>\n",
       "      <td>1.115017</td>\n",
       "      <td>1.094311</td>\n",
       "      <td>0.984393</td>\n",
       "      <td>-0.984393</td>\n",
       "    </tr>\n",
       "    <tr>\n",
       "      <th>1</th>\n",
       "      <td>1.049980</td>\n",
       "      <td>0.838340</td>\n",
       "      <td>1.41845</td>\n",
       "      <td>0.830215</td>\n",
       "      <td>0.353072</td>\n",
       "      <td>2.032100</td>\n",
       "      <td>1.213674</td>\n",
       "      <td>-0.047253</td>\n",
       "      <td>1.103849</td>\n",
       "      <td>0.089859</td>\n",
       "      <td>...</td>\n",
       "      <td>-2.922284</td>\n",
       "      <td>-1.368019</td>\n",
       "      <td>1.198341</td>\n",
       "      <td>0.170218</td>\n",
       "      <td>1.333540</td>\n",
       "      <td>1.024752</td>\n",
       "      <td>1.115531</td>\n",
       "      <td>1.094811</td>\n",
       "      <td>0.984393</td>\n",
       "      <td>-0.984393</td>\n",
       "    </tr>\n",
       "    <tr>\n",
       "      <th>2</th>\n",
       "      <td>1.303976</td>\n",
       "      <td>1.050005</td>\n",
       "      <td>1.41845</td>\n",
       "      <td>0.634387</td>\n",
       "      <td>0.471312</td>\n",
       "      <td>2.102976</td>\n",
       "      <td>1.236362</td>\n",
       "      <td>-0.444111</td>\n",
       "      <td>1.051996</td>\n",
       "      <td>0.101931</td>\n",
       "      <td>...</td>\n",
       "      <td>-3.096210</td>\n",
       "      <td>-1.368019</td>\n",
       "      <td>1.198341</td>\n",
       "      <td>0.511884</td>\n",
       "      <td>1.348207</td>\n",
       "      <td>1.024990</td>\n",
       "      <td>1.115771</td>\n",
       "      <td>-0.915067</td>\n",
       "      <td>0.984393</td>\n",
       "      <td>-0.984393</td>\n",
       "    </tr>\n",
       "  </tbody>\n",
       "</table>\n",
       "<p>3 rows × 135 columns</p>\n",
       "</div>"
      ],
      "text/plain": [
       "      ind_5     ind_6    ind_8     ind_9    ind_10    ind_12    ind_13  \\\n",
       "0  0.838318  0.753674  1.41845  1.026044  0.234831  1.875320  1.161562   \n",
       "1  1.049980  0.838340  1.41845  0.830215  0.353072  2.032100  1.213674   \n",
       "2  1.303976  1.050005  1.41845  0.634387  0.471312  2.102976  1.236362   \n",
       "\n",
       "     ind_14    ind_15    ind_16    ...      ind_416   ind_418   ind_424  \\\n",
       "0  1.768003  1.010514 -0.008731    ...    -2.549585 -1.110172  1.198341   \n",
       "1 -0.047253  1.103849  0.089859    ...    -2.922284 -1.368019  1.198341   \n",
       "2 -0.444111  1.051996  0.101931    ...    -3.096210 -1.368019  1.198341   \n",
       "\n",
       "    ind_426   ind_428  20_target  50_target  90_target     GREEN       RED  \n",
       "0  0.001568  1.407132   1.024243   1.115017   1.094311  0.984393 -0.984393  \n",
       "1  0.170218  1.333540   1.024752   1.115531   1.094811  0.984393 -0.984393  \n",
       "2  0.511884  1.348207   1.024990   1.115771  -0.915067  0.984393 -0.984393  \n",
       "\n",
       "[3 rows x 135 columns]"
      ]
     },
     "execution_count": 154,
     "metadata": {},
     "output_type": "execute_result"
    }
   ],
   "source": [
    "## standard scaler \n",
    "scaler2 = StandardScaler()\n",
    "scaler2.fit(data_dummy)\n",
    "data_stdscaler = scaler2.transform(data_dummy)\n",
    "data_stdscaler = pd.DataFrame(data_stdscaler, columns=data_dummy.columns)\n",
    "data_stdscaler.head(3)"
   ]
  },
  {
   "cell_type": "markdown",
   "metadata": {},
   "source": [
    "#### 2.3.3. Normalizer"
   ]
  },
  {
   "cell_type": "code",
   "execution_count": 155,
   "metadata": {},
   "outputs": [
    {
     "data": {
      "text/html": [
       "<div>\n",
       "<style scoped>\n",
       "    .dataframe tbody tr th:only-of-type {\n",
       "        vertical-align: middle;\n",
       "    }\n",
       "\n",
       "    .dataframe tbody tr th {\n",
       "        vertical-align: top;\n",
       "    }\n",
       "\n",
       "    .dataframe thead th {\n",
       "        text-align: right;\n",
       "    }\n",
       "</style>\n",
       "<table border=\"1\" class=\"dataframe\">\n",
       "  <thead>\n",
       "    <tr style=\"text-align: right;\">\n",
       "      <th></th>\n",
       "      <th>ind_5</th>\n",
       "      <th>ind_6</th>\n",
       "      <th>ind_8</th>\n",
       "      <th>ind_9</th>\n",
       "      <th>ind_10</th>\n",
       "      <th>ind_12</th>\n",
       "      <th>ind_13</th>\n",
       "      <th>ind_14</th>\n",
       "      <th>ind_15</th>\n",
       "      <th>ind_16</th>\n",
       "      <th>...</th>\n",
       "      <th>ind_416</th>\n",
       "      <th>ind_418</th>\n",
       "      <th>ind_424</th>\n",
       "      <th>ind_426</th>\n",
       "      <th>ind_428</th>\n",
       "      <th>20_target</th>\n",
       "      <th>50_target</th>\n",
       "      <th>90_target</th>\n",
       "      <th>GREEN</th>\n",
       "      <th>RED</th>\n",
       "    </tr>\n",
       "  </thead>\n",
       "  <tbody>\n",
       "    <tr>\n",
       "      <th>0</th>\n",
       "      <td>0.029678</td>\n",
       "      <td>0.026554</td>\n",
       "      <td>0.156202</td>\n",
       "      <td>0.133888</td>\n",
       "      <td>0.022315</td>\n",
       "      <td>0.113033</td>\n",
       "      <td>0.094985</td>\n",
       "      <td>0.037176</td>\n",
       "      <td>0.027523</td>\n",
       "      <td>0.018323</td>\n",
       "      <td>...</td>\n",
       "      <td>-0.077476</td>\n",
       "      <td>-0.084349</td>\n",
       "      <td>0.001562</td>\n",
       "      <td>0.000779</td>\n",
       "      <td>0.001096</td>\n",
       "      <td>0.023642</td>\n",
       "      <td>0.055647</td>\n",
       "      <td>0.057791</td>\n",
       "      <td>0.001562</td>\n",
       "      <td>0.0</td>\n",
       "    </tr>\n",
       "    <tr>\n",
       "      <th>1</th>\n",
       "      <td>0.036405</td>\n",
       "      <td>0.028821</td>\n",
       "      <td>0.151689</td>\n",
       "      <td>0.119184</td>\n",
       "      <td>0.032505</td>\n",
       "      <td>0.112668</td>\n",
       "      <td>0.097637</td>\n",
       "      <td>0.017368</td>\n",
       "      <td>0.027547</td>\n",
       "      <td>0.018536</td>\n",
       "      <td>...</td>\n",
       "      <td>-0.084339</td>\n",
       "      <td>-0.091013</td>\n",
       "      <td>0.001517</td>\n",
       "      <td>0.000815</td>\n",
       "      <td>0.001048</td>\n",
       "      <td>0.022971</td>\n",
       "      <td>0.054067</td>\n",
       "      <td>0.056149</td>\n",
       "      <td>0.001517</td>\n",
       "      <td>0.0</td>\n",
       "    </tr>\n",
       "    <tr>\n",
       "      <th>2</th>\n",
       "      <td>0.045242</td>\n",
       "      <td>0.036194</td>\n",
       "      <td>0.150808</td>\n",
       "      <td>0.107720</td>\n",
       "      <td>0.043088</td>\n",
       "      <td>0.113318</td>\n",
       "      <td>0.099406</td>\n",
       "      <td>0.013196</td>\n",
       "      <td>0.026934</td>\n",
       "      <td>0.018519</td>\n",
       "      <td>...</td>\n",
       "      <td>-0.088072</td>\n",
       "      <td>-0.090485</td>\n",
       "      <td>0.001508</td>\n",
       "      <td>0.000928</td>\n",
       "      <td>0.001045</td>\n",
       "      <td>0.022843</td>\n",
       "      <td>0.053765</td>\n",
       "      <td>-0.055836</td>\n",
       "      <td>0.001508</td>\n",
       "      <td>0.0</td>\n",
       "    </tr>\n",
       "  </tbody>\n",
       "</table>\n",
       "<p>3 rows × 135 columns</p>\n",
       "</div>"
      ],
      "text/plain": [
       "      ind_5     ind_6     ind_8     ind_9    ind_10    ind_12    ind_13  \\\n",
       "0  0.029678  0.026554  0.156202  0.133888  0.022315  0.113033  0.094985   \n",
       "1  0.036405  0.028821  0.151689  0.119184  0.032505  0.112668  0.097637   \n",
       "2  0.045242  0.036194  0.150808  0.107720  0.043088  0.113318  0.099406   \n",
       "\n",
       "     ind_14    ind_15    ind_16 ...    ind_416   ind_418   ind_424   ind_426  \\\n",
       "0  0.037176  0.027523  0.018323 ...  -0.077476 -0.084349  0.001562  0.000779   \n",
       "1  0.017368  0.027547  0.018536 ...  -0.084339 -0.091013  0.001517  0.000815   \n",
       "2  0.013196  0.026934  0.018519 ...  -0.088072 -0.090485  0.001508  0.000928   \n",
       "\n",
       "    ind_428  20_target  50_target  90_target     GREEN  RED  \n",
       "0  0.001096   0.023642   0.055647   0.057791  0.001562  0.0  \n",
       "1  0.001048   0.022971   0.054067   0.056149  0.001517  0.0  \n",
       "2  0.001045   0.022843   0.053765  -0.055836  0.001508  0.0  \n",
       "\n",
       "[3 rows x 135 columns]"
      ]
     },
     "execution_count": 155,
     "metadata": {},
     "output_type": "execute_result"
    }
   ],
   "source": [
    "## Normalizer \n",
    "scaler3 = Normalizer()\n",
    "scaler3.fit(data_dummy)\n",
    "data_normalizer = scaler3.transform(data_dummy)\n",
    "data_normalizer = pd.DataFrame(data_normalizer, columns=data_dummy.columns)\n",
    "data_normalizer.head(3)"
   ]
  },
  {
   "cell_type": "markdown",
   "metadata": {},
   "source": [
    "# 3. PCA - Principal Component Analysis"
   ]
  },
  {
   "cell_type": "code",
   "execution_count": 156,
   "metadata": {},
   "outputs": [
    {
     "name": "stdout",
     "output_type": "stream",
     "text": [
      "pca sonrası değişken sayısı:  12\n"
     ]
    },
    {
     "data": {
      "text/html": [
       "<div>\n",
       "<style scoped>\n",
       "    .dataframe tbody tr th:only-of-type {\n",
       "        vertical-align: middle;\n",
       "    }\n",
       "\n",
       "    .dataframe tbody tr th {\n",
       "        vertical-align: top;\n",
       "    }\n",
       "\n",
       "    .dataframe thead th {\n",
       "        text-align: right;\n",
       "    }\n",
       "</style>\n",
       "<table border=\"1\" class=\"dataframe\">\n",
       "  <thead>\n",
       "    <tr style=\"text-align: right;\">\n",
       "      <th></th>\n",
       "      <th>0</th>\n",
       "      <th>1</th>\n",
       "      <th>2</th>\n",
       "      <th>3</th>\n",
       "      <th>4</th>\n",
       "      <th>5</th>\n",
       "      <th>6</th>\n",
       "      <th>7</th>\n",
       "      <th>8</th>\n",
       "      <th>9</th>\n",
       "      <th>10</th>\n",
       "      <th>11</th>\n",
       "    </tr>\n",
       "  </thead>\n",
       "  <tbody>\n",
       "    <tr>\n",
       "      <th>0</th>\n",
       "      <td>-1.948655</td>\n",
       "      <td>0.014419</td>\n",
       "      <td>0.836222</td>\n",
       "      <td>-0.252312</td>\n",
       "      <td>0.357747</td>\n",
       "      <td>0.097015</td>\n",
       "      <td>0.122127</td>\n",
       "      <td>0.357271</td>\n",
       "      <td>0.341336</td>\n",
       "      <td>-0.612891</td>\n",
       "      <td>0.272078</td>\n",
       "      <td>0.365713</td>\n",
       "    </tr>\n",
       "    <tr>\n",
       "      <th>1</th>\n",
       "      <td>-2.072825</td>\n",
       "      <td>0.006720</td>\n",
       "      <td>0.824477</td>\n",
       "      <td>-0.162782</td>\n",
       "      <td>0.304293</td>\n",
       "      <td>0.107665</td>\n",
       "      <td>0.105419</td>\n",
       "      <td>0.314527</td>\n",
       "      <td>0.359976</td>\n",
       "      <td>-0.606346</td>\n",
       "      <td>0.245963</td>\n",
       "      <td>0.359678</td>\n",
       "    </tr>\n",
       "    <tr>\n",
       "      <th>2</th>\n",
       "      <td>-2.099657</td>\n",
       "      <td>0.046124</td>\n",
       "      <td>0.190747</td>\n",
       "      <td>-0.105251</td>\n",
       "      <td>0.316426</td>\n",
       "      <td>0.373355</td>\n",
       "      <td>0.204883</td>\n",
       "      <td>0.283938</td>\n",
       "      <td>0.430772</td>\n",
       "      <td>-0.580109</td>\n",
       "      <td>0.263074</td>\n",
       "      <td>0.348418</td>\n",
       "    </tr>\n",
       "  </tbody>\n",
       "</table>\n",
       "</div>"
      ],
      "text/plain": [
       "         0         1         2         3         4         5         6   \\\n",
       "0 -1.948655  0.014419  0.836222 -0.252312  0.357747  0.097015  0.122127   \n",
       "1 -2.072825  0.006720  0.824477 -0.162782  0.304293  0.107665  0.105419   \n",
       "2 -2.099657  0.046124  0.190747 -0.105251  0.316426  0.373355  0.204883   \n",
       "\n",
       "         7         8         9         10        11  \n",
       "0  0.357271  0.341336 -0.612891  0.272078  0.365713  \n",
       "1  0.314527  0.359976 -0.606346  0.245963  0.359678  \n",
       "2  0.283938  0.430772 -0.580109  0.263074  0.348418  "
      ]
     },
     "execution_count": 156,
     "metadata": {},
     "output_type": "execute_result"
    }
   ],
   "source": [
    "def pca_fon(X, threshold):\n",
    "    pca = PCA()\n",
    "    X_pca = pca.fit_transform(X)\n",
    "    arr = np.cumsum(np.round(pca.explained_variance_ratio_, decimals = 4)*100)\n",
    "    num_var = sum((arr < threshold*100)) + 1 \n",
    "    print('pca sonrası değişken sayısı: ',num_var)\n",
    "    X_pcad = pd.DataFrame(X_pca[:,0:num_var], index = X.index)\n",
    "    return X_pcad\n",
    "\n",
    "pca_fon(data_minmax, 0.8).head(3)"
   ]
  },
  {
   "cell_type": "code",
   "execution_count": 157,
   "metadata": {},
   "outputs": [
    {
     "name": "stdout",
     "output_type": "stream",
     "text": [
      "pca sonrası değişken sayısı:  14\n",
      "pca sonrası değişken sayısı:  20\n",
      "pca sonrası değişken sayısı:  5\n"
     ]
    }
   ],
   "source": [
    "pca_x_minmax = pca_fon(data_minmax.drop([\"20_target\",\"50_target\",\"90_target\"],axis=1), 0.85)\n",
    "y_20target_minmax = data_minmax[\"20_target\"]\n",
    "y_50target_minmax = data_minmax[\"50_target\"]\n",
    "y_90target_minmax = data_minmax[\"90_target\"]\n",
    "\n",
    "pca_x_stdscale = pca_fon(data_stdscaler.drop([\"20_target\",\"50_target\",\"90_target\"],axis=1), 0.85)\n",
    "y_20target_stdscale = data_minmax[\"20_target\"]\n",
    "y_50target_stdscale = data_minmax[\"50_target\"]\n",
    "y_90target_stdscale = data_minmax[\"90_target\"]\n",
    "\n",
    "pca_x_normalizer = pca_fon(data_normalizer.drop([\"20_target\",\"50_target\",\"90_target\"],axis=1), 0.85)\n",
    "y_20target_normalizer = data_minmax[\"20_target\"]\n",
    "y_50target_normalizer = data_minmax[\"50_target\"]\n",
    "y_90target_normalizer = data_minmax[\"90_target\"]"
   ]
  },
  {
   "cell_type": "markdown",
   "metadata": {},
   "source": [
    "# 4. Visualization & Normality (Shapiro)"
   ]
  },
  {
   "cell_type": "markdown",
   "metadata": {},
   "source": [
    "### 4.1. Box Plot"
   ]
  },
  {
   "cell_type": "code",
   "execution_count": 158,
   "metadata": {},
   "outputs": [
    {
     "data": {
      "image/png": "[encoded data removed]",
      "text/plain": [
       "<Figure size 1872x720 with 1 Axes>"
      ]
     },
     "metadata": {
      "needs_background": "light"
     },
     "output_type": "display_data"
    }
   ],
   "source": [
    "plt.figure(figsize=(26,10))\n",
    "pca_x_minmax.boxplot()\n",
    "plt.show()"
   ]
  },
  {
   "cell_type": "code",
   "execution_count": 159,
   "metadata": {},
   "outputs": [
    {
     "data": {
      "image/png": "[encoded data removed]",
      "text/plain": [
       "<Figure size 1872x720 with 1 Axes>"
      ]
     },
     "metadata": {
      "needs_background": "light"
     },
     "output_type": "display_data"
    }
   ],
   "source": [
    "plt.figure(figsize=(26,10))\n",
    "pca_x_stdscale.boxplot()\n",
    "plt.show()"
   ]
  },
  {
   "cell_type": "code",
   "execution_count": 160,
   "metadata": {},
   "outputs": [
    {
     "data": {
      "image/png": "[encoded data removed]",
      "text/plain": [
       "<Figure size 1872x720 with 1 Axes>"
      ]
     },
     "metadata": {
      "needs_background": "light"
     },
     "output_type": "display_data"
    }
   ],
   "source": [
    "plt.figure(figsize=(26,10))\n",
    "pca_x_normalizer.boxplot()\n",
    "plt.show()"
   ]
  },
  {
   "cell_type": "markdown",
   "metadata": {},
   "source": [
    "### 4.2. Histogram"
   ]
  },
  {
   "cell_type": "code",
   "execution_count": 161,
   "metadata": {},
   "outputs": [
    {
     "data": {
      "image/png": "[encoded data removed]",
      "text/plain": [
       "<Figure size 1080x504 with 16 Axes>"
      ]
     },
     "metadata": {
      "needs_background": "light"
     },
     "output_type": "display_data"
    }
   ],
   "source": [
    "pca_x_minmax.hist(figsize=(15,7), bins=40, xlabelsize=6, ylabelsize=6)\n",
    "plt.show()"
   ]
  },
  {
   "cell_type": "code",
   "execution_count": 162,
   "metadata": {},
   "outputs": [
    {
     "data": {
      "image/png": "[encoded data removed]",
      "text/plain": [
       "<Figure size 1080x504 with 20 Axes>"
      ]
     },
     "metadata": {
      "needs_background": "light"
     },
     "output_type": "display_data"
    }
   ],
   "source": [
    "pca_x_stdscale.hist(figsize=(15,7), bins=40, xlabelsize=6, ylabelsize=6)\n",
    "plt.show()"
   ]
  },
  {
   "cell_type": "code",
   "execution_count": 163,
   "metadata": {},
   "outputs": [
    {
     "data": {
      "image/png": "[encoded data removed]",
      "text/plain": [
       "<Figure size 1080x504 with 6 Axes>"
      ]
     },
     "metadata": {
      "needs_background": "light"
     },
     "output_type": "display_data"
    }
   ],
   "source": [
    "pca_x_normalizer.hist(figsize=(15,7), bins=40, xlabelsize=6, ylabelsize=6)\n",
    "plt.show()"
   ]
  },
  {
   "cell_type": "markdown",
   "metadata": {},
   "source": [
    "## 4.3. Shapiro (Normallik) Testi\n",
    "\n",
    "Normalizasyon isleminden sonra degiskenlerin normallik testine uyup uymadigini test ediyoruz. Regression uygulamak icin normallik varsayimi mevcut"
   ]
  },
  {
   "cell_type": "code",
   "execution_count": 164,
   "metadata": {},
   "outputs": [],
   "source": [
    "def shapiro_test(dataa):\n",
    "    stat, p = stats.shapiro(dataa)\n",
    "    print(\"Statistics:%3.3f, p=%.3f \" % (stat,p))\n",
    "    alpha = 0.05 \n",
    "    if p>alpha:\n",
    "        print(\"Orneklem Normal (Gaussian) Dagilimdan gelmektedir (Fail to Reject H0)\")\n",
    "    else:\n",
    "        print(\"Orneklem Normal (Gaussian) Dagilimdan gelmemektedir (reject H0)\")"
   ]
  },
  {
   "cell_type": "code",
   "execution_count": 165,
   "metadata": {},
   "outputs": [
    {
     "name": "stdout",
     "output_type": "stream",
     "text": [
      "Statistics:0.992, p=0.000 \n",
      "Orneklem Normal (Gaussian) Dagilimdan gelmemektedir (reject H0)\n"
     ]
    }
   ],
   "source": [
    "from scipy.stats import shapiro\n",
    "shapiro_test(pca_x_normalizer.iloc[:,1:2])"
   ]
  },
  {
   "cell_type": "markdown",
   "metadata": {},
   "source": [
    "# 5. Modelling"
   ]
  },
  {
   "cell_type": "markdown",
   "metadata": {},
   "source": [
    "## 5.1. Train-Test Split"
   ]
  },
  {
   "cell_type": "markdown",
   "metadata": {},
   "source": [
    "### 5.1.1. Standard Scaler Split"
   ]
  },
  {
   "cell_type": "code",
   "execution_count": 166,
   "metadata": {},
   "outputs": [
    {
     "data": {
      "text/plain": [
       "((4625, 20), (4625,), (1542, 20), (1542,))"
      ]
     },
     "execution_count": 166,
     "metadata": {},
     "output_type": "execute_result"
    }
   ],
   "source": [
    "# Standardizasyon Split\n",
    "\n",
    "xtrain, xtest, ytrain, ytest = train_test_split(pca_x_stdscale, y_20target_minmax, test_size=0.25, random_state=0)\n",
    "xtrain.shape,  ytrain.shape, xtest.shape, ytest.shape"
   ]
  },
  {
   "cell_type": "markdown",
   "metadata": {},
   "source": [
    "### 5.1.2. Normalizer Split"
   ]
  },
  {
   "cell_type": "code",
   "execution_count": 167,
   "metadata": {},
   "outputs": [
    {
     "data": {
      "text/plain": [
       "((4625, 5), (4625,), (1542, 5), (1542,))"
      ]
     },
     "execution_count": 167,
     "metadata": {},
     "output_type": "execute_result"
    }
   ],
   "source": [
    "# Normalization Split\n",
    "\n",
    "xtrain, xtest, ytrain, ytest = train_test_split(pca_x_normalizer, y_20target_minmax, test_size=0.25, random_state=0)\n",
    "xtrain.shape,  ytrain.shape, xtest.shape, ytest.shape"
   ]
  },
  {
   "cell_type": "markdown",
   "metadata": {},
   "source": [
    "### 5.1.3. Min-Max Split"
   ]
  },
  {
   "cell_type": "code",
   "execution_count": 168,
   "metadata": {},
   "outputs": [
    {
     "data": {
      "text/plain": [
       "((4625, 14), (4625,), (1542, 14), (1542,))"
      ]
     },
     "execution_count": 168,
     "metadata": {},
     "output_type": "execute_result"
    }
   ],
   "source": [
    "xtrain, xtest, ytrain, ytest = train_test_split(pca_x_minmax, y_20target_minmax, test_size=0.25, random_state=0)\n",
    "xtrain.shape,  ytrain.shape, xtest.shape, ytest.shape"
   ]
  },
  {
   "cell_type": "markdown",
   "metadata": {},
   "source": [
    "## 5.2. Multiple Linear Regression\n",
    "\n",
    "## - Using Min-Max Normalization"
   ]
  },
  {
   "cell_type": "code",
   "execution_count": 169,
   "metadata": {},
   "outputs": [
    {
     "data": {
      "text/html": [
       "<table class=\"simpletable\">\n",
       "<caption>OLS Regression Results</caption>\n",
       "<tr>\n",
       "  <th>Dep. Variable:</th>        <td>20_target</td>    <th>  R-squared:         </th> <td>   0.008</td>\n",
       "</tr>\n",
       "<tr>\n",
       "  <th>Model:</th>                   <td>OLS</td>       <th>  Adj. R-squared:    </th> <td>   0.005</td>\n",
       "</tr>\n",
       "<tr>\n",
       "  <th>Method:</th>             <td>Least Squares</td>  <th>  F-statistic:       </th> <td>   2.527</td>\n",
       "</tr>\n",
       "<tr>\n",
       "  <th>Date:</th>             <td>Sun, 23 Aug 2020</td> <th>  Prob (F-statistic):</th>  <td>0.00133</td>\n",
       "</tr>\n",
       "<tr>\n",
       "  <th>Time:</th>                 <td>14:26:41</td>     <th>  Log-Likelihood:    </th> <td> -4769.1</td>\n",
       "</tr>\n",
       "<tr>\n",
       "  <th>No. Observations:</th>      <td>  4625</td>      <th>  AIC:               </th> <td>   9566.</td>\n",
       "</tr>\n",
       "<tr>\n",
       "  <th>Df Residuals:</th>          <td>  4611</td>      <th>  BIC:               </th> <td>   9656.</td>\n",
       "</tr>\n",
       "<tr>\n",
       "  <th>Df Model:</th>              <td>    14</td>      <th>                     </th>     <td> </td>   \n",
       "</tr>\n",
       "<tr>\n",
       "  <th>Covariance Type:</th>      <td>nonrobust</td>    <th>                     </th>     <td> </td>   \n",
       "</tr>\n",
       "</table>\n",
       "<table class=\"simpletable\">\n",
       "<tr>\n",
       "   <td></td>      <th>coef</th>     <th>std err</th>      <th>t</th>      <th>P>|t|</th>  <th>[0.025</th>    <th>0.975]</th>  \n",
       "</tr>\n",
       "<tr>\n",
       "  <th>x1</th>  <td>   -0.0083</td> <td>    0.008</td> <td>   -1.017</td> <td> 0.309</td> <td>   -0.024</td> <td>    0.008</td>\n",
       "</tr>\n",
       "<tr>\n",
       "  <th>x2</th>  <td>   -0.0321</td> <td>    0.011</td> <td>   -2.898</td> <td> 0.004</td> <td>   -0.054</td> <td>   -0.010</td>\n",
       "</tr>\n",
       "<tr>\n",
       "  <th>x3</th>  <td>   -0.0095</td> <td>    0.017</td> <td>   -0.570</td> <td> 0.569</td> <td>   -0.042</td> <td>    0.023</td>\n",
       "</tr>\n",
       "<tr>\n",
       "  <th>x4</th>  <td>    0.0417</td> <td>    0.020</td> <td>    2.097</td> <td> 0.036</td> <td>    0.003</td> <td>    0.081</td>\n",
       "</tr>\n",
       "<tr>\n",
       "  <th>x5</th>  <td>    0.0139</td> <td>    0.025</td> <td>    0.565</td> <td> 0.572</td> <td>   -0.034</td> <td>    0.062</td>\n",
       "</tr>\n",
       "<tr>\n",
       "  <th>x6</th>  <td>   -0.0144</td> <td>    0.025</td> <td>   -0.579</td> <td> 0.562</td> <td>   -0.063</td> <td>    0.034</td>\n",
       "</tr>\n",
       "<tr>\n",
       "  <th>x7</th>  <td>    0.0319</td> <td>    0.027</td> <td>    1.164</td> <td> 0.245</td> <td>   -0.022</td> <td>    0.086</td>\n",
       "</tr>\n",
       "<tr>\n",
       "  <th>x8</th>  <td>   -0.0559</td> <td>    0.029</td> <td>   -1.907</td> <td> 0.057</td> <td>   -0.113</td> <td>    0.002</td>\n",
       "</tr>\n",
       "<tr>\n",
       "  <th>x9</th>  <td>   -0.0836</td> <td>    0.030</td> <td>   -2.772</td> <td> 0.006</td> <td>   -0.143</td> <td>   -0.024</td>\n",
       "</tr>\n",
       "<tr>\n",
       "  <th>x10</th> <td>    0.0167</td> <td>    0.033</td> <td>    0.509</td> <td> 0.611</td> <td>   -0.048</td> <td>    0.081</td>\n",
       "</tr>\n",
       "<tr>\n",
       "  <th>x11</th> <td>    0.0519</td> <td>    0.035</td> <td>    1.499</td> <td> 0.134</td> <td>   -0.016</td> <td>    0.120</td>\n",
       "</tr>\n",
       "<tr>\n",
       "  <th>x12</th> <td>   -0.0280</td> <td>    0.037</td> <td>   -0.751</td> <td> 0.452</td> <td>   -0.101</td> <td>    0.045</td>\n",
       "</tr>\n",
       "<tr>\n",
       "  <th>x13</th> <td>   -0.0644</td> <td>    0.037</td> <td>   -1.724</td> <td> 0.085</td> <td>   -0.138</td> <td>    0.009</td>\n",
       "</tr>\n",
       "<tr>\n",
       "  <th>x14</th> <td>   -0.0532</td> <td>    0.040</td> <td>   -1.324</td> <td> 0.186</td> <td>   -0.132</td> <td>    0.026</td>\n",
       "</tr>\n",
       "</table>\n",
       "<table class=\"simpletable\">\n",
       "<tr>\n",
       "  <th>Omnibus:</th>       <td> 0.935</td> <th>  Durbin-Watson:     </th> <td>   0.943</td> \n",
       "</tr>\n",
       "<tr>\n",
       "  <th>Prob(Omnibus):</th> <td> 0.627</td> <th>  Jarque-Bera (JB):  </th> <td> 684.567</td> \n",
       "</tr>\n",
       "<tr>\n",
       "  <th>Skew:</th>          <td> 0.035</td> <th>  Prob(JB):          </th> <td>2.23e-149</td>\n",
       "</tr>\n",
       "<tr>\n",
       "  <th>Kurtosis:</th>      <td> 1.117</td> <th>  Cond. No.          </th> <td>    4.95</td> \n",
       "</tr>\n",
       "</table><br/><br/>Warnings:<br/>[1] Standard Errors assume that the covariance matrix of the errors is correctly specified."
      ],
      "text/plain": [
       "<class 'statsmodels.iolib.summary.Summary'>\n",
       "\"\"\"\n",
       "                            OLS Regression Results                            \n",
       "==============================================================================\n",
       "Dep. Variable:              20_target   R-squared:                       0.008\n",
       "Model:                            OLS   Adj. R-squared:                  0.005\n",
       "Method:                 Least Squares   F-statistic:                     2.527\n",
       "Date:                Sun, 23 Aug 2020   Prob (F-statistic):            0.00133\n",
       "Time:                        14:26:41   Log-Likelihood:                -4769.1\n",
       "No. Observations:                4625   AIC:                             9566.\n",
       "Df Residuals:                    4611   BIC:                             9656.\n",
       "Df Model:                          14                                         \n",
       "Covariance Type:            nonrobust                                         \n",
       "==============================================================================\n",
       "                 coef    std err          t      P>|t|      [0.025      0.975]\n",
       "------------------------------------------------------------------------------\n",
       "x1            -0.0083      0.008     -1.017      0.309      -0.024       0.008\n",
       "x2            -0.0321      0.011     -2.898      0.004      -0.054      -0.010\n",
       "x3            -0.0095      0.017     -0.570      0.569      -0.042       0.023\n",
       "x4             0.0417      0.020      2.097      0.036       0.003       0.081\n",
       "x5             0.0139      0.025      0.565      0.572      -0.034       0.062\n",
       "x6            -0.0144      0.025     -0.579      0.562      -0.063       0.034\n",
       "x7             0.0319      0.027      1.164      0.245      -0.022       0.086\n",
       "x8            -0.0559      0.029     -1.907      0.057      -0.113       0.002\n",
       "x9            -0.0836      0.030     -2.772      0.006      -0.143      -0.024\n",
       "x10            0.0167      0.033      0.509      0.611      -0.048       0.081\n",
       "x11            0.0519      0.035      1.499      0.134      -0.016       0.120\n",
       "x12           -0.0280      0.037     -0.751      0.452      -0.101       0.045\n",
       "x13           -0.0644      0.037     -1.724      0.085      -0.138       0.009\n",
       "x14           -0.0532      0.040     -1.324      0.186      -0.132       0.026\n",
       "==============================================================================\n",
       "Omnibus:                        0.935   Durbin-Watson:                   0.943\n",
       "Prob(Omnibus):                  0.627   Jarque-Bera (JB):              684.567\n",
       "Skew:                           0.035   Prob(JB):                    2.23e-149\n",
       "Kurtosis:                       1.117   Cond. No.                         4.95\n",
       "==============================================================================\n",
       "\n",
       "Warnings:\n",
       "[1] Standard Errors assume that the covariance matrix of the errors is correctly specified.\n",
       "\"\"\""
      ]
     },
     "execution_count": 169,
     "metadata": {},
     "output_type": "execute_result"
    }
   ],
   "source": [
    "lm = sm.OLS(ytrain, np.asarray(xtrain))\n",
    "model = lm.fit()\n",
    "model.summary()"
   ]
  },
  {
   "cell_type": "markdown",
   "metadata": {},
   "source": [
    "### 5.2.1. Elimination 1"
   ]
  },
  {
   "cell_type": "code",
   "execution_count": 170,
   "metadata": {
    "scrolled": false
   },
   "outputs": [
    {
     "name": "stdout",
     "output_type": "stream",
     "text": [
      "                            OLS Regression Results                            \n",
      "==============================================================================\n",
      "Dep. Variable:              20_target   R-squared:                       0.008\n",
      "Model:                            OLS   Adj. R-squared:                  0.005\n",
      "Method:                 Least Squares   F-statistic:                     2.696\n",
      "Date:                Sun, 23 Aug 2020   Prob (F-statistic):           0.000859\n",
      "Time:                        14:26:41   Log-Likelihood:                -4769.2\n",
      "No. Observations:                4625   AIC:                             9564.\n",
      "Df Residuals:                    4612   BIC:                             9648.\n",
      "Df Model:                          13                                         \n",
      "Covariance Type:            nonrobust                                         \n",
      "==============================================================================\n",
      "                 coef    std err          t      P>|t|      [0.025      0.975]\n",
      "------------------------------------------------------------------------------\n",
      "x1            -0.0084      0.008     -1.031      0.303      -0.024       0.008\n",
      "x2            -0.0320      0.011     -2.893      0.004      -0.054      -0.010\n",
      "x3            -0.0096      0.017     -0.571      0.568      -0.042       0.023\n",
      "x4             0.0417      0.020      2.096      0.036       0.003       0.081\n",
      "x5             0.0136      0.024      0.554      0.580      -0.034       0.062\n",
      "x6             0.0319      0.027      1.163      0.245      -0.022       0.086\n",
      "x7            -0.0559      0.029     -1.908      0.056      -0.113       0.002\n",
      "x8            -0.0837      0.030     -2.772      0.006      -0.143      -0.024\n",
      "x9             0.0168      0.033      0.512      0.609      -0.048       0.081\n",
      "x10            0.0520      0.035      1.501      0.133      -0.016       0.120\n",
      "x11           -0.0281      0.037     -0.754      0.451      -0.101       0.045\n",
      "x12           -0.0646      0.037     -1.731      0.084      -0.138       0.009\n",
      "x13           -0.0533      0.040     -1.328      0.184      -0.132       0.025\n",
      "==============================================================================\n",
      "Omnibus:                        0.932   Durbin-Watson:                   0.943\n",
      "Prob(Omnibus):                  0.627   Jarque-Bera (JB):              685.011\n",
      "Skew:                           0.035   Prob(JB):                    1.79e-149\n",
      "Kurtosis:                       1.116   Cond. No.                         4.95\n",
      "==============================================================================\n",
      "\n",
      "Warnings:\n",
      "[1] Standard Errors assume that the covariance matrix of the errors is correctly specified.\n"
     ]
    }
   ],
   "source": [
    "xtrain = xtrain.drop([5], axis=1)\n",
    "lm = sm.OLS(ytrain, np.asarray(xtrain))\n",
    "model = lm.fit()\n",
    "print(model.summary())"
   ]
  },
  {
   "cell_type": "markdown",
   "metadata": {},
   "source": [
    "### 5.2.2. Elimination 2"
   ]
  },
  {
   "cell_type": "code",
   "execution_count": 171,
   "metadata": {},
   "outputs": [
    {
     "name": "stdout",
     "output_type": "stream",
     "text": [
      "                            OLS Regression Results                            \n",
      "==============================================================================\n",
      "Dep. Variable:              20_target   R-squared:                       0.007\n",
      "Model:                            OLS   Adj. R-squared:                  0.005\n",
      "Method:                 Least Squares   F-statistic:                     2.894\n",
      "Date:                Sun, 23 Aug 2020   Prob (F-statistic):           0.000535\n",
      "Time:                        14:26:41   Log-Likelihood:                -4769.4\n",
      "No. Observations:                4625   AIC:                             9563.\n",
      "Df Residuals:                    4613   BIC:                             9640.\n",
      "Df Model:                          12                                         \n",
      "Covariance Type:            nonrobust                                         \n",
      "==============================================================================\n",
      "                 coef    std err          t      P>|t|      [0.025      0.975]\n",
      "------------------------------------------------------------------------------\n",
      "x1            -0.0083      0.008     -1.026      0.305      -0.024       0.008\n",
      "x2            -0.0320      0.011     -2.893      0.004      -0.054      -0.010\n",
      "x3             0.0415      0.020      2.090      0.037       0.003       0.081\n",
      "x4             0.0135      0.024      0.550      0.582      -0.035       0.061\n",
      "x5             0.0319      0.027      1.162      0.245      -0.022       0.086\n",
      "x6            -0.0560      0.029     -1.913      0.056      -0.113       0.001\n",
      "x7            -0.0835      0.030     -2.769      0.006      -0.143      -0.024\n",
      "x8             0.0165      0.033      0.504      0.614      -0.048       0.081\n",
      "x9             0.0519      0.035      1.497      0.134      -0.016       0.120\n",
      "x10           -0.0280      0.037     -0.751      0.453      -0.101       0.045\n",
      "x11           -0.0645      0.037     -1.729      0.084      -0.138       0.009\n",
      "x12           -0.0532      0.040     -1.324      0.186      -0.132       0.026\n",
      "==============================================================================\n",
      "Omnibus:                        0.958   Durbin-Watson:                   0.942\n",
      "Prob(Omnibus):                  0.619   Jarque-Bera (JB):              685.502\n",
      "Skew:                           0.035   Prob(JB):                    1.40e-149\n",
      "Kurtosis:                       1.115   Cond. No.                         4.95\n",
      "==============================================================================\n",
      "\n",
      "Warnings:\n",
      "[1] Standard Errors assume that the covariance matrix of the errors is correctly specified.\n"
     ]
    }
   ],
   "source": [
    "xtrain = xtrain.drop([2], axis=1)\n",
    "lm = sm.OLS(ytrain, np.asarray(xtrain))\n",
    "model = lm.fit()\n",
    "print(model.summary())"
   ]
  },
  {
   "cell_type": "markdown",
   "metadata": {},
   "source": [
    "# 6. Evaluation"
   ]
  },
  {
   "cell_type": "markdown",
   "metadata": {},
   "source": [
    "### 6.1. Hata Karelerinin Hesaplanmasi"
   ]
  },
  {
   "cell_type": "code",
   "execution_count": 172,
   "metadata": {},
   "outputs": [
    {
     "data": {
      "text/html": [
       "<div>\n",
       "<style scoped>\n",
       "    .dataframe tbody tr th:only-of-type {\n",
       "        vertical-align: middle;\n",
       "    }\n",
       "\n",
       "    .dataframe tbody tr th {\n",
       "        vertical-align: top;\n",
       "    }\n",
       "\n",
       "    .dataframe thead th {\n",
       "        text-align: right;\n",
       "    }\n",
       "</style>\n",
       "<table border=\"1\" class=\"dataframe\">\n",
       "  <thead>\n",
       "    <tr style=\"text-align: right;\">\n",
       "      <th></th>\n",
       "      <th>gercek_y</th>\n",
       "      <th>tahmin_y</th>\n",
       "      <th>hata</th>\n",
       "      <th>hata_kare</th>\n",
       "    </tr>\n",
       "  </thead>\n",
       "  <tbody>\n",
       "    <tr>\n",
       "      <th>4819</th>\n",
       "      <td>0.030463</td>\n",
       "      <td>-0.016456</td>\n",
       "      <td>0.046919</td>\n",
       "      <td>0.002201</td>\n",
       "    </tr>\n",
       "    <tr>\n",
       "      <th>3856</th>\n",
       "      <td>0.012222</td>\n",
       "      <td>-0.020580</td>\n",
       "      <td>0.032802</td>\n",
       "      <td>0.001076</td>\n",
       "    </tr>\n",
       "    <tr>\n",
       "      <th>3888</th>\n",
       "      <td>0.013677</td>\n",
       "      <td>-0.057186</td>\n",
       "      <td>0.070863</td>\n",
       "      <td>0.005022</td>\n",
       "    </tr>\n",
       "    <tr>\n",
       "      <th>242</th>\n",
       "      <td>0.024296</td>\n",
       "      <td>-0.002378</td>\n",
       "      <td>0.026674</td>\n",
       "      <td>0.000712</td>\n",
       "    </tr>\n",
       "    <tr>\n",
       "      <th>1507</th>\n",
       "      <td>0.996548</td>\n",
       "      <td>-0.016477</td>\n",
       "      <td>1.013025</td>\n",
       "      <td>1.026220</td>\n",
       "    </tr>\n",
       "  </tbody>\n",
       "</table>\n",
       "</div>"
      ],
      "text/plain": [
       "      gercek_y  tahmin_y      hata  hata_kare\n",
       "4819  0.030463 -0.016456  0.046919   0.002201\n",
       "3856  0.012222 -0.020580  0.032802   0.001076\n",
       "3888  0.013677 -0.057186  0.070863   0.005022\n",
       "242   0.024296 -0.002378  0.026674   0.000712\n",
       "1507  0.996548 -0.016477  1.013025   1.026220"
      ]
     },
     "execution_count": 172,
     "metadata": {},
     "output_type": "execute_result"
    }
   ],
   "source": [
    "y_pred = model.predict(xtrain)\n",
    "k_t = pd.DataFrame({\"gercek_y\":ytrain, \"tahmin_y\":y_pred})\n",
    "k_t[\"hata\"] = k_t[\"gercek_y\"] - k_t[\"tahmin_y\"]\n",
    "k_t[\"hata_kare\"] = k_t[\"hata\"]**2\n",
    "k_t.head()"
   ]
  },
  {
   "cell_type": "code",
   "execution_count": 173,
   "metadata": {},
   "outputs": [
    {
     "data": {
      "text/plain": [
       "0.4605028874196512"
      ]
     },
     "execution_count": 173,
     "metadata": {},
     "output_type": "execute_result"
    }
   ],
   "source": [
    "np.sum(k_t[\"hata_kare\"])\n",
    "np.mean(k_t[\"hata_kare\"])"
   ]
  },
  {
   "cell_type": "markdown",
   "metadata": {},
   "source": [
    "### 6.2. Hata Karelerinin Dagilimi "
   ]
  },
  {
   "cell_type": "code",
   "execution_count": 174,
   "metadata": {},
   "outputs": [
    {
     "data": {
      "text/plain": [
       "<matplotlib.collections.PathCollection at 0x7f58e00fbf50>"
      ]
     },
     "execution_count": 174,
     "metadata": {},
     "output_type": "execute_result"
    },
    {
     "data": {
      "image/png": "[encoded data removed]",
      "text/plain": [
       "<Figure size 432x288 with 1 Axes>"
      ]
     },
     "metadata": {
      "needs_background": "light"
     },
     "output_type": "display_data"
    }
   ],
   "source": [
    "resid = model.resid\n",
    "plt.scatter(model.predict(), resid)"
   ]
  },
  {
   "cell_type": "code",
   "execution_count": 175,
   "metadata": {
    "scrolled": false
   },
   "outputs": [
    {
     "data": {
      "image/png": "[encoded data removed]",
      "text/plain": [
       "<Figure size 432x288 with 1 Axes>"
      ]
     },
     "metadata": {
      "needs_background": "light"
     },
     "output_type": "display_data"
    }
   ],
   "source": [
    "sns.distplot(np.array(model.resid), hist=False)\n",
    "plt.show()"
   ]
  },
  {
   "cell_type": "code",
   "execution_count": 176,
   "metadata": {},
   "outputs": [
    {
     "data": {
      "image/png": "[encoded data removed]",
      "text/plain": [
       "<Figure size 432x288 with 1 Axes>"
      ]
     },
     "metadata": {
      "needs_background": "light"
     },
     "output_type": "display_data"
    }
   ],
   "source": [
    "import pylab\n",
    "stats.probplot(model.resid, dist=\"norm\", plot=pylab)\n",
    "pylab.show()"
   ]
  },
  {
   "cell_type": "code",
   "execution_count": 177,
   "metadata": {},
   "outputs": [
    {
     "name": "stdout",
     "output_type": "stream",
     "text": [
      "Hatalar Normal (Gaussian) Dağılımdan gelmemektedir (reject H0)\n"
     ]
    }
   ],
   "source": [
    "from scipy.stats import shapiro\n",
    "\n",
    "stat, p =shapiro(model.resid)\n",
    "alpha = 0.05\n",
    "if p > alpha:\n",
    "    print('Hatalar Normal (Gaussian) Dağılımdan gelmektedir (Fail to Reject H0)')\n",
    "else:\n",
    "    print('Hatalar Normal (Gaussian) Dağılımdan gelmemektedir (reject H0)')"
   ]
  },
  {
   "cell_type": "code",
   "execution_count": 182,
   "metadata": {},
   "outputs": [
    {
     "name": "stdout",
     "output_type": "stream",
     "text": [
      "Train RMSE:  0.6786036305676905\n",
      "Test  RMSE:  0.6966517125231232\n"
     ]
    }
   ],
   "source": [
    "from sklearn.metrics import mean_squared_error, r2_score\n",
    "print(\"Train RMSE: \",np.sqrt(mean_squared_error(ytrain, y_pred)))\n",
    "print(\"Test  RMSE: \",np.sqrt(mean_squared_error(ytest, model.predict(xtest[xtrain.columns]))))"
   ]
  },
  {
   "cell_type": "code",
   "execution_count": 183,
   "metadata": {},
   "outputs": [
    {
     "data": {
      "image/png": "[encoded data removed]",
      "text/plain": [
       "<Figure size 432x288 with 1 Axes>"
      ]
     },
     "metadata": {
      "needs_background": "light"
     },
     "output_type": "display_data"
    }
   ],
   "source": [
    "plt.plot(model.resid)\n",
    "plt.show()"
   ]
  },
  {
   "cell_type": "code",
   "execution_count": null,
   "metadata": {},
   "outputs": [],
   "source": []
  }
 ],
 "metadata": {
  "kernelspec": {
   "display_name": "Python 3",
   "language": "python",
   "name": "python3"
  },
  "language_info": {
   "codemirror_mode": {
    "name": "ipython",
    "version": 3
   },
   "file_extension": ".py",
   "mimetype": "text/x-python",
   "name": "python",
   "nbconvert_exporter": "python",
   "pygments_lexer": "ipython3",
   "version": "3.7.4"
  }
 },
 "nbformat": 4,
 "nbformat_minor": 2
}
