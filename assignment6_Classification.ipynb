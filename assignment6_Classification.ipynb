{
 "cells": [
  {
   "cell_type": "code",
   "execution_count": 26,
   "metadata": {
    "colab": {},
    "colab_type": "code",
    "id": "M1meCQDTxqHy"
   },
   "outputs": [],
   "source": [
    "import numpy as np\n",
    "import pandas as pd \n",
    "import statsmodels.api as sm\n",
    "import statsmodels.formula.api as smf\n",
    "import seaborn as sns\n",
    "import matplotlib.pyplot as plt\n",
    "from sklearn.preprocessing import scale, MinMaxScaler, Normalizer, StandardScaler, MaxAbsScaler\n",
    "from sklearn.model_selection import train_test_split, GridSearchCV, cross_val_score\n",
    "from sklearn.metrics import confusion_matrix, accuracy_score, classification_report\n",
    "from sklearn.metrics import precision_score, recall_score, f1_score\n",
    "from sklearn.metrics import roc_auc_score,roc_curve\n",
    "import statsmodels.formula.api as smf\n",
    "from sklearn.linear_model import LogisticRegression\n",
    "from sklearn import preprocessing\n",
    "from sklearn.tree import DecisionTreeClassifier\n",
    "from sklearn.ensemble import RandomForestClassifier\n",
    "from sklearn.neural_network import MLPClassifier\n",
    "from sklearn.decomposition import PCA\n",
    "from sklearn import tree \n",
    "import timeit\n",
    "from warnings import filterwarnings\n",
    "filterwarnings('ignore')"
   ]
  },
  {
   "cell_type": "markdown",
   "metadata": {
    "colab_type": "text",
    "id": "ZPw0DnhZxqJ0"
   },
   "source": [
    "# **1. Data Exploration**"
   ]
  },
  {
   "cell_type": "markdown",
   "metadata": {
    "colab_type": "text",
    "id": "MGWP3TruxqJ2"
   },
   "source": [
    "### **1.1.  Veri Degiskenlerinin Aciklanmasi**"
   ]
  },
  {
   "cell_type": "markdown",
   "metadata": {
    "colab_type": "text",
    "id": "vf7hS8DBxqJ3"
   },
   "source": [
    "**BAD:** BAD değişkeni veri setinde hedef değişkenidir. **'1'** kişinin borcunu zamanında ve usulüne göre yerine getirmediği durum. **'0'** kredi borcunu zamanında ödemiş. \n",
    "\n",
    "**LOAN:** Bankadan talep ettiği kredi miktarı \n",
    "\n",
    "**MORTDUE:** İpotek için ödemesi gereken tutar\n",
    "\n",
    "**VALUE:** Müşterinin geçerli mülk değeri\n",
    "\n",
    "**REASON:** **DebtCont=** diğer borç yükümlülükleri için alınan borç. **HomeImp=** Kişisel ev ihtiyaçları için alınan borç \n",
    "\n",
    "**JOB:** Müşterinin meslek (kategorik veri)\n",
    "\n",
    "**YOJ:** Mevcut mesleğinde kaç yıldır çalışıyor\n",
    "\n",
    "**DEROG:** Kredi almasını etkileyen önemli zararlı/uygunsuz rapor sayısı\n",
    "\n",
    "**DELINQ:** Zamanında ödenmemiş kredi sayısı\n",
    "\n",
    "**CLAGE:** Aylar içinde en eski kredi limitinin yaşı\n",
    "\n",
    "**NINQ:** Kredi ile ilgili son yapılan sorgu sayısı\n",
    "\n",
    "**CLNO:** Kredi limitinin sayısı \n",
    "\n",
    "**DEBTINC:** Müşterinin borç-gelir oranı "
   ]
  },
  {
   "cell_type": "code",
   "execution_count": 39,
   "metadata": {
    "colab": {
     "base_uri": "https://localhost:8080/",
     "height": 206
    },
    "colab_type": "code",
    "id": "pm7_ONOZxqJ4",
    "outputId": "1a6e5342-4ee2-462d-a940-364bdfe2163f"
   },
   "outputs": [
    {
     "data": {
      "text/html": [
       "<div>\n",
       "<style scoped>\n",
       "    .dataframe tbody tr th:only-of-type {\n",
       "        vertical-align: middle;\n",
       "    }\n",
       "\n",
       "    .dataframe tbody tr th {\n",
       "        vertical-align: top;\n",
       "    }\n",
       "\n",
       "    .dataframe thead th {\n",
       "        text-align: right;\n",
       "    }\n",
       "</style>\n",
       "<table border=\"1\" class=\"dataframe\">\n",
       "  <thead>\n",
       "    <tr style=\"text-align: right;\">\n",
       "      <th></th>\n",
       "      <th>bad</th>\n",
       "      <th>loan</th>\n",
       "      <th>mortdue</th>\n",
       "      <th>value</th>\n",
       "      <th>reason</th>\n",
       "      <th>job</th>\n",
       "      <th>yoj</th>\n",
       "      <th>derog</th>\n",
       "      <th>delinq</th>\n",
       "      <th>clage</th>\n",
       "      <th>ninq</th>\n",
       "      <th>clno</th>\n",
       "      <th>debtinc</th>\n",
       "    </tr>\n",
       "  </thead>\n",
       "  <tbody>\n",
       "    <tr>\n",
       "      <th>0</th>\n",
       "      <td>0</td>\n",
       "      <td>81200</td>\n",
       "      <td>18834.0</td>\n",
       "      <td>108355.0</td>\n",
       "      <td>HomeImp</td>\n",
       "      <td>NaN</td>\n",
       "      <td>28.0</td>\n",
       "      <td>0.0</td>\n",
       "      <td>0.0</td>\n",
       "      <td>139.14</td>\n",
       "      <td>0.0</td>\n",
       "      <td>14.0</td>\n",
       "      <td>34.042</td>\n",
       "    </tr>\n",
       "    <tr>\n",
       "      <th>1</th>\n",
       "      <td>0</td>\n",
       "      <td>12600</td>\n",
       "      <td>103960.0</td>\n",
       "      <td>127384.0</td>\n",
       "      <td>DebtCon</td>\n",
       "      <td>NaN</td>\n",
       "      <td>2.0</td>\n",
       "      <td>0.0</td>\n",
       "      <td>0.0</td>\n",
       "      <td>129.02</td>\n",
       "      <td>0.0</td>\n",
       "      <td>25.0</td>\n",
       "      <td>34.479</td>\n",
       "    </tr>\n",
       "    <tr>\n",
       "      <th>2</th>\n",
       "      <td>0</td>\n",
       "      <td>18000</td>\n",
       "      <td>46865.0</td>\n",
       "      <td>61266.0</td>\n",
       "      <td>DebtCon</td>\n",
       "      <td>NaN</td>\n",
       "      <td>5.0</td>\n",
       "      <td>0.0</td>\n",
       "      <td>0.0</td>\n",
       "      <td>102.59</td>\n",
       "      <td>2.0</td>\n",
       "      <td>9.0</td>\n",
       "      <td>26.354</td>\n",
       "    </tr>\n",
       "    <tr>\n",
       "      <th>3</th>\n",
       "      <td>0</td>\n",
       "      <td>10300</td>\n",
       "      <td>57676.0</td>\n",
       "      <td>71027.0</td>\n",
       "      <td>DebtCon</td>\n",
       "      <td>NaN</td>\n",
       "      <td>19.0</td>\n",
       "      <td>0.0</td>\n",
       "      <td>0.0</td>\n",
       "      <td>157.52</td>\n",
       "      <td>1.0</td>\n",
       "      <td>11.0</td>\n",
       "      <td>33.992</td>\n",
       "    </tr>\n",
       "    <tr>\n",
       "      <th>4</th>\n",
       "      <td>0</td>\n",
       "      <td>9400</td>\n",
       "      <td>56508.0</td>\n",
       "      <td>78358.0</td>\n",
       "      <td>DebtCon</td>\n",
       "      <td>NaN</td>\n",
       "      <td>17.0</td>\n",
       "      <td>0.0</td>\n",
       "      <td>0.0</td>\n",
       "      <td>141.93</td>\n",
       "      <td>0.0</td>\n",
       "      <td>11.0</td>\n",
       "      <td>32.327</td>\n",
       "    </tr>\n",
       "  </tbody>\n",
       "</table>\n",
       "</div>"
      ],
      "text/plain": [
       "   bad   loan   mortdue     value   reason  ... delinq   clage  ninq  clno  debtinc\n",
       "0    0  81200   18834.0  108355.0  HomeImp  ...    0.0  139.14   0.0  14.0   34.042\n",
       "1    0  12600  103960.0  127384.0  DebtCon  ...    0.0  129.02   0.0  25.0   34.479\n",
       "2    0  18000   46865.0   61266.0  DebtCon  ...    0.0  102.59   2.0   9.0   26.354\n",
       "3    0  10300   57676.0   71027.0  DebtCon  ...    0.0  157.52   1.0  11.0   33.992\n",
       "4    0   9400   56508.0   78358.0  DebtCon  ...    0.0  141.93   0.0  11.0   32.327\n",
       "\n",
       "[5 rows x 13 columns]"
      ]
     },
     "execution_count": 39,
     "metadata": {
      "tags": []
     },
     "output_type": "execute_result"
    }
   ],
   "source": [
    "data = pd.read_csv(\"/content/drive/My Drive/Colab Notebooks/Veri-Bilimi-Bootcamp/hmelq.csv\")\n",
    "data.head()"
   ]
  },
  {
   "cell_type": "markdown",
   "metadata": {
    "colab_type": "text",
    "id": "eHcVxyBBxqKG"
   },
   "source": [
    "### **1.2. Verilerin Istatistiksel Dagilimi**"
   ]
  },
  {
   "cell_type": "code",
   "execution_count": 40,
   "metadata": {
    "colab": {
     "base_uri": "https://localhost:8080/",
     "height": 412
    },
    "colab_type": "code",
    "id": "drlEnU5sxqKH",
    "outputId": "4e56890f-35ee-4ab0-fac4-5522ea4b1d61"
   },
   "outputs": [
    {
     "name": "stdout",
     "output_type": "stream",
     "text": [
      "Shape:  (3576, 13)\n"
     ]
    },
    {
     "data": {
      "text/html": [
       "<div>\n",
       "<style scoped>\n",
       "    .dataframe tbody tr th:only-of-type {\n",
       "        vertical-align: middle;\n",
       "    }\n",
       "\n",
       "    .dataframe tbody tr th {\n",
       "        vertical-align: top;\n",
       "    }\n",
       "\n",
       "    .dataframe thead th {\n",
       "        text-align: right;\n",
       "    }\n",
       "</style>\n",
       "<table border=\"1\" class=\"dataframe\">\n",
       "  <thead>\n",
       "    <tr style=\"text-align: right;\">\n",
       "      <th></th>\n",
       "      <th>count</th>\n",
       "      <th>mean</th>\n",
       "      <th>std</th>\n",
       "      <th>min</th>\n",
       "      <th>25%</th>\n",
       "      <th>50%</th>\n",
       "      <th>75%</th>\n",
       "      <th>max</th>\n",
       "      <th>variance</th>\n",
       "      <th>null_values</th>\n",
       "      <th>null__rate</th>\n",
       "    </tr>\n",
       "  </thead>\n",
       "  <tbody>\n",
       "    <tr>\n",
       "      <th>bad</th>\n",
       "      <td>3576.0</td>\n",
       "      <td>0.199385</td>\n",
       "      <td>0.399594</td>\n",
       "      <td>0.00</td>\n",
       "      <td>0.00</td>\n",
       "      <td>0.000</td>\n",
       "      <td>0.00</td>\n",
       "      <td>1.000</td>\n",
       "      <td>1.600000e-01</td>\n",
       "      <td>0.0</td>\n",
       "      <td>0.000</td>\n",
       "    </tr>\n",
       "    <tr>\n",
       "      <th>loan</th>\n",
       "      <td>3576.0</td>\n",
       "      <td>18529.697987</td>\n",
       "      <td>11262.834060</td>\n",
       "      <td>1100.00</td>\n",
       "      <td>11000.00</td>\n",
       "      <td>16200.000</td>\n",
       "      <td>23100.00</td>\n",
       "      <td>89900.000</td>\n",
       "      <td>1.268514e+08</td>\n",
       "      <td>0.0</td>\n",
       "      <td>0.000</td>\n",
       "    </tr>\n",
       "    <tr>\n",
       "      <th>mortdue</th>\n",
       "      <td>3262.0</td>\n",
       "      <td>74013.907992</td>\n",
       "      <td>44016.833772</td>\n",
       "      <td>2619.00</td>\n",
       "      <td>46700.25</td>\n",
       "      <td>65858.000</td>\n",
       "      <td>91717.00</td>\n",
       "      <td>399550.000</td>\n",
       "      <td>1.937482e+09</td>\n",
       "      <td>314.0</td>\n",
       "      <td>9.626</td>\n",
       "    </tr>\n",
       "    <tr>\n",
       "      <th>value</th>\n",
       "      <td>3512.0</td>\n",
       "      <td>101076.922759</td>\n",
       "      <td>54865.275351</td>\n",
       "      <td>8800.00</td>\n",
       "      <td>65753.00</td>\n",
       "      <td>89183.000</td>\n",
       "      <td>118928.25</td>\n",
       "      <td>850000.000</td>\n",
       "      <td>3.010198e+09</td>\n",
       "      <td>64.0</td>\n",
       "      <td>1.822</td>\n",
       "    </tr>\n",
       "    <tr>\n",
       "      <th>yoj</th>\n",
       "      <td>3264.0</td>\n",
       "      <td>8.832644</td>\n",
       "      <td>7.568046</td>\n",
       "      <td>0.00</td>\n",
       "      <td>3.00</td>\n",
       "      <td>7.000</td>\n",
       "      <td>13.00</td>\n",
       "      <td>41.000</td>\n",
       "      <td>5.727500e+01</td>\n",
       "      <td>312.0</td>\n",
       "      <td>9.559</td>\n",
       "    </tr>\n",
       "    <tr>\n",
       "      <th>derog</th>\n",
       "      <td>3149.0</td>\n",
       "      <td>0.261670</td>\n",
       "      <td>0.865178</td>\n",
       "      <td>0.00</td>\n",
       "      <td>0.00</td>\n",
       "      <td>0.000</td>\n",
       "      <td>0.00</td>\n",
       "      <td>10.000</td>\n",
       "      <td>7.490000e-01</td>\n",
       "      <td>427.0</td>\n",
       "      <td>13.560</td>\n",
       "    </tr>\n",
       "    <tr>\n",
       "      <th>delinq</th>\n",
       "      <td>3225.0</td>\n",
       "      <td>0.432558</td>\n",
       "      <td>1.099230</td>\n",
       "      <td>0.00</td>\n",
       "      <td>0.00</td>\n",
       "      <td>0.000</td>\n",
       "      <td>0.00</td>\n",
       "      <td>15.000</td>\n",
       "      <td>1.208000e+00</td>\n",
       "      <td>351.0</td>\n",
       "      <td>10.884</td>\n",
       "    </tr>\n",
       "    <tr>\n",
       "      <th>clage</th>\n",
       "      <td>3397.0</td>\n",
       "      <td>179.832529</td>\n",
       "      <td>87.066198</td>\n",
       "      <td>0.49</td>\n",
       "      <td>115.60</td>\n",
       "      <td>173.640</td>\n",
       "      <td>230.71</td>\n",
       "      <td>1168.230</td>\n",
       "      <td>7.580523e+03</td>\n",
       "      <td>179.0</td>\n",
       "      <td>5.269</td>\n",
       "    </tr>\n",
       "    <tr>\n",
       "      <th>ninq</th>\n",
       "      <td>3273.0</td>\n",
       "      <td>1.186373</td>\n",
       "      <td>1.728723</td>\n",
       "      <td>0.00</td>\n",
       "      <td>0.00</td>\n",
       "      <td>1.000</td>\n",
       "      <td>2.00</td>\n",
       "      <td>17.000</td>\n",
       "      <td>2.988000e+00</td>\n",
       "      <td>303.0</td>\n",
       "      <td>9.258</td>\n",
       "    </tr>\n",
       "    <tr>\n",
       "      <th>clno</th>\n",
       "      <td>3443.0</td>\n",
       "      <td>21.507116</td>\n",
       "      <td>10.167490</td>\n",
       "      <td>0.00</td>\n",
       "      <td>15.00</td>\n",
       "      <td>20.000</td>\n",
       "      <td>26.00</td>\n",
       "      <td>71.000</td>\n",
       "      <td>1.033780e+02</td>\n",
       "      <td>133.0</td>\n",
       "      <td>3.863</td>\n",
       "    </tr>\n",
       "    <tr>\n",
       "      <th>debtinc</th>\n",
       "      <td>2809.0</td>\n",
       "      <td>33.831737</td>\n",
       "      <td>9.061837</td>\n",
       "      <td>0.72</td>\n",
       "      <td>29.14</td>\n",
       "      <td>34.747</td>\n",
       "      <td>38.94</td>\n",
       "      <td>203.312</td>\n",
       "      <td>8.211700e+01</td>\n",
       "      <td>767.0</td>\n",
       "      <td>27.305</td>\n",
       "    </tr>\n",
       "  </tbody>\n",
       "</table>\n",
       "</div>"
      ],
      "text/plain": [
       "          count           mean  ...  null_values  null__rate\n",
       "bad      3576.0       0.199385  ...          0.0       0.000\n",
       "loan     3576.0   18529.697987  ...          0.0       0.000\n",
       "mortdue  3262.0   74013.907992  ...        314.0       9.626\n",
       "value    3512.0  101076.922759  ...         64.0       1.822\n",
       "yoj      3264.0       8.832644  ...        312.0       9.559\n",
       "derog    3149.0       0.261670  ...        427.0      13.560\n",
       "delinq   3225.0       0.432558  ...        351.0      10.884\n",
       "clage    3397.0     179.832529  ...        179.0       5.269\n",
       "ninq     3273.0       1.186373  ...        303.0       9.258\n",
       "clno     3443.0      21.507116  ...        133.0       3.863\n",
       "debtinc  2809.0      33.831737  ...        767.0      27.305\n",
       "\n",
       "[11 rows x 11 columns]"
      ]
     },
     "execution_count": 40,
     "metadata": {
      "tags": []
     },
     "output_type": "execute_result"
    }
   ],
   "source": [
    "print(\"Shape: \", data.shape)\n",
    "describe(data).T"
   ]
  },
  {
   "cell_type": "markdown",
   "metadata": {
    "colab_type": "text",
    "id": "TcCxid3pxqKP"
   },
   "source": [
    "### **1.3. Kategorik-Numerik Degiskenlerin Incelenmesi**"
   ]
  },
  {
   "cell_type": "code",
   "execution_count": 41,
   "metadata": {
    "colab": {
     "base_uri": "https://localhost:8080/",
     "height": 173
    },
    "colab_type": "code",
    "id": "s5GS3wi1xqKR",
    "outputId": "47742ccf-abc2-406f-b82a-e99f6cb046d4"
   },
   "outputs": [
    {
     "name": "stdout",
     "output_type": "stream",
     "text": [
      "Numeric Column  :\n",
      " ['bad', 'loan', 'mortdue', 'value', 'yoj', 'derog', 'delinq', 'clage', 'ninq', 'clno', 'debtinc'] \n",
      "\n",
      "Categoric Column :\n",
      " ['reason', 'job']\n",
      "\n",
      "\n",
      "reason :  2\n",
      "job :  6\n"
     ]
    }
   ],
   "source": [
    "num, cat = numeric_categoric_variable(data)\n",
    "print(\"\\n\")\n",
    "for i in data.select_dtypes(include=[\"object\"]).columns:\n",
    "    print(i,\": \",data[i].value_counts().count())"
   ]
  },
  {
   "cell_type": "markdown",
   "metadata": {
    "colab_type": "text",
    "id": "0H4_vBCGxqKe"
   },
   "source": [
    "Burada degiskenlerde kac farkli kategori oldugunu kontrol ediyoruz. Daha onceden kategorik veriler sayisal olarak girilmis olabilir. Ancak degiskenleri inceledigimize job ve reason disinda kategorik degiskenlerin olmadigini goruyoruz. derog ve delinq degiskenlerini dusunduk ancak odenmemis kredi sayisi ve uygunsun rapor sayisi oldugundan ayrik sayisal degerler oldugunu goruyoruz."
   ]
  },
  {
   "cell_type": "code",
   "execution_count": 42,
   "metadata": {
    "colab": {
     "base_uri": "https://localhost:8080/",
     "height": 243
    },
    "colab_type": "code",
    "id": "-kHljLXZxqKn",
    "outputId": "745ccc3a-0d3d-4fef-8d6c-f2037d98c2d9"
   },
   "outputs": [
    {
     "data": {
      "text/plain": [
       "[['bad', 2],\n",
       " ['reason', 2],\n",
       " ['job', 6],\n",
       " ['derog', 11],\n",
       " ['delinq', 12],\n",
       " ['ninq', 15],\n",
       " ['clno', 61],\n",
       " ['yoj', 86],\n",
       " ['loan', 474],\n",
       " ['debtinc', 2653],\n",
       " ['clage', 3050],\n",
       " ['mortdue', 3095],\n",
       " ['value', 3302]]"
      ]
     },
     "execution_count": 42,
     "metadata": {
      "tags": []
     },
     "output_type": "execute_result"
    }
   ],
   "source": [
    "sortDifferentCategory(data)"
   ]
  },
  {
   "cell_type": "markdown",
   "metadata": {
    "colab_type": "text",
    "id": "I7VMVZy0xqK1"
   },
   "source": [
    "### **1.4. Categoric Variables using CrossTab**"
   ]
  },
  {
   "cell_type": "code",
   "execution_count": 43,
   "metadata": {
    "colab": {
     "base_uri": "https://localhost:8080/",
     "height": 143
    },
    "colab_type": "code",
    "id": "Q81GSWrwxqK4",
    "outputId": "8fb8c6c0-0bf9-43fd-b239-0aeb0974fede"
   },
   "outputs": [
    {
     "data": {
      "text/html": [
       "<div>\n",
       "<style scoped>\n",
       "    .dataframe tbody tr th:only-of-type {\n",
       "        vertical-align: middle;\n",
       "    }\n",
       "\n",
       "    .dataframe tbody tr th {\n",
       "        vertical-align: top;\n",
       "    }\n",
       "\n",
       "    .dataframe thead th {\n",
       "        text-align: right;\n",
       "    }\n",
       "</style>\n",
       "<table border=\"1\" class=\"dataframe\">\n",
       "  <thead>\n",
       "    <tr style=\"text-align: right;\">\n",
       "      <th>job</th>\n",
       "      <th>Mgr</th>\n",
       "      <th>Office</th>\n",
       "      <th>Other</th>\n",
       "      <th>ProfEx</th>\n",
       "      <th>Sales</th>\n",
       "      <th>Self</th>\n",
       "    </tr>\n",
       "    <tr>\n",
       "      <th>bad</th>\n",
       "      <th></th>\n",
       "      <th></th>\n",
       "      <th></th>\n",
       "      <th></th>\n",
       "      <th></th>\n",
       "      <th></th>\n",
       "    </tr>\n",
       "  </thead>\n",
       "  <tbody>\n",
       "    <tr>\n",
       "      <th>0</th>\n",
       "      <td>0.767896</td>\n",
       "      <td>0.86819</td>\n",
       "      <td>0.767994</td>\n",
       "      <td>0.833116</td>\n",
       "      <td>0.651515</td>\n",
       "      <td>0.704348</td>\n",
       "    </tr>\n",
       "    <tr>\n",
       "      <th>1</th>\n",
       "      <td>0.232104</td>\n",
       "      <td>0.13181</td>\n",
       "      <td>0.232006</td>\n",
       "      <td>0.166884</td>\n",
       "      <td>0.348485</td>\n",
       "      <td>0.295652</td>\n",
       "    </tr>\n",
       "  </tbody>\n",
       "</table>\n",
       "</div>"
      ],
      "text/plain": [
       "job       Mgr   Office     Other    ProfEx     Sales      Self\n",
       "bad                                                           \n",
       "0    0.767896  0.86819  0.767994  0.833116  0.651515  0.704348\n",
       "1    0.232104  0.13181  0.232006  0.166884  0.348485  0.295652"
      ]
     },
     "execution_count": 43,
     "metadata": {
      "tags": []
     },
     "output_type": "execute_result"
    }
   ],
   "source": [
    "bad_class = pd.crosstab(index=data[\"bad\"], columns=data[\"job\"], normalize=\"columns\")\n",
    "bad_class"
   ]
  },
  {
   "cell_type": "code",
   "execution_count": 44,
   "metadata": {
    "colab": {
     "base_uri": "https://localhost:8080/",
     "height": 206
    },
    "colab_type": "code",
    "id": "oiPHsb13xqLH",
    "outputId": "89c85216-976c-4f24-e458-c32121b206fb"
   },
   "outputs": [
    {
     "data": {
      "text/html": [
       "<div>\n",
       "<style scoped>\n",
       "    .dataframe tbody tr th:only-of-type {\n",
       "        vertical-align: middle;\n",
       "    }\n",
       "\n",
       "    .dataframe tbody tr th {\n",
       "        vertical-align: top;\n",
       "    }\n",
       "\n",
       "    .dataframe thead th {\n",
       "        text-align: right;\n",
       "    }\n",
       "</style>\n",
       "<table border=\"1\" class=\"dataframe\">\n",
       "  <thead>\n",
       "    <tr style=\"text-align: right;\">\n",
       "      <th></th>\n",
       "      <th>job</th>\n",
       "      <th>Mgr</th>\n",
       "      <th>Office</th>\n",
       "      <th>Other</th>\n",
       "      <th>ProfEx</th>\n",
       "      <th>Sales</th>\n",
       "      <th>Self</th>\n",
       "    </tr>\n",
       "    <tr>\n",
       "      <th>bad</th>\n",
       "      <th>reason</th>\n",
       "      <th></th>\n",
       "      <th></th>\n",
       "      <th></th>\n",
       "      <th></th>\n",
       "      <th></th>\n",
       "      <th></th>\n",
       "    </tr>\n",
       "  </thead>\n",
       "  <tbody>\n",
       "    <tr>\n",
       "      <th rowspan=\"2\" valign=\"top\">0</th>\n",
       "      <th>DebtCon</th>\n",
       "      <td>0.147216</td>\n",
       "      <td>0.172377</td>\n",
       "      <td>0.414347</td>\n",
       "      <td>0.229657</td>\n",
       "      <td>0.021413</td>\n",
       "      <td>0.014989</td>\n",
       "    </tr>\n",
       "    <tr>\n",
       "      <th>HomeImp</th>\n",
       "      <td>0.088348</td>\n",
       "      <td>0.203585</td>\n",
       "      <td>0.379001</td>\n",
       "      <td>0.257362</td>\n",
       "      <td>0.003841</td>\n",
       "      <td>0.067862</td>\n",
       "    </tr>\n",
       "    <tr>\n",
       "      <th rowspan=\"2\" valign=\"top\">1</th>\n",
       "      <th>DebtCon</th>\n",
       "      <td>0.154378</td>\n",
       "      <td>0.129032</td>\n",
       "      <td>0.460829</td>\n",
       "      <td>0.170507</td>\n",
       "      <td>0.046083</td>\n",
       "      <td>0.039171</td>\n",
       "    </tr>\n",
       "    <tr>\n",
       "      <th>HomeImp</th>\n",
       "      <td>0.144033</td>\n",
       "      <td>0.078189</td>\n",
       "      <td>0.518519</td>\n",
       "      <td>0.193416</td>\n",
       "      <td>0.012346</td>\n",
       "      <td>0.053498</td>\n",
       "    </tr>\n",
       "  </tbody>\n",
       "</table>\n",
       "</div>"
      ],
      "text/plain": [
       "job               Mgr    Office     Other    ProfEx     Sales      Self\n",
       "bad reason                                                             \n",
       "0   DebtCon  0.147216  0.172377  0.414347  0.229657  0.021413  0.014989\n",
       "    HomeImp  0.088348  0.203585  0.379001  0.257362  0.003841  0.067862\n",
       "1   DebtCon  0.154378  0.129032  0.460829  0.170507  0.046083  0.039171\n",
       "    HomeImp  0.144033  0.078189  0.518519  0.193416  0.012346  0.053498"
      ]
     },
     "execution_count": 44,
     "metadata": {
      "tags": []
     },
     "output_type": "execute_result"
    }
   ],
   "source": [
    "crosstab([data[\"bad\"], data[\"reason\"]], data[\"job\"], \"index\")"
   ]
  },
  {
   "cell_type": "markdown",
   "metadata": {
    "colab_type": "text",
    "id": "43uVZ1KvxqLL"
   },
   "source": [
    "Burada kredisini odeyen ve odemeyen incelendi ve Karar agaclarinin daha kolay islem yapabilmesi icin ikiye ayrildi. 0-2 arasi odenmemis kredisi olanlar borcunu %79 oraninda oduyor ve bu nedenle 0-2 ve 3-10 arasi seklinde ayiriyoruz. Veya Yuksek-Orta-Hic seklindede ayirabiliriz."
   ]
  },
  {
   "cell_type": "code",
   "execution_count": 45,
   "metadata": {
    "colab": {
     "base_uri": "https://localhost:8080/",
     "height": 143
    },
    "colab_type": "code",
    "id": "XX24kLb4xqLL",
    "outputId": "47747a48-b55c-44ee-a238-0288bbfd6309"
   },
   "outputs": [
    {
     "data": {
      "text/html": [
       "<div>\n",
       "<style scoped>\n",
       "    .dataframe tbody tr th:only-of-type {\n",
       "        vertical-align: middle;\n",
       "    }\n",
       "\n",
       "    .dataframe tbody tr th {\n",
       "        vertical-align: top;\n",
       "    }\n",
       "\n",
       "    .dataframe thead th {\n",
       "        text-align: right;\n",
       "    }\n",
       "</style>\n",
       "<table border=\"1\" class=\"dataframe\">\n",
       "  <thead>\n",
       "    <tr style=\"text-align: right;\">\n",
       "      <th>delinq</th>\n",
       "      <th>0.0</th>\n",
       "      <th>1.0</th>\n",
       "      <th>2.0</th>\n",
       "      <th>3.0</th>\n",
       "      <th>4.0</th>\n",
       "      <th>5.0</th>\n",
       "      <th>6.0</th>\n",
       "      <th>7.0</th>\n",
       "      <th>8.0</th>\n",
       "      <th>10.0</th>\n",
       "      <th>13.0</th>\n",
       "      <th>15.0</th>\n",
       "    </tr>\n",
       "    <tr>\n",
       "      <th>bad</th>\n",
       "      <th></th>\n",
       "      <th></th>\n",
       "      <th></th>\n",
       "      <th></th>\n",
       "      <th></th>\n",
       "      <th></th>\n",
       "      <th></th>\n",
       "      <th></th>\n",
       "      <th></th>\n",
       "      <th></th>\n",
       "      <th></th>\n",
       "      <th></th>\n",
       "    </tr>\n",
       "  </thead>\n",
       "  <tbody>\n",
       "    <tr>\n",
       "      <th>0</th>\n",
       "      <td>0.858959</td>\n",
       "      <td>0.648241</td>\n",
       "      <td>0.598592</td>\n",
       "      <td>0.391304</td>\n",
       "      <td>0.392157</td>\n",
       "      <td>0.190476</td>\n",
       "      <td>0.0</td>\n",
       "      <td>0.0</td>\n",
       "      <td>0.0</td>\n",
       "      <td>0.0</td>\n",
       "      <td>0.0</td>\n",
       "      <td>0.0</td>\n",
       "    </tr>\n",
       "    <tr>\n",
       "      <th>1</th>\n",
       "      <td>0.141041</td>\n",
       "      <td>0.351759</td>\n",
       "      <td>0.401408</td>\n",
       "      <td>0.608696</td>\n",
       "      <td>0.607843</td>\n",
       "      <td>0.809524</td>\n",
       "      <td>1.0</td>\n",
       "      <td>1.0</td>\n",
       "      <td>1.0</td>\n",
       "      <td>1.0</td>\n",
       "      <td>1.0</td>\n",
       "      <td>1.0</td>\n",
       "    </tr>\n",
       "  </tbody>\n",
       "</table>\n",
       "</div>"
      ],
      "text/plain": [
       "delinq      0.0       1.0       2.0       3.0   ...  8.0   10.0  13.0  15.0\n",
       "bad                                             ...                        \n",
       "0       0.858959  0.648241  0.598592  0.391304  ...   0.0   0.0   0.0   0.0\n",
       "1       0.141041  0.351759  0.401408  0.608696  ...   1.0   1.0   1.0   1.0\n",
       "\n",
       "[2 rows x 12 columns]"
      ]
     },
     "execution_count": 45,
     "metadata": {
      "tags": []
     },
     "output_type": "execute_result"
    }
   ],
   "source": [
    "crosstab(data[\"bad\"], data[\"delinq\"], \"columns\")"
   ]
  },
  {
   "cell_type": "markdown",
   "metadata": {
    "colab_type": "text",
    "id": "bgt2oc78xqLU"
   },
   "source": [
    "Toplam verisetinde %5'ten kucuk null degerine value, clno, reason, job degiskenleri oldugunu goruyoruz. Veri karakteristigini daha az etkileyecegini dusundugumuz bu %5lik degiskenleri median ile doldurmayi dusunduk."
   ]
  },
  {
   "cell_type": "markdown",
   "metadata": {
    "colab_type": "text",
    "id": "MhQRbBu7xqLV"
   },
   "source": [
    "### **1.5. NULL Values Checking**"
   ]
  },
  {
   "cell_type": "code",
   "execution_count": 46,
   "metadata": {
    "colab": {
     "base_uri": "https://localhost:8080/",
     "height": 457
    },
    "colab_type": "code",
    "id": "ZwLD-DipxqLW",
    "outputId": "187df572-d6ad-4581-ea8a-3d8ceb7966f1"
   },
   "outputs": [
    {
     "data": {
      "text/html": [
       "<div>\n",
       "<style scoped>\n",
       "    .dataframe tbody tr th:only-of-type {\n",
       "        vertical-align: middle;\n",
       "    }\n",
       "\n",
       "    .dataframe tbody tr th {\n",
       "        vertical-align: top;\n",
       "    }\n",
       "\n",
       "    .dataframe thead th {\n",
       "        text-align: right;\n",
       "    }\n",
       "</style>\n",
       "<table border=\"1\" class=\"dataframe\">\n",
       "  <thead>\n",
       "    <tr style=\"text-align: right;\">\n",
       "      <th></th>\n",
       "      <th>count</th>\n",
       "      <th>percentage</th>\n",
       "    </tr>\n",
       "  </thead>\n",
       "  <tbody>\n",
       "    <tr>\n",
       "      <th>bad</th>\n",
       "      <td>0</td>\n",
       "      <td>0.0000</td>\n",
       "    </tr>\n",
       "    <tr>\n",
       "      <th>loan</th>\n",
       "      <td>0</td>\n",
       "      <td>0.0000</td>\n",
       "    </tr>\n",
       "    <tr>\n",
       "      <th>value</th>\n",
       "      <td>64</td>\n",
       "      <td>0.0179</td>\n",
       "    </tr>\n",
       "    <tr>\n",
       "      <th>clno</th>\n",
       "      <td>133</td>\n",
       "      <td>0.0372</td>\n",
       "    </tr>\n",
       "    <tr>\n",
       "      <th>reason</th>\n",
       "      <td>147</td>\n",
       "      <td>0.0411</td>\n",
       "    </tr>\n",
       "    <tr>\n",
       "      <th>job</th>\n",
       "      <td>167</td>\n",
       "      <td>0.0467</td>\n",
       "    </tr>\n",
       "    <tr>\n",
       "      <th>clage</th>\n",
       "      <td>179</td>\n",
       "      <td>0.0501</td>\n",
       "    </tr>\n",
       "    <tr>\n",
       "      <th>ninq</th>\n",
       "      <td>303</td>\n",
       "      <td>0.0847</td>\n",
       "    </tr>\n",
       "    <tr>\n",
       "      <th>yoj</th>\n",
       "      <td>312</td>\n",
       "      <td>0.0872</td>\n",
       "    </tr>\n",
       "    <tr>\n",
       "      <th>mortdue</th>\n",
       "      <td>314</td>\n",
       "      <td>0.0878</td>\n",
       "    </tr>\n",
       "    <tr>\n",
       "      <th>delinq</th>\n",
       "      <td>351</td>\n",
       "      <td>0.0982</td>\n",
       "    </tr>\n",
       "    <tr>\n",
       "      <th>derog</th>\n",
       "      <td>427</td>\n",
       "      <td>0.1194</td>\n",
       "    </tr>\n",
       "    <tr>\n",
       "      <th>debtinc</th>\n",
       "      <td>767</td>\n",
       "      <td>0.2145</td>\n",
       "    </tr>\n",
       "  </tbody>\n",
       "</table>\n",
       "</div>"
      ],
      "text/plain": [
       "         count  percentage\n",
       "bad          0      0.0000\n",
       "loan         0      0.0000\n",
       "value       64      0.0179\n",
       "clno       133      0.0372\n",
       "reason     147      0.0411\n",
       "job        167      0.0467\n",
       "clage      179      0.0501\n",
       "ninq       303      0.0847\n",
       "yoj        312      0.0872\n",
       "mortdue    314      0.0878\n",
       "delinq     351      0.0982\n",
       "derog      427      0.1194\n",
       "debtinc    767      0.2145"
      ]
     },
     "execution_count": 46,
     "metadata": {
      "tags": []
     },
     "output_type": "execute_result"
    }
   ],
   "source": [
    "null_data = nulldata_check(data)\n",
    "null_data[null_data[\"percentage\"] <= 0.55]"
   ]
  },
  {
   "cell_type": "markdown",
   "metadata": {
    "colab_type": "text",
    "id": "X310SmyixqLb"
   },
   "source": [
    "# **2. Data Visualization**"
   ]
  },
  {
   "cell_type": "markdown",
   "metadata": {
    "colab_type": "text",
    "id": "uH8MBtH-xqLb"
   },
   "source": [
    "### **2.1. Correlation HeatMap**"
   ]
  },
  {
   "cell_type": "code",
   "execution_count": 47,
   "metadata": {
    "colab": {
     "base_uri": "https://localhost:8080/",
     "height": 487
    },
    "colab_type": "code",
    "id": "PFggUlIHxqLc",
    "outputId": "97e1a1d7-e4c7-4a56-e42a-fea6a7f9643a"
   },
   "outputs": [
    {
     "data": {
      "image/png": "[encoded data removed]",
      "text/plain": [
       "<Figure size 1152x576 with 2 Axes>"
      ]
     },
     "metadata": {
      "needs_background": "light",
      "tags": []
     },
     "output_type": "display_data"
    }
   ],
   "source": [
    "heatmap(data.drop([\"bad\"],axis=1))"
   ]
  },
  {
   "cell_type": "markdown",
   "metadata": {
    "colab_type": "text",
    "id": "ynhoZxFuxqLr"
   },
   "source": [
    "Value ve mortdue incelendiğinnde 0.87 korelasyona sahip oldukları görülmektedir. Biri artarken diğerininde arttığı görülmektedir. Mal varlığı yüksek olan birisi ipoteğide fazla verip kredi skorunu etkileyebilir."
   ]
  },
  {
   "cell_type": "code",
   "execution_count": 48,
   "metadata": {
    "colab": {
     "base_uri": "https://localhost:8080/",
     "height": 295
    },
    "colab_type": "code",
    "id": "6c152bCcxqLs",
    "outputId": "36231e09-d75d-4302-c4db-f6859408f2af"
   },
   "outputs": [
    {
     "name": "stdout",
     "output_type": "stream",
     "text": [
      "Most Correlated\n",
      "    feature1 feature2      Corr\n",
      "11  mortdue    value  0.873280\n",
      "17  mortdue     clno  0.340139\n",
      "2      loan    value  0.337453\n",
      "25    value     clno  0.290439\n",
      "35    derog   delinq  0.234706 \n",
      "\n",
      "Less Correlated\n",
      "    feature1 feature2      Corr\n",
      "4      loan    derog  0.001463\n",
      "20    value      yoj  0.002501\n",
      "14  mortdue   delinq  0.004971\n",
      "24    value     ninq  0.005191\n",
      "22    value   delinq  0.011014 \n",
      "\n"
     ]
    }
   ],
   "source": [
    "print(\"Most Correlated\\n\",correlation_df(data.drop([\"bad\"],axis=1)).sort_values(by=\"Corr\", ascending=False).head(5),\"\\n\")\n",
    "print(\"Less Correlated\\n\",correlation_df(data.drop([\"bad\"],axis=1)).sort_values(by=\"Corr\", ascending=True).head(5),\"\\n\")"
   ]
  },
  {
   "cell_type": "markdown",
   "metadata": {
    "colab_type": "text",
    "id": "si1Ueh6t142-"
   },
   "source": [
    "### **2.2. Scatter Plot**"
   ]
  },
  {
   "cell_type": "code",
   "execution_count": 49,
   "metadata": {
    "colab": {
     "base_uri": "https://localhost:8080/",
     "height": 279
    },
    "colab_type": "code",
    "id": "E0xmPFApxqL3",
    "outputId": "4c673f19-67ed-402a-901b-bf7fcd61ffb4"
   },
   "outputs": [
    {
     "data": {
      "image/png": "[encoded data removed]",
      "text/plain": [
       "<Figure size 504x288 with 1 Axes>"
      ]
     },
     "metadata": {
      "needs_background": "light",
      "tags": []
     },
     "output_type": "display_data"
    }
   ],
   "source": [
    "scatterplot(\"mortdue\", \"value\", \"bad\", data)"
   ]
  },
  {
   "cell_type": "code",
   "execution_count": 50,
   "metadata": {
    "colab": {
     "base_uri": "https://localhost:8080/",
     "height": 279
    },
    "colab_type": "code",
    "id": "utqb8FAIxqL-",
    "outputId": "16710070-e4af-4648-c4cb-4b5e5ccfcbc3"
   },
   "outputs": [
    {
     "data": {
      "image/png": "[encoded data removed]",
      "text/plain": [
       "<Figure size 504x288 with 1 Axes>"
      ]
     },
     "metadata": {
      "needs_background": "light",
      "tags": []
     },
     "output_type": "display_data"
    }
   ],
   "source": [
    "scatterplot(\"loan\", \"value\", \"bad\", data)"
   ]
  },
  {
   "cell_type": "markdown",
   "metadata": {
    "colab_type": "text",
    "id": "UJYob8IGxqML"
   },
   "source": [
    "Boxplot grafigi incelendiginde ise **loan, mortdue ve value** degiskenlerinde aykiri degerler oldugunu goruyoruz. Orjinal verileri manipule edip silmek istemedigimizden, verilere normalizasyon yontemini uyguluyoruz."
   ]
  },
  {
   "cell_type": "markdown",
   "metadata": {
    "colab_type": "text",
    "id": "xzw8qEzi18N6"
   },
   "source": [
    "### **2.3. Box Plot**"
   ]
  },
  {
   "cell_type": "code",
   "execution_count": 51,
   "metadata": {
    "colab": {
     "base_uri": "https://localhost:8080/",
     "height": 320
    },
    "colab_type": "code",
    "id": "DqAExrJ5xqMO",
    "outputId": "42438c55-b116-4cae-a8ef-629a4c818e8d",
    "scrolled": true
   },
   "outputs": [
    {
     "data": {
      "image/png": "[encoded data removed]",
      "text/plain": [
       "<Figure size 720x360 with 1 Axes>"
      ]
     },
     "metadata": {
      "needs_background": "light",
      "tags": []
     },
     "output_type": "display_data"
    }
   ],
   "source": [
    "boxplot(data)"
   ]
  },
  {
   "cell_type": "markdown",
   "metadata": {
    "colab_type": "text",
    "id": "xDn2ic5dxqMZ"
   },
   "source": [
    "Histogram grafigi incelendiginde ise verilerin kesikli ve normal dagilimdan gelmedigini goruyoruz. Modelimizin daha iyi sonuc vermesi icin normalizasyon yontemlerinin uygulanmasi gerektigini uygun goruyoruz."
   ]
  },
  {
   "cell_type": "markdown",
   "metadata": {
    "colab_type": "text",
    "id": "LNraFd_d2AKk"
   },
   "source": [
    "### **2.4. Histogram**"
   ]
  },
  {
   "cell_type": "code",
   "execution_count": 52,
   "metadata": {
    "colab": {
     "base_uri": "https://localhost:8080/",
     "height": 494
    },
    "colab_type": "code",
    "id": "tDx8410FxqMc",
    "outputId": "4ef2b729-3ca6-4e24-cfa5-909d4abf5a20"
   },
   "outputs": [
    {
     "data": {
      "image/png": "[encoded data removed]",
      "text/plain": [
       "<Figure size 1152x576 with 12 Axes>"
      ]
     },
     "metadata": {
      "needs_background": "light",
      "tags": []
     },
     "output_type": "display_data"
    }
   ],
   "source": [
    "histogram(data.drop([\"bad\"],axis=1), figsize=(16,8))"
   ]
  },
  {
   "cell_type": "markdown",
   "metadata": {
    "colab_type": "text",
    "id": "IqEAundFxqMf"
   },
   "source": [
    "## **3. Data Preprocessing**"
   ]
  },
  {
   "cell_type": "markdown",
   "metadata": {
    "colab_type": "text",
    "id": "jSRtAKeBxqMh"
   },
   "source": [
    "### **3.1. Data Imputation**\n",
    "- value \n",
    "- clno\n",
    "- reason\n",
    "- job\n",
    "\n",
    "Ancak dropna yaptigimizda datanin %45'sini silmis bulunuyoruz. Bu nedenle bazi degiskenleri silemk istmiyoruz. Imputation yontemine gidiyoruz. Burada %5'ten kucuk NULL oranina sahip degerleri median ile ve Unknown kategori ile dolduruyoruz."
   ]
  },
  {
   "cell_type": "code",
   "execution_count": 53,
   "metadata": {
    "colab": {
     "base_uri": "https://localhost:8080/",
     "height": 260
    },
    "colab_type": "code",
    "id": "1bjqla8TxqMi",
    "outputId": "23406fa0-6f5a-4e14-858f-9a0853eafaf8",
    "scrolled": false
   },
   "outputs": [
    {
     "name": "stdout",
     "output_type": "stream",
     "text": [
      "bad        3576\n",
      "loan       3576\n",
      "mortdue    3262\n",
      "value      3576\n",
      "reason     3576\n",
      "job        3576\n",
      "yoj        3264\n",
      "derog      3149\n",
      "delinq     3225\n",
      "clage      3397\n",
      "ninq       3273\n",
      "clno       3576\n",
      "debtinc    2809\n",
      "dtype: int64\n"
     ]
    }
   ],
   "source": [
    "imputation_df = data.copy()\n",
    "imputation_df[\"value\"] = data[\"value\"].fillna(data[\"value\"].median())\n",
    "imputation_df[\"clno\"] = data[\"clno\"].fillna(data[\"clno\"].median())\n",
    "imputation_df[\"reason\"] = data[\"reason\"].fillna(\"Unknown\")\n",
    "imputation_df[\"job\"] = data[\"job\"].fillna(\"Unknown\")\n",
    "print(imputation_df.count())"
   ]
  },
  {
   "cell_type": "markdown",
   "metadata": {
    "colab_type": "text",
    "id": "jAd11x0FxqMp"
   },
   "source": [
    "### **3.2. NULL Data Drop**"
   ]
  },
  {
   "cell_type": "code",
   "execution_count": 54,
   "metadata": {
    "colab": {
     "base_uri": "https://localhost:8080/",
     "height": 474
    },
    "colab_type": "code",
    "id": "Rz8c6ktzxqMr",
    "outputId": "18bb1d4c-412c-4f2d-e8ce-05f70677b342"
   },
   "outputs": [
    {
     "name": "stdout",
     "output_type": "stream",
     "text": [
      "Total Row:  2114\n"
     ]
    },
    {
     "data": {
      "text/html": [
       "<div>\n",
       "<style scoped>\n",
       "    .dataframe tbody tr th:only-of-type {\n",
       "        vertical-align: middle;\n",
       "    }\n",
       "\n",
       "    .dataframe tbody tr th {\n",
       "        vertical-align: top;\n",
       "    }\n",
       "\n",
       "    .dataframe thead th {\n",
       "        text-align: right;\n",
       "    }\n",
       "</style>\n",
       "<table border=\"1\" class=\"dataframe\">\n",
       "  <thead>\n",
       "    <tr style=\"text-align: right;\">\n",
       "      <th></th>\n",
       "      <th>count</th>\n",
       "      <th>percentage</th>\n",
       "    </tr>\n",
       "  </thead>\n",
       "  <tbody>\n",
       "    <tr>\n",
       "      <th>bad</th>\n",
       "      <td>0</td>\n",
       "      <td>0.0</td>\n",
       "    </tr>\n",
       "    <tr>\n",
       "      <th>loan</th>\n",
       "      <td>0</td>\n",
       "      <td>0.0</td>\n",
       "    </tr>\n",
       "    <tr>\n",
       "      <th>mortdue</th>\n",
       "      <td>0</td>\n",
       "      <td>0.0</td>\n",
       "    </tr>\n",
       "    <tr>\n",
       "      <th>value</th>\n",
       "      <td>0</td>\n",
       "      <td>0.0</td>\n",
       "    </tr>\n",
       "    <tr>\n",
       "      <th>reason</th>\n",
       "      <td>0</td>\n",
       "      <td>0.0</td>\n",
       "    </tr>\n",
       "    <tr>\n",
       "      <th>job</th>\n",
       "      <td>0</td>\n",
       "      <td>0.0</td>\n",
       "    </tr>\n",
       "    <tr>\n",
       "      <th>yoj</th>\n",
       "      <td>0</td>\n",
       "      <td>0.0</td>\n",
       "    </tr>\n",
       "    <tr>\n",
       "      <th>derog</th>\n",
       "      <td>0</td>\n",
       "      <td>0.0</td>\n",
       "    </tr>\n",
       "    <tr>\n",
       "      <th>delinq</th>\n",
       "      <td>0</td>\n",
       "      <td>0.0</td>\n",
       "    </tr>\n",
       "    <tr>\n",
       "      <th>clage</th>\n",
       "      <td>0</td>\n",
       "      <td>0.0</td>\n",
       "    </tr>\n",
       "    <tr>\n",
       "      <th>ninq</th>\n",
       "      <td>0</td>\n",
       "      <td>0.0</td>\n",
       "    </tr>\n",
       "    <tr>\n",
       "      <th>clno</th>\n",
       "      <td>0</td>\n",
       "      <td>0.0</td>\n",
       "    </tr>\n",
       "    <tr>\n",
       "      <th>debtinc</th>\n",
       "      <td>0</td>\n",
       "      <td>0.0</td>\n",
       "    </tr>\n",
       "  </tbody>\n",
       "</table>\n",
       "</div>"
      ],
      "text/plain": [
       "         count  percentage\n",
       "bad          0         0.0\n",
       "loan         0         0.0\n",
       "mortdue      0         0.0\n",
       "value        0         0.0\n",
       "reason       0         0.0\n",
       "job          0         0.0\n",
       "yoj          0         0.0\n",
       "derog        0         0.0\n",
       "delinq       0         0.0\n",
       "clage        0         0.0\n",
       "ninq         0         0.0\n",
       "clno         0         0.0\n",
       "debtinc      0         0.0"
      ]
     },
     "execution_count": 54,
     "metadata": {
      "tags": []
     },
     "output_type": "execute_result"
    }
   ],
   "source": [
    "imputation_df.dropna(inplace=True)\n",
    "print(\"Total Row: \",imputation_df.count()[\"bad\"])\n",
    "nulldata_check(imputation_df)"
   ]
  },
  {
   "cell_type": "markdown",
   "metadata": {
    "colab_type": "text",
    "id": "XXXQm54PxqM3"
   },
   "source": [
    "### **3.3. Numeric to Categoric Tranformation**"
   ]
  },
  {
   "cell_type": "markdown",
   "metadata": {
    "colab_type": "text",
    "id": "eatYYgzYxqM5"
   },
   "source": [
    "Burada degiskenleri bad hedef degiskenine gore crosstab ile analiz edip, kategori incelemesi gereceklestiriyoruz. Numerik olan degiskenlerin kateogrik olacak sekilde araliklarini belirliyoruz. "
   ]
  },
  {
   "cell_type": "markdown",
   "metadata": {
    "colab_type": "text",
    "id": "bpDXETstxqM7"
   },
   "source": [
    "#### **3.3.1 DEROG Degiskeni**\n",
    "\n",
    "DEROG - Kredi borcunu zamaninda odemesi bakimindan musteri hakkinda zararli rapor sayisini inceledigimizde 0-2 arasinda zararli rapor sayisina sahip olan musteriler borclarini %77.5-92.5 arasinda odedigi goruluyor. Bu nedenle bunu uc kategoriye ayiriyoruz. \n",
    "\n",
    "- **RaporYok (0)**: 0 raporu olanlar genellikle %92 oraninda borcunu geri odemektedir. \n",
    "- **DusukRapor  (1-2)**: 1-2 arasinda zararli rapora sahip olanlar borcunu yuksek oranda odedigi gorulmektedir.\n",
    "- **YuksekRapor (3-10)**: 3-10 arasinda zararli rapora sahip olanlar borcunu ortalamadan dusuk veya hic odemedigi goruluyor. Ancak bu kategoride elimizde yeterli (unbalanced) veri bulunmaktadir.rclarini geri oduyorlarmis. "
   ]
  },
  {
   "cell_type": "code",
   "execution_count": 55,
   "metadata": {
    "colab": {
     "base_uri": "https://localhost:8080/",
     "height": 143
    },
    "colab_type": "code",
    "id": "poK7V8OuxqM9",
    "outputId": "96673780-1640-4c92-d951-09cd172aa11c",
    "scrolled": true
   },
   "outputs": [
    {
     "data": {
      "text/html": [
       "<div>\n",
       "<style scoped>\n",
       "    .dataframe tbody tr th:only-of-type {\n",
       "        vertical-align: middle;\n",
       "    }\n",
       "\n",
       "    .dataframe tbody tr th {\n",
       "        vertical-align: top;\n",
       "    }\n",
       "\n",
       "    .dataframe thead th {\n",
       "        text-align: right;\n",
       "    }\n",
       "</style>\n",
       "<table border=\"1\" class=\"dataframe\">\n",
       "  <thead>\n",
       "    <tr style=\"text-align: right;\">\n",
       "      <th>derog</th>\n",
       "      <th>0.0</th>\n",
       "      <th>1.0</th>\n",
       "      <th>2.0</th>\n",
       "      <th>3.0</th>\n",
       "      <th>4.0</th>\n",
       "      <th>6.0</th>\n",
       "      <th>7.0</th>\n",
       "      <th>8.0</th>\n",
       "      <th>10.0</th>\n",
       "    </tr>\n",
       "    <tr>\n",
       "      <th>bad</th>\n",
       "      <th></th>\n",
       "      <th></th>\n",
       "      <th></th>\n",
       "      <th></th>\n",
       "      <th></th>\n",
       "      <th></th>\n",
       "      <th></th>\n",
       "      <th></th>\n",
       "      <th></th>\n",
       "    </tr>\n",
       "  </thead>\n",
       "  <tbody>\n",
       "    <tr>\n",
       "      <th>0</th>\n",
       "      <td>0.925577</td>\n",
       "      <td>0.833333</td>\n",
       "      <td>0.77551</td>\n",
       "      <td>0.416667</td>\n",
       "      <td>0.0</td>\n",
       "      <td>0.0</td>\n",
       "      <td>0.0</td>\n",
       "      <td>0.0</td>\n",
       "      <td>0.0</td>\n",
       "    </tr>\n",
       "    <tr>\n",
       "      <th>1</th>\n",
       "      <td>0.074423</td>\n",
       "      <td>0.166667</td>\n",
       "      <td>0.22449</td>\n",
       "      <td>0.583333</td>\n",
       "      <td>1.0</td>\n",
       "      <td>1.0</td>\n",
       "      <td>1.0</td>\n",
       "      <td>1.0</td>\n",
       "      <td>1.0</td>\n",
       "    </tr>\n",
       "  </tbody>\n",
       "</table>\n",
       "</div>"
      ],
      "text/plain": [
       "derog      0.0       1.0      2.0       3.0   4.0   6.0   7.0   8.0   10.0\n",
       "bad                                                                       \n",
       "0      0.925577  0.833333  0.77551  0.416667   0.0   0.0   0.0   0.0   0.0\n",
       "1      0.074423  0.166667  0.22449  0.583333   1.0   1.0   1.0   1.0   1.0"
      ]
     },
     "execution_count": 55,
     "metadata": {
      "tags": []
     },
     "output_type": "execute_result"
    }
   ],
   "source": [
    "crosstab(imputation_df[\"bad\"], imputation_df[\"derog\"])"
   ]
  },
  {
   "cell_type": "code",
   "execution_count": 56,
   "metadata": {
    "colab": {},
    "colab_type": "code",
    "id": "WIjv4vBfxqNA"
   },
   "outputs": [],
   "source": [
    "derog_replace = {0: \"RaporYok\", 1: \"DusukRapor\", 2: \"DusukRapor\", 3: \"YuksekRapor\", 4: \"YuksekRapor\",\n",
    "                 4: \"YuksekRapor\",6: \"YuksekRapor\",7: \"YuksekRapor\",8: \"YuksekRapor\", 9: \"YuksekRapor\",\n",
    "                10: \"YuksekRapor\"}\n",
    "imputation_df = imputation_df.replace({\"derog\": derog_replace})"
   ]
  },
  {
   "cell_type": "markdown",
   "metadata": {
    "colab_type": "text",
    "id": "OWky1AKgxqNH"
   },
   "source": [
    "#### 1.3.2. DELINQ Degiskeni\n",
    "\n",
    "DELINQ - Zamaninda odenmemis kredi sayisi bakimindan cogunlugunu 0,1,2 ve 3 odenmemis kredi sayisina sahip musterler olusturdugunu goruyoruz. Musterinin borcunu geri odemesi bakimindan 3'den fazla odenmemis odenmemis kredisi olanlari yuksek odenmemis kredi olarak isaretliyoruz. \n",
    "\n",
    "- **GecikmeYok (0)**: Sifir gecikme sayisina sahip olanlar borcunu %93.2 oraninda geri odemektedir. \n",
    "- **DusukGecikme (1-3)**: 1-3 arasi dusuk sayida gecikmis kredi sayisina sahip olan musteriler %72-86.5 arasinda borcunu odemektedir.  \n",
    "- **YuksekGecikme (4-10)**: 4-10 arasi yuksek sayida gecikmis kredi sayisina sahip olan musteriler ise %0-50 arasinda borcunu geri odedigi gorulmektedir. Ancak 4'ten fazla gecikme sayisi olan musterilerin buyuk oranda borcunu hic odemedigi gorulmektedir."
   ]
  },
  {
   "cell_type": "code",
   "execution_count": 57,
   "metadata": {
    "colab": {
     "base_uri": "https://localhost:8080/",
     "height": 143
    },
    "colab_type": "code",
    "id": "Q-I-aNiYxqNJ",
    "outputId": "1e0541f2-2bc5-471d-e8af-1679df3325db",
    "scrolled": true
   },
   "outputs": [
    {
     "data": {
      "text/html": [
       "<div>\n",
       "<style scoped>\n",
       "    .dataframe tbody tr th:only-of-type {\n",
       "        vertical-align: middle;\n",
       "    }\n",
       "\n",
       "    .dataframe tbody tr th {\n",
       "        vertical-align: top;\n",
       "    }\n",
       "\n",
       "    .dataframe thead th {\n",
       "        text-align: right;\n",
       "    }\n",
       "</style>\n",
       "<table border=\"1\" class=\"dataframe\">\n",
       "  <thead>\n",
       "    <tr style=\"text-align: right;\">\n",
       "      <th>delinq</th>\n",
       "      <th>0.0</th>\n",
       "      <th>1.0</th>\n",
       "      <th>2.0</th>\n",
       "      <th>3.0</th>\n",
       "      <th>4.0</th>\n",
       "      <th>5.0</th>\n",
       "      <th>6.0</th>\n",
       "      <th>7.0</th>\n",
       "      <th>10.0</th>\n",
       "    </tr>\n",
       "    <tr>\n",
       "      <th>bad</th>\n",
       "      <th></th>\n",
       "      <th></th>\n",
       "      <th></th>\n",
       "      <th></th>\n",
       "      <th></th>\n",
       "      <th></th>\n",
       "      <th></th>\n",
       "      <th></th>\n",
       "      <th></th>\n",
       "    </tr>\n",
       "  </thead>\n",
       "  <tbody>\n",
       "    <tr>\n",
       "      <th>0</th>\n",
       "      <td>0.932109</td>\n",
       "      <td>0.865285</td>\n",
       "      <td>0.780822</td>\n",
       "      <td>0.72</td>\n",
       "      <td>0.5</td>\n",
       "      <td>0.0</td>\n",
       "      <td>0.0</td>\n",
       "      <td>0.0</td>\n",
       "      <td>0.0</td>\n",
       "    </tr>\n",
       "    <tr>\n",
       "      <th>1</th>\n",
       "      <td>0.067891</td>\n",
       "      <td>0.134715</td>\n",
       "      <td>0.219178</td>\n",
       "      <td>0.28</td>\n",
       "      <td>0.5</td>\n",
       "      <td>1.0</td>\n",
       "      <td>1.0</td>\n",
       "      <td>1.0</td>\n",
       "      <td>1.0</td>\n",
       "    </tr>\n",
       "  </tbody>\n",
       "</table>\n",
       "</div>"
      ],
      "text/plain": [
       "delinq      0.0       1.0       2.0   3.0   4.0   5.0   6.0   7.0   10.0\n",
       "bad                                                                     \n",
       "0       0.932109  0.865285  0.780822  0.72   0.5   0.0   0.0   0.0   0.0\n",
       "1       0.067891  0.134715  0.219178  0.28   0.5   1.0   1.0   1.0   1.0"
      ]
     },
     "execution_count": 57,
     "metadata": {
      "tags": []
     },
     "output_type": "execute_result"
    }
   ],
   "source": [
    "crosstab(imputation_df[\"bad\"], imputation_df[\"delinq\"])"
   ]
  },
  {
   "cell_type": "code",
   "execution_count": 58,
   "metadata": {
    "colab": {},
    "colab_type": "code",
    "id": "amHk-wAhxqNQ"
   },
   "outputs": [],
   "source": [
    "delinq_replace = {0: \"GecikmeYok\", 1: \"DusukGecikme\", 2: \"DusukGecikme\", 3: \"DusukGecikme\", \n",
    "                 4: \"YuksekGecikme\", 4: \"YuksekGecikme\",5: \"YuksekGecikme\",6: \"YuksekGecikme\",\n",
    "                 7: \"YuksekGecikme\",8: \"YuksekGecikme\", 9: \"YuksekGecikme\", 10: \"YuksekGecikme\"}\n",
    "imputation_df = imputation_df.replace({\"delinq\": delinq_replace})"
   ]
  },
  {
   "cell_type": "markdown",
   "metadata": {
    "colab_type": "text",
    "id": "XvX6X9IPxqNY"
   },
   "source": [
    "#### 1.3.3. NINQ Degiskeni\n",
    "\n",
    "NINQ - Kredi ile ilgili yapilan sorgu sayisi bakimindan incelendiginde, verinin cogunlugunu 0,1,2 ve 3 sorgu degerine sahip musteriler olusturmaktadir. Degiskeni kategorik hale getirmek icin musterilerin en az %70 oraninda borcunu geri odemesi ve hakkinda en fazla 4 kredi sorgu yapilmis olmasi varsayimlarini kabul ediyoruz. Kredi ile ilgili 0 hic sorgusu olmayan 1-3 arasi sorgu yapildiysa DusukSorgu, 4'ten fazla sorgularda ise YuksekSorgu olarak isaretliyoruz. \n",
    "\n",
    "- **SorguYok (0):** Sifir kredi sorgusu olan musterilerin kredisini %91.72 oraninda odedigi gorulmektedir.\n",
    "- **DusukSorgu (1-4):** Kredi ile ilgili sorgu sayisi 1-4 arasi olanlar kredilerini %74.41-93.01 oaraninda zamaninda odedigi gorulmektedir. \n",
    "- **YuksekSorgu (5-13):** 4-13 sroguya sahip olanlar genellikle %74'ten az oranda borclarini geri oduyorlarmis. "
   ]
  },
  {
   "cell_type": "code",
   "execution_count": 59,
   "metadata": {
    "colab": {
     "base_uri": "https://localhost:8080/",
     "height": 143
    },
    "colab_type": "code",
    "id": "zRWDR66FxqNc",
    "outputId": "34baa835-dbcc-4fde-b3ac-1309e57623c9",
    "scrolled": true
   },
   "outputs": [
    {
     "data": {
      "text/html": [
       "<div>\n",
       "<style scoped>\n",
       "    .dataframe tbody tr th:only-of-type {\n",
       "        vertical-align: middle;\n",
       "    }\n",
       "\n",
       "    .dataframe tbody tr th {\n",
       "        vertical-align: top;\n",
       "    }\n",
       "\n",
       "    .dataframe thead th {\n",
       "        text-align: right;\n",
       "    }\n",
       "</style>\n",
       "<table border=\"1\" class=\"dataframe\">\n",
       "  <thead>\n",
       "    <tr style=\"text-align: right;\">\n",
       "      <th>ninq</th>\n",
       "      <th>0.0</th>\n",
       "      <th>1.0</th>\n",
       "      <th>2.0</th>\n",
       "      <th>3.0</th>\n",
       "      <th>4.0</th>\n",
       "      <th>5.0</th>\n",
       "      <th>6.0</th>\n",
       "      <th>7.0</th>\n",
       "      <th>8.0</th>\n",
       "      <th>9.0</th>\n",
       "      <th>10.0</th>\n",
       "      <th>11.0</th>\n",
       "      <th>13.0</th>\n",
       "    </tr>\n",
       "    <tr>\n",
       "      <th>bad</th>\n",
       "      <th></th>\n",
       "      <th></th>\n",
       "      <th></th>\n",
       "      <th></th>\n",
       "      <th></th>\n",
       "      <th></th>\n",
       "      <th></th>\n",
       "      <th></th>\n",
       "      <th></th>\n",
       "      <th></th>\n",
       "      <th></th>\n",
       "      <th></th>\n",
       "      <th></th>\n",
       "    </tr>\n",
       "  </thead>\n",
       "  <tbody>\n",
       "    <tr>\n",
       "      <th>0</th>\n",
       "      <td>0.917209</td>\n",
       "      <td>0.93014</td>\n",
       "      <td>0.926316</td>\n",
       "      <td>0.888889</td>\n",
       "      <td>0.744186</td>\n",
       "      <td>0.6</td>\n",
       "      <td>0.642857</td>\n",
       "      <td>0.727273</td>\n",
       "      <td>1.0</td>\n",
       "      <td>0.666667</td>\n",
       "      <td>0.9</td>\n",
       "      <td>1.0</td>\n",
       "      <td>0.0</td>\n",
       "    </tr>\n",
       "    <tr>\n",
       "      <th>1</th>\n",
       "      <td>0.082791</td>\n",
       "      <td>0.06986</td>\n",
       "      <td>0.073684</td>\n",
       "      <td>0.111111</td>\n",
       "      <td>0.255814</td>\n",
       "      <td>0.4</td>\n",
       "      <td>0.357143</td>\n",
       "      <td>0.272727</td>\n",
       "      <td>0.0</td>\n",
       "      <td>0.333333</td>\n",
       "      <td>0.1</td>\n",
       "      <td>0.0</td>\n",
       "      <td>1.0</td>\n",
       "    </tr>\n",
       "  </tbody>\n",
       "</table>\n",
       "</div>"
      ],
      "text/plain": [
       "ninq      0.0      1.0       2.0       3.0   ...      9.0   10.0  11.0  13.0\n",
       "bad                                          ...                            \n",
       "0     0.917209  0.93014  0.926316  0.888889  ...  0.666667   0.9   1.0   0.0\n",
       "1     0.082791  0.06986  0.073684  0.111111  ...  0.333333   0.1   0.0   1.0\n",
       "\n",
       "[2 rows x 13 columns]"
      ]
     },
     "execution_count": 59,
     "metadata": {
      "tags": []
     },
     "output_type": "execute_result"
    }
   ],
   "source": [
    "crosstab(imputation_df[\"bad\"], imputation_df[\"ninq\"])"
   ]
  },
  {
   "cell_type": "code",
   "execution_count": 60,
   "metadata": {
    "colab": {},
    "colab_type": "code",
    "id": "Kf05zq9JxqNi"
   },
   "outputs": [],
   "source": [
    "ninq_replace = {0: \"SorguYok\", 1: \"DusukSorgu\", 2: \"DusukSorgu\", 3: \"DusukSorgu\", \n",
    "                 4: \"DusukSorgu\", 4: \"YuksekSorgu\",5: \"YuksekSorgu\",6: \"YuksekSorgu\", 7: \"YuksekSorgu\",\n",
    "                 8: \"YuksekSorgu\", 9: \"YuksekSorgu\", 10: \"YuksekSorgu\", 11:\"YuksekSorgu\",\n",
    "                12:\"YuksekSorgu\", 13:\"YuksekSorgu\" }\n",
    "imputation_df = imputation_df.replace({\"ninq\": ninq_replace})"
   ]
  },
  {
   "cell_type": "markdown",
   "metadata": {
    "colab_type": "text",
    "id": "QkP1n5kjxqNy"
   },
   "source": [
    "#### 1.3.4. YOJ Degiskeni\n",
    "\n",
    "YOJ - Musterilerin mevcut is yerinde calistigi yil bakimindan incelendiginde, 0-10 yil arasinda musterilerin her yilda 100'den fazla musteri oldugunu goruyoruz. Bu nedenle musterileri mevcut is yili bakiminda 0-10, 11-20, 21-30, 31-40, 41-50 seklinde kategorilere ayiriyoruz. "
   ]
  },
  {
   "cell_type": "code",
   "execution_count": 61,
   "metadata": {
    "colab": {
     "base_uri": "https://localhost:8080/",
     "height": 163
    },
    "colab_type": "code",
    "id": "u3ogz9xWxqNy",
    "outputId": "59da3cda-88b9-45e3-ee82-f438f886c7c5",
    "scrolled": false
   },
   "outputs": [
    {
     "data": {
      "text/html": [
       "<div>\n",
       "<style scoped>\n",
       "    .dataframe tbody tr th:only-of-type {\n",
       "        vertical-align: middle;\n",
       "    }\n",
       "\n",
       "    .dataframe tbody tr th {\n",
       "        vertical-align: top;\n",
       "    }\n",
       "\n",
       "    .dataframe thead th {\n",
       "        text-align: right;\n",
       "    }\n",
       "</style>\n",
       "<table border=\"1\" class=\"dataframe\">\n",
       "  <thead>\n",
       "    <tr style=\"text-align: right;\">\n",
       "      <th>yoj</th>\n",
       "      <th>0.0</th>\n",
       "      <th>1.0</th>\n",
       "      <th>2.0</th>\n",
       "      <th>3.0</th>\n",
       "      <th>4.0</th>\n",
       "      <th>5.0</th>\n",
       "      <th>6.0</th>\n",
       "      <th>7.0</th>\n",
       "      <th>8.0</th>\n",
       "      <th>9.0</th>\n",
       "      <th>10.0</th>\n",
       "      <th>11.0</th>\n",
       "      <th>12.0</th>\n",
       "      <th>13.0</th>\n",
       "      <th>14.0</th>\n",
       "      <th>15.0</th>\n",
       "      <th>16.0</th>\n",
       "      <th>17.0</th>\n",
       "      <th>18.0</th>\n",
       "      <th>19.0</th>\n",
       "      <th>20.0</th>\n",
       "      <th>21.0</th>\n",
       "      <th>22.0</th>\n",
       "      <th>23.0</th>\n",
       "      <th>24.0</th>\n",
       "      <th>25.0</th>\n",
       "      <th>26.0</th>\n",
       "      <th>27.0</th>\n",
       "      <th>28.0</th>\n",
       "      <th>29.0</th>\n",
       "      <th>30.0</th>\n",
       "      <th>31.0</th>\n",
       "      <th>35.0</th>\n",
       "      <th>36.0</th>\n",
       "      <th>41.0</th>\n",
       "    </tr>\n",
       "    <tr>\n",
       "      <th>bad</th>\n",
       "      <th></th>\n",
       "      <th></th>\n",
       "      <th></th>\n",
       "      <th></th>\n",
       "      <th></th>\n",
       "      <th></th>\n",
       "      <th></th>\n",
       "      <th></th>\n",
       "      <th></th>\n",
       "      <th></th>\n",
       "      <th></th>\n",
       "      <th></th>\n",
       "      <th></th>\n",
       "      <th></th>\n",
       "      <th></th>\n",
       "      <th></th>\n",
       "      <th></th>\n",
       "      <th></th>\n",
       "      <th></th>\n",
       "      <th></th>\n",
       "      <th></th>\n",
       "      <th></th>\n",
       "      <th></th>\n",
       "      <th></th>\n",
       "      <th></th>\n",
       "      <th></th>\n",
       "      <th></th>\n",
       "      <th></th>\n",
       "      <th></th>\n",
       "      <th></th>\n",
       "      <th></th>\n",
       "      <th></th>\n",
       "      <th></th>\n",
       "      <th></th>\n",
       "      <th></th>\n",
       "    </tr>\n",
       "  </thead>\n",
       "  <tbody>\n",
       "    <tr>\n",
       "      <th>0</th>\n",
       "      <td>0.909605</td>\n",
       "      <td>0.929577</td>\n",
       "      <td>0.862319</td>\n",
       "      <td>0.854839</td>\n",
       "      <td>0.919753</td>\n",
       "      <td>0.876033</td>\n",
       "      <td>0.930769</td>\n",
       "      <td>0.924731</td>\n",
       "      <td>0.88764</td>\n",
       "      <td>0.921053</td>\n",
       "      <td>0.934579</td>\n",
       "      <td>0.925373</td>\n",
       "      <td>0.898305</td>\n",
       "      <td>0.84058</td>\n",
       "      <td>0.867925</td>\n",
       "      <td>0.918367</td>\n",
       "      <td>0.945455</td>\n",
       "      <td>0.972222</td>\n",
       "      <td>0.931034</td>\n",
       "      <td>0.9</td>\n",
       "      <td>0.944444</td>\n",
       "      <td>0.892857</td>\n",
       "      <td>1.0</td>\n",
       "      <td>0.966667</td>\n",
       "      <td>1.0</td>\n",
       "      <td>0.884615</td>\n",
       "      <td>0.928571</td>\n",
       "      <td>0.947368</td>\n",
       "      <td>0.928571</td>\n",
       "      <td>1.0</td>\n",
       "      <td>0.9</td>\n",
       "      <td>1.0</td>\n",
       "      <td>1.0</td>\n",
       "      <td>1.0</td>\n",
       "      <td>0.0</td>\n",
       "    </tr>\n",
       "    <tr>\n",
       "      <th>1</th>\n",
       "      <td>0.090395</td>\n",
       "      <td>0.070423</td>\n",
       "      <td>0.137681</td>\n",
       "      <td>0.145161</td>\n",
       "      <td>0.080247</td>\n",
       "      <td>0.123967</td>\n",
       "      <td>0.069231</td>\n",
       "      <td>0.075269</td>\n",
       "      <td>0.11236</td>\n",
       "      <td>0.078947</td>\n",
       "      <td>0.065421</td>\n",
       "      <td>0.074627</td>\n",
       "      <td>0.101695</td>\n",
       "      <td>0.15942</td>\n",
       "      <td>0.132075</td>\n",
       "      <td>0.081633</td>\n",
       "      <td>0.054545</td>\n",
       "      <td>0.027778</td>\n",
       "      <td>0.068966</td>\n",
       "      <td>0.1</td>\n",
       "      <td>0.055556</td>\n",
       "      <td>0.107143</td>\n",
       "      <td>0.0</td>\n",
       "      <td>0.033333</td>\n",
       "      <td>0.0</td>\n",
       "      <td>0.115385</td>\n",
       "      <td>0.071429</td>\n",
       "      <td>0.052632</td>\n",
       "      <td>0.071429</td>\n",
       "      <td>0.0</td>\n",
       "      <td>0.1</td>\n",
       "      <td>0.0</td>\n",
       "      <td>0.0</td>\n",
       "      <td>0.0</td>\n",
       "      <td>1.0</td>\n",
       "    </tr>\n",
       "  </tbody>\n",
       "</table>\n",
       "</div>"
      ],
      "text/plain": [
       "yoj      0.0       1.0       2.0       3.0   ...  31.0  35.0  36.0  41.0\n",
       "bad                                          ...                        \n",
       "0    0.909605  0.929577  0.862319  0.854839  ...   1.0   1.0   1.0   0.0\n",
       "1    0.090395  0.070423  0.137681  0.145161  ...   0.0   0.0   0.0   1.0\n",
       "\n",
       "[2 rows x 35 columns]"
      ]
     },
     "execution_count": 61,
     "metadata": {
      "tags": []
     },
     "output_type": "execute_result"
    }
   ],
   "source": [
    "crosstab(imputation_df[\"bad\"], imputation_df[\"yoj\"])"
   ]
  },
  {
   "cell_type": "code",
   "execution_count": 62,
   "metadata": {
    "colab": {},
    "colab_type": "code",
    "id": "PPPO1ibyxqOB",
    "scrolled": true
   },
   "outputs": [],
   "source": [
    "yoj = []\n",
    "for i in imputation_df[\"yoj\"]:\n",
    "    i = int(i)\n",
    "    if(i >= 0 and i<=10):\n",
    "        yoj.append(\"0-10\")\n",
    "    elif(i>10 and i<=20):\n",
    "        yoj.append(\"11-20\")\n",
    "    elif(i>20 and i<=30):\n",
    "        yoj.append(\"21-30\")\n",
    "    elif(i>30 and i<=40):\n",
    "        yoj.append(\"31-40\")\n",
    "    else:\n",
    "        yoj.append(\"41-50\")\n",
    "\n",
    "imputation_df[\"yoj\"] = yoj"
   ]
  },
  {
   "cell_type": "code",
   "execution_count": 63,
   "metadata": {
    "colab": {
     "base_uri": "https://localhost:8080/",
     "height": 206
    },
    "colab_type": "code",
    "id": "0SrCon-1xqOE",
    "outputId": "b3a3ef58-259f-4d9a-8492-b37e3531042c",
    "scrolled": true
   },
   "outputs": [
    {
     "data": {
      "text/html": [
       "<div>\n",
       "<style scoped>\n",
       "    .dataframe tbody tr th:only-of-type {\n",
       "        vertical-align: middle;\n",
       "    }\n",
       "\n",
       "    .dataframe tbody tr th {\n",
       "        vertical-align: top;\n",
       "    }\n",
       "\n",
       "    .dataframe thead th {\n",
       "        text-align: right;\n",
       "    }\n",
       "</style>\n",
       "<table border=\"1\" class=\"dataframe\">\n",
       "  <thead>\n",
       "    <tr style=\"text-align: right;\">\n",
       "      <th></th>\n",
       "      <th>bad</th>\n",
       "      <th>loan</th>\n",
       "      <th>mortdue</th>\n",
       "      <th>value</th>\n",
       "      <th>reason</th>\n",
       "      <th>job</th>\n",
       "      <th>yoj</th>\n",
       "      <th>derog</th>\n",
       "      <th>delinq</th>\n",
       "      <th>clage</th>\n",
       "      <th>ninq</th>\n",
       "      <th>clno</th>\n",
       "      <th>debtinc</th>\n",
       "    </tr>\n",
       "  </thead>\n",
       "  <tbody>\n",
       "    <tr>\n",
       "      <th>0</th>\n",
       "      <td>0</td>\n",
       "      <td>81200</td>\n",
       "      <td>18834.0</td>\n",
       "      <td>108355.0</td>\n",
       "      <td>HomeImp</td>\n",
       "      <td>Unknown</td>\n",
       "      <td>21-30</td>\n",
       "      <td>RaporYok</td>\n",
       "      <td>GecikmeYok</td>\n",
       "      <td>139.14</td>\n",
       "      <td>SorguYok</td>\n",
       "      <td>14.0</td>\n",
       "      <td>34.042</td>\n",
       "    </tr>\n",
       "    <tr>\n",
       "      <th>1</th>\n",
       "      <td>0</td>\n",
       "      <td>12600</td>\n",
       "      <td>103960.0</td>\n",
       "      <td>127384.0</td>\n",
       "      <td>DebtCon</td>\n",
       "      <td>Unknown</td>\n",
       "      <td>0-10</td>\n",
       "      <td>RaporYok</td>\n",
       "      <td>GecikmeYok</td>\n",
       "      <td>129.02</td>\n",
       "      <td>SorguYok</td>\n",
       "      <td>25.0</td>\n",
       "      <td>34.479</td>\n",
       "    </tr>\n",
       "    <tr>\n",
       "      <th>2</th>\n",
       "      <td>0</td>\n",
       "      <td>18000</td>\n",
       "      <td>46865.0</td>\n",
       "      <td>61266.0</td>\n",
       "      <td>DebtCon</td>\n",
       "      <td>Unknown</td>\n",
       "      <td>0-10</td>\n",
       "      <td>RaporYok</td>\n",
       "      <td>GecikmeYok</td>\n",
       "      <td>102.59</td>\n",
       "      <td>DusukSorgu</td>\n",
       "      <td>9.0</td>\n",
       "      <td>26.354</td>\n",
       "    </tr>\n",
       "    <tr>\n",
       "      <th>3</th>\n",
       "      <td>0</td>\n",
       "      <td>10300</td>\n",
       "      <td>57676.0</td>\n",
       "      <td>71027.0</td>\n",
       "      <td>DebtCon</td>\n",
       "      <td>Unknown</td>\n",
       "      <td>11-20</td>\n",
       "      <td>RaporYok</td>\n",
       "      <td>GecikmeYok</td>\n",
       "      <td>157.52</td>\n",
       "      <td>DusukSorgu</td>\n",
       "      <td>11.0</td>\n",
       "      <td>33.992</td>\n",
       "    </tr>\n",
       "    <tr>\n",
       "      <th>4</th>\n",
       "      <td>0</td>\n",
       "      <td>9400</td>\n",
       "      <td>56508.0</td>\n",
       "      <td>78358.0</td>\n",
       "      <td>DebtCon</td>\n",
       "      <td>Unknown</td>\n",
       "      <td>11-20</td>\n",
       "      <td>RaporYok</td>\n",
       "      <td>GecikmeYok</td>\n",
       "      <td>141.93</td>\n",
       "      <td>SorguYok</td>\n",
       "      <td>11.0</td>\n",
       "      <td>32.327</td>\n",
       "    </tr>\n",
       "  </tbody>\n",
       "</table>\n",
       "</div>"
      ],
      "text/plain": [
       "   bad   loan   mortdue     value  ...   clage        ninq  clno debtinc\n",
       "0    0  81200   18834.0  108355.0  ...  139.14    SorguYok  14.0  34.042\n",
       "1    0  12600  103960.0  127384.0  ...  129.02    SorguYok  25.0  34.479\n",
       "2    0  18000   46865.0   61266.0  ...  102.59  DusukSorgu   9.0  26.354\n",
       "3    0  10300   57676.0   71027.0  ...  157.52  DusukSorgu  11.0  33.992\n",
       "4    0   9400   56508.0   78358.0  ...  141.93    SorguYok  11.0  32.327\n",
       "\n",
       "[5 rows x 13 columns]"
      ]
     },
     "execution_count": 63,
     "metadata": {
      "tags": []
     },
     "output_type": "execute_result"
    }
   ],
   "source": [
    "imputation_df.head()"
   ]
  },
  {
   "cell_type": "markdown",
   "metadata": {
    "colab_type": "text",
    "id": "rI2IEiNdxqOK"
   },
   "source": [
    "### 2. Dummy Transformation"
   ]
  },
  {
   "cell_type": "code",
   "execution_count": 64,
   "metadata": {
    "colab": {
     "base_uri": "https://localhost:8080/",
     "height": 104
    },
    "colab_type": "code",
    "id": "BSeGKotHxqOL",
    "outputId": "1cf25d11-d919-41be-bfc1-f8dc3eee4af8"
   },
   "outputs": [
    {
     "name": "stdout",
     "output_type": "stream",
     "text": [
      "Numeric Column  :\n",
      " ['bad', 'loan', 'mortdue', 'value', 'clage', 'clno', 'debtinc'] \n",
      "\n",
      "Categoric Column :\n",
      " ['reason', 'job', 'yoj', 'derog', 'delinq', 'ninq']\n"
     ]
    }
   ],
   "source": [
    "num, category = numeric_categoric_variable(imputation_df)"
   ]
  },
  {
   "cell_type": "code",
   "execution_count": 65,
   "metadata": {
    "colab": {
     "base_uri": "https://localhost:8080/",
     "height": 250
    },
    "colab_type": "code",
    "id": "8Lks3jBExqOR",
    "outputId": "28a8874e-9ea5-4917-f2db-c1d16c8f1374",
    "scrolled": false
   },
   "outputs": [
    {
     "name": "stdout",
     "output_type": "stream",
     "text": [
      "Numeric Column  :\n",
      " ['bad', 'loan', 'mortdue', 'value', 'clage', 'clno', 'debtinc', 'reason_DebtCon', 'reason_HomeImp', 'reason_Unknown', 'job_Mgr', 'job_Office', 'job_Other', 'job_ProfEx', 'job_Sales', 'job_Self', 'job_Unknown', 'yoj_0-10', 'yoj_11-20', 'yoj_21-30', 'yoj_31-40', 'yoj_41-50', 'derog_DusukRapor', 'derog_RaporYok', 'derog_YuksekRapor', 'delinq_DusukGecikme', 'delinq_GecikmeYok', 'delinq_YuksekGecikme', 'ninq_DusukSorgu', 'ninq_SorguYok', 'ninq_YuksekSorgu'] \n",
      "\n",
      "Categoric Column :\n",
      " []\n"
     ]
    },
    {
     "data": {
      "text/html": [
       "<div>\n",
       "<style scoped>\n",
       "    .dataframe tbody tr th:only-of-type {\n",
       "        vertical-align: middle;\n",
       "    }\n",
       "\n",
       "    .dataframe tbody tr th {\n",
       "        vertical-align: top;\n",
       "    }\n",
       "\n",
       "    .dataframe thead th {\n",
       "        text-align: right;\n",
       "    }\n",
       "</style>\n",
       "<table border=\"1\" class=\"dataframe\">\n",
       "  <thead>\n",
       "    <tr style=\"text-align: right;\">\n",
       "      <th></th>\n",
       "      <th>bad</th>\n",
       "      <th>loan</th>\n",
       "      <th>mortdue</th>\n",
       "      <th>value</th>\n",
       "      <th>clage</th>\n",
       "      <th>clno</th>\n",
       "      <th>debtinc</th>\n",
       "      <th>reason_DebtCon</th>\n",
       "      <th>reason_HomeImp</th>\n",
       "      <th>reason_Unknown</th>\n",
       "      <th>job_Mgr</th>\n",
       "      <th>job_Office</th>\n",
       "      <th>job_Other</th>\n",
       "      <th>job_ProfEx</th>\n",
       "      <th>job_Sales</th>\n",
       "      <th>job_Self</th>\n",
       "      <th>job_Unknown</th>\n",
       "      <th>yoj_0-10</th>\n",
       "      <th>yoj_11-20</th>\n",
       "      <th>yoj_21-30</th>\n",
       "      <th>yoj_31-40</th>\n",
       "      <th>yoj_41-50</th>\n",
       "      <th>derog_DusukRapor</th>\n",
       "      <th>derog_RaporYok</th>\n",
       "      <th>derog_YuksekRapor</th>\n",
       "      <th>delinq_DusukGecikme</th>\n",
       "      <th>delinq_GecikmeYok</th>\n",
       "      <th>delinq_YuksekGecikme</th>\n",
       "      <th>ninq_DusukSorgu</th>\n",
       "      <th>ninq_SorguYok</th>\n",
       "      <th>ninq_YuksekSorgu</th>\n",
       "    </tr>\n",
       "  </thead>\n",
       "  <tbody>\n",
       "    <tr>\n",
       "      <th>0</th>\n",
       "      <td>0</td>\n",
       "      <td>81200</td>\n",
       "      <td>18834.0</td>\n",
       "      <td>108355.0</td>\n",
       "      <td>139.14</td>\n",
       "      <td>14.0</td>\n",
       "      <td>34.042</td>\n",
       "      <td>0</td>\n",
       "      <td>1</td>\n",
       "      <td>0</td>\n",
       "      <td>0</td>\n",
       "      <td>0</td>\n",
       "      <td>0</td>\n",
       "      <td>0</td>\n",
       "      <td>0</td>\n",
       "      <td>0</td>\n",
       "      <td>1</td>\n",
       "      <td>0</td>\n",
       "      <td>0</td>\n",
       "      <td>1</td>\n",
       "      <td>0</td>\n",
       "      <td>0</td>\n",
       "      <td>0</td>\n",
       "      <td>1</td>\n",
       "      <td>0</td>\n",
       "      <td>0</td>\n",
       "      <td>1</td>\n",
       "      <td>0</td>\n",
       "      <td>0</td>\n",
       "      <td>1</td>\n",
       "      <td>0</td>\n",
       "    </tr>\n",
       "    <tr>\n",
       "      <th>1</th>\n",
       "      <td>0</td>\n",
       "      <td>12600</td>\n",
       "      <td>103960.0</td>\n",
       "      <td>127384.0</td>\n",
       "      <td>129.02</td>\n",
       "      <td>25.0</td>\n",
       "      <td>34.479</td>\n",
       "      <td>1</td>\n",
       "      <td>0</td>\n",
       "      <td>0</td>\n",
       "      <td>0</td>\n",
       "      <td>0</td>\n",
       "      <td>0</td>\n",
       "      <td>0</td>\n",
       "      <td>0</td>\n",
       "      <td>0</td>\n",
       "      <td>1</td>\n",
       "      <td>1</td>\n",
       "      <td>0</td>\n",
       "      <td>0</td>\n",
       "      <td>0</td>\n",
       "      <td>0</td>\n",
       "      <td>0</td>\n",
       "      <td>1</td>\n",
       "      <td>0</td>\n",
       "      <td>0</td>\n",
       "      <td>1</td>\n",
       "      <td>0</td>\n",
       "      <td>0</td>\n",
       "      <td>1</td>\n",
       "      <td>0</td>\n",
       "    </tr>\n",
       "    <tr>\n",
       "      <th>2</th>\n",
       "      <td>0</td>\n",
       "      <td>18000</td>\n",
       "      <td>46865.0</td>\n",
       "      <td>61266.0</td>\n",
       "      <td>102.59</td>\n",
       "      <td>9.0</td>\n",
       "      <td>26.354</td>\n",
       "      <td>1</td>\n",
       "      <td>0</td>\n",
       "      <td>0</td>\n",
       "      <td>0</td>\n",
       "      <td>0</td>\n",
       "      <td>0</td>\n",
       "      <td>0</td>\n",
       "      <td>0</td>\n",
       "      <td>0</td>\n",
       "      <td>1</td>\n",
       "      <td>1</td>\n",
       "      <td>0</td>\n",
       "      <td>0</td>\n",
       "      <td>0</td>\n",
       "      <td>0</td>\n",
       "      <td>0</td>\n",
       "      <td>1</td>\n",
       "      <td>0</td>\n",
       "      <td>0</td>\n",
       "      <td>1</td>\n",
       "      <td>0</td>\n",
       "      <td>1</td>\n",
       "      <td>0</td>\n",
       "      <td>0</td>\n",
       "    </tr>\n",
       "  </tbody>\n",
       "</table>\n",
       "</div>"
      ],
      "text/plain": [
       "   bad   loan   mortdue  ...  ninq_DusukSorgu  ninq_SorguYok  ninq_YuksekSorgu\n",
       "0    0  81200   18834.0  ...                0              1                 0\n",
       "1    0  12600  103960.0  ...                0              1                 0\n",
       "2    0  18000   46865.0  ...                1              0                 0\n",
       "\n",
       "[3 rows x 31 columns]"
      ]
     },
     "execution_count": 65,
     "metadata": {
      "tags": []
     },
     "output_type": "execute_result"
    }
   ],
   "source": [
    "def dummy_df(df, todummy_list):\n",
    "    for x in todummy_list:\n",
    "        dummies = pd.get_dummies(df[x], prefix=x, dummy_na=False)\n",
    "        df = df.drop(x, 1)\n",
    "        df = pd.concat([df, dummies], axis=1)\n",
    "    return df\n",
    "\n",
    "data_dummy = dummy_df(imputation_df, category)\n",
    "num, cat = numeric_categoric_variable(data_dummy)\n",
    "data_dummy.head(3)"
   ]
  },
  {
   "cell_type": "markdown",
   "metadata": {
    "colab_type": "text",
    "id": "nGk8PJ7zxqOU"
   },
   "source": [
    "### 4. Normalization"
   ]
  },
  {
   "cell_type": "code",
   "execution_count": 66,
   "metadata": {
    "colab": {
     "base_uri": "https://localhost:8080/",
     "height": 163
    },
    "colab_type": "code",
    "id": "x5xfWB41xqOU",
    "outputId": "0906873c-9078-4e32-e7d3-36b7ae392540",
    "scrolled": false
   },
   "outputs": [
    {
     "data": {
      "text/html": [
       "<div>\n",
       "<style scoped>\n",
       "    .dataframe tbody tr th:only-of-type {\n",
       "        vertical-align: middle;\n",
       "    }\n",
       "\n",
       "    .dataframe tbody tr th {\n",
       "        vertical-align: top;\n",
       "    }\n",
       "\n",
       "    .dataframe thead th {\n",
       "        text-align: right;\n",
       "    }\n",
       "</style>\n",
       "<table border=\"1\" class=\"dataframe\">\n",
       "  <thead>\n",
       "    <tr style=\"text-align: right;\">\n",
       "      <th></th>\n",
       "      <th>bad</th>\n",
       "      <th>loan</th>\n",
       "      <th>mortdue</th>\n",
       "      <th>value</th>\n",
       "      <th>clage</th>\n",
       "      <th>clno</th>\n",
       "      <th>debtinc</th>\n",
       "      <th>reason_DebtCon</th>\n",
       "      <th>reason_HomeImp</th>\n",
       "      <th>reason_Unknown</th>\n",
       "      <th>job_Mgr</th>\n",
       "      <th>job_Office</th>\n",
       "      <th>job_Other</th>\n",
       "      <th>job_ProfEx</th>\n",
       "      <th>job_Sales</th>\n",
       "      <th>job_Self</th>\n",
       "      <th>job_Unknown</th>\n",
       "      <th>yoj_0-10</th>\n",
       "      <th>yoj_11-20</th>\n",
       "      <th>yoj_21-30</th>\n",
       "      <th>yoj_31-40</th>\n",
       "      <th>yoj_41-50</th>\n",
       "      <th>derog_DusukRapor</th>\n",
       "      <th>derog_RaporYok</th>\n",
       "      <th>derog_YuksekRapor</th>\n",
       "      <th>delinq_DusukGecikme</th>\n",
       "      <th>delinq_GecikmeYok</th>\n",
       "      <th>delinq_YuksekGecikme</th>\n",
       "      <th>ninq_DusukSorgu</th>\n",
       "      <th>ninq_SorguYok</th>\n",
       "      <th>ninq_YuksekSorgu</th>\n",
       "    </tr>\n",
       "  </thead>\n",
       "  <tbody>\n",
       "    <tr>\n",
       "      <th>0</th>\n",
       "      <td>0.0</td>\n",
       "      <td>0.901361</td>\n",
       "      <td>0.034889</td>\n",
       "      <td>0.174266</td>\n",
       "      <td>0.118734</td>\n",
       "      <td>0.197183</td>\n",
       "      <td>0.214128</td>\n",
       "      <td>0.0</td>\n",
       "      <td>1.0</td>\n",
       "      <td>0.0</td>\n",
       "      <td>0.0</td>\n",
       "      <td>0.0</td>\n",
       "      <td>0.0</td>\n",
       "      <td>0.0</td>\n",
       "      <td>0.0</td>\n",
       "      <td>0.0</td>\n",
       "      <td>1.0</td>\n",
       "      <td>0.0</td>\n",
       "      <td>0.0</td>\n",
       "      <td>1.0</td>\n",
       "      <td>0.0</td>\n",
       "      <td>0.0</td>\n",
       "      <td>0.0</td>\n",
       "      <td>1.0</td>\n",
       "      <td>0.0</td>\n",
       "      <td>0.0</td>\n",
       "      <td>1.0</td>\n",
       "      <td>0.0</td>\n",
       "      <td>0.0</td>\n",
       "      <td>1.0</td>\n",
       "      <td>0.0</td>\n",
       "    </tr>\n",
       "    <tr>\n",
       "      <th>1</th>\n",
       "      <td>0.0</td>\n",
       "      <td>0.123583</td>\n",
       "      <td>0.250761</td>\n",
       "      <td>0.213131</td>\n",
       "      <td>0.110067</td>\n",
       "      <td>0.352113</td>\n",
       "      <td>0.217246</td>\n",
       "      <td>1.0</td>\n",
       "      <td>0.0</td>\n",
       "      <td>0.0</td>\n",
       "      <td>0.0</td>\n",
       "      <td>0.0</td>\n",
       "      <td>0.0</td>\n",
       "      <td>0.0</td>\n",
       "      <td>0.0</td>\n",
       "      <td>0.0</td>\n",
       "      <td>1.0</td>\n",
       "      <td>1.0</td>\n",
       "      <td>0.0</td>\n",
       "      <td>0.0</td>\n",
       "      <td>0.0</td>\n",
       "      <td>0.0</td>\n",
       "      <td>0.0</td>\n",
       "      <td>1.0</td>\n",
       "      <td>0.0</td>\n",
       "      <td>0.0</td>\n",
       "      <td>1.0</td>\n",
       "      <td>0.0</td>\n",
       "      <td>0.0</td>\n",
       "      <td>1.0</td>\n",
       "      <td>0.0</td>\n",
       "    </tr>\n",
       "    <tr>\n",
       "      <th>2</th>\n",
       "      <td>0.0</td>\n",
       "      <td>0.184807</td>\n",
       "      <td>0.105973</td>\n",
       "      <td>0.078091</td>\n",
       "      <td>0.087434</td>\n",
       "      <td>0.126761</td>\n",
       "      <td>0.159276</td>\n",
       "      <td>1.0</td>\n",
       "      <td>0.0</td>\n",
       "      <td>0.0</td>\n",
       "      <td>0.0</td>\n",
       "      <td>0.0</td>\n",
       "      <td>0.0</td>\n",
       "      <td>0.0</td>\n",
       "      <td>0.0</td>\n",
       "      <td>0.0</td>\n",
       "      <td>1.0</td>\n",
       "      <td>1.0</td>\n",
       "      <td>0.0</td>\n",
       "      <td>0.0</td>\n",
       "      <td>0.0</td>\n",
       "      <td>0.0</td>\n",
       "      <td>0.0</td>\n",
       "      <td>1.0</td>\n",
       "      <td>0.0</td>\n",
       "      <td>0.0</td>\n",
       "      <td>1.0</td>\n",
       "      <td>0.0</td>\n",
       "      <td>1.0</td>\n",
       "      <td>0.0</td>\n",
       "      <td>0.0</td>\n",
       "    </tr>\n",
       "  </tbody>\n",
       "</table>\n",
       "</div>"
      ],
      "text/plain": [
       "   bad      loan   mortdue  ...  ninq_DusukSorgu  ninq_SorguYok  ninq_YuksekSorgu\n",
       "0  0.0  0.901361  0.034889  ...              0.0            1.0               0.0\n",
       "1  0.0  0.123583  0.250761  ...              0.0            1.0               0.0\n",
       "2  0.0  0.184807  0.105973  ...              1.0            0.0               0.0\n",
       "\n",
       "[3 rows x 31 columns]"
      ]
     },
     "execution_count": 66,
     "metadata": {
      "tags": []
     },
     "output_type": "execute_result"
    }
   ],
   "source": [
    "data_minmax = normalization_minmax(data_dummy)\n",
    "data_minmax.head(3)"
   ]
  },
  {
   "cell_type": "markdown",
   "metadata": {
    "colab_type": "text",
    "id": "H5zt--PGxqOc"
   },
   "source": [
    "# 3. Feature Selection "
   ]
  },
  {
   "cell_type": "markdown",
   "metadata": {
    "colab_type": "text",
    "id": "nWjRfGKmxqOe"
   },
   "source": [
    "### 3.1. Principal Component Analysis"
   ]
  },
  {
   "cell_type": "code",
   "execution_count": 67,
   "metadata": {
    "colab": {
     "base_uri": "https://localhost:8080/",
     "height": 223
    },
    "colab_type": "code",
    "id": "MxN3dkTvxqOg",
    "outputId": "a5580d96-1776-41d4-a166-2c404e5fdd81"
   },
   "outputs": [
    {
     "name": "stdout",
     "output_type": "stream",
     "text": [
      "pca sonrası değişken sayısı:  10\n"
     ]
    },
    {
     "data": {
      "text/html": [
       "<div>\n",
       "<style scoped>\n",
       "    .dataframe tbody tr th:only-of-type {\n",
       "        vertical-align: middle;\n",
       "    }\n",
       "\n",
       "    .dataframe tbody tr th {\n",
       "        vertical-align: top;\n",
       "    }\n",
       "\n",
       "    .dataframe thead th {\n",
       "        text-align: right;\n",
       "    }\n",
       "</style>\n",
       "<table border=\"1\" class=\"dataframe\">\n",
       "  <thead>\n",
       "    <tr style=\"text-align: right;\">\n",
       "      <th></th>\n",
       "      <th>0</th>\n",
       "      <th>1</th>\n",
       "      <th>2</th>\n",
       "      <th>3</th>\n",
       "      <th>4</th>\n",
       "      <th>5</th>\n",
       "      <th>6</th>\n",
       "      <th>7</th>\n",
       "      <th>8</th>\n",
       "      <th>9</th>\n",
       "      <th>bad</th>\n",
       "    </tr>\n",
       "  </thead>\n",
       "  <tbody>\n",
       "    <tr>\n",
       "      <th>0</th>\n",
       "      <td>1.159957</td>\n",
       "      <td>0.282608</td>\n",
       "      <td>0.516574</td>\n",
       "      <td>0.022207</td>\n",
       "      <td>-0.342822</td>\n",
       "      <td>0.281053</td>\n",
       "      <td>0.137621</td>\n",
       "      <td>0.146853</td>\n",
       "      <td>0.988033</td>\n",
       "      <td>-0.026315</td>\n",
       "      <td>0.0</td>\n",
       "    </tr>\n",
       "    <tr>\n",
       "      <th>1</th>\n",
       "      <td>0.277921</td>\n",
       "      <td>-0.306621</td>\n",
       "      <td>-0.830641</td>\n",
       "      <td>-0.022835</td>\n",
       "      <td>-0.084805</td>\n",
       "      <td>0.120057</td>\n",
       "      <td>0.041791</td>\n",
       "      <td>-0.120091</td>\n",
       "      <td>0.034382</td>\n",
       "      <td>-0.106200</td>\n",
       "      <td>0.0</td>\n",
       "    </tr>\n",
       "    <tr>\n",
       "      <th>2</th>\n",
       "      <td>-0.905283</td>\n",
       "      <td>0.150048</td>\n",
       "      <td>-0.276935</td>\n",
       "      <td>0.165399</td>\n",
       "      <td>-0.142965</td>\n",
       "      <td>0.172171</td>\n",
       "      <td>-0.075893</td>\n",
       "      <td>-0.122473</td>\n",
       "      <td>0.036008</td>\n",
       "      <td>-0.100078</td>\n",
       "      <td>0.0</td>\n",
       "    </tr>\n",
       "    <tr>\n",
       "      <th>3</th>\n",
       "      <td>-0.666025</td>\n",
       "      <td>-0.621941</td>\n",
       "      <td>0.775019</td>\n",
       "      <td>0.522635</td>\n",
       "      <td>-0.307075</td>\n",
       "      <td>0.153285</td>\n",
       "      <td>0.030568</td>\n",
       "      <td>-0.047891</td>\n",
       "      <td>-0.209544</td>\n",
       "      <td>-0.143211</td>\n",
       "      <td>0.0</td>\n",
       "    </tr>\n",
       "    <tr>\n",
       "      <th>4</th>\n",
       "      <td>0.522293</td>\n",
       "      <td>-1.087983</td>\n",
       "      <td>0.224038</td>\n",
       "      <td>0.310359</td>\n",
       "      <td>-0.255222</td>\n",
       "      <td>0.110896</td>\n",
       "      <td>0.148047</td>\n",
       "      <td>-0.042916</td>\n",
       "      <td>-0.214423</td>\n",
       "      <td>-0.155488</td>\n",
       "      <td>0.0</td>\n",
       "    </tr>\n",
       "  </tbody>\n",
       "</table>\n",
       "</div>"
      ],
      "text/plain": [
       "          0         1         2         3  ...         7         8         9  bad\n",
       "0  1.159957  0.282608  0.516574  0.022207  ...  0.146853  0.988033 -0.026315  0.0\n",
       "1  0.277921 -0.306621 -0.830641 -0.022835  ... -0.120091  0.034382 -0.106200  0.0\n",
       "2 -0.905283  0.150048 -0.276935  0.165399  ... -0.122473  0.036008 -0.100078  0.0\n",
       "3 -0.666025 -0.621941  0.775019  0.522635  ... -0.047891 -0.209544 -0.143211  0.0\n",
       "4  0.522293 -1.087983  0.224038  0.310359  ... -0.042916 -0.214423 -0.155488  0.0\n",
       "\n",
       "[5 rows x 11 columns]"
      ]
     },
     "execution_count": 67,
     "metadata": {
      "tags": []
     },
     "output_type": "execute_result"
    }
   ],
   "source": [
    "data_pca = featureselection_pca(data_minmax,\"bad\", 0.9)\n",
    "data_pca.head()"
   ]
  },
  {
   "cell_type": "markdown",
   "metadata": {
    "colab_type": "text",
    "id": "CLREJG2BxqOk"
   },
   "source": [
    "### 3.2. Correlation based Feature Selection"
   ]
  },
  {
   "cell_type": "code",
   "execution_count": 68,
   "metadata": {
    "colab": {
     "base_uri": "https://localhost:8080/",
     "height": 206
    },
    "colab_type": "code",
    "id": "sysciTlgxqOl",
    "outputId": "4f77b4df-f4b1-4f6d-8b7f-e9f186210da0",
    "scrolled": true
   },
   "outputs": [
    {
     "data": {
      "text/html": [
       "<div>\n",
       "<style scoped>\n",
       "    .dataframe tbody tr th:only-of-type {\n",
       "        vertical-align: middle;\n",
       "    }\n",
       "\n",
       "    .dataframe tbody tr th {\n",
       "        vertical-align: top;\n",
       "    }\n",
       "\n",
       "    .dataframe thead th {\n",
       "        text-align: right;\n",
       "    }\n",
       "</style>\n",
       "<table border=\"1\" class=\"dataframe\">\n",
       "  <thead>\n",
       "    <tr style=\"text-align: right;\">\n",
       "      <th></th>\n",
       "      <th>yoj_41-50</th>\n",
       "      <th>clage</th>\n",
       "      <th>derog_DusukRapor</th>\n",
       "      <th>delinq_DusukGecikme</th>\n",
       "      <th>ninq_YuksekSorgu</th>\n",
       "      <th>derog_RaporYok</th>\n",
       "      <th>delinq_GecikmeYok</th>\n",
       "      <th>derog_YuksekRapor</th>\n",
       "      <th>delinq_YuksekGecikme</th>\n",
       "      <th>debtinc</th>\n",
       "      <th>bad</th>\n",
       "    </tr>\n",
       "  </thead>\n",
       "  <tbody>\n",
       "    <tr>\n",
       "      <th>0</th>\n",
       "      <td>0.0</td>\n",
       "      <td>0.118734</td>\n",
       "      <td>0.0</td>\n",
       "      <td>0.0</td>\n",
       "      <td>0.0</td>\n",
       "      <td>1.0</td>\n",
       "      <td>1.0</td>\n",
       "      <td>0.0</td>\n",
       "      <td>0.0</td>\n",
       "      <td>0.214128</td>\n",
       "      <td>0.0</td>\n",
       "    </tr>\n",
       "    <tr>\n",
       "      <th>1</th>\n",
       "      <td>0.0</td>\n",
       "      <td>0.110067</td>\n",
       "      <td>0.0</td>\n",
       "      <td>0.0</td>\n",
       "      <td>0.0</td>\n",
       "      <td>1.0</td>\n",
       "      <td>1.0</td>\n",
       "      <td>0.0</td>\n",
       "      <td>0.0</td>\n",
       "      <td>0.217246</td>\n",
       "      <td>0.0</td>\n",
       "    </tr>\n",
       "    <tr>\n",
       "      <th>2</th>\n",
       "      <td>0.0</td>\n",
       "      <td>0.087434</td>\n",
       "      <td>0.0</td>\n",
       "      <td>0.0</td>\n",
       "      <td>0.0</td>\n",
       "      <td>1.0</td>\n",
       "      <td>1.0</td>\n",
       "      <td>0.0</td>\n",
       "      <td>0.0</td>\n",
       "      <td>0.159276</td>\n",
       "      <td>0.0</td>\n",
       "    </tr>\n",
       "    <tr>\n",
       "      <th>3</th>\n",
       "      <td>0.0</td>\n",
       "      <td>0.134473</td>\n",
       "      <td>0.0</td>\n",
       "      <td>0.0</td>\n",
       "      <td>0.0</td>\n",
       "      <td>1.0</td>\n",
       "      <td>1.0</td>\n",
       "      <td>0.0</td>\n",
       "      <td>0.0</td>\n",
       "      <td>0.213772</td>\n",
       "      <td>0.0</td>\n",
       "    </tr>\n",
       "    <tr>\n",
       "      <th>4</th>\n",
       "      <td>0.0</td>\n",
       "      <td>0.121123</td>\n",
       "      <td>0.0</td>\n",
       "      <td>0.0</td>\n",
       "      <td>0.0</td>\n",
       "      <td>1.0</td>\n",
       "      <td>1.0</td>\n",
       "      <td>0.0</td>\n",
       "      <td>0.0</td>\n",
       "      <td>0.201892</td>\n",
       "      <td>0.0</td>\n",
       "    </tr>\n",
       "  </tbody>\n",
       "</table>\n",
       "</div>"
      ],
      "text/plain": [
       "   yoj_41-50     clage  derog_DusukRapor  ...  delinq_YuksekGecikme   debtinc  bad\n",
       "0        0.0  0.118734               0.0  ...                   0.0  0.214128  0.0\n",
       "1        0.0  0.110067               0.0  ...                   0.0  0.217246  0.0\n",
       "2        0.0  0.087434               0.0  ...                   0.0  0.159276  0.0\n",
       "3        0.0  0.134473               0.0  ...                   0.0  0.213772  0.0\n",
       "4        0.0  0.121123               0.0  ...                   0.0  0.201892  0.0\n",
       "\n",
       "[5 rows x 11 columns]"
      ]
     },
     "execution_count": 68,
     "metadata": {
      "tags": []
     },
     "output_type": "execute_result"
    }
   ],
   "source": [
    "data_corr = featureselection_corrcorr(data_minmax, \"bad\",0.6, 10)\n",
    "data_corr.head()"
   ]
  },
  {
   "cell_type": "markdown",
   "metadata": {
    "colab_type": "text",
    "id": "NJ1bYTFLxqOr"
   },
   "source": [
    "### 3.3. RandomForest based Feature Selection"
   ]
  },
  {
   "cell_type": "code",
   "execution_count": 69,
   "metadata": {
    "colab": {
     "base_uri": "https://localhost:8080/",
     "height": 328
    },
    "colab_type": "code",
    "id": "ZpTVBha0xqOr",
    "outputId": "d5d47281-2424-4256-8b82-150e44046607"
   },
   "outputs": [
    {
     "name": "stdout",
     "output_type": "stream",
     "text": [
      "Fitting 10 folds for each of 96 candidates, totalling 960 fits\n"
     ]
    },
    {
     "name": "stderr",
     "output_type": "stream",
     "text": [
      "[Parallel(n_jobs=-1)]: Using backend LokyBackend with 2 concurrent workers.\n",
      "[Parallel(n_jobs=-1)]: Done  37 tasks      | elapsed:    3.8s\n",
      "[Parallel(n_jobs=-1)]: Done 274 tasks      | elapsed:   23.1s\n",
      "[Parallel(n_jobs=-1)]: Done 680 tasks      | elapsed:  1.0min\n",
      "[Parallel(n_jobs=-1)]: Done 957 out of 960 | elapsed:  1.6min remaining:    0.3s\n",
      "[Parallel(n_jobs=-1)]: Done 960 out of 960 | elapsed:  1.6min finished\n"
     ]
    },
    {
     "data": {
      "text/html": [
       "<div>\n",
       "<style scoped>\n",
       "    .dataframe tbody tr th:only-of-type {\n",
       "        vertical-align: middle;\n",
       "    }\n",
       "\n",
       "    .dataframe tbody tr th {\n",
       "        vertical-align: top;\n",
       "    }\n",
       "\n",
       "    .dataframe thead th {\n",
       "        text-align: right;\n",
       "    }\n",
       "</style>\n",
       "<table border=\"1\" class=\"dataframe\">\n",
       "  <thead>\n",
       "    <tr style=\"text-align: right;\">\n",
       "      <th></th>\n",
       "      <th>debtinc</th>\n",
       "      <th>loan</th>\n",
       "      <th>value</th>\n",
       "      <th>clage</th>\n",
       "      <th>clno</th>\n",
       "      <th>delinq_YuksekGecikme</th>\n",
       "      <th>mortdue</th>\n",
       "      <th>bad</th>\n",
       "    </tr>\n",
       "  </thead>\n",
       "  <tbody>\n",
       "    <tr>\n",
       "      <th>0</th>\n",
       "      <td>0.214128</td>\n",
       "      <td>0.901361</td>\n",
       "      <td>0.174266</td>\n",
       "      <td>0.118734</td>\n",
       "      <td>0.197183</td>\n",
       "      <td>0.0</td>\n",
       "      <td>0.034889</td>\n",
       "      <td>0.0</td>\n",
       "    </tr>\n",
       "    <tr>\n",
       "      <th>1</th>\n",
       "      <td>0.217246</td>\n",
       "      <td>0.123583</td>\n",
       "      <td>0.213131</td>\n",
       "      <td>0.110067</td>\n",
       "      <td>0.352113</td>\n",
       "      <td>0.0</td>\n",
       "      <td>0.250761</td>\n",
       "      <td>0.0</td>\n",
       "    </tr>\n",
       "    <tr>\n",
       "      <th>2</th>\n",
       "      <td>0.159276</td>\n",
       "      <td>0.184807</td>\n",
       "      <td>0.078091</td>\n",
       "      <td>0.087434</td>\n",
       "      <td>0.126761</td>\n",
       "      <td>0.0</td>\n",
       "      <td>0.105973</td>\n",
       "      <td>0.0</td>\n",
       "    </tr>\n",
       "    <tr>\n",
       "      <th>3</th>\n",
       "      <td>0.213772</td>\n",
       "      <td>0.097506</td>\n",
       "      <td>0.098027</td>\n",
       "      <td>0.134473</td>\n",
       "      <td>0.154930</td>\n",
       "      <td>0.0</td>\n",
       "      <td>0.133389</td>\n",
       "      <td>0.0</td>\n",
       "    </tr>\n",
       "    <tr>\n",
       "      <th>4</th>\n",
       "      <td>0.201892</td>\n",
       "      <td>0.087302</td>\n",
       "      <td>0.113000</td>\n",
       "      <td>0.121123</td>\n",
       "      <td>0.154930</td>\n",
       "      <td>0.0</td>\n",
       "      <td>0.130427</td>\n",
       "      <td>0.0</td>\n",
       "    </tr>\n",
       "  </tbody>\n",
       "</table>\n",
       "</div>"
      ],
      "text/plain": [
       "    debtinc      loan     value  ...  delinq_YuksekGecikme   mortdue  bad\n",
       "0  0.214128  0.901361  0.174266  ...                   0.0  0.034889  0.0\n",
       "1  0.217246  0.123583  0.213131  ...                   0.0  0.250761  0.0\n",
       "2  0.159276  0.184807  0.078091  ...                   0.0  0.105973  0.0\n",
       "3  0.213772  0.097506  0.098027  ...                   0.0  0.133389  0.0\n",
       "4  0.201892  0.087302  0.113000  ...                   0.0  0.130427  0.0\n",
       "\n",
       "[5 rows x 8 columns]"
      ]
     },
     "execution_count": 69,
     "metadata": {
      "tags": []
     },
     "output_type": "execute_result"
    }
   ],
   "source": [
    "rf_params = {\"max_depth\": [2,5,8,10],\n",
    "             \"max_features\": [2,3,4,5],\n",
    "             \"n_estimators\": [10,50,100],\n",
    "             \"min_samples_split\": [5,10]}\n",
    "\n",
    "x= data_minmax.drop([\"bad\"], axis=1)\n",
    "y = data_minmax[\"bad\"]\n",
    "\n",
    "data_rf = featureselection_randomforest(x,y, rf_params, 7) \n",
    "data_rf.head()"
   ]
  },
  {
   "cell_type": "markdown",
   "metadata": {
    "colab_type": "text",
    "id": "lpiK7AeixqOx"
   },
   "source": [
    "# 4. Modelling (Algorithms)\n",
    "\n",
    "- Decision Tree\n",
    "- Random Forest\n",
    "- Neural Network"
   ]
  },
  {
   "cell_type": "markdown",
   "metadata": {
    "colab_type": "text",
    "id": "vGND0DBhxqOy"
   },
   "source": [
    "### Train-Test data split"
   ]
  },
  {
   "cell_type": "code",
   "execution_count": 70,
   "metadata": {
    "colab": {
     "base_uri": "https://localhost:8080/",
     "height": 34
    },
    "colab_type": "code",
    "id": "T2e90EUWxqOy",
    "outputId": "fbeba021-9e25-4c80-9f6a-6ed5d1da9ec8"
   },
   "outputs": [
    {
     "data": {
      "text/plain": [
       "((1585, 10), (529, 10), (1585,), (529,))"
      ]
     },
     "execution_count": 70,
     "metadata": {
      "tags": []
     },
     "output_type": "execute_result"
    }
   ],
   "source": [
    "x = data_pca.drop([\"bad\"], axis=1)\n",
    "y = data_pca[\"bad\"]\n",
    "xtrain, xtest, ytrain, ytest = train_test_split(x,y, test_size=0.25, random_state=42)\n",
    "xtrain.shape, xtest.shape, ytrain.shape, ytest.shape"
   ]
  },
  {
   "cell_type": "markdown",
   "metadata": {
    "colab_type": "text",
    "id": "xWrOYi1YxqO2"
   },
   "source": [
    "### 4.1. DecisionTree Classifier"
   ]
  },
  {
   "cell_type": "markdown",
   "metadata": {
    "colab_type": "text",
    "id": "xgoN1IBMxqO3"
   },
   "source": [
    "#### 4.1.1. PCA based FS"
   ]
  },
  {
   "cell_type": "code",
   "execution_count": null,
   "metadata": {
    "colab": {
     "base_uri": "https://localhost:8080/",
     "height": 260
    },
    "colab_type": "code",
    "id": "MaDacUIYxqO5",
    "outputId": "9b412ed0-9e5f-4ef8-c6d1-c9c5fb8f08dd"
   },
   "outputs": [
    {
     "name": "stdout",
     "output_type": "stream",
     "text": [
      "accuracy :  0.89603 \n",
      "precision:  0.42105 \n",
      "recall   :  0.32653 \n",
      "f1-score :  0.36782\n",
      "\n",
      "               precision    recall  f1-score   support\n",
      "\n",
      "         0.0       0.93      0.95      0.94       480\n",
      "         1.0       0.42      0.33      0.37        49\n",
      "\n",
      "    accuracy                           0.90       529\n",
      "   macro avg       0.68      0.64      0.66       529\n",
      "weighted avg       0.89      0.90      0.89       529\n",
      "\n"
     ]
    }
   ],
   "source": [
    "x = data_pca.drop([\"bad\"], axis=1)\n",
    "y = data_pca[\"bad\"]\n",
    "xtrain, xtest, ytrain, ytest = train_test_split(x,y, test_size=0.25, random_state=42)\n",
    "xtrain.shape, xtest.shape, ytrain.shape, ytest.shape\n",
    "\n",
    "cart_model = DecisionTreeClassifier().fit(xtrain, ytrain)\n",
    "y_pred = cart_model.predict(xtest)\n",
    "evaluation_metrics(ytest, y_pred)\n",
    "print(\"\\n\",classification_report(ytest, y_pred))"
   ]
  },
  {
   "cell_type": "markdown",
   "metadata": {
    "colab_type": "text",
    "id": "WyeeYRjWxqO_"
   },
   "source": [
    "#### 4.1.2. Correlation based FS"
   ]
  },
  {
   "cell_type": "code",
   "execution_count": null,
   "metadata": {
    "colab": {
     "base_uri": "https://localhost:8080/",
     "height": 260
    },
    "colab_type": "code",
    "id": "SklHV_H5xqPA",
    "outputId": "5f32c695-0352-4da1-e3c4-e185e45f3e97",
    "scrolled": true
   },
   "outputs": [
    {
     "name": "stdout",
     "output_type": "stream",
     "text": [
      "accuracy :  0.90359 \n",
      "precision:  0.48 \n",
      "recall   :  0.4898 \n",
      "f1-score :  0.48485\n",
      "\n",
      "               precision    recall  f1-score   support\n",
      "\n",
      "         0.0       0.95      0.95      0.95       480\n",
      "         1.0       0.48      0.49      0.48        49\n",
      "\n",
      "    accuracy                           0.90       529\n",
      "   macro avg       0.71      0.72      0.72       529\n",
      "weighted avg       0.90      0.90      0.90       529\n",
      "\n"
     ]
    }
   ],
   "source": [
    "x = data_corr.drop([\"bad\"], axis=1)\n",
    "y = data_corr[\"bad\"]\n",
    "xtrain, xtest, ytrain, ytest = train_test_split(x,y, test_size=0.25, random_state=42)\n",
    "xtrain.shape, xtest.shape, ytrain.shape, ytest.shape\n",
    "\n",
    "cart_model = DecisionTreeClassifier()\n",
    "cart_model.fit(xtrain, ytrain)\n",
    "y_pred = cart_model.predict(xtest)\n",
    "\n",
    "evaluation_metrics(ytest, y_pred)\n",
    "print(\"\\n\",classification_report(ytest, y_pred))"
   ]
  },
  {
   "cell_type": "markdown",
   "metadata": {
    "colab_type": "text",
    "id": "cGVP9b_txqPF"
   },
   "source": [
    "#### 4.1.3. RandomForest based FS"
   ]
  },
  {
   "cell_type": "code",
   "execution_count": null,
   "metadata": {
    "colab": {
     "base_uri": "https://localhost:8080/",
     "height": 260
    },
    "colab_type": "code",
    "id": "7HRT4_KexqPG",
    "outputId": "c7728868-10c9-4030-9eb2-c7449399445a",
    "scrolled": true
   },
   "outputs": [
    {
     "name": "stdout",
     "output_type": "stream",
     "text": [
      "accuracy :  0.90548 \n",
      "precision:  0.49123 \n",
      "recall   :  0.57143 \n",
      "f1-score :  0.5283\n",
      "\n",
      "               precision    recall  f1-score   support\n",
      "\n",
      "         0.0       0.96      0.94      0.95       480\n",
      "         1.0       0.49      0.57      0.53        49\n",
      "\n",
      "    accuracy                           0.91       529\n",
      "   macro avg       0.72      0.76      0.74       529\n",
      "weighted avg       0.91      0.91      0.91       529\n",
      "\n"
     ]
    }
   ],
   "source": [
    "x = data_rf.drop([\"bad\"], axis=1)\n",
    "y = data_rf[\"bad\"]\n",
    "xtrain, xtest, ytrain, ytest = train_test_split(x,y, test_size=0.25, random_state=42)\n",
    "xtrain.shape, xtest.shape, ytrain.shape, ytest.shape\n",
    "\n",
    "cart_model = DecisionTreeClassifier()\n",
    "cart_model.fit(xtrain, ytrain)\n",
    "y_pred = cart_model.predict(xtest)\n",
    "evaluation_metrics(ytest, y_pred)\n",
    "print(\"\\n\",classification_report(ytest, y_pred))"
   ]
  },
  {
   "cell_type": "markdown",
   "metadata": {
    "colab_type": "text",
    "id": "n8v51u1hxqPM"
   },
   "source": [
    "## 4.2. RandomForest Classifier"
   ]
  },
  {
   "cell_type": "markdown",
   "metadata": {
    "colab_type": "text",
    "id": "n5VzC5XXxqPO"
   },
   "source": [
    "#### 4.2.1. PCA based FS"
   ]
  },
  {
   "cell_type": "code",
   "execution_count": null,
   "metadata": {
    "colab": {
     "base_uri": "https://localhost:8080/",
     "height": 260
    },
    "colab_type": "code",
    "id": "10A3C2jOxqPP",
    "outputId": "d02f4ad4-ccd0-4fe0-8834-72dc18e47c94"
   },
   "outputs": [
    {
     "name": "stdout",
     "output_type": "stream",
     "text": [
      "accuracy :  0.90359 \n",
      "precision:  0.45455 \n",
      "recall   :  0.20408 \n",
      "f1-score :  0.28169\n",
      "\n",
      "               precision    recall  f1-score   support\n",
      "\n",
      "         0.0       0.92      0.97      0.95       480\n",
      "         1.0       0.45      0.20      0.28        49\n",
      "\n",
      "    accuracy                           0.90       529\n",
      "   macro avg       0.69      0.59      0.62       529\n",
      "weighted avg       0.88      0.90      0.89       529\n",
      "\n"
     ]
    }
   ],
   "source": [
    "x = data_pca.drop([\"bad\"], axis=1)\n",
    "y = data_pca[\"bad\"]\n",
    "xtrain, xtest, ytrain, ytest = train_test_split(x,y, test_size=0.25, random_state=42)\n",
    "xtrain.shape, xtest.shape, ytrain.shape, ytest.shape\n",
    "\n",
    "rf_model = RandomForestClassifier()\n",
    "rf_model.fit(xtrain, ytrain)\n",
    "y_pred = rf_model.predict(xtest)\n",
    "evaluation_metrics(ytest, y_pred)\n",
    "print(\"\\n\",classification_report(ytest, y_pred))"
   ]
  },
  {
   "cell_type": "markdown",
   "metadata": {
    "colab_type": "text",
    "id": "chWm1eQ-xqP-"
   },
   "source": [
    "#### 4.2.2. Correlation based FS"
   ]
  },
  {
   "cell_type": "code",
   "execution_count": null,
   "metadata": {
    "colab": {
     "base_uri": "https://localhost:8080/",
     "height": 260
    },
    "colab_type": "code",
    "id": "hCGEyc59xqQB",
    "outputId": "68857f61-8a95-4260-b375-f89e9747e849"
   },
   "outputs": [
    {
     "name": "stdout",
     "output_type": "stream",
     "text": [
      "accuracy :  0.93573 \n",
      "precision:  0.8 \n",
      "recall   :  0.40816 \n",
      "f1-score :  0.54054\n",
      "\n",
      "               precision    recall  f1-score   support\n",
      "\n",
      "         0.0       0.94      0.99      0.97       480\n",
      "         1.0       0.80      0.41      0.54        49\n",
      "\n",
      "    accuracy                           0.94       529\n",
      "   macro avg       0.87      0.70      0.75       529\n",
      "weighted avg       0.93      0.94      0.93       529\n",
      "\n"
     ]
    }
   ],
   "source": [
    "x = data_corr.drop([\"bad\"], axis=1)\n",
    "y = data_corr[\"bad\"]\n",
    "xtrain, xtest, ytrain, ytest = train_test_split(x,y, test_size=0.25, random_state=42)\n",
    "xtrain.shape, xtest.shape, ytrain.shape, ytest.shape\n",
    "\n",
    "rf_model = RandomForestClassifier()\n",
    "rf_model.fit(xtrain, ytrain)\n",
    "y_pred = rf_model.predict(xtest)\n",
    "evaluation_metrics(ytest, y_pred)\n",
    "print(\"\\n\",classification_report(ytest, y_pred))"
   ]
  },
  {
   "cell_type": "markdown",
   "metadata": {
    "colab_type": "text",
    "id": "pWrbBmyaxqQH"
   },
   "source": [
    "#### 4.2.3. RandomForest based FS"
   ]
  },
  {
   "cell_type": "code",
   "execution_count": null,
   "metadata": {
    "colab": {
     "base_uri": "https://localhost:8080/",
     "height": 260
    },
    "colab_type": "code",
    "id": "mTHcLijIxqQI",
    "outputId": "da69ca28-4e73-4b11-edbb-eec08dde67d2"
   },
   "outputs": [
    {
     "name": "stdout",
     "output_type": "stream",
     "text": [
      "accuracy :  0.94329 \n",
      "precision:  0.88 \n",
      "recall   :  0.44898 \n",
      "f1-score :  0.59459\n",
      "\n",
      "               precision    recall  f1-score   support\n",
      "\n",
      "         0.0       0.95      0.99      0.97       480\n",
      "         1.0       0.88      0.45      0.59        49\n",
      "\n",
      "    accuracy                           0.94       529\n",
      "   macro avg       0.91      0.72      0.78       529\n",
      "weighted avg       0.94      0.94      0.93       529\n",
      "\n"
     ]
    }
   ],
   "source": [
    "x = data_rf.drop([\"bad\"], axis=1)\n",
    "y = data_rf[\"bad\"]\n",
    "xtrain, xtest, ytrain, ytest = train_test_split(x,y, test_size=0.25, random_state=42)\n",
    "xtrain.shape, xtest.shape, ytrain.shape, ytest.shape\n",
    "\n",
    "rf_model = RandomForestClassifier()\n",
    "rf_model.fit(xtrain, ytrain)\n",
    "y_pred = rf_model.predict(xtest)\n",
    "evaluation_metrics(ytest, y_pred)\n",
    "print(\"\\n\",classification_report(ytest, y_pred))"
   ]
  },
  {
   "cell_type": "markdown",
   "metadata": {
    "colab_type": "text",
    "id": "eJZDu8WGxqQR"
   },
   "source": [
    "### 4.3. NeuralNetwork Classifier"
   ]
  },
  {
   "cell_type": "markdown",
   "metadata": {
    "colab_type": "text",
    "id": "aPglieF8xqQT"
   },
   "source": [
    "#### 4.3.1. PCA based FS"
   ]
  },
  {
   "cell_type": "code",
   "execution_count": null,
   "metadata": {
    "colab": {
     "base_uri": "https://localhost:8080/",
     "height": 260
    },
    "colab_type": "code",
    "id": "2M2h8O1vxqQW",
    "outputId": "8fa2da43-8962-4bad-ae60-04b497714cee"
   },
   "outputs": [
    {
     "name": "stdout",
     "output_type": "stream",
     "text": [
      "accuracy :  0.89603 \n",
      "precision:  0.28571 \n",
      "recall   :  0.08163 \n",
      "f1-score :  0.12698\n",
      "\n",
      "               precision    recall  f1-score   support\n",
      "\n",
      "         0.0       0.91      0.98      0.94       480\n",
      "         1.0       0.29      0.08      0.13        49\n",
      "\n",
      "    accuracy                           0.90       529\n",
      "   macro avg       0.60      0.53      0.54       529\n",
      "weighted avg       0.85      0.90      0.87       529\n",
      "\n"
     ]
    }
   ],
   "source": [
    "x = data_pca.drop([\"bad\"], axis=1)\n",
    "y = data_pca[\"bad\"]\n",
    "xtrain, xtest, ytrain, ytest = train_test_split(x,y, test_size=0.25, random_state=42)\n",
    "xtrain.shape, xtest.shape, ytrain.shape, ytest.shape\n",
    "\n",
    "mlp_model = MLPClassifier()\n",
    "mlp_model.fit(xtrain, ytrain)\n",
    "y_pred = mlp_model.predict(xtest)\n",
    "evaluation_metrics(ytest, y_pred)\n",
    "print(\"\\n\",classification_report(ytest, y_pred))"
   ]
  },
  {
   "cell_type": "markdown",
   "metadata": {
    "colab_type": "text",
    "id": "yrG1TlIgxqQZ"
   },
   "source": [
    "#### 4.3.2. Correlation based FS"
   ]
  },
  {
   "cell_type": "code",
   "execution_count": null,
   "metadata": {
    "colab": {
     "base_uri": "https://localhost:8080/",
     "height": 260
    },
    "colab_type": "code",
    "id": "iBwpFiaBxqQZ",
    "outputId": "d600bbbe-7ed7-46d3-ee5b-f3b5597dc17d"
   },
   "outputs": [
    {
     "name": "stdout",
     "output_type": "stream",
     "text": [
      "accuracy :  0.92439 \n",
      "precision:  0.84615 \n",
      "recall   :  0.22449 \n",
      "f1-score :  0.35484\n",
      "\n",
      "               precision    recall  f1-score   support\n",
      "\n",
      "         0.0       0.93      1.00      0.96       480\n",
      "         1.0       0.85      0.22      0.35        49\n",
      "\n",
      "    accuracy                           0.92       529\n",
      "   macro avg       0.89      0.61      0.66       529\n",
      "weighted avg       0.92      0.92      0.90       529\n",
      "\n"
     ]
    }
   ],
   "source": [
    "x = data_corr.drop([\"bad\"], axis=1)\n",
    "y = data_corr[\"bad\"]\n",
    "xtrain, xtest, ytrain, ytest = train_test_split(x,y, test_size=0.25, random_state=42)\n",
    "xtrain.shape, xtest.shape, ytrain.shape, ytest.shape\n",
    "\n",
    "mlp_model = MLPClassifier()\n",
    "mlp_model.fit(xtrain, ytrain)\n",
    "y_pred = mlp_model.predict(xtest)\n",
    "evaluation_metrics(ytest, y_pred)\n",
    "print(\"\\n\",classification_report(ytest, y_pred))"
   ]
  },
  {
   "cell_type": "markdown",
   "metadata": {
    "colab_type": "text",
    "id": "i13IH5itxqQh"
   },
   "source": [
    "#### 4.3.3. RandomForest based FS"
   ]
  },
  {
   "cell_type": "code",
   "execution_count": null,
   "metadata": {
    "colab": {
     "base_uri": "https://localhost:8080/",
     "height": 260
    },
    "colab_type": "code",
    "id": "SzQFjfEVxqQi",
    "outputId": "56bea225-12a6-482f-b1d1-3c4bdbb09a88"
   },
   "outputs": [
    {
     "name": "stdout",
     "output_type": "stream",
     "text": [
      "accuracy :  0.91871 \n",
      "precision:  0.75 \n",
      "recall   :  0.18367 \n",
      "f1-score :  0.29508\n",
      "\n",
      "               precision    recall  f1-score   support\n",
      "\n",
      "         0.0       0.92      0.99      0.96       480\n",
      "         1.0       0.75      0.18      0.30        49\n",
      "\n",
      "    accuracy                           0.92       529\n",
      "   macro avg       0.84      0.59      0.63       529\n",
      "weighted avg       0.91      0.92      0.90       529\n",
      "\n"
     ]
    }
   ],
   "source": [
    "x = data_rf.drop([\"bad\"], axis=1)\n",
    "y = data_rf[\"bad\"]\n",
    "xtrain, xtest, ytrain, ytest = train_test_split(x,y, test_size=0.25, random_state=42)\n",
    "xtrain.shape, xtest.shape, ytrain.shape, ytest.shape\n",
    "\n",
    "mlp_model = MLPClassifier()\n",
    "mlp_model.fit(xtrain, ytrain)\n",
    "y_pred = mlp_model.predict(xtest)\n",
    "evaluation_metrics(ytest, y_pred)\n",
    "print(\"\\n\",classification_report(ytest, y_pred))"
   ]
  },
  {
   "cell_type": "markdown",
   "metadata": {
    "colab_type": "text",
    "id": "yoUdZlAxxqQp"
   },
   "source": [
    "# 5. Model Tuning \n",
    "- Finding best parameters using GridSearch\n",
    "\n",
    "Tuning yaparken modelling kisminda en iyi basariyi veren Feature Selection yontemi baz alinarak gerceklestirilmistir. "
   ]
  },
  {
   "cell_type": "code",
   "execution_count": 71,
   "metadata": {
    "colab": {
     "base_uri": "https://localhost:8080/",
     "height": 34
    },
    "colab_type": "code",
    "id": "UKxW7Ob06VF7",
    "outputId": "59d33e50-3443-43b2-cb88-47a56794e042"
   },
   "outputs": [
    {
     "data": {
      "text/plain": [
       "((1585, 7), (529, 7), (1585,), (529,))"
      ]
     },
     "execution_count": 71,
     "metadata": {
      "tags": []
     },
     "output_type": "execute_result"
    }
   ],
   "source": [
    "x = data_rf.drop([\"bad\"], axis=1)\n",
    "y = data_rf[\"bad\"]\n",
    "xtrain, xtest, ytrain, ytest = train_test_split(x,y, test_size=0.25, random_state=42)\n",
    "xtrain.shape, xtest.shape, ytrain.shape, ytest.shape"
   ]
  },
  {
   "cell_type": "markdown",
   "metadata": {
    "colab_type": "text",
    "id": "J3oKdJiUxqQp"
   },
   "source": [
    "### 5.1. DecisionTree Tuning"
   ]
  },
  {
   "cell_type": "code",
   "execution_count": 73,
   "metadata": {
    "colab": {
     "base_uri": "https://localhost:8080/",
     "height": 295
    },
    "colab_type": "code",
    "id": "hYhpNWKdxqQw",
    "outputId": "4ebe7755-3dd2-43fc-d8a3-a2ca50245323"
   },
   "outputs": [
    {
     "name": "stdout",
     "output_type": "stream",
     "text": [
      "CPU times: user 2 µs, sys: 0 ns, total: 2 µs\n",
      "Wall time: 5.25 µs\n",
      "Fitting 10 folds for each of 2160 candidates, totalling 21600 fits\n"
     ]
    },
    {
     "name": "stderr",
     "output_type": "stream",
     "text": [
      "[Parallel(n_jobs=-1)]: Using backend LokyBackend with 2 concurrent workers.\n",
      "[Parallel(n_jobs=-1)]: Done 296 tasks      | elapsed:    2.3s\n",
      "[Parallel(n_jobs=-1)]: Done 4168 tasks      | elapsed:   19.2s\n",
      "[Parallel(n_jobs=-1)]: Done 10664 tasks      | elapsed:  1.0min\n",
      "[Parallel(n_jobs=-1)]: Done 19720 tasks      | elapsed:  2.0min\n"
     ]
    },
    {
     "name": "stdout",
     "output_type": "stream",
     "text": [
      "accuracy :  0.92628 \n",
      "precision:  0.77778 \n",
      "recall   :  0.28571 \n",
      "f1-score :  0.41791\n",
      "{'criterion': 'entropy', 'max_depth': 4, 'max_features': 3, 'min_samples_split': 7}\n",
      "\n",
      "Passed Time:  136.86338118499998\n"
     ]
    },
    {
     "name": "stderr",
     "output_type": "stream",
     "text": [
      "[Parallel(n_jobs=-1)]: Done 21600 out of 21600 | elapsed:  2.3min finished\n"
     ]
    }
   ],
   "source": [
    "%time\n",
    "start = timeit.default_timer()\n",
    "dt_params = {\"criterion\": [\"gini\", \"entropy\"],\n",
    "             \"max_depth\": [2,3,4,5,6,7,8,9,10,11,12,13,14,15,20],\n",
    "             \"max_features\": [2,3,5,6,7,\"auto\", \"sqrt\", \"log2\"],\n",
    "             \"min_samples_split\": [5,7,10,15,20,25,30,50,100]}\n",
    "\n",
    "ytest, y_pred, model, best_params = DecisionTreeTuning(xtrain, ytrain, xtest, ytest, dt_params)\n",
    "evaluation_metrics(ytest, y_pred)\n",
    "print(best_params)\n",
    "stop = timeit.default_timer()\n",
    "print('\\nPassed Time: ', stop - start)  "
   ]
  },
  {
   "cell_type": "markdown",
   "metadata": {
    "colab_type": "text",
    "id": "Ga3ElwDtxqQ0"
   },
   "source": [
    "### 5.2. RandomForest Tuning"
   ]
  },
  {
   "cell_type": "code",
   "execution_count": null,
   "metadata": {
    "colab": {
     "base_uri": "https://localhost:8080/",
     "height": 538
    },
    "colab_type": "code",
    "id": "O1KPJJlexqQ4",
    "outputId": "3ce87bbf-cc7d-47a4-a510-61ec1cf98886"
   },
   "outputs": [
    {
     "name": "stdout",
     "output_type": "stream",
     "text": [
      "Fitting 10 folds for each of 1848 candidates, totalling 18480 fits\n"
     ]
    },
    {
     "name": "stderr",
     "output_type": "stream",
     "text": [
      "[Parallel(n_jobs=-1)]: Using backend LokyBackend with 2 concurrent workers.\n",
      "[Parallel(n_jobs=-1)]: Done  37 tasks      | elapsed:    5.1s\n",
      "[Parallel(n_jobs=-1)]: Done 264 tasks      | elapsed:   28.9s\n",
      "[Parallel(n_jobs=-1)]: Done 670 tasks      | elapsed:  1.3min\n",
      "[Parallel(n_jobs=-1)]: Done 1236 tasks      | elapsed:  2.5min\n",
      "[Parallel(n_jobs=-1)]: Done 1966 tasks      | elapsed:  4.2min\n",
      "[Parallel(n_jobs=-1)]: Done 2856 tasks      | elapsed:  6.3min\n",
      "[Parallel(n_jobs=-1)]: Done 3519 tasks      | elapsed:  8.1min\n",
      "[Parallel(n_jobs=-1)]: Done 4126 tasks      | elapsed:  9.7min\n",
      "[Parallel(n_jobs=-1)]: Done 4815 tasks      | elapsed: 12.0min\n",
      "[Parallel(n_jobs=-1)]: Done 5584 tasks      | elapsed: 14.2min\n",
      "[Parallel(n_jobs=-1)]: Done 6435 tasks      | elapsed: 17.3min\n",
      "[Parallel(n_jobs=-1)]: Done 7366 tasks      | elapsed: 20.3min\n",
      "[Parallel(n_jobs=-1)]: Done 8379 tasks      | elapsed: 24.4min\n",
      "[Parallel(n_jobs=-1)]: Done 9472 tasks      | elapsed: 28.2min\n",
      "[Parallel(n_jobs=-1)]: Done 10647 tasks      | elapsed: 32.8min\n",
      "[Parallel(n_jobs=-1)]: Done 11902 tasks      | elapsed: 38.5min\n",
      "[Parallel(n_jobs=-1)]: Done 13239 tasks      | elapsed: 44.3min\n",
      "[Parallel(n_jobs=-1)]: Done 14656 tasks      | elapsed: 50.5min\n",
      "[Parallel(n_jobs=-1)]: Done 16155 tasks      | elapsed: 57.6min\n",
      "[Parallel(n_jobs=-1)]: Done 17734 tasks      | elapsed: 65.3min\n"
     ]
    },
    {
     "name": "stdout",
     "output_type": "stream",
     "text": [
      "accuracy :  0.93951 \n",
      "precision:  0.84 \n",
      "recall   :  0.42857 \n",
      "f1-score :  0.56757\n",
      "{'max_depth': 12, 'max_features': 6, 'min_samples_split': 5, 'n_estimators': 10}\n",
      "\n",
      "Passed Time:  4206.38664778\n"
     ]
    },
    {
     "name": "stderr",
     "output_type": "stream",
     "text": [
      "[Parallel(n_jobs=-1)]: Done 18480 out of 18480 | elapsed: 70.1min finished\n"
     ]
    }
   ],
   "source": [
    "start = timeit.default_timer()\n",
    "\n",
    "rf_params = {\"max_depth\": [2,3,5,6,7,8,9,10,12,13,15],\n",
    "             \"max_features\": [2,3,4,5,6,7],\n",
    "             \"n_estimators\": [10,50,100,150],\n",
    "             \"min_samples_split\": [5,10,15,20,30,50,100]}\n",
    "\n",
    "\n",
    "ytest, y_pred, model, best_params = RandomForestTuning(xtrain,ytrain,xtest,ytest, rf_params)\n",
    "evaluation_metrics(ytest, y_pred)\n",
    "print(best_params)\n",
    "\n",
    "stop = timeit.default_timer()\n",
    "print('\\nPassed Time: ', stop - start)  "
   ]
  },
  {
   "cell_type": "markdown",
   "metadata": {
    "colab_type": "text",
    "id": "Ghl86BXCxqQ6"
   },
   "source": [
    "### 5.3. Neural Network Tuning"
   ]
  },
  {
   "cell_type": "code",
   "execution_count": 75,
   "metadata": {
    "colab": {
     "base_uri": "https://localhost:8080/",
     "height": 260
    },
    "colab_type": "code",
    "id": "YgEHU0CUxqQ-",
    "outputId": "56d65886-fed8-4802-f846-d625f7087aa2"
   },
   "outputs": [
    {
     "name": "stdout",
     "output_type": "stream",
     "text": [
      "Fitting 10 folds for each of 72 candidates, totalling 720 fits\n"
     ]
    },
    {
     "name": "stderr",
     "output_type": "stream",
     "text": [
      "[Parallel(n_jobs=-1)]: Using backend LokyBackend with 2 concurrent workers.\n",
      "[Parallel(n_jobs=-1)]: Done  37 tasks      | elapsed:   11.8s\n",
      "[Parallel(n_jobs=-1)]: Done 158 tasks      | elapsed:   55.2s\n",
      "[Parallel(n_jobs=-1)]: Done 361 tasks      | elapsed:  2.2min\n",
      "[Parallel(n_jobs=-1)]: Done 664 tasks      | elapsed:  3.5min\n",
      "[Parallel(n_jobs=-1)]: Done 720 out of 720 | elapsed:  3.8min finished\n"
     ]
    },
    {
     "name": "stdout",
     "output_type": "stream",
     "text": [
      "accuracy :  0.90737 \n",
      "precision:  0.0 \n",
      "recall   :  0.0 \n",
      "f1-score :  0.0\n",
      "{'activation': 'logistic', 'alpha': 0.005, 'hidden_layer_sizes': (10, 10), 'solver': 'lbfgs'}\n",
      "\n",
      "Passed Time:  225.96997208599987\n"
     ]
    }
   ],
   "source": [
    "start = timeit.default_timer()\n",
    "\n",
    "mlp_param = {\"alpha\": [0.1,0.01,0.005],\n",
    "             \"hidden_layer_sizes\": [(3,3), \n",
    "                                    (5,5), \n",
    "                                    (10,10), \n",
    "                                    (10,10,10)],\n",
    "             \"activation\": [\"relu\",\"logistic\"],\n",
    "              \"solver\": [\"lbfgs\", \"adam\",\"sgd\"]}\n",
    "\n",
    "ytest, y_pred, model, best_params = NeuralNetworkTuning(xtrain,ytrain,xtest,ytest, mlp_param)\n",
    "evaluation_metrics(ytest, y_pred)\n",
    "print(best_params)\n",
    "\n",
    "stop = timeit.default_timer()\n",
    "print('\\nPassed Time: ', stop - start)  "
   ]
  }
 ],
 "metadata": {
  "colab": {
   "collapsed_sections": [],
   "name": "assignment6-Classification.ipynb",
   "provenance": []
  },
  "kernelspec": {
   "display_name": "Python 3",
   "language": "python",
   "name": "python3"
  },
  "language_info": {
   "codemirror_mode": {
    "name": "ipython",
    "version": 3
   },
   "file_extension": ".py",
   "mimetype": "text/x-python",
   "name": "python",
   "nbconvert_exporter": "python",
   "pygments_lexer": "ipython3",
   "version": "3.7.4"
  }
 },
 "nbformat": 4,
 "nbformat_minor": 1
}
