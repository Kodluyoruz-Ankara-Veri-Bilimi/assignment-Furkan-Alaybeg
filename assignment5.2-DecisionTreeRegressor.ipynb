{
 "cells": [
  {
   "cell_type": "markdown",
   "metadata": {},
   "source": [
    "# Regressor Algorithms \n",
    "\n",
    "- Decision Tree Regressor\n",
    "- Random Forest Regressor \n",
    "- Neural Network Regessor"
   ]
  },
  {
   "cell_type": "code",
   "execution_count": 7,
   "metadata": {
    "colab": {
     "base_uri": "https://localhost:8080/",
     "height": 52
    },
    "colab_type": "code",
    "id": "bUggoKJops2Y",
    "outputId": "a3707905-be63-4774-a0e3-8d21789e856e"
   },
   "outputs": [],
   "source": [
    "import numpy as np\n",
    "import pandas as pd \n",
    "import statsmodels.api as sm\n",
    "import statsmodels.formula.api as smf\n",
    "import seaborn as sns\n",
    "import matplotlib.pyplot as plt\n",
    "from sklearn.preprocessing import scale, MinMaxScaler, Normalizer, StandardScaler, MaxAbsScaler\n",
    "from sklearn.model_selection import train_test_split, GridSearchCV, cross_val_score\n",
    "from sklearn.metrics import mean_squared_error, mean_absolute_error\n",
    "from sklearn.metrics import roc_auc_score,roc_curve, classification_report\n",
    "import statsmodels.formula.api as smf\n",
    "from sklearn.linear_model import LogisticRegression\n",
    "from sklearn import preprocessing\n",
    "from sklearn.tree import DecisionTreeRegressor\n",
    "from sklearn.ensemble import RandomForestRegressor\n",
    "from sklearn.neural_network import MLPRegressor\n",
    "from sklearn.decomposition import PCA\n",
    "from sklearn import tree \n",
    "\n",
    "from warnings import filterwarnings\n",
    "filterwarnings('ignore')"
   ]
  },
  {
   "cell_type": "code",
   "execution_count": 20,
   "metadata": {},
   "outputs": [],
   "source": [
    "def correlation_df(data, remove_columns=None):\n",
    "    if(remove_columns is None):\n",
    "        corr = data.corr()\n",
    "        corr = corr.where(np.triu(np.ones(corr.shape)).astype(np.bool))\n",
    "        corr = corr.stack().reset_index()\n",
    "        new_df = corr[corr[\"level_0\"] != corr[\"level_1\"]]\n",
    "        new_df.columns = ['feature1','feature2','Corr']\n",
    "        new_df[\"Corr\"] = abs(new_df[\"Corr\"])\n",
    "    else:\n",
    "        data2 = data.drop(remove_columns, axis=1)\n",
    "        corr = data2.corr()\n",
    "        corr = corr.where(np.triu(np.ones(corr.shape)).astype(np.bool))\n",
    "        corr = corr.stack().reset_index()\n",
    "        new_df = corr[corr[\"level_0\"] != corr[\"level_1\"]]\n",
    "        new_df.columns = ['feature1','feature2','Corr']\n",
    "        new_df[\"Corr\"] = abs(new_df[\"Corr\"])\n",
    "    return new_df\n",
    "\n",
    "def dummy_df(df, todummy_list):\n",
    "    for x in todummy_list:\n",
    "        dummies = pd.get_dummies(df[x], prefix=x, dummy_na=False)\n",
    "        df = df.drop(x, 1)\n",
    "        df = pd.concat([df, dummies], axis=1)\n",
    "    return df\n",
    "\n",
    "def numeric_categoric_variable(data):\n",
    "    name_of_col = list(data.columns)\n",
    "    num_var_list = []\n",
    "    str_var_list = []\n",
    "    drop_col=[]\n",
    "\n",
    "    str_var_list = name_of_col.copy()\n",
    "    for var in name_of_col:\n",
    "        # check if column belongs to numeric type\n",
    "        if (data[var].dtypes not in (np.object, np.str)):\n",
    "            str_var_list.remove(var)\n",
    "            num_var_list.append(var)\n",
    "        # drop the omit column from list\n",
    "    for var in drop_col:\n",
    "        if var in str_var_list:\n",
    "            str_var_list.remove(var)\n",
    "        if var in num_var_list:\n",
    "            num_var_list.remove(var)\n",
    "    print(\"Numeric Column  :\\n\", num_var_list,\n",
    "          \"\\n\\nCategoric Column :\\n\", str_var_list)\n",
    "    return num_var_list, str_var_list\n",
    "\n",
    "def sortDifferentCategory(data):\n",
    "    def takeSecond(elem):\n",
    "        return elem[1]\n",
    "\n",
    "    listem = []\n",
    "    for i in data.select_dtypes(include=[\"object\", \"int64\", \"float64\"]).columns:\n",
    "        listem.append([i, data[i].value_counts().count()])\n",
    "\n",
    "    return sorted(listem, key=takeSecond ,reverse=False)\n",
    "\n",
    "def layer1(data_norm, remove_col, threshold):\n",
    "    corr_col=set()\n",
    "    data2 = data.drop(remove_col, axis=1)\n",
    "    corrmat=data2.corr()\n",
    "    for i in range(len(corrmat.columns)):\n",
    "        for j in range(i):\n",
    "            if abs(corrmat.iloc[i,j] > threshold):\n",
    "                colname=corrmat.columns[i]\n",
    "                corr_col.add(colname)\n",
    "    corr_col=list(corr_col)\n",
    "    layer1_df = data_norm.drop(corr_col, axis=1)\n",
    "    #layer1_df[\"labels\"] = data_norm[\"labels\"]\n",
    "    return layer1_df\n",
    "\n",
    "def describe(data):\n",
    "    desc_df = data.describe().T\n",
    "    null_count = data.isnull().sum()\n",
    "    null_percent = (data.isnull().sum() / data.count())*100\n",
    "    variance = data.var()\n",
    "\n",
    "    desc_df[\"variance\"] =  round(variance,3)\n",
    "    desc_df[\"null_values\"] = round(null_count,3)\n",
    "    desc_df[\"null__rate\"] = round(null_percent,3)\n",
    "    return desc_df.T\n",
    "\n",
    "def layer2(new_df, target, num_feats):\n",
    "    x = new_df.drop([target], axis=1)\n",
    "    y = new_df[target]\n",
    "    cor_list = []\n",
    "    feature_name = list(x.columns)\n",
    "    for i in list(x.columns):\n",
    "        cor = np.corrcoef(x[i],y)[0,1]\n",
    "        cor_list.append(cor)\n",
    "\n",
    "    cor_list = [0 if np.isnan(i) else i for i in cor_list]\n",
    "    cor_feature = x.iloc[:,np.argsort(np.abs(cor_list))[-num_feats:]].columns.tolist()\n",
    "    return cor_feature\n",
    "\n",
    "def nulldata_check(data, ascending=False):\n",
    "    count = data.isnull().sum().sort_values(ascending=ascending).to_frame()\n",
    "    percent = (data.isnull().sum().sort_values(ascending=ascending)/data.iloc[:,-1].count()).to_frame().round(decimals=4)\n",
    "    df = pd.concat([count, percent], axis=1)\n",
    "    df.columns = [\"count\",\"percentage\"]\n",
    "    return df\n",
    "\n",
    "def featureselection_corrcorr(data, target, threshold, num_feat):\n",
    "    layer1_df = layer1(data, target, threshold)\n",
    "    last_features = layer2(layer1_df, target, num_feat)\n",
    "    reduced_df = data[last_features]\n",
    "    reduced_df[target] = data[target]\n",
    "    return reduced_df\n",
    "\n",
    "def featureselection_pca(data_minmax, target, threshold):\n",
    "    x = data_minmax.drop([target], axis=1)\n",
    "    y = data_minmax[target]\n",
    "    pca = PCA()    \n",
    "    X_pca = pca.fit_transform(x)\n",
    "    arr = np.cumsum(np.round(pca.explained_variance_ratio_, decimals = 4)*100)\n",
    "    num_var = sum((arr < threshold*100)) + 1 \n",
    "    print('pca sonrası değişken sayısı: ',num_var)\n",
    "    X_pcad = pd.DataFrame(X_pca[:,0:num_var], index = x.index)\n",
    "    X_pcad[target] = y\n",
    "    return X_pcad"
   ]
  },
  {
   "cell_type": "code",
   "execution_count": 23,
   "metadata": {},
   "outputs": [],
   "source": [
    "def normalization_minmax(dataframe, target):\n",
    "    x = dataframe\n",
    "    y = dataframe[target]\n",
    "    scaler = preprocessing.MinMaxScaler()\n",
    "    scaler.fit(x)\n",
    "    array = scaler.transform(x)\n",
    "    data_minmax = pd.DataFrame(array, columns=dataframe.columns)\n",
    "    data_minmax[target] = y\n",
    "    return data_minmax\n",
    "\n",
    "def featureselection_randomforest(xtrain,ytrain, params, top_feat, cv=10, n_jobs=-1, verbose=2):\n",
    "    model = RandomForestRegressor()\n",
    "    gridsearch_cv = GridSearchCV(model, params, cv=cv, n_jobs=n_jobs, verbose=verbose)\n",
    "    grid_cv_model = gridsearch_cv.fit(xtrain, ytrain)\n",
    "    # best parameters\n",
    "    model.max_depth = grid_cv_model.best_params_[\"max_depth\"]\n",
    "    model.max_features = grid_cv_model.best_params_[\"max_features\"] \n",
    "    model.n_estimators = grid_cv_model.best_params_[\"n_estimators\"]\n",
    "    model.min_samples_split= grid_cv_model.best_params_[\"min_samples_split\"]\n",
    "    # tuned model\n",
    "    model_tuned = model.fit(xtrain, ytrain)\n",
    "    #y_pred = model_tuned.predict(xtest)\n",
    "    \n",
    "    importance = pd.DataFrame({\"importance\": model.feature_importances_*100}, index = xtrain.columns)\n",
    "    rf_columns = importance.sort_values(by=\"importance\", axis=0, ascending=False).head(top_feat).index\n",
    "    new_df = xtrain[rf_columns]\n",
    "    new_df[\"50_target\"] = ytrain\n",
    "    return new_df\n",
    "\n",
    "def evaluation_metrics(ytest, y_pred):\n",
    "    print(\"MSE : \",mean_squared_error(ytest, y_pred))\n",
    "    print(\"RMSE: \",np.sqrt(mean_squared_error(ytest, y_pred)))\n",
    "    print(\"MAE : \",mean_absolute_error(ytest, y_pred))"
   ]
  },
  {
   "cell_type": "markdown",
   "metadata": {
    "colab_type": "text",
    "id": "dIWz2WU2vQZM"
   },
   "source": [
    "### **Data Importing**"
   ]
  },
  {
   "cell_type": "code",
   "execution_count": 10,
   "metadata": {
    "colab": {
     "base_uri": "https://localhost:8080/",
     "height": 255
    },
    "colab_type": "code",
    "id": "4lZSK9hAps3R",
    "outputId": "003327e9-bf82-4cfa-8878-7ccf42510665"
   },
   "outputs": [
    {
     "data": {
      "text/html": [
       "<div>\n",
       "<style scoped>\n",
       "    .dataframe tbody tr th:only-of-type {\n",
       "        vertical-align: middle;\n",
       "    }\n",
       "\n",
       "    .dataframe tbody tr th {\n",
       "        vertical-align: top;\n",
       "    }\n",
       "\n",
       "    .dataframe thead th {\n",
       "        text-align: right;\n",
       "    }\n",
       "</style>\n",
       "<table border=\"1\" class=\"dataframe\">\n",
       "  <thead>\n",
       "    <tr style=\"text-align: right;\">\n",
       "      <th></th>\n",
       "      <th>ind_5</th>\n",
       "      <th>ind_6</th>\n",
       "      <th>ind_8</th>\n",
       "      <th>ind_9</th>\n",
       "      <th>ind_10</th>\n",
       "      <th>ind_12</th>\n",
       "      <th>ind_13</th>\n",
       "      <th>ind_14</th>\n",
       "      <th>ind_15</th>\n",
       "      <th>ind_16</th>\n",
       "      <th>...</th>\n",
       "      <th>ind_416</th>\n",
       "      <th>ind_418</th>\n",
       "      <th>ind_420</th>\n",
       "      <th>ind_422</th>\n",
       "      <th>ind_424</th>\n",
       "      <th>ind_426</th>\n",
       "      <th>ind_428</th>\n",
       "      <th>20_target</th>\n",
       "      <th>50_target</th>\n",
       "      <th>90_target</th>\n",
       "    </tr>\n",
       "  </thead>\n",
       "  <tbody>\n",
       "    <tr>\n",
       "      <th>0</th>\n",
       "      <td>19</td>\n",
       "      <td>17</td>\n",
       "      <td>100.0</td>\n",
       "      <td>85.714286</td>\n",
       "      <td>14.285714</td>\n",
       "      <td>72.363515</td>\n",
       "      <td>60.808814</td>\n",
       "      <td>23.80</td>\n",
       "      <td>17.62</td>\n",
       "      <td>11.73</td>\n",
       "      <td>...</td>\n",
       "      <td>-49.6</td>\n",
       "      <td>-54</td>\n",
       "      <td>-152</td>\n",
       "      <td>-353</td>\n",
       "      <td>1.0</td>\n",
       "      <td>0.498547</td>\n",
       "      <td>0.701906</td>\n",
       "      <td>15.135802</td>\n",
       "      <td>35.625252</td>\n",
       "      <td>36.997753</td>\n",
       "    </tr>\n",
       "    <tr>\n",
       "      <th>1</th>\n",
       "      <td>24</td>\n",
       "      <td>19</td>\n",
       "      <td>100.0</td>\n",
       "      <td>78.571429</td>\n",
       "      <td>21.428571</td>\n",
       "      <td>74.275883</td>\n",
       "      <td>64.366798</td>\n",
       "      <td>11.45</td>\n",
       "      <td>18.16</td>\n",
       "      <td>12.22</td>\n",
       "      <td>...</td>\n",
       "      <td>-55.6</td>\n",
       "      <td>-60</td>\n",
       "      <td>-158</td>\n",
       "      <td>-359</td>\n",
       "      <td>1.0</td>\n",
       "      <td>0.537088</td>\n",
       "      <td>0.690833</td>\n",
       "      <td>15.143348</td>\n",
       "      <td>35.643013</td>\n",
       "      <td>37.016198</td>\n",
       "    </tr>\n",
       "    <tr>\n",
       "      <th>2</th>\n",
       "      <td>30</td>\n",
       "      <td>24</td>\n",
       "      <td>100.0</td>\n",
       "      <td>71.428571</td>\n",
       "      <td>28.571429</td>\n",
       "      <td>75.140402</td>\n",
       "      <td>65.915803</td>\n",
       "      <td>8.75</td>\n",
       "      <td>17.86</td>\n",
       "      <td>12.28</td>\n",
       "      <td>...</td>\n",
       "      <td>-58.4</td>\n",
       "      <td>-60</td>\n",
       "      <td>-160</td>\n",
       "      <td>-362</td>\n",
       "      <td>1.0</td>\n",
       "      <td>0.615169</td>\n",
       "      <td>0.693040</td>\n",
       "      <td>15.146870</td>\n",
       "      <td>35.651301</td>\n",
       "      <td>-37.024805</td>\n",
       "    </tr>\n",
       "    <tr>\n",
       "      <th>3</th>\n",
       "      <td>37</td>\n",
       "      <td>30</td>\n",
       "      <td>100.0</td>\n",
       "      <td>64.285714</td>\n",
       "      <td>35.714286</td>\n",
       "      <td>76.677846</td>\n",
       "      <td>68.584234</td>\n",
       "      <td>7.80</td>\n",
       "      <td>14.76</td>\n",
       "      <td>12.61</td>\n",
       "      <td>...</td>\n",
       "      <td>-61.8</td>\n",
       "      <td>-65</td>\n",
       "      <td>-166</td>\n",
       "      <td>-367</td>\n",
       "      <td>1.0</td>\n",
       "      <td>0.661517</td>\n",
       "      <td>0.673418</td>\n",
       "      <td>15.153283</td>\n",
       "      <td>0.000000</td>\n",
       "      <td>-37.040483</td>\n",
       "    </tr>\n",
       "    <tr>\n",
       "      <th>4</th>\n",
       "      <td>41</td>\n",
       "      <td>37</td>\n",
       "      <td>100.0</td>\n",
       "      <td>57.142857</td>\n",
       "      <td>42.857143</td>\n",
       "      <td>81.603007</td>\n",
       "      <td>76.455495</td>\n",
       "      <td>14.90</td>\n",
       "      <td>11.92</td>\n",
       "      <td>14.25</td>\n",
       "      <td>...</td>\n",
       "      <td>-79.8</td>\n",
       "      <td>-86</td>\n",
       "      <td>-186</td>\n",
       "      <td>-388</td>\n",
       "      <td>1.0</td>\n",
       "      <td>0.747204</td>\n",
       "      <td>0.700522</td>\n",
       "      <td>-15.179065</td>\n",
       "      <td>-35.727079</td>\n",
       "      <td>-37.103503</td>\n",
       "    </tr>\n",
       "  </tbody>\n",
       "</table>\n",
       "<p>5 rows × 136 columns</p>\n",
       "</div>"
      ],
      "text/plain": [
       "   ind_5  ind_6  ind_8      ind_9     ind_10     ind_12     ind_13  ind_14  \\\n",
       "0     19     17  100.0  85.714286  14.285714  72.363515  60.808814   23.80   \n",
       "1     24     19  100.0  78.571429  21.428571  74.275883  64.366798   11.45   \n",
       "2     30     24  100.0  71.428571  28.571429  75.140402  65.915803    8.75   \n",
       "3     37     30  100.0  64.285714  35.714286  76.677846  68.584234    7.80   \n",
       "4     41     37  100.0  57.142857  42.857143  81.603007  76.455495   14.90   \n",
       "\n",
       "   ind_15  ind_16    ...      ind_416  ind_418  ind_420  ind_422  ind_424  \\\n",
       "0   17.62   11.73    ...        -49.6      -54     -152     -353      1.0   \n",
       "1   18.16   12.22    ...        -55.6      -60     -158     -359      1.0   \n",
       "2   17.86   12.28    ...        -58.4      -60     -160     -362      1.0   \n",
       "3   14.76   12.61    ...        -61.8      -65     -166     -367      1.0   \n",
       "4   11.92   14.25    ...        -79.8      -86     -186     -388      1.0   \n",
       "\n",
       "    ind_426   ind_428  20_target  50_target  90_target  \n",
       "0  0.498547  0.701906  15.135802  35.625252  36.997753  \n",
       "1  0.537088  0.690833  15.143348  35.643013  37.016198  \n",
       "2  0.615169  0.693040  15.146870  35.651301 -37.024805  \n",
       "3  0.661517  0.673418  15.153283   0.000000 -37.040483  \n",
       "4  0.747204  0.700522 -15.179065 -35.727079 -37.103503  \n",
       "\n",
       "[5 rows x 136 columns]"
      ]
     },
     "execution_count": 10,
     "metadata": {},
     "output_type": "execute_result"
    }
   ],
   "source": [
    "data = pd.read_excel(\"HW_Data_Set.xlsx\")\n",
    "data.head()"
   ]
  },
  {
   "cell_type": "markdown",
   "metadata": {
    "colab_type": "text",
    "id": "XQNFZ0Aeps3Y"
   },
   "source": [
    "## 1. **Data Statistics**"
   ]
  },
  {
   "cell_type": "code",
   "execution_count": 11,
   "metadata": {
    "colab": {
     "base_uri": "https://localhost:8080/",
     "height": 34
    },
    "colab_type": "code",
    "id": "Jw5NxRvips3Y",
    "outputId": "18de7c9d-d2ec-4d53-c81e-bfdef0838eb3"
   },
   "outputs": [
    {
     "data": {
      "text/plain": [
       "(6167, 136)"
      ]
     },
     "execution_count": 11,
     "metadata": {},
     "output_type": "execute_result"
    }
   ],
   "source": [
    "data.shape"
   ]
  },
  {
   "cell_type": "markdown",
   "metadata": {
    "colab_type": "text",
    "id": "db8W_HQSwvvV"
   },
   "source": [
    "### **1.1. Describe Dataset**"
   ]
  },
  {
   "cell_type": "code",
   "execution_count": 12,
   "metadata": {
    "colab": {
     "base_uri": "https://localhost:8080/",
     "height": 444
    },
    "colab_type": "code",
    "id": "T99mbInmps3c",
    "outputId": "e54b4d83-f056-4ea9-a09b-e244e34d2051"
   },
   "outputs": [
    {
     "data": {
      "text/html": [
       "<div>\n",
       "<style scoped>\n",
       "    .dataframe tbody tr th:only-of-type {\n",
       "        vertical-align: middle;\n",
       "    }\n",
       "\n",
       "    .dataframe tbody tr th {\n",
       "        vertical-align: top;\n",
       "    }\n",
       "\n",
       "    .dataframe thead th {\n",
       "        text-align: right;\n",
       "    }\n",
       "</style>\n",
       "<table border=\"1\" class=\"dataframe\">\n",
       "  <thead>\n",
       "    <tr style=\"text-align: right;\">\n",
       "      <th></th>\n",
       "      <th>ind_5</th>\n",
       "      <th>ind_6</th>\n",
       "      <th>ind_8</th>\n",
       "      <th>ind_9</th>\n",
       "      <th>ind_10</th>\n",
       "      <th>ind_12</th>\n",
       "      <th>ind_13</th>\n",
       "      <th>ind_14</th>\n",
       "      <th>ind_15</th>\n",
       "      <th>ind_16</th>\n",
       "      <th>...</th>\n",
       "      <th>ind_412</th>\n",
       "      <th>ind_414</th>\n",
       "      <th>ind_416</th>\n",
       "      <th>ind_418</th>\n",
       "      <th>ind_424</th>\n",
       "      <th>ind_426</th>\n",
       "      <th>ind_428</th>\n",
       "      <th>20_target</th>\n",
       "      <th>50_target</th>\n",
       "      <th>90_target</th>\n",
       "    </tr>\n",
       "  </thead>\n",
       "  <tbody>\n",
       "    <tr>\n",
       "      <th>count</th>\n",
       "      <td>6167.000000</td>\n",
       "      <td>6167.000000</td>\n",
       "      <td>6167.000000</td>\n",
       "      <td>6167.000000</td>\n",
       "      <td>6167.000000</td>\n",
       "      <td>6167.000000</td>\n",
       "      <td>6167.000000</td>\n",
       "      <td>6167.000000</td>\n",
       "      <td>6167.000000</td>\n",
       "      <td>6167.000000</td>\n",
       "      <td>...</td>\n",
       "      <td>6167.000000</td>\n",
       "      <td>6167.000000</td>\n",
       "      <td>6167.000000</td>\n",
       "      <td>6167.000000</td>\n",
       "      <td>6167.000000</td>\n",
       "      <td>6167.000000</td>\n",
       "      <td>6167.000000</td>\n",
       "      <td>6167.000000</td>\n",
       "      <td>6167.000000</td>\n",
       "      <td>6167.000000</td>\n",
       "    </tr>\n",
       "    <tr>\n",
       "      <th>mean</th>\n",
       "      <td>-0.803146</td>\n",
       "      <td>-0.803470</td>\n",
       "      <td>48.388890</td>\n",
       "      <td>48.289282</td>\n",
       "      <td>0.099609</td>\n",
       "      <td>49.488867</td>\n",
       "      <td>-18.497518</td>\n",
       "      <td>11.771485</td>\n",
       "      <td>11.773550</td>\n",
       "      <td>11.773392</td>\n",
       "      <td>...</td>\n",
       "      <td>0.000224</td>\n",
       "      <td>28.529204</td>\n",
       "      <td>-8.554792</td>\n",
       "      <td>-28.166694</td>\n",
       "      <td>0.490297</td>\n",
       "      <td>0.498188</td>\n",
       "      <td>0.490174</td>\n",
       "      <td>-0.057102</td>\n",
       "      <td>-2.906358</td>\n",
       "      <td>-3.315072</td>\n",
       "    </tr>\n",
       "    <tr>\n",
       "      <th>std</th>\n",
       "      <td>23.624403</td>\n",
       "      <td>23.624144</td>\n",
       "      <td>36.388526</td>\n",
       "      <td>36.478009</td>\n",
       "      <td>60.414625</td>\n",
       "      <td>12.198722</td>\n",
       "      <td>68.281120</td>\n",
       "      <td>6.803997</td>\n",
       "      <td>5.786089</td>\n",
       "      <td>4.970499</td>\n",
       "      <td>...</td>\n",
       "      <td>0.005660</td>\n",
       "      <td>26.316896</td>\n",
       "      <td>16.100087</td>\n",
       "      <td>23.271524</td>\n",
       "      <td>0.425376</td>\n",
       "      <td>0.228547</td>\n",
       "      <td>0.150483</td>\n",
       "      <td>14.834497</td>\n",
       "      <td>34.559778</td>\n",
       "      <td>36.841541</td>\n",
       "    </tr>\n",
       "    <tr>\n",
       "      <th>min</th>\n",
       "      <td>-131.000000</td>\n",
       "      <td>-131.000000</td>\n",
       "      <td>0.000000</td>\n",
       "      <td>0.000000</td>\n",
       "      <td>-100.000000</td>\n",
       "      <td>12.134540</td>\n",
       "      <td>-625.093855</td>\n",
       "      <td>1.050000</td>\n",
       "      <td>1.660000</td>\n",
       "      <td>2.580000</td>\n",
       "      <td>...</td>\n",
       "      <td>-0.023790</td>\n",
       "      <td>0.000000</td>\n",
       "      <td>-103.800000</td>\n",
       "      <td>-188.000000</td>\n",
       "      <td>0.000000</td>\n",
       "      <td>0.000000</td>\n",
       "      <td>0.083530</td>\n",
       "      <td>-15.780588</td>\n",
       "      <td>-37.142889</td>\n",
       "      <td>-38.573858</td>\n",
       "    </tr>\n",
       "    <tr>\n",
       "      <th>25%</th>\n",
       "      <td>-14.000000</td>\n",
       "      <td>-14.000000</td>\n",
       "      <td>14.285714</td>\n",
       "      <td>14.285714</td>\n",
       "      <td>-50.000000</td>\n",
       "      <td>40.868503</td>\n",
       "      <td>-45.687212</td>\n",
       "      <td>6.850000</td>\n",
       "      <td>7.260000</td>\n",
       "      <td>7.635000</td>\n",
       "      <td>...</td>\n",
       "      <td>-0.003230</td>\n",
       "      <td>10.700000</td>\n",
       "      <td>-11.700000</td>\n",
       "      <td>-39.000000</td>\n",
       "      <td>0.000000</td>\n",
       "      <td>0.323783</td>\n",
       "      <td>0.379894</td>\n",
       "      <td>-15.350354</td>\n",
       "      <td>-36.208094</td>\n",
       "      <td>-37.695273</td>\n",
       "    </tr>\n",
       "    <tr>\n",
       "      <th>50%</th>\n",
       "      <td>0.000000</td>\n",
       "      <td>0.000000</td>\n",
       "      <td>50.000000</td>\n",
       "      <td>50.000000</td>\n",
       "      <td>0.000000</td>\n",
       "      <td>49.549766</td>\n",
       "      <td>-2.817298</td>\n",
       "      <td>10.550000</td>\n",
       "      <td>11.040000</td>\n",
       "      <td>11.270000</td>\n",
       "      <td>...</td>\n",
       "      <td>-0.000053</td>\n",
       "      <td>21.300000</td>\n",
       "      <td>0.000000</td>\n",
       "      <td>-22.000000</td>\n",
       "      <td>0.473684</td>\n",
       "      <td>0.495192</td>\n",
       "      <td>0.487078</td>\n",
       "      <td>0.000000</td>\n",
       "      <td>-34.267756</td>\n",
       "      <td>-35.788391</td>\n",
       "    </tr>\n",
       "    <tr>\n",
       "      <th>75%</th>\n",
       "      <td>13.000000</td>\n",
       "      <td>13.000000</td>\n",
       "      <td>85.714286</td>\n",
       "      <td>85.714286</td>\n",
       "      <td>57.142857</td>\n",
       "      <td>58.504375</td>\n",
       "      <td>28.072613</td>\n",
       "      <td>14.950000</td>\n",
       "      <td>15.040000</td>\n",
       "      <td>14.960000</td>\n",
       "      <td>...</td>\n",
       "      <td>0.003414</td>\n",
       "      <td>38.400000</td>\n",
       "      <td>0.000000</td>\n",
       "      <td>-11.000000</td>\n",
       "      <td>1.000000</td>\n",
       "      <td>0.675730</td>\n",
       "      <td>0.601508</td>\n",
       "      <td>15.385945</td>\n",
       "      <td>35.879524</td>\n",
       "      <td>37.521892</td>\n",
       "    </tr>\n",
       "    <tr>\n",
       "      <th>max</th>\n",
       "      <td>76.000000</td>\n",
       "      <td>76.000000</td>\n",
       "      <td>100.000000</td>\n",
       "      <td>100.000000</td>\n",
       "      <td>100.000000</td>\n",
       "      <td>84.821848</td>\n",
       "      <td>81.105847</td>\n",
       "      <td>82.900000</td>\n",
       "      <td>54.240000</td>\n",
       "      <td>37.050000</td>\n",
       "      <td>...</td>\n",
       "      <td>0.023340</td>\n",
       "      <td>281.800000</td>\n",
       "      <td>0.000000</td>\n",
       "      <td>0.000000</td>\n",
       "      <td>1.000000</td>\n",
       "      <td>1.000000</td>\n",
       "      <td>0.868534</td>\n",
       "      <td>15.768767</td>\n",
       "      <td>37.038694</td>\n",
       "      <td>38.465649</td>\n",
       "    </tr>\n",
       "    <tr>\n",
       "      <th>variance</th>\n",
       "      <td>558.112000</td>\n",
       "      <td>558.100000</td>\n",
       "      <td>1324.125000</td>\n",
       "      <td>1330.645000</td>\n",
       "      <td>3649.927000</td>\n",
       "      <td>148.809000</td>\n",
       "      <td>4662.311000</td>\n",
       "      <td>46.294000</td>\n",
       "      <td>33.479000</td>\n",
       "      <td>24.706000</td>\n",
       "      <td>...</td>\n",
       "      <td>0.000000</td>\n",
       "      <td>692.579000</td>\n",
       "      <td>259.213000</td>\n",
       "      <td>541.564000</td>\n",
       "      <td>0.181000</td>\n",
       "      <td>0.052000</td>\n",
       "      <td>0.023000</td>\n",
       "      <td>220.062000</td>\n",
       "      <td>1194.378000</td>\n",
       "      <td>1357.299000</td>\n",
       "    </tr>\n",
       "    <tr>\n",
       "      <th>null_values</th>\n",
       "      <td>0.000000</td>\n",
       "      <td>0.000000</td>\n",
       "      <td>0.000000</td>\n",
       "      <td>0.000000</td>\n",
       "      <td>0.000000</td>\n",
       "      <td>0.000000</td>\n",
       "      <td>0.000000</td>\n",
       "      <td>0.000000</td>\n",
       "      <td>0.000000</td>\n",
       "      <td>0.000000</td>\n",
       "      <td>...</td>\n",
       "      <td>0.000000</td>\n",
       "      <td>0.000000</td>\n",
       "      <td>0.000000</td>\n",
       "      <td>0.000000</td>\n",
       "      <td>0.000000</td>\n",
       "      <td>0.000000</td>\n",
       "      <td>0.000000</td>\n",
       "      <td>0.000000</td>\n",
       "      <td>0.000000</td>\n",
       "      <td>0.000000</td>\n",
       "    </tr>\n",
       "    <tr>\n",
       "      <th>null__rate</th>\n",
       "      <td>0.000000</td>\n",
       "      <td>0.000000</td>\n",
       "      <td>0.000000</td>\n",
       "      <td>0.000000</td>\n",
       "      <td>0.000000</td>\n",
       "      <td>0.000000</td>\n",
       "      <td>0.000000</td>\n",
       "      <td>0.000000</td>\n",
       "      <td>0.000000</td>\n",
       "      <td>0.000000</td>\n",
       "      <td>...</td>\n",
       "      <td>0.000000</td>\n",
       "      <td>0.000000</td>\n",
       "      <td>0.000000</td>\n",
       "      <td>0.000000</td>\n",
       "      <td>0.000000</td>\n",
       "      <td>0.000000</td>\n",
       "      <td>0.000000</td>\n",
       "      <td>0.000000</td>\n",
       "      <td>0.000000</td>\n",
       "      <td>0.000000</td>\n",
       "    </tr>\n",
       "  </tbody>\n",
       "</table>\n",
       "<p>11 rows × 133 columns</p>\n",
       "</div>"
      ],
      "text/plain": [
       "                   ind_5        ind_6        ind_8        ind_9       ind_10  \\\n",
       "count        6167.000000  6167.000000  6167.000000  6167.000000  6167.000000   \n",
       "mean           -0.803146    -0.803470    48.388890    48.289282     0.099609   \n",
       "std            23.624403    23.624144    36.388526    36.478009    60.414625   \n",
       "min          -131.000000  -131.000000     0.000000     0.000000  -100.000000   \n",
       "25%           -14.000000   -14.000000    14.285714    14.285714   -50.000000   \n",
       "50%             0.000000     0.000000    50.000000    50.000000     0.000000   \n",
       "75%            13.000000    13.000000    85.714286    85.714286    57.142857   \n",
       "max            76.000000    76.000000   100.000000   100.000000   100.000000   \n",
       "variance      558.112000   558.100000  1324.125000  1330.645000  3649.927000   \n",
       "null_values     0.000000     0.000000     0.000000     0.000000     0.000000   \n",
       "null__rate      0.000000     0.000000     0.000000     0.000000     0.000000   \n",
       "\n",
       "                  ind_12       ind_13       ind_14       ind_15       ind_16  \\\n",
       "count        6167.000000  6167.000000  6167.000000  6167.000000  6167.000000   \n",
       "mean           49.488867   -18.497518    11.771485    11.773550    11.773392   \n",
       "std            12.198722    68.281120     6.803997     5.786089     4.970499   \n",
       "min            12.134540  -625.093855     1.050000     1.660000     2.580000   \n",
       "25%            40.868503   -45.687212     6.850000     7.260000     7.635000   \n",
       "50%            49.549766    -2.817298    10.550000    11.040000    11.270000   \n",
       "75%            58.504375    28.072613    14.950000    15.040000    14.960000   \n",
       "max            84.821848    81.105847    82.900000    54.240000    37.050000   \n",
       "variance      148.809000  4662.311000    46.294000    33.479000    24.706000   \n",
       "null_values     0.000000     0.000000     0.000000     0.000000     0.000000   \n",
       "null__rate      0.000000     0.000000     0.000000     0.000000     0.000000   \n",
       "\n",
       "                ...           ind_412      ind_414      ind_416      ind_418  \\\n",
       "count           ...       6167.000000  6167.000000  6167.000000  6167.000000   \n",
       "mean            ...          0.000224    28.529204    -8.554792   -28.166694   \n",
       "std             ...          0.005660    26.316896    16.100087    23.271524   \n",
       "min             ...         -0.023790     0.000000  -103.800000  -188.000000   \n",
       "25%             ...         -0.003230    10.700000   -11.700000   -39.000000   \n",
       "50%             ...         -0.000053    21.300000     0.000000   -22.000000   \n",
       "75%             ...          0.003414    38.400000     0.000000   -11.000000   \n",
       "max             ...          0.023340   281.800000     0.000000     0.000000   \n",
       "variance        ...          0.000000   692.579000   259.213000   541.564000   \n",
       "null_values     ...          0.000000     0.000000     0.000000     0.000000   \n",
       "null__rate      ...          0.000000     0.000000     0.000000     0.000000   \n",
       "\n",
       "                 ind_424      ind_426      ind_428    20_target    50_target  \\\n",
       "count        6167.000000  6167.000000  6167.000000  6167.000000  6167.000000   \n",
       "mean            0.490297     0.498188     0.490174    -0.057102    -2.906358   \n",
       "std             0.425376     0.228547     0.150483    14.834497    34.559778   \n",
       "min             0.000000     0.000000     0.083530   -15.780588   -37.142889   \n",
       "25%             0.000000     0.323783     0.379894   -15.350354   -36.208094   \n",
       "50%             0.473684     0.495192     0.487078     0.000000   -34.267756   \n",
       "75%             1.000000     0.675730     0.601508    15.385945    35.879524   \n",
       "max             1.000000     1.000000     0.868534    15.768767    37.038694   \n",
       "variance        0.181000     0.052000     0.023000   220.062000  1194.378000   \n",
       "null_values     0.000000     0.000000     0.000000     0.000000     0.000000   \n",
       "null__rate      0.000000     0.000000     0.000000     0.000000     0.000000   \n",
       "\n",
       "               90_target  \n",
       "count        6167.000000  \n",
       "mean           -3.315072  \n",
       "std            36.841541  \n",
       "min           -38.573858  \n",
       "25%           -37.695273  \n",
       "50%           -35.788391  \n",
       "75%            37.521892  \n",
       "max            38.465649  \n",
       "variance     1357.299000  \n",
       "null_values     0.000000  \n",
       "null__rate      0.000000  \n",
       "\n",
       "[11 rows x 133 columns]"
      ]
     },
     "execution_count": 12,
     "metadata": {},
     "output_type": "execute_result"
    }
   ],
   "source": [
    "describe(data)"
   ]
  },
  {
   "cell_type": "markdown",
   "metadata": {
    "colab_type": "text",
    "id": "1ONWegScw1ZP"
   },
   "source": [
    "### **1.2. Categoric and Numeric variables Analysis**"
   ]
  },
  {
   "cell_type": "code",
   "execution_count": 13,
   "metadata": {
    "colab": {
     "base_uri": "https://localhost:8080/",
     "height": 124
    },
    "colab_type": "code",
    "id": "fr-iPS8Lps3h",
    "outputId": "a8d59dee-e1a6-42b3-c663-8cc1100a6db1"
   },
   "outputs": [
    {
     "name": "stdout",
     "output_type": "stream",
     "text": [
      "Numeric Column  :\n",
      " ['ind_5', 'ind_6', 'ind_8', 'ind_9', 'ind_10', 'ind_12', 'ind_13', 'ind_14', 'ind_15', 'ind_16', 'ind_17', 'ind_18', 'ind_19', 'ind_20', 'ind_21', 'ind_22', 'ind_23', 'ind_25', 'ind_26', 'ind_27', 'ind_28', 'ind_29', 'ind_30', 'ind_31', 'ind_32', 'ind_33', 'ind_34', 'ind_35', 'ind_36', 'ind_37', 'ind_39', 'ind_40', 'ind_41', 'ind_42', 'ind_43', 'ind_44', 'ind_45', 'ind_46', 'ind_47', 'ind_48', 'ind_49', 'ind_50', 'ind_51', 'ind_52', 'ind_53', 'ind_56', 'ind_58', 'ind_61', 'ind_62', 'ind_65', 'ind_67', 'ind_70', 'ind_71', 'ind_74', 'ind_77', 'ind_82', 'ind_83', 'ind_88', 'ind_92', 'ind_102', 'ind_116', 'ind_118', 'ind_122', 'ind_124', 'ind_128', 'ind_130', 'ind_132', 'ind_134', 'ind_136', 'ind_139', 'ind_142', 'ind_145', 'ind_147', 'ind_150', 'ind_153', 'ind_156', 'ind_164', 'ind_168', 'ind_172', 'ind_176', 'ind_179', 'ind_181', 'ind_188', 'ind_194', 'ind_212', 'ind_217', 'ind_225', 'ind_228', 'ind_234', 'ind_237', 'ind_239', 'ind_241', 'ind_243', 'ind_309', 'ind_310', 'ind_311', 'ind_313', 'ind_315', 'ind_316', 'ind_318', 'ind_321', 'ind_324', 'ind_327', 'ind_330', 'ind_332', 'ind_334', 'ind_338', 'ind_340', 'ind_344', 'ind_345', 'ind_347', 'ind_349', 'ind_351', 'ind_352', 'ind_387', 'ind_392', 'ind_397', 'ind_399', 'ind_403', 'ind_404', 'ind_406', 'ind_407', 'ind_410', 'ind_412', 'ind_414', 'ind_416', 'ind_418', 'ind_424', 'ind_426', 'ind_428', '20_target', '50_target', '90_target'] \n",
      "\n",
      "Categoric Column :\n",
      " ['ind_109', 'ind_420', 'ind_422']\n"
     ]
    }
   ],
   "source": [
    "num, cat = numeric_categoric_variable(data)"
   ]
  },
  {
   "cell_type": "code",
   "execution_count": 14,
   "metadata": {
    "colab": {
     "base_uri": "https://localhost:8080/",
     "height": 1000
    },
    "colab_type": "code",
    "id": "sjkAIkKGps3l",
    "outputId": "55d1ea4b-1eda-4111-d39a-cbf22c00bc24"
   },
   "outputs": [
    {
     "data": {
      "text/plain": [
       "[['ind_109', 2],\n",
       " ['ind_40', 6],\n",
       " ['ind_82', 6],\n",
       " ['ind_217', 6],\n",
       " ['ind_28', 7],\n",
       " ['ind_349', 7],\n",
       " ['ind_8', 15],\n",
       " ['ind_9', 15],\n",
       " ['ind_351', 17],\n",
       " ['ind_352', 17],\n",
       " ['ind_70', 18],\n",
       " ['ind_67', 22],\n",
       " ['ind_344', 22],\n",
       " ['ind_83', 25],\n",
       " ['ind_10', 29],\n",
       " ['ind_77', 37],\n",
       " ['ind_61', 38],\n",
       " ['ind_74', 42],\n",
       " ['ind_71', 46],\n",
       " ['ind_58', 50],\n",
       " ['ind_122', 52],\n",
       " ['ind_65', 55],\n",
       " ['ind_62', 64],\n",
       " ['ind_347', 69],\n",
       " ['ind_42', 71],\n",
       " ['ind_334', 71],\n",
       " ['ind_19', 83],\n",
       " ['ind_21', 84],\n",
       " ['ind_52', 90],\n",
       " ['ind_136', 91],\n",
       " ['ind_134', 93],\n",
       " ['ind_43', 94],\n",
       " ['ind_56', 102],\n",
       " ['ind_407', 103],\n",
       " ['ind_345', 108],\n",
       " ['ind_44', 109],\n",
       " ['ind_45', 126],\n",
       " ['ind_124', 128],\n",
       " ['ind_53', 131],\n",
       " ['ind_116', 131],\n",
       " ['ind_46', 135],\n",
       " ['ind_418', 139],\n",
       " ['ind_20', 141],\n",
       " ['ind_410', 143],\n",
       " ['ind_234', 157],\n",
       " ['ind_47', 159],\n",
       " ['ind_5', 162],\n",
       " ['ind_6', 162],\n",
       " ['ind_48', 175],\n",
       " ['ind_23', 177],\n",
       " ['ind_49', 189],\n",
       " ['ind_22', 192],\n",
       " ['ind_406', 200],\n",
       " ['ind_128', 201],\n",
       " ['ind_324', 241],\n",
       " ['ind_309', 249],\n",
       " ['ind_50', 258],\n",
       " ['ind_239', 265],\n",
       " ['ind_340', 281],\n",
       " ['ind_130', 305],\n",
       " ['ind_51', 323],\n",
       " ['ind_132', 390],\n",
       " ['ind_422', 573],\n",
       " ['ind_420', 582],\n",
       " ['ind_416', 620],\n",
       " ['ind_14', 637],\n",
       " ['ind_338', 640],\n",
       " ['ind_332', 874],\n",
       " ['ind_414', 971],\n",
       " ['ind_15', 1172],\n",
       " ['ind_330', 1367],\n",
       " ['ind_327', 1453],\n",
       " ['ind_424', 1725],\n",
       " ['ind_16', 1821],\n",
       " ['ind_88', 2001],\n",
       " ['ind_179', 2140],\n",
       " ['ind_181', 2166],\n",
       " ['ind_17', 2301],\n",
       " ['ind_397', 2598],\n",
       " ['ind_27', 2908],\n",
       " ['ind_18', 3057],\n",
       " ['ind_142', 3614],\n",
       " ['ind_321', 4236],\n",
       " ['50_target', 4355],\n",
       " ['20_target', 4427],\n",
       " ['ind_212', 4441],\n",
       " ['90_target', 4487],\n",
       " ['ind_315', 4499],\n",
       " ['ind_399', 4907],\n",
       " ['ind_318', 4977],\n",
       " ['ind_316', 5019],\n",
       " ['ind_225', 5088],\n",
       " ['ind_118', 5102],\n",
       " ['ind_310', 5156],\n",
       " ['ind_188', 5191],\n",
       " ['ind_243', 5470],\n",
       " ['ind_241', 5502],\n",
       " ['ind_426', 5632],\n",
       " ['ind_387', 5684],\n",
       " ['ind_25', 5708],\n",
       " ['ind_237', 5714],\n",
       " ['ind_194', 5724],\n",
       " ['ind_26', 5797],\n",
       " ['ind_29', 5840],\n",
       " ['ind_313', 5869],\n",
       " ['ind_428', 5901],\n",
       " ['ind_39', 5931],\n",
       " ['ind_311', 5943],\n",
       " ['ind_412', 5975],\n",
       " ['ind_228', 6018],\n",
       " ['ind_12', 6099],\n",
       " ['ind_13', 6099],\n",
       " ['ind_164', 6114],\n",
       " ['ind_404', 6115],\n",
       " ['ind_403', 6121],\n",
       " ['ind_145', 6142],\n",
       " ['ind_30', 6158],\n",
       " ['ind_153', 6165],\n",
       " ['ind_31', 6166],\n",
       " ['ind_92', 6166],\n",
       " ['ind_150', 6166],\n",
       " ['ind_156', 6166],\n",
       " ['ind_32', 6167],\n",
       " ['ind_33', 6167],\n",
       " ['ind_34', 6167],\n",
       " ['ind_35', 6167],\n",
       " ['ind_36', 6167],\n",
       " ['ind_37', 6167],\n",
       " ['ind_41', 6167],\n",
       " ['ind_102', 6167],\n",
       " ['ind_139', 6167],\n",
       " ['ind_147', 6167],\n",
       " ['ind_168', 6167],\n",
       " ['ind_172', 6167],\n",
       " ['ind_176', 6167],\n",
       " ['ind_392', 6167]]"
      ]
     },
     "execution_count": 14,
     "metadata": {},
     "output_type": "execute_result"
    }
   ],
   "source": [
    "sortDifferentCategory(data)"
   ]
  },
  {
   "cell_type": "code",
   "execution_count": 15,
   "metadata": {
    "colab": {
     "base_uri": "https://localhost:8080/",
     "height": 318
    },
    "colab_type": "code",
    "id": "HjkGZakmps3p",
    "outputId": "601f8d86-c0dd-4246-c406-3f08d3d96f57"
   },
   "outputs": [
    {
     "data": {
      "text/html": [
       "<div>\n",
       "<style scoped>\n",
       "    .dataframe tbody tr th:only-of-type {\n",
       "        vertical-align: middle;\n",
       "    }\n",
       "\n",
       "    .dataframe tbody tr th {\n",
       "        vertical-align: top;\n",
       "    }\n",
       "\n",
       "    .dataframe thead th {\n",
       "        text-align: right;\n",
       "    }\n",
       "</style>\n",
       "<table border=\"1\" class=\"dataframe\">\n",
       "  <thead>\n",
       "    <tr style=\"text-align: right;\">\n",
       "      <th></th>\n",
       "      <th>ind_5</th>\n",
       "      <th>ind_6</th>\n",
       "      <th>ind_8</th>\n",
       "      <th>ind_9</th>\n",
       "      <th>ind_10</th>\n",
       "      <th>ind_12</th>\n",
       "      <th>ind_13</th>\n",
       "      <th>ind_14</th>\n",
       "      <th>ind_15</th>\n",
       "      <th>ind_16</th>\n",
       "      <th>...</th>\n",
       "      <th>ind_416</th>\n",
       "      <th>ind_418</th>\n",
       "      <th>ind_420</th>\n",
       "      <th>ind_422</th>\n",
       "      <th>ind_424</th>\n",
       "      <th>ind_426</th>\n",
       "      <th>ind_428</th>\n",
       "      <th>20_target</th>\n",
       "      <th>50_target</th>\n",
       "      <th>90_target</th>\n",
       "    </tr>\n",
       "    <tr>\n",
       "      <th>ind_40</th>\n",
       "      <th></th>\n",
       "      <th></th>\n",
       "      <th></th>\n",
       "      <th></th>\n",
       "      <th></th>\n",
       "      <th></th>\n",
       "      <th></th>\n",
       "      <th></th>\n",
       "      <th></th>\n",
       "      <th></th>\n",
       "      <th></th>\n",
       "      <th></th>\n",
       "      <th></th>\n",
       "      <th></th>\n",
       "      <th></th>\n",
       "      <th></th>\n",
       "      <th></th>\n",
       "      <th></th>\n",
       "      <th></th>\n",
       "      <th></th>\n",
       "      <th></th>\n",
       "    </tr>\n",
       "  </thead>\n",
       "  <tbody>\n",
       "    <tr>\n",
       "      <th>1</th>\n",
       "      <td>51</td>\n",
       "      <td>51</td>\n",
       "      <td>51</td>\n",
       "      <td>51</td>\n",
       "      <td>51</td>\n",
       "      <td>51</td>\n",
       "      <td>51</td>\n",
       "      <td>51</td>\n",
       "      <td>51</td>\n",
       "      <td>51</td>\n",
       "      <td>...</td>\n",
       "      <td>51</td>\n",
       "      <td>51</td>\n",
       "      <td>51</td>\n",
       "      <td>51</td>\n",
       "      <td>51</td>\n",
       "      <td>51</td>\n",
       "      <td>51</td>\n",
       "      <td>51</td>\n",
       "      <td>51</td>\n",
       "      <td>51</td>\n",
       "    </tr>\n",
       "    <tr>\n",
       "      <th>2</th>\n",
       "      <td>325</td>\n",
       "      <td>325</td>\n",
       "      <td>325</td>\n",
       "      <td>325</td>\n",
       "      <td>325</td>\n",
       "      <td>325</td>\n",
       "      <td>325</td>\n",
       "      <td>325</td>\n",
       "      <td>325</td>\n",
       "      <td>325</td>\n",
       "      <td>...</td>\n",
       "      <td>325</td>\n",
       "      <td>325</td>\n",
       "      <td>325</td>\n",
       "      <td>325</td>\n",
       "      <td>325</td>\n",
       "      <td>325</td>\n",
       "      <td>325</td>\n",
       "      <td>325</td>\n",
       "      <td>325</td>\n",
       "      <td>325</td>\n",
       "    </tr>\n",
       "    <tr>\n",
       "      <th>3</th>\n",
       "      <td>2799</td>\n",
       "      <td>2799</td>\n",
       "      <td>2799</td>\n",
       "      <td>2799</td>\n",
       "      <td>2799</td>\n",
       "      <td>2799</td>\n",
       "      <td>2799</td>\n",
       "      <td>2799</td>\n",
       "      <td>2799</td>\n",
       "      <td>2799</td>\n",
       "      <td>...</td>\n",
       "      <td>2799</td>\n",
       "      <td>2799</td>\n",
       "      <td>2799</td>\n",
       "      <td>2799</td>\n",
       "      <td>2799</td>\n",
       "      <td>2799</td>\n",
       "      <td>2799</td>\n",
       "      <td>2799</td>\n",
       "      <td>2799</td>\n",
       "      <td>2799</td>\n",
       "    </tr>\n",
       "    <tr>\n",
       "      <th>4</th>\n",
       "      <td>2594</td>\n",
       "      <td>2594</td>\n",
       "      <td>2594</td>\n",
       "      <td>2594</td>\n",
       "      <td>2594</td>\n",
       "      <td>2594</td>\n",
       "      <td>2594</td>\n",
       "      <td>2594</td>\n",
       "      <td>2594</td>\n",
       "      <td>2594</td>\n",
       "      <td>...</td>\n",
       "      <td>2594</td>\n",
       "      <td>2594</td>\n",
       "      <td>2594</td>\n",
       "      <td>2594</td>\n",
       "      <td>2594</td>\n",
       "      <td>2594</td>\n",
       "      <td>2594</td>\n",
       "      <td>2594</td>\n",
       "      <td>2594</td>\n",
       "      <td>2594</td>\n",
       "    </tr>\n",
       "    <tr>\n",
       "      <th>5</th>\n",
       "      <td>319</td>\n",
       "      <td>319</td>\n",
       "      <td>319</td>\n",
       "      <td>319</td>\n",
       "      <td>319</td>\n",
       "      <td>319</td>\n",
       "      <td>319</td>\n",
       "      <td>319</td>\n",
       "      <td>319</td>\n",
       "      <td>319</td>\n",
       "      <td>...</td>\n",
       "      <td>319</td>\n",
       "      <td>319</td>\n",
       "      <td>319</td>\n",
       "      <td>319</td>\n",
       "      <td>319</td>\n",
       "      <td>319</td>\n",
       "      <td>319</td>\n",
       "      <td>319</td>\n",
       "      <td>319</td>\n",
       "      <td>319</td>\n",
       "    </tr>\n",
       "    <tr>\n",
       "      <th>6</th>\n",
       "      <td>79</td>\n",
       "      <td>79</td>\n",
       "      <td>79</td>\n",
       "      <td>79</td>\n",
       "      <td>79</td>\n",
       "      <td>79</td>\n",
       "      <td>79</td>\n",
       "      <td>79</td>\n",
       "      <td>79</td>\n",
       "      <td>79</td>\n",
       "      <td>...</td>\n",
       "      <td>79</td>\n",
       "      <td>79</td>\n",
       "      <td>79</td>\n",
       "      <td>79</td>\n",
       "      <td>79</td>\n",
       "      <td>79</td>\n",
       "      <td>79</td>\n",
       "      <td>79</td>\n",
       "      <td>79</td>\n",
       "      <td>79</td>\n",
       "    </tr>\n",
       "  </tbody>\n",
       "</table>\n",
       "<p>6 rows × 135 columns</p>\n",
       "</div>"
      ],
      "text/plain": [
       "        ind_5  ind_6  ind_8  ind_9  ind_10  ind_12  ind_13  ind_14  ind_15  \\\n",
       "ind_40                                                                       \n",
       "1          51     51     51     51      51      51      51      51      51   \n",
       "2         325    325    325    325     325     325     325     325     325   \n",
       "3        2799   2799   2799   2799    2799    2799    2799    2799    2799   \n",
       "4        2594   2594   2594   2594    2594    2594    2594    2594    2594   \n",
       "5         319    319    319    319     319     319     319     319     319   \n",
       "6          79     79     79     79      79      79      79      79      79   \n",
       "\n",
       "        ind_16    ...      ind_416  ind_418  ind_420  ind_422  ind_424  \\\n",
       "ind_40            ...                                                    \n",
       "1           51    ...           51       51       51       51       51   \n",
       "2          325    ...          325      325      325      325      325   \n",
       "3         2799    ...         2799     2799     2799     2799     2799   \n",
       "4         2594    ...         2594     2594     2594     2594     2594   \n",
       "5          319    ...          319      319      319      319      319   \n",
       "6           79    ...           79       79       79       79       79   \n",
       "\n",
       "        ind_426  ind_428  20_target  50_target  90_target  \n",
       "ind_40                                                     \n",
       "1            51       51         51         51         51  \n",
       "2           325      325        325        325        325  \n",
       "3          2799     2799       2799       2799       2799  \n",
       "4          2594     2594       2594       2594       2594  \n",
       "5           319      319        319        319        319  \n",
       "6            79       79         79         79         79  \n",
       "\n",
       "[6 rows x 135 columns]"
      ]
     },
     "execution_count": 15,
     "metadata": {},
     "output_type": "execute_result"
    }
   ],
   "source": [
    "data.groupby(\"ind_40\").count()"
   ]
  },
  {
   "cell_type": "code",
   "execution_count": 16,
   "metadata": {
    "colab": {
     "base_uri": "https://localhost:8080/",
     "height": 287
    },
    "colab_type": "code",
    "id": "Wtuah_Kjps3t",
    "outputId": "f1268200-afbd-4b70-be12-b5b39e68c0ec"
   },
   "outputs": [
    {
     "data": {
      "text/html": [
       "<div>\n",
       "<style scoped>\n",
       "    .dataframe tbody tr th:only-of-type {\n",
       "        vertical-align: middle;\n",
       "    }\n",
       "\n",
       "    .dataframe tbody tr th {\n",
       "        vertical-align: top;\n",
       "    }\n",
       "\n",
       "    .dataframe thead th {\n",
       "        text-align: right;\n",
       "    }\n",
       "</style>\n",
       "<table border=\"1\" class=\"dataframe\">\n",
       "  <thead>\n",
       "    <tr style=\"text-align: right;\">\n",
       "      <th></th>\n",
       "      <th>ind_5</th>\n",
       "      <th>ind_6</th>\n",
       "      <th>ind_8</th>\n",
       "      <th>ind_9</th>\n",
       "      <th>ind_10</th>\n",
       "      <th>ind_12</th>\n",
       "      <th>ind_13</th>\n",
       "      <th>ind_14</th>\n",
       "      <th>ind_15</th>\n",
       "      <th>ind_16</th>\n",
       "      <th>...</th>\n",
       "      <th>ind_414</th>\n",
       "      <th>ind_416</th>\n",
       "      <th>ind_418</th>\n",
       "      <th>ind_422</th>\n",
       "      <th>ind_424</th>\n",
       "      <th>ind_426</th>\n",
       "      <th>ind_428</th>\n",
       "      <th>20_target</th>\n",
       "      <th>50_target</th>\n",
       "      <th>90_target</th>\n",
       "    </tr>\n",
       "    <tr>\n",
       "      <th>ind_420</th>\n",
       "      <th></th>\n",
       "      <th></th>\n",
       "      <th></th>\n",
       "      <th></th>\n",
       "      <th></th>\n",
       "      <th></th>\n",
       "      <th></th>\n",
       "      <th></th>\n",
       "      <th></th>\n",
       "      <th></th>\n",
       "      <th></th>\n",
       "      <th></th>\n",
       "      <th></th>\n",
       "      <th></th>\n",
       "      <th></th>\n",
       "      <th></th>\n",
       "      <th></th>\n",
       "      <th></th>\n",
       "      <th></th>\n",
       "      <th></th>\n",
       "      <th></th>\n",
       "    </tr>\n",
       "  </thead>\n",
       "  <tbody>\n",
       "    <tr>\n",
       "      <th>288</th>\n",
       "      <td>1</td>\n",
       "      <td>1</td>\n",
       "      <td>1</td>\n",
       "      <td>1</td>\n",
       "      <td>1</td>\n",
       "      <td>1</td>\n",
       "      <td>1</td>\n",
       "      <td>1</td>\n",
       "      <td>1</td>\n",
       "      <td>1</td>\n",
       "      <td>...</td>\n",
       "      <td>1</td>\n",
       "      <td>1</td>\n",
       "      <td>1</td>\n",
       "      <td>1</td>\n",
       "      <td>1</td>\n",
       "      <td>1</td>\n",
       "      <td>1</td>\n",
       "      <td>1</td>\n",
       "      <td>1</td>\n",
       "      <td>1</td>\n",
       "    </tr>\n",
       "    <tr>\n",
       "      <th>290</th>\n",
       "      <td>1</td>\n",
       "      <td>1</td>\n",
       "      <td>1</td>\n",
       "      <td>1</td>\n",
       "      <td>1</td>\n",
       "      <td>1</td>\n",
       "      <td>1</td>\n",
       "      <td>1</td>\n",
       "      <td>1</td>\n",
       "      <td>1</td>\n",
       "      <td>...</td>\n",
       "      <td>1</td>\n",
       "      <td>1</td>\n",
       "      <td>1</td>\n",
       "      <td>1</td>\n",
       "      <td>1</td>\n",
       "      <td>1</td>\n",
       "      <td>1</td>\n",
       "      <td>1</td>\n",
       "      <td>1</td>\n",
       "      <td>1</td>\n",
       "    </tr>\n",
       "    <tr>\n",
       "      <th>291</th>\n",
       "      <td>1</td>\n",
       "      <td>1</td>\n",
       "      <td>1</td>\n",
       "      <td>1</td>\n",
       "      <td>1</td>\n",
       "      <td>1</td>\n",
       "      <td>1</td>\n",
       "      <td>1</td>\n",
       "      <td>1</td>\n",
       "      <td>1</td>\n",
       "      <td>...</td>\n",
       "      <td>1</td>\n",
       "      <td>1</td>\n",
       "      <td>1</td>\n",
       "      <td>1</td>\n",
       "      <td>1</td>\n",
       "      <td>1</td>\n",
       "      <td>1</td>\n",
       "      <td>1</td>\n",
       "      <td>1</td>\n",
       "      <td>1</td>\n",
       "    </tr>\n",
       "    <tr>\n",
       "      <th>297</th>\n",
       "      <td>1</td>\n",
       "      <td>1</td>\n",
       "      <td>1</td>\n",
       "      <td>1</td>\n",
       "      <td>1</td>\n",
       "      <td>1</td>\n",
       "      <td>1</td>\n",
       "      <td>1</td>\n",
       "      <td>1</td>\n",
       "      <td>1</td>\n",
       "      <td>...</td>\n",
       "      <td>1</td>\n",
       "      <td>1</td>\n",
       "      <td>1</td>\n",
       "      <td>1</td>\n",
       "      <td>1</td>\n",
       "      <td>1</td>\n",
       "      <td>1</td>\n",
       "      <td>1</td>\n",
       "      <td>1</td>\n",
       "      <td>1</td>\n",
       "    </tr>\n",
       "    <tr>\n",
       "      <th>?</th>\n",
       "      <td>1041</td>\n",
       "      <td>1041</td>\n",
       "      <td>1041</td>\n",
       "      <td>1041</td>\n",
       "      <td>1041</td>\n",
       "      <td>1041</td>\n",
       "      <td>1041</td>\n",
       "      <td>1041</td>\n",
       "      <td>1041</td>\n",
       "      <td>1041</td>\n",
       "      <td>...</td>\n",
       "      <td>1041</td>\n",
       "      <td>1041</td>\n",
       "      <td>1041</td>\n",
       "      <td>1041</td>\n",
       "      <td>1041</td>\n",
       "      <td>1041</td>\n",
       "      <td>1041</td>\n",
       "      <td>1041</td>\n",
       "      <td>1041</td>\n",
       "      <td>1041</td>\n",
       "    </tr>\n",
       "  </tbody>\n",
       "</table>\n",
       "<p>5 rows × 135 columns</p>\n",
       "</div>"
      ],
      "text/plain": [
       "         ind_5  ind_6  ind_8  ind_9  ind_10  ind_12  ind_13  ind_14  ind_15  \\\n",
       "ind_420                                                                       \n",
       "288          1      1      1      1       1       1       1       1       1   \n",
       "290          1      1      1      1       1       1       1       1       1   \n",
       "291          1      1      1      1       1       1       1       1       1   \n",
       "297          1      1      1      1       1       1       1       1       1   \n",
       "?         1041   1041   1041   1041    1041    1041    1041    1041    1041   \n",
       "\n",
       "         ind_16    ...      ind_414  ind_416  ind_418  ind_422  ind_424  \\\n",
       "ind_420            ...                                                    \n",
       "288           1    ...            1        1        1        1        1   \n",
       "290           1    ...            1        1        1        1        1   \n",
       "291           1    ...            1        1        1        1        1   \n",
       "297           1    ...            1        1        1        1        1   \n",
       "?          1041    ...         1041     1041     1041     1041     1041   \n",
       "\n",
       "         ind_426  ind_428  20_target  50_target  90_target  \n",
       "ind_420                                                     \n",
       "288            1        1          1          1          1  \n",
       "290            1        1          1          1          1  \n",
       "291            1        1          1          1          1  \n",
       "297            1        1          1          1          1  \n",
       "?           1041     1041       1041       1041       1041  \n",
       "\n",
       "[5 rows x 135 columns]"
      ]
     },
     "execution_count": 16,
     "metadata": {},
     "output_type": "execute_result"
    }
   ],
   "source": [
    "data.groupby(\"ind_420\").count().tail(5)"
   ]
  },
  {
   "cell_type": "markdown",
   "metadata": {
    "colab_type": "text",
    "id": "FHMa9yW0wlIB"
   },
   "source": [
    "### **1.3. NULL Value Checking**"
   ]
  },
  {
   "cell_type": "code",
   "execution_count": 17,
   "metadata": {
    "colab": {
     "base_uri": "https://localhost:8080/",
     "height": 269
    },
    "colab_type": "code",
    "id": "U6gYjbReps3x",
    "outputId": "542ae6a4-b429-4424-d222-6e6ceedfa6a2"
   },
   "outputs": [
    {
     "data": {
      "text/html": [
       "<div>\n",
       "<style scoped>\n",
       "    .dataframe tbody tr th:only-of-type {\n",
       "        vertical-align: middle;\n",
       "    }\n",
       "\n",
       "    .dataframe tbody tr th {\n",
       "        vertical-align: top;\n",
       "    }\n",
       "\n",
       "    .dataframe thead th {\n",
       "        text-align: right;\n",
       "    }\n",
       "</style>\n",
       "<table border=\"1\" class=\"dataframe\">\n",
       "  <thead>\n",
       "    <tr style=\"text-align: right;\">\n",
       "      <th></th>\n",
       "      <th>count</th>\n",
       "      <th>percentage</th>\n",
       "    </tr>\n",
       "  </thead>\n",
       "  <tbody>\n",
       "    <tr>\n",
       "      <th>90_target</th>\n",
       "      <td>0</td>\n",
       "      <td>0.0</td>\n",
       "    </tr>\n",
       "    <tr>\n",
       "      <th>ind_416</th>\n",
       "      <td>0</td>\n",
       "      <td>0.0</td>\n",
       "    </tr>\n",
       "    <tr>\n",
       "      <th>ind_404</th>\n",
       "      <td>0</td>\n",
       "      <td>0.0</td>\n",
       "    </tr>\n",
       "    <tr>\n",
       "      <th>ind_406</th>\n",
       "      <td>0</td>\n",
       "      <td>0.0</td>\n",
       "    </tr>\n",
       "    <tr>\n",
       "      <th>ind_407</th>\n",
       "      <td>0</td>\n",
       "      <td>0.0</td>\n",
       "    </tr>\n",
       "    <tr>\n",
       "      <th>ind_410</th>\n",
       "      <td>0</td>\n",
       "      <td>0.0</td>\n",
       "    </tr>\n",
       "    <tr>\n",
       "      <th>ind_412</th>\n",
       "      <td>0</td>\n",
       "      <td>0.0</td>\n",
       "    </tr>\n",
       "  </tbody>\n",
       "</table>\n",
       "</div>"
      ],
      "text/plain": [
       "           count  percentage\n",
       "90_target      0         0.0\n",
       "ind_416        0         0.0\n",
       "ind_404        0         0.0\n",
       "ind_406        0         0.0\n",
       "ind_407        0         0.0\n",
       "ind_410        0         0.0\n",
       "ind_412        0         0.0"
      ]
     },
     "execution_count": 17,
     "metadata": {},
     "output_type": "execute_result"
    }
   ],
   "source": [
    "nulldata_check(data).sort_values(by=\"count\",ascending=False).head(7)"
   ]
  },
  {
   "cell_type": "markdown",
   "metadata": {
    "colab_type": "text",
    "id": "vFN7UgYwps3z"
   },
   "source": [
    "# **2. Data Preprocessing**"
   ]
  },
  {
   "cell_type": "markdown",
   "metadata": {
    "colab_type": "text",
    "id": "A2I1rxQups30"
   },
   "source": [
    "### **2.1. Noise data cleaning**"
   ]
  },
  {
   "cell_type": "code",
   "execution_count": 18,
   "metadata": {
    "colab": {},
    "colab_type": "code",
    "id": "6-rGAHJQps31"
   },
   "outputs": [],
   "source": [
    "data[\"ind_420\"] = data[\"ind_420\"].replace(\"?\", np.nan)\n",
    "data[\"ind_422\"] = data[\"ind_422\"].replace(\"?\", np.nan)\n",
    "data = data.drop([\"ind_420\", \"ind_422\"],axis=1)"
   ]
  },
  {
   "cell_type": "markdown",
   "metadata": {
    "colab_type": "text",
    "id": "1wMoiyuAps34"
   },
   "source": [
    "### **2.2. Dummy Transformation**"
   ]
  },
  {
   "cell_type": "code",
   "execution_count": 21,
   "metadata": {
    "colab": {
     "base_uri": "https://localhost:8080/",
     "height": 342
    },
    "colab_type": "code",
    "id": "UTJqhrVdps34",
    "outputId": "2618ca87-71b3-4840-d9f1-8ac1f1364026"
   },
   "outputs": [
    {
     "name": "stdout",
     "output_type": "stream",
     "text": [
      "Numeric Column  :\n",
      " ['ind_5', 'ind_6', 'ind_8', 'ind_9', 'ind_10', 'ind_12', 'ind_13', 'ind_14', 'ind_15', 'ind_16', 'ind_17', 'ind_18', 'ind_19', 'ind_20', 'ind_21', 'ind_22', 'ind_23', 'ind_25', 'ind_26', 'ind_27', 'ind_28', 'ind_29', 'ind_30', 'ind_31', 'ind_32', 'ind_33', 'ind_34', 'ind_35', 'ind_36', 'ind_37', 'ind_39', 'ind_40', 'ind_41', 'ind_42', 'ind_43', 'ind_44', 'ind_45', 'ind_46', 'ind_47', 'ind_48', 'ind_49', 'ind_50', 'ind_51', 'ind_52', 'ind_53', 'ind_56', 'ind_58', 'ind_61', 'ind_62', 'ind_65', 'ind_67', 'ind_70', 'ind_71', 'ind_74', 'ind_77', 'ind_82', 'ind_83', 'ind_88', 'ind_92', 'ind_102', 'ind_116', 'ind_118', 'ind_122', 'ind_124', 'ind_128', 'ind_130', 'ind_132', 'ind_134', 'ind_136', 'ind_139', 'ind_142', 'ind_145', 'ind_147', 'ind_150', 'ind_153', 'ind_156', 'ind_164', 'ind_168', 'ind_172', 'ind_176', 'ind_179', 'ind_181', 'ind_188', 'ind_194', 'ind_212', 'ind_217', 'ind_225', 'ind_228', 'ind_234', 'ind_237', 'ind_239', 'ind_241', 'ind_243', 'ind_309', 'ind_310', 'ind_311', 'ind_313', 'ind_315', 'ind_316', 'ind_318', 'ind_321', 'ind_324', 'ind_327', 'ind_330', 'ind_332', 'ind_334', 'ind_338', 'ind_340', 'ind_344', 'ind_345', 'ind_347', 'ind_349', 'ind_351', 'ind_352', 'ind_387', 'ind_392', 'ind_397', 'ind_399', 'ind_403', 'ind_404', 'ind_406', 'ind_407', 'ind_410', 'ind_412', 'ind_414', 'ind_416', 'ind_418', 'ind_424', 'ind_426', 'ind_428', '20_target', '50_target', '90_target', 'ind_109_GREEN', 'ind_109_RED'] \n",
      "\n",
      "Categoric Column :\n",
      " []\n"
     ]
    },
    {
     "data": {
      "text/html": [
       "<div>\n",
       "<style scoped>\n",
       "    .dataframe tbody tr th:only-of-type {\n",
       "        vertical-align: middle;\n",
       "    }\n",
       "\n",
       "    .dataframe tbody tr th {\n",
       "        vertical-align: top;\n",
       "    }\n",
       "\n",
       "    .dataframe thead th {\n",
       "        text-align: right;\n",
       "    }\n",
       "</style>\n",
       "<table border=\"1\" class=\"dataframe\">\n",
       "  <thead>\n",
       "    <tr style=\"text-align: right;\">\n",
       "      <th></th>\n",
       "      <th>ind_5</th>\n",
       "      <th>ind_6</th>\n",
       "      <th>ind_8</th>\n",
       "      <th>ind_9</th>\n",
       "      <th>ind_10</th>\n",
       "      <th>ind_12</th>\n",
       "      <th>ind_13</th>\n",
       "      <th>ind_14</th>\n",
       "      <th>ind_15</th>\n",
       "      <th>ind_16</th>\n",
       "      <th>...</th>\n",
       "      <th>ind_416</th>\n",
       "      <th>ind_418</th>\n",
       "      <th>ind_424</th>\n",
       "      <th>ind_426</th>\n",
       "      <th>ind_428</th>\n",
       "      <th>20_target</th>\n",
       "      <th>50_target</th>\n",
       "      <th>90_target</th>\n",
       "      <th>ind_109_GREEN</th>\n",
       "      <th>ind_109_RED</th>\n",
       "    </tr>\n",
       "  </thead>\n",
       "  <tbody>\n",
       "    <tr>\n",
       "      <th>0</th>\n",
       "      <td>19</td>\n",
       "      <td>17</td>\n",
       "      <td>100.0</td>\n",
       "      <td>85.714286</td>\n",
       "      <td>14.285714</td>\n",
       "      <td>72.363515</td>\n",
       "      <td>60.808814</td>\n",
       "      <td>23.80</td>\n",
       "      <td>17.62</td>\n",
       "      <td>11.73</td>\n",
       "      <td>...</td>\n",
       "      <td>-49.6</td>\n",
       "      <td>-54</td>\n",
       "      <td>1.0</td>\n",
       "      <td>0.498547</td>\n",
       "      <td>0.701906</td>\n",
       "      <td>15.135802</td>\n",
       "      <td>35.625252</td>\n",
       "      <td>36.997753</td>\n",
       "      <td>1</td>\n",
       "      <td>0</td>\n",
       "    </tr>\n",
       "    <tr>\n",
       "      <th>1</th>\n",
       "      <td>24</td>\n",
       "      <td>19</td>\n",
       "      <td>100.0</td>\n",
       "      <td>78.571429</td>\n",
       "      <td>21.428571</td>\n",
       "      <td>74.275883</td>\n",
       "      <td>64.366798</td>\n",
       "      <td>11.45</td>\n",
       "      <td>18.16</td>\n",
       "      <td>12.22</td>\n",
       "      <td>...</td>\n",
       "      <td>-55.6</td>\n",
       "      <td>-60</td>\n",
       "      <td>1.0</td>\n",
       "      <td>0.537088</td>\n",
       "      <td>0.690833</td>\n",
       "      <td>15.143348</td>\n",
       "      <td>35.643013</td>\n",
       "      <td>37.016198</td>\n",
       "      <td>1</td>\n",
       "      <td>0</td>\n",
       "    </tr>\n",
       "    <tr>\n",
       "      <th>2</th>\n",
       "      <td>30</td>\n",
       "      <td>24</td>\n",
       "      <td>100.0</td>\n",
       "      <td>71.428571</td>\n",
       "      <td>28.571429</td>\n",
       "      <td>75.140402</td>\n",
       "      <td>65.915803</td>\n",
       "      <td>8.75</td>\n",
       "      <td>17.86</td>\n",
       "      <td>12.28</td>\n",
       "      <td>...</td>\n",
       "      <td>-58.4</td>\n",
       "      <td>-60</td>\n",
       "      <td>1.0</td>\n",
       "      <td>0.615169</td>\n",
       "      <td>0.693040</td>\n",
       "      <td>15.146870</td>\n",
       "      <td>35.651301</td>\n",
       "      <td>-37.024805</td>\n",
       "      <td>1</td>\n",
       "      <td>0</td>\n",
       "    </tr>\n",
       "    <tr>\n",
       "      <th>3</th>\n",
       "      <td>37</td>\n",
       "      <td>30</td>\n",
       "      <td>100.0</td>\n",
       "      <td>64.285714</td>\n",
       "      <td>35.714286</td>\n",
       "      <td>76.677846</td>\n",
       "      <td>68.584234</td>\n",
       "      <td>7.80</td>\n",
       "      <td>14.76</td>\n",
       "      <td>12.61</td>\n",
       "      <td>...</td>\n",
       "      <td>-61.8</td>\n",
       "      <td>-65</td>\n",
       "      <td>1.0</td>\n",
       "      <td>0.661517</td>\n",
       "      <td>0.673418</td>\n",
       "      <td>15.153283</td>\n",
       "      <td>0.000000</td>\n",
       "      <td>-37.040483</td>\n",
       "      <td>1</td>\n",
       "      <td>0</td>\n",
       "    </tr>\n",
       "    <tr>\n",
       "      <th>4</th>\n",
       "      <td>41</td>\n",
       "      <td>37</td>\n",
       "      <td>100.0</td>\n",
       "      <td>57.142857</td>\n",
       "      <td>42.857143</td>\n",
       "      <td>81.603007</td>\n",
       "      <td>76.455495</td>\n",
       "      <td>14.90</td>\n",
       "      <td>11.92</td>\n",
       "      <td>14.25</td>\n",
       "      <td>...</td>\n",
       "      <td>-79.8</td>\n",
       "      <td>-86</td>\n",
       "      <td>1.0</td>\n",
       "      <td>0.747204</td>\n",
       "      <td>0.700522</td>\n",
       "      <td>-15.179065</td>\n",
       "      <td>-35.727079</td>\n",
       "      <td>-37.103503</td>\n",
       "      <td>1</td>\n",
       "      <td>0</td>\n",
       "    </tr>\n",
       "  </tbody>\n",
       "</table>\n",
       "<p>5 rows × 135 columns</p>\n",
       "</div>"
      ],
      "text/plain": [
       "   ind_5  ind_6  ind_8      ind_9     ind_10     ind_12     ind_13  ind_14  \\\n",
       "0     19     17  100.0  85.714286  14.285714  72.363515  60.808814   23.80   \n",
       "1     24     19  100.0  78.571429  21.428571  74.275883  64.366798   11.45   \n",
       "2     30     24  100.0  71.428571  28.571429  75.140402  65.915803    8.75   \n",
       "3     37     30  100.0  64.285714  35.714286  76.677846  68.584234    7.80   \n",
       "4     41     37  100.0  57.142857  42.857143  81.603007  76.455495   14.90   \n",
       "\n",
       "   ind_15  ind_16     ...       ind_416  ind_418  ind_424   ind_426   ind_428  \\\n",
       "0   17.62   11.73     ...         -49.6      -54      1.0  0.498547  0.701906   \n",
       "1   18.16   12.22     ...         -55.6      -60      1.0  0.537088  0.690833   \n",
       "2   17.86   12.28     ...         -58.4      -60      1.0  0.615169  0.693040   \n",
       "3   14.76   12.61     ...         -61.8      -65      1.0  0.661517  0.673418   \n",
       "4   11.92   14.25     ...         -79.8      -86      1.0  0.747204  0.700522   \n",
       "\n",
       "   20_target  50_target  90_target  ind_109_GREEN  ind_109_RED  \n",
       "0  15.135802  35.625252  36.997753              1            0  \n",
       "1  15.143348  35.643013  37.016198              1            0  \n",
       "2  15.146870  35.651301 -37.024805              1            0  \n",
       "3  15.153283   0.000000 -37.040483              1            0  \n",
       "4 -15.179065 -35.727079 -37.103503              1            0  \n",
       "\n",
       "[5 rows x 135 columns]"
      ]
     },
     "execution_count": 21,
     "metadata": {},
     "output_type": "execute_result"
    }
   ],
   "source": [
    "data_dummy = dummy_df(data, [\"ind_109\"])\n",
    "data_dummy2 = dummy_df(data, [\"ind_109\",\"ind_40\"])\n",
    "\n",
    "num, cat = numeric_categoric_variable(data_dummy)\n",
    "data_dummy.head()"
   ]
  },
  {
   "cell_type": "markdown",
   "metadata": {
    "colab_type": "text",
    "id": "eL0N5ZZcps39"
   },
   "source": [
    "### **2.3. Normalization (Min-Max)**"
   ]
  },
  {
   "cell_type": "code",
   "execution_count": 24,
   "metadata": {
    "colab": {
     "base_uri": "https://localhost:8080/",
     "height": 193
    },
    "colab_type": "code",
    "id": "Vjfe1mfnps39",
    "outputId": "6416aee3-afe5-4f8b-898b-83a4c194a4a3"
   },
   "outputs": [
    {
     "data": {
      "text/html": [
       "<div>\n",
       "<style scoped>\n",
       "    .dataframe tbody tr th:only-of-type {\n",
       "        vertical-align: middle;\n",
       "    }\n",
       "\n",
       "    .dataframe tbody tr th {\n",
       "        vertical-align: top;\n",
       "    }\n",
       "\n",
       "    .dataframe thead th {\n",
       "        text-align: right;\n",
       "    }\n",
       "</style>\n",
       "<table border=\"1\" class=\"dataframe\">\n",
       "  <thead>\n",
       "    <tr style=\"text-align: right;\">\n",
       "      <th></th>\n",
       "      <th>ind_5</th>\n",
       "      <th>ind_6</th>\n",
       "      <th>ind_8</th>\n",
       "      <th>ind_9</th>\n",
       "      <th>ind_10</th>\n",
       "      <th>ind_12</th>\n",
       "      <th>ind_13</th>\n",
       "      <th>ind_14</th>\n",
       "      <th>ind_15</th>\n",
       "      <th>ind_16</th>\n",
       "      <th>...</th>\n",
       "      <th>ind_412</th>\n",
       "      <th>ind_414</th>\n",
       "      <th>ind_416</th>\n",
       "      <th>ind_418</th>\n",
       "      <th>ind_424</th>\n",
       "      <th>ind_426</th>\n",
       "      <th>ind_428</th>\n",
       "      <th>50_target</th>\n",
       "      <th>ind_109_GREEN</th>\n",
       "      <th>ind_109_RED</th>\n",
       "    </tr>\n",
       "  </thead>\n",
       "  <tbody>\n",
       "    <tr>\n",
       "      <th>0</th>\n",
       "      <td>0.724638</td>\n",
       "      <td>0.714976</td>\n",
       "      <td>1.0</td>\n",
       "      <td>0.857143</td>\n",
       "      <td>0.571429</td>\n",
       "      <td>0.828604</td>\n",
       "      <td>0.971259</td>\n",
       "      <td>0.277947</td>\n",
       "      <td>0.303537</td>\n",
       "      <td>0.265448</td>\n",
       "      <td>...</td>\n",
       "      <td>0.555085</td>\n",
       "      <td>0.007097</td>\n",
       "      <td>0.522158</td>\n",
       "      <td>0.712766</td>\n",
       "      <td>1.0</td>\n",
       "      <td>0.498547</td>\n",
       "      <td>0.787736</td>\n",
       "      <td>35.625252</td>\n",
       "      <td>1.0</td>\n",
       "      <td>0.0</td>\n",
       "    </tr>\n",
       "    <tr>\n",
       "      <th>1</th>\n",
       "      <td>0.748792</td>\n",
       "      <td>0.724638</td>\n",
       "      <td>1.0</td>\n",
       "      <td>0.785714</td>\n",
       "      <td>0.607143</td>\n",
       "      <td>0.854913</td>\n",
       "      <td>0.976297</td>\n",
       "      <td>0.127062</td>\n",
       "      <td>0.313808</td>\n",
       "      <td>0.279663</td>\n",
       "      <td>...</td>\n",
       "      <td>0.570000</td>\n",
       "      <td>0.002839</td>\n",
       "      <td>0.464355</td>\n",
       "      <td>0.680851</td>\n",
       "      <td>1.0</td>\n",
       "      <td>0.537088</td>\n",
       "      <td>0.773630</td>\n",
       "      <td>35.643013</td>\n",
       "      <td>1.0</td>\n",
       "      <td>0.0</td>\n",
       "    </tr>\n",
       "    <tr>\n",
       "      <th>2</th>\n",
       "      <td>0.777778</td>\n",
       "      <td>0.748792</td>\n",
       "      <td>1.0</td>\n",
       "      <td>0.714286</td>\n",
       "      <td>0.642857</td>\n",
       "      <td>0.866807</td>\n",
       "      <td>0.978490</td>\n",
       "      <td>0.094075</td>\n",
       "      <td>0.308102</td>\n",
       "      <td>0.281404</td>\n",
       "      <td>...</td>\n",
       "      <td>0.580332</td>\n",
       "      <td>0.009581</td>\n",
       "      <td>0.437380</td>\n",
       "      <td>0.680851</td>\n",
       "      <td>1.0</td>\n",
       "      <td>0.615169</td>\n",
       "      <td>0.776441</td>\n",
       "      <td>35.651301</td>\n",
       "      <td>1.0</td>\n",
       "      <td>0.0</td>\n",
       "    </tr>\n",
       "  </tbody>\n",
       "</table>\n",
       "<p>3 rows × 133 columns</p>\n",
       "</div>"
      ],
      "text/plain": [
       "      ind_5     ind_6  ind_8     ind_9    ind_10    ind_12    ind_13  \\\n",
       "0  0.724638  0.714976    1.0  0.857143  0.571429  0.828604  0.971259   \n",
       "1  0.748792  0.724638    1.0  0.785714  0.607143  0.854913  0.976297   \n",
       "2  0.777778  0.748792    1.0  0.714286  0.642857  0.866807  0.978490   \n",
       "\n",
       "     ind_14    ind_15    ind_16     ...        ind_412   ind_414   ind_416  \\\n",
       "0  0.277947  0.303537  0.265448     ...       0.555085  0.007097  0.522158   \n",
       "1  0.127062  0.313808  0.279663     ...       0.570000  0.002839  0.464355   \n",
       "2  0.094075  0.308102  0.281404     ...       0.580332  0.009581  0.437380   \n",
       "\n",
       "    ind_418  ind_424   ind_426   ind_428  50_target  ind_109_GREEN  \\\n",
       "0  0.712766      1.0  0.498547  0.787736  35.625252            1.0   \n",
       "1  0.680851      1.0  0.537088  0.773630  35.643013            1.0   \n",
       "2  0.680851      1.0  0.615169  0.776441  35.651301            1.0   \n",
       "\n",
       "   ind_109_RED  \n",
       "0          0.0  \n",
       "1          0.0  \n",
       "2          0.0  \n",
       "\n",
       "[3 rows x 133 columns]"
      ]
     },
     "execution_count": 24,
     "metadata": {},
     "output_type": "execute_result"
    }
   ],
   "source": [
    "data_norm = data_dummy.drop([\"20_target\", \"90_target\"],axis=1)\n",
    "data_minmax = normalization_minmax(data_norm, \"50_target\")\n",
    "data_minmax.head(3)"
   ]
  },
  {
   "cell_type": "markdown",
   "metadata": {
    "colab_type": "text",
    "id": "RGBc18A-ps4C"
   },
   "source": [
    "# **3. Feature Selection**"
   ]
  },
  {
   "cell_type": "markdown",
   "metadata": {
    "colab_type": "text",
    "id": "956oHe6lps4D"
   },
   "source": [
    "### **3.1. Principal Component Analysis**"
   ]
  },
  {
   "cell_type": "code",
   "execution_count": 25,
   "metadata": {
    "colab": {
     "base_uri": "https://localhost:8080/",
     "height": 243
    },
    "colab_type": "code",
    "id": "umBmyQ0Vps4D",
    "outputId": "6abe6e0c-3bb7-433f-e364-abe5370bf032"
   },
   "outputs": [
    {
     "name": "stdout",
     "output_type": "stream",
     "text": [
      "pca sonrası değişken sayısı:  19\n"
     ]
    },
    {
     "data": {
      "text/html": [
       "<div>\n",
       "<style scoped>\n",
       "    .dataframe tbody tr th:only-of-type {\n",
       "        vertical-align: middle;\n",
       "    }\n",
       "\n",
       "    .dataframe tbody tr th {\n",
       "        vertical-align: top;\n",
       "    }\n",
       "\n",
       "    .dataframe thead th {\n",
       "        text-align: right;\n",
       "    }\n",
       "</style>\n",
       "<table border=\"1\" class=\"dataframe\">\n",
       "  <thead>\n",
       "    <tr style=\"text-align: right;\">\n",
       "      <th></th>\n",
       "      <th>0</th>\n",
       "      <th>1</th>\n",
       "      <th>2</th>\n",
       "      <th>3</th>\n",
       "      <th>4</th>\n",
       "      <th>5</th>\n",
       "      <th>6</th>\n",
       "      <th>7</th>\n",
       "      <th>8</th>\n",
       "      <th>9</th>\n",
       "      <th>10</th>\n",
       "      <th>11</th>\n",
       "      <th>12</th>\n",
       "      <th>13</th>\n",
       "      <th>14</th>\n",
       "      <th>15</th>\n",
       "      <th>16</th>\n",
       "      <th>17</th>\n",
       "      <th>18</th>\n",
       "      <th>50_target</th>\n",
       "    </tr>\n",
       "  </thead>\n",
       "  <tbody>\n",
       "    <tr>\n",
       "      <th>0</th>\n",
       "      <td>-1.918783</td>\n",
       "      <td>0.126473</td>\n",
       "      <td>-0.295048</td>\n",
       "      <td>0.400703</td>\n",
       "      <td>-0.076268</td>\n",
       "      <td>0.371339</td>\n",
       "      <td>0.347380</td>\n",
       "      <td>-0.614152</td>\n",
       "      <td>0.282158</td>\n",
       "      <td>0.352373</td>\n",
       "      <td>-0.385728</td>\n",
       "      <td>0.818448</td>\n",
       "      <td>0.255718</td>\n",
       "      <td>-0.452354</td>\n",
       "      <td>-0.168721</td>\n",
       "      <td>0.117936</td>\n",
       "      <td>-0.221845</td>\n",
       "      <td>0.385469</td>\n",
       "      <td>-0.012100</td>\n",
       "      <td>35.625252</td>\n",
       "    </tr>\n",
       "    <tr>\n",
       "      <th>1</th>\n",
       "      <td>-2.043020</td>\n",
       "      <td>0.117548</td>\n",
       "      <td>-0.204928</td>\n",
       "      <td>0.347276</td>\n",
       "      <td>-0.056899</td>\n",
       "      <td>0.328800</td>\n",
       "      <td>0.365171</td>\n",
       "      <td>-0.610495</td>\n",
       "      <td>0.253421</td>\n",
       "      <td>0.346037</td>\n",
       "      <td>-0.296312</td>\n",
       "      <td>0.821816</td>\n",
       "      <td>0.245115</td>\n",
       "      <td>-0.469800</td>\n",
       "      <td>-0.207842</td>\n",
       "      <td>0.104446</td>\n",
       "      <td>-0.231889</td>\n",
       "      <td>0.383681</td>\n",
       "      <td>-0.007942</td>\n",
       "      <td>35.643013</td>\n",
       "    </tr>\n",
       "    <tr>\n",
       "      <th>2</th>\n",
       "      <td>-2.088737</td>\n",
       "      <td>0.072149</td>\n",
       "      <td>-0.135119</td>\n",
       "      <td>0.317724</td>\n",
       "      <td>-0.062843</td>\n",
       "      <td>0.280218</td>\n",
       "      <td>0.375154</td>\n",
       "      <td>-0.605005</td>\n",
       "      <td>0.232259</td>\n",
       "      <td>0.319001</td>\n",
       "      <td>-0.261715</td>\n",
       "      <td>0.788576</td>\n",
       "      <td>0.268427</td>\n",
       "      <td>-0.474156</td>\n",
       "      <td>-0.203423</td>\n",
       "      <td>0.089478</td>\n",
       "      <td>-0.246062</td>\n",
       "      <td>0.361119</td>\n",
       "      <td>-0.002372</td>\n",
       "      <td>35.651301</td>\n",
       "    </tr>\n",
       "    <tr>\n",
       "      <th>3</th>\n",
       "      <td>-2.203106</td>\n",
       "      <td>0.090405</td>\n",
       "      <td>-0.066407</td>\n",
       "      <td>0.261085</td>\n",
       "      <td>-0.005468</td>\n",
       "      <td>0.251994</td>\n",
       "      <td>0.388037</td>\n",
       "      <td>-0.587139</td>\n",
       "      <td>0.199041</td>\n",
       "      <td>0.326763</td>\n",
       "      <td>-0.170757</td>\n",
       "      <td>0.828007</td>\n",
       "      <td>0.252351</td>\n",
       "      <td>-0.480077</td>\n",
       "      <td>-0.183597</td>\n",
       "      <td>0.063912</td>\n",
       "      <td>-0.240448</td>\n",
       "      <td>0.327890</td>\n",
       "      <td>0.011579</td>\n",
       "      <td>0.000000</td>\n",
       "    </tr>\n",
       "    <tr>\n",
       "      <th>4</th>\n",
       "      <td>-2.528751</td>\n",
       "      <td>0.126773</td>\n",
       "      <td>0.046819</td>\n",
       "      <td>0.234280</td>\n",
       "      <td>0.029756</td>\n",
       "      <td>0.354077</td>\n",
       "      <td>0.427985</td>\n",
       "      <td>-0.621044</td>\n",
       "      <td>0.236388</td>\n",
       "      <td>0.310995</td>\n",
       "      <td>-0.077167</td>\n",
       "      <td>0.849048</td>\n",
       "      <td>0.119429</td>\n",
       "      <td>-0.508945</td>\n",
       "      <td>-0.242452</td>\n",
       "      <td>0.143253</td>\n",
       "      <td>-0.363971</td>\n",
       "      <td>0.486983</td>\n",
       "      <td>-0.044026</td>\n",
       "      <td>-35.727079</td>\n",
       "    </tr>\n",
       "  </tbody>\n",
       "</table>\n",
       "</div>"
      ],
      "text/plain": [
       "          0         1         2         3         4         5         6  \\\n",
       "0 -1.918783  0.126473 -0.295048  0.400703 -0.076268  0.371339  0.347380   \n",
       "1 -2.043020  0.117548 -0.204928  0.347276 -0.056899  0.328800  0.365171   \n",
       "2 -2.088737  0.072149 -0.135119  0.317724 -0.062843  0.280218  0.375154   \n",
       "3 -2.203106  0.090405 -0.066407  0.261085 -0.005468  0.251994  0.388037   \n",
       "4 -2.528751  0.126773  0.046819  0.234280  0.029756  0.354077  0.427985   \n",
       "\n",
       "          7         8         9        10        11        12        13  \\\n",
       "0 -0.614152  0.282158  0.352373 -0.385728  0.818448  0.255718 -0.452354   \n",
       "1 -0.610495  0.253421  0.346037 -0.296312  0.821816  0.245115 -0.469800   \n",
       "2 -0.605005  0.232259  0.319001 -0.261715  0.788576  0.268427 -0.474156   \n",
       "3 -0.587139  0.199041  0.326763 -0.170757  0.828007  0.252351 -0.480077   \n",
       "4 -0.621044  0.236388  0.310995 -0.077167  0.849048  0.119429 -0.508945   \n",
       "\n",
       "         14        15        16        17        18  50_target  \n",
       "0 -0.168721  0.117936 -0.221845  0.385469 -0.012100  35.625252  \n",
       "1 -0.207842  0.104446 -0.231889  0.383681 -0.007942  35.643013  \n",
       "2 -0.203423  0.089478 -0.246062  0.361119 -0.002372  35.651301  \n",
       "3 -0.183597  0.063912 -0.240448  0.327890  0.011579   0.000000  \n",
       "4 -0.242452  0.143253 -0.363971  0.486983 -0.044026 -35.727079  "
      ]
     },
     "execution_count": 25,
     "metadata": {},
     "output_type": "execute_result"
    }
   ],
   "source": [
    "data_pca = featureselection_pca(data_minmax, \"50_target\", 0.9)\n",
    "data_pca.head()"
   ]
  },
  {
   "cell_type": "markdown",
   "metadata": {
    "colab_type": "text",
    "id": "gFyTmUxQps4G"
   },
   "source": [
    "### **3.2. Correlation based Feature Selection**"
   ]
  },
  {
   "cell_type": "code",
   "execution_count": 26,
   "metadata": {
    "colab": {
     "base_uri": "https://localhost:8080/",
     "height": 206
    },
    "colab_type": "code",
    "id": "sYnkimmTps4H",
    "outputId": "3bda35a5-c07b-42f3-c673-b2f75c4e961b"
   },
   "outputs": [
    {
     "data": {
      "text/html": [
       "<div>\n",
       "<style scoped>\n",
       "    .dataframe tbody tr th:only-of-type {\n",
       "        vertical-align: middle;\n",
       "    }\n",
       "\n",
       "    .dataframe tbody tr th {\n",
       "        vertical-align: top;\n",
       "    }\n",
       "\n",
       "    .dataframe thead th {\n",
       "        text-align: right;\n",
       "    }\n",
       "</style>\n",
       "<table border=\"1\" class=\"dataframe\">\n",
       "  <thead>\n",
       "    <tr style=\"text-align: right;\">\n",
       "      <th></th>\n",
       "      <th>ind_14</th>\n",
       "      <th>ind_310</th>\n",
       "      <th>ind_330</th>\n",
       "      <th>ind_26</th>\n",
       "      <th>ind_332</th>\n",
       "      <th>ind_324</th>\n",
       "      <th>ind_18</th>\n",
       "      <th>50_target</th>\n",
       "    </tr>\n",
       "  </thead>\n",
       "  <tbody>\n",
       "    <tr>\n",
       "      <th>0</th>\n",
       "      <td>0.277947</td>\n",
       "      <td>0.207870</td>\n",
       "      <td>0.944473</td>\n",
       "      <td>0.786663</td>\n",
       "      <td>0.210376</td>\n",
       "      <td>0.960129</td>\n",
       "      <td>0.179402</td>\n",
       "      <td>35.625252</td>\n",
       "    </tr>\n",
       "    <tr>\n",
       "      <th>1</th>\n",
       "      <td>0.127062</td>\n",
       "      <td>0.208265</td>\n",
       "      <td>0.944500</td>\n",
       "      <td>0.751886</td>\n",
       "      <td>0.208693</td>\n",
       "      <td>0.960129</td>\n",
       "      <td>0.184535</td>\n",
       "      <td>35.643013</td>\n",
       "    </tr>\n",
       "    <tr>\n",
       "      <th>2</th>\n",
       "      <td>0.094075</td>\n",
       "      <td>0.208449</td>\n",
       "      <td>0.944513</td>\n",
       "      <td>0.718925</td>\n",
       "      <td>0.207037</td>\n",
       "      <td>0.960129</td>\n",
       "      <td>0.188641</td>\n",
       "      <td>35.651301</td>\n",
       "    </tr>\n",
       "    <tr>\n",
       "      <th>3</th>\n",
       "      <td>0.082468</td>\n",
       "      <td>0.208784</td>\n",
       "      <td>0.944537</td>\n",
       "      <td>0.684934</td>\n",
       "      <td>0.205407</td>\n",
       "      <td>0.960129</td>\n",
       "      <td>0.193317</td>\n",
       "      <td>0.000000</td>\n",
       "    </tr>\n",
       "    <tr>\n",
       "      <th>4</th>\n",
       "      <td>0.169212</td>\n",
       "      <td>0.210127</td>\n",
       "      <td>0.944631</td>\n",
       "      <td>0.632729</td>\n",
       "      <td>0.203802</td>\n",
       "      <td>0.960129</td>\n",
       "      <td>0.215100</td>\n",
       "      <td>-35.727079</td>\n",
       "    </tr>\n",
       "  </tbody>\n",
       "</table>\n",
       "</div>"
      ],
      "text/plain": [
       "     ind_14   ind_310   ind_330    ind_26   ind_332   ind_324    ind_18  \\\n",
       "0  0.277947  0.207870  0.944473  0.786663  0.210376  0.960129  0.179402   \n",
       "1  0.127062  0.208265  0.944500  0.751886  0.208693  0.960129  0.184535   \n",
       "2  0.094075  0.208449  0.944513  0.718925  0.207037  0.960129  0.188641   \n",
       "3  0.082468  0.208784  0.944537  0.684934  0.205407  0.960129  0.193317   \n",
       "4  0.169212  0.210127  0.944631  0.632729  0.203802  0.960129  0.215100   \n",
       "\n",
       "   50_target  \n",
       "0  35.625252  \n",
       "1  35.643013  \n",
       "2  35.651301  \n",
       "3   0.000000  \n",
       "4 -35.727079  "
      ]
     },
     "execution_count": 26,
     "metadata": {},
     "output_type": "execute_result"
    }
   ],
   "source": [
    "data_corr = featureselection_corrcorr(data_minmax, \"50_target\",0.6, 7)\n",
    "data_corr.head()"
   ]
  },
  {
   "cell_type": "markdown",
   "metadata": {
    "colab_type": "text",
    "id": "1GF5aKEPps4L"
   },
   "source": [
    "### **3.3. RandomForestRegressor based Feature Selection**"
   ]
  },
  {
   "cell_type": "code",
   "execution_count": 27,
   "metadata": {
    "colab": {
     "base_uri": "https://localhost:8080/",
     "height": 328
    },
    "colab_type": "code",
    "id": "kOXhUe1Vps4L",
    "outputId": "08800ad0-753b-404f-e254-4532083cae26"
   },
   "outputs": [
    {
     "name": "stdout",
     "output_type": "stream",
     "text": [
      "Fitting 10 folds for each of 96 candidates, totalling 960 fits\n"
     ]
    },
    {
     "name": "stderr",
     "output_type": "stream",
     "text": [
      "[Parallel(n_jobs=-1)]: Using backend LokyBackend with 12 concurrent workers.\n",
      "[Parallel(n_jobs=-1)]: Done  17 tasks      | elapsed:    2.3s\n",
      "[Parallel(n_jobs=-1)]: Done 138 tasks      | elapsed:    4.6s\n",
      "[Parallel(n_jobs=-1)]: Done 341 tasks      | elapsed:   10.1s\n",
      "[Parallel(n_jobs=-1)]: Done 624 tasks      | elapsed:   23.6s\n",
      "[Parallel(n_jobs=-1)]: Done 960 out of 960 | elapsed:   46.1s finished\n"
     ]
    },
    {
     "data": {
      "text/html": [
       "<div>\n",
       "<style scoped>\n",
       "    .dataframe tbody tr th:only-of-type {\n",
       "        vertical-align: middle;\n",
       "    }\n",
       "\n",
       "    .dataframe tbody tr th {\n",
       "        vertical-align: top;\n",
       "    }\n",
       "\n",
       "    .dataframe thead th {\n",
       "        text-align: right;\n",
       "    }\n",
       "</style>\n",
       "<table border=\"1\" class=\"dataframe\">\n",
       "  <thead>\n",
       "    <tr style=\"text-align: right;\">\n",
       "      <th></th>\n",
       "      <th>ind_77</th>\n",
       "      <th>ind_37</th>\n",
       "      <th>ind_65</th>\n",
       "      <th>ind_309</th>\n",
       "      <th>ind_332</th>\n",
       "      <th>ind_234</th>\n",
       "      <th>ind_16</th>\n",
       "      <th>ind_5</th>\n",
       "      <th>ind_102</th>\n",
       "      <th>ind_318</th>\n",
       "      <th>50_target</th>\n",
       "    </tr>\n",
       "  </thead>\n",
       "  <tbody>\n",
       "    <tr>\n",
       "      <th>0</th>\n",
       "      <td>0.690476</td>\n",
       "      <td>0.759518</td>\n",
       "      <td>0.683333</td>\n",
       "      <td>0.981941</td>\n",
       "      <td>0.210376</td>\n",
       "      <td>0.237741</td>\n",
       "      <td>0.265448</td>\n",
       "      <td>0.724638</td>\n",
       "      <td>0.833798</td>\n",
       "      <td>0.960004</td>\n",
       "      <td>35.625252</td>\n",
       "    </tr>\n",
       "    <tr>\n",
       "      <th>1</th>\n",
       "      <td>0.690476</td>\n",
       "      <td>0.768796</td>\n",
       "      <td>0.683333</td>\n",
       "      <td>0.981941</td>\n",
       "      <td>0.208693</td>\n",
       "      <td>0.237741</td>\n",
       "      <td>0.279663</td>\n",
       "      <td>0.748792</td>\n",
       "      <td>0.847906</td>\n",
       "      <td>0.960037</td>\n",
       "      <td>35.643013</td>\n",
       "    </tr>\n",
       "    <tr>\n",
       "      <th>2</th>\n",
       "      <td>0.690476</td>\n",
       "      <td>0.776575</td>\n",
       "      <td>0.700000</td>\n",
       "      <td>0.981941</td>\n",
       "      <td>0.207037</td>\n",
       "      <td>0.237741</td>\n",
       "      <td>0.281404</td>\n",
       "      <td>0.777778</td>\n",
       "      <td>0.848818</td>\n",
       "      <td>0.960069</td>\n",
       "      <td>35.651301</td>\n",
       "    </tr>\n",
       "    <tr>\n",
       "      <th>3</th>\n",
       "      <td>0.690476</td>\n",
       "      <td>0.779653</td>\n",
       "      <td>0.700000</td>\n",
       "      <td>0.981941</td>\n",
       "      <td>0.205407</td>\n",
       "      <td>0.237741</td>\n",
       "      <td>0.290978</td>\n",
       "      <td>0.811594</td>\n",
       "      <td>0.858561</td>\n",
       "      <td>0.960102</td>\n",
       "      <td>0.000000</td>\n",
       "    </tr>\n",
       "    <tr>\n",
       "      <th>4</th>\n",
       "      <td>0.690476</td>\n",
       "      <td>0.809680</td>\n",
       "      <td>0.716667</td>\n",
       "      <td>0.981941</td>\n",
       "      <td>0.203802</td>\n",
       "      <td>0.237741</td>\n",
       "      <td>0.338555</td>\n",
       "      <td>0.830918</td>\n",
       "      <td>0.926951</td>\n",
       "      <td>0.960134</td>\n",
       "      <td>-35.727079</td>\n",
       "    </tr>\n",
       "  </tbody>\n",
       "</table>\n",
       "</div>"
      ],
      "text/plain": [
       "     ind_77    ind_37    ind_65   ind_309   ind_332   ind_234    ind_16  \\\n",
       "0  0.690476  0.759518  0.683333  0.981941  0.210376  0.237741  0.265448   \n",
       "1  0.690476  0.768796  0.683333  0.981941  0.208693  0.237741  0.279663   \n",
       "2  0.690476  0.776575  0.700000  0.981941  0.207037  0.237741  0.281404   \n",
       "3  0.690476  0.779653  0.700000  0.981941  0.205407  0.237741  0.290978   \n",
       "4  0.690476  0.809680  0.716667  0.981941  0.203802  0.237741  0.338555   \n",
       "\n",
       "      ind_5   ind_102   ind_318  50_target  \n",
       "0  0.724638  0.833798  0.960004  35.625252  \n",
       "1  0.748792  0.847906  0.960037  35.643013  \n",
       "2  0.777778  0.848818  0.960069  35.651301  \n",
       "3  0.811594  0.858561  0.960102   0.000000  \n",
       "4  0.830918  0.926951  0.960134 -35.727079  "
      ]
     },
     "execution_count": 27,
     "metadata": {},
     "output_type": "execute_result"
    }
   ],
   "source": [
    "rf_params = {\"max_depth\": [2,5,8,10],\n",
    "             \"max_features\": [2,3,4,5],\n",
    "             \"n_estimators\": [10,50,100],\n",
    "             \"min_samples_split\": [5,10]}\n",
    "\n",
    "x= data_minmax.drop([\"50_target\"], axis=1)\n",
    "y = data_minmax[\"50_target\"]\n",
    "data_rf = featureselection_randomforest(x,y, rf_params, 10) \n",
    "data_rf.head()"
   ]
  },
  {
   "cell_type": "markdown",
   "metadata": {
    "colab_type": "text",
    "id": "cpKWo7dZps4O"
   },
   "source": [
    "# **4. Visualization**"
   ]
  },
  {
   "cell_type": "markdown",
   "metadata": {
    "colab_type": "text",
    "id": "UDbFj9mcps4P"
   },
   "source": [
    "### **4.1. Correlation HeatMap**"
   ]
  },
  {
   "cell_type": "code",
   "execution_count": 29,
   "metadata": {
    "colab": {
     "base_uri": "https://localhost:8080/",
     "height": 488
    },
    "colab_type": "code",
    "id": "7mkQnxxkps4P",
    "outputId": "6f2bef4f-8029-43a6-f112-292a5fe9fd23"
   },
   "outputs": [
    {
     "data": {
      "image/png": "[encoded data removed]",
      "text/plain": [
       "<Figure size 1152x576 with 2 Axes>"
      ]
     },
     "metadata": {
      "needs_background": "light"
     },
     "output_type": "display_data"
    }
   ],
   "source": [
    "def heatmap(data, figsize=(16,8)):\n",
    "    fig, ax = plt.subplots(figsize=figsize)   \n",
    "    sns.heatmap(data.corr(), annot=True, linewidths=.3, ax=ax)\n",
    "    plt.show()\n",
    "\n",
    "heatmap(data_corr.drop([\"50_target\"], axis=1))"
   ]
  },
  {
   "cell_type": "code",
   "execution_count": 30,
   "metadata": {
    "colab": {
     "base_uri": "https://localhost:8080/",
     "height": 295
    },
    "colab_type": "code",
    "id": "G8mDwB08ps4S",
    "outputId": "6c87b1f9-8298-4b5f-ec77-ac6e69ed3882"
   },
   "outputs": [
    {
     "name": "stdout",
     "output_type": "stream",
     "text": [
      "Most Correlated\n",
      "    feature1 feature2      Corr\n",
      "15  ind_330  ind_332  0.775937\n",
      "3    ind_14   ind_26  0.485883\n",
      "21   ind_26   ind_18  0.361721\n",
      "12  ind_310   ind_18  0.296947\n",
      "26  ind_324   ind_18  0.257567 \n",
      "\n",
      "Less Correlated\n",
      "    feature1 feature2      Corr\n",
      "19   ind_26  ind_332  0.001387\n",
      "5    ind_14  ind_324  0.027027\n",
      "14  ind_330   ind_26  0.039574\n",
      "10  ind_310  ind_332  0.043902\n",
      "4    ind_14  ind_332  0.049891 \n",
      "\n"
     ]
    }
   ],
   "source": [
    "print(\"Most Correlated\\n\",correlation_df(data_corr.drop([\"50_target\"],axis=1)).sort_values(by=\"Corr\", ascending=False).head(5),\"\\n\")\n",
    "print(\"Less Correlated\\n\",correlation_df(data_corr.drop([\"50_target\"],axis=1)).sort_values(by=\"Corr\", ascending=True).head(5),\"\\n\")"
   ]
  },
  {
   "cell_type": "markdown",
   "metadata": {
    "colab_type": "text",
    "id": "DxCWBSY1ps4V"
   },
   "source": [
    "### **4.2. Scatter Plot**"
   ]
  },
  {
   "cell_type": "code",
   "execution_count": 31,
   "metadata": {
    "colab": {
     "base_uri": "https://localhost:8080/",
     "height": 280
    },
    "colab_type": "code",
    "id": "B23c4Xdmps4W",
    "outputId": "1e5514cc-7cbc-49ab-9708-ae4c24d1fe99"
   },
   "outputs": [
    {
     "data": {
      "image/png": "[encoded data removed]",
      "text/plain": [
       "<Figure size 504x288 with 1 Axes>"
      ]
     },
     "metadata": {
      "needs_background": "light"
     },
     "output_type": "display_data"
    }
   ],
   "source": [
    "def scatterplot(x,y, hue, data, figsize=(7,4)):\n",
    "    fig, ax = plt.subplots(figsize=figsize)        \n",
    "    sns.scatterplot(x=x, y=y, hue=hue, data=data, ax=ax)\n",
    "    plt.show()\n",
    "    \n",
    "scatterplot(\"ind_14\", \"ind_26\", \"50_target\", data)"
   ]
  },
  {
   "cell_type": "markdown",
   "metadata": {
    "colab_type": "text",
    "id": "IcxwZSt5ps4Y"
   },
   "source": [
    "### **4.3. Box Plot (Five Numbers Summary)**"
   ]
  },
  {
   "cell_type": "code",
   "execution_count": 32,
   "metadata": {
    "colab": {
     "base_uri": "https://localhost:8080/",
     "height": 322
    },
    "colab_type": "code",
    "id": "HYbaNDE0ps4Z",
    "outputId": "d5fd390e-cffa-41c6-f541-4b873096542b"
   },
   "outputs": [
    {
     "data": {
      "image/png": "[encoded data removed]",
      "text/plain": [
       "<Figure size 720x360 with 1 Axes>"
      ]
     },
     "metadata": {
      "needs_background": "light"
     },
     "output_type": "display_data"
    }
   ],
   "source": [
    "def boxplot(boxplot_df, figsize=(10,5)):\n",
    "    plt.figure(figsize=figsize)\n",
    "    boxplot_df.boxplot()\n",
    "    plt.show()\n",
    "\n",
    "boxplot(data_corr)"
   ]
  },
  {
   "cell_type": "markdown",
   "metadata": {
    "colab_type": "text",
    "id": "YEl0G5X-ps4c"
   },
   "source": [
    "### **4.4. Histogram (Distribution)**"
   ]
  },
  {
   "cell_type": "code",
   "execution_count": 33,
   "metadata": {
    "colab": {},
    "colab_type": "code",
    "id": "G2BQx0KOps4d",
    "outputId": "0869c721-b567-4c88-c783-de16f76b4e80"
   },
   "outputs": [
    {
     "data": {
      "image/png": "[encoded data removed]",
      "text/plain": [
       "<Figure size 1152x576 with 9 Axes>"
      ]
     },
     "metadata": {
      "needs_background": "light"
     },
     "output_type": "display_data"
    }
   ],
   "source": [
    "def histogram(datas, bins=40, xlabelsize=6, ylabelsize=6, figsize=(10,5)):\n",
    "    datas.hist(figsize=figsize, bins=bins, xlabelsize=xlabelsize, ylabelsize=ylabelsize)\n",
    "    plt.show()\n",
    "\n",
    "histogram(data_corr.drop([\"50_target\"],axis=1), figsize=(16,8))"
   ]
  },
  {
   "cell_type": "markdown",
   "metadata": {
    "colab_type": "text",
    "id": "4yCOI5xtps4i"
   },
   "source": [
    "# **5. Modelling (Algorithms)**\n",
    "- Decision Tree Regressor\n",
    "- Random Forest Regressor\n",
    "- Neural Network Regressor"
   ]
  },
  {
   "cell_type": "markdown",
   "metadata": {
    "colab_type": "text",
    "id": "AHzDawmEps4m"
   },
   "source": [
    "## **5.1. DecisionTree Regressor**"
   ]
  },
  {
   "cell_type": "markdown",
   "metadata": {
    "colab_type": "text",
    "id": "qWVVZ6VNps4m"
   },
   "source": [
    "### **5.1.1. PCA based FS**"
   ]
  },
  {
   "cell_type": "code",
   "execution_count": 51,
   "metadata": {
    "colab": {
     "base_uri": "https://localhost:8080/",
     "height": 69
    },
    "colab_type": "code",
    "id": "Csu8skcfps4n",
    "outputId": "97e16a58-9291-48ce-9876-4e2474a7ae5c"
   },
   "outputs": [
    {
     "name": "stdout",
     "output_type": "stream",
     "text": [
      "MSE :  1411.5333757880064\n",
      "RMSE:  37.57037896785187\n",
      "MAE :  21.484714314238\n"
     ]
    }
   ],
   "source": [
    "x = data_pca.drop([\"50_target\"], axis=1)\n",
    "y = data_pca[\"50_target\"]\n",
    "xtrain, xtest, ytrain, ytest = train_test_split(x,y, test_size=0.25, random_state=42)\n",
    "xtrain.shape, xtest.shape, ytrain.shape, ytest.shape\n",
    "\n",
    "cart = DecisionTreeRegressor()\n",
    "cart_model = cart.fit(xtrain, ytrain)\n",
    "y_pred = cart_model.predict(xtest)\n",
    "evaluation_metrics(ytest, y_pred)"
   ]
  },
  {
   "cell_type": "markdown",
   "metadata": {
    "colab_type": "text",
    "id": "fe66eRV1ps4r"
   },
   "source": [
    "### **5.1.2. Correlation based FS**"
   ]
  },
  {
   "cell_type": "code",
   "execution_count": 52,
   "metadata": {
    "colab": {
     "base_uri": "https://localhost:8080/",
     "height": 69
    },
    "colab_type": "code",
    "id": "b6cwDZ8Cps4r",
    "outputId": "87152d43-c4f0-4631-f1c2-4b16525d5c0f"
   },
   "outputs": [
    {
     "name": "stdout",
     "output_type": "stream",
     "text": [
      "MSE :  745.2146441686734\n",
      "RMSE:  27.298619821680976\n",
      "MAE :  11.512560272273562\n"
     ]
    }
   ],
   "source": [
    "x = data_corr.drop([\"50_target\"], axis=1)\n",
    "y = data_corr[\"50_target\"]\n",
    "xtrain, xtest, ytrain, ytest = train_test_split(x,y, test_size=0.25, random_state=42)\n",
    "xtrain.shape, xtest.shape, ytrain.shape, ytest.shape\n",
    "\n",
    "cart = DecisionTreeRegressor()\n",
    "cart_model = cart.fit(xtrain, ytrain)\n",
    "y_pred = cart_model.predict(xtest)\n",
    "evaluation_metrics(ytest, y_pred)"
   ]
  },
  {
   "cell_type": "markdown",
   "metadata": {
    "colab_type": "text",
    "id": "x7Ek8QUtps4v"
   },
   "source": [
    "### **5.1.3. RandomForest based FS**"
   ]
  },
  {
   "cell_type": "code",
   "execution_count": 53,
   "metadata": {
    "colab": {
     "base_uri": "https://localhost:8080/",
     "height": 69
    },
    "colab_type": "code",
    "id": "yygbXMpJps4w",
    "outputId": "73e4f211-69e2-47e0-d59e-fcb39e98e717"
   },
   "outputs": [
    {
     "name": "stdout",
     "output_type": "stream",
     "text": [
      "MSE :  583.5861902511136\n",
      "RMSE:  24.1575286453543\n",
      "MAE :  8.92618859960657\n"
     ]
    }
   ],
   "source": [
    "x = data_rf.drop([\"50_target\"], axis=1)\n",
    "y = data_rf[\"50_target\"]\n",
    "xtrain, xtest, ytrain, ytest = train_test_split(x,y, test_size=0.25, random_state=42)\n",
    "xtrain.shape, xtest.shape, ytrain.shape, ytest.shape\n",
    "\n",
    "cart = DecisionTreeRegressor()\n",
    "cart_model = cart.fit(xtrain, ytrain)\n",
    "y_pred = cart_model.predict(xtest)\n",
    "evaluation_metrics(ytest, y_pred)"
   ]
  },
  {
   "cell_type": "markdown",
   "metadata": {
    "colab_type": "text",
    "id": "x7Ek8QUtps4v"
   },
   "source": [
    "### **5.1.4. Without Feature Selection**"
   ]
  },
  {
   "cell_type": "code",
   "execution_count": 54,
   "metadata": {},
   "outputs": [
    {
     "name": "stdout",
     "output_type": "stream",
     "text": [
      "MSE :  484.31344198260894\n",
      "RMSE:  22.00712252845903\n",
      "MAE :  7.633553942119325\n"
     ]
    }
   ],
   "source": [
    "x = data_minmax.drop([\"50_target\"], axis=1)\n",
    "y = data_minmax[\"50_target\"]\n",
    "xtrain, xtest, ytrain, ytest = train_test_split(x,y, test_size=0.25, random_state=42)\n",
    "xtrain.shape, xtest.shape, ytrain.shape, ytest.shape\n",
    "\n",
    "cart = DecisionTreeRegressor()\n",
    "cart_model = cart.fit(xtrain, ytrain)\n",
    "y_pred = cart_model.predict(xtest)\n",
    "evaluation_metrics(ytest, y_pred)"
   ]
  },
  {
   "cell_type": "markdown",
   "metadata": {
    "colab_type": "text",
    "id": "HKWD899Dps4y"
   },
   "source": [
    "## **5.2. RandomForest Regressor**"
   ]
  },
  {
   "cell_type": "markdown",
   "metadata": {
    "colab_type": "text",
    "id": "j1A-YZ9Dps4z"
   },
   "source": [
    "### **5.2.1. PCA based FS**"
   ]
  },
  {
   "cell_type": "code",
   "execution_count": 55,
   "metadata": {
    "colab": {
     "base_uri": "https://localhost:8080/",
     "height": 69
    },
    "colab_type": "code",
    "id": "scEzoxANps4z",
    "outputId": "201bc8df-c274-4108-e208-cbf0e93e12bb"
   },
   "outputs": [
    {
     "name": "stdout",
     "output_type": "stream",
     "text": [
      "MSE :  821.6482280762981\n",
      "RMSE:  28.664406989789587\n",
      "MAE :  24.169083356283405\n"
     ]
    }
   ],
   "source": [
    "x = data_pca.drop([\"50_target\"], axis=1)\n",
    "y = data_pca[\"50_target\"]\n",
    "xtrain, xtest, ytrain, ytest = train_test_split(x,y, test_size=0.25, random_state=42)\n",
    "xtrain.shape, xtest.shape, ytrain.shape, ytest.shape\n",
    "\n",
    "rf = RandomForestRegressor()\n",
    "rf_model = rf.fit(xtrain, ytrain)\n",
    "y_pred = rf_model.predict(xtest)\n",
    "evaluation_metrics(ytest, y_pred)"
   ]
  },
  {
   "cell_type": "markdown",
   "metadata": {
    "colab_type": "text",
    "id": "lPJzABu1ps42"
   },
   "source": [
    "### **5.2.2. Correlation based FS**"
   ]
  },
  {
   "cell_type": "code",
   "execution_count": 56,
   "metadata": {
    "colab": {
     "base_uri": "https://localhost:8080/",
     "height": 69
    },
    "colab_type": "code",
    "id": "VmzcP-pdps42",
    "outputId": "6ec612dd-2ed4-4e40-91d1-1605cb2b48d2"
   },
   "outputs": [
    {
     "name": "stdout",
     "output_type": "stream",
     "text": [
      "MSE :  450.2105224218587\n",
      "RMSE:  21.218164916454455\n",
      "MAE :  14.333134853498345\n"
     ]
    }
   ],
   "source": [
    "x = data_corr.drop([\"50_target\"], axis=1)\n",
    "y = data_corr[\"50_target\"]\n",
    "xtrain, xtest, ytrain, ytest = train_test_split(x,y, test_size=0.25, random_state=42)\n",
    "xtrain.shape, xtest.shape, ytrain.shape, ytest.shape\n",
    "\n",
    "rf = RandomForestRegressor()\n",
    "rf_model = rf.fit(xtrain, ytrain)\n",
    "y_pred = rf_model.predict(xtest)\n",
    "evaluation_metrics(ytest, y_pred)"
   ]
  },
  {
   "cell_type": "markdown",
   "metadata": {
    "colab_type": "text",
    "id": "1mD4j_h0ps44"
   },
   "source": [
    "### **5.2.3. RandomForest based FS**"
   ]
  },
  {
   "cell_type": "code",
   "execution_count": 57,
   "metadata": {
    "colab": {
     "base_uri": "https://localhost:8080/",
     "height": 69
    },
    "colab_type": "code",
    "id": "lGjND8dbps45",
    "outputId": "3edd094e-2bb3-4e06-ba85-b30b3e7dbf23"
   },
   "outputs": [
    {
     "name": "stdout",
     "output_type": "stream",
     "text": [
      "MSE :  381.93237441829444\n",
      "RMSE:  19.543090196238015\n",
      "MAE :  11.548472955659797\n"
     ]
    }
   ],
   "source": [
    "x = data_rf.drop([\"50_target\"], axis=1)\n",
    "y = data_rf[\"50_target\"]\n",
    "xtrain, xtest, ytrain, ytest = train_test_split(x,y, test_size=0.25, random_state=42)\n",
    "xtrain.shape, xtest.shape, ytrain.shape, ytest.shape\n",
    "\n",
    "rf = RandomForestRegressor()\n",
    "rf_model = rf.fit(xtrain, ytrain)\n",
    "y_pred = rf_model.predict(xtest)\n",
    "evaluation_metrics(ytest, y_pred)"
   ]
  },
  {
   "cell_type": "markdown",
   "metadata": {
    "colab_type": "text",
    "id": "1mD4j_h0ps44"
   },
   "source": [
    "### **5.2.4. Without Feature Selection**"
   ]
  },
  {
   "cell_type": "code",
   "execution_count": 58,
   "metadata": {},
   "outputs": [
    {
     "name": "stdout",
     "output_type": "stream",
     "text": [
      "MSE :  261.35710650455843\n",
      "RMSE:  16.16654281238133\n",
      "MAE :  9.812139273274664\n"
     ]
    }
   ],
   "source": [
    "x = data_minmax.drop([\"50_target\"], axis=1)\n",
    "y = data_minmax[\"50_target\"]\n",
    "xtrain, xtest, ytrain, ytest = train_test_split(x,y, test_size=0.25, random_state=42)\n",
    "xtrain.shape, xtest.shape, ytrain.shape, ytest.shape\n",
    "\n",
    "rf = RandomForestRegressor()\n",
    "rf_model = rf.fit(xtrain, ytrain)\n",
    "y_pred = rf_model.predict(xtest)\n",
    "evaluation_metrics(ytest, y_pred)"
   ]
  },
  {
   "cell_type": "markdown",
   "metadata": {
    "colab_type": "text",
    "id": "EQzlpXfeps48"
   },
   "source": [
    "## **5.3. NeuralNetwork Regressor**"
   ]
  },
  {
   "cell_type": "markdown",
   "metadata": {
    "colab_type": "text",
    "id": "1r7dg5gDps48"
   },
   "source": [
    "### **5.3.1. PCA based FS**"
   ]
  },
  {
   "cell_type": "code",
   "execution_count": 59,
   "metadata": {
    "colab": {
     "base_uri": "https://localhost:8080/",
     "height": 69
    },
    "colab_type": "code",
    "id": "_2lQhJ4jps48",
    "outputId": "a7ff7b76-4ab0-40f2-b9a8-d0203d7fd1f4"
   },
   "outputs": [
    {
     "name": "stdout",
     "output_type": "stream",
     "text": [
      "MSE :  1034.0074523945095\n",
      "RMSE:  32.15598626064064\n",
      "MAE :  29.376157339991156\n"
     ]
    }
   ],
   "source": [
    "x = data_pca.drop([\"50_target\"], axis=1)\n",
    "y = data_pca[\"50_target\"]\n",
    "xtrain, xtest, ytrain, ytest = train_test_split(x,y, test_size=0.25, random_state=42)\n",
    "xtrain.shape, xtest.shape, ytrain.shape, ytest.shape\n",
    "\n",
    "mlp = MLPRegressor()\n",
    "mlp_model = mlp.fit(xtrain, ytrain)\n",
    "y_pred = mlp_model.predict(xtest)\n",
    "evaluation_metrics(ytest, y_pred)"
   ]
  },
  {
   "cell_type": "markdown",
   "metadata": {
    "colab_type": "text",
    "id": "bNGB0Q-2ps4-"
   },
   "source": [
    "### **5.3.2. Correlation based FS**"
   ]
  },
  {
   "cell_type": "code",
   "execution_count": 60,
   "metadata": {
    "colab": {
     "base_uri": "https://localhost:8080/",
     "height": 69
    },
    "colab_type": "code",
    "id": "h7tlI3Wfps4_",
    "outputId": "9633b054-922f-4829-8f35-7e8210bf28d2"
   },
   "outputs": [
    {
     "name": "stdout",
     "output_type": "stream",
     "text": [
      "MSE :  1169.126704468083\n",
      "RMSE:  34.19249485586103\n",
      "MAE :  32.72317720721735\n"
     ]
    }
   ],
   "source": [
    "x = data_corr.drop([\"50_target\"], axis=1)\n",
    "y = data_corr[\"50_target\"]\n",
    "xtrain, xtest, ytrain, ytest = train_test_split(x,y, test_size=0.25, random_state=42)\n",
    "xtrain.shape, xtest.shape, ytrain.shape, ytest.shape\n",
    "\n",
    "mlp = MLPRegressor()\n",
    "mlp_model = mlp.fit(xtrain, ytrain)\n",
    "y_pred = mlp_model.predict(xtest)\n",
    "evaluation_metrics(ytest, y_pred)"
   ]
  },
  {
   "cell_type": "markdown",
   "metadata": {
    "colab_type": "text",
    "id": "awTdIYF6ps5C"
   },
   "source": [
    "### **5.3.3. RandomForest based FS**"
   ]
  },
  {
   "cell_type": "code",
   "execution_count": 61,
   "metadata": {
    "colab": {
     "base_uri": "https://localhost:8080/",
     "height": 69
    },
    "colab_type": "code",
    "id": "QoW9F2XTps5C",
    "outputId": "185c7aca-43c0-4690-d455-9ab336f37247"
   },
   "outputs": [
    {
     "name": "stdout",
     "output_type": "stream",
     "text": [
      "MSE :  1164.0964638267278\n",
      "RMSE:  34.118857891593144\n",
      "MAE :  32.70033136327487\n"
     ]
    }
   ],
   "source": [
    "x = data_rf.drop([\"50_target\"], axis=1)\n",
    "y = data_rf[\"50_target\"]\n",
    "xtrain, xtest, ytrain, ytest = train_test_split(x,y, test_size=0.25, random_state=42)\n",
    "xtrain.shape, xtest.shape, ytrain.shape, ytest.shape\n",
    "\n",
    "mlp = MLPRegressor()\n",
    "mlp_model = mlp.fit(xtrain, ytrain)\n",
    "y_pred = mlp_model.predict(xtest)\n",
    "evaluation_metrics(ytest, y_pred)"
   ]
  },
  {
   "cell_type": "markdown",
   "metadata": {
    "colab_type": "text",
    "id": "awTdIYF6ps5C"
   },
   "source": [
    "### **5.3.4. Without Feature Selection**"
   ]
  },
  {
   "cell_type": "code",
   "execution_count": 62,
   "metadata": {
    "colab": {
     "base_uri": "https://localhost:8080/",
     "height": 69
    },
    "colab_type": "code",
    "id": "QoW9F2XTps5C",
    "outputId": "185c7aca-43c0-4690-d455-9ab336f37247"
   },
   "outputs": [
    {
     "name": "stdout",
     "output_type": "stream",
     "text": [
      "MSE :  1047.6564250223812\n",
      "RMSE:  32.367521144233166\n",
      "MAE :  29.61310681954652\n"
     ]
    }
   ],
   "source": [
    "x = data_minmax.drop([\"50_target\"], axis=1)\n",
    "y = data_minmax[\"50_target\"]\n",
    "xtrain, xtest, ytrain, ytest = train_test_split(x,y, test_size=0.25, random_state=42)\n",
    "xtrain.shape, xtest.shape, ytrain.shape, ytest.shape\n",
    "\n",
    "mlp = MLPRegressor()\n",
    "mlp_model = mlp.fit(xtrain, ytrain)\n",
    "y_pred = mlp_model.predict(xtest)\n",
    "evaluation_metrics(ytest, y_pred)"
   ]
  },
  {
   "cell_type": "markdown",
   "metadata": {},
   "source": [
    "## 5.4. Comparison Algorithms"
   ]
  },
  {
   "cell_type": "code",
   "execution_count": 64,
   "metadata": {},
   "outputs": [
    {
     "data": {
      "text/html": [
       "<div>\n",
       "<style scoped>\n",
       "    .dataframe tbody tr th:only-of-type {\n",
       "        vertical-align: middle;\n",
       "    }\n",
       "\n",
       "    .dataframe tbody tr th {\n",
       "        vertical-align: top;\n",
       "    }\n",
       "\n",
       "    .dataframe thead th {\n",
       "        text-align: right;\n",
       "    }\n",
       "</style>\n",
       "<table border=\"1\" class=\"dataframe\">\n",
       "  <thead>\n",
       "    <tr style=\"text-align: right;\">\n",
       "      <th></th>\n",
       "      <th>RMSE</th>\n",
       "      <th>MSE</th>\n",
       "      <th>MAE</th>\n",
       "    </tr>\n",
       "  </thead>\n",
       "  <tbody>\n",
       "    <tr>\n",
       "      <th>DecisionTreeRegressor</th>\n",
       "      <td>24.247817</td>\n",
       "      <td>587.956641</td>\n",
       "      <td>9.069969</td>\n",
       "    </tr>\n",
       "    <tr>\n",
       "      <th>RandomForestRegressor</th>\n",
       "      <td>19.296309</td>\n",
       "      <td>372.347538</td>\n",
       "      <td>11.321381</td>\n",
       "    </tr>\n",
       "    <tr>\n",
       "      <th>NeuralNetworkRegressor</th>\n",
       "      <td>34.149322</td>\n",
       "      <td>1166.176174</td>\n",
       "      <td>32.744531</td>\n",
       "    </tr>\n",
       "  </tbody>\n",
       "</table>\n",
       "</div>"
      ],
      "text/plain": [
       "                             RMSE          MSE        MAE\n",
       "DecisionTreeRegressor   24.247817   587.956641   9.069969\n",
       "RandomForestRegressor   19.296309   372.347538  11.321381\n",
       "NeuralNetworkRegressor  34.149322  1166.176174  32.744531"
      ]
     },
     "execution_count": 64,
     "metadata": {},
     "output_type": "execute_result"
    }
   ],
   "source": [
    "models = [cart, rf, mlp]\n",
    "x = data_rf.drop([\"50_target\"], axis=1)\n",
    "y = data_rf[\"50_target\"]\n",
    "xtrain, xtest, ytrain, ytest = train_test_split(x,y, test_size=0.25, random_state=42)\n",
    "\n",
    "algorithms = [\"DecisionTreeRegressor\", \"RandomForestRegressor\",\"NeuralNetworkRegressor\"]\n",
    "metrics = [\"RMSE\", \"MSE\", \"MAE\"]\n",
    "accuracy = []\n",
    "\n",
    "for i in models:\n",
    "    model = i.fit(xtrain,ytrain)\n",
    "    y_pred = model.predict(xtest)\n",
    "    rmse = np.sqrt(mean_squared_error(ytest, y_pred))\n",
    "    mse = mean_squared_error(ytest, y_pred)\n",
    "    mae = mean_absolute_error(ytest, y_pred)\n",
    "    accuracy.append([rmse, mse, mae])\n",
    "\n",
    "pd.DataFrame(accuracy, columns=metrics, index=algorithms)"
   ]
  },
  {
   "cell_type": "markdown",
   "metadata": {
    "colab_type": "text",
    "id": "eURc-HSGps5E"
   },
   "source": [
    "# **6. Model Tuning**"
   ]
  },
  {
   "cell_type": "markdown",
   "metadata": {
    "colab_type": "text",
    "id": "TUsUbB_ups5F"
   },
   "source": [
    "Burada ilk modelling'te en iyi sonucu veren feature selection algoritmasi kullanilarak tuning islemi gerceklestiriliyor."
   ]
  },
  {
   "cell_type": "code",
   "execution_count": 96,
   "metadata": {
    "colab": {
     "base_uri": "https://localhost:8080/",
     "height": 34
    },
    "colab_type": "code",
    "id": "R0uUZIWJps5G",
    "outputId": "88991265-5dbb-4482-d350-fdb176f6e5ca"
   },
   "outputs": [
    {
     "data": {
      "text/plain": [
       "((4625, 10), (1542, 10), (4625,), (1542,))"
      ]
     },
     "execution_count": 96,
     "metadata": {
      "tags": []
     },
     "output_type": "execute_result"
    }
   ],
   "source": [
    "x = data_rf.drop([\"50_target\"], axis=1)\n",
    "y = data_rf[\"50_target\"]\n",
    "xtrain, xtest, ytrain, ytest = train_test_split(x,y, test_size=0.25, random_state=42)\n",
    "xtrain.shape, xtest.shape, ytrain.shape, ytest.shape"
   ]
  },
  {
   "cell_type": "markdown",
   "metadata": {
    "colab_type": "text",
    "id": "VmoNBeXIps5J"
   },
   "source": [
    "### **6.1. DecisionTree Regressor Tuning**"
   ]
  },
  {
   "cell_type": "code",
   "execution_count": 65,
   "metadata": {},
   "outputs": [],
   "source": [
    "def DecisionTreeRegressorTuning(xtrain,ytrain, xtest, ytest, params, cv=10, n_jobs=-1, verbose=2):\n",
    "    model = DecisionTreeRegressor()\n",
    "    gridsearch_cv = GridSearchCV(model, params, cv=cv, n_jobs=n_jobs, verbose=verbose)\n",
    "    grid_cv_model = gridsearch_cv.fit(xtrain, ytrain)\n",
    "    # best parameters\n",
    "    model.min_samples_split = grid_cv_model.best_params_[\"min_samples_split\"] \n",
    "    model.min_samples_leaf = grid_cv_model.best_params_[\"min_samples_leaf\"]\n",
    "    model.max_leaf_nodes= grid_cv_model.best_params_[\"max_leaf_nodes\"]\n",
    "    # tuned model\n",
    "    model_tuned = model.fit(xtrain, ytrain)\n",
    "    y_pred = model_tuned.predict(xtest)\n",
    "    return ytest, y_pred, model, grid_cv_model.best_params_"
   ]
  },
  {
   "cell_type": "code",
   "execution_count": 66,
   "metadata": {
    "colab": {
     "base_uri": "https://localhost:8080/",
     "height": 156
    },
    "colab_type": "code",
    "id": "Usp1WMPGps5L",
    "outputId": "87efa9c8-f15f-4a3f-95b9-723d552d9ba5"
   },
   "outputs": [
    {
     "name": "stdout",
     "output_type": "stream",
     "text": [
      "Fitting 10 folds for each of 252 candidates, totalling 2520 fits\n"
     ]
    },
    {
     "name": "stderr",
     "output_type": "stream",
     "text": [
      "[Parallel(n_jobs=-1)]: Using backend LokyBackend with 12 concurrent workers.\n",
      "[Parallel(n_jobs=-1)]: Done  17 tasks      | elapsed:    2.6s\n",
      "[Parallel(n_jobs=-1)]: Done 734 tasks      | elapsed:    3.7s\n"
     ]
    },
    {
     "name": "stdout",
     "output_type": "stream",
     "text": [
      "MSE :  1069.8955545471529\n",
      "RMSE:  32.70925793330006\n",
      "MAE :  29.46167558295998\n"
     ]
    },
    {
     "name": "stderr",
     "output_type": "stream",
     "text": [
      "[Parallel(n_jobs=-1)]: Done 2520 out of 2520 | elapsed:    6.3s finished\n"
     ]
    }
   ],
   "source": [
    "dt_params = {\"min_samples_split\": [2,3,4,5,7,10],\n",
    "             \"min_samples_leaf\": [2,3,5,7,10,15,20],\n",
    "             \"max_leaf_nodes\": [3,4,5,6,7,10]}\n",
    "\n",
    "ytest, y_pred, model, best_param = DecisionTreeRegressorTuning(xtrain,ytrain, xtest, ytest, dt_params)\n",
    "evaluation_metrics(ytest,y_pred)"
   ]
  },
  {
   "cell_type": "markdown",
   "metadata": {
    "colab_type": "text",
    "id": "-DJ0FE4Dps5N"
   },
   "source": [
    "### **6.2. RandomForest Regressor Tuning**"
   ]
  },
  {
   "cell_type": "code",
   "execution_count": null,
   "metadata": {},
   "outputs": [],
   "source": [
    "def RandomForestRegressorTuning(xtrain,ytrain, xtest, ytest, params, cv=10, n_jobs=-1, verbose=2):\n",
    "    model = RandomForestRegressor()\n",
    "    gridsearch_cv = GridSearchCV(model, params, cv=cv, n_jobs=n_jobs, verbose=verbose)\n",
    "    grid_cv_model = gridsearch_cv.fit(xtrain, ytrain)\n",
    "    # best parameters\n",
    "    model.max_depth = grid_cv_model.best_params_[\"max_depth\"] \n",
    "    model.max_features = grid_cv_model.best_params_[\"max_features\"]\n",
    "    model.n_estimators= grid_cv_model.best_params_[\"n_estimators\"]\n",
    "    # tuned model\n",
    "    model_tuned = model.fit(xtrain, ytrain)\n",
    "    y_pred = model_tuned.predict(xtest)\n",
    "    return ytest, y_pred, model, grid_cv_model.best_params_"
   ]
  },
  {
   "cell_type": "code",
   "execution_count": 102,
   "metadata": {
    "colab": {
     "base_uri": "https://localhost:8080/",
     "height": 208
    },
    "colab_type": "code",
    "id": "ptANl4dsps5S",
    "outputId": "39c66ea5-1ec5-4dfa-9efc-b5c0484a59cf"
   },
   "outputs": [
    {
     "name": "stdout",
     "output_type": "stream",
     "text": [
      "Fitting 10 folds for each of 160 candidates, totalling 1600 fits\n"
     ]
    },
    {
     "name": "stderr",
     "output_type": "stream",
     "text": [
      "[Parallel(n_jobs=-1)]: Using backend LokyBackend with 2 concurrent workers.\n",
      "[Parallel(n_jobs=-1)]: Done  37 tasks      | elapsed:    3.4s\n",
      "[Parallel(n_jobs=-1)]: Done 266 tasks      | elapsed:   20.2s\n",
      "[Parallel(n_jobs=-1)]: Done 672 tasks      | elapsed:  1.1min\n",
      "[Parallel(n_jobs=-1)]: Done 1022 tasks      | elapsed:  2.0min\n",
      "[Parallel(n_jobs=-1)]: Done 1387 tasks      | elapsed:  3.2min\n",
      "[Parallel(n_jobs=-1)]: Done 1600 out of 1600 | elapsed:  4.1min finished\n"
     ]
    },
    {
     "name": "stdout",
     "output_type": "stream",
     "text": [
      "MSE :  253.23538068686457\n",
      "RMSE:  15.91337112892377\n",
      "MAE :  10.58813441634971\n"
     ]
    }
   ],
   "source": [
    "rfr_params = {\"max_depth\": [2,3,5,6,7,8,9,10,12,15],\n",
    "              \"max_features\": [2,3,4,5],\n",
    "              \"n_estimators\": [10,20,30,50]}\n",
    "\n",
    "ytest, y_pred, model, best_param = RandomForestRegressorTuning(xtrain,ytrain, xtest, ytest, rfr_params)\n",
    "evaluation_metrics(ytest, y_pred)"
   ]
  },
  {
   "cell_type": "markdown",
   "metadata": {
    "colab_type": "text",
    "id": "E_XdyoRFps5U"
   },
   "source": [
    "### **6.3. NeuralNetwork Regressor Tuning**"
   ]
  },
  {
   "cell_type": "code",
   "execution_count": null,
   "metadata": {},
   "outputs": [],
   "source": [
    "def NeuralNetworkRegressorTuning(xtrain,ytrain, xtest, ytest, params, cv=10, n_jobs=-1, verbose=2):\n",
    "    model = MLPRegressor()\n",
    "    gridsearch_cv = GridSearchCV(model, params, cv=cv, n_jobs=n_jobs, verbose=verbose)\n",
    "    grid_cv_model = gridsearch_cv.fit(xtrain, ytrain)\n",
    "    # best parameters\n",
    "    model.alpha = grid_cv_model.best_params_[\"alpha\"] \n",
    "    model.hidden_layer_sizes = grid_cv_model.best_params_[\"hidden_layer_sizes\"]\n",
    "    model.activation= grid_cv_model.best_params_[\"activation\"]\n",
    "    model.solver = grid_cv_model.best_params_[\"solver\"]\n",
    "    # tuned model\n",
    "    model_tuned = model.fit(xtrain, ytrain)\n",
    "    y_pred = model_tuned.predict(xtest)\n",
    "    rmse = np.sqrt(mean_squared_error(ytest, y_pred))\n",
    "    return ytest, y_pred, model, grid_cv_model.best_params_"
   ]
  },
  {
   "cell_type": "code",
   "execution_count": 104,
   "metadata": {
    "colab": {
     "base_uri": "https://localhost:8080/",
     "height": 173
    },
    "colab_type": "code",
    "id": "OiT0zFJJps5X",
    "outputId": "3a48d16c-7662-424b-edfd-4b49f4588198"
   },
   "outputs": [
    {
     "name": "stdout",
     "output_type": "stream",
     "text": [
      "Fitting 10 folds for each of 90 candidates, totalling 900 fits\n"
     ]
    },
    {
     "name": "stderr",
     "output_type": "stream",
     "text": [
      "[Parallel(n_jobs=-1)]: Using backend LokyBackend with 2 concurrent workers.\n",
      "[Parallel(n_jobs=-1)]: Done  37 tasks      | elapsed:   38.6s\n",
      "[Parallel(n_jobs=-1)]: Done 158 tasks      | elapsed:  4.4min\n",
      "[Parallel(n_jobs=-1)]: Done 361 tasks      | elapsed: 10.1min\n",
      "[Parallel(n_jobs=-1)]: Done 900 out of 900 | elapsed: 13.2min finished\n"
     ]
    },
    {
     "name": "stdout",
     "output_type": "stream",
     "text": [
      "MSE :  1090.565146380748\n",
      "RMSE:  33.02370582446416\n",
      "MAE :  30.76854313765482\n"
     ]
    }
   ],
   "source": [
    "mlp_params = {\"alpha\": [0.1,0.01, 0.005],\n",
    "             \"hidden_layer_sizes\": [(10,10), (10,10,10), (20,20), (30,20,10), (50,50)],\n",
    "             \"activation\": [\"relu\", \"logstics\"],\n",
    "              \"solver\": [\"lbfgs\", \"adam\",\"sgd\"]}\n",
    "\n",
    "ytest, y_pred, model, best_param = NeuralNetworkRegressorTuning(xtrain,ytrain, xtest, ytest, mlp_params)\n",
    "evaluation_metrics(ytest, y_pred)Regressor"
   ]
  }
 ],
 "metadata": {
  "colab": {
   "collapsed_sections": [],
   "name": "assignment7-Regressor.ipynb",
   "provenance": []
  },
  "kernelspec": {
   "display_name": "Python 3",
   "language": "python",
   "name": "python3"
  },
  "language_info": {
   "codemirror_mode": {
    "name": "ipython",
    "version": 3
   },
   "file_extension": ".py",
   "mimetype": "text/x-python",
   "name": "python",
   "nbconvert_exporter": "python",
   "pygments_lexer": "ipython3",
   "version": "3.7.4"
  }
 },
 "nbformat": 4,
 "nbformat_minor": 1
}
