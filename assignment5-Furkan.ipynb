{
 "cells": [
  {
   "cell_type": "code",
   "execution_count": 7,
   "metadata": {},
   "outputs": [],
   "source": [
    "import pandas as pd \n",
    "import numpy as np \n",
    "import seaborn as sns \n",
    "import matplotlib.pyplot as plt \n",
    "from sklearn.model_selection import train_test_split, GridSearchCV, cross_val_score\n",
    "from sklearn.metrics import confusion_matrix, accuracy_score, classification_report\n",
    "from sklearn.metrics import roc_auc_score,roc_curve\n",
    "import statsmodels.api as sm\n",
    "import statsmodels.formula.api as smf\n",
    "from sklearn.linear_model import LinearRegression\n",
    "from sklearn.preprocessing import power_transform, MinMaxScaler, StandardScaler,scale, Normalizer\n",
    "from scipy import stats\n",
    "from sklearn.decomposition import PCA\n"
   ]
  },
  {
   "cell_type": "code",
   "execution_count": 9,
   "metadata": {},
   "outputs": [
    {
     "data": {
      "text/html": [
       "<div>\n",
       "<style scoped>\n",
       "    .dataframe tbody tr th:only-of-type {\n",
       "        vertical-align: middle;\n",
       "    }\n",
       "\n",
       "    .dataframe tbody tr th {\n",
       "        vertical-align: top;\n",
       "    }\n",
       "\n",
       "    .dataframe thead th {\n",
       "        text-align: right;\n",
       "    }\n",
       "</style>\n",
       "<table border=\"1\" class=\"dataframe\">\n",
       "  <thead>\n",
       "    <tr style=\"text-align: right;\">\n",
       "      <th></th>\n",
       "      <th>ind_5</th>\n",
       "      <th>ind_6</th>\n",
       "      <th>ind_8</th>\n",
       "      <th>ind_9</th>\n",
       "      <th>ind_10</th>\n",
       "      <th>ind_12</th>\n",
       "      <th>ind_13</th>\n",
       "      <th>ind_14</th>\n",
       "      <th>ind_15</th>\n",
       "      <th>ind_16</th>\n",
       "      <th>...</th>\n",
       "      <th>ind_416</th>\n",
       "      <th>ind_418</th>\n",
       "      <th>ind_420</th>\n",
       "      <th>ind_422</th>\n",
       "      <th>ind_424</th>\n",
       "      <th>ind_426</th>\n",
       "      <th>ind_428</th>\n",
       "      <th>20_target</th>\n",
       "      <th>50_target</th>\n",
       "      <th>90_target</th>\n",
       "    </tr>\n",
       "  </thead>\n",
       "  <tbody>\n",
       "    <tr>\n",
       "      <th>0</th>\n",
       "      <td>19</td>\n",
       "      <td>17</td>\n",
       "      <td>100.0</td>\n",
       "      <td>85.714286</td>\n",
       "      <td>14.285714</td>\n",
       "      <td>72.363515</td>\n",
       "      <td>60.808814</td>\n",
       "      <td>23.80</td>\n",
       "      <td>17.62</td>\n",
       "      <td>11.73</td>\n",
       "      <td>...</td>\n",
       "      <td>-49.6</td>\n",
       "      <td>-54</td>\n",
       "      <td>-152</td>\n",
       "      <td>-353</td>\n",
       "      <td>1.0</td>\n",
       "      <td>0.498547</td>\n",
       "      <td>0.701906</td>\n",
       "      <td>15.135802</td>\n",
       "      <td>35.625252</td>\n",
       "      <td>36.997753</td>\n",
       "    </tr>\n",
       "    <tr>\n",
       "      <th>1</th>\n",
       "      <td>24</td>\n",
       "      <td>19</td>\n",
       "      <td>100.0</td>\n",
       "      <td>78.571429</td>\n",
       "      <td>21.428571</td>\n",
       "      <td>74.275883</td>\n",
       "      <td>64.366798</td>\n",
       "      <td>11.45</td>\n",
       "      <td>18.16</td>\n",
       "      <td>12.22</td>\n",
       "      <td>...</td>\n",
       "      <td>-55.6</td>\n",
       "      <td>-60</td>\n",
       "      <td>-158</td>\n",
       "      <td>-359</td>\n",
       "      <td>1.0</td>\n",
       "      <td>0.537088</td>\n",
       "      <td>0.690833</td>\n",
       "      <td>15.143348</td>\n",
       "      <td>35.643013</td>\n",
       "      <td>37.016198</td>\n",
       "    </tr>\n",
       "    <tr>\n",
       "      <th>2</th>\n",
       "      <td>30</td>\n",
       "      <td>24</td>\n",
       "      <td>100.0</td>\n",
       "      <td>71.428571</td>\n",
       "      <td>28.571429</td>\n",
       "      <td>75.140402</td>\n",
       "      <td>65.915803</td>\n",
       "      <td>8.75</td>\n",
       "      <td>17.86</td>\n",
       "      <td>12.28</td>\n",
       "      <td>...</td>\n",
       "      <td>-58.4</td>\n",
       "      <td>-60</td>\n",
       "      <td>-160</td>\n",
       "      <td>-362</td>\n",
       "      <td>1.0</td>\n",
       "      <td>0.615169</td>\n",
       "      <td>0.693040</td>\n",
       "      <td>15.146870</td>\n",
       "      <td>35.651301</td>\n",
       "      <td>-37.024805</td>\n",
       "    </tr>\n",
       "    <tr>\n",
       "      <th>3</th>\n",
       "      <td>37</td>\n",
       "      <td>30</td>\n",
       "      <td>100.0</td>\n",
       "      <td>64.285714</td>\n",
       "      <td>35.714286</td>\n",
       "      <td>76.677846</td>\n",
       "      <td>68.584234</td>\n",
       "      <td>7.80</td>\n",
       "      <td>14.76</td>\n",
       "      <td>12.61</td>\n",
       "      <td>...</td>\n",
       "      <td>-61.8</td>\n",
       "      <td>-65</td>\n",
       "      <td>-166</td>\n",
       "      <td>-367</td>\n",
       "      <td>1.0</td>\n",
       "      <td>0.661517</td>\n",
       "      <td>0.673418</td>\n",
       "      <td>15.153283</td>\n",
       "      <td>0.000000</td>\n",
       "      <td>-37.040483</td>\n",
       "    </tr>\n",
       "    <tr>\n",
       "      <th>4</th>\n",
       "      <td>41</td>\n",
       "      <td>37</td>\n",
       "      <td>100.0</td>\n",
       "      <td>57.142857</td>\n",
       "      <td>42.857143</td>\n",
       "      <td>81.603007</td>\n",
       "      <td>76.455495</td>\n",
       "      <td>14.90</td>\n",
       "      <td>11.92</td>\n",
       "      <td>14.25</td>\n",
       "      <td>...</td>\n",
       "      <td>-79.8</td>\n",
       "      <td>-86</td>\n",
       "      <td>-186</td>\n",
       "      <td>-388</td>\n",
       "      <td>1.0</td>\n",
       "      <td>0.747204</td>\n",
       "      <td>0.700522</td>\n",
       "      <td>-15.179065</td>\n",
       "      <td>-35.727079</td>\n",
       "      <td>-37.103503</td>\n",
       "    </tr>\n",
       "  </tbody>\n",
       "</table>\n",
       "<p>5 rows × 136 columns</p>\n",
       "</div>"
      ],
      "text/plain": [
       "   ind_5  ind_6  ind_8      ind_9     ind_10     ind_12     ind_13  ind_14  \\\n",
       "0     19     17  100.0  85.714286  14.285714  72.363515  60.808814   23.80   \n",
       "1     24     19  100.0  78.571429  21.428571  74.275883  64.366798   11.45   \n",
       "2     30     24  100.0  71.428571  28.571429  75.140402  65.915803    8.75   \n",
       "3     37     30  100.0  64.285714  35.714286  76.677846  68.584234    7.80   \n",
       "4     41     37  100.0  57.142857  42.857143  81.603007  76.455495   14.90   \n",
       "\n",
       "   ind_15  ind_16    ...      ind_416  ind_418  ind_420  ind_422  ind_424  \\\n",
       "0   17.62   11.73    ...        -49.6      -54     -152     -353      1.0   \n",
       "1   18.16   12.22    ...        -55.6      -60     -158     -359      1.0   \n",
       "2   17.86   12.28    ...        -58.4      -60     -160     -362      1.0   \n",
       "3   14.76   12.61    ...        -61.8      -65     -166     -367      1.0   \n",
       "4   11.92   14.25    ...        -79.8      -86     -186     -388      1.0   \n",
       "\n",
       "    ind_426   ind_428  20_target  50_target  90_target  \n",
       "0  0.498547  0.701906  15.135802  35.625252  36.997753  \n",
       "1  0.537088  0.690833  15.143348  35.643013  37.016198  \n",
       "2  0.615169  0.693040  15.146870  35.651301 -37.024805  \n",
       "3  0.661517  0.673418  15.153283   0.000000 -37.040483  \n",
       "4  0.747204  0.700522 -15.179065 -35.727079 -37.103503  \n",
       "\n",
       "[5 rows x 136 columns]"
      ]
     },
     "execution_count": 9,
     "metadata": {},
     "output_type": "execute_result"
    }
   ],
   "source": [
    "data = pd.read_excel(\"HW_Data_Set.xlsx\")\n",
    "data.head()"
   ]
  },
  {
   "cell_type": "code",
   "execution_count": 10,
   "metadata": {},
   "outputs": [
    {
     "data": {
      "text/html": [
       "<div>\n",
       "<style scoped>\n",
       "    .dataframe tbody tr th:only-of-type {\n",
       "        vertical-align: middle;\n",
       "    }\n",
       "\n",
       "    .dataframe tbody tr th {\n",
       "        vertical-align: top;\n",
       "    }\n",
       "\n",
       "    .dataframe thead th {\n",
       "        text-align: right;\n",
       "    }\n",
       "</style>\n",
       "<table border=\"1\" class=\"dataframe\">\n",
       "  <thead>\n",
       "    <tr style=\"text-align: right;\">\n",
       "      <th></th>\n",
       "      <th>ind_5</th>\n",
       "      <th>ind_6</th>\n",
       "      <th>ind_8</th>\n",
       "      <th>ind_9</th>\n",
       "      <th>ind_10</th>\n",
       "      <th>ind_12</th>\n",
       "      <th>ind_13</th>\n",
       "      <th>ind_14</th>\n",
       "      <th>ind_15</th>\n",
       "      <th>ind_16</th>\n",
       "      <th>...</th>\n",
       "      <th>ind_412</th>\n",
       "      <th>ind_414</th>\n",
       "      <th>ind_416</th>\n",
       "      <th>ind_418</th>\n",
       "      <th>ind_424</th>\n",
       "      <th>ind_426</th>\n",
       "      <th>ind_428</th>\n",
       "      <th>20_target</th>\n",
       "      <th>50_target</th>\n",
       "      <th>90_target</th>\n",
       "    </tr>\n",
       "  </thead>\n",
       "  <tbody>\n",
       "    <tr>\n",
       "      <th>count</th>\n",
       "      <td>6167.000000</td>\n",
       "      <td>6167.000000</td>\n",
       "      <td>6167.000000</td>\n",
       "      <td>6167.000000</td>\n",
       "      <td>6167.000000</td>\n",
       "      <td>6167.000000</td>\n",
       "      <td>6167.000000</td>\n",
       "      <td>6167.000000</td>\n",
       "      <td>6167.000000</td>\n",
       "      <td>6167.000000</td>\n",
       "      <td>...</td>\n",
       "      <td>6167.000000</td>\n",
       "      <td>6167.000000</td>\n",
       "      <td>6167.000000</td>\n",
       "      <td>6167.000000</td>\n",
       "      <td>6167.000000</td>\n",
       "      <td>6167.000000</td>\n",
       "      <td>6167.000000</td>\n",
       "      <td>6167.000000</td>\n",
       "      <td>6167.000000</td>\n",
       "      <td>6167.000000</td>\n",
       "    </tr>\n",
       "    <tr>\n",
       "      <th>mean</th>\n",
       "      <td>-0.803146</td>\n",
       "      <td>-0.803470</td>\n",
       "      <td>48.388890</td>\n",
       "      <td>48.289282</td>\n",
       "      <td>0.099609</td>\n",
       "      <td>49.488867</td>\n",
       "      <td>-18.497518</td>\n",
       "      <td>11.771485</td>\n",
       "      <td>11.773550</td>\n",
       "      <td>11.773392</td>\n",
       "      <td>...</td>\n",
       "      <td>0.000224</td>\n",
       "      <td>28.529204</td>\n",
       "      <td>-8.554792</td>\n",
       "      <td>-28.166694</td>\n",
       "      <td>0.490297</td>\n",
       "      <td>0.498188</td>\n",
       "      <td>0.490174</td>\n",
       "      <td>-0.057102</td>\n",
       "      <td>-2.906358</td>\n",
       "      <td>-3.315072</td>\n",
       "    </tr>\n",
       "    <tr>\n",
       "      <th>std</th>\n",
       "      <td>23.624403</td>\n",
       "      <td>23.624144</td>\n",
       "      <td>36.388526</td>\n",
       "      <td>36.478009</td>\n",
       "      <td>60.414625</td>\n",
       "      <td>12.198722</td>\n",
       "      <td>68.281120</td>\n",
       "      <td>6.803997</td>\n",
       "      <td>5.786089</td>\n",
       "      <td>4.970499</td>\n",
       "      <td>...</td>\n",
       "      <td>0.005660</td>\n",
       "      <td>26.316896</td>\n",
       "      <td>16.100087</td>\n",
       "      <td>23.271524</td>\n",
       "      <td>0.425376</td>\n",
       "      <td>0.228547</td>\n",
       "      <td>0.150483</td>\n",
       "      <td>14.834497</td>\n",
       "      <td>34.559778</td>\n",
       "      <td>36.841541</td>\n",
       "    </tr>\n",
       "    <tr>\n",
       "      <th>min</th>\n",
       "      <td>-131.000000</td>\n",
       "      <td>-131.000000</td>\n",
       "      <td>0.000000</td>\n",
       "      <td>0.000000</td>\n",
       "      <td>-100.000000</td>\n",
       "      <td>12.134540</td>\n",
       "      <td>-625.093855</td>\n",
       "      <td>1.050000</td>\n",
       "      <td>1.660000</td>\n",
       "      <td>2.580000</td>\n",
       "      <td>...</td>\n",
       "      <td>-0.023790</td>\n",
       "      <td>0.000000</td>\n",
       "      <td>-103.800000</td>\n",
       "      <td>-188.000000</td>\n",
       "      <td>0.000000</td>\n",
       "      <td>0.000000</td>\n",
       "      <td>0.083530</td>\n",
       "      <td>-15.780588</td>\n",
       "      <td>-37.142889</td>\n",
       "      <td>-38.573858</td>\n",
       "    </tr>\n",
       "    <tr>\n",
       "      <th>25%</th>\n",
       "      <td>-14.000000</td>\n",
       "      <td>-14.000000</td>\n",
       "      <td>14.285714</td>\n",
       "      <td>14.285714</td>\n",
       "      <td>-50.000000</td>\n",
       "      <td>40.868503</td>\n",
       "      <td>-45.687212</td>\n",
       "      <td>6.850000</td>\n",
       "      <td>7.260000</td>\n",
       "      <td>7.635000</td>\n",
       "      <td>...</td>\n",
       "      <td>-0.003230</td>\n",
       "      <td>10.700000</td>\n",
       "      <td>-11.700000</td>\n",
       "      <td>-39.000000</td>\n",
       "      <td>0.000000</td>\n",
       "      <td>0.323783</td>\n",
       "      <td>0.379894</td>\n",
       "      <td>-15.350354</td>\n",
       "      <td>-36.208094</td>\n",
       "      <td>-37.695273</td>\n",
       "    </tr>\n",
       "    <tr>\n",
       "      <th>50%</th>\n",
       "      <td>0.000000</td>\n",
       "      <td>0.000000</td>\n",
       "      <td>50.000000</td>\n",
       "      <td>50.000000</td>\n",
       "      <td>0.000000</td>\n",
       "      <td>49.549766</td>\n",
       "      <td>-2.817298</td>\n",
       "      <td>10.550000</td>\n",
       "      <td>11.040000</td>\n",
       "      <td>11.270000</td>\n",
       "      <td>...</td>\n",
       "      <td>-0.000053</td>\n",
       "      <td>21.300000</td>\n",
       "      <td>0.000000</td>\n",
       "      <td>-22.000000</td>\n",
       "      <td>0.473684</td>\n",
       "      <td>0.495192</td>\n",
       "      <td>0.487078</td>\n",
       "      <td>0.000000</td>\n",
       "      <td>-34.267756</td>\n",
       "      <td>-35.788391</td>\n",
       "    </tr>\n",
       "    <tr>\n",
       "      <th>75%</th>\n",
       "      <td>13.000000</td>\n",
       "      <td>13.000000</td>\n",
       "      <td>85.714286</td>\n",
       "      <td>85.714286</td>\n",
       "      <td>57.142857</td>\n",
       "      <td>58.504375</td>\n",
       "      <td>28.072613</td>\n",
       "      <td>14.950000</td>\n",
       "      <td>15.040000</td>\n",
       "      <td>14.960000</td>\n",
       "      <td>...</td>\n",
       "      <td>0.003414</td>\n",
       "      <td>38.400000</td>\n",
       "      <td>0.000000</td>\n",
       "      <td>-11.000000</td>\n",
       "      <td>1.000000</td>\n",
       "      <td>0.675730</td>\n",
       "      <td>0.601508</td>\n",
       "      <td>15.385945</td>\n",
       "      <td>35.879524</td>\n",
       "      <td>37.521892</td>\n",
       "    </tr>\n",
       "    <tr>\n",
       "      <th>max</th>\n",
       "      <td>76.000000</td>\n",
       "      <td>76.000000</td>\n",
       "      <td>100.000000</td>\n",
       "      <td>100.000000</td>\n",
       "      <td>100.000000</td>\n",
       "      <td>84.821848</td>\n",
       "      <td>81.105847</td>\n",
       "      <td>82.900000</td>\n",
       "      <td>54.240000</td>\n",
       "      <td>37.050000</td>\n",
       "      <td>...</td>\n",
       "      <td>0.023340</td>\n",
       "      <td>281.800000</td>\n",
       "      <td>0.000000</td>\n",
       "      <td>0.000000</td>\n",
       "      <td>1.000000</td>\n",
       "      <td>1.000000</td>\n",
       "      <td>0.868534</td>\n",
       "      <td>15.768767</td>\n",
       "      <td>37.038694</td>\n",
       "      <td>38.465649</td>\n",
       "    </tr>\n",
       "    <tr>\n",
       "      <th>variance</th>\n",
       "      <td>558.112000</td>\n",
       "      <td>558.100000</td>\n",
       "      <td>1324.125000</td>\n",
       "      <td>1330.645000</td>\n",
       "      <td>3649.927000</td>\n",
       "      <td>148.809000</td>\n",
       "      <td>4662.311000</td>\n",
       "      <td>46.294000</td>\n",
       "      <td>33.479000</td>\n",
       "      <td>24.706000</td>\n",
       "      <td>...</td>\n",
       "      <td>0.000000</td>\n",
       "      <td>692.579000</td>\n",
       "      <td>259.213000</td>\n",
       "      <td>541.564000</td>\n",
       "      <td>0.181000</td>\n",
       "      <td>0.052000</td>\n",
       "      <td>0.023000</td>\n",
       "      <td>220.062000</td>\n",
       "      <td>1194.378000</td>\n",
       "      <td>1357.299000</td>\n",
       "    </tr>\n",
       "    <tr>\n",
       "      <th>null_values</th>\n",
       "      <td>0.000000</td>\n",
       "      <td>0.000000</td>\n",
       "      <td>0.000000</td>\n",
       "      <td>0.000000</td>\n",
       "      <td>0.000000</td>\n",
       "      <td>0.000000</td>\n",
       "      <td>0.000000</td>\n",
       "      <td>0.000000</td>\n",
       "      <td>0.000000</td>\n",
       "      <td>0.000000</td>\n",
       "      <td>...</td>\n",
       "      <td>0.000000</td>\n",
       "      <td>0.000000</td>\n",
       "      <td>0.000000</td>\n",
       "      <td>0.000000</td>\n",
       "      <td>0.000000</td>\n",
       "      <td>0.000000</td>\n",
       "      <td>0.000000</td>\n",
       "      <td>0.000000</td>\n",
       "      <td>0.000000</td>\n",
       "      <td>0.000000</td>\n",
       "    </tr>\n",
       "    <tr>\n",
       "      <th>null__rate</th>\n",
       "      <td>0.000000</td>\n",
       "      <td>0.000000</td>\n",
       "      <td>0.000000</td>\n",
       "      <td>0.000000</td>\n",
       "      <td>0.000000</td>\n",
       "      <td>0.000000</td>\n",
       "      <td>0.000000</td>\n",
       "      <td>0.000000</td>\n",
       "      <td>0.000000</td>\n",
       "      <td>0.000000</td>\n",
       "      <td>...</td>\n",
       "      <td>0.000000</td>\n",
       "      <td>0.000000</td>\n",
       "      <td>0.000000</td>\n",
       "      <td>0.000000</td>\n",
       "      <td>0.000000</td>\n",
       "      <td>0.000000</td>\n",
       "      <td>0.000000</td>\n",
       "      <td>0.000000</td>\n",
       "      <td>0.000000</td>\n",
       "      <td>0.000000</td>\n",
       "    </tr>\n",
       "  </tbody>\n",
       "</table>\n",
       "<p>11 rows × 133 columns</p>\n",
       "</div>"
      ],
      "text/plain": [
       "                   ind_5        ind_6        ind_8        ind_9       ind_10  \\\n",
       "count        6167.000000  6167.000000  6167.000000  6167.000000  6167.000000   \n",
       "mean           -0.803146    -0.803470    48.388890    48.289282     0.099609   \n",
       "std            23.624403    23.624144    36.388526    36.478009    60.414625   \n",
       "min          -131.000000  -131.000000     0.000000     0.000000  -100.000000   \n",
       "25%           -14.000000   -14.000000    14.285714    14.285714   -50.000000   \n",
       "50%             0.000000     0.000000    50.000000    50.000000     0.000000   \n",
       "75%            13.000000    13.000000    85.714286    85.714286    57.142857   \n",
       "max            76.000000    76.000000   100.000000   100.000000   100.000000   \n",
       "variance      558.112000   558.100000  1324.125000  1330.645000  3649.927000   \n",
       "null_values     0.000000     0.000000     0.000000     0.000000     0.000000   \n",
       "null__rate      0.000000     0.000000     0.000000     0.000000     0.000000   \n",
       "\n",
       "                  ind_12       ind_13       ind_14       ind_15       ind_16  \\\n",
       "count        6167.000000  6167.000000  6167.000000  6167.000000  6167.000000   \n",
       "mean           49.488867   -18.497518    11.771485    11.773550    11.773392   \n",
       "std            12.198722    68.281120     6.803997     5.786089     4.970499   \n",
       "min            12.134540  -625.093855     1.050000     1.660000     2.580000   \n",
       "25%            40.868503   -45.687212     6.850000     7.260000     7.635000   \n",
       "50%            49.549766    -2.817298    10.550000    11.040000    11.270000   \n",
       "75%            58.504375    28.072613    14.950000    15.040000    14.960000   \n",
       "max            84.821848    81.105847    82.900000    54.240000    37.050000   \n",
       "variance      148.809000  4662.311000    46.294000    33.479000    24.706000   \n",
       "null_values     0.000000     0.000000     0.000000     0.000000     0.000000   \n",
       "null__rate      0.000000     0.000000     0.000000     0.000000     0.000000   \n",
       "\n",
       "                ...           ind_412      ind_414      ind_416      ind_418  \\\n",
       "count           ...       6167.000000  6167.000000  6167.000000  6167.000000   \n",
       "mean            ...          0.000224    28.529204    -8.554792   -28.166694   \n",
       "std             ...          0.005660    26.316896    16.100087    23.271524   \n",
       "min             ...         -0.023790     0.000000  -103.800000  -188.000000   \n",
       "25%             ...         -0.003230    10.700000   -11.700000   -39.000000   \n",
       "50%             ...         -0.000053    21.300000     0.000000   -22.000000   \n",
       "75%             ...          0.003414    38.400000     0.000000   -11.000000   \n",
       "max             ...          0.023340   281.800000     0.000000     0.000000   \n",
       "variance        ...          0.000000   692.579000   259.213000   541.564000   \n",
       "null_values     ...          0.000000     0.000000     0.000000     0.000000   \n",
       "null__rate      ...          0.000000     0.000000     0.000000     0.000000   \n",
       "\n",
       "                 ind_424      ind_426      ind_428    20_target    50_target  \\\n",
       "count        6167.000000  6167.000000  6167.000000  6167.000000  6167.000000   \n",
       "mean            0.490297     0.498188     0.490174    -0.057102    -2.906358   \n",
       "std             0.425376     0.228547     0.150483    14.834497    34.559778   \n",
       "min             0.000000     0.000000     0.083530   -15.780588   -37.142889   \n",
       "25%             0.000000     0.323783     0.379894   -15.350354   -36.208094   \n",
       "50%             0.473684     0.495192     0.487078     0.000000   -34.267756   \n",
       "75%             1.000000     0.675730     0.601508    15.385945    35.879524   \n",
       "max             1.000000     1.000000     0.868534    15.768767    37.038694   \n",
       "variance        0.181000     0.052000     0.023000   220.062000  1194.378000   \n",
       "null_values     0.000000     0.000000     0.000000     0.000000     0.000000   \n",
       "null__rate      0.000000     0.000000     0.000000     0.000000     0.000000   \n",
       "\n",
       "               90_target  \n",
       "count        6167.000000  \n",
       "mean           -3.315072  \n",
       "std            36.841541  \n",
       "min           -38.573858  \n",
       "25%           -37.695273  \n",
       "50%           -35.788391  \n",
       "75%            37.521892  \n",
       "max            38.465649  \n",
       "variance     1357.299000  \n",
       "null_values     0.000000  \n",
       "null__rate      0.000000  \n",
       "\n",
       "[11 rows x 133 columns]"
      ]
     },
     "execution_count": 10,
     "metadata": {},
     "output_type": "execute_result"
    }
   ],
   "source": [
    "desc_df = data.describe().T\n",
    "null_count = data.isnull().sum()\n",
    "null_percent = (data.isnull().sum() / data.count())*100\n",
    "variance = data.var()\n",
    "\n",
    "desc_df[\"variance\"] =  round(variance,3)\n",
    "desc_df[\"null_values\"] = round(null_count,3)\n",
    "desc_df[\"null__rate\"] = round(null_percent,3)\n",
    "desc_df.T"
   ]
  },
  {
   "cell_type": "code",
   "execution_count": 11,
   "metadata": {},
   "outputs": [
    {
     "name": "stdout",
     "output_type": "stream",
     "text": [
      "Numeric Column  :\n",
      " ['ind_5', 'ind_6', 'ind_8', 'ind_9', 'ind_10', 'ind_12', 'ind_13', 'ind_14', 'ind_15', 'ind_16', 'ind_17', 'ind_18', 'ind_19', 'ind_20', 'ind_21', 'ind_22', 'ind_23', 'ind_25', 'ind_26', 'ind_27', 'ind_28', 'ind_29', 'ind_30', 'ind_31', 'ind_32', 'ind_33', 'ind_34', 'ind_35', 'ind_36', 'ind_37', 'ind_39', 'ind_40', 'ind_41', 'ind_42', 'ind_43', 'ind_44', 'ind_45', 'ind_46', 'ind_47', 'ind_48', 'ind_49', 'ind_50', 'ind_51', 'ind_52', 'ind_53', 'ind_56', 'ind_58', 'ind_61', 'ind_62', 'ind_65', 'ind_67', 'ind_70', 'ind_71', 'ind_74', 'ind_77', 'ind_82', 'ind_83', 'ind_88', 'ind_92', 'ind_102', 'ind_116', 'ind_118', 'ind_122', 'ind_124', 'ind_128', 'ind_130', 'ind_132', 'ind_134', 'ind_136', 'ind_139', 'ind_142', 'ind_145', 'ind_147', 'ind_150', 'ind_153', 'ind_156', 'ind_164', 'ind_168', 'ind_172', 'ind_176', 'ind_179', 'ind_181', 'ind_188', 'ind_194', 'ind_212', 'ind_217', 'ind_225', 'ind_228', 'ind_234', 'ind_237', 'ind_239', 'ind_241', 'ind_243', 'ind_309', 'ind_310', 'ind_311', 'ind_313', 'ind_315', 'ind_316', 'ind_318', 'ind_321', 'ind_324', 'ind_327', 'ind_330', 'ind_332', 'ind_334', 'ind_338', 'ind_340', 'ind_344', 'ind_345', 'ind_347', 'ind_349', 'ind_351', 'ind_352', 'ind_387', 'ind_392', 'ind_397', 'ind_399', 'ind_403', 'ind_404', 'ind_406', 'ind_407', 'ind_410', 'ind_412', 'ind_414', 'ind_416', 'ind_418', 'ind_424', 'ind_426', 'ind_428', '20_target', '50_target', '90_target'] \n",
      "\n",
      "Categoric Column :\n",
      " ['ind_109', 'ind_420', 'ind_422']\n"
     ]
    }
   ],
   "source": [
    "num, cat = numeric_categoric_variable(data)"
   ]
  },
  {
   "cell_type": "code",
   "execution_count": 12,
   "metadata": {},
   "outputs": [
    {
     "name": "stdout",
     "output_type": "stream",
     "text": [
      "ind_109 :  2\n",
      "ind_420 :  582\n",
      "ind_422 :  573\n"
     ]
    }
   ],
   "source": [
    "for i in data.select_dtypes(include=[\"object\"]).columns:\n",
    "    print(i,\": \",data[i].value_counts().count())"
   ]
  },
  {
   "cell_type": "code",
   "execution_count": 13,
   "metadata": {},
   "outputs": [],
   "source": [
    "## data temizleme\n",
    "\n",
    "#data[\"ind_420\"] = data[\"ind_420\"].replace(\"?\", np.nan)\n",
    "#data[\"ind_422\"] = data[\"ind_422\"].replace(\"?\", np.nan)\n",
    "\n",
    "data = data.drop([\"ind_420\", \"ind_422\"], axis=1)"
   ]
  },
  {
   "cell_type": "code",
   "execution_count": 14,
   "metadata": {},
   "outputs": [
    {
     "data": {
      "text/html": [
       "<div>\n",
       "<style scoped>\n",
       "    .dataframe tbody tr th:only-of-type {\n",
       "        vertical-align: middle;\n",
       "    }\n",
       "\n",
       "    .dataframe tbody tr th {\n",
       "        vertical-align: top;\n",
       "    }\n",
       "\n",
       "    .dataframe thead th {\n",
       "        text-align: right;\n",
       "    }\n",
       "</style>\n",
       "<table border=\"1\" class=\"dataframe\">\n",
       "  <thead>\n",
       "    <tr style=\"text-align: right;\">\n",
       "      <th></th>\n",
       "      <th>ind_5</th>\n",
       "      <th>ind_6</th>\n",
       "      <th>ind_8</th>\n",
       "      <th>ind_9</th>\n",
       "      <th>ind_10</th>\n",
       "      <th>ind_12</th>\n",
       "      <th>ind_13</th>\n",
       "      <th>ind_14</th>\n",
       "      <th>ind_15</th>\n",
       "      <th>ind_16</th>\n",
       "      <th>...</th>\n",
       "      <th>ind_416</th>\n",
       "      <th>ind_418</th>\n",
       "      <th>ind_424</th>\n",
       "      <th>ind_426</th>\n",
       "      <th>ind_428</th>\n",
       "      <th>20_target</th>\n",
       "      <th>50_target</th>\n",
       "      <th>90_target</th>\n",
       "      <th>GREEN</th>\n",
       "      <th>RED</th>\n",
       "    </tr>\n",
       "  </thead>\n",
       "  <tbody>\n",
       "    <tr>\n",
       "      <th>0</th>\n",
       "      <td>19</td>\n",
       "      <td>17</td>\n",
       "      <td>100.0</td>\n",
       "      <td>85.714286</td>\n",
       "      <td>14.285714</td>\n",
       "      <td>72.363515</td>\n",
       "      <td>60.808814</td>\n",
       "      <td>23.80</td>\n",
       "      <td>17.62</td>\n",
       "      <td>11.73</td>\n",
       "      <td>...</td>\n",
       "      <td>-49.6</td>\n",
       "      <td>-54</td>\n",
       "      <td>1.0</td>\n",
       "      <td>0.498547</td>\n",
       "      <td>0.701906</td>\n",
       "      <td>15.135802</td>\n",
       "      <td>35.625252</td>\n",
       "      <td>36.997753</td>\n",
       "      <td>1</td>\n",
       "      <td>0</td>\n",
       "    </tr>\n",
       "    <tr>\n",
       "      <th>1</th>\n",
       "      <td>24</td>\n",
       "      <td>19</td>\n",
       "      <td>100.0</td>\n",
       "      <td>78.571429</td>\n",
       "      <td>21.428571</td>\n",
       "      <td>74.275883</td>\n",
       "      <td>64.366798</td>\n",
       "      <td>11.45</td>\n",
       "      <td>18.16</td>\n",
       "      <td>12.22</td>\n",
       "      <td>...</td>\n",
       "      <td>-55.6</td>\n",
       "      <td>-60</td>\n",
       "      <td>1.0</td>\n",
       "      <td>0.537088</td>\n",
       "      <td>0.690833</td>\n",
       "      <td>15.143348</td>\n",
       "      <td>35.643013</td>\n",
       "      <td>37.016198</td>\n",
       "      <td>1</td>\n",
       "      <td>0</td>\n",
       "    </tr>\n",
       "    <tr>\n",
       "      <th>2</th>\n",
       "      <td>30</td>\n",
       "      <td>24</td>\n",
       "      <td>100.0</td>\n",
       "      <td>71.428571</td>\n",
       "      <td>28.571429</td>\n",
       "      <td>75.140402</td>\n",
       "      <td>65.915803</td>\n",
       "      <td>8.75</td>\n",
       "      <td>17.86</td>\n",
       "      <td>12.28</td>\n",
       "      <td>...</td>\n",
       "      <td>-58.4</td>\n",
       "      <td>-60</td>\n",
       "      <td>1.0</td>\n",
       "      <td>0.615169</td>\n",
       "      <td>0.693040</td>\n",
       "      <td>15.146870</td>\n",
       "      <td>35.651301</td>\n",
       "      <td>-37.024805</td>\n",
       "      <td>1</td>\n",
       "      <td>0</td>\n",
       "    </tr>\n",
       "  </tbody>\n",
       "</table>\n",
       "<p>3 rows × 135 columns</p>\n",
       "</div>"
      ],
      "text/plain": [
       "   ind_5  ind_6  ind_8      ind_9     ind_10     ind_12     ind_13  ind_14  \\\n",
       "0     19     17  100.0  85.714286  14.285714  72.363515  60.808814   23.80   \n",
       "1     24     19  100.0  78.571429  21.428571  74.275883  64.366798   11.45   \n",
       "2     30     24  100.0  71.428571  28.571429  75.140402  65.915803    8.75   \n",
       "\n",
       "   ind_15  ind_16 ...   ind_416  ind_418  ind_424   ind_426   ind_428  \\\n",
       "0   17.62   11.73 ...     -49.6      -54      1.0  0.498547  0.701906   \n",
       "1   18.16   12.22 ...     -55.6      -60      1.0  0.537088  0.690833   \n",
       "2   17.86   12.28 ...     -58.4      -60      1.0  0.615169  0.693040   \n",
       "\n",
       "   20_target  50_target  90_target  GREEN  RED  \n",
       "0  15.135802  35.625252  36.997753      1    0  \n",
       "1  15.143348  35.643013  37.016198      1    0  \n",
       "2  15.146870  35.651301 -37.024805      1    0  \n",
       "\n",
       "[3 rows x 135 columns]"
      ]
     },
     "execution_count": 14,
     "metadata": {},
     "output_type": "execute_result"
    }
   ],
   "source": [
    "## dummy degisken \n",
    "\n",
    "dummy = pd.get_dummies(data[\"ind_109\"])\n",
    "data_dummy = pd.concat([data, dummy],axis=1)\n",
    "data_dummy = data_dummy.drop([\"ind_109\"], axis=1)\n",
    "data_dummy.head(3)"
   ]
  },
  {
   "cell_type": "markdown",
   "metadata": {},
   "source": [
    "## Normalization "
   ]
  },
  {
   "cell_type": "code",
   "execution_count": 15,
   "metadata": {},
   "outputs": [
    {
     "name": "stderr",
     "output_type": "stream",
     "text": [
      "/home/asus/anaconda3/lib/python3.7/site-packages/sklearn/preprocessing/data.py:323: DataConversionWarning: Data with input dtype uint8, int64, float64 were all converted to float64 by MinMaxScaler.\n",
      "  return self.partial_fit(X, y)\n"
     ]
    },
    {
     "data": {
      "text/html": [
       "<div>\n",
       "<style scoped>\n",
       "    .dataframe tbody tr th:only-of-type {\n",
       "        vertical-align: middle;\n",
       "    }\n",
       "\n",
       "    .dataframe tbody tr th {\n",
       "        vertical-align: top;\n",
       "    }\n",
       "\n",
       "    .dataframe thead th {\n",
       "        text-align: right;\n",
       "    }\n",
       "</style>\n",
       "<table border=\"1\" class=\"dataframe\">\n",
       "  <thead>\n",
       "    <tr style=\"text-align: right;\">\n",
       "      <th></th>\n",
       "      <th>ind_5</th>\n",
       "      <th>ind_6</th>\n",
       "      <th>ind_8</th>\n",
       "      <th>ind_9</th>\n",
       "      <th>ind_10</th>\n",
       "      <th>ind_12</th>\n",
       "      <th>ind_13</th>\n",
       "      <th>ind_14</th>\n",
       "      <th>ind_15</th>\n",
       "      <th>ind_16</th>\n",
       "      <th>...</th>\n",
       "      <th>ind_416</th>\n",
       "      <th>ind_418</th>\n",
       "      <th>ind_424</th>\n",
       "      <th>ind_426</th>\n",
       "      <th>ind_428</th>\n",
       "      <th>20_target</th>\n",
       "      <th>50_target</th>\n",
       "      <th>90_target</th>\n",
       "      <th>GREEN</th>\n",
       "      <th>RED</th>\n",
       "    </tr>\n",
       "  </thead>\n",
       "  <tbody>\n",
       "    <tr>\n",
       "      <th>0</th>\n",
       "      <td>0.724638</td>\n",
       "      <td>0.714976</td>\n",
       "      <td>1.0</td>\n",
       "      <td>0.857143</td>\n",
       "      <td>0.571429</td>\n",
       "      <td>0.828604</td>\n",
       "      <td>0.971259</td>\n",
       "      <td>0.277947</td>\n",
       "      <td>0.303537</td>\n",
       "      <td>0.265448</td>\n",
       "      <td>...</td>\n",
       "      <td>0.522158</td>\n",
       "      <td>0.712766</td>\n",
       "      <td>1.0</td>\n",
       "      <td>0.498547</td>\n",
       "      <td>0.787736</td>\n",
       "      <td>0.979937</td>\n",
       "      <td>0.980946</td>\n",
       "      <td>0.980946</td>\n",
       "      <td>1.0</td>\n",
       "      <td>0.0</td>\n",
       "    </tr>\n",
       "    <tr>\n",
       "      <th>1</th>\n",
       "      <td>0.748792</td>\n",
       "      <td>0.724638</td>\n",
       "      <td>1.0</td>\n",
       "      <td>0.785714</td>\n",
       "      <td>0.607143</td>\n",
       "      <td>0.854913</td>\n",
       "      <td>0.976297</td>\n",
       "      <td>0.127062</td>\n",
       "      <td>0.313808</td>\n",
       "      <td>0.279663</td>\n",
       "      <td>...</td>\n",
       "      <td>0.464355</td>\n",
       "      <td>0.680851</td>\n",
       "      <td>1.0</td>\n",
       "      <td>0.537088</td>\n",
       "      <td>0.773630</td>\n",
       "      <td>0.980177</td>\n",
       "      <td>0.981186</td>\n",
       "      <td>0.981186</td>\n",
       "      <td>1.0</td>\n",
       "      <td>0.0</td>\n",
       "    </tr>\n",
       "    <tr>\n",
       "      <th>2</th>\n",
       "      <td>0.777778</td>\n",
       "      <td>0.748792</td>\n",
       "      <td>1.0</td>\n",
       "      <td>0.714286</td>\n",
       "      <td>0.642857</td>\n",
       "      <td>0.866807</td>\n",
       "      <td>0.978490</td>\n",
       "      <td>0.094075</td>\n",
       "      <td>0.308102</td>\n",
       "      <td>0.281404</td>\n",
       "      <td>...</td>\n",
       "      <td>0.437380</td>\n",
       "      <td>0.680851</td>\n",
       "      <td>1.0</td>\n",
       "      <td>0.615169</td>\n",
       "      <td>0.776441</td>\n",
       "      <td>0.980288</td>\n",
       "      <td>0.981297</td>\n",
       "      <td>0.020107</td>\n",
       "      <td>1.0</td>\n",
       "      <td>0.0</td>\n",
       "    </tr>\n",
       "  </tbody>\n",
       "</table>\n",
       "<p>3 rows × 135 columns</p>\n",
       "</div>"
      ],
      "text/plain": [
       "      ind_5     ind_6  ind_8     ind_9    ind_10    ind_12    ind_13  \\\n",
       "0  0.724638  0.714976    1.0  0.857143  0.571429  0.828604  0.971259   \n",
       "1  0.748792  0.724638    1.0  0.785714  0.607143  0.854913  0.976297   \n",
       "2  0.777778  0.748792    1.0  0.714286  0.642857  0.866807  0.978490   \n",
       "\n",
       "     ind_14    ind_15    ind_16 ...    ind_416   ind_418  ind_424   ind_426  \\\n",
       "0  0.277947  0.303537  0.265448 ...   0.522158  0.712766      1.0  0.498547   \n",
       "1  0.127062  0.313808  0.279663 ...   0.464355  0.680851      1.0  0.537088   \n",
       "2  0.094075  0.308102  0.281404 ...   0.437380  0.680851      1.0  0.615169   \n",
       "\n",
       "    ind_428  20_target  50_target  90_target  GREEN  RED  \n",
       "0  0.787736   0.979937   0.980946   0.980946    1.0  0.0  \n",
       "1  0.773630   0.980177   0.981186   0.981186    1.0  0.0  \n",
       "2  0.776441   0.980288   0.981297   0.020107    1.0  0.0  \n",
       "\n",
       "[3 rows x 135 columns]"
      ]
     },
     "execution_count": 15,
     "metadata": {},
     "output_type": "execute_result"
    }
   ],
   "source": [
    "## minmax \n",
    "scaler = MinMaxScaler()\n",
    "scaler.fit(data_dummy)\n",
    "data_minmax = scaler.transform(data_dummy)\n",
    "data_minmax = pd.DataFrame(data_minmax, columns=data_dummy.columns)\n",
    "data_minmax.head(3)"
   ]
  },
  {
   "cell_type": "code",
   "execution_count": 16,
   "metadata": {},
   "outputs": [
    {
     "name": "stderr",
     "output_type": "stream",
     "text": [
      "/home/asus/anaconda3/lib/python3.7/site-packages/sklearn/preprocessing/data.py:625: DataConversionWarning: Data with input dtype uint8, int64, float64 were all converted to float64 by StandardScaler.\n",
      "  return self.partial_fit(X, y)\n",
      "/home/asus/anaconda3/lib/python3.7/site-packages/ipykernel_launcher.py:4: DataConversionWarning: Data with input dtype uint8, int64, float64 were all converted to float64 by StandardScaler.\n",
      "  after removing the cwd from sys.path.\n"
     ]
    },
    {
     "data": {
      "text/html": [
       "<div>\n",
       "<style scoped>\n",
       "    .dataframe tbody tr th:only-of-type {\n",
       "        vertical-align: middle;\n",
       "    }\n",
       "\n",
       "    .dataframe tbody tr th {\n",
       "        vertical-align: top;\n",
       "    }\n",
       "\n",
       "    .dataframe thead th {\n",
       "        text-align: right;\n",
       "    }\n",
       "</style>\n",
       "<table border=\"1\" class=\"dataframe\">\n",
       "  <thead>\n",
       "    <tr style=\"text-align: right;\">\n",
       "      <th></th>\n",
       "      <th>ind_5</th>\n",
       "      <th>ind_6</th>\n",
       "      <th>ind_8</th>\n",
       "      <th>ind_9</th>\n",
       "      <th>ind_10</th>\n",
       "      <th>ind_12</th>\n",
       "      <th>ind_13</th>\n",
       "      <th>ind_14</th>\n",
       "      <th>ind_15</th>\n",
       "      <th>ind_16</th>\n",
       "      <th>...</th>\n",
       "      <th>ind_416</th>\n",
       "      <th>ind_418</th>\n",
       "      <th>ind_424</th>\n",
       "      <th>ind_426</th>\n",
       "      <th>ind_428</th>\n",
       "      <th>20_target</th>\n",
       "      <th>50_target</th>\n",
       "      <th>90_target</th>\n",
       "      <th>GREEN</th>\n",
       "      <th>RED</th>\n",
       "    </tr>\n",
       "  </thead>\n",
       "  <tbody>\n",
       "    <tr>\n",
       "      <th>0</th>\n",
       "      <td>0.838318</td>\n",
       "      <td>0.753674</td>\n",
       "      <td>1.41845</td>\n",
       "      <td>1.026044</td>\n",
       "      <td>0.234831</td>\n",
       "      <td>1.875320</td>\n",
       "      <td>1.161562</td>\n",
       "      <td>1.768003</td>\n",
       "      <td>1.010514</td>\n",
       "      <td>-0.008731</td>\n",
       "      <td>...</td>\n",
       "      <td>-2.549585</td>\n",
       "      <td>-1.110172</td>\n",
       "      <td>1.198341</td>\n",
       "      <td>0.001568</td>\n",
       "      <td>1.407132</td>\n",
       "      <td>1.024243</td>\n",
       "      <td>1.115017</td>\n",
       "      <td>1.094311</td>\n",
       "      <td>0.984393</td>\n",
       "      <td>-0.984393</td>\n",
       "    </tr>\n",
       "    <tr>\n",
       "      <th>1</th>\n",
       "      <td>1.049980</td>\n",
       "      <td>0.838340</td>\n",
       "      <td>1.41845</td>\n",
       "      <td>0.830215</td>\n",
       "      <td>0.353072</td>\n",
       "      <td>2.032100</td>\n",
       "      <td>1.213674</td>\n",
       "      <td>-0.047253</td>\n",
       "      <td>1.103849</td>\n",
       "      <td>0.089859</td>\n",
       "      <td>...</td>\n",
       "      <td>-2.922284</td>\n",
       "      <td>-1.368019</td>\n",
       "      <td>1.198341</td>\n",
       "      <td>0.170218</td>\n",
       "      <td>1.333540</td>\n",
       "      <td>1.024752</td>\n",
       "      <td>1.115531</td>\n",
       "      <td>1.094811</td>\n",
       "      <td>0.984393</td>\n",
       "      <td>-0.984393</td>\n",
       "    </tr>\n",
       "    <tr>\n",
       "      <th>2</th>\n",
       "      <td>1.303976</td>\n",
       "      <td>1.050005</td>\n",
       "      <td>1.41845</td>\n",
       "      <td>0.634387</td>\n",
       "      <td>0.471312</td>\n",
       "      <td>2.102976</td>\n",
       "      <td>1.236362</td>\n",
       "      <td>-0.444111</td>\n",
       "      <td>1.051996</td>\n",
       "      <td>0.101931</td>\n",
       "      <td>...</td>\n",
       "      <td>-3.096210</td>\n",
       "      <td>-1.368019</td>\n",
       "      <td>1.198341</td>\n",
       "      <td>0.511884</td>\n",
       "      <td>1.348207</td>\n",
       "      <td>1.024990</td>\n",
       "      <td>1.115771</td>\n",
       "      <td>-0.915067</td>\n",
       "      <td>0.984393</td>\n",
       "      <td>-0.984393</td>\n",
       "    </tr>\n",
       "  </tbody>\n",
       "</table>\n",
       "<p>3 rows × 135 columns</p>\n",
       "</div>"
      ],
      "text/plain": [
       "      ind_5     ind_6    ind_8     ind_9    ind_10    ind_12    ind_13  \\\n",
       "0  0.838318  0.753674  1.41845  1.026044  0.234831  1.875320  1.161562   \n",
       "1  1.049980  0.838340  1.41845  0.830215  0.353072  2.032100  1.213674   \n",
       "2  1.303976  1.050005  1.41845  0.634387  0.471312  2.102976  1.236362   \n",
       "\n",
       "     ind_14    ind_15    ind_16    ...      ind_416   ind_418   ind_424  \\\n",
       "0  1.768003  1.010514 -0.008731    ...    -2.549585 -1.110172  1.198341   \n",
       "1 -0.047253  1.103849  0.089859    ...    -2.922284 -1.368019  1.198341   \n",
       "2 -0.444111  1.051996  0.101931    ...    -3.096210 -1.368019  1.198341   \n",
       "\n",
       "    ind_426   ind_428  20_target  50_target  90_target     GREEN       RED  \n",
       "0  0.001568  1.407132   1.024243   1.115017   1.094311  0.984393 -0.984393  \n",
       "1  0.170218  1.333540   1.024752   1.115531   1.094811  0.984393 -0.984393  \n",
       "2  0.511884  1.348207   1.024990   1.115771  -0.915067  0.984393 -0.984393  \n",
       "\n",
       "[3 rows x 135 columns]"
      ]
     },
     "execution_count": 16,
     "metadata": {},
     "output_type": "execute_result"
    }
   ],
   "source": [
    "## standard scaler \n",
    "scaler2 = StandardScaler()\n",
    "scaler2.fit(data_dummy)\n",
    "data_stdscaler = scaler2.transform(data_dummy)\n",
    "data_stdscaler = pd.DataFrame(data_stdscaler, columns=data_dummy.columns)\n",
    "data_stdscaler.head(3)"
   ]
  },
  {
   "cell_type": "code",
   "execution_count": 17,
   "metadata": {},
   "outputs": [
    {
     "data": {
      "text/html": [
       "<div>\n",
       "<style scoped>\n",
       "    .dataframe tbody tr th:only-of-type {\n",
       "        vertical-align: middle;\n",
       "    }\n",
       "\n",
       "    .dataframe tbody tr th {\n",
       "        vertical-align: top;\n",
       "    }\n",
       "\n",
       "    .dataframe thead th {\n",
       "        text-align: right;\n",
       "    }\n",
       "</style>\n",
       "<table border=\"1\" class=\"dataframe\">\n",
       "  <thead>\n",
       "    <tr style=\"text-align: right;\">\n",
       "      <th></th>\n",
       "      <th>ind_5</th>\n",
       "      <th>ind_6</th>\n",
       "      <th>ind_8</th>\n",
       "      <th>ind_9</th>\n",
       "      <th>ind_10</th>\n",
       "      <th>ind_12</th>\n",
       "      <th>ind_13</th>\n",
       "      <th>ind_14</th>\n",
       "      <th>ind_15</th>\n",
       "      <th>ind_16</th>\n",
       "      <th>...</th>\n",
       "      <th>ind_416</th>\n",
       "      <th>ind_418</th>\n",
       "      <th>ind_424</th>\n",
       "      <th>ind_426</th>\n",
       "      <th>ind_428</th>\n",
       "      <th>20_target</th>\n",
       "      <th>50_target</th>\n",
       "      <th>90_target</th>\n",
       "      <th>GREEN</th>\n",
       "      <th>RED</th>\n",
       "    </tr>\n",
       "  </thead>\n",
       "  <tbody>\n",
       "    <tr>\n",
       "      <th>0</th>\n",
       "      <td>0.029678</td>\n",
       "      <td>0.026554</td>\n",
       "      <td>0.156202</td>\n",
       "      <td>0.133888</td>\n",
       "      <td>0.022315</td>\n",
       "      <td>0.113033</td>\n",
       "      <td>0.094985</td>\n",
       "      <td>0.037176</td>\n",
       "      <td>0.027523</td>\n",
       "      <td>0.018323</td>\n",
       "      <td>...</td>\n",
       "      <td>-0.077476</td>\n",
       "      <td>-0.084349</td>\n",
       "      <td>0.001562</td>\n",
       "      <td>0.000779</td>\n",
       "      <td>0.001096</td>\n",
       "      <td>0.023642</td>\n",
       "      <td>0.055647</td>\n",
       "      <td>0.057791</td>\n",
       "      <td>0.001562</td>\n",
       "      <td>0.0</td>\n",
       "    </tr>\n",
       "    <tr>\n",
       "      <th>1</th>\n",
       "      <td>0.036405</td>\n",
       "      <td>0.028821</td>\n",
       "      <td>0.151689</td>\n",
       "      <td>0.119184</td>\n",
       "      <td>0.032505</td>\n",
       "      <td>0.112668</td>\n",
       "      <td>0.097637</td>\n",
       "      <td>0.017368</td>\n",
       "      <td>0.027547</td>\n",
       "      <td>0.018536</td>\n",
       "      <td>...</td>\n",
       "      <td>-0.084339</td>\n",
       "      <td>-0.091013</td>\n",
       "      <td>0.001517</td>\n",
       "      <td>0.000815</td>\n",
       "      <td>0.001048</td>\n",
       "      <td>0.022971</td>\n",
       "      <td>0.054067</td>\n",
       "      <td>0.056149</td>\n",
       "      <td>0.001517</td>\n",
       "      <td>0.0</td>\n",
       "    </tr>\n",
       "    <tr>\n",
       "      <th>2</th>\n",
       "      <td>0.045242</td>\n",
       "      <td>0.036194</td>\n",
       "      <td>0.150808</td>\n",
       "      <td>0.107720</td>\n",
       "      <td>0.043088</td>\n",
       "      <td>0.113318</td>\n",
       "      <td>0.099406</td>\n",
       "      <td>0.013196</td>\n",
       "      <td>0.026934</td>\n",
       "      <td>0.018519</td>\n",
       "      <td>...</td>\n",
       "      <td>-0.088072</td>\n",
       "      <td>-0.090485</td>\n",
       "      <td>0.001508</td>\n",
       "      <td>0.000928</td>\n",
       "      <td>0.001045</td>\n",
       "      <td>0.022843</td>\n",
       "      <td>0.053765</td>\n",
       "      <td>-0.055836</td>\n",
       "      <td>0.001508</td>\n",
       "      <td>0.0</td>\n",
       "    </tr>\n",
       "  </tbody>\n",
       "</table>\n",
       "<p>3 rows × 135 columns</p>\n",
       "</div>"
      ],
      "text/plain": [
       "      ind_5     ind_6     ind_8     ind_9    ind_10    ind_12    ind_13  \\\n",
       "0  0.029678  0.026554  0.156202  0.133888  0.022315  0.113033  0.094985   \n",
       "1  0.036405  0.028821  0.151689  0.119184  0.032505  0.112668  0.097637   \n",
       "2  0.045242  0.036194  0.150808  0.107720  0.043088  0.113318  0.099406   \n",
       "\n",
       "     ind_14    ind_15    ind_16 ...    ind_416   ind_418   ind_424   ind_426  \\\n",
       "0  0.037176  0.027523  0.018323 ...  -0.077476 -0.084349  0.001562  0.000779   \n",
       "1  0.017368  0.027547  0.018536 ...  -0.084339 -0.091013  0.001517  0.000815   \n",
       "2  0.013196  0.026934  0.018519 ...  -0.088072 -0.090485  0.001508  0.000928   \n",
       "\n",
       "    ind_428  20_target  50_target  90_target     GREEN  RED  \n",
       "0  0.001096   0.023642   0.055647   0.057791  0.001562  0.0  \n",
       "1  0.001048   0.022971   0.054067   0.056149  0.001517  0.0  \n",
       "2  0.001045   0.022843   0.053765  -0.055836  0.001508  0.0  \n",
       "\n",
       "[3 rows x 135 columns]"
      ]
     },
     "execution_count": 17,
     "metadata": {},
     "output_type": "execute_result"
    }
   ],
   "source": [
    "## Normalizer \n",
    "scaler3 = Normalizer()\n",
    "scaler3.fit(data_dummy)\n",
    "data_normalizer = scaler3.transform(data_dummy)\n",
    "data_normalizer = pd.DataFrame(data_normalizer, columns=data_dummy.columns)\n",
    "data_normalizer.head(3)"
   ]
  },
  {
   "cell_type": "markdown",
   "metadata": {},
   "source": [
    "## PCA - Principal Component Analysis"
   ]
  },
  {
   "cell_type": "code",
   "execution_count": 18,
   "metadata": {},
   "outputs": [
    {
     "name": "stdout",
     "output_type": "stream",
     "text": [
      "pca sonrası değişken sayısı:  12\n"
     ]
    },
    {
     "data": {
      "text/html": [
       "<div>\n",
       "<style scoped>\n",
       "    .dataframe tbody tr th:only-of-type {\n",
       "        vertical-align: middle;\n",
       "    }\n",
       "\n",
       "    .dataframe tbody tr th {\n",
       "        vertical-align: top;\n",
       "    }\n",
       "\n",
       "    .dataframe thead th {\n",
       "        text-align: right;\n",
       "    }\n",
       "</style>\n",
       "<table border=\"1\" class=\"dataframe\">\n",
       "  <thead>\n",
       "    <tr style=\"text-align: right;\">\n",
       "      <th></th>\n",
       "      <th>0</th>\n",
       "      <th>1</th>\n",
       "      <th>2</th>\n",
       "      <th>3</th>\n",
       "      <th>4</th>\n",
       "      <th>5</th>\n",
       "      <th>6</th>\n",
       "      <th>7</th>\n",
       "      <th>8</th>\n",
       "      <th>9</th>\n",
       "      <th>10</th>\n",
       "      <th>11</th>\n",
       "    </tr>\n",
       "  </thead>\n",
       "  <tbody>\n",
       "    <tr>\n",
       "      <th>0</th>\n",
       "      <td>-1.948655</td>\n",
       "      <td>0.014419</td>\n",
       "      <td>0.836222</td>\n",
       "      <td>-0.252312</td>\n",
       "      <td>0.357747</td>\n",
       "      <td>0.097015</td>\n",
       "      <td>0.122127</td>\n",
       "      <td>0.357271</td>\n",
       "      <td>0.341336</td>\n",
       "      <td>-0.612891</td>\n",
       "      <td>0.272078</td>\n",
       "      <td>0.365713</td>\n",
       "    </tr>\n",
       "    <tr>\n",
       "      <th>1</th>\n",
       "      <td>-2.072825</td>\n",
       "      <td>0.006720</td>\n",
       "      <td>0.824477</td>\n",
       "      <td>-0.162782</td>\n",
       "      <td>0.304293</td>\n",
       "      <td>0.107665</td>\n",
       "      <td>0.105419</td>\n",
       "      <td>0.314527</td>\n",
       "      <td>0.359976</td>\n",
       "      <td>-0.606346</td>\n",
       "      <td>0.245963</td>\n",
       "      <td>0.359678</td>\n",
       "    </tr>\n",
       "    <tr>\n",
       "      <th>2</th>\n",
       "      <td>-2.099657</td>\n",
       "      <td>0.046124</td>\n",
       "      <td>0.190747</td>\n",
       "      <td>-0.105251</td>\n",
       "      <td>0.316426</td>\n",
       "      <td>0.373355</td>\n",
       "      <td>0.204883</td>\n",
       "      <td>0.283938</td>\n",
       "      <td>0.430772</td>\n",
       "      <td>-0.580109</td>\n",
       "      <td>0.263074</td>\n",
       "      <td>0.348418</td>\n",
       "    </tr>\n",
       "  </tbody>\n",
       "</table>\n",
       "</div>"
      ],
      "text/plain": [
       "         0         1         2         3         4         5         6   \\\n",
       "0 -1.948655  0.014419  0.836222 -0.252312  0.357747  0.097015  0.122127   \n",
       "1 -2.072825  0.006720  0.824477 -0.162782  0.304293  0.107665  0.105419   \n",
       "2 -2.099657  0.046124  0.190747 -0.105251  0.316426  0.373355  0.204883   \n",
       "\n",
       "         7         8         9         10        11  \n",
       "0  0.357271  0.341336 -0.612891  0.272078  0.365713  \n",
       "1  0.314527  0.359976 -0.606346  0.245963  0.359678  \n",
       "2  0.283938  0.430772 -0.580109  0.263074  0.348418  "
      ]
     },
     "execution_count": 18,
     "metadata": {},
     "output_type": "execute_result"
    }
   ],
   "source": [
    "def pca_fon(X, threshold):\n",
    "    pca = PCA()\n",
    "    X_pca = pca.fit_transform(X)\n",
    "    arr = np.cumsum(np.round(pca.explained_variance_ratio_, decimals = 4)*100)\n",
    "    num_var = sum((arr < threshold*100)) + 1 \n",
    "    print('pca sonrası değişken sayısı: ',num_var)\n",
    "    X_pcad = pd.DataFrame(X_pca[:,0:num_var], index = X.index)\n",
    "    return X_pcad\n",
    "\n",
    "pca_fon(data_minmax, 0.8).head(3)"
   ]
  },
  {
   "cell_type": "code",
   "execution_count": 19,
   "metadata": {},
   "outputs": [
    {
     "name": "stdout",
     "output_type": "stream",
     "text": [
      "pca sonrası değişken sayısı:  14\n",
      "pca sonrası değişken sayısı:  20\n",
      "pca sonrası değişken sayısı:  5\n"
     ]
    }
   ],
   "source": [
    "pca_x_minmax = pca_fon(data_minmax.drop([\"20_target\",\"50_target\",\"90_target\"],axis=1), 0.85)\n",
    "y_20target_minmax = data_minmax[\"20_target\"]\n",
    "y_50target_minmax = data_minmax[\"50_target\"]\n",
    "y_90target_minmax = data_minmax[\"90_target\"]\n",
    "\n",
    "pca_x_stdscale = pca_fon(data_stdscaler.drop([\"20_target\",\"50_target\",\"90_target\"],axis=1), 0.85)\n",
    "y_20target_stdscale = data_minmax[\"20_target\"]\n",
    "y_50target_stdscale = data_minmax[\"50_target\"]\n",
    "y_90target_stdscale = data_minmax[\"90_target\"]\n",
    "\n",
    "pca_x_normalizer = pca_fon(data_normalizer.drop([\"20_target\",\"50_target\",\"90_target\"],axis=1), 0.85)\n",
    "y_20target_normalizer = data_minmax[\"20_target\"]\n",
    "y_50target_normalizer = data_minmax[\"50_target\"]\n",
    "y_90target_normalizer = data_minmax[\"90_target\"]"
   ]
  },
  {
   "cell_type": "markdown",
   "metadata": {},
   "source": [
    "## Visualization"
   ]
  },
  {
   "cell_type": "code",
   "execution_count": 20,
   "metadata": {},
   "outputs": [
    {
     "data": {
      "image/png": "[encoded data removed]",
      "text/plain": [
       "<Figure size 1872x720 with 1 Axes>"
      ]
     },
     "metadata": {
      "needs_background": "light"
     },
     "output_type": "display_data"
    }
   ],
   "source": [
    "plt.figure(figsize=(26,10))\n",
    "pca_x_minmax.boxplot()\n",
    "plt.show()"
   ]
  },
  {
   "cell_type": "code",
   "execution_count": 21,
   "metadata": {},
   "outputs": [
    {
     "data": {
      "image/png": "[encoded data removed]",
      "text/plain": [
       "<Figure size 1872x720 with 1 Axes>"
      ]
     },
     "metadata": {
      "needs_background": "light"
     },
     "output_type": "display_data"
    }
   ],
   "source": [
    "plt.figure(figsize=(26,10))\n",
    "pca_x_stdscale.boxplot()\n",
    "plt.show()"
   ]
  },
  {
   "cell_type": "code",
   "execution_count": 22,
   "metadata": {},
   "outputs": [
    {
     "data": {
      "image/png": "[encoded data removed]",
      "text/plain": [
       "<Figure size 1872x720 with 1 Axes>"
      ]
     },
     "metadata": {
      "needs_background": "light"
     },
     "output_type": "display_data"
    }
   ],
   "source": [
    "plt.figure(figsize=(26,10))\n",
    "pca_x_normalizer.boxplot()\n",
    "plt.show()"
   ]
  },
  {
   "cell_type": "markdown",
   "metadata": {},
   "source": [
    "## Histogram"
   ]
  },
  {
   "cell_type": "code",
   "execution_count": 24,
   "metadata": {},
   "outputs": [
    {
     "data": {
      "image/png": "[encoded data removed]",
      "text/plain": [
       "<Figure size 1080x504 with 16 Axes>"
      ]
     },
     "metadata": {
      "needs_background": "light"
     },
     "output_type": "display_data"
    }
   ],
   "source": [
    "pca_x_minmax.hist(figsize=(15,7), bins=40, xlabelsize=6, ylabelsize=6)\n",
    "plt.show()"
   ]
  },
  {
   "cell_type": "code",
   "execution_count": 25,
   "metadata": {},
   "outputs": [
    {
     "data": {
      "image/png": "[encoded data removed]",
      "text/plain": [
       "<Figure size 1080x504 with 20 Axes>"
      ]
     },
     "metadata": {
      "needs_background": "light"
     },
     "output_type": "display_data"
    }
   ],
   "source": [
    "pca_x_stdscale.hist(figsize=(15,7), bins=40, xlabelsize=6, ylabelsize=6)\n",
    "plt.show()"
   ]
  },
  {
   "cell_type": "code",
   "execution_count": 26,
   "metadata": {},
   "outputs": [
    {
     "data": {
      "image/png": "[encoded data removed]",
      "text/plain": [
       "<Figure size 1080x504 with 6 Axes>"
      ]
     },
     "metadata": {
      "needs_background": "light"
     },
     "output_type": "display_data"
    }
   ],
   "source": [
    "pca_x_normalizer.hist(figsize=(15,7), bins=40, xlabelsize=6, ylabelsize=6)\n",
    "plt.show()"
   ]
  },
  {
   "cell_type": "markdown",
   "metadata": {},
   "source": [
    "## Shapiro (Normallik) Testi"
   ]
  },
  {
   "cell_type": "code",
   "execution_count": 29,
   "metadata": {},
   "outputs": [
    {
     "name": "stdout",
     "output_type": "stream",
     "text": [
      "Normal (Gaussian) Dağılımdan gelmemektedir (reject H0)\n"
     ]
    },
    {
     "name": "stderr",
     "output_type": "stream",
     "text": [
      "/home/asus/anaconda3/lib/python3.7/site-packages/scipy/stats/morestats.py:1309: UserWarning: p-value may not be accurate for N > 5000.\n",
      "  warnings.warn(\"p-value may not be accurate for N > 5000.\")\n"
     ]
    }
   ],
   "source": [
    "from scipy.stats import shapiro\n",
    "\n",
    "stat, p =shapiro(pca_x_normalizer.iloc[:,1:2])\n",
    "alpha = 0.05\n",
    "if p > alpha:\n",
    "    print('Normal (Gaussian) Dağılımdan gelmektedir (Fail to Reject H0)')\n",
    "else:\n",
    "    print('Normal (Gaussian) Dağılımdan gelmemektedir (reject H0)')"
   ]
  },
  {
   "cell_type": "markdown",
   "metadata": {},
   "source": [
    "## Train-Test Split"
   ]
  },
  {
   "cell_type": "code",
   "execution_count": 171,
   "metadata": {},
   "outputs": [
    {
     "data": {
      "text/plain": [
       "((4625, 14), (4625,), (1542, 14), (1542,))"
      ]
     },
     "execution_count": 171,
     "metadata": {},
     "output_type": "execute_result"
    }
   ],
   "source": [
    "# Min-Max Split\n",
    "\n",
    "xtrain, xtest, ytrain, ytest = train_test_split(pca_x_minmax, y_20target_minmax, test_size=0.25, random_state=0)\n",
    "xtrain.shape,  ytrain.shape, xtest.shape, ytest.shape"
   ]
  },
  {
   "cell_type": "code",
   "execution_count": 107,
   "metadata": {},
   "outputs": [
    {
     "data": {
      "text/plain": [
       "((4625, 20), (4625,), (1542, 20), (1542,))"
      ]
     },
     "execution_count": 107,
     "metadata": {},
     "output_type": "execute_result"
    }
   ],
   "source": [
    "# Standardizasyon Split\n",
    "\n",
    "xtrain, xtest, ytrain, ytest = train_test_split(pca_x_stdscale, y_20target_minmax, test_size=0.25, random_state=0)\n",
    "xtrain.shape,  ytrain.shape, xtest.shape, ytest.shape"
   ]
  },
  {
   "cell_type": "code",
   "execution_count": 30,
   "metadata": {},
   "outputs": [
    {
     "data": {
      "text/plain": [
       "((4625, 5), (4625,), (1542, 5), (1542,))"
      ]
     },
     "execution_count": 30,
     "metadata": {},
     "output_type": "execute_result"
    }
   ],
   "source": [
    "# Normalization Split\n",
    "\n",
    "xtrain, xtest, ytrain, ytest = train_test_split(pca_x_normalizer, y_20target_minmax, test_size=0.25, random_state=0)\n",
    "xtrain.shape,  ytrain.shape, xtest.shape, ytest.shape"
   ]
  },
  {
   "cell_type": "markdown",
   "metadata": {},
   "source": [
    "## Multiple Linear Regression"
   ]
  },
  {
   "cell_type": "code",
   "execution_count": 31,
   "metadata": {},
   "outputs": [
    {
     "name": "stdout",
     "output_type": "stream",
     "text": [
      "                            OLS Regression Results                            \n",
      "==============================================================================\n",
      "Dep. Variable:              20_target   R-squared:                       0.003\n",
      "Model:                            OLS   Adj. R-squared:                  0.002\n",
      "Method:                 Least Squares   F-statistic:                     2.790\n",
      "Date:                Thu, 06 Aug 2020   Prob (F-statistic):             0.0160\n",
      "Time:                        18:42:32   Log-Likelihood:                -4779.8\n",
      "No. Observations:                4625   AIC:                             9570.\n",
      "Df Residuals:                    4620   BIC:                             9602.\n",
      "Df Model:                           5                                         \n",
      "Covariance Type:            nonrobust                                         \n",
      "==============================================================================\n",
      "                 coef    std err          t      P>|t|      [0.025      0.975]\n",
      "------------------------------------------------------------------------------\n",
      "x1            -0.0256      0.017     -1.516      0.130      -0.059       0.007\n",
      "x2             0.0780      0.029      2.668      0.008       0.021       0.135\n",
      "x3            -0.0481      0.046     -1.056      0.291      -0.137       0.041\n",
      "x4            -0.1134      0.067     -1.699      0.089      -0.244       0.017\n",
      "x5            -0.0483      0.070     -0.688      0.491      -0.186       0.089\n",
      "==============================================================================\n",
      "Omnibus:                        0.694   Durbin-Watson:                   0.944\n",
      "Prob(Omnibus):                  0.707   Jarque-Bera (JB):              712.318\n",
      "Skew:                           0.030   Prob(JB):                    2.10e-155\n",
      "Kurtosis:                       1.078   Cond. No.                         4.17\n",
      "==============================================================================\n",
      "\n",
      "Warnings:\n",
      "[1] Standard Errors assume that the covariance matrix of the errors is correctly specified.\n"
     ]
    }
   ],
   "source": [
    "lm = sm.OLS(ytrain, np.asarray(xtrain))\n",
    "model = lm.fit()\n",
    "print(model.summary())"
   ]
  },
  {
   "cell_type": "markdown",
   "metadata": {},
   "source": [
    "# Backword Elimination"
   ]
  },
  {
   "cell_type": "code",
   "execution_count": 50,
   "metadata": {},
   "outputs": [
    {
     "name": "stdout",
     "output_type": "stream",
     "text": [
      "                            OLS Regression Results                            \n",
      "==============================================================================\n",
      "Dep. Variable:              20_target   R-squared:                       0.002\n",
      "Model:                            OLS   Adj. R-squared:                  0.002\n",
      "Method:                 Least Squares   F-statistic:                     3.535\n",
      "Date:                Thu, 06 Aug 2020   Prob (F-statistic):             0.0141\n",
      "Time:                        18:46:06   Log-Likelihood:                -4781.4\n",
      "No. Observations:                4625   AIC:                             9569.\n",
      "Df Residuals:                    4622   BIC:                             9588.\n",
      "Df Model:                           3                                         \n",
      "Covariance Type:            nonrobust                                         \n",
      "==============================================================================\n",
      "                 coef    std err          t      P>|t|      [0.025      0.975]\n",
      "------------------------------------------------------------------------------\n",
      "x1            -0.0256      0.017     -1.516      0.130      -0.059       0.007\n",
      "x2             0.0785      0.029      2.685      0.007       0.021       0.136\n",
      "x3            -0.0464      0.046     -1.019      0.308      -0.136       0.043\n",
      "==============================================================================\n",
      "Omnibus:                        0.782   Durbin-Watson:                   0.945\n",
      "Prob(Omnibus):                  0.676   Jarque-Bera (JB):              717.255\n",
      "Skew:                           0.032   Prob(JB):                    1.78e-156\n",
      "Kurtosis:                       1.072   Cond. No.                         2.70\n",
      "==============================================================================\n",
      "\n",
      "Warnings:\n",
      "[1] Standard Errors assume that the covariance matrix of the errors is correctly specified.\n"
     ]
    }
   ],
   "source": [
    "x_backword = backwardElimination(xtrain.values, ytrain, 0.05)"
   ]
  },
  {
   "cell_type": "code",
   "execution_count": 53,
   "metadata": {},
   "outputs": [
    {
     "data": {
      "text/html": [
       "<div>\n",
       "<style scoped>\n",
       "    .dataframe tbody tr th:only-of-type {\n",
       "        vertical-align: middle;\n",
       "    }\n",
       "\n",
       "    .dataframe tbody tr th {\n",
       "        vertical-align: top;\n",
       "    }\n",
       "\n",
       "    .dataframe thead th {\n",
       "        text-align: right;\n",
       "    }\n",
       "</style>\n",
       "<table border=\"1\" class=\"dataframe\">\n",
       "  <thead>\n",
       "    <tr style=\"text-align: right;\">\n",
       "      <th></th>\n",
       "      <th>gercek_y</th>\n",
       "      <th>tahmin_y</th>\n",
       "      <th>hata</th>\n",
       "      <th>hata_kare</th>\n",
       "    </tr>\n",
       "  </thead>\n",
       "  <tbody>\n",
       "    <tr>\n",
       "      <th>4819</th>\n",
       "      <td>0.030463</td>\n",
       "      <td>0.002434</td>\n",
       "      <td>0.028029</td>\n",
       "      <td>0.000786</td>\n",
       "    </tr>\n",
       "    <tr>\n",
       "      <th>3856</th>\n",
       "      <td>0.012222</td>\n",
       "      <td>-0.019945</td>\n",
       "      <td>0.032167</td>\n",
       "      <td>0.001035</td>\n",
       "    </tr>\n",
       "    <tr>\n",
       "      <th>3888</th>\n",
       "      <td>0.013677</td>\n",
       "      <td>-0.019006</td>\n",
       "      <td>0.032683</td>\n",
       "      <td>0.001068</td>\n",
       "    </tr>\n",
       "    <tr>\n",
       "      <th>242</th>\n",
       "      <td>0.024296</td>\n",
       "      <td>-0.011894</td>\n",
       "      <td>0.036190</td>\n",
       "      <td>0.001310</td>\n",
       "    </tr>\n",
       "    <tr>\n",
       "      <th>1507</th>\n",
       "      <td>0.996548</td>\n",
       "      <td>0.027677</td>\n",
       "      <td>0.968871</td>\n",
       "      <td>0.938710</td>\n",
       "    </tr>\n",
       "  </tbody>\n",
       "</table>\n",
       "</div>"
      ],
      "text/plain": [
       "      gercek_y  tahmin_y      hata  hata_kare\n",
       "4819  0.030463  0.002434  0.028029   0.000786\n",
       "3856  0.012222 -0.019945  0.032167   0.001035\n",
       "3888  0.013677 -0.019006  0.032683   0.001068\n",
       "242   0.024296 -0.011894  0.036190   0.001310\n",
       "1507  0.996548  0.027677  0.968871   0.938710"
      ]
     },
     "execution_count": 53,
     "metadata": {},
     "output_type": "execute_result"
    }
   ],
   "source": [
    "y_pred = model.predict(xtrain)\n",
    "k_t = pd.DataFrame({\"gercek_y\":ytrain, \"tahmin_y\":y_pred})\n",
    "k_t[\"hata\"] = k_t[\"gercek_y\"] - k_t[\"tahmin_y\"]\n",
    "k_t[\"hata_kare\"] = k_t[\"hata\"]**2\n",
    "k_t.head()"
   ]
  },
  {
   "cell_type": "code",
   "execution_count": 54,
   "metadata": {},
   "outputs": [
    {
     "data": {
      "text/plain": [
       "0.4628621729030684"
      ]
     },
     "execution_count": 54,
     "metadata": {},
     "output_type": "execute_result"
    }
   ],
   "source": [
    "np.sum(k_t[\"hata_kare\"])\n",
    "np.mean(k_t[\"hata_kare\"])"
   ]
  },
  {
   "cell_type": "code",
   "execution_count": 55,
   "metadata": {},
   "outputs": [
    {
     "data": {
      "text/plain": [
       "<matplotlib.collections.PathCollection at 0x7f9babeaa610>"
      ]
     },
     "execution_count": 55,
     "metadata": {},
     "output_type": "execute_result"
    },
    {
     "data": {
      "image/png": "[encoded data removed]",
      "text/plain": [
       "<Figure size 432x288 with 1 Axes>"
      ]
     },
     "metadata": {
      "needs_background": "light"
     },
     "output_type": "display_data"
    }
   ],
   "source": [
    "resid = model.resid\n",
    "plt.scatter(model.predict(), resid)"
   ]
  },
  {
   "cell_type": "code",
   "execution_count": 134,
   "metadata": {
    "scrolled": false
   },
   "outputs": [
    {
     "name": "stderr",
     "output_type": "stream",
     "text": [
      "/home/asus/anaconda3/lib/python3.7/site-packages/scipy/stats/stats.py:1713: FutureWarning: Using a non-tuple sequence for multidimensional indexing is deprecated; use `arr[tuple(seq)]` instead of `arr[seq]`. In the future this will be interpreted as an array index, `arr[np.array(seq)]`, which will result either in an error or a different result.\n",
      "  return np.add.reduce(sorted[indexer] * weights, axis=axis) / sumval\n"
     ]
    },
    {
     "data": {
      "image/png": "[encoded data removed]",
      "text/plain": [
       "<Figure size 432x288 with 1 Axes>"
      ]
     },
     "metadata": {
      "needs_background": "light"
     },
     "output_type": "display_data"
    }
   ],
   "source": [
    "sns.distplot(np.array(model.resid), hist=False)\n",
    "plt.show()"
   ]
  },
  {
   "cell_type": "code",
   "execution_count": 135,
   "metadata": {},
   "outputs": [
    {
     "data": {
      "image/png": "[encoded data removed]",
      "text/plain": [
       "<Figure size 432x288 with 1 Axes>"
      ]
     },
     "metadata": {
      "needs_background": "light"
     },
     "output_type": "display_data"
    }
   ],
   "source": [
    "import pylab\n",
    "stats.probplot(model.resid, dist=\"norm\", plot=pylab)\n",
    "pylab.show()"
   ]
  },
  {
   "cell_type": "code",
   "execution_count": 136,
   "metadata": {},
   "outputs": [
    {
     "name": "stdout",
     "output_type": "stream",
     "text": [
      "Hatalar Normal (Gaussian) Dağılımdan gelmemektedir (reject H0)\n"
     ]
    }
   ],
   "source": [
    "from scipy.stats import shapiro\n",
    "\n",
    "stat, p =shapiro(model.resid)\n",
    "alpha = 0.05\n",
    "if p > alpha:\n",
    "    print('Hatalar Normal (Gaussian) Dağılımdan gelmektedir (Fail to Reject H0)')\n",
    "else:\n",
    "    print('Hatalar Normal (Gaussian) Dağılımdan gelmemektedir (reject H0)')"
   ]
  },
  {
   "cell_type": "code",
   "execution_count": 137,
   "metadata": {},
   "outputs": [
    {
     "name": "stdout",
     "output_type": "stream",
     "text": [
      "Train RMSE:  0.6785549100191763\n"
     ]
    }
   ],
   "source": [
    "from sklearn.metrics import mean_squared_error, r2_score\n",
    "print(\"Train RMSE: \",np.sqrt(mean_squared_error(ytrain, y_pred)))\n",
    "#print(\"Test RMSE: \",np.sqrt(mean_squared_error(ytest, model.predict(xtest[xtrain.columns]))))"
   ]
  },
  {
   "cell_type": "code",
   "execution_count": 56,
   "metadata": {},
   "outputs": [
    {
     "data": {
      "image/png": "[encoded data removed]",
      "text/plain": [
       "<Figure size 432x288 with 1 Axes>"
      ]
     },
     "metadata": {
      "needs_background": "light"
     },
     "output_type": "display_data"
    }
   ],
   "source": [
    "plt.plot(model.resid)\n",
    "plt.show()"
   ]
  }
 ],
 "metadata": {
  "kernelspec": {
   "display_name": "Python 3",
   "language": "python",
   "name": "python3"
  },
  "language_info": {
   "codemirror_mode": {
    "name": "ipython",
    "version": 3
   },
   "file_extension": ".py",
   "mimetype": "text/x-python",
   "name": "python",
   "nbconvert_exporter": "python",
   "pygments_lexer": "ipython3",
   "version": "3.7.4"
  }
 },
 "nbformat": 4,
 "nbformat_minor": 2
}
