{
 "cells": [
  {
   "cell_type": "markdown",
   "metadata": {
    "colab_type": "text",
    "id": "J-ZgLfYV2k5s"
   },
   "source": [
    "# **Regressor Algorithms**\n",
    "\n",
    "The experiments conducted using different feature selections methods such as PCA, Correlation, RandomForest based feature selections and the last was without feature selection. Experiment algorithms are as follows:\n",
    "\n",
    "- SVM Regressor\n",
    "- Gradient Boosting Regressor\n",
    "- Cat Boost Regressor\n",
    "- XGBoost Regressor\n",
    "- K-NN Regressor"
   ]
  },
  {
   "cell_type": "code",
   "execution_count": null,
   "metadata": {
    "colab": {
     "base_uri": "https://localhost:8080/",
     "height": 350
    },
    "colab_type": "code",
    "id": "BIB36GwDE4xe",
    "outputId": "1a81afc8-c74f-4b33-c844-425ec41a9632"
   },
   "outputs": [
    {
     "name": "stdout",
     "output_type": "stream",
     "text": [
      "Collecting catboost\n",
      "\u001b[?25l  Downloading https://files.pythonhosted.org/packages/96/6c/6608210b29649267de52001b09e369777ee2a5cfe1c71fa75eba82a4f2dc/catboost-0.24-cp36-none-manylinux1_x86_64.whl (65.9MB)\n",
      "\u001b[K     |████████████████████████████████| 65.9MB 57kB/s \n",
      "\u001b[?25hRequirement already satisfied: six in /usr/local/lib/python3.6/dist-packages (from catboost) (1.15.0)\n",
      "Requirement already satisfied: matplotlib in /usr/local/lib/python3.6/dist-packages (from catboost) (3.2.2)\n",
      "Requirement already satisfied: pandas>=0.24.0 in /usr/local/lib/python3.6/dist-packages (from catboost) (1.0.5)\n",
      "Requirement already satisfied: numpy>=1.16.0 in /usr/local/lib/python3.6/dist-packages (from catboost) (1.18.5)\n",
      "Requirement already satisfied: graphviz in /usr/local/lib/python3.6/dist-packages (from catboost) (0.10.1)\n",
      "Requirement already satisfied: scipy in /usr/local/lib/python3.6/dist-packages (from catboost) (1.4.1)\n",
      "Requirement already satisfied: plotly in /usr/local/lib/python3.6/dist-packages (from catboost) (4.4.1)\n",
      "Requirement already satisfied: kiwisolver>=1.0.1 in /usr/local/lib/python3.6/dist-packages (from matplotlib->catboost) (1.2.0)\n",
      "Requirement already satisfied: python-dateutil>=2.1 in /usr/local/lib/python3.6/dist-packages (from matplotlib->catboost) (2.8.1)\n",
      "Requirement already satisfied: pyparsing!=2.0.4,!=2.1.2,!=2.1.6,>=2.0.1 in /usr/local/lib/python3.6/dist-packages (from matplotlib->catboost) (2.4.7)\n",
      "Requirement already satisfied: cycler>=0.10 in /usr/local/lib/python3.6/dist-packages (from matplotlib->catboost) (0.10.0)\n",
      "Requirement already satisfied: pytz>=2017.2 in /usr/local/lib/python3.6/dist-packages (from pandas>=0.24.0->catboost) (2018.9)\n",
      "Requirement already satisfied: retrying>=1.3.3 in /usr/local/lib/python3.6/dist-packages (from plotly->catboost) (1.3.3)\n",
      "Installing collected packages: catboost\n",
      "Successfully installed catboost-0.24\n"
     ]
    }
   ],
   "source": [
    "!pip install catboost"
   ]
  },
  {
   "cell_type": "code",
   "execution_count": 1,
   "metadata": {
    "colab": {},
    "colab_type": "code",
    "id": "bUggoKJops2Y"
   },
   "outputs": [
    {
     "name": "stderr",
     "output_type": "stream",
     "text": [
      "/home/asus/anaconda3/lib/python3.7/site-packages/statsmodels/compat/pandas.py:49: FutureWarning: The Panel class is removed from pandas. Accessing it from the top-level namespace will also be removed in the next version\n",
      "  data_klasses = (pandas.Series, pandas.DataFrame, pandas.Panel)\n",
      "/home/asus/anaconda3/lib/python3.7/site-packages/dask/dataframe/utils.py:13: FutureWarning: pandas.util.testing is deprecated. Use the functions in the public API at pandas.testing instead.\n",
      "  import pandas.util.testing as tm\n"
     ]
    }
   ],
   "source": [
    "import numpy as np\n",
    "import pandas as pd \n",
    "import statsmodels.api as sm\n",
    "import statsmodels.formula.api as smf\n",
    "import seaborn as sns\n",
    "import matplotlib.pyplot as plt\n",
    "from sklearn.preprocessing import scale, MinMaxScaler, Normalizer, StandardScaler, MaxAbsScaler\n",
    "from sklearn.model_selection import train_test_split, GridSearchCV, cross_val_score\n",
    "from sklearn.metrics import mean_squared_error, mean_absolute_error\n",
    "from sklearn.metrics import roc_auc_score,roc_curve, classification_report\n",
    "import statsmodels.formula.api as smf\n",
    "from sklearn import preprocessing\n",
    "from sklearn.decomposition import PCA\n",
    "from sklearn.ensemble import RandomForestRegressor\n",
    "\n",
    "from sklearn.svm import SVR\n",
    "from sklearn.ensemble import GradientBoostingRegressor\n",
    "from catboost import CatBoostRegressor\n",
    "from xgboost import XGBRegressor\n",
    "from sklearn.neighbors import KNeighborsRegressor\n",
    "\n",
    "import timeit\n",
    "from warnings import filterwarnings\n",
    "filterwarnings('ignore')"
   ]
  },
  {
   "cell_type": "code",
   "execution_count": 2,
   "metadata": {
    "colab": {},
    "colab_type": "code",
    "id": "baORNL8hps2i"
   },
   "outputs": [],
   "source": [
    "def layer1(data, remove_col, threshold):\n",
    "    corr_col=set()\n",
    "    data2 = data.drop(remove_col, axis=1)\n",
    "    corrmat=data2.corr()\n",
    "    for i in range(len(corrmat.columns)):\n",
    "        for j in range(i):\n",
    "            if abs(corrmat.iloc[i,j] > threshold):\n",
    "                colname=corrmat.columns[i]\n",
    "                corr_col.add(colname)\n",
    "    corr_col=list(corr_col)\n",
    "    layer1_df = data.drop(corr_col, axis=1)\n",
    "    #layer1_df[\"labels\"] = data_norm[\"labels\"]\n",
    "    return layer1_df\n",
    "\n",
    "\n",
    "def correlation_df(data, remove_columns=None):\n",
    "    if(remove_columns is None):\n",
    "        corr = data.corr()\n",
    "        corr = corr.where(np.triu(np.ones(corr.shape)).astype(np.bool))\n",
    "        corr = corr.stack().reset_index()\n",
    "        new_df = corr[corr[\"level_0\"] != corr[\"level_1\"]]\n",
    "        new_df.columns = ['feature1','feature2','Corr']\n",
    "        new_df[\"Corr\"] = abs(new_df[\"Corr\"])\n",
    "    else:\n",
    "        data2 = data.drop(remove_columns, axis=1)\n",
    "        corr = data2.corr()\n",
    "        corr = corr.where(np.triu(np.ones(corr.shape)).astype(np.bool))\n",
    "        corr = corr.stack().reset_index()\n",
    "        new_df = corr[corr[\"level_0\"] != corr[\"level_1\"]]\n",
    "        new_df.columns = ['feature1','feature2','Corr']\n",
    "        new_df[\"Corr\"] = abs(new_df[\"Corr\"])\n",
    "    return new_df\n",
    "\n",
    "def numeric_categoric_variable(data):\n",
    "    name_of_col = list(data.columns)\n",
    "    num_var_list = []\n",
    "    str_var_list = []\n",
    "    drop_col=[]\n",
    "\n",
    "    str_var_list = name_of_col.copy()\n",
    "    for var in name_of_col:\n",
    "        # check if column belongs to numeric type\n",
    "        if (data[var].dtypes not in (np.object, np.str)):\n",
    "            str_var_list.remove(var)\n",
    "            num_var_list.append(var)\n",
    "        # drop the omit column from list\n",
    "    for var in drop_col:\n",
    "        if var in str_var_list:\n",
    "            str_var_list.remove(var)\n",
    "        if var in num_var_list:\n",
    "            num_var_list.remove(var)\n",
    "    print(\"Numeric Column  :\\n\", num_var_list,\n",
    "          \"\\n\\nCategoric Column :\\n\", str_var_list)\n",
    "    return num_var_list, str_var_list\n",
    "\n",
    "def sortDifferentCategory(data):\n",
    "    def takeSecond(elem):\n",
    "        return elem[1]\n",
    "\n",
    "    listem = []\n",
    "    for i in data.select_dtypes(include=[\"object\", \"int64\", \"float64\"]).columns:\n",
    "        listem.append([i, data[i].value_counts().count()])\n",
    "\n",
    "    return sorted(listem, key=takeSecond ,reverse=False)\n",
    "\n",
    "\n",
    "def layer2(new_df, target, num_feats):\n",
    "    x = new_df.drop(target, axis=1)\n",
    "    y = new_df[target]\n",
    "    cor_list = []\n",
    "    feature_name = list(x.columns)\n",
    "    for i in list(x.columns):\n",
    "        cor = np.corrcoef(x[i],y)[0,1]\n",
    "        cor_list.append(cor)\n",
    "\n",
    "    cor_list = [0 if np.isnan(i) else i for i in cor_list]\n",
    "    cor_feature = x.iloc[:,np.argsort(np.abs(cor_list))[-num_feats:]].columns.tolist()\n",
    "    return cor_feature\n",
    "\n",
    "def featureselection_pca(data_minmax, target, threshold):\n",
    "    x = data_minmax.drop([target], axis=1)\n",
    "    y = data_minmax[target]\n",
    "    pca = PCA()    \n",
    "    X_pca = pca.fit_transform(x)\n",
    "    arr = np.cumsum(np.round(pca.explained_variance_ratio_, decimals = 4)*100)\n",
    "    num_var = sum((arr < threshold*100)) + 1 \n",
    "    print('pca sonrası değişken sayısı: ',num_var)\n",
    "    X_pcad = pd.DataFrame(X_pca[:,0:num_var], index = x.index)\n",
    "    X_pcad[target] = y\n",
    "    return X_pcad\n",
    "\n",
    "def featureselection_corrcorr(data, target, threshold, num_feat):\n",
    "    layer1_df = layer1(data, target, threshold)\n",
    "    last_features = layer2(layer1_df, target, num_feat)\n",
    "    reduced_df = data[last_features]\n",
    "    reduced_df[target] = data[target]\n",
    "    return reduced_df"
   ]
  },
  {
   "cell_type": "code",
   "execution_count": 3,
   "metadata": {
    "colab": {},
    "colab_type": "code",
    "id": "9kV-ESXfps27"
   },
   "outputs": [],
   "source": [
    "def featureselection_randomforest(xtrain,ytrain, target, params, top_feat, cv=10, n_jobs=-1, verbose=2):\n",
    "    model = RandomForestRegressor()\n",
    "    gridsearch_cv = GridSearchCV(model, params, cv=cv, n_jobs=n_jobs, verbose=verbose)\n",
    "    grid_cv_model = gridsearch_cv.fit(xtrain, ytrain)\n",
    "    # best parameters\n",
    "    model.max_depth = grid_cv_model.best_params_[\"max_depth\"]\n",
    "    model.max_features = grid_cv_model.best_params_[\"max_features\"] \n",
    "    model.n_estimators = grid_cv_model.best_params_[\"n_estimators\"]\n",
    "    model.min_samples_split= grid_cv_model.best_params_[\"min_samples_split\"]\n",
    "    # tuned model\n",
    "    model_tuned = model.fit(xtrain, ytrain)\n",
    "    #y_pred = model_tuned.predict(xtest)\n",
    "    \n",
    "    importance = pd.DataFrame({\"importance\": model.feature_importances_*100}, index = xtrain.columns)\n",
    "    rf_columns = importance.sort_values(by=\"importance\", axis=0, ascending=False).head(top_feat).index\n",
    "    new_df = xtrain[rf_columns]\n",
    "    new_df[target] = ytrain\n",
    "    return new_df\n",
    "\n",
    "def describe(data):\n",
    "    desc_df = data.describe().T\n",
    "    null_count = data.isnull().sum()\n",
    "    null_percent = (data.isnull().sum() / data.count())*100\n",
    "    variance = data.var()\n",
    "\n",
    "    desc_df[\"variance\"] =  round(variance,3)\n",
    "    desc_df[\"null_values\"] = round(null_count,3)\n",
    "    desc_df[\"null__rate\"] = round(null_percent,3)\n",
    "    return desc_df.T\n",
    "\n",
    "def normalization_minmax(dataframe, target):\n",
    "    x = dataframe\n",
    "    y = dataframe[target]\n",
    "    scaler = preprocessing.MinMaxScaler()\n",
    "    scaler.fit(x)\n",
    "    array = scaler.transform(x)\n",
    "    data_minmax = pd.DataFrame(array, columns=dataframe.columns)\n",
    "    data_minmax[target] = y\n",
    "    return data_minmax\n",
    "\n",
    "def nulldata_check(data, ascending=False):\n",
    "    count = data.isnull().sum().sort_values(ascending=ascending).to_frame()\n",
    "    percent = (data.isnull().sum().sort_values(ascending=ascending)/data.iloc[:,-1].count()).to_frame().round(decimals=4)\n",
    "    df = pd.concat([count, percent], axis=1)\n",
    "    df.columns = [\"count\",\"percentage\"]\n",
    "    return df"
   ]
  },
  {
   "cell_type": "code",
   "execution_count": 4,
   "metadata": {
    "colab": {},
    "colab_type": "code",
    "id": "jP5kpmlyps3A"
   },
   "outputs": [],
   "source": [
    "def evaluation_metrics(ytest, y_pred):\n",
    "    print(\"MSE : \",mean_squared_error(ytest, y_pred))\n",
    "    print(\"RMSE: \",np.sqrt(mean_squared_error(ytest, y_pred)))\n",
    "    print(\"MAE : \",mean_absolute_error(ytest, y_pred))\n",
    "    \n",
    "def dummy_df(df, todummy_list):\n",
    "    for x in todummy_list:\n",
    "        dummies = pd.get_dummies(df[x], prefix=x, dummy_na=False)\n",
    "        df = df.drop(x, 1)\n",
    "        df = pd.concat([df, dummies], axis=1)\n",
    "    return df\n",
    "\n",
    "def train_test_splitting(data, target, test_size=0.25, random_state=0, shuffle=False):\n",
    "    x = data.drop([target], axis=1)\n",
    "    y = data[target]\n",
    "    xtrain, xtest, ytrain, ytest = train_test_split(x,y, test_size=test_size, random_state=random_state, shuffle=shuffle)\n",
    "    print(xtrain.shape, xtest.shape, ytrain.shape, ytest.shape)\n",
    "    return xtrain, xtest, ytrain, ytest"
   ]
  },
  {
   "cell_type": "markdown",
   "metadata": {
    "colab_type": "text",
    "id": "dIWz2WU2vQZM"
   },
   "source": [
    "### **Data Importing**"
   ]
  },
  {
   "cell_type": "code",
   "execution_count": 8,
   "metadata": {
    "colab": {
     "base_uri": "https://localhost:8080/",
     "height": 255
    },
    "colab_type": "code",
    "id": "4lZSK9hAps3R",
    "outputId": "2925a3f3-63c6-4687-f72b-c689eae7790f"
   },
   "outputs": [
    {
     "data": {
      "text/html": [
       "<div>\n",
       "<style scoped>\n",
       "    .dataframe tbody tr th:only-of-type {\n",
       "        vertical-align: middle;\n",
       "    }\n",
       "\n",
       "    .dataframe tbody tr th {\n",
       "        vertical-align: top;\n",
       "    }\n",
       "\n",
       "    .dataframe thead th {\n",
       "        text-align: right;\n",
       "    }\n",
       "</style>\n",
       "<table border=\"1\" class=\"dataframe\">\n",
       "  <thead>\n",
       "    <tr style=\"text-align: right;\">\n",
       "      <th></th>\n",
       "      <th>ind_5</th>\n",
       "      <th>ind_6</th>\n",
       "      <th>ind_8</th>\n",
       "      <th>ind_9</th>\n",
       "      <th>ind_10</th>\n",
       "      <th>ind_12</th>\n",
       "      <th>ind_13</th>\n",
       "      <th>ind_14</th>\n",
       "      <th>ind_15</th>\n",
       "      <th>ind_16</th>\n",
       "      <th>...</th>\n",
       "      <th>ind_416</th>\n",
       "      <th>ind_418</th>\n",
       "      <th>ind_420</th>\n",
       "      <th>ind_422</th>\n",
       "      <th>ind_424</th>\n",
       "      <th>ind_426</th>\n",
       "      <th>ind_428</th>\n",
       "      <th>20_target</th>\n",
       "      <th>50_target</th>\n",
       "      <th>90_target</th>\n",
       "    </tr>\n",
       "  </thead>\n",
       "  <tbody>\n",
       "    <tr>\n",
       "      <th>0</th>\n",
       "      <td>19</td>\n",
       "      <td>17</td>\n",
       "      <td>100.0</td>\n",
       "      <td>85.714286</td>\n",
       "      <td>14.285714</td>\n",
       "      <td>72.363515</td>\n",
       "      <td>60.808814</td>\n",
       "      <td>23.80</td>\n",
       "      <td>17.62</td>\n",
       "      <td>11.73</td>\n",
       "      <td>...</td>\n",
       "      <td>-49.6</td>\n",
       "      <td>-54</td>\n",
       "      <td>-152</td>\n",
       "      <td>-353</td>\n",
       "      <td>1.0</td>\n",
       "      <td>0.498547</td>\n",
       "      <td>0.701906</td>\n",
       "      <td>15.135802</td>\n",
       "      <td>35.625252</td>\n",
       "      <td>36.997753</td>\n",
       "    </tr>\n",
       "    <tr>\n",
       "      <th>1</th>\n",
       "      <td>24</td>\n",
       "      <td>19</td>\n",
       "      <td>100.0</td>\n",
       "      <td>78.571429</td>\n",
       "      <td>21.428571</td>\n",
       "      <td>74.275883</td>\n",
       "      <td>64.366798</td>\n",
       "      <td>11.45</td>\n",
       "      <td>18.16</td>\n",
       "      <td>12.22</td>\n",
       "      <td>...</td>\n",
       "      <td>-55.6</td>\n",
       "      <td>-60</td>\n",
       "      <td>-158</td>\n",
       "      <td>-359</td>\n",
       "      <td>1.0</td>\n",
       "      <td>0.537088</td>\n",
       "      <td>0.690833</td>\n",
       "      <td>15.143348</td>\n",
       "      <td>35.643013</td>\n",
       "      <td>37.016198</td>\n",
       "    </tr>\n",
       "    <tr>\n",
       "      <th>2</th>\n",
       "      <td>30</td>\n",
       "      <td>24</td>\n",
       "      <td>100.0</td>\n",
       "      <td>71.428571</td>\n",
       "      <td>28.571429</td>\n",
       "      <td>75.140402</td>\n",
       "      <td>65.915803</td>\n",
       "      <td>8.75</td>\n",
       "      <td>17.86</td>\n",
       "      <td>12.28</td>\n",
       "      <td>...</td>\n",
       "      <td>-58.4</td>\n",
       "      <td>-60</td>\n",
       "      <td>-160</td>\n",
       "      <td>-362</td>\n",
       "      <td>1.0</td>\n",
       "      <td>0.615169</td>\n",
       "      <td>0.693040</td>\n",
       "      <td>15.146870</td>\n",
       "      <td>35.651301</td>\n",
       "      <td>-37.024805</td>\n",
       "    </tr>\n",
       "    <tr>\n",
       "      <th>3</th>\n",
       "      <td>37</td>\n",
       "      <td>30</td>\n",
       "      <td>100.0</td>\n",
       "      <td>64.285714</td>\n",
       "      <td>35.714286</td>\n",
       "      <td>76.677846</td>\n",
       "      <td>68.584234</td>\n",
       "      <td>7.80</td>\n",
       "      <td>14.76</td>\n",
       "      <td>12.61</td>\n",
       "      <td>...</td>\n",
       "      <td>-61.8</td>\n",
       "      <td>-65</td>\n",
       "      <td>-166</td>\n",
       "      <td>-367</td>\n",
       "      <td>1.0</td>\n",
       "      <td>0.661517</td>\n",
       "      <td>0.673418</td>\n",
       "      <td>15.153283</td>\n",
       "      <td>0.000000</td>\n",
       "      <td>-37.040483</td>\n",
       "    </tr>\n",
       "    <tr>\n",
       "      <th>4</th>\n",
       "      <td>41</td>\n",
       "      <td>37</td>\n",
       "      <td>100.0</td>\n",
       "      <td>57.142857</td>\n",
       "      <td>42.857143</td>\n",
       "      <td>81.603007</td>\n",
       "      <td>76.455495</td>\n",
       "      <td>14.90</td>\n",
       "      <td>11.92</td>\n",
       "      <td>14.25</td>\n",
       "      <td>...</td>\n",
       "      <td>-79.8</td>\n",
       "      <td>-86</td>\n",
       "      <td>-186</td>\n",
       "      <td>-388</td>\n",
       "      <td>1.0</td>\n",
       "      <td>0.747204</td>\n",
       "      <td>0.700522</td>\n",
       "      <td>-15.179065</td>\n",
       "      <td>-35.727079</td>\n",
       "      <td>-37.103503</td>\n",
       "    </tr>\n",
       "  </tbody>\n",
       "</table>\n",
       "<p>5 rows × 136 columns</p>\n",
       "</div>"
      ],
      "text/plain": [
       "   ind_5  ind_6  ind_8      ind_9     ind_10     ind_12     ind_13  ind_14  \\\n",
       "0     19     17  100.0  85.714286  14.285714  72.363515  60.808814   23.80   \n",
       "1     24     19  100.0  78.571429  21.428571  74.275883  64.366798   11.45   \n",
       "2     30     24  100.0  71.428571  28.571429  75.140402  65.915803    8.75   \n",
       "3     37     30  100.0  64.285714  35.714286  76.677846  68.584234    7.80   \n",
       "4     41     37  100.0  57.142857  42.857143  81.603007  76.455495   14.90   \n",
       "\n",
       "   ind_15  ind_16  ...  ind_416  ind_418  ind_420  ind_422  ind_424   ind_426  \\\n",
       "0   17.62   11.73  ...    -49.6      -54     -152     -353      1.0  0.498547   \n",
       "1   18.16   12.22  ...    -55.6      -60     -158     -359      1.0  0.537088   \n",
       "2   17.86   12.28  ...    -58.4      -60     -160     -362      1.0  0.615169   \n",
       "3   14.76   12.61  ...    -61.8      -65     -166     -367      1.0  0.661517   \n",
       "4   11.92   14.25  ...    -79.8      -86     -186     -388      1.0  0.747204   \n",
       "\n",
       "    ind_428  20_target  50_target  90_target  \n",
       "0  0.701906  15.135802  35.625252  36.997753  \n",
       "1  0.690833  15.143348  35.643013  37.016198  \n",
       "2  0.693040  15.146870  35.651301 -37.024805  \n",
       "3  0.673418  15.153283   0.000000 -37.040483  \n",
       "4  0.700522 -15.179065 -35.727079 -37.103503  \n",
       "\n",
       "[5 rows x 136 columns]"
      ]
     },
     "execution_count": 8,
     "metadata": {},
     "output_type": "execute_result"
    }
   ],
   "source": [
    "data = pd.read_excel(\"HW_Data_Set.xlsx\")\n",
    "data.head()"
   ]
  },
  {
   "cell_type": "markdown",
   "metadata": {
    "colab_type": "text",
    "id": "XQNFZ0Aeps3Y"
   },
   "source": [
    "## 1. **Data Statistics**"
   ]
  },
  {
   "cell_type": "code",
   "execution_count": 9,
   "metadata": {
    "colab": {
     "base_uri": "https://localhost:8080/",
     "height": 34
    },
    "colab_type": "code",
    "id": "Jw5NxRvips3Y",
    "outputId": "4b603976-368f-4fe0-e2ea-8f5b56fa8eff"
   },
   "outputs": [
    {
     "data": {
      "text/plain": [
       "(6167, 136)"
      ]
     },
     "execution_count": 9,
     "metadata": {},
     "output_type": "execute_result"
    }
   ],
   "source": [
    "data.shape"
   ]
  },
  {
   "cell_type": "markdown",
   "metadata": {
    "colab_type": "text",
    "id": "db8W_HQSwvvV"
   },
   "source": [
    "### **1.1. Describe Dataset**"
   ]
  },
  {
   "cell_type": "code",
   "execution_count": 10,
   "metadata": {
    "colab": {
     "base_uri": "https://localhost:8080/",
     "height": 444
    },
    "colab_type": "code",
    "id": "T99mbInmps3c",
    "outputId": "bb3e4453-34bd-4be9-f9b1-de4c0a8b5d90"
   },
   "outputs": [
    {
     "data": {
      "text/html": [
       "<div>\n",
       "<style scoped>\n",
       "    .dataframe tbody tr th:only-of-type {\n",
       "        vertical-align: middle;\n",
       "    }\n",
       "\n",
       "    .dataframe tbody tr th {\n",
       "        vertical-align: top;\n",
       "    }\n",
       "\n",
       "    .dataframe thead th {\n",
       "        text-align: right;\n",
       "    }\n",
       "</style>\n",
       "<table border=\"1\" class=\"dataframe\">\n",
       "  <thead>\n",
       "    <tr style=\"text-align: right;\">\n",
       "      <th></th>\n",
       "      <th>ind_5</th>\n",
       "      <th>ind_6</th>\n",
       "      <th>ind_8</th>\n",
       "      <th>ind_9</th>\n",
       "      <th>ind_10</th>\n",
       "      <th>ind_12</th>\n",
       "      <th>ind_13</th>\n",
       "      <th>ind_14</th>\n",
       "      <th>ind_15</th>\n",
       "      <th>ind_16</th>\n",
       "      <th>...</th>\n",
       "      <th>ind_412</th>\n",
       "      <th>ind_414</th>\n",
       "      <th>ind_416</th>\n",
       "      <th>ind_418</th>\n",
       "      <th>ind_424</th>\n",
       "      <th>ind_426</th>\n",
       "      <th>ind_428</th>\n",
       "      <th>20_target</th>\n",
       "      <th>50_target</th>\n",
       "      <th>90_target</th>\n",
       "    </tr>\n",
       "  </thead>\n",
       "  <tbody>\n",
       "    <tr>\n",
       "      <th>count</th>\n",
       "      <td>6167.000000</td>\n",
       "      <td>6167.000000</td>\n",
       "      <td>6167.000000</td>\n",
       "      <td>6167.000000</td>\n",
       "      <td>6167.000000</td>\n",
       "      <td>6167.000000</td>\n",
       "      <td>6167.000000</td>\n",
       "      <td>6167.000000</td>\n",
       "      <td>6167.000000</td>\n",
       "      <td>6167.000000</td>\n",
       "      <td>...</td>\n",
       "      <td>6167.000000</td>\n",
       "      <td>6167.000000</td>\n",
       "      <td>6167.000000</td>\n",
       "      <td>6167.000000</td>\n",
       "      <td>6167.000000</td>\n",
       "      <td>6167.000000</td>\n",
       "      <td>6167.000000</td>\n",
       "      <td>6167.000000</td>\n",
       "      <td>6167.000000</td>\n",
       "      <td>6167.000000</td>\n",
       "    </tr>\n",
       "    <tr>\n",
       "      <th>mean</th>\n",
       "      <td>-0.803146</td>\n",
       "      <td>-0.803470</td>\n",
       "      <td>48.388890</td>\n",
       "      <td>48.289282</td>\n",
       "      <td>0.099609</td>\n",
       "      <td>49.488867</td>\n",
       "      <td>-18.497518</td>\n",
       "      <td>11.771485</td>\n",
       "      <td>11.773550</td>\n",
       "      <td>11.773392</td>\n",
       "      <td>...</td>\n",
       "      <td>0.000224</td>\n",
       "      <td>28.529204</td>\n",
       "      <td>-8.554792</td>\n",
       "      <td>-28.166694</td>\n",
       "      <td>0.490297</td>\n",
       "      <td>0.498188</td>\n",
       "      <td>0.490174</td>\n",
       "      <td>-0.057102</td>\n",
       "      <td>-2.906358</td>\n",
       "      <td>-3.315072</td>\n",
       "    </tr>\n",
       "    <tr>\n",
       "      <th>std</th>\n",
       "      <td>23.624403</td>\n",
       "      <td>23.624144</td>\n",
       "      <td>36.388526</td>\n",
       "      <td>36.478009</td>\n",
       "      <td>60.414625</td>\n",
       "      <td>12.198722</td>\n",
       "      <td>68.281120</td>\n",
       "      <td>6.803997</td>\n",
       "      <td>5.786089</td>\n",
       "      <td>4.970499</td>\n",
       "      <td>...</td>\n",
       "      <td>0.005660</td>\n",
       "      <td>26.316896</td>\n",
       "      <td>16.100087</td>\n",
       "      <td>23.271524</td>\n",
       "      <td>0.425376</td>\n",
       "      <td>0.228547</td>\n",
       "      <td>0.150483</td>\n",
       "      <td>14.834497</td>\n",
       "      <td>34.559778</td>\n",
       "      <td>36.841541</td>\n",
       "    </tr>\n",
       "    <tr>\n",
       "      <th>min</th>\n",
       "      <td>-131.000000</td>\n",
       "      <td>-131.000000</td>\n",
       "      <td>0.000000</td>\n",
       "      <td>0.000000</td>\n",
       "      <td>-100.000000</td>\n",
       "      <td>12.134540</td>\n",
       "      <td>-625.093855</td>\n",
       "      <td>1.050000</td>\n",
       "      <td>1.660000</td>\n",
       "      <td>2.580000</td>\n",
       "      <td>...</td>\n",
       "      <td>-0.023790</td>\n",
       "      <td>0.000000</td>\n",
       "      <td>-103.800000</td>\n",
       "      <td>-188.000000</td>\n",
       "      <td>0.000000</td>\n",
       "      <td>0.000000</td>\n",
       "      <td>0.083530</td>\n",
       "      <td>-15.780588</td>\n",
       "      <td>-37.142889</td>\n",
       "      <td>-38.573858</td>\n",
       "    </tr>\n",
       "    <tr>\n",
       "      <th>25%</th>\n",
       "      <td>-14.000000</td>\n",
       "      <td>-14.000000</td>\n",
       "      <td>14.285714</td>\n",
       "      <td>14.285714</td>\n",
       "      <td>-50.000000</td>\n",
       "      <td>40.868503</td>\n",
       "      <td>-45.687212</td>\n",
       "      <td>6.850000</td>\n",
       "      <td>7.260000</td>\n",
       "      <td>7.635000</td>\n",
       "      <td>...</td>\n",
       "      <td>-0.003230</td>\n",
       "      <td>10.700000</td>\n",
       "      <td>-11.700000</td>\n",
       "      <td>-39.000000</td>\n",
       "      <td>0.000000</td>\n",
       "      <td>0.323783</td>\n",
       "      <td>0.379894</td>\n",
       "      <td>-15.350354</td>\n",
       "      <td>-36.208094</td>\n",
       "      <td>-37.695273</td>\n",
       "    </tr>\n",
       "    <tr>\n",
       "      <th>50%</th>\n",
       "      <td>0.000000</td>\n",
       "      <td>0.000000</td>\n",
       "      <td>50.000000</td>\n",
       "      <td>50.000000</td>\n",
       "      <td>0.000000</td>\n",
       "      <td>49.549766</td>\n",
       "      <td>-2.817298</td>\n",
       "      <td>10.550000</td>\n",
       "      <td>11.040000</td>\n",
       "      <td>11.270000</td>\n",
       "      <td>...</td>\n",
       "      <td>-0.000053</td>\n",
       "      <td>21.300000</td>\n",
       "      <td>0.000000</td>\n",
       "      <td>-22.000000</td>\n",
       "      <td>0.473684</td>\n",
       "      <td>0.495192</td>\n",
       "      <td>0.487078</td>\n",
       "      <td>0.000000</td>\n",
       "      <td>-34.267756</td>\n",
       "      <td>-35.788391</td>\n",
       "    </tr>\n",
       "    <tr>\n",
       "      <th>75%</th>\n",
       "      <td>13.000000</td>\n",
       "      <td>13.000000</td>\n",
       "      <td>85.714286</td>\n",
       "      <td>85.714286</td>\n",
       "      <td>57.142857</td>\n",
       "      <td>58.504375</td>\n",
       "      <td>28.072613</td>\n",
       "      <td>14.950000</td>\n",
       "      <td>15.040000</td>\n",
       "      <td>14.960000</td>\n",
       "      <td>...</td>\n",
       "      <td>0.003414</td>\n",
       "      <td>38.400000</td>\n",
       "      <td>0.000000</td>\n",
       "      <td>-11.000000</td>\n",
       "      <td>1.000000</td>\n",
       "      <td>0.675730</td>\n",
       "      <td>0.601508</td>\n",
       "      <td>15.385945</td>\n",
       "      <td>35.879524</td>\n",
       "      <td>37.521892</td>\n",
       "    </tr>\n",
       "    <tr>\n",
       "      <th>max</th>\n",
       "      <td>76.000000</td>\n",
       "      <td>76.000000</td>\n",
       "      <td>100.000000</td>\n",
       "      <td>100.000000</td>\n",
       "      <td>100.000000</td>\n",
       "      <td>84.821848</td>\n",
       "      <td>81.105847</td>\n",
       "      <td>82.900000</td>\n",
       "      <td>54.240000</td>\n",
       "      <td>37.050000</td>\n",
       "      <td>...</td>\n",
       "      <td>0.023340</td>\n",
       "      <td>281.800000</td>\n",
       "      <td>0.000000</td>\n",
       "      <td>0.000000</td>\n",
       "      <td>1.000000</td>\n",
       "      <td>1.000000</td>\n",
       "      <td>0.868534</td>\n",
       "      <td>15.768767</td>\n",
       "      <td>37.038694</td>\n",
       "      <td>38.465649</td>\n",
       "    </tr>\n",
       "    <tr>\n",
       "      <th>variance</th>\n",
       "      <td>558.112000</td>\n",
       "      <td>558.100000</td>\n",
       "      <td>1324.125000</td>\n",
       "      <td>1330.645000</td>\n",
       "      <td>3649.927000</td>\n",
       "      <td>148.809000</td>\n",
       "      <td>4662.311000</td>\n",
       "      <td>46.294000</td>\n",
       "      <td>33.479000</td>\n",
       "      <td>24.706000</td>\n",
       "      <td>...</td>\n",
       "      <td>0.000000</td>\n",
       "      <td>692.579000</td>\n",
       "      <td>259.213000</td>\n",
       "      <td>541.564000</td>\n",
       "      <td>0.181000</td>\n",
       "      <td>0.052000</td>\n",
       "      <td>0.023000</td>\n",
       "      <td>220.062000</td>\n",
       "      <td>1194.378000</td>\n",
       "      <td>1357.299000</td>\n",
       "    </tr>\n",
       "    <tr>\n",
       "      <th>null_values</th>\n",
       "      <td>0.000000</td>\n",
       "      <td>0.000000</td>\n",
       "      <td>0.000000</td>\n",
       "      <td>0.000000</td>\n",
       "      <td>0.000000</td>\n",
       "      <td>0.000000</td>\n",
       "      <td>0.000000</td>\n",
       "      <td>0.000000</td>\n",
       "      <td>0.000000</td>\n",
       "      <td>0.000000</td>\n",
       "      <td>...</td>\n",
       "      <td>0.000000</td>\n",
       "      <td>0.000000</td>\n",
       "      <td>0.000000</td>\n",
       "      <td>0.000000</td>\n",
       "      <td>0.000000</td>\n",
       "      <td>0.000000</td>\n",
       "      <td>0.000000</td>\n",
       "      <td>0.000000</td>\n",
       "      <td>0.000000</td>\n",
       "      <td>0.000000</td>\n",
       "    </tr>\n",
       "    <tr>\n",
       "      <th>null__rate</th>\n",
       "      <td>0.000000</td>\n",
       "      <td>0.000000</td>\n",
       "      <td>0.000000</td>\n",
       "      <td>0.000000</td>\n",
       "      <td>0.000000</td>\n",
       "      <td>0.000000</td>\n",
       "      <td>0.000000</td>\n",
       "      <td>0.000000</td>\n",
       "      <td>0.000000</td>\n",
       "      <td>0.000000</td>\n",
       "      <td>...</td>\n",
       "      <td>0.000000</td>\n",
       "      <td>0.000000</td>\n",
       "      <td>0.000000</td>\n",
       "      <td>0.000000</td>\n",
       "      <td>0.000000</td>\n",
       "      <td>0.000000</td>\n",
       "      <td>0.000000</td>\n",
       "      <td>0.000000</td>\n",
       "      <td>0.000000</td>\n",
       "      <td>0.000000</td>\n",
       "    </tr>\n",
       "  </tbody>\n",
       "</table>\n",
       "<p>11 rows × 133 columns</p>\n",
       "</div>"
      ],
      "text/plain": [
       "                   ind_5        ind_6        ind_8        ind_9       ind_10  \\\n",
       "count        6167.000000  6167.000000  6167.000000  6167.000000  6167.000000   \n",
       "mean           -0.803146    -0.803470    48.388890    48.289282     0.099609   \n",
       "std            23.624403    23.624144    36.388526    36.478009    60.414625   \n",
       "min          -131.000000  -131.000000     0.000000     0.000000  -100.000000   \n",
       "25%           -14.000000   -14.000000    14.285714    14.285714   -50.000000   \n",
       "50%             0.000000     0.000000    50.000000    50.000000     0.000000   \n",
       "75%            13.000000    13.000000    85.714286    85.714286    57.142857   \n",
       "max            76.000000    76.000000   100.000000   100.000000   100.000000   \n",
       "variance      558.112000   558.100000  1324.125000  1330.645000  3649.927000   \n",
       "null_values     0.000000     0.000000     0.000000     0.000000     0.000000   \n",
       "null__rate      0.000000     0.000000     0.000000     0.000000     0.000000   \n",
       "\n",
       "                  ind_12       ind_13       ind_14       ind_15       ind_16  \\\n",
       "count        6167.000000  6167.000000  6167.000000  6167.000000  6167.000000   \n",
       "mean           49.488867   -18.497518    11.771485    11.773550    11.773392   \n",
       "std            12.198722    68.281120     6.803997     5.786089     4.970499   \n",
       "min            12.134540  -625.093855     1.050000     1.660000     2.580000   \n",
       "25%            40.868503   -45.687212     6.850000     7.260000     7.635000   \n",
       "50%            49.549766    -2.817298    10.550000    11.040000    11.270000   \n",
       "75%            58.504375    28.072613    14.950000    15.040000    14.960000   \n",
       "max            84.821848    81.105847    82.900000    54.240000    37.050000   \n",
       "variance      148.809000  4662.311000    46.294000    33.479000    24.706000   \n",
       "null_values     0.000000     0.000000     0.000000     0.000000     0.000000   \n",
       "null__rate      0.000000     0.000000     0.000000     0.000000     0.000000   \n",
       "\n",
       "             ...      ind_412      ind_414      ind_416      ind_418  \\\n",
       "count        ...  6167.000000  6167.000000  6167.000000  6167.000000   \n",
       "mean         ...     0.000224    28.529204    -8.554792   -28.166694   \n",
       "std          ...     0.005660    26.316896    16.100087    23.271524   \n",
       "min          ...    -0.023790     0.000000  -103.800000  -188.000000   \n",
       "25%          ...    -0.003230    10.700000   -11.700000   -39.000000   \n",
       "50%          ...    -0.000053    21.300000     0.000000   -22.000000   \n",
       "75%          ...     0.003414    38.400000     0.000000   -11.000000   \n",
       "max          ...     0.023340   281.800000     0.000000     0.000000   \n",
       "variance     ...     0.000000   692.579000   259.213000   541.564000   \n",
       "null_values  ...     0.000000     0.000000     0.000000     0.000000   \n",
       "null__rate   ...     0.000000     0.000000     0.000000     0.000000   \n",
       "\n",
       "                 ind_424      ind_426      ind_428    20_target    50_target  \\\n",
       "count        6167.000000  6167.000000  6167.000000  6167.000000  6167.000000   \n",
       "mean            0.490297     0.498188     0.490174    -0.057102    -2.906358   \n",
       "std             0.425376     0.228547     0.150483    14.834497    34.559778   \n",
       "min             0.000000     0.000000     0.083530   -15.780588   -37.142889   \n",
       "25%             0.000000     0.323783     0.379894   -15.350354   -36.208094   \n",
       "50%             0.473684     0.495192     0.487078     0.000000   -34.267756   \n",
       "75%             1.000000     0.675730     0.601508    15.385945    35.879524   \n",
       "max             1.000000     1.000000     0.868534    15.768767    37.038694   \n",
       "variance        0.181000     0.052000     0.023000   220.062000  1194.378000   \n",
       "null_values     0.000000     0.000000     0.000000     0.000000     0.000000   \n",
       "null__rate      0.000000     0.000000     0.000000     0.000000     0.000000   \n",
       "\n",
       "               90_target  \n",
       "count        6167.000000  \n",
       "mean           -3.315072  \n",
       "std            36.841541  \n",
       "min           -38.573858  \n",
       "25%           -37.695273  \n",
       "50%           -35.788391  \n",
       "75%            37.521892  \n",
       "max            38.465649  \n",
       "variance     1357.299000  \n",
       "null_values     0.000000  \n",
       "null__rate      0.000000  \n",
       "\n",
       "[11 rows x 133 columns]"
      ]
     },
     "execution_count": 10,
     "metadata": {},
     "output_type": "execute_result"
    }
   ],
   "source": [
    "describe(data)"
   ]
  },
  {
   "cell_type": "markdown",
   "metadata": {
    "colab_type": "text",
    "id": "1ONWegScw1ZP"
   },
   "source": [
    "### **1.2. Categoric and Numeric variables Analysis**"
   ]
  },
  {
   "cell_type": "code",
   "execution_count": 11,
   "metadata": {
    "colab": {
     "base_uri": "https://localhost:8080/",
     "height": 124
    },
    "colab_type": "code",
    "id": "fr-iPS8Lps3h",
    "outputId": "92661fd6-ce34-433f-93dd-4d8027581c9f"
   },
   "outputs": [
    {
     "name": "stdout",
     "output_type": "stream",
     "text": [
      "Numeric Column  :\n",
      " ['ind_5', 'ind_6', 'ind_8', 'ind_9', 'ind_10', 'ind_12', 'ind_13', 'ind_14', 'ind_15', 'ind_16', 'ind_17', 'ind_18', 'ind_19', 'ind_20', 'ind_21', 'ind_22', 'ind_23', 'ind_25', 'ind_26', 'ind_27', 'ind_28', 'ind_29', 'ind_30', 'ind_31', 'ind_32', 'ind_33', 'ind_34', 'ind_35', 'ind_36', 'ind_37', 'ind_39', 'ind_40', 'ind_41', 'ind_42', 'ind_43', 'ind_44', 'ind_45', 'ind_46', 'ind_47', 'ind_48', 'ind_49', 'ind_50', 'ind_51', 'ind_52', 'ind_53', 'ind_56', 'ind_58', 'ind_61', 'ind_62', 'ind_65', 'ind_67', 'ind_70', 'ind_71', 'ind_74', 'ind_77', 'ind_82', 'ind_83', 'ind_88', 'ind_92', 'ind_102', 'ind_116', 'ind_118', 'ind_122', 'ind_124', 'ind_128', 'ind_130', 'ind_132', 'ind_134', 'ind_136', 'ind_139', 'ind_142', 'ind_145', 'ind_147', 'ind_150', 'ind_153', 'ind_156', 'ind_164', 'ind_168', 'ind_172', 'ind_176', 'ind_179', 'ind_181', 'ind_188', 'ind_194', 'ind_212', 'ind_217', 'ind_225', 'ind_228', 'ind_234', 'ind_237', 'ind_239', 'ind_241', 'ind_243', 'ind_309', 'ind_310', 'ind_311', 'ind_313', 'ind_315', 'ind_316', 'ind_318', 'ind_321', 'ind_324', 'ind_327', 'ind_330', 'ind_332', 'ind_334', 'ind_338', 'ind_340', 'ind_344', 'ind_345', 'ind_347', 'ind_349', 'ind_351', 'ind_352', 'ind_387', 'ind_392', 'ind_397', 'ind_399', 'ind_403', 'ind_404', 'ind_406', 'ind_407', 'ind_410', 'ind_412', 'ind_414', 'ind_416', 'ind_418', 'ind_424', 'ind_426', 'ind_428', '20_target', '50_target', '90_target'] \n",
      "\n",
      "Categoric Column :\n",
      " ['ind_109', 'ind_420', 'ind_422']\n"
     ]
    }
   ],
   "source": [
    "num, cat = numeric_categoric_variable(data)"
   ]
  },
  {
   "cell_type": "code",
   "execution_count": 12,
   "metadata": {
    "colab": {
     "base_uri": "https://localhost:8080/",
     "height": 1000
    },
    "colab_type": "code",
    "id": "sjkAIkKGps3l",
    "outputId": "a4635271-ebb4-4a24-a73e-347c82185a33"
   },
   "outputs": [
    {
     "data": {
      "text/plain": [
       "[['ind_109', 2],\n",
       " ['ind_40', 6],\n",
       " ['ind_82', 6],\n",
       " ['ind_217', 6],\n",
       " ['ind_28', 7],\n",
       " ['ind_349', 7],\n",
       " ['ind_8', 15],\n",
       " ['ind_9', 15],\n",
       " ['ind_351', 17],\n",
       " ['ind_352', 17],\n",
       " ['ind_70', 18],\n",
       " ['ind_67', 22],\n",
       " ['ind_344', 22],\n",
       " ['ind_83', 25],\n",
       " ['ind_10', 29],\n",
       " ['ind_77', 37],\n",
       " ['ind_61', 38],\n",
       " ['ind_74', 42],\n",
       " ['ind_71', 46],\n",
       " ['ind_58', 50],\n",
       " ['ind_122', 52],\n",
       " ['ind_65', 55],\n",
       " ['ind_62', 64],\n",
       " ['ind_347', 69],\n",
       " ['ind_42', 71],\n",
       " ['ind_334', 71],\n",
       " ['ind_19', 83],\n",
       " ['ind_21', 84],\n",
       " ['ind_52', 90],\n",
       " ['ind_136', 91],\n",
       " ['ind_134', 93],\n",
       " ['ind_43', 94],\n",
       " ['ind_56', 102],\n",
       " ['ind_407', 103],\n",
       " ['ind_345', 108],\n",
       " ['ind_44', 109],\n",
       " ['ind_45', 126],\n",
       " ['ind_124', 128],\n",
       " ['ind_53', 131],\n",
       " ['ind_116', 131],\n",
       " ['ind_46', 135],\n",
       " ['ind_418', 139],\n",
       " ['ind_20', 141],\n",
       " ['ind_410', 143],\n",
       " ['ind_234', 157],\n",
       " ['ind_47', 159],\n",
       " ['ind_5', 162],\n",
       " ['ind_6', 162],\n",
       " ['ind_48', 175],\n",
       " ['ind_23', 177],\n",
       " ['ind_49', 189],\n",
       " ['ind_22', 192],\n",
       " ['ind_406', 200],\n",
       " ['ind_128', 201],\n",
       " ['ind_324', 241],\n",
       " ['ind_309', 249],\n",
       " ['ind_50', 258],\n",
       " ['ind_239', 265],\n",
       " ['ind_340', 281],\n",
       " ['ind_130', 305],\n",
       " ['ind_51', 323],\n",
       " ['ind_132', 390],\n",
       " ['ind_422', 573],\n",
       " ['ind_420', 582],\n",
       " ['ind_416', 620],\n",
       " ['ind_14', 637],\n",
       " ['ind_338', 640],\n",
       " ['ind_332', 874],\n",
       " ['ind_414', 971],\n",
       " ['ind_15', 1172],\n",
       " ['ind_330', 1367],\n",
       " ['ind_327', 1453],\n",
       " ['ind_424', 1725],\n",
       " ['ind_16', 1821],\n",
       " ['ind_88', 2001],\n",
       " ['ind_179', 2140],\n",
       " ['ind_181', 2166],\n",
       " ['ind_17', 2301],\n",
       " ['ind_397', 2598],\n",
       " ['ind_27', 2908],\n",
       " ['ind_18', 3057],\n",
       " ['ind_142', 3614],\n",
       " ['ind_321', 4236],\n",
       " ['50_target', 4355],\n",
       " ['20_target', 4427],\n",
       " ['ind_212', 4441],\n",
       " ['90_target', 4487],\n",
       " ['ind_315', 4499],\n",
       " ['ind_399', 4907],\n",
       " ['ind_318', 4977],\n",
       " ['ind_316', 5019],\n",
       " ['ind_225', 5088],\n",
       " ['ind_118', 5102],\n",
       " ['ind_310', 5156],\n",
       " ['ind_188', 5191],\n",
       " ['ind_243', 5470],\n",
       " ['ind_241', 5502],\n",
       " ['ind_426', 5632],\n",
       " ['ind_387', 5684],\n",
       " ['ind_25', 5708],\n",
       " ['ind_237', 5714],\n",
       " ['ind_194', 5724],\n",
       " ['ind_26', 5797],\n",
       " ['ind_29', 5840],\n",
       " ['ind_313', 5869],\n",
       " ['ind_428', 5901],\n",
       " ['ind_39', 5931],\n",
       " ['ind_311', 5943],\n",
       " ['ind_412', 5975],\n",
       " ['ind_228', 6018],\n",
       " ['ind_12', 6099],\n",
       " ['ind_13', 6099],\n",
       " ['ind_164', 6114],\n",
       " ['ind_404', 6115],\n",
       " ['ind_403', 6121],\n",
       " ['ind_145', 6142],\n",
       " ['ind_30', 6158],\n",
       " ['ind_153', 6165],\n",
       " ['ind_31', 6166],\n",
       " ['ind_92', 6166],\n",
       " ['ind_150', 6166],\n",
       " ['ind_156', 6166],\n",
       " ['ind_32', 6167],\n",
       " ['ind_33', 6167],\n",
       " ['ind_34', 6167],\n",
       " ['ind_35', 6167],\n",
       " ['ind_36', 6167],\n",
       " ['ind_37', 6167],\n",
       " ['ind_41', 6167],\n",
       " ['ind_102', 6167],\n",
       " ['ind_139', 6167],\n",
       " ['ind_147', 6167],\n",
       " ['ind_168', 6167],\n",
       " ['ind_172', 6167],\n",
       " ['ind_176', 6167],\n",
       " ['ind_392', 6167]]"
      ]
     },
     "execution_count": 12,
     "metadata": {},
     "output_type": "execute_result"
    }
   ],
   "source": [
    "sortDifferentCategory(data)"
   ]
  },
  {
   "cell_type": "code",
   "execution_count": 13,
   "metadata": {
    "colab": {
     "base_uri": "https://localhost:8080/",
     "height": 318
    },
    "colab_type": "code",
    "id": "HjkGZakmps3p",
    "outputId": "5253ed8d-dfa4-42f0-dee1-5d5abc6b5bed"
   },
   "outputs": [
    {
     "data": {
      "text/html": [
       "<div>\n",
       "<style scoped>\n",
       "    .dataframe tbody tr th:only-of-type {\n",
       "        vertical-align: middle;\n",
       "    }\n",
       "\n",
       "    .dataframe tbody tr th {\n",
       "        vertical-align: top;\n",
       "    }\n",
       "\n",
       "    .dataframe thead th {\n",
       "        text-align: right;\n",
       "    }\n",
       "</style>\n",
       "<table border=\"1\" class=\"dataframe\">\n",
       "  <thead>\n",
       "    <tr style=\"text-align: right;\">\n",
       "      <th></th>\n",
       "      <th>ind_5</th>\n",
       "      <th>ind_6</th>\n",
       "      <th>ind_8</th>\n",
       "      <th>ind_9</th>\n",
       "      <th>ind_10</th>\n",
       "      <th>ind_12</th>\n",
       "      <th>ind_13</th>\n",
       "      <th>ind_14</th>\n",
       "      <th>ind_15</th>\n",
       "      <th>ind_16</th>\n",
       "      <th>...</th>\n",
       "      <th>ind_416</th>\n",
       "      <th>ind_418</th>\n",
       "      <th>ind_420</th>\n",
       "      <th>ind_422</th>\n",
       "      <th>ind_424</th>\n",
       "      <th>ind_426</th>\n",
       "      <th>ind_428</th>\n",
       "      <th>20_target</th>\n",
       "      <th>50_target</th>\n",
       "      <th>90_target</th>\n",
       "    </tr>\n",
       "    <tr>\n",
       "      <th>ind_40</th>\n",
       "      <th></th>\n",
       "      <th></th>\n",
       "      <th></th>\n",
       "      <th></th>\n",
       "      <th></th>\n",
       "      <th></th>\n",
       "      <th></th>\n",
       "      <th></th>\n",
       "      <th></th>\n",
       "      <th></th>\n",
       "      <th></th>\n",
       "      <th></th>\n",
       "      <th></th>\n",
       "      <th></th>\n",
       "      <th></th>\n",
       "      <th></th>\n",
       "      <th></th>\n",
       "      <th></th>\n",
       "      <th></th>\n",
       "      <th></th>\n",
       "      <th></th>\n",
       "    </tr>\n",
       "  </thead>\n",
       "  <tbody>\n",
       "    <tr>\n",
       "      <th>1</th>\n",
       "      <td>51</td>\n",
       "      <td>51</td>\n",
       "      <td>51</td>\n",
       "      <td>51</td>\n",
       "      <td>51</td>\n",
       "      <td>51</td>\n",
       "      <td>51</td>\n",
       "      <td>51</td>\n",
       "      <td>51</td>\n",
       "      <td>51</td>\n",
       "      <td>...</td>\n",
       "      <td>51</td>\n",
       "      <td>51</td>\n",
       "      <td>51</td>\n",
       "      <td>51</td>\n",
       "      <td>51</td>\n",
       "      <td>51</td>\n",
       "      <td>51</td>\n",
       "      <td>51</td>\n",
       "      <td>51</td>\n",
       "      <td>51</td>\n",
       "    </tr>\n",
       "    <tr>\n",
       "      <th>2</th>\n",
       "      <td>325</td>\n",
       "      <td>325</td>\n",
       "      <td>325</td>\n",
       "      <td>325</td>\n",
       "      <td>325</td>\n",
       "      <td>325</td>\n",
       "      <td>325</td>\n",
       "      <td>325</td>\n",
       "      <td>325</td>\n",
       "      <td>325</td>\n",
       "      <td>...</td>\n",
       "      <td>325</td>\n",
       "      <td>325</td>\n",
       "      <td>325</td>\n",
       "      <td>325</td>\n",
       "      <td>325</td>\n",
       "      <td>325</td>\n",
       "      <td>325</td>\n",
       "      <td>325</td>\n",
       "      <td>325</td>\n",
       "      <td>325</td>\n",
       "    </tr>\n",
       "    <tr>\n",
       "      <th>3</th>\n",
       "      <td>2799</td>\n",
       "      <td>2799</td>\n",
       "      <td>2799</td>\n",
       "      <td>2799</td>\n",
       "      <td>2799</td>\n",
       "      <td>2799</td>\n",
       "      <td>2799</td>\n",
       "      <td>2799</td>\n",
       "      <td>2799</td>\n",
       "      <td>2799</td>\n",
       "      <td>...</td>\n",
       "      <td>2799</td>\n",
       "      <td>2799</td>\n",
       "      <td>2799</td>\n",
       "      <td>2799</td>\n",
       "      <td>2799</td>\n",
       "      <td>2799</td>\n",
       "      <td>2799</td>\n",
       "      <td>2799</td>\n",
       "      <td>2799</td>\n",
       "      <td>2799</td>\n",
       "    </tr>\n",
       "    <tr>\n",
       "      <th>4</th>\n",
       "      <td>2594</td>\n",
       "      <td>2594</td>\n",
       "      <td>2594</td>\n",
       "      <td>2594</td>\n",
       "      <td>2594</td>\n",
       "      <td>2594</td>\n",
       "      <td>2594</td>\n",
       "      <td>2594</td>\n",
       "      <td>2594</td>\n",
       "      <td>2594</td>\n",
       "      <td>...</td>\n",
       "      <td>2594</td>\n",
       "      <td>2594</td>\n",
       "      <td>2594</td>\n",
       "      <td>2594</td>\n",
       "      <td>2594</td>\n",
       "      <td>2594</td>\n",
       "      <td>2594</td>\n",
       "      <td>2594</td>\n",
       "      <td>2594</td>\n",
       "      <td>2594</td>\n",
       "    </tr>\n",
       "    <tr>\n",
       "      <th>5</th>\n",
       "      <td>319</td>\n",
       "      <td>319</td>\n",
       "      <td>319</td>\n",
       "      <td>319</td>\n",
       "      <td>319</td>\n",
       "      <td>319</td>\n",
       "      <td>319</td>\n",
       "      <td>319</td>\n",
       "      <td>319</td>\n",
       "      <td>319</td>\n",
       "      <td>...</td>\n",
       "      <td>319</td>\n",
       "      <td>319</td>\n",
       "      <td>319</td>\n",
       "      <td>319</td>\n",
       "      <td>319</td>\n",
       "      <td>319</td>\n",
       "      <td>319</td>\n",
       "      <td>319</td>\n",
       "      <td>319</td>\n",
       "      <td>319</td>\n",
       "    </tr>\n",
       "    <tr>\n",
       "      <th>6</th>\n",
       "      <td>79</td>\n",
       "      <td>79</td>\n",
       "      <td>79</td>\n",
       "      <td>79</td>\n",
       "      <td>79</td>\n",
       "      <td>79</td>\n",
       "      <td>79</td>\n",
       "      <td>79</td>\n",
       "      <td>79</td>\n",
       "      <td>79</td>\n",
       "      <td>...</td>\n",
       "      <td>79</td>\n",
       "      <td>79</td>\n",
       "      <td>79</td>\n",
       "      <td>79</td>\n",
       "      <td>79</td>\n",
       "      <td>79</td>\n",
       "      <td>79</td>\n",
       "      <td>79</td>\n",
       "      <td>79</td>\n",
       "      <td>79</td>\n",
       "    </tr>\n",
       "  </tbody>\n",
       "</table>\n",
       "<p>6 rows × 135 columns</p>\n",
       "</div>"
      ],
      "text/plain": [
       "        ind_5  ind_6  ind_8  ind_9  ind_10  ind_12  ind_13  ind_14  ind_15  \\\n",
       "ind_40                                                                       \n",
       "1          51     51     51     51      51      51      51      51      51   \n",
       "2         325    325    325    325     325     325     325     325     325   \n",
       "3        2799   2799   2799   2799    2799    2799    2799    2799    2799   \n",
       "4        2594   2594   2594   2594    2594    2594    2594    2594    2594   \n",
       "5         319    319    319    319     319     319     319     319     319   \n",
       "6          79     79     79     79      79      79      79      79      79   \n",
       "\n",
       "        ind_16  ...  ind_416  ind_418  ind_420  ind_422  ind_424  ind_426  \\\n",
       "ind_40          ...                                                         \n",
       "1           51  ...       51       51       51       51       51       51   \n",
       "2          325  ...      325      325      325      325      325      325   \n",
       "3         2799  ...     2799     2799     2799     2799     2799     2799   \n",
       "4         2594  ...     2594     2594     2594     2594     2594     2594   \n",
       "5          319  ...      319      319      319      319      319      319   \n",
       "6           79  ...       79       79       79       79       79       79   \n",
       "\n",
       "        ind_428  20_target  50_target  90_target  \n",
       "ind_40                                            \n",
       "1            51         51         51         51  \n",
       "2           325        325        325        325  \n",
       "3          2799       2799       2799       2799  \n",
       "4          2594       2594       2594       2594  \n",
       "5           319        319        319        319  \n",
       "6            79         79         79         79  \n",
       "\n",
       "[6 rows x 135 columns]"
      ]
     },
     "execution_count": 13,
     "metadata": {},
     "output_type": "execute_result"
    }
   ],
   "source": [
    "data.groupby(\"ind_40\").count()"
   ]
  },
  {
   "cell_type": "code",
   "execution_count": 14,
   "metadata": {
    "colab": {
     "base_uri": "https://localhost:8080/",
     "height": 287
    },
    "colab_type": "code",
    "id": "Wtuah_Kjps3t",
    "outputId": "d15f4d36-eb53-4a11-8b9f-9fa1a829b808"
   },
   "outputs": [
    {
     "data": {
      "text/html": [
       "<div>\n",
       "<style scoped>\n",
       "    .dataframe tbody tr th:only-of-type {\n",
       "        vertical-align: middle;\n",
       "    }\n",
       "\n",
       "    .dataframe tbody tr th {\n",
       "        vertical-align: top;\n",
       "    }\n",
       "\n",
       "    .dataframe thead th {\n",
       "        text-align: right;\n",
       "    }\n",
       "</style>\n",
       "<table border=\"1\" class=\"dataframe\">\n",
       "  <thead>\n",
       "    <tr style=\"text-align: right;\">\n",
       "      <th></th>\n",
       "      <th>ind_5</th>\n",
       "      <th>ind_6</th>\n",
       "      <th>ind_8</th>\n",
       "      <th>ind_9</th>\n",
       "      <th>ind_10</th>\n",
       "      <th>ind_12</th>\n",
       "      <th>ind_13</th>\n",
       "      <th>ind_14</th>\n",
       "      <th>ind_15</th>\n",
       "      <th>ind_16</th>\n",
       "      <th>...</th>\n",
       "      <th>ind_414</th>\n",
       "      <th>ind_416</th>\n",
       "      <th>ind_418</th>\n",
       "      <th>ind_422</th>\n",
       "      <th>ind_424</th>\n",
       "      <th>ind_426</th>\n",
       "      <th>ind_428</th>\n",
       "      <th>20_target</th>\n",
       "      <th>50_target</th>\n",
       "      <th>90_target</th>\n",
       "    </tr>\n",
       "    <tr>\n",
       "      <th>ind_420</th>\n",
       "      <th></th>\n",
       "      <th></th>\n",
       "      <th></th>\n",
       "      <th></th>\n",
       "      <th></th>\n",
       "      <th></th>\n",
       "      <th></th>\n",
       "      <th></th>\n",
       "      <th></th>\n",
       "      <th></th>\n",
       "      <th></th>\n",
       "      <th></th>\n",
       "      <th></th>\n",
       "      <th></th>\n",
       "      <th></th>\n",
       "      <th></th>\n",
       "      <th></th>\n",
       "      <th></th>\n",
       "      <th></th>\n",
       "      <th></th>\n",
       "      <th></th>\n",
       "    </tr>\n",
       "  </thead>\n",
       "  <tbody>\n",
       "    <tr>\n",
       "      <th>288</th>\n",
       "      <td>1</td>\n",
       "      <td>1</td>\n",
       "      <td>1</td>\n",
       "      <td>1</td>\n",
       "      <td>1</td>\n",
       "      <td>1</td>\n",
       "      <td>1</td>\n",
       "      <td>1</td>\n",
       "      <td>1</td>\n",
       "      <td>1</td>\n",
       "      <td>...</td>\n",
       "      <td>1</td>\n",
       "      <td>1</td>\n",
       "      <td>1</td>\n",
       "      <td>1</td>\n",
       "      <td>1</td>\n",
       "      <td>1</td>\n",
       "      <td>1</td>\n",
       "      <td>1</td>\n",
       "      <td>1</td>\n",
       "      <td>1</td>\n",
       "    </tr>\n",
       "    <tr>\n",
       "      <th>290</th>\n",
       "      <td>1</td>\n",
       "      <td>1</td>\n",
       "      <td>1</td>\n",
       "      <td>1</td>\n",
       "      <td>1</td>\n",
       "      <td>1</td>\n",
       "      <td>1</td>\n",
       "      <td>1</td>\n",
       "      <td>1</td>\n",
       "      <td>1</td>\n",
       "      <td>...</td>\n",
       "      <td>1</td>\n",
       "      <td>1</td>\n",
       "      <td>1</td>\n",
       "      <td>1</td>\n",
       "      <td>1</td>\n",
       "      <td>1</td>\n",
       "      <td>1</td>\n",
       "      <td>1</td>\n",
       "      <td>1</td>\n",
       "      <td>1</td>\n",
       "    </tr>\n",
       "    <tr>\n",
       "      <th>291</th>\n",
       "      <td>1</td>\n",
       "      <td>1</td>\n",
       "      <td>1</td>\n",
       "      <td>1</td>\n",
       "      <td>1</td>\n",
       "      <td>1</td>\n",
       "      <td>1</td>\n",
       "      <td>1</td>\n",
       "      <td>1</td>\n",
       "      <td>1</td>\n",
       "      <td>...</td>\n",
       "      <td>1</td>\n",
       "      <td>1</td>\n",
       "      <td>1</td>\n",
       "      <td>1</td>\n",
       "      <td>1</td>\n",
       "      <td>1</td>\n",
       "      <td>1</td>\n",
       "      <td>1</td>\n",
       "      <td>1</td>\n",
       "      <td>1</td>\n",
       "    </tr>\n",
       "    <tr>\n",
       "      <th>297</th>\n",
       "      <td>1</td>\n",
       "      <td>1</td>\n",
       "      <td>1</td>\n",
       "      <td>1</td>\n",
       "      <td>1</td>\n",
       "      <td>1</td>\n",
       "      <td>1</td>\n",
       "      <td>1</td>\n",
       "      <td>1</td>\n",
       "      <td>1</td>\n",
       "      <td>...</td>\n",
       "      <td>1</td>\n",
       "      <td>1</td>\n",
       "      <td>1</td>\n",
       "      <td>1</td>\n",
       "      <td>1</td>\n",
       "      <td>1</td>\n",
       "      <td>1</td>\n",
       "      <td>1</td>\n",
       "      <td>1</td>\n",
       "      <td>1</td>\n",
       "    </tr>\n",
       "    <tr>\n",
       "      <th>?</th>\n",
       "      <td>1041</td>\n",
       "      <td>1041</td>\n",
       "      <td>1041</td>\n",
       "      <td>1041</td>\n",
       "      <td>1041</td>\n",
       "      <td>1041</td>\n",
       "      <td>1041</td>\n",
       "      <td>1041</td>\n",
       "      <td>1041</td>\n",
       "      <td>1041</td>\n",
       "      <td>...</td>\n",
       "      <td>1041</td>\n",
       "      <td>1041</td>\n",
       "      <td>1041</td>\n",
       "      <td>1041</td>\n",
       "      <td>1041</td>\n",
       "      <td>1041</td>\n",
       "      <td>1041</td>\n",
       "      <td>1041</td>\n",
       "      <td>1041</td>\n",
       "      <td>1041</td>\n",
       "    </tr>\n",
       "  </tbody>\n",
       "</table>\n",
       "<p>5 rows × 135 columns</p>\n",
       "</div>"
      ],
      "text/plain": [
       "         ind_5  ind_6  ind_8  ind_9  ind_10  ind_12  ind_13  ind_14  ind_15  \\\n",
       "ind_420                                                                       \n",
       "288          1      1      1      1       1       1       1       1       1   \n",
       "290          1      1      1      1       1       1       1       1       1   \n",
       "291          1      1      1      1       1       1       1       1       1   \n",
       "297          1      1      1      1       1       1       1       1       1   \n",
       "?         1041   1041   1041   1041    1041    1041    1041    1041    1041   \n",
       "\n",
       "         ind_16  ...  ind_414  ind_416  ind_418  ind_422  ind_424  ind_426  \\\n",
       "ind_420          ...                                                         \n",
       "288           1  ...        1        1        1        1        1        1   \n",
       "290           1  ...        1        1        1        1        1        1   \n",
       "291           1  ...        1        1        1        1        1        1   \n",
       "297           1  ...        1        1        1        1        1        1   \n",
       "?          1041  ...     1041     1041     1041     1041     1041     1041   \n",
       "\n",
       "         ind_428  20_target  50_target  90_target  \n",
       "ind_420                                            \n",
       "288            1          1          1          1  \n",
       "290            1          1          1          1  \n",
       "291            1          1          1          1  \n",
       "297            1          1          1          1  \n",
       "?           1041       1041       1041       1041  \n",
       "\n",
       "[5 rows x 135 columns]"
      ]
     },
     "execution_count": 14,
     "metadata": {},
     "output_type": "execute_result"
    }
   ],
   "source": [
    "data.groupby(\"ind_420\").count().tail(5)"
   ]
  },
  {
   "cell_type": "markdown",
   "metadata": {
    "colab_type": "text",
    "id": "FHMa9yW0wlIB"
   },
   "source": [
    "### **1.3. NULL Value Checking**"
   ]
  },
  {
   "cell_type": "code",
   "execution_count": 15,
   "metadata": {
    "colab": {
     "base_uri": "https://localhost:8080/",
     "height": 269
    },
    "colab_type": "code",
    "id": "U6gYjbReps3x",
    "outputId": "ec08aa25-2e69-43a5-cf46-d7048e7c76ce"
   },
   "outputs": [
    {
     "data": {
      "text/html": [
       "<div>\n",
       "<style scoped>\n",
       "    .dataframe tbody tr th:only-of-type {\n",
       "        vertical-align: middle;\n",
       "    }\n",
       "\n",
       "    .dataframe tbody tr th {\n",
       "        vertical-align: top;\n",
       "    }\n",
       "\n",
       "    .dataframe thead th {\n",
       "        text-align: right;\n",
       "    }\n",
       "</style>\n",
       "<table border=\"1\" class=\"dataframe\">\n",
       "  <thead>\n",
       "    <tr style=\"text-align: right;\">\n",
       "      <th></th>\n",
       "      <th>count</th>\n",
       "      <th>percentage</th>\n",
       "    </tr>\n",
       "  </thead>\n",
       "  <tbody>\n",
       "    <tr>\n",
       "      <th>90_target</th>\n",
       "      <td>0</td>\n",
       "      <td>0.0</td>\n",
       "    </tr>\n",
       "    <tr>\n",
       "      <th>ind_416</th>\n",
       "      <td>0</td>\n",
       "      <td>0.0</td>\n",
       "    </tr>\n",
       "    <tr>\n",
       "      <th>ind_404</th>\n",
       "      <td>0</td>\n",
       "      <td>0.0</td>\n",
       "    </tr>\n",
       "    <tr>\n",
       "      <th>ind_406</th>\n",
       "      <td>0</td>\n",
       "      <td>0.0</td>\n",
       "    </tr>\n",
       "    <tr>\n",
       "      <th>ind_407</th>\n",
       "      <td>0</td>\n",
       "      <td>0.0</td>\n",
       "    </tr>\n",
       "    <tr>\n",
       "      <th>ind_410</th>\n",
       "      <td>0</td>\n",
       "      <td>0.0</td>\n",
       "    </tr>\n",
       "    <tr>\n",
       "      <th>ind_412</th>\n",
       "      <td>0</td>\n",
       "      <td>0.0</td>\n",
       "    </tr>\n",
       "  </tbody>\n",
       "</table>\n",
       "</div>"
      ],
      "text/plain": [
       "           count  percentage\n",
       "90_target      0         0.0\n",
       "ind_416        0         0.0\n",
       "ind_404        0         0.0\n",
       "ind_406        0         0.0\n",
       "ind_407        0         0.0\n",
       "ind_410        0         0.0\n",
       "ind_412        0         0.0"
      ]
     },
     "execution_count": 15,
     "metadata": {},
     "output_type": "execute_result"
    }
   ],
   "source": [
    "nulldata_check(data).sort_values(by=\"count\",ascending=False).head(7)"
   ]
  },
  {
   "cell_type": "markdown",
   "metadata": {
    "colab_type": "text",
    "id": "vFN7UgYwps3z"
   },
   "source": [
    "# **2. Data Preprocessing**"
   ]
  },
  {
   "cell_type": "markdown",
   "metadata": {
    "colab_type": "text",
    "id": "A2I1rxQups30"
   },
   "source": [
    "### **2.1. Noise data cleaning**"
   ]
  },
  {
   "cell_type": "code",
   "execution_count": 16,
   "metadata": {
    "colab": {},
    "colab_type": "code",
    "id": "6-rGAHJQps31"
   },
   "outputs": [],
   "source": [
    "#data[\"ind_420\"] = data[\"ind_420\"].replace(\"?\", np.nan)\n",
    "#data[\"ind_422\"] = data[\"ind_422\"].replace(\"?\", np.nan)\n",
    "data = data.drop([\"ind_420\", \"ind_422\"],axis=1)"
   ]
  },
  {
   "cell_type": "markdown",
   "metadata": {
    "colab_type": "text",
    "id": "1wMoiyuAps34"
   },
   "source": [
    "### **2.2. Dummy Transformation**"
   ]
  },
  {
   "cell_type": "code",
   "execution_count": 17,
   "metadata": {
    "colab": {
     "base_uri": "https://localhost:8080/",
     "height": 342
    },
    "colab_type": "code",
    "id": "UTJqhrVdps34",
    "outputId": "ad007ed0-19a1-4920-e0bc-478eddd3ed0c"
   },
   "outputs": [
    {
     "name": "stdout",
     "output_type": "stream",
     "text": [
      "Numeric Column  :\n",
      " ['ind_5', 'ind_6', 'ind_8', 'ind_9', 'ind_10', 'ind_12', 'ind_13', 'ind_14', 'ind_15', 'ind_16', 'ind_17', 'ind_18', 'ind_19', 'ind_20', 'ind_21', 'ind_22', 'ind_23', 'ind_25', 'ind_26', 'ind_27', 'ind_28', 'ind_29', 'ind_30', 'ind_31', 'ind_32', 'ind_33', 'ind_34', 'ind_35', 'ind_36', 'ind_37', 'ind_39', 'ind_40', 'ind_41', 'ind_42', 'ind_43', 'ind_44', 'ind_45', 'ind_46', 'ind_47', 'ind_48', 'ind_49', 'ind_50', 'ind_51', 'ind_52', 'ind_53', 'ind_56', 'ind_58', 'ind_61', 'ind_62', 'ind_65', 'ind_67', 'ind_70', 'ind_71', 'ind_74', 'ind_77', 'ind_82', 'ind_83', 'ind_88', 'ind_92', 'ind_102', 'ind_116', 'ind_118', 'ind_122', 'ind_124', 'ind_128', 'ind_130', 'ind_132', 'ind_134', 'ind_136', 'ind_139', 'ind_142', 'ind_145', 'ind_147', 'ind_150', 'ind_153', 'ind_156', 'ind_164', 'ind_168', 'ind_172', 'ind_176', 'ind_179', 'ind_181', 'ind_188', 'ind_194', 'ind_212', 'ind_217', 'ind_225', 'ind_228', 'ind_234', 'ind_237', 'ind_239', 'ind_241', 'ind_243', 'ind_309', 'ind_310', 'ind_311', 'ind_313', 'ind_315', 'ind_316', 'ind_318', 'ind_321', 'ind_324', 'ind_327', 'ind_330', 'ind_332', 'ind_334', 'ind_338', 'ind_340', 'ind_344', 'ind_345', 'ind_347', 'ind_349', 'ind_351', 'ind_352', 'ind_387', 'ind_392', 'ind_397', 'ind_399', 'ind_403', 'ind_404', 'ind_406', 'ind_407', 'ind_410', 'ind_412', 'ind_414', 'ind_416', 'ind_418', 'ind_424', 'ind_426', 'ind_428', '20_target', '50_target', '90_target', 'ind_109_GREEN', 'ind_109_RED'] \n",
      "\n",
      "Categoric Column :\n",
      " []\n"
     ]
    },
    {
     "data": {
      "text/html": [
       "<div>\n",
       "<style scoped>\n",
       "    .dataframe tbody tr th:only-of-type {\n",
       "        vertical-align: middle;\n",
       "    }\n",
       "\n",
       "    .dataframe tbody tr th {\n",
       "        vertical-align: top;\n",
       "    }\n",
       "\n",
       "    .dataframe thead th {\n",
       "        text-align: right;\n",
       "    }\n",
       "</style>\n",
       "<table border=\"1\" class=\"dataframe\">\n",
       "  <thead>\n",
       "    <tr style=\"text-align: right;\">\n",
       "      <th></th>\n",
       "      <th>ind_5</th>\n",
       "      <th>ind_6</th>\n",
       "      <th>ind_8</th>\n",
       "      <th>ind_9</th>\n",
       "      <th>ind_10</th>\n",
       "      <th>ind_12</th>\n",
       "      <th>ind_13</th>\n",
       "      <th>ind_14</th>\n",
       "      <th>ind_15</th>\n",
       "      <th>ind_16</th>\n",
       "      <th>...</th>\n",
       "      <th>ind_416</th>\n",
       "      <th>ind_418</th>\n",
       "      <th>ind_424</th>\n",
       "      <th>ind_426</th>\n",
       "      <th>ind_428</th>\n",
       "      <th>20_target</th>\n",
       "      <th>50_target</th>\n",
       "      <th>90_target</th>\n",
       "      <th>ind_109_GREEN</th>\n",
       "      <th>ind_109_RED</th>\n",
       "    </tr>\n",
       "  </thead>\n",
       "  <tbody>\n",
       "    <tr>\n",
       "      <th>0</th>\n",
       "      <td>19</td>\n",
       "      <td>17</td>\n",
       "      <td>100.0</td>\n",
       "      <td>85.714286</td>\n",
       "      <td>14.285714</td>\n",
       "      <td>72.363515</td>\n",
       "      <td>60.808814</td>\n",
       "      <td>23.80</td>\n",
       "      <td>17.62</td>\n",
       "      <td>11.73</td>\n",
       "      <td>...</td>\n",
       "      <td>-49.6</td>\n",
       "      <td>-54</td>\n",
       "      <td>1.0</td>\n",
       "      <td>0.498547</td>\n",
       "      <td>0.701906</td>\n",
       "      <td>15.135802</td>\n",
       "      <td>35.625252</td>\n",
       "      <td>36.997753</td>\n",
       "      <td>1</td>\n",
       "      <td>0</td>\n",
       "    </tr>\n",
       "    <tr>\n",
       "      <th>1</th>\n",
       "      <td>24</td>\n",
       "      <td>19</td>\n",
       "      <td>100.0</td>\n",
       "      <td>78.571429</td>\n",
       "      <td>21.428571</td>\n",
       "      <td>74.275883</td>\n",
       "      <td>64.366798</td>\n",
       "      <td>11.45</td>\n",
       "      <td>18.16</td>\n",
       "      <td>12.22</td>\n",
       "      <td>...</td>\n",
       "      <td>-55.6</td>\n",
       "      <td>-60</td>\n",
       "      <td>1.0</td>\n",
       "      <td>0.537088</td>\n",
       "      <td>0.690833</td>\n",
       "      <td>15.143348</td>\n",
       "      <td>35.643013</td>\n",
       "      <td>37.016198</td>\n",
       "      <td>1</td>\n",
       "      <td>0</td>\n",
       "    </tr>\n",
       "    <tr>\n",
       "      <th>2</th>\n",
       "      <td>30</td>\n",
       "      <td>24</td>\n",
       "      <td>100.0</td>\n",
       "      <td>71.428571</td>\n",
       "      <td>28.571429</td>\n",
       "      <td>75.140402</td>\n",
       "      <td>65.915803</td>\n",
       "      <td>8.75</td>\n",
       "      <td>17.86</td>\n",
       "      <td>12.28</td>\n",
       "      <td>...</td>\n",
       "      <td>-58.4</td>\n",
       "      <td>-60</td>\n",
       "      <td>1.0</td>\n",
       "      <td>0.615169</td>\n",
       "      <td>0.693040</td>\n",
       "      <td>15.146870</td>\n",
       "      <td>35.651301</td>\n",
       "      <td>-37.024805</td>\n",
       "      <td>1</td>\n",
       "      <td>0</td>\n",
       "    </tr>\n",
       "    <tr>\n",
       "      <th>3</th>\n",
       "      <td>37</td>\n",
       "      <td>30</td>\n",
       "      <td>100.0</td>\n",
       "      <td>64.285714</td>\n",
       "      <td>35.714286</td>\n",
       "      <td>76.677846</td>\n",
       "      <td>68.584234</td>\n",
       "      <td>7.80</td>\n",
       "      <td>14.76</td>\n",
       "      <td>12.61</td>\n",
       "      <td>...</td>\n",
       "      <td>-61.8</td>\n",
       "      <td>-65</td>\n",
       "      <td>1.0</td>\n",
       "      <td>0.661517</td>\n",
       "      <td>0.673418</td>\n",
       "      <td>15.153283</td>\n",
       "      <td>0.000000</td>\n",
       "      <td>-37.040483</td>\n",
       "      <td>1</td>\n",
       "      <td>0</td>\n",
       "    </tr>\n",
       "    <tr>\n",
       "      <th>4</th>\n",
       "      <td>41</td>\n",
       "      <td>37</td>\n",
       "      <td>100.0</td>\n",
       "      <td>57.142857</td>\n",
       "      <td>42.857143</td>\n",
       "      <td>81.603007</td>\n",
       "      <td>76.455495</td>\n",
       "      <td>14.90</td>\n",
       "      <td>11.92</td>\n",
       "      <td>14.25</td>\n",
       "      <td>...</td>\n",
       "      <td>-79.8</td>\n",
       "      <td>-86</td>\n",
       "      <td>1.0</td>\n",
       "      <td>0.747204</td>\n",
       "      <td>0.700522</td>\n",
       "      <td>-15.179065</td>\n",
       "      <td>-35.727079</td>\n",
       "      <td>-37.103503</td>\n",
       "      <td>1</td>\n",
       "      <td>0</td>\n",
       "    </tr>\n",
       "  </tbody>\n",
       "</table>\n",
       "<p>5 rows × 135 columns</p>\n",
       "</div>"
      ],
      "text/plain": [
       "   ind_5  ind_6  ind_8      ind_9     ind_10     ind_12     ind_13  ind_14  \\\n",
       "0     19     17  100.0  85.714286  14.285714  72.363515  60.808814   23.80   \n",
       "1     24     19  100.0  78.571429  21.428571  74.275883  64.366798   11.45   \n",
       "2     30     24  100.0  71.428571  28.571429  75.140402  65.915803    8.75   \n",
       "3     37     30  100.0  64.285714  35.714286  76.677846  68.584234    7.80   \n",
       "4     41     37  100.0  57.142857  42.857143  81.603007  76.455495   14.90   \n",
       "\n",
       "   ind_15  ind_16  ...  ind_416  ind_418  ind_424   ind_426   ind_428  \\\n",
       "0   17.62   11.73  ...    -49.6      -54      1.0  0.498547  0.701906   \n",
       "1   18.16   12.22  ...    -55.6      -60      1.0  0.537088  0.690833   \n",
       "2   17.86   12.28  ...    -58.4      -60      1.0  0.615169  0.693040   \n",
       "3   14.76   12.61  ...    -61.8      -65      1.0  0.661517  0.673418   \n",
       "4   11.92   14.25  ...    -79.8      -86      1.0  0.747204  0.700522   \n",
       "\n",
       "   20_target  50_target  90_target  ind_109_GREEN  ind_109_RED  \n",
       "0  15.135802  35.625252  36.997753              1            0  \n",
       "1  15.143348  35.643013  37.016198              1            0  \n",
       "2  15.146870  35.651301 -37.024805              1            0  \n",
       "3  15.153283   0.000000 -37.040483              1            0  \n",
       "4 -15.179065 -35.727079 -37.103503              1            0  \n",
       "\n",
       "[5 rows x 135 columns]"
      ]
     },
     "execution_count": 17,
     "metadata": {},
     "output_type": "execute_result"
    }
   ],
   "source": [
    "data_dummy = dummy_df(data, [\"ind_109\"])\n",
    "data_dummy2 = dummy_df(data, [\"ind_109\",\"ind_40\"])\n",
    "\n",
    "num, cat = numeric_categoric_variable(data_dummy)\n",
    "data_dummy.head()"
   ]
  },
  {
   "cell_type": "markdown",
   "metadata": {
    "colab_type": "text",
    "id": "eL0N5ZZcps39"
   },
   "source": [
    "### **2.3. Normalization (Min-Max)**"
   ]
  },
  {
   "cell_type": "code",
   "execution_count": 18,
   "metadata": {
    "colab": {
     "base_uri": "https://localhost:8080/",
     "height": 193
    },
    "colab_type": "code",
    "id": "Vjfe1mfnps39",
    "outputId": "55d45822-1478-410f-c5fa-704f7d0a0144"
   },
   "outputs": [
    {
     "data": {
      "text/html": [
       "<div>\n",
       "<style scoped>\n",
       "    .dataframe tbody tr th:only-of-type {\n",
       "        vertical-align: middle;\n",
       "    }\n",
       "\n",
       "    .dataframe tbody tr th {\n",
       "        vertical-align: top;\n",
       "    }\n",
       "\n",
       "    .dataframe thead th {\n",
       "        text-align: right;\n",
       "    }\n",
       "</style>\n",
       "<table border=\"1\" class=\"dataframe\">\n",
       "  <thead>\n",
       "    <tr style=\"text-align: right;\">\n",
       "      <th></th>\n",
       "      <th>ind_5</th>\n",
       "      <th>ind_6</th>\n",
       "      <th>ind_8</th>\n",
       "      <th>ind_9</th>\n",
       "      <th>ind_10</th>\n",
       "      <th>ind_12</th>\n",
       "      <th>ind_13</th>\n",
       "      <th>ind_14</th>\n",
       "      <th>ind_15</th>\n",
       "      <th>ind_16</th>\n",
       "      <th>...</th>\n",
       "      <th>ind_412</th>\n",
       "      <th>ind_414</th>\n",
       "      <th>ind_416</th>\n",
       "      <th>ind_418</th>\n",
       "      <th>ind_424</th>\n",
       "      <th>ind_426</th>\n",
       "      <th>ind_428</th>\n",
       "      <th>50_target</th>\n",
       "      <th>ind_109_GREEN</th>\n",
       "      <th>ind_109_RED</th>\n",
       "    </tr>\n",
       "  </thead>\n",
       "  <tbody>\n",
       "    <tr>\n",
       "      <th>0</th>\n",
       "      <td>0.724638</td>\n",
       "      <td>0.714976</td>\n",
       "      <td>1.0</td>\n",
       "      <td>0.857143</td>\n",
       "      <td>0.571429</td>\n",
       "      <td>0.828604</td>\n",
       "      <td>0.971259</td>\n",
       "      <td>0.277947</td>\n",
       "      <td>0.303537</td>\n",
       "      <td>0.265448</td>\n",
       "      <td>...</td>\n",
       "      <td>0.555085</td>\n",
       "      <td>0.007097</td>\n",
       "      <td>0.522158</td>\n",
       "      <td>0.712766</td>\n",
       "      <td>1.0</td>\n",
       "      <td>0.498547</td>\n",
       "      <td>0.787736</td>\n",
       "      <td>35.625252</td>\n",
       "      <td>1.0</td>\n",
       "      <td>0.0</td>\n",
       "    </tr>\n",
       "    <tr>\n",
       "      <th>1</th>\n",
       "      <td>0.748792</td>\n",
       "      <td>0.724638</td>\n",
       "      <td>1.0</td>\n",
       "      <td>0.785714</td>\n",
       "      <td>0.607143</td>\n",
       "      <td>0.854913</td>\n",
       "      <td>0.976297</td>\n",
       "      <td>0.127062</td>\n",
       "      <td>0.313808</td>\n",
       "      <td>0.279663</td>\n",
       "      <td>...</td>\n",
       "      <td>0.570000</td>\n",
       "      <td>0.002839</td>\n",
       "      <td>0.464355</td>\n",
       "      <td>0.680851</td>\n",
       "      <td>1.0</td>\n",
       "      <td>0.537088</td>\n",
       "      <td>0.773630</td>\n",
       "      <td>35.643013</td>\n",
       "      <td>1.0</td>\n",
       "      <td>0.0</td>\n",
       "    </tr>\n",
       "    <tr>\n",
       "      <th>2</th>\n",
       "      <td>0.777778</td>\n",
       "      <td>0.748792</td>\n",
       "      <td>1.0</td>\n",
       "      <td>0.714286</td>\n",
       "      <td>0.642857</td>\n",
       "      <td>0.866807</td>\n",
       "      <td>0.978490</td>\n",
       "      <td>0.094075</td>\n",
       "      <td>0.308102</td>\n",
       "      <td>0.281404</td>\n",
       "      <td>...</td>\n",
       "      <td>0.580332</td>\n",
       "      <td>0.009581</td>\n",
       "      <td>0.437380</td>\n",
       "      <td>0.680851</td>\n",
       "      <td>1.0</td>\n",
       "      <td>0.615169</td>\n",
       "      <td>0.776441</td>\n",
       "      <td>35.651301</td>\n",
       "      <td>1.0</td>\n",
       "      <td>0.0</td>\n",
       "    </tr>\n",
       "  </tbody>\n",
       "</table>\n",
       "<p>3 rows × 133 columns</p>\n",
       "</div>"
      ],
      "text/plain": [
       "      ind_5     ind_6  ind_8     ind_9    ind_10    ind_12    ind_13  \\\n",
       "0  0.724638  0.714976    1.0  0.857143  0.571429  0.828604  0.971259   \n",
       "1  0.748792  0.724638    1.0  0.785714  0.607143  0.854913  0.976297   \n",
       "2  0.777778  0.748792    1.0  0.714286  0.642857  0.866807  0.978490   \n",
       "\n",
       "     ind_14    ind_15    ind_16  ...   ind_412   ind_414   ind_416   ind_418  \\\n",
       "0  0.277947  0.303537  0.265448  ...  0.555085  0.007097  0.522158  0.712766   \n",
       "1  0.127062  0.313808  0.279663  ...  0.570000  0.002839  0.464355  0.680851   \n",
       "2  0.094075  0.308102  0.281404  ...  0.580332  0.009581  0.437380  0.680851   \n",
       "\n",
       "   ind_424   ind_426   ind_428  50_target  ind_109_GREEN  ind_109_RED  \n",
       "0      1.0  0.498547  0.787736  35.625252            1.0          0.0  \n",
       "1      1.0  0.537088  0.773630  35.643013            1.0          0.0  \n",
       "2      1.0  0.615169  0.776441  35.651301            1.0          0.0  \n",
       "\n",
       "[3 rows x 133 columns]"
      ]
     },
     "execution_count": 18,
     "metadata": {},
     "output_type": "execute_result"
    }
   ],
   "source": [
    "data_norm_20target = data_dummy.drop([\"50_target\", \"90_target\"],axis=1)\n",
    "data_minmax_20target = normalization_minmax(data_norm_20target, \"20_target\")\n",
    "\n",
    "data_norm_50target = data_dummy.drop([\"20_target\", \"90_target\"],axis=1)\n",
    "data_minmax_50target = normalization_minmax(data_norm_50target, \"50_target\")\n",
    "\n",
    "data_norm_90target = data_dummy.drop([\"20_target\", \"50_target\"],axis=1)\n",
    "data_minmax_90target = normalization_minmax(data_norm_90target, \"90_target\")\n",
    "\n",
    "\n",
    "data_minmax_50target.head(3)"
   ]
  },
  {
   "cell_type": "markdown",
   "metadata": {
    "colab_type": "text",
    "id": "RGBc18A-ps4C"
   },
   "source": [
    "# **3. Feature Selection**"
   ]
  },
  {
   "cell_type": "markdown",
   "metadata": {
    "colab_type": "text",
    "id": "956oHe6lps4D"
   },
   "source": [
    "### **3.1. Principal Component Analysis**"
   ]
  },
  {
   "cell_type": "code",
   "execution_count": 19,
   "metadata": {
    "colab": {
     "base_uri": "https://localhost:8080/",
     "height": 278
    },
    "colab_type": "code",
    "id": "umBmyQ0Vps4D",
    "outputId": "c0e479af-8f10-4a46-baf6-cb2ffd39ad0e"
   },
   "outputs": [
    {
     "name": "stdout",
     "output_type": "stream",
     "text": [
      "pca sonrası değişken sayısı:  19\n",
      "pca sonrası değişken sayısı:  19\n",
      "pca sonrası değişken sayısı:  19\n"
     ]
    },
    {
     "data": {
      "text/html": [
       "<div>\n",
       "<style scoped>\n",
       "    .dataframe tbody tr th:only-of-type {\n",
       "        vertical-align: middle;\n",
       "    }\n",
       "\n",
       "    .dataframe tbody tr th {\n",
       "        vertical-align: top;\n",
       "    }\n",
       "\n",
       "    .dataframe thead th {\n",
       "        text-align: right;\n",
       "    }\n",
       "</style>\n",
       "<table border=\"1\" class=\"dataframe\">\n",
       "  <thead>\n",
       "    <tr style=\"text-align: right;\">\n",
       "      <th></th>\n",
       "      <th>0</th>\n",
       "      <th>1</th>\n",
       "      <th>2</th>\n",
       "      <th>3</th>\n",
       "      <th>4</th>\n",
       "      <th>5</th>\n",
       "      <th>6</th>\n",
       "      <th>7</th>\n",
       "      <th>8</th>\n",
       "      <th>9</th>\n",
       "      <th>10</th>\n",
       "      <th>11</th>\n",
       "      <th>12</th>\n",
       "      <th>13</th>\n",
       "      <th>14</th>\n",
       "      <th>15</th>\n",
       "      <th>16</th>\n",
       "      <th>17</th>\n",
       "      <th>18</th>\n",
       "      <th>50_target</th>\n",
       "    </tr>\n",
       "  </thead>\n",
       "  <tbody>\n",
       "    <tr>\n",
       "      <th>0</th>\n",
       "      <td>-1.918783</td>\n",
       "      <td>0.126473</td>\n",
       "      <td>-0.295048</td>\n",
       "      <td>0.400703</td>\n",
       "      <td>-0.076268</td>\n",
       "      <td>0.371339</td>\n",
       "      <td>0.347380</td>\n",
       "      <td>-0.614152</td>\n",
       "      <td>0.282158</td>\n",
       "      <td>0.352373</td>\n",
       "      <td>-0.385728</td>\n",
       "      <td>0.818448</td>\n",
       "      <td>0.255718</td>\n",
       "      <td>-0.452354</td>\n",
       "      <td>-0.168721</td>\n",
       "      <td>0.117936</td>\n",
       "      <td>-0.221845</td>\n",
       "      <td>0.385469</td>\n",
       "      <td>-0.012100</td>\n",
       "      <td>35.625252</td>\n",
       "    </tr>\n",
       "    <tr>\n",
       "      <th>1</th>\n",
       "      <td>-2.043020</td>\n",
       "      <td>0.117548</td>\n",
       "      <td>-0.204928</td>\n",
       "      <td>0.347276</td>\n",
       "      <td>-0.056899</td>\n",
       "      <td>0.328800</td>\n",
       "      <td>0.365171</td>\n",
       "      <td>-0.610495</td>\n",
       "      <td>0.253421</td>\n",
       "      <td>0.346037</td>\n",
       "      <td>-0.296312</td>\n",
       "      <td>0.821816</td>\n",
       "      <td>0.245115</td>\n",
       "      <td>-0.469800</td>\n",
       "      <td>-0.207842</td>\n",
       "      <td>0.104446</td>\n",
       "      <td>-0.231889</td>\n",
       "      <td>0.383681</td>\n",
       "      <td>-0.007942</td>\n",
       "      <td>35.643013</td>\n",
       "    </tr>\n",
       "    <tr>\n",
       "      <th>2</th>\n",
       "      <td>-2.088737</td>\n",
       "      <td>0.072149</td>\n",
       "      <td>-0.135119</td>\n",
       "      <td>0.317724</td>\n",
       "      <td>-0.062843</td>\n",
       "      <td>0.280218</td>\n",
       "      <td>0.375154</td>\n",
       "      <td>-0.605005</td>\n",
       "      <td>0.232259</td>\n",
       "      <td>0.319001</td>\n",
       "      <td>-0.261715</td>\n",
       "      <td>0.788576</td>\n",
       "      <td>0.268427</td>\n",
       "      <td>-0.474156</td>\n",
       "      <td>-0.203423</td>\n",
       "      <td>0.089478</td>\n",
       "      <td>-0.246062</td>\n",
       "      <td>0.361119</td>\n",
       "      <td>-0.002372</td>\n",
       "      <td>35.651301</td>\n",
       "    </tr>\n",
       "    <tr>\n",
       "      <th>3</th>\n",
       "      <td>-2.203106</td>\n",
       "      <td>0.090405</td>\n",
       "      <td>-0.066407</td>\n",
       "      <td>0.261085</td>\n",
       "      <td>-0.005468</td>\n",
       "      <td>0.251994</td>\n",
       "      <td>0.388037</td>\n",
       "      <td>-0.587139</td>\n",
       "      <td>0.199041</td>\n",
       "      <td>0.326763</td>\n",
       "      <td>-0.170757</td>\n",
       "      <td>0.828007</td>\n",
       "      <td>0.252351</td>\n",
       "      <td>-0.480077</td>\n",
       "      <td>-0.183597</td>\n",
       "      <td>0.063912</td>\n",
       "      <td>-0.240448</td>\n",
       "      <td>0.327890</td>\n",
       "      <td>0.011579</td>\n",
       "      <td>0.000000</td>\n",
       "    </tr>\n",
       "    <tr>\n",
       "      <th>4</th>\n",
       "      <td>-2.528751</td>\n",
       "      <td>0.126773</td>\n",
       "      <td>0.046819</td>\n",
       "      <td>0.234280</td>\n",
       "      <td>0.029756</td>\n",
       "      <td>0.354077</td>\n",
       "      <td>0.427985</td>\n",
       "      <td>-0.621044</td>\n",
       "      <td>0.236388</td>\n",
       "      <td>0.310995</td>\n",
       "      <td>-0.077167</td>\n",
       "      <td>0.849048</td>\n",
       "      <td>0.119429</td>\n",
       "      <td>-0.508945</td>\n",
       "      <td>-0.242452</td>\n",
       "      <td>0.143253</td>\n",
       "      <td>-0.363971</td>\n",
       "      <td>0.486983</td>\n",
       "      <td>-0.044026</td>\n",
       "      <td>-35.727079</td>\n",
       "    </tr>\n",
       "  </tbody>\n",
       "</table>\n",
       "</div>"
      ],
      "text/plain": [
       "          0         1         2         3         4         5         6  \\\n",
       "0 -1.918783  0.126473 -0.295048  0.400703 -0.076268  0.371339  0.347380   \n",
       "1 -2.043020  0.117548 -0.204928  0.347276 -0.056899  0.328800  0.365171   \n",
       "2 -2.088737  0.072149 -0.135119  0.317724 -0.062843  0.280218  0.375154   \n",
       "3 -2.203106  0.090405 -0.066407  0.261085 -0.005468  0.251994  0.388037   \n",
       "4 -2.528751  0.126773  0.046819  0.234280  0.029756  0.354077  0.427985   \n",
       "\n",
       "          7         8         9        10        11        12        13  \\\n",
       "0 -0.614152  0.282158  0.352373 -0.385728  0.818448  0.255718 -0.452354   \n",
       "1 -0.610495  0.253421  0.346037 -0.296312  0.821816  0.245115 -0.469800   \n",
       "2 -0.605005  0.232259  0.319001 -0.261715  0.788576  0.268427 -0.474156   \n",
       "3 -0.587139  0.199041  0.326763 -0.170757  0.828007  0.252351 -0.480077   \n",
       "4 -0.621044  0.236388  0.310995 -0.077167  0.849048  0.119429 -0.508945   \n",
       "\n",
       "         14        15        16        17        18  50_target  \n",
       "0 -0.168721  0.117936 -0.221845  0.385469 -0.012100  35.625252  \n",
       "1 -0.207842  0.104446 -0.231889  0.383681 -0.007942  35.643013  \n",
       "2 -0.203423  0.089478 -0.246062  0.361119 -0.002372  35.651301  \n",
       "3 -0.183597  0.063912 -0.240448  0.327890  0.011579   0.000000  \n",
       "4 -0.242452  0.143253 -0.363971  0.486983 -0.044026 -35.727079  "
      ]
     },
     "execution_count": 19,
     "metadata": {},
     "output_type": "execute_result"
    }
   ],
   "source": [
    "data_pca_20target = featureselection_pca(data_minmax_20target, \"20_target\", 0.9)\n",
    "data_pca_50target = featureselection_pca(data_minmax_50target, \"50_target\", 0.9)\n",
    "data_pca_90target = featureselection_pca(data_minmax_90target, \"90_target\", 0.9)\n",
    "data_pca_50target.head()"
   ]
  },
  {
   "cell_type": "markdown",
   "metadata": {
    "colab_type": "text",
    "id": "gFyTmUxQps4G"
   },
   "source": [
    "### **3.2. Correlation based Feature Selection**"
   ]
  },
  {
   "cell_type": "code",
   "execution_count": 20,
   "metadata": {
    "colab": {
     "base_uri": "https://localhost:8080/",
     "height": 206
    },
    "colab_type": "code",
    "id": "--DcqB9aiROo",
    "outputId": "3415fa9e-aa06-4766-d6a4-b31901a65892"
   },
   "outputs": [
    {
     "data": {
      "text/html": [
       "<div>\n",
       "<style scoped>\n",
       "    .dataframe tbody tr th:only-of-type {\n",
       "        vertical-align: middle;\n",
       "    }\n",
       "\n",
       "    .dataframe tbody tr th {\n",
       "        vertical-align: top;\n",
       "    }\n",
       "\n",
       "    .dataframe thead th {\n",
       "        text-align: right;\n",
       "    }\n",
       "</style>\n",
       "<table border=\"1\" class=\"dataframe\">\n",
       "  <thead>\n",
       "    <tr style=\"text-align: right;\">\n",
       "      <th></th>\n",
       "      <th>ind_316</th>\n",
       "      <th>ind_310</th>\n",
       "      <th>ind_14</th>\n",
       "      <th>ind_26</th>\n",
       "      <th>ind_330</th>\n",
       "      <th>ind_324</th>\n",
       "      <th>ind_332</th>\n",
       "      <th>ind_18</th>\n",
       "      <th>90_target</th>\n",
       "    </tr>\n",
       "  </thead>\n",
       "  <tbody>\n",
       "    <tr>\n",
       "      <th>0</th>\n",
       "      <td>0.979995</td>\n",
       "      <td>0.207870</td>\n",
       "      <td>0.277947</td>\n",
       "      <td>0.786663</td>\n",
       "      <td>0.944473</td>\n",
       "      <td>0.960129</td>\n",
       "      <td>0.210376</td>\n",
       "      <td>0.179402</td>\n",
       "      <td>36.997753</td>\n",
       "    </tr>\n",
       "    <tr>\n",
       "      <th>1</th>\n",
       "      <td>0.979540</td>\n",
       "      <td>0.208265</td>\n",
       "      <td>0.127062</td>\n",
       "      <td>0.751886</td>\n",
       "      <td>0.944500</td>\n",
       "      <td>0.960129</td>\n",
       "      <td>0.208693</td>\n",
       "      <td>0.184535</td>\n",
       "      <td>37.016198</td>\n",
       "    </tr>\n",
       "    <tr>\n",
       "      <th>2</th>\n",
       "      <td>0.979346</td>\n",
       "      <td>0.208449</td>\n",
       "      <td>0.094075</td>\n",
       "      <td>0.718925</td>\n",
       "      <td>0.944513</td>\n",
       "      <td>0.960129</td>\n",
       "      <td>0.207037</td>\n",
       "      <td>0.188641</td>\n",
       "      <td>-37.024805</td>\n",
       "    </tr>\n",
       "    <tr>\n",
       "      <th>3</th>\n",
       "      <td>0.978964</td>\n",
       "      <td>0.208784</td>\n",
       "      <td>0.082468</td>\n",
       "      <td>0.684934</td>\n",
       "      <td>0.944537</td>\n",
       "      <td>0.960129</td>\n",
       "      <td>0.205407</td>\n",
       "      <td>0.193317</td>\n",
       "      <td>-37.040483</td>\n",
       "    </tr>\n",
       "    <tr>\n",
       "      <th>4</th>\n",
       "      <td>0.977335</td>\n",
       "      <td>0.210127</td>\n",
       "      <td>0.169212</td>\n",
       "      <td>0.632729</td>\n",
       "      <td>0.944631</td>\n",
       "      <td>0.960129</td>\n",
       "      <td>0.203802</td>\n",
       "      <td>0.215100</td>\n",
       "      <td>-37.103503</td>\n",
       "    </tr>\n",
       "  </tbody>\n",
       "</table>\n",
       "</div>"
      ],
      "text/plain": [
       "    ind_316   ind_310    ind_14    ind_26   ind_330   ind_324   ind_332  \\\n",
       "0  0.979995  0.207870  0.277947  0.786663  0.944473  0.960129  0.210376   \n",
       "1  0.979540  0.208265  0.127062  0.751886  0.944500  0.960129  0.208693   \n",
       "2  0.979346  0.208449  0.094075  0.718925  0.944513  0.960129  0.207037   \n",
       "3  0.978964  0.208784  0.082468  0.684934  0.944537  0.960129  0.205407   \n",
       "4  0.977335  0.210127  0.169212  0.632729  0.944631  0.960129  0.203802   \n",
       "\n",
       "     ind_18  90_target  \n",
       "0  0.179402  36.997753  \n",
       "1  0.184535  37.016198  \n",
       "2  0.188641 -37.024805  \n",
       "3  0.193317 -37.040483  \n",
       "4  0.215100 -37.103503  "
      ]
     },
     "execution_count": 20,
     "metadata": {},
     "output_type": "execute_result"
    }
   ],
   "source": [
    "data_corr_20target = featureselection_corrcorr(data_minmax_20target, \"20_target\", 0.6, 8)\n",
    "data_corr_50target = featureselection_corrcorr(data_minmax_50target, \"50_target\", 0.6, 8)\n",
    "data_corr_90target = featureselection_corrcorr(data_minmax_90target, \"90_target\", 0.6, 8)\n",
    "data_corr_90target.head()"
   ]
  },
  {
   "cell_type": "markdown",
   "metadata": {
    "colab_type": "text",
    "id": "1GF5aKEPps4L"
   },
   "source": [
    "### **3.3. RandomForestRegressor based Feature Selection**"
   ]
  },
  {
   "cell_type": "code",
   "execution_count": 22,
   "metadata": {
    "colab": {},
    "colab_type": "code",
    "id": "xeO1r0Fip-v0"
   },
   "outputs": [],
   "source": [
    "def x_and_y(data_minmax, target):\n",
    "    x= data_minmax.drop(target, axis=1)\n",
    "    y = data_minmax[target]\n",
    "    return x,y"
   ]
  },
  {
   "cell_type": "code",
   "execution_count": 23,
   "metadata": {
    "colab": {
     "base_uri": "https://localhost:8080/",
     "height": 519
    },
    "colab_type": "code",
    "id": "kOXhUe1Vps4L",
    "outputId": "20f610bc-103c-4ff4-88a2-0e96be110201"
   },
   "outputs": [
    {
     "name": "stdout",
     "output_type": "stream",
     "text": [
      "Fitting 10 folds for each of 48 candidates, totalling 480 fits\n"
     ]
    },
    {
     "name": "stderr",
     "output_type": "stream",
     "text": [
      "[Parallel(n_jobs=-1)]: Using backend LokyBackend with 12 concurrent workers.\n",
      "[Parallel(n_jobs=-1)]: Done  17 tasks      | elapsed:    3.3s\n",
      "[Parallel(n_jobs=-1)]: Done 138 tasks      | elapsed:    8.3s\n",
      "[Parallel(n_jobs=-1)]: Done 341 tasks      | elapsed:   26.8s\n",
      "[Parallel(n_jobs=-1)]: Done 480 out of 480 | elapsed:  1.4min finished\n"
     ]
    },
    {
     "name": "stdout",
     "output_type": "stream",
     "text": [
      "Fitting 10 folds for each of 48 candidates, totalling 480 fits\n"
     ]
    },
    {
     "name": "stderr",
     "output_type": "stream",
     "text": [
      "[Parallel(n_jobs=-1)]: Using backend LokyBackend with 12 concurrent workers.\n",
      "[Parallel(n_jobs=-1)]: Done  17 tasks      | elapsed:    0.7s\n",
      "[Parallel(n_jobs=-1)]: Done 138 tasks      | elapsed:    4.8s\n",
      "[Parallel(n_jobs=-1)]: Done 341 tasks      | elapsed:   18.0s\n",
      "[Parallel(n_jobs=-1)]: Done 480 out of 480 | elapsed:   29.2s finished\n"
     ]
    },
    {
     "name": "stdout",
     "output_type": "stream",
     "text": [
      "Fitting 10 folds for each of 48 candidates, totalling 480 fits\n"
     ]
    },
    {
     "name": "stderr",
     "output_type": "stream",
     "text": [
      "[Parallel(n_jobs=-1)]: Using backend LokyBackend with 12 concurrent workers.\n",
      "[Parallel(n_jobs=-1)]: Done  17 tasks      | elapsed:    0.7s\n",
      "[Parallel(n_jobs=-1)]: Done 138 tasks      | elapsed:    5.2s\n",
      "[Parallel(n_jobs=-1)]: Done 341 tasks      | elapsed:   18.5s\n",
      "[Parallel(n_jobs=-1)]: Done 480 out of 480 | elapsed:   29.8s finished\n"
     ]
    },
    {
     "data": {
      "text/html": [
       "<div>\n",
       "<style scoped>\n",
       "    .dataframe tbody tr th:only-of-type {\n",
       "        vertical-align: middle;\n",
       "    }\n",
       "\n",
       "    .dataframe tbody tr th {\n",
       "        vertical-align: top;\n",
       "    }\n",
       "\n",
       "    .dataframe thead th {\n",
       "        text-align: right;\n",
       "    }\n",
       "</style>\n",
       "<table border=\"1\" class=\"dataframe\">\n",
       "  <thead>\n",
       "    <tr style=\"text-align: right;\">\n",
       "      <th></th>\n",
       "      <th>ind_309</th>\n",
       "      <th>ind_243</th>\n",
       "      <th>ind_17</th>\n",
       "      <th>ind_313</th>\n",
       "      <th>ind_36</th>\n",
       "      <th>ind_228</th>\n",
       "      <th>ind_225</th>\n",
       "      <th>ind_74</th>\n",
       "      <th>ind_77</th>\n",
       "      <th>ind_330</th>\n",
       "      <th>50_target</th>\n",
       "    </tr>\n",
       "  </thead>\n",
       "  <tbody>\n",
       "    <tr>\n",
       "      <th>0</th>\n",
       "      <td>0.981941</td>\n",
       "      <td>0.957122</td>\n",
       "      <td>0.235051</td>\n",
       "      <td>0.954773</td>\n",
       "      <td>0.741258</td>\n",
       "      <td>0.956983</td>\n",
       "      <td>0.241577</td>\n",
       "      <td>0.666667</td>\n",
       "      <td>0.690476</td>\n",
       "      <td>0.944473</td>\n",
       "      <td>35.625252</td>\n",
       "    </tr>\n",
       "    <tr>\n",
       "      <th>1</th>\n",
       "      <td>0.981941</td>\n",
       "      <td>0.956949</td>\n",
       "      <td>0.215299</td>\n",
       "      <td>0.954784</td>\n",
       "      <td>0.746867</td>\n",
       "      <td>0.956855</td>\n",
       "      <td>0.241457</td>\n",
       "      <td>0.666667</td>\n",
       "      <td>0.690476</td>\n",
       "      <td>0.944500</td>\n",
       "      <td>35.643013</td>\n",
       "    </tr>\n",
       "    <tr>\n",
       "      <th>2</th>\n",
       "      <td>0.981941</td>\n",
       "      <td>0.956776</td>\n",
       "      <td>0.205782</td>\n",
       "      <td>0.954795</td>\n",
       "      <td>0.750682</td>\n",
       "      <td>0.956728</td>\n",
       "      <td>0.241401</td>\n",
       "      <td>0.666667</td>\n",
       "      <td>0.690476</td>\n",
       "      <td>0.944513</td>\n",
       "      <td>35.651301</td>\n",
       "    </tr>\n",
       "    <tr>\n",
       "      <th>3</th>\n",
       "      <td>0.981941</td>\n",
       "      <td>0.956602</td>\n",
       "      <td>0.191058</td>\n",
       "      <td>0.954805</td>\n",
       "      <td>0.748941</td>\n",
       "      <td>0.956600</td>\n",
       "      <td>0.241299</td>\n",
       "      <td>0.666667</td>\n",
       "      <td>0.690476</td>\n",
       "      <td>0.944537</td>\n",
       "      <td>0.000000</td>\n",
       "    </tr>\n",
       "    <tr>\n",
       "      <th>4</th>\n",
       "      <td>0.981941</td>\n",
       "      <td>0.956429</td>\n",
       "      <td>0.217454</td>\n",
       "      <td>0.954816</td>\n",
       "      <td>0.775328</td>\n",
       "      <td>0.956473</td>\n",
       "      <td>0.240889</td>\n",
       "      <td>0.666667</td>\n",
       "      <td>0.690476</td>\n",
       "      <td>0.944631</td>\n",
       "      <td>-35.727079</td>\n",
       "    </tr>\n",
       "  </tbody>\n",
       "</table>\n",
       "</div>"
      ],
      "text/plain": [
       "    ind_309   ind_243    ind_17   ind_313    ind_36   ind_228   ind_225  \\\n",
       "0  0.981941  0.957122  0.235051  0.954773  0.741258  0.956983  0.241577   \n",
       "1  0.981941  0.956949  0.215299  0.954784  0.746867  0.956855  0.241457   \n",
       "2  0.981941  0.956776  0.205782  0.954795  0.750682  0.956728  0.241401   \n",
       "3  0.981941  0.956602  0.191058  0.954805  0.748941  0.956600  0.241299   \n",
       "4  0.981941  0.956429  0.217454  0.954816  0.775328  0.956473  0.240889   \n",
       "\n",
       "     ind_74    ind_77   ind_330  50_target  \n",
       "0  0.666667  0.690476  0.944473  35.625252  \n",
       "1  0.666667  0.690476  0.944500  35.643013  \n",
       "2  0.666667  0.690476  0.944513  35.651301  \n",
       "3  0.666667  0.690476  0.944537   0.000000  \n",
       "4  0.666667  0.690476  0.944631 -35.727079  "
      ]
     },
     "execution_count": 23,
     "metadata": {},
     "output_type": "execute_result"
    }
   ],
   "source": [
    "rf_params = {\"max_depth\": [2,5,7,8],\n",
    "             \"max_features\": [3,4,5],\n",
    "             \"n_estimators\": [50,100],\n",
    "             \"min_samples_split\": [5,10]}\n",
    "\n",
    "x,y = x_and_y(data_minmax_20target, \"20_target\")\n",
    "data_rf_20target = featureselection_randomforest(x,y, \"20_target\", rf_params, 10) \n",
    "\n",
    "x,y = x_and_y(data_minmax_50target, \"50_target\")\n",
    "data_rf_50target = featureselection_randomforest(x,y, \"50_target\", rf_params, 10) \n",
    "\n",
    "x,y = x_and_y(data_minmax_90target, \"90_target\")\n",
    "data_rf_90target = featureselection_randomforest(x,y, \"90_target\", rf_params, 10) \n",
    "\n",
    "\n",
    "data_rf_50target.head()"
   ]
  },
  {
   "cell_type": "markdown",
   "metadata": {
    "colab_type": "text",
    "id": "cpKWo7dZps4O"
   },
   "source": [
    "# **4. Visualization**"
   ]
  },
  {
   "cell_type": "markdown",
   "metadata": {
    "colab_type": "text",
    "id": "UDbFj9mcps4P"
   },
   "source": [
    "### **4.1. Correlation HeatMap**"
   ]
  },
  {
   "cell_type": "code",
   "execution_count": 24,
   "metadata": {
    "colab": {
     "base_uri": "https://localhost:8080/",
     "height": 379
    },
    "colab_type": "code",
    "id": "7mkQnxxkps4P",
    "outputId": "e9eb687e-9b4b-4785-9695-9f927c706eb2"
   },
   "outputs": [
    {
     "data": {
      "image/png": "[encoded data removed]",
      "text/plain": [
       "<Figure size 1152x576 with 2 Axes>"
      ]
     },
     "metadata": {
      "needs_background": "light"
     },
     "output_type": "display_data"
    }
   ],
   "source": [
    "def heatmap(data, figsize=(16,8)):\n",
    "    fig, ax = plt.subplots(figsize=figsize)   \n",
    "    sns.heatmap(data.corr(), annot=True, linewidths=.3, ax=ax)\n",
    "    plt.show()\n",
    "    \n",
    "heatmap(data_corr_20target.drop([\"20_target\"], axis=1))"
   ]
  },
  {
   "cell_type": "code",
   "execution_count": 25,
   "metadata": {
    "colab": {
     "base_uri": "https://localhost:8080/",
     "height": 295
    },
    "colab_type": "code",
    "id": "G8mDwB08ps4S",
    "outputId": "e2dee812-76f8-4c10-916b-8e46835d4a98"
   },
   "outputs": [
    {
     "name": "stdout",
     "output_type": "stream",
     "text": [
      "Most Correlated\n",
      "    feature1 feature2      Corr\n",
      "23  ind_330  ind_332  0.775937\n",
      "11   ind_14   ind_26  0.485883\n",
      "6     ind_5  ind_324  0.409430\n",
      "29   ind_26   ind_18  0.361721\n",
      "20  ind_310   ind_18  0.296947 \n",
      "\n",
      "Less Correlated\n",
      "    feature1 feature2      Corr\n",
      "27   ind_26  ind_332  0.001387\n",
      "4     ind_5   ind_26  0.012802\n",
      "1     ind_5   ind_14  0.014502\n",
      "2     ind_5  ind_310  0.020973\n",
      "13   ind_14  ind_324  0.027027 \n",
      "\n"
     ]
    }
   ],
   "source": [
    "print(\"Most Correlated\\n\",correlation_df(data_corr_50target.drop([\"50_target\"],axis=1)).sort_values(by=\"Corr\", ascending=False).head(5),\"\\n\")\n",
    "print(\"Less Correlated\\n\",correlation_df(data_corr_50target.drop([\"50_target\"],axis=1)).sort_values(by=\"Corr\", ascending=True).head(5),\"\\n\")"
   ]
  },
  {
   "cell_type": "markdown",
   "metadata": {
    "colab_type": "text",
    "id": "DxCWBSY1ps4V"
   },
   "source": [
    "### **4.2. Scatter Plot**"
   ]
  },
  {
   "cell_type": "code",
   "execution_count": 26,
   "metadata": {
    "colab": {
     "base_uri": "https://localhost:8080/",
     "height": 280
    },
    "colab_type": "code",
    "id": "B23c4Xdmps4W",
    "outputId": "87eb17b4-acd8-4848-f75d-10f903111d82"
   },
   "outputs": [
    {
     "data": {
      "image/png": "[encoded data removed]",
      "text/plain": [
       "<Figure size 504x288 with 1 Axes>"
      ]
     },
     "metadata": {
      "needs_background": "light"
     },
     "output_type": "display_data"
    }
   ],
   "source": [
    "def scatterplot(x,y, hue, data, figsize=(7,4)):\n",
    "    fig, ax = plt.subplots(figsize=figsize)        \n",
    "    sns.scatterplot(x=x, y=y, hue=hue, data=data, ax=ax)\n",
    "    plt.show()\n",
    "\n",
    "scatterplot(\"ind_14\", \"ind_26\", \"50_target\", data_corr_50target)"
   ]
  },
  {
   "cell_type": "markdown",
   "metadata": {
    "colab_type": "text",
    "id": "IcxwZSt5ps4Y"
   },
   "source": [
    "### **4.3. Box Plot (Five Numbers Summary)**"
   ]
  },
  {
   "cell_type": "code",
   "execution_count": 27,
   "metadata": {
    "colab": {
     "base_uri": "https://localhost:8080/",
     "height": 322
    },
    "colab_type": "code",
    "id": "HYbaNDE0ps4Z",
    "outputId": "beb65756-ad6b-4406-ac4e-228617e85af0"
   },
   "outputs": [
    {
     "data": {
      "image/png": "[encoded data removed]",
      "text/plain": [
       "<Figure size 720x360 with 1 Axes>"
      ]
     },
     "metadata": {
      "needs_background": "light"
     },
     "output_type": "display_data"
    }
   ],
   "source": [
    "def boxplot(boxplot_df, figsize=(10,5)):\n",
    "    plt.figure(figsize=figsize)\n",
    "    boxplot_df.boxplot()\n",
    "    plt.show()\n",
    "\n",
    "boxplot(data_corr_50target)"
   ]
  },
  {
   "cell_type": "markdown",
   "metadata": {
    "colab_type": "text",
    "id": "YEl0G5X-ps4c"
   },
   "source": [
    "### **4.4. Histogram (Distribution)**"
   ]
  },
  {
   "cell_type": "code",
   "execution_count": 28,
   "metadata": {
    "colab": {
     "base_uri": "https://localhost:8080/",
     "height": 352
    },
    "colab_type": "code",
    "id": "G2BQx0KOps4d",
    "outputId": "cc9c1ccb-1dc9-4ec4-ea11-9ee47916034e"
   },
   "outputs": [
    {
     "data": {
      "image/png": "[encoded data removed]",
      "text/plain": [
       "<Figure size 1152x576 with 9 Axes>"
      ]
     },
     "metadata": {
      "needs_background": "light"
     },
     "output_type": "display_data"
    }
   ],
   "source": [
    "def histogram(datas, bins=40, xlabelsize=6, ylabelsize=6, figsize=(10,5)):\n",
    "    datas.hist(figsize=figsize, bins=bins, xlabelsize=xlabelsize, ylabelsize=ylabelsize)\n",
    "    plt.show()\n",
    "    \n",
    "histogram(data_corr_50target.drop([\"50_target\"],axis=1), figsize=(16,8))"
   ]
  },
  {
   "cell_type": "markdown",
   "metadata": {
    "colab_type": "text",
    "id": "4yCOI5xtps4i"
   },
   "source": [
    "# **5. Modelling (Algorithms)**\n",
    "- SVM Regressor\n",
    "- Gradient Boosting Regressor\n",
    "- Cat Boost Regressor\n",
    "- XGBoost Regressor\n",
    "- KNN Regressor"
   ]
  },
  {
   "cell_type": "markdown",
   "metadata": {
    "colab_type": "text",
    "id": "AHzDawmEps4m"
   },
   "source": [
    "## **5.1. SVM Regressor**"
   ]
  },
  {
   "cell_type": "markdown",
   "metadata": {
    "colab_type": "text",
    "id": "qWVVZ6VNps4m"
   },
   "source": [
    "### **5.1.1. PCA based FS**"
   ]
  },
  {
   "cell_type": "code",
   "execution_count": 58,
   "metadata": {
    "colab": {
     "base_uri": "https://localhost:8080/",
     "height": 330
    },
    "colab_type": "code",
    "id": "Csu8skcfps4n",
    "outputId": "17d21944-9285-4ff6-811e-455f359bb35f"
   },
   "outputs": [
    {
     "name": "stdout",
     "output_type": "stream",
     "text": [
      "(4625, 19) (1542, 19) (4625,) (1542,)\n",
      "MSE :  239.36686220408228\n",
      "RMSE:  15.471485455640073\n",
      "MAE :  14.283753909306627\n",
      "\n",
      "\n",
      "(4625, 19) (1542, 19) (4625,) (1542,)\n",
      "MSE :  1593.0279533560158\n",
      "RMSE:  39.91275426923098\n",
      "MAE :  33.47009109266908\n",
      "\n",
      "\n",
      "(4625, 19) (1542, 19) (4625,) (1542,)\n",
      "MSE :  2062.5670585747694\n",
      "RMSE:  45.41549359607104\n",
      "MAE :  33.16242289141083\n",
      "\n",
      "\n"
     ]
    }
   ],
   "source": [
    "xtrain, xtest, ytrain, ytest = train_test_splitting(data_pca_20target, \"20_target\")\n",
    "svr = SVR()\n",
    "svr_model = svr.fit(xtrain, ytrain)\n",
    "y_pred = svr_model.predict(xtest)\n",
    "evaluation_metrics(ytest, y_pred)\n",
    "print(\"\\n\")\n",
    "\n",
    "xtrain, xtest, ytrain, ytest = train_test_splitting(data_pca_50target, \"50_target\")\n",
    "svr_model = SVR().fit(xtrain, ytrain)\n",
    "y_pred = svr_model.predict(xtest)\n",
    "evaluation_metrics(ytest, y_pred)\n",
    "print(\"\\n\")\n",
    "\n",
    "xtrain, xtest, ytrain, ytest = train_test_splitting(data_pca_90target, \"90_target\")\n",
    "svr_model = SVR().fit(xtrain, ytrain)\n",
    "y_pred = svr_model.predict(xtest)\n",
    "evaluation_metrics(ytest, y_pred)\n",
    "print(\"\\n\")"
   ]
  },
  {
   "cell_type": "markdown",
   "metadata": {
    "colab_type": "text",
    "id": "fe66eRV1ps4r"
   },
   "source": [
    "### **5.1.2. Correlation based FS**"
   ]
  },
  {
   "cell_type": "code",
   "execution_count": 30,
   "metadata": {
    "colab": {
     "base_uri": "https://localhost:8080/",
     "height": 330
    },
    "colab_type": "code",
    "id": "b6cwDZ8Cps4r",
    "outputId": "09f92216-14de-422c-bf57-5c30bc1183f4"
   },
   "outputs": [
    {
     "name": "stdout",
     "output_type": "stream",
     "text": [
      "(4625, 8) (1542, 8) (4625,) (1542,)\n",
      "MSE :  214.0049425828749\n",
      "RMSE:  14.628907771357193\n",
      "MAE :  14.259698708312802\n",
      "\n",
      "\n",
      "(4625, 8) (1542, 8) (4625,) (1542,)\n",
      "MSE :  1958.2577941961015\n",
      "RMSE:  44.252206659059404\n",
      "MAE :  31.46691984009197\n",
      "\n",
      "\n",
      "(4625, 8) (1542, 8) (4625,) (1542,)\n",
      "MSE :  2247.2124074788635\n",
      "RMSE:  47.404771990579846\n",
      "MAE :  32.48698480900217\n",
      "\n",
      "\n"
     ]
    }
   ],
   "source": [
    "xtrain, xtest, ytrain, ytest = train_test_splitting(data_corr_20target, \"20_target\")\n",
    "svr_model = SVR().fit(xtrain, ytrain)\n",
    "y_pred = svr_model.predict(xtest)\n",
    "evaluation_metrics(ytest, y_pred)\n",
    "print(\"\\n\")\n",
    "\n",
    "xtrain, xtest, ytrain, ytest = train_test_splitting(data_corr_50target, \"50_target\")\n",
    "svr_model = SVR().fit(xtrain, ytrain)\n",
    "y_pred = svr_model.predict(xtest)\n",
    "evaluation_metrics(ytest, y_pred)\n",
    "print(\"\\n\")\n",
    "\n",
    "xtrain, xtest, ytrain, ytest = train_test_splitting(data_corr_90target, \"90_target\")\n",
    "svr_model = SVR().fit(xtrain, ytrain)\n",
    "y_pred = svr_model.predict(xtest)\n",
    "evaluation_metrics(ytest, y_pred)\n",
    "print(\"\\n\")"
   ]
  },
  {
   "cell_type": "markdown",
   "metadata": {
    "colab_type": "text",
    "id": "x7Ek8QUtps4v"
   },
   "source": [
    "#### **5.1.3. RandomForest based FS**"
   ]
  },
  {
   "cell_type": "code",
   "execution_count": 31,
   "metadata": {
    "colab": {
     "base_uri": "https://localhost:8080/",
     "height": 330
    },
    "colab_type": "code",
    "id": "yygbXMpJps4w",
    "outputId": "8b46fcdd-67f4-4eea-88b1-472bf3aabf72"
   },
   "outputs": [
    {
     "name": "stdout",
     "output_type": "stream",
     "text": [
      "(4625, 10) (1542, 10) (4625,) (1542,)\n",
      "MSE :  213.39415203576232\n",
      "RMSE:  14.608016704390858\n",
      "MAE :  14.154191485393268\n",
      "\n",
      "\n",
      "(4625, 10) (1542, 10) (4625,) (1542,)\n",
      "MSE :  1694.4276014128977\n",
      "RMSE:  41.163425530595696\n",
      "MAE :  32.71651872876039\n",
      "\n",
      "\n",
      "(4625, 10) (1542, 10) (4625,) (1542,)\n",
      "MSE :  2255.3505890920233\n",
      "RMSE:  47.490531573062256\n",
      "MAE :  32.82889392706668\n",
      "\n",
      "\n"
     ]
    }
   ],
   "source": [
    "xtrain, xtest, ytrain, ytest = train_test_splitting(data_rf_20target, \"20_target\")\n",
    "svr_model = SVR().fit(xtrain, ytrain)\n",
    "y_pred = svr_model.predict(xtest)\n",
    "evaluation_metrics(ytest, y_pred)\n",
    "print(\"\\n\")\n",
    "\n",
    "xtrain, xtest, ytrain, ytest = train_test_splitting(data_rf_50target, \"50_target\")\n",
    "svr_model = SVR().fit(xtrain, ytrain)\n",
    "y_pred = svr_model.predict(xtest)\n",
    "evaluation_metrics(ytest, y_pred)\n",
    "print(\"\\n\")\n",
    "\n",
    "xtrain, xtest, ytrain, ytest = train_test_splitting(data_rf_90target, \"90_target\")\n",
    "svr_model = SVR().fit(xtrain, ytrain)\n",
    "y_pred = svr_model.predict(xtest)\n",
    "evaluation_metrics(ytest, y_pred)\n",
    "print(\"\\n\")"
   ]
  },
  {
   "cell_type": "code",
   "execution_count": 32,
   "metadata": {
    "colab": {
     "base_uri": "https://localhost:8080/",
     "height": 330
    },
    "colab_type": "code",
    "id": "93skXPTwqff5",
    "outputId": "0e3cb86b-596d-433d-bf75-06fcdd39fb35"
   },
   "outputs": [
    {
     "name": "stdout",
     "output_type": "stream",
     "text": [
      "(4625, 132) (1542, 132) (4625,) (1542,)\n",
      "MSE :  209.09076023502757\n",
      "RMSE:  14.45997096245451\n",
      "MAE :  14.18101621810999\n",
      "\n",
      "\n",
      "(4625, 132) (1542, 132) (4625,) (1542,)\n",
      "MSE :  1708.8518052718427\n",
      "RMSE:  41.338260791569866\n",
      "MAE :  32.777513793046104\n",
      "\n",
      "\n",
      "(4625, 132) (1542, 132) (4625,) (1542,)\n",
      "MSE :  2338.040890378509\n",
      "RMSE:  48.353292446104525\n",
      "MAE :  32.980856828720896\n",
      "\n",
      "\n"
     ]
    }
   ],
   "source": [
    "xtrain, xtest, ytrain, ytest = train_test_splitting(data_minmax_20target, \"20_target\")\n",
    "svr_model = SVR().fit(xtrain, ytrain)\n",
    "y_pred = svr_model.predict(xtest)\n",
    "evaluation_metrics(ytest, y_pred)\n",
    "print(\"\\n\")\n",
    "\n",
    "xtrain, xtest, ytrain, ytest = train_test_splitting(data_minmax_50target, \"50_target\")\n",
    "svr_model = SVR().fit(xtrain, ytrain)\n",
    "y_pred = svr_model.predict(xtest)\n",
    "evaluation_metrics(ytest, y_pred)\n",
    "print(\"\\n\")\n",
    "\n",
    "xtrain, xtest, ytrain, ytest = train_test_splitting(data_minmax_90target, \"90_target\")\n",
    "svr_model = SVR().fit(xtrain, ytrain)\n",
    "y_pred = svr_model.predict(xtest)\n",
    "evaluation_metrics(ytest, y_pred)\n",
    "print(\"\\n\")"
   ]
  },
  {
   "cell_type": "markdown",
   "metadata": {
    "colab_type": "text",
    "id": "HKWD899Dps4y"
   },
   "source": [
    "## **5.2. Gradient Boosting Regressor**"
   ]
  },
  {
   "cell_type": "markdown",
   "metadata": {
    "colab_type": "text",
    "id": "j1A-YZ9Dps4z"
   },
   "source": [
    "#### **5.2.1. PCA based FS**"
   ]
  },
  {
   "cell_type": "code",
   "execution_count": 33,
   "metadata": {
    "colab": {
     "base_uri": "https://localhost:8080/",
     "height": 295
    },
    "colab_type": "code",
    "id": "scEzoxANps4z",
    "outputId": "2b49a129-64d5-46fe-a479-47f49d66bb29"
   },
   "outputs": [
    {
     "name": "stdout",
     "output_type": "stream",
     "text": [
      "(4625, 19) (1542, 19) (4625,) (1542,)\n",
      "MSE :  225.62177468878383\n",
      "RMSE:  15.020711524051842\n",
      "MAE :  14.390900242242985\n",
      "\n",
      "\n",
      "(4625, 19) (1542, 19) (4625,) (1542,)\n",
      "MSE :  1235.254096987591\n",
      "RMSE:  35.14618182658809\n",
      "MAE :  33.284939201027356\n",
      "\n",
      "\n",
      "(4625, 19) (1542, 19) (4625,) (1542,)\n",
      "MSE :  1390.9246381519486\n",
      "RMSE:  37.29510206651737\n",
      "MAE :  35.03168124724531\n"
     ]
    }
   ],
   "source": [
    "xtrain, xtest, ytrain, ytest = train_test_splitting(data_pca_20target, \"20_target\")\n",
    "svr_model = GradientBoostingRegressor().fit(xtrain, ytrain)\n",
    "y_pred = svr_model.predict(xtest)\n",
    "evaluation_metrics(ytest, y_pred)\n",
    "print(\"\\n\")\n",
    "\n",
    "xtrain, xtest, ytrain, ytest = train_test_splitting(data_pca_50target, \"50_target\")\n",
    "svr_model = GradientBoostingRegressor().fit(xtrain, ytrain)\n",
    "y_pred = svr_model.predict(xtest)\n",
    "evaluation_metrics(ytest, y_pred)\n",
    "print(\"\\n\")\n",
    "\n",
    "xtrain, xtest, ytrain, ytest = train_test_splitting(data_pca_90target, \"90_target\")\n",
    "svr_model = GradientBoostingRegressor().fit(xtrain, ytrain)\n",
    "y_pred = svr_model.predict(xtest)\n",
    "evaluation_metrics(ytest, y_pred)"
   ]
  },
  {
   "cell_type": "markdown",
   "metadata": {
    "colab_type": "text",
    "id": "lPJzABu1ps42"
   },
   "source": [
    "#### **5.2.2. Correlation based FS**"
   ]
  },
  {
   "cell_type": "code",
   "execution_count": 34,
   "metadata": {
    "colab": {
     "base_uri": "https://localhost:8080/",
     "height": 295
    },
    "colab_type": "code",
    "id": "VmzcP-pdps42",
    "outputId": "1df9b7fe-f03a-472f-a059-88a1097f8ccc"
   },
   "outputs": [
    {
     "name": "stdout",
     "output_type": "stream",
     "text": [
      "(4625, 8) (1542, 8) (4625,) (1542,)\n",
      "MSE :  216.2112097621965\n",
      "RMSE:  14.704122203048929\n",
      "MAE :  14.141681356344874\n",
      "\n",
      "\n",
      "(4625, 8) (1542, 8) (4625,) (1542,)\n",
      "MSE :  1320.1390090123878\n",
      "RMSE:  36.33371724737764\n",
      "MAE :  33.111975102152286\n",
      "\n",
      "\n",
      "(4625, 8) (1542, 8) (4625,) (1542,)\n",
      "MSE :  1466.865216234242\n",
      "RMSE:  38.29967645077752\n",
      "MAE :  35.20720451091801\n"
     ]
    }
   ],
   "source": [
    "xtrain, xtest, ytrain, ytest = train_test_splitting(data_corr_20target, \"20_target\")\n",
    "svr_model = GradientBoostingRegressor().fit(xtrain, ytrain)\n",
    "y_pred = svr_model.predict(xtest)\n",
    "evaluation_metrics(ytest, y_pred)\n",
    "print(\"\\n\")\n",
    "\n",
    "xtrain, xtest, ytrain, ytest = train_test_splitting(data_corr_50target, \"50_target\")\n",
    "svr_model = GradientBoostingRegressor().fit(xtrain, ytrain)\n",
    "y_pred = svr_model.predict(xtest)\n",
    "evaluation_metrics(ytest, y_pred)\n",
    "print(\"\\n\")\n",
    "\n",
    "xtrain, xtest, ytrain, ytest = train_test_splitting(data_corr_90target, \"90_target\")\n",
    "svr_model = GradientBoostingRegressor().fit(xtrain, ytrain)\n",
    "y_pred = svr_model.predict(xtest)\n",
    "evaluation_metrics(ytest, y_pred)"
   ]
  },
  {
   "cell_type": "markdown",
   "metadata": {
    "colab_type": "text",
    "id": "1mD4j_h0ps44"
   },
   "source": [
    "#### **5.2.3. RandomForest based FS**"
   ]
  },
  {
   "cell_type": "code",
   "execution_count": 35,
   "metadata": {
    "colab": {
     "base_uri": "https://localhost:8080/",
     "height": 295
    },
    "colab_type": "code",
    "id": "lGjND8dbps45",
    "outputId": "1cc6f2e9-2f60-4bd9-aeb8-d2b6545ef52d"
   },
   "outputs": [
    {
     "name": "stdout",
     "output_type": "stream",
     "text": [
      "(4625, 10) (1542, 10) (4625,) (1542,)\n",
      "MSE :  222.8304992012547\n",
      "RMSE:  14.92750813770519\n",
      "MAE :  14.051781368934192\n",
      "\n",
      "\n",
      "(4625, 10) (1542, 10) (4625,) (1542,)\n",
      "MSE :  1270.5869813191164\n",
      "RMSE:  35.64529395753549\n",
      "MAE :  33.8304603095162\n",
      "\n",
      "\n",
      "(4625, 10) (1542, 10) (4625,) (1542,)\n",
      "MSE :  1848.5297365153988\n",
      "RMSE:  42.99453147221631\n",
      "MAE :  37.7403359067153\n"
     ]
    }
   ],
   "source": [
    "xtrain, xtest, ytrain, ytest = train_test_splitting(data_rf_20target, \"20_target\")\n",
    "svr_model = GradientBoostingRegressor().fit(xtrain, ytrain)\n",
    "y_pred = svr_model.predict(xtest)\n",
    "evaluation_metrics(ytest, y_pred)\n",
    "print(\"\\n\")\n",
    "\n",
    "xtrain, xtest, ytrain, ytest = train_test_splitting(data_rf_50target, \"50_target\")\n",
    "svr_model = GradientBoostingRegressor().fit(xtrain, ytrain)\n",
    "y_pred = svr_model.predict(xtest)\n",
    "evaluation_metrics(ytest, y_pred)\n",
    "print(\"\\n\")\n",
    "\n",
    "xtrain, xtest, ytrain, ytest = train_test_splitting(data_rf_90target, \"90_target\")\n",
    "svr_model = GradientBoostingRegressor().fit(xtrain, ytrain)\n",
    "y_pred = svr_model.predict(xtest)\n",
    "evaluation_metrics(ytest, y_pred)"
   ]
  },
  {
   "cell_type": "markdown",
   "metadata": {
    "colab_type": "text",
    "id": "qVZULx--Hfqe"
   },
   "source": [
    "#### **5.2.4. Without Feature Selection**"
   ]
  },
  {
   "cell_type": "code",
   "execution_count": 57,
   "metadata": {
    "colab": {
     "base_uri": "https://localhost:8080/",
     "height": 295
    },
    "colab_type": "code",
    "id": "kIC3MLYfHgOf",
    "outputId": "0f9d3ead-c0bf-42d8-ae4f-2767a80205d7"
   },
   "outputs": [
    {
     "name": "stdout",
     "output_type": "stream",
     "text": [
      "(4625, 132) (1542, 132) (4625,) (1542,)\n",
      "MSE :  810.9449088716347\n",
      "RMSE:  28.477094459787057\n",
      "MAE :  22.048537103360967\n",
      "\n",
      "\n",
      "(4625, 132) (1542, 132) (4625,) (1542,)\n",
      "MSE :  1762.3691088162104\n",
      "RMSE:  41.980580139109684\n",
      "MAE :  35.508178081610815\n",
      "\n",
      "\n",
      "(4625, 132) (1542, 132) (4625,) (1542,)\n",
      "MSE :  1761.9665865803177\n",
      "RMSE:  41.97578571724796\n",
      "MAE :  35.84749594063015\n"
     ]
    }
   ],
   "source": [
    "xtrain, xtest, ytrain, ytest = train_test_splitting(data_minmax_20target, \"20_target\")\n",
    "gbt = GradientBoostingRegressor()\n",
    "gbt_model = gbt.fit(xtrain, ytrain)\n",
    "y_pred = svr_model.predict(xtest)\n",
    "evaluation_metrics(ytest, y_pred)\n",
    "print(\"\\n\")\n",
    "\n",
    "xtrain, xtest, ytrain, ytest = train_test_splitting(data_minmax_50target, \"50_target\")\n",
    "svr_model = GradientBoostingRegressor().fit(xtrain, ytrain)\n",
    "y_pred = svr_model.predict(xtest)\n",
    "evaluation_metrics(ytest, y_pred)\n",
    "print(\"\\n\")\n",
    "\n",
    "xtrain, xtest, ytrain, ytest = train_test_splitting(data_minmax_90target, \"90_target\")\n",
    "svr_model = GradientBoostingRegressor().fit(xtrain, ytrain)\n",
    "y_pred = svr_model.predict(xtest)\n",
    "evaluation_metrics(ytest, y_pred)"
   ]
  },
  {
   "cell_type": "markdown",
   "metadata": {
    "colab_type": "text",
    "id": "EQzlpXfeps48"
   },
   "source": [
    "## **5.3. Cat Boost Regressor**"
   ]
  },
  {
   "cell_type": "markdown",
   "metadata": {
    "colab_type": "text",
    "id": "1r7dg5gDps48"
   },
   "source": [
    "### **5.3.1. PCA based FS**"
   ]
  },
  {
   "cell_type": "code",
   "execution_count": 37,
   "metadata": {
    "colab": {
     "base_uri": "https://localhost:8080/",
     "height": 295
    },
    "colab_type": "code",
    "id": "_2lQhJ4jps48",
    "outputId": "f08a738c-6cd5-4741-9408-937545f7f445"
   },
   "outputs": [
    {
     "name": "stdout",
     "output_type": "stream",
     "text": [
      "(4625, 19) (1542, 19) (4625,) (1542,)\n",
      "MSE :  244.22485508477286\n",
      "RMSE:  15.62769513027346\n",
      "MAE :  14.336241137687471\n",
      "\n",
      "\n",
      "(4625, 19) (1542, 19) (4625,) (1542,)\n",
      "MSE :  1390.7214079968198\n",
      "RMSE:  37.292377344395994\n",
      "MAE :  33.52816453913393\n",
      "\n",
      "\n",
      "(4625, 19) (1542, 19) (4625,) (1542,)\n",
      "MSE :  1579.8613026741\n",
      "RMSE:  39.74746913545692\n",
      "MAE :  35.29479624541436\n"
     ]
    }
   ],
   "source": [
    "xtrain, xtest, ytrain, ytest = train_test_splitting(data_pca_20target, \"20_target\")\n",
    "svr_model = CatBoostRegressor(verbose=0).fit(xtrain, ytrain)\n",
    "y_pred = svr_model.predict(xtest)\n",
    "evaluation_metrics(ytest, y_pred)\n",
    "print(\"\\n\")\n",
    "\n",
    "xtrain, xtest, ytrain, ytest = train_test_splitting(data_pca_50target, \"50_target\")\n",
    "svr_model = CatBoostRegressor(verbose=0).fit(xtrain, ytrain)\n",
    "y_pred = svr_model.predict(xtest)\n",
    "evaluation_metrics(ytest, y_pred)\n",
    "print(\"\\n\")\n",
    "\n",
    "xtrain, xtest, ytrain, ytest = train_test_splitting(data_pca_90target, \"90_target\")\n",
    "svr_model = CatBoostRegressor(verbose=0).fit(xtrain, ytrain)\n",
    "y_pred = svr_model.predict(xtest)\n",
    "evaluation_metrics(ytest, y_pred)"
   ]
  },
  {
   "cell_type": "markdown",
   "metadata": {
    "colab_type": "text",
    "id": "bNGB0Q-2ps4-"
   },
   "source": [
    "#### **5.3.2. Correlation based FS**"
   ]
  },
  {
   "cell_type": "code",
   "execution_count": 38,
   "metadata": {
    "colab": {
     "base_uri": "https://localhost:8080/",
     "height": 295
    },
    "colab_type": "code",
    "id": "h7tlI3Wfps4_",
    "outputId": "d6505b2f-a35a-4f07-e448-be63efe2b5be"
   },
   "outputs": [
    {
     "name": "stdout",
     "output_type": "stream",
     "text": [
      "(4625, 8) (1542, 8) (4625,) (1542,)\n",
      "MSE :  238.54953144652134\n",
      "RMSE:  15.445048768020168\n",
      "MAE :  14.22157325850185\n",
      "\n",
      "\n",
      "(4625, 8) (1542, 8) (4625,) (1542,)\n",
      "MSE :  1347.2002977619268\n",
      "RMSE:  36.70422724648929\n",
      "MAE :  31.780926645830778\n",
      "\n",
      "\n",
      "(4625, 8) (1542, 8) (4625,) (1542,)\n",
      "MSE :  1622.5621083260703\n",
      "RMSE:  40.28103906711035\n",
      "MAE :  34.84690052881042\n"
     ]
    }
   ],
   "source": [
    "xtrain, xtest, ytrain, ytest = train_test_splitting(data_corr_20target, \"20_target\")\n",
    "svr_model = CatBoostRegressor(verbose=0).fit(xtrain, ytrain)\n",
    "y_pred = svr_model.predict(xtest)\n",
    "evaluation_metrics(ytest, y_pred)\n",
    "print(\"\\n\")\n",
    "\n",
    "xtrain, xtest, ytrain, ytest = train_test_splitting(data_corr_50target, \"50_target\")\n",
    "svr_model = CatBoostRegressor(verbose=0).fit(xtrain, ytrain)\n",
    "y_pred = svr_model.predict(xtest)\n",
    "evaluation_metrics(ytest, y_pred)\n",
    "print(\"\\n\")\n",
    "\n",
    "xtrain, xtest, ytrain, ytest = train_test_splitting(data_corr_90target, \"90_target\")\n",
    "svr_model = CatBoostRegressor(verbose=0).fit(xtrain, ytrain)\n",
    "y_pred = svr_model.predict(xtest)\n",
    "evaluation_metrics(ytest, y_pred)"
   ]
  },
  {
   "cell_type": "markdown",
   "metadata": {
    "colab_type": "text",
    "id": "awTdIYF6ps5C"
   },
   "source": [
    "#### **5.3.3. RandomForest based FS**"
   ]
  },
  {
   "cell_type": "code",
   "execution_count": 39,
   "metadata": {
    "colab": {
     "base_uri": "https://localhost:8080/",
     "height": 295
    },
    "colab_type": "code",
    "id": "QoW9F2XTps5C",
    "outputId": "eb2cf6e9-1893-4494-ac8c-6a01a3695b33"
   },
   "outputs": [
    {
     "name": "stdout",
     "output_type": "stream",
     "text": [
      "(4625, 10) (1542, 10) (4625,) (1542,)\n",
      "MSE :  254.73795654698338\n",
      "RMSE:  15.960512414925262\n",
      "MAE :  14.346577144372016\n",
      "\n",
      "\n",
      "(4625, 10) (1542, 10) (4625,) (1542,)\n",
      "MSE :  1808.8317702168986\n",
      "RMSE:  42.53036292129305\n",
      "MAE :  37.085379096808275\n",
      "\n",
      "\n",
      "(4625, 10) (1542, 10) (4625,) (1542,)\n",
      "MSE :  1784.4504254244716\n",
      "RMSE:  42.242755892868445\n",
      "MAE :  36.55853613593912\n"
     ]
    }
   ],
   "source": [
    "xtrain, xtest, ytrain, ytest = train_test_splitting(data_rf_20target, \"20_target\")\n",
    "svr_model = CatBoostRegressor(verbose=0).fit(xtrain, ytrain)\n",
    "y_pred = svr_model.predict(xtest)\n",
    "evaluation_metrics(ytest, y_pred)\n",
    "print(\"\\n\")\n",
    "\n",
    "xtrain, xtest, ytrain, ytest = train_test_splitting(data_rf_50target, \"50_target\")\n",
    "svr_model = CatBoostRegressor(verbose=0).fit(xtrain, ytrain)\n",
    "y_pred = svr_model.predict(xtest)\n",
    "evaluation_metrics(ytest, y_pred)\n",
    "print(\"\\n\")\n",
    "\n",
    "xtrain, xtest, ytrain, ytest = train_test_splitting(data_rf_90target, \"90_target\")\n",
    "svr_model = CatBoostRegressor(verbose=0).fit(xtrain, ytrain)\n",
    "y_pred = svr_model.predict(xtest)\n",
    "evaluation_metrics(ytest, y_pred)"
   ]
  },
  {
   "cell_type": "markdown",
   "metadata": {
    "colab_type": "text",
    "id": "dwbmkLmgHMmA"
   },
   "source": [
    "#### **5.3.4. Without Feature Selection**"
   ]
  },
  {
   "cell_type": "code",
   "execution_count": 56,
   "metadata": {
    "colab": {
     "base_uri": "https://localhost:8080/",
     "height": 295
    },
    "colab_type": "code",
    "id": "7ezPu43yHM7F",
    "outputId": "cc7c53d3-9016-4794-e924-43292623ce61"
   },
   "outputs": [
    {
     "name": "stdout",
     "output_type": "stream",
     "text": [
      "(4625, 132) (1542, 132) (4625,) (1542,)\n",
      "MSE :  267.8615428634761\n",
      "RMSE:  16.366476189561272\n",
      "MAE :  14.90056734690578\n",
      "\n",
      "\n",
      "(4625, 132) (1542, 132) (4625,) (1542,)\n",
      "MSE :  1583.0269168907005\n",
      "RMSE:  39.78727078967217\n",
      "MAE :  36.38018082853497\n",
      "\n",
      "\n",
      "(4625, 132) (1542, 132) (4625,) (1542,)\n",
      "MSE :  1975.7094164657503\n",
      "RMSE:  44.448952928789566\n",
      "MAE :  39.803310856187295\n"
     ]
    }
   ],
   "source": [
    "xtrain, xtest, ytrain, ytest = train_test_splitting(data_minmax_20target, \"20_target\")\n",
    "cat = CatBoostRegressor(verbose=0)\n",
    "cat_model = cat.fit(xtrain, ytrain)\n",
    "y_pred = cat_model.predict(xtest)\n",
    "evaluation_metrics(ytest, y_pred)\n",
    "print(\"\\n\")\n",
    "\n",
    "xtrain, xtest, ytrain, ytest = train_test_splitting(data_minmax_50target, \"50_target\")\n",
    "svr_model = CatBoostRegressor(verbose=0).fit(xtrain, ytrain)\n",
    "y_pred = svr_model.predict(xtest)\n",
    "evaluation_metrics(ytest, y_pred)\n",
    "print(\"\\n\")\n",
    "\n",
    "xtrain, xtest, ytrain, ytest = train_test_splitting(data_minmax_90target, \"90_target\")\n",
    "svr_model = CatBoostRegressor(verbose=0).fit(xtrain, ytrain)\n",
    "y_pred = svr_model.predict(xtest)\n",
    "evaluation_metrics(ytest, y_pred)"
   ]
  },
  {
   "cell_type": "markdown",
   "metadata": {
    "colab_type": "text",
    "id": "Efy0xEymGYSY"
   },
   "source": [
    "## **5.4. XGBoost Regressor**"
   ]
  },
  {
   "cell_type": "markdown",
   "metadata": {
    "colab_type": "text",
    "id": "nRdUmeQtGcx8"
   },
   "source": [
    "### **5.4.1. PCA based Feature Selecction**"
   ]
  },
  {
   "cell_type": "code",
   "execution_count": 55,
   "metadata": {
    "colab": {
     "base_uri": "https://localhost:8080/",
     "height": 367
    },
    "colab_type": "code",
    "id": "tjKqcimuGqd6",
    "outputId": "7228fff8-4bdb-402b-8cdf-195c938b8b56"
   },
   "outputs": [
    {
     "name": "stdout",
     "output_type": "stream",
     "text": [
      "(4625, 19) (1542, 19) (4625,) (1542,)\n",
      "[17:18:21] WARNING: ../src/learner.cc:516: \n",
      "Parameters: { verbose } might not be used.\n",
      "\n",
      "  This may not be accurate due to some parameters are only used in language bindings but\n",
      "  passed down to XGBoost core.  Or some parameters are not used but slip through this\n",
      "  verification. Please open an issue if you find above cases.\n",
      "\n",
      "\n",
      "MSE :  282.18503130863047\n",
      "RMSE:  16.79836394737983\n",
      "MAE :  14.878491097126126\n",
      "\n",
      "\n",
      "(4625, 19) (1542, 19) (4625,) (1542,)\n",
      "[17:18:21] WARNING: ../src/learner.cc:516: \n",
      "Parameters: { verbose } might not be used.\n",
      "\n",
      "  This may not be accurate due to some parameters are only used in language bindings but\n",
      "  passed down to XGBoost core.  Or some parameters are not used but slip through this\n",
      "  verification. Please open an issue if you find above cases.\n",
      "\n",
      "\n",
      "MSE :  1534.4346319005201\n",
      "RMSE:  39.17186020475055\n",
      "MAE :  34.33045135172113\n",
      "\n",
      "\n",
      "(4625, 19) (1542, 19) (4625,) (1542,)\n",
      "[17:18:22] WARNING: ../src/learner.cc:516: \n",
      "Parameters: { verbose } might not be used.\n",
      "\n",
      "  This may not be accurate due to some parameters are only used in language bindings but\n",
      "  passed down to XGBoost core.  Or some parameters are not used but slip through this\n",
      "  verification. Please open an issue if you find above cases.\n",
      "\n",
      "\n",
      "MSE :  1691.407572785892\n",
      "RMSE:  41.12672577273678\n",
      "MAE :  35.81821421019888\n"
     ]
    }
   ],
   "source": [
    "xtrain, xtest, ytrain, ytest = train_test_splitting(data_pca_20target, \"20_target\")\n",
    "xgb = XGBRegressor(verbose=0)\n",
    "xgb_model = xgb.fit(xtrain, ytrain)\n",
    "y_pred = xgb_model.predict(xtest)\n",
    "evaluation_metrics(ytest, y_pred)\n",
    "print(\"\\n\")\n",
    "\n",
    "xtrain, xtest, ytrain, ytest = train_test_splitting(data_pca_50target, \"50_target\")\n",
    "svr_model = XGBRegressor(verbose=0).fit(xtrain, ytrain)\n",
    "y_pred = svr_model.predict(xtest)\n",
    "evaluation_metrics(ytest, y_pred)\n",
    "print(\"\\n\")\n",
    "\n",
    "xtrain, xtest, ytrain, ytest = train_test_splitting(data_pca_90target, \"90_target\")\n",
    "svr_model = XGBRegressor(verbose=0).fit(xtrain, ytrain)\n",
    "y_pred = svr_model.predict(xtest)\n",
    "evaluation_metrics(ytest, y_pred)"
   ]
  },
  {
   "cell_type": "markdown",
   "metadata": {
    "colab_type": "text",
    "id": "teN1-Yb2GcuZ"
   },
   "source": [
    "### **5.4.2. Correlation based Feature Selecction**"
   ]
  },
  {
   "cell_type": "code",
   "execution_count": 42,
   "metadata": {
    "colab": {
     "base_uri": "https://localhost:8080/",
     "height": 367
    },
    "colab_type": "code",
    "id": "zoMUcSXcGqvZ",
    "outputId": "73d1bcea-9211-4aec-e668-443d18ccc4ce"
   },
   "outputs": [
    {
     "name": "stdout",
     "output_type": "stream",
     "text": [
      "(4625, 8) (1542, 8) (4625,) (1542,)\n",
      "[17:14:29] WARNING: ../src/learner.cc:516: \n",
      "Parameters: { verbose } might not be used.\n",
      "\n",
      "  This may not be accurate due to some parameters are only used in language bindings but\n",
      "  passed down to XGBoost core.  Or some parameters are not used but slip through this\n",
      "  verification. Please open an issue if you find above cases.\n",
      "\n",
      "\n",
      "MSE :  280.07037607862196\n",
      "RMSE:  16.73530328612607\n",
      "MAE :  14.701895126061263\n",
      "\n",
      "\n",
      "(4625, 8) (1542, 8) (4625,) (1542,)\n",
      "[17:14:29] WARNING: ../src/learner.cc:516: \n",
      "Parameters: { verbose } might not be used.\n",
      "\n",
      "  This may not be accurate due to some parameters are only used in language bindings but\n",
      "  passed down to XGBoost core.  Or some parameters are not used but slip through this\n",
      "  verification. Please open an issue if you find above cases.\n",
      "\n",
      "\n",
      "MSE :  1593.4087276712241\n",
      "RMSE:  39.91752406739707\n",
      "MAE :  32.97255169592073\n",
      "\n",
      "\n",
      "(4625, 8) (1542, 8) (4625,) (1542,)\n",
      "[17:14:29] WARNING: ../src/learner.cc:516: \n",
      "Parameters: { verbose } might not be used.\n",
      "\n",
      "  This may not be accurate due to some parameters are only used in language bindings but\n",
      "  passed down to XGBoost core.  Or some parameters are not used but slip through this\n",
      "  verification. Please open an issue if you find above cases.\n",
      "\n",
      "\n",
      "MSE :  1967.5966091919497\n",
      "RMSE:  44.35759922709918\n",
      "MAE :  37.47251019774918\n"
     ]
    }
   ],
   "source": [
    "xtrain, xtest, ytrain, ytest = train_test_splitting(data_corr_20target, \"20_target\")\n",
    "svr_model = XGBRegressor(verbose=0).fit(xtrain, ytrain)\n",
    "y_pred = svr_model.predict(xtest)\n",
    "evaluation_metrics(ytest, y_pred)\n",
    "print(\"\\n\")\n",
    "\n",
    "xtrain, xtest, ytrain, ytest = train_test_splitting(data_corr_50target, \"50_target\")\n",
    "svr_model = XGBRegressor(verbose=0).fit(xtrain, ytrain)\n",
    "y_pred = svr_model.predict(xtest)\n",
    "evaluation_metrics(ytest, y_pred)\n",
    "print(\"\\n\")\n",
    "\n",
    "xtrain, xtest, ytrain, ytest = train_test_splitting(data_corr_90target, \"90_target\")\n",
    "svr_model = XGBRegressor(verbose=0).fit(xtrain, ytrain)\n",
    "y_pred = svr_model.predict(xtest)\n",
    "evaluation_metrics(ytest, y_pred)"
   ]
  },
  {
   "cell_type": "markdown",
   "metadata": {
    "colab_type": "text",
    "id": "VM6rh1oXGcrD"
   },
   "source": [
    "### **5.4.3. RandomForest based Feature Selecction**"
   ]
  },
  {
   "cell_type": "code",
   "execution_count": 48,
   "metadata": {
    "colab": {
     "base_uri": "https://localhost:8080/",
     "height": 367
    },
    "colab_type": "code",
    "id": "c3A9bLHYGrQ7",
    "outputId": "bd1935dd-1630-4503-b8cf-b2785da34370"
   },
   "outputs": [
    {
     "name": "stdout",
     "output_type": "stream",
     "text": [
      "(4625, 10) (1542, 10) (4625,) (1542,)\n",
      "[17:15:09] WARNING: ../src/learner.cc:516: \n",
      "Parameters: { verbose } might not be used.\n",
      "\n",
      "  This may not be accurate due to some parameters are only used in language bindings but\n",
      "  passed down to XGBoost core.  Or some parameters are not used but slip through this\n",
      "  verification. Please open an issue if you find above cases.\n",
      "\n",
      "\n",
      "MSE :  295.05231479032796\n",
      "RMSE:  17.17708691223072\n",
      "MAE :  14.795341724759844\n",
      "\n",
      "\n",
      "(4625, 10) (1542, 10) (4625,) (1542,)\n",
      "[17:15:09] WARNING: ../src/learner.cc:516: \n",
      "Parameters: { verbose } might not be used.\n",
      "\n",
      "  This may not be accurate due to some parameters are only used in language bindings but\n",
      "  passed down to XGBoost core.  Or some parameters are not used but slip through this\n",
      "  verification. Please open an issue if you find above cases.\n",
      "\n",
      "\n",
      "MSE :  1709.9733783022166\n",
      "RMSE:  41.35182436485985\n",
      "MAE :  34.96873406571676\n",
      "\n",
      "\n",
      "(4625, 10) (1542, 10) (4625,) (1542,)\n",
      "[17:15:10] WARNING: ../src/learner.cc:516: \n",
      "Parameters: { verbose } might not be used.\n",
      "\n",
      "  This may not be accurate due to some parameters are only used in language bindings but\n",
      "  passed down to XGBoost core.  Or some parameters are not used but slip through this\n",
      "  verification. Please open an issue if you find above cases.\n",
      "\n",
      "\n",
      "MSE :  2063.88230126207\n",
      "RMSE:  45.429971398428926\n",
      "MAE :  38.016346624717585\n"
     ]
    }
   ],
   "source": [
    "xtrain, xtest, ytrain, ytest = train_test_splitting(data_rf_20target, \"20_target\")\n",
    "svr_model = XGBRegressor(verbose=0).fit(xtrain, ytrain)\n",
    "y_pred = svr_model.predict(xtest)\n",
    "evaluation_metrics(ytest, y_pred)\n",
    "print(\"\\n\")\n",
    "\n",
    "xtrain, xtest, ytrain, ytest = train_test_splitting(data_rf_50target, \"50_target\")\n",
    "svr_model = XGBRegressor(verbose=0).fit(xtrain, ytrain)\n",
    "y_pred = svr_model.predict(xtest)\n",
    "evaluation_metrics(ytest, y_pred)\n",
    "print(\"\\n\")\n",
    "\n",
    "xtrain, xtest, ytrain, ytest = train_test_splitting(data_rf_90target, \"90_target\")\n",
    "svr_model = XGBRegressor(verbose=0).fit(xtrain, ytrain)\n",
    "y_pred = svr_model.predict(xtest)\n",
    "evaluation_metrics(ytest, y_pred)"
   ]
  },
  {
   "cell_type": "markdown",
   "metadata": {
    "colab_type": "text",
    "id": "dXPM5JPkGnyQ"
   },
   "source": [
    "### **5.4.4. Without Feature Selecction**"
   ]
  },
  {
   "cell_type": "code",
   "execution_count": 46,
   "metadata": {
    "colab": {
     "base_uri": "https://localhost:8080/",
     "height": 367
    },
    "colab_type": "code",
    "id": "eReRrpXfGs5f",
    "outputId": "d431d6e9-87cb-470e-9c68-0a828155197a"
   },
   "outputs": [
    {
     "name": "stdout",
     "output_type": "stream",
     "text": [
      "(4625, 132) (1542, 132) (4625,) (1542,)\n",
      "MSE :  323.03148015201367\n",
      "RMSE:  17.97307653552985\n",
      "MAE :  15.33636774967346\n",
      "\n",
      "\n",
      "(4625, 132) (1542, 132) (4625,) (1542,)\n",
      "MSE :  1674.0994478420953\n",
      "RMSE:  40.91576038450337\n",
      "MAE :  36.19159416296232\n",
      "\n",
      "\n",
      "(4625, 132) (1542, 132) (4625,) (1542,)\n",
      "MSE :  1668.3848451923195\n",
      "RMSE:  40.84586692913152\n",
      "MAE :  36.098510859461264\n"
     ]
    }
   ],
   "source": [
    "xtrain, xtest, ytrain, ytest = train_test_splitting(data_minmax_20target, \"20_target\")\n",
    "svr_model = XGBRegressor().fit(xtrain, ytrain)\n",
    "y_pred = svr_model.predict(xtest)\n",
    "evaluation_metrics(ytest, y_pred)\n",
    "print(\"\\n\")\n",
    "\n",
    "xtrain, xtest, ytrain, ytest = train_test_splitting(data_minmax_50target, \"50_target\")\n",
    "svr_model = XGBRegressor().fit(xtrain, ytrain)\n",
    "y_pred = svr_model.predict(xtest)\n",
    "evaluation_metrics(ytest, y_pred)\n",
    "print(\"\\n\")\n",
    "\n",
    "xtrain, xtest, ytrain, ytest = train_test_splitting(data_minmax_90target, \"90_target\")\n",
    "svr_model = XGBRegressor().fit(xtrain, ytrain)\n",
    "y_pred = svr_model.predict(xtest)\n",
    "evaluation_metrics(ytest, y_pred)"
   ]
  },
  {
   "cell_type": "markdown",
   "metadata": {
    "colab_type": "text",
    "id": "c6xRaYo32_vo"
   },
   "source": [
    "## **5.5. K-NN Regressor**"
   ]
  },
  {
   "cell_type": "code",
   "execution_count": 47,
   "metadata": {
    "colab": {},
    "colab_type": "code",
    "id": "WtDvvP1cQfIR"
   },
   "outputs": [],
   "source": [
    "def KNNRegressor(xtrain, ytrain, xtest):\n",
    "    knn = KNeighborsRegressor()\n",
    "    knn_model = knn.fit(xtrain, ytrain)\n",
    "    y_pred = knn_model.predict(xtest)\n",
    "    return y_pred, knn"
   ]
  },
  {
   "cell_type": "markdown",
   "metadata": {
    "colab_type": "text",
    "id": "-azTAQa53Kbk"
   },
   "source": [
    "### **5.4.4. PCA based Feature Selection**"
   ]
  },
  {
   "cell_type": "code",
   "execution_count": 49,
   "metadata": {
    "colab": {
     "base_uri": "https://localhost:8080/",
     "height": 278
    },
    "colab_type": "code",
    "id": "U7oLvC5u3Z7s",
    "outputId": "7fab8e9a-f573-4b33-8703-a8abb69290af"
   },
   "outputs": [
    {
     "name": "stdout",
     "output_type": "stream",
     "text": [
      "(4625, 19) (1542, 19) (4625,) (1542,)\n",
      "MSE :  255.53091325470731\n",
      "RMSE:  15.985334317889862\n",
      "MAE :  13.748522829364461\n",
      "/n\n",
      "(4625, 19) (1542, 19) (4625,) (1542,)\n",
      "MSE :  1539.0957005439705\n",
      "RMSE:  39.23131020682295\n",
      "MAE :  33.55937459172244\n",
      "/n\n",
      "(4625, 19) (1542, 19) (4625,) (1542,)\n",
      "MSE :  1703.4092382378474\n",
      "RMSE:  41.27237863556991\n",
      "MAE :  35.10585017671985\n",
      "/n\n"
     ]
    }
   ],
   "source": [
    "xtrain, xtest, ytrain, ytest = train_test_splitting(data_pca_20target, \"20_target\")\n",
    "y_pred, knn = KNNRegressor(xtrain, ytrain, xtest)\n",
    "evaluation_metrics(ytest, y_pred)\n",
    "print(\"/n\")\n",
    "\n",
    "xtrain, xtest, ytrain, ytest = train_test_splitting(data_pca_50target, \"50_target\")\n",
    "y_pred, knn = KNNRegressor(xtrain, ytrain, xtest)\n",
    "evaluation_metrics(ytest, y_pred)\n",
    "print(\"/n\")\n",
    "\n",
    "xtrain, xtest, ytrain, ytest = train_test_splitting(data_pca_90target, \"90_target\")\n",
    "y_pred, knn = KNNRegressor(xtrain, ytrain, xtest)\n",
    "evaluation_metrics(ytest, y_pred)\n",
    "print(\"/n\")"
   ]
  },
  {
   "cell_type": "markdown",
   "metadata": {
    "colab_type": "text",
    "id": "ZXbmeY2r3KaD"
   },
   "source": [
    "### **5.4.2. Correlation based Feature Selection**"
   ]
  },
  {
   "cell_type": "code",
   "execution_count": 51,
   "metadata": {
    "colab": {
     "base_uri": "https://localhost:8080/",
     "height": 278
    },
    "colab_type": "code",
    "id": "nq-SDVJy3aQz",
    "outputId": "c9d7397f-9adf-4dc7-c8ac-4a4a1b3f96ff"
   },
   "outputs": [
    {
     "name": "stdout",
     "output_type": "stream",
     "text": [
      "(4625, 8) (1542, 8) (4625,) (1542,)\n",
      "MSE :  284.9256334494302\n",
      "RMSE:  16.879740325296186\n",
      "MAE :  14.825242232603111\n",
      "/n\n",
      "(4625, 8) (1542, 8) (4625,) (1542,)\n",
      "MSE :  1590.2691784672259\n",
      "RMSE:  39.87817922708139\n",
      "MAE :  31.18713569475227\n",
      "/n\n",
      "(4625, 8) (1542, 8) (4625,) (1542,)\n",
      "MSE :  1832.9646735662322\n",
      "RMSE:  42.81313669384938\n",
      "MAE :  34.10782339616731\n",
      "/n\n"
     ]
    }
   ],
   "source": [
    "xtrain, xtest, ytrain, ytest = train_test_splitting(data_corr_20target, \"20_target\")\n",
    "y_pred, knn_model = KNNRegressor(xtrain, ytrain, xtest)\n",
    "evaluation_metrics(ytest, y_pred)\n",
    "print(\"/n\")\n",
    "\n",
    "xtrain, xtest, ytrain, ytest = train_test_splitting(data_corr_50target, \"50_target\")\n",
    "y_pred, knn_model = KNNRegressor(xtrain, ytrain, xtest)\n",
    "evaluation_metrics(ytest, y_pred)\n",
    "print(\"/n\")\n",
    "\n",
    "xtrain, xtest, ytrain, ytest = train_test_splitting(data_corr_90target, \"90_target\")\n",
    "y_pred, knn_model = KNNRegressor(xtrain, ytrain, xtest)\n",
    "evaluation_metrics(ytest, y_pred)\n",
    "print(\"/n\")"
   ]
  },
  {
   "cell_type": "markdown",
   "metadata": {
    "colab_type": "text",
    "id": "WlWZ6hcg3KXy"
   },
   "source": [
    "### **5.4.3. RandomForest based Feature Selection**"
   ]
  },
  {
   "cell_type": "code",
   "execution_count": 52,
   "metadata": {
    "colab": {
     "base_uri": "https://localhost:8080/",
     "height": 278
    },
    "colab_type": "code",
    "id": "EW_DVsFL3apg",
    "outputId": "8d54bd0d-aac9-4316-9081-56ac3b497b97"
   },
   "outputs": [
    {
     "name": "stdout",
     "output_type": "stream",
     "text": [
      "(4625, 8) (1542, 8) (4625,) (1542,)\n",
      "MSE :  284.9256334494302\n",
      "RMSE:  16.879740325296186\n",
      "MAE :  14.825242232603111\n",
      "/n\n",
      "(4625, 8) (1542, 8) (4625,) (1542,)\n",
      "MSE :  1590.2691784672259\n",
      "RMSE:  39.87817922708139\n",
      "MAE :  31.18713569475227\n",
      "/n\n",
      "(4625, 8) (1542, 8) (4625,) (1542,)\n",
      "MSE :  1832.9646735662322\n",
      "RMSE:  42.81313669384938\n",
      "MAE :  34.10782339616731\n",
      "/n\n"
     ]
    }
   ],
   "source": [
    "xtrain, xtest, ytrain, ytest = train_test_splitting(data_corr_20target, \"20_target\")\n",
    "y_pred, knn_model = KNNRegressor(xtrain, ytrain, xtest)\n",
    "evaluation_metrics(ytest, y_pred)\n",
    "print(\"/n\")\n",
    "\n",
    "xtrain, xtest, ytrain, ytest = train_test_splitting(data_corr_50target, \"50_target\")\n",
    "y_pred, knn_model = KNNRegressor(xtrain, ytrain, xtest)\n",
    "evaluation_metrics(ytest, y_pred)\n",
    "print(\"/n\")\n",
    "\n",
    "xtrain, xtest, ytrain, ytest = train_test_splitting(data_corr_90target, \"90_target\")\n",
    "y_pred, knn_model = KNNRegressor(xtrain, ytrain, xtest)\n",
    "evaluation_metrics(ytest, y_pred)\n",
    "print(\"/n\")"
   ]
  },
  {
   "cell_type": "markdown",
   "metadata": {
    "colab_type": "text",
    "id": "CyTOFu-S3KVa"
   },
   "source": [
    "### **5.4.4. Without Feature Selection**"
   ]
  },
  {
   "cell_type": "code",
   "execution_count": 53,
   "metadata": {
    "colab": {
     "base_uri": "https://localhost:8080/",
     "height": 278
    },
    "colab_type": "code",
    "id": "_EuAyJu83a_G",
    "outputId": "bf8bb221-a8e0-449f-c9be-070361bb65ce"
   },
   "outputs": [
    {
     "name": "stdout",
     "output_type": "stream",
     "text": [
      "(4625, 132) (1542, 132) (4625,) (1542,)\n",
      "MSE :  258.03350775658004\n",
      "RMSE:  16.063421421247096\n",
      "MAE :  13.802989271523993\n",
      "/n\n",
      "(4625, 132) (1542, 132) (4625,) (1542,)\n",
      "MSE :  1544.1775994444188\n",
      "RMSE:  39.29602523722239\n",
      "MAE :  33.38373690119066\n",
      "/n\n",
      "(4625, 132) (1542, 132) (4625,) (1542,)\n",
      "MSE :  1700.0041868342255\n",
      "RMSE:  41.23110702896813\n",
      "MAE :  34.71393789241115\n",
      "/n\n"
     ]
    }
   ],
   "source": [
    "xtrain, xtest, ytrain, ytest = train_test_splitting(data_minmax_20target, \"20_target\")\n",
    "y_pred, knn_model = KNNRegressor(xtrain, ytrain, xtest)\n",
    "evaluation_metrics(ytest, y_pred)\n",
    "print(\"/n\")\n",
    "\n",
    "xtrain, xtest, ytrain, ytest = train_test_splitting(data_minmax_50target, \"50_target\")\n",
    "y_pred, knn_model = KNNRegressor(xtrain, ytrain, xtest)\n",
    "evaluation_metrics(ytest, y_pred)\n",
    "print(\"/n\")\n",
    "\n",
    "xtrain, xtest, ytrain, ytest = train_test_splitting(data_minmax_90target, \"90_target\")\n",
    "y_pred, knn_model = KNNRegressor(xtrain, ytrain, xtest)\n",
    "evaluation_metrics(ytest, y_pred)\n",
    "print(\"/n\")"
   ]
  },
  {
   "cell_type": "markdown",
   "metadata": {},
   "source": [
    "## 6.5. Model Comparison"
   ]
  },
  {
   "cell_type": "markdown",
   "metadata": {},
   "source": [
    "#### --> 20_target prediction"
   ]
  },
  {
   "cell_type": "code",
   "execution_count": 62,
   "metadata": {},
   "outputs": [
    {
     "name": "stdout",
     "output_type": "stream",
     "text": [
      "[17:21:27] WARNING: ../src/learner.cc:516: \n",
      "Parameters: { verbose } might not be used.\n",
      "\n",
      "  This may not be accurate due to some parameters are only used in language bindings but\n",
      "  passed down to XGBoost core.  Or some parameters are not used but slip through this\n",
      "  verification. Please open an issue if you find above cases.\n",
      "\n",
      "\n"
     ]
    },
    {
     "data": {
      "text/html": [
       "<div>\n",
       "<style scoped>\n",
       "    .dataframe tbody tr th:only-of-type {\n",
       "        vertical-align: middle;\n",
       "    }\n",
       "\n",
       "    .dataframe tbody tr th {\n",
       "        vertical-align: top;\n",
       "    }\n",
       "\n",
       "    .dataframe thead th {\n",
       "        text-align: right;\n",
       "    }\n",
       "</style>\n",
       "<table border=\"1\" class=\"dataframe\">\n",
       "  <thead>\n",
       "    <tr style=\"text-align: right;\">\n",
       "      <th></th>\n",
       "      <th>RMSE</th>\n",
       "      <th>MSE</th>\n",
       "      <th>MAE</th>\n",
       "    </tr>\n",
       "  </thead>\n",
       "  <tbody>\n",
       "    <tr>\n",
       "      <th>SVMRegressor</th>\n",
       "      <td>15.895374</td>\n",
       "      <td>252.662928</td>\n",
       "      <td>14.265710</td>\n",
       "    </tr>\n",
       "    <tr>\n",
       "      <th>GradientBoostingRegressor</th>\n",
       "      <td>13.945659</td>\n",
       "      <td>194.481407</td>\n",
       "      <td>13.160671</td>\n",
       "    </tr>\n",
       "    <tr>\n",
       "      <th>CatBoostRegressor</th>\n",
       "      <td>12.116148</td>\n",
       "      <td>146.801037</td>\n",
       "      <td>10.479780</td>\n",
       "    </tr>\n",
       "    <tr>\n",
       "      <th>XGBoostRegressor</th>\n",
       "      <td>11.628673</td>\n",
       "      <td>135.226045</td>\n",
       "      <td>9.293577</td>\n",
       "    </tr>\n",
       "    <tr>\n",
       "      <th>KNNRegressor</th>\n",
       "      <td>12.813332</td>\n",
       "      <td>164.181477</td>\n",
       "      <td>9.735771</td>\n",
       "    </tr>\n",
       "  </tbody>\n",
       "</table>\n",
       "</div>"
      ],
      "text/plain": [
       "                                RMSE         MSE        MAE\n",
       "SVMRegressor               15.895374  252.662928  14.265710\n",
       "GradientBoostingRegressor  13.945659  194.481407  13.160671\n",
       "CatBoostRegressor          12.116148  146.801037  10.479780\n",
       "XGBoostRegressor           11.628673  135.226045   9.293577\n",
       "KNNRegressor               12.813332  164.181477   9.735771"
      ]
     },
     "execution_count": 62,
     "metadata": {},
     "output_type": "execute_result"
    }
   ],
   "source": [
    "models = [svr, gbt, cat, xgb, knn]\n",
    "x = data_rf_20target.drop([\"20_target\"], axis=1)\n",
    "y = data_rf_20target[\"20_target\"]\n",
    "xtrain, xtest, ytrain, ytest = train_test_split(x,y, test_size=0.25, random_state=42)\n",
    "\n",
    "algorithms = [\"SVMRegressor\", \"GradientBoostingRegressor\",\"CatBoostRegressor\", \"XGBoostRegressor\",\"KNNRegressor\"]\n",
    "metrics = [\"RMSE\", \"MSE\", \"MAE\"]\n",
    "accuracy = []\n",
    "\n",
    "for i in models:\n",
    "    model = i.fit(xtrain,ytrain)\n",
    "    y_pred = model.predict(xtest)\n",
    "    rmse = np.sqrt(mean_squared_error(ytest, y_pred))\n",
    "    mse = mean_squared_error(ytest, y_pred)\n",
    "    mae = mean_absolute_error(ytest, y_pred)\n",
    "    accuracy.append([rmse, mse, mae])\n",
    "\n",
    "pd.DataFrame(accuracy, columns=metrics, index=algorithms)"
   ]
  },
  {
   "cell_type": "markdown",
   "metadata": {},
   "source": [
    "#### --> 50_target prediction"
   ]
  },
  {
   "cell_type": "code",
   "execution_count": 60,
   "metadata": {},
   "outputs": [
    {
     "name": "stdout",
     "output_type": "stream",
     "text": [
      "[17:21:02] WARNING: ../src/learner.cc:516: \n",
      "Parameters: { verbose } might not be used.\n",
      "\n",
      "  This may not be accurate due to some parameters are only used in language bindings but\n",
      "  passed down to XGBoost core.  Or some parameters are not used but slip through this\n",
      "  verification. Please open an issue if you find above cases.\n",
      "\n",
      "\n"
     ]
    },
    {
     "data": {
      "text/html": [
       "<div>\n",
       "<style scoped>\n",
       "    .dataframe tbody tr th:only-of-type {\n",
       "        vertical-align: middle;\n",
       "    }\n",
       "\n",
       "    .dataframe tbody tr th {\n",
       "        vertical-align: top;\n",
       "    }\n",
       "\n",
       "    .dataframe thead th {\n",
       "        text-align: right;\n",
       "    }\n",
       "</style>\n",
       "<table border=\"1\" class=\"dataframe\">\n",
       "  <thead>\n",
       "    <tr style=\"text-align: right;\">\n",
       "      <th></th>\n",
       "      <th>RMSE</th>\n",
       "      <th>MSE</th>\n",
       "      <th>MAE</th>\n",
       "    </tr>\n",
       "  </thead>\n",
       "  <tbody>\n",
       "    <tr>\n",
       "      <th>SVMRegressor</th>\n",
       "      <td>41.789196</td>\n",
       "      <td>1746.336936</td>\n",
       "      <td>32.600368</td>\n",
       "    </tr>\n",
       "    <tr>\n",
       "      <th>GradientBoostingRegressor</th>\n",
       "      <td>25.732539</td>\n",
       "      <td>662.163560</td>\n",
       "      <td>22.599051</td>\n",
       "    </tr>\n",
       "    <tr>\n",
       "      <th>CatBoostRegressor</th>\n",
       "      <td>17.438485</td>\n",
       "      <td>304.100753</td>\n",
       "      <td>11.853807</td>\n",
       "    </tr>\n",
       "    <tr>\n",
       "      <th>XGBoostRegressor</th>\n",
       "      <td>14.613423</td>\n",
       "      <td>213.552141</td>\n",
       "      <td>8.712154</td>\n",
       "    </tr>\n",
       "    <tr>\n",
       "      <th>KNNRegressor</th>\n",
       "      <td>25.185751</td>\n",
       "      <td>634.322072</td>\n",
       "      <td>16.745691</td>\n",
       "    </tr>\n",
       "  </tbody>\n",
       "</table>\n",
       "</div>"
      ],
      "text/plain": [
       "                                RMSE          MSE        MAE\n",
       "SVMRegressor               41.789196  1746.336936  32.600368\n",
       "GradientBoostingRegressor  25.732539   662.163560  22.599051\n",
       "CatBoostRegressor          17.438485   304.100753  11.853807\n",
       "XGBoostRegressor           14.613423   213.552141   8.712154\n",
       "KNNRegressor               25.185751   634.322072  16.745691"
      ]
     },
     "execution_count": 60,
     "metadata": {},
     "output_type": "execute_result"
    }
   ],
   "source": [
    "models = [svr, gbt, cat, xgb, knn]\n",
    "x = data_rf_50target.drop([\"50_target\"], axis=1)\n",
    "y = data_rf_50target[\"50_target\"]\n",
    "xtrain, xtest, ytrain, ytest = train_test_split(x,y, test_size=0.25, random_state=42)\n",
    "\n",
    "algorithms = [\"SVMRegressor\", \"GradientBoostingRegressor\",\"CatBoostRegressor\", \"XGBoostRegressor\",\"KNNRegressor\"]\n",
    "metrics = [\"RMSE\", \"MSE\", \"MAE\"]\n",
    "accuracy = []\n",
    "\n",
    "for i in models:\n",
    "    model = i.fit(xtrain,ytrain)\n",
    "    y_pred = model.predict(xtest)\n",
    "    rmse = np.sqrt(mean_squared_error(ytest, y_pred))\n",
    "    mse = mean_squared_error(ytest, y_pred)\n",
    "    mae = mean_absolute_error(ytest, y_pred)\n",
    "    accuracy.append([rmse, mse, mae])\n",
    "\n",
    "pd.DataFrame(accuracy, columns=metrics, index=algorithms)"
   ]
  },
  {
   "cell_type": "markdown",
   "metadata": {
    "colab_type": "text",
    "id": "eURc-HSGps5E"
   },
   "source": [
    "# **6. Model Tuning**"
   ]
  },
  {
   "cell_type": "markdown",
   "metadata": {
    "colab_type": "text",
    "id": "TUsUbB_ups5F"
   },
   "source": [
    "Burada ilk modelling'te en iyi sonucu veren feature selection algoritmasi kullanilarak tuning islemi gerceklestiriliyor."
   ]
  },
  {
   "cell_type": "markdown",
   "metadata": {
    "colab_type": "text",
    "id": "VmoNBeXIps5J"
   },
   "source": [
    "### **6.1. SVM Regressor Tuning**"
   ]
  },
  {
   "cell_type": "code",
   "execution_count": null,
   "metadata": {
    "colab": {},
    "colab_type": "code",
    "id": "pUeVqE8hps5J"
   },
   "outputs": [],
   "source": [
    "def SVRegressorTuning(xtrain,ytrain, xtest, ytest, params, cv=10, n_jobs=-1, verbose=2):\n",
    "    model = SVR()\n",
    "    gridsearch_cv = GridSearchCV(model, params, cv=cv, n_jobs=n_jobs, verbose=verbose)\n",
    "    grid_cv_model = gridsearch_cv.fit(xtrain, ytrain)\n",
    "    # best parameters\n",
    "    model.C = grid_cv_model.best_params_[\"C\"]\n",
    "    model.kernel = grid_cv_model.best_params_[\"kernel\"]\n",
    "    model.degree = grid_cv_model.best_params_[\"degree\"]\n",
    "    model.max_iter = grid_cv_model.best_params_[\"max_iter\"]\n",
    "    # tuned model\n",
    "    model_tuned = model.fit(xtrain, ytrain)\n",
    "    y_pred = model_tuned.predict(xtest)\n",
    "    return ytest, y_pred, model, grid_cv_model.best_params_"
   ]
  },
  {
   "cell_type": "code",
   "execution_count": null,
   "metadata": {
    "colab": {
     "base_uri": "https://localhost:8080/",
     "height": 312
    },
    "colab_type": "code",
    "id": "Usp1WMPGps5L",
    "outputId": "0ea68f1e-a8c1-4a24-b137-10abdbdda14f"
   },
   "outputs": [
    {
     "name": "stdout",
     "output_type": "stream",
     "text": [
      "CPU times: user 3 µs, sys: 0 ns, total: 3 µs\n",
      "Wall time: 7.39 µs\n",
      "(4625, 10) (1542, 10) (4625,) (1542,)\n",
      "Fitting 10 folds for each of 480 candidates, totalling 4800 fits\n"
     ]
    },
    {
     "name": "stderr",
     "output_type": "stream",
     "text": [
      "[Parallel(n_jobs=-1)]: Using backend LokyBackend with 2 concurrent workers.\n",
      "[Parallel(n_jobs=-1)]: Done 126 tasks      | elapsed:   15.7s\n",
      "[Parallel(n_jobs=-1)]: Done 378 tasks      | elapsed:   56.7s\n",
      "[Parallel(n_jobs=-1)]: Done 914 tasks      | elapsed:  2.2min\n",
      "[Parallel(n_jobs=-1)]: Done 1566 tasks      | elapsed:  4.2min\n",
      "[Parallel(n_jobs=-1)]: Done 2408 tasks      | elapsed:  6.6min\n",
      "[Parallel(n_jobs=-1)]: Done 3539 tasks      | elapsed:  9.8min\n",
      "[Parallel(n_jobs=-1)]: Done 4736 tasks      | elapsed: 14.6min\n"
     ]
    },
    {
     "name": "stdout",
     "output_type": "stream",
     "text": [
      "MSE :  210.34123379908675\n",
      "RMSE:  14.503145651860729\n",
      "MAE :  14.251647560419265\n",
      "{'C': 6, 'degree': 1, 'kernel': 'poly', 'max_iter': 100}\n"
     ]
    },
    {
     "name": "stderr",
     "output_type": "stream",
     "text": [
      "[Parallel(n_jobs=-1)]: Done 4800 out of 4800 | elapsed: 14.8min finished\n"
     ]
    }
   ],
   "source": [
    "%time\n",
    "start = timeit.default_timer()\n",
    "svr_params = {\"C\": range(1,7),\n",
    "              \"kernel\": [\"linearly\", \"poly\", \"rbf\", \"sigmoid\"],\n",
    "              \"degree\": range(1,5),\n",
    "              \"max_iter\": [-1,10,30,50,100]}\n",
    "\n",
    "xtrain, xtest, ytrain, ytest = train_test_splitting(data_rf_20target, \"20_target\")\n",
    "ytest, y_pred, svr_model, best_params = SVRegressorTuning(xtrain, ytrain, xtest, ytest, svr_params)\n",
    "evaluation_metrics(ytest, y_pred)\n",
    "print(best_params)"
   ]
  },
  {
   "cell_type": "markdown",
   "metadata": {
    "colab_type": "text",
    "id": "-DJ0FE4Dps5N"
   },
   "source": [
    "### **6.2. GradientBoost Regressor Tuning**"
   ]
  },
  {
   "cell_type": "code",
   "execution_count": null,
   "metadata": {
    "colab": {},
    "colab_type": "code",
    "id": "R4xJ2AH7ps5P"
   },
   "outputs": [],
   "source": [
    "def GradientBoostRegressorTuning(xtrain,ytrain, xtest, ytest, params, cv=10, n_jobs=-1, verbose=2):\n",
    "    model = GradientBoostingRegressor()\n",
    "    gridsearch_cv = GridSearchCV(model, params, cv=cv, n_jobs=n_jobs, verbose=verbose)\n",
    "    grid_cv_model = gridsearch_cv.fit(xtrain, ytrain)\n",
    "    # best parameters\n",
    "    model.learning_rate = grid_cv_model.best_params_[\"learning_rate\"]\n",
    "    model.n_estimators = grid_cv_model.best_params_[\"n_estimators\"]\n",
    "    model.subsample = grid_cv_model.best_params_[\"subsample\"]\n",
    "    model.min_samples_split = grid_cv_model.best_params_[\"min_samples_split\"]\n",
    "    model.max_depth = grid_cv_model.best_params_[\"max_depth\"]\n",
    "    model.max_leaf_nodes = grid_cv_model.best_params_[\"max_leaf_nodes\"]\n",
    "    # tuned model\n",
    "    model_tuned = model.fit(xtrain, ytrain)\n",
    "    y_pred = model_tuned.predict(xtest)\n",
    "    return ytest, y_pred, model, grid_cv_model.best_params_"
   ]
  },
  {
   "cell_type": "code",
   "execution_count": null,
   "metadata": {
    "colab": {
     "base_uri": "https://localhost:8080/",
     "height": 295
    },
    "colab_type": "code",
    "id": "ptANl4dsps5S",
    "outputId": "fbe8030f-2379-4e8e-b57f-0325d27d70c1"
   },
   "outputs": [
    {
     "name": "stdout",
     "output_type": "stream",
     "text": [
      "Fitting 10 folds for each of 486 candidates, totalling 4860 fits\n"
     ]
    },
    {
     "name": "stderr",
     "output_type": "stream",
     "text": [
      "[Parallel(n_jobs=-1)]: Using backend LokyBackend with 2 concurrent workers.\n",
      "[Parallel(n_jobs=-1)]: Done  37 tasks      | elapsed:   24.0s\n",
      "[Parallel(n_jobs=-1)]: Done 158 tasks      | elapsed:  1.8min\n",
      "[Parallel(n_jobs=-1)]: Done 361 tasks      | elapsed:  4.7min\n",
      "[Parallel(n_jobs=-1)]: Done 644 tasks      | elapsed:  8.6min\n",
      "[Parallel(n_jobs=-1)]: Done 1009 tasks      | elapsed: 13.6min\n",
      "[Parallel(n_jobs=-1)]: Done 1454 tasks      | elapsed: 19.5min\n",
      "[Parallel(n_jobs=-1)]: Done 1981 tasks      | elapsed: 26.9min\n",
      "[Parallel(n_jobs=-1)]: Done 2588 tasks      | elapsed: 35.6min\n",
      "[Parallel(n_jobs=-1)]: Done 3277 tasks      | elapsed: 45.4min\n",
      "[Parallel(n_jobs=-1)]: Done 4046 tasks      | elapsed: 55.2min\n",
      "[Parallel(n_jobs=-1)]: Done 4860 out of 4860 | elapsed: 66.2min finished\n"
     ]
    },
    {
     "name": "stdout",
     "output_type": "stream",
     "text": [
      "MSE :  212.51104617315715\n",
      "RMSE:  14.577758612803175\n",
      "MAE :  14.286096210793595\n"
     ]
    }
   ],
   "source": [
    "gbtr_params = {\"learning_rate\": [0.01, 0.001, 0.1],\n",
    "              \"n_estimators\": [100, 200],\n",
    "              \"subsample\": [1.0, 0.75, 0.5],\n",
    "              \"min_samples_split\": [2,5,10],\n",
    "              \"max_depth\": [5,7,8],\n",
    "              \"max_leaf_nodes\": [3,4,5]}\n",
    "\n",
    "ytest, y_pred, gbtr_model, best_param = GradientBoostRegressorTuning(xtrain,ytrain, xtest, ytest, gbtr_params)\n",
    "evaluation_metrics(ytest, y_pred)"
   ]
  },
  {
   "cell_type": "markdown",
   "metadata": {
    "colab_type": "text",
    "id": "E_XdyoRFps5U"
   },
   "source": [
    "### **6.3. Cat Boost Regressor Tuning**"
   ]
  },
  {
   "cell_type": "code",
   "execution_count": null,
   "metadata": {
    "colab": {},
    "colab_type": "code",
    "id": "3Tf75wJgps5U"
   },
   "outputs": [],
   "source": [
    "def CatBoostRegressorTuning(xtrain,ytrain, xtest, ytest, params, cv=10, n_jobs=-1, verbose=2):\n",
    "    model = CatBoostRegressor()\n",
    "    gridsearch_cv = GridSearchCV(model, params, cv=cv, n_jobs=n_jobs, verbose=verbose)\n",
    "    catb_cv_model = gridsearch_cv.fit(xtrain, ytrain)\n",
    "    # best parameters\n",
    "    model = CatBoostRegressor(\n",
    "        iterations=catb_cv_model.best_params_[\"iterations\"],\n",
    "        learning_rate = catb_cv_model.best_params_[\"learning_rate\"],\n",
    "        depth= catb_cv_model.best_params_[\"depth\"],\n",
    "        leaf_estimation_iterations= catb_cv_model.best_params_[\"leaf_estimation_iterations\"],\n",
    "        grow_policy= catb_cv_model.best_params_[\"grow_policy\"],\n",
    "        max_leaves= catb_cv_model.best_params_[\"max_leaves\"], \n",
    "        verbose=verbose)\n",
    "    model_tuned = model.fit(xtrain,ytrain)\n",
    "    y_pred = model_tuned.predict(xtest)\n",
    "    rmse = np.sqrt(mean_squared_error(ytest, y_pred))\n",
    "    return ytest, y_pred, model, grid_cv_model.best_params_"
   ]
  },
  {
   "cell_type": "code",
   "execution_count": null,
   "metadata": {
    "colab": {
     "base_uri": "https://localhost:8080/",
     "height": 1000
    },
    "colab_type": "code",
    "id": "OiT0zFJJps5X",
    "outputId": "c9c67c13-2d38-4de6-ba7c-af0ae7aa82c2"
   },
   "outputs": [
    {
     "name": "stdout",
     "output_type": "stream",
     "text": [
      "Fitting 10 folds for each of 108 candidates, totalling 1080 fits\n"
     ]
    },
    {
     "name": "stderr",
     "output_type": "stream",
     "text": [
      "[Parallel(n_jobs=-1)]: Using backend LokyBackend with 2 concurrent workers.\n",
      "[Parallel(n_jobs=-1)]: Done  37 tasks      | elapsed:  1.3min\n",
      "[Parallel(n_jobs=-1)]: Done 158 tasks      | elapsed:  6.2min\n",
      "[Parallel(n_jobs=-1)]: Done 361 tasks      | elapsed: 24.3min\n",
      "[Parallel(n_jobs=-1)]: Done 644 tasks      | elapsed: 47.2min\n",
      "[Parallel(n_jobs=-1)]: Done 1009 tasks      | elapsed: 89.5min\n",
      "[Parallel(n_jobs=-1)]: Done 1080 out of 1080 | elapsed: 104.1min finished\n"
     ]
    },
    {
     "name": "stdout",
     "output_type": "stream",
     "text": [
      "0:\tlearn: 14.9590120\ttotal: 51.4ms\tremaining: 15.4s\n",
      "1:\tlearn: 14.9568776\ttotal: 56.8ms\tremaining: 8.47s\n",
      "2:\tlearn: 14.9545246\ttotal: 63.8ms\tremaining: 6.32s\n",
      "3:\tlearn: 14.9520561\ttotal: 69.4ms\tremaining: 5.14s\n",
      "4:\tlearn: 14.9502207\ttotal: 75.1ms\tremaining: 4.43s\n",
      "5:\tlearn: 14.9476288\ttotal: 80.4ms\tremaining: 3.94s\n",
      "6:\tlearn: 14.9457954\ttotal: 85.5ms\tremaining: 3.58s\n",
      "7:\tlearn: 14.9436014\ttotal: 91ms\tremaining: 3.32s\n",
      "8:\tlearn: 14.9407788\ttotal: 96.7ms\tremaining: 3.13s\n",
      "9:\tlearn: 14.9384728\ttotal: 102ms\tremaining: 2.96s\n",
      "10:\tlearn: 14.9356559\ttotal: 107ms\tremaining: 2.82s\n",
      "11:\tlearn: 14.9331319\ttotal: 112ms\tremaining: 2.7s\n",
      "12:\tlearn: 14.9307485\ttotal: 118ms\tremaining: 2.59s\n",
      "13:\tlearn: 14.9280307\ttotal: 123ms\tremaining: 2.5s\n",
      "14:\tlearn: 14.9257120\ttotal: 128ms\tremaining: 2.43s\n",
      "15:\tlearn: 14.9235119\ttotal: 133ms\tremaining: 2.36s\n",
      "16:\tlearn: 14.9206130\ttotal: 138ms\tremaining: 2.29s\n",
      "17:\tlearn: 14.9184881\ttotal: 143ms\tremaining: 2.24s\n",
      "18:\tlearn: 14.9160248\ttotal: 148ms\tremaining: 2.19s\n",
      "19:\tlearn: 14.9139689\ttotal: 153ms\tremaining: 2.14s\n",
      "20:\tlearn: 14.9115762\ttotal: 158ms\tremaining: 2.1s\n",
      "21:\tlearn: 14.9095586\ttotal: 163ms\tremaining: 2.06s\n",
      "22:\tlearn: 14.9076239\ttotal: 168ms\tremaining: 2.03s\n",
      "23:\tlearn: 14.9057809\ttotal: 173ms\tremaining: 1.99s\n",
      "24:\tlearn: 14.9036156\ttotal: 179ms\tremaining: 1.96s\n",
      "25:\tlearn: 14.9016888\ttotal: 184ms\tremaining: 1.94s\n",
      "26:\tlearn: 14.8995447\ttotal: 200ms\tremaining: 2.03s\n",
      "27:\tlearn: 14.8974069\ttotal: 206ms\tremaining: 2s\n",
      "28:\tlearn: 14.8949932\ttotal: 211ms\tremaining: 1.97s\n",
      "29:\tlearn: 14.8938428\ttotal: 216ms\tremaining: 1.94s\n",
      "30:\tlearn: 14.8913446\ttotal: 221ms\tremaining: 1.92s\n",
      "31:\tlearn: 14.8894447\ttotal: 226ms\tremaining: 1.89s\n",
      "32:\tlearn: 14.8878119\ttotal: 231ms\tremaining: 1.87s\n",
      "33:\tlearn: 14.8857625\ttotal: 236ms\tremaining: 1.85s\n",
      "34:\tlearn: 14.8839960\ttotal: 241ms\tremaining: 1.82s\n",
      "35:\tlearn: 14.8822170\ttotal: 246ms\tremaining: 1.8s\n",
      "36:\tlearn: 14.8793213\ttotal: 254ms\tremaining: 1.81s\n",
      "37:\tlearn: 14.8780204\ttotal: 260ms\tremaining: 1.79s\n",
      "38:\tlearn: 14.8762659\ttotal: 265ms\tremaining: 1.77s\n",
      "39:\tlearn: 14.8742525\ttotal: 270ms\tremaining: 1.75s\n",
      "40:\tlearn: 14.8725421\ttotal: 275ms\tremaining: 1.74s\n",
      "41:\tlearn: 14.8705202\ttotal: 280ms\tremaining: 1.72s\n",
      "42:\tlearn: 14.8678892\ttotal: 285ms\tremaining: 1.71s\n",
      "43:\tlearn: 14.8658333\ttotal: 291ms\tremaining: 1.69s\n",
      "44:\tlearn: 14.8636967\ttotal: 296ms\tremaining: 1.68s\n",
      "45:\tlearn: 14.8618375\ttotal: 301ms\tremaining: 1.66s\n",
      "46:\tlearn: 14.8598028\ttotal: 306ms\tremaining: 1.65s\n",
      "47:\tlearn: 14.8578924\ttotal: 311ms\tremaining: 1.63s\n",
      "48:\tlearn: 14.8561023\ttotal: 316ms\tremaining: 1.62s\n",
      "49:\tlearn: 14.8544364\ttotal: 321ms\tremaining: 1.6s\n",
      "50:\tlearn: 14.8527564\ttotal: 326ms\tremaining: 1.59s\n",
      "51:\tlearn: 14.8514487\ttotal: 331ms\tremaining: 1.58s\n",
      "52:\tlearn: 14.8496279\ttotal: 336ms\tremaining: 1.56s\n",
      "53:\tlearn: 14.8475576\ttotal: 341ms\tremaining: 1.55s\n",
      "54:\tlearn: 14.8455911\ttotal: 346ms\tremaining: 1.54s\n",
      "55:\tlearn: 14.8434661\ttotal: 351ms\tremaining: 1.53s\n",
      "56:\tlearn: 14.8418477\ttotal: 356ms\tremaining: 1.52s\n",
      "57:\tlearn: 14.8399837\ttotal: 361ms\tremaining: 1.51s\n",
      "58:\tlearn: 14.8379067\ttotal: 366ms\tremaining: 1.5s\n",
      "59:\tlearn: 14.8357429\ttotal: 371ms\tremaining: 1.49s\n",
      "60:\tlearn: 14.8345221\ttotal: 377ms\tremaining: 1.48s\n",
      "61:\tlearn: 14.8323235\ttotal: 382ms\tremaining: 1.47s\n",
      "62:\tlearn: 14.8303066\ttotal: 387ms\tremaining: 1.45s\n",
      "63:\tlearn: 14.8278703\ttotal: 392ms\tremaining: 1.44s\n",
      "64:\tlearn: 14.8258197\ttotal: 397ms\tremaining: 1.43s\n",
      "65:\tlearn: 14.8236118\ttotal: 402ms\tremaining: 1.42s\n",
      "66:\tlearn: 14.8216234\ttotal: 407ms\tremaining: 1.41s\n",
      "67:\tlearn: 14.8200150\ttotal: 412ms\tremaining: 1.41s\n",
      "68:\tlearn: 14.8182888\ttotal: 417ms\tremaining: 1.4s\n",
      "69:\tlearn: 14.8161651\ttotal: 422ms\tremaining: 1.39s\n",
      "70:\tlearn: 14.8145104\ttotal: 427ms\tremaining: 1.38s\n",
      "71:\tlearn: 14.8127567\ttotal: 432ms\tremaining: 1.37s\n",
      "72:\tlearn: 14.8112273\ttotal: 437ms\tremaining: 1.36s\n",
      "73:\tlearn: 14.8096087\ttotal: 442ms\tremaining: 1.35s\n",
      "74:\tlearn: 14.8085607\ttotal: 447ms\tremaining: 1.34s\n",
      "75:\tlearn: 14.8071464\ttotal: 458ms\tremaining: 1.35s\n",
      "76:\tlearn: 14.8050688\ttotal: 464ms\tremaining: 1.34s\n",
      "77:\tlearn: 14.8032525\ttotal: 469ms\tremaining: 1.33s\n",
      "78:\tlearn: 14.8017859\ttotal: 474ms\tremaining: 1.33s\n",
      "79:\tlearn: 14.8005127\ttotal: 479ms\tremaining: 1.32s\n",
      "80:\tlearn: 14.7991675\ttotal: 484ms\tremaining: 1.31s\n",
      "81:\tlearn: 14.7979800\ttotal: 489ms\tremaining: 1.3s\n",
      "82:\tlearn: 14.7966679\ttotal: 494ms\tremaining: 1.29s\n",
      "83:\tlearn: 14.7952041\ttotal: 499ms\tremaining: 1.28s\n",
      "84:\tlearn: 14.7938719\ttotal: 504ms\tremaining: 1.27s\n",
      "85:\tlearn: 14.7921978\ttotal: 510ms\tremaining: 1.27s\n",
      "86:\tlearn: 14.7911749\ttotal: 515ms\tremaining: 1.26s\n",
      "87:\tlearn: 14.7901972\ttotal: 520ms\tremaining: 1.25s\n",
      "88:\tlearn: 14.7890565\ttotal: 525ms\tremaining: 1.24s\n",
      "89:\tlearn: 14.7877662\ttotal: 529ms\tremaining: 1.24s\n",
      "90:\tlearn: 14.7864312\ttotal: 536ms\tremaining: 1.23s\n",
      "91:\tlearn: 14.7847422\ttotal: 541ms\tremaining: 1.22s\n",
      "92:\tlearn: 14.7832268\ttotal: 546ms\tremaining: 1.22s\n",
      "93:\tlearn: 14.7808951\ttotal: 551ms\tremaining: 1.21s\n",
      "94:\tlearn: 14.7797133\ttotal: 556ms\tremaining: 1.2s\n",
      "95:\tlearn: 14.7779472\ttotal: 561ms\tremaining: 1.19s\n",
      "96:\tlearn: 14.7763441\ttotal: 566ms\tremaining: 1.19s\n",
      "97:\tlearn: 14.7743325\ttotal: 572ms\tremaining: 1.18s\n",
      "98:\tlearn: 14.7722535\ttotal: 576ms\tremaining: 1.17s\n",
      "99:\tlearn: 14.7700380\ttotal: 581ms\tremaining: 1.16s\n",
      "100:\tlearn: 14.7685620\ttotal: 587ms\tremaining: 1.16s\n",
      "101:\tlearn: 14.7669558\ttotal: 592ms\tremaining: 1.15s\n",
      "102:\tlearn: 14.7656386\ttotal: 597ms\tremaining: 1.14s\n",
      "103:\tlearn: 14.7638768\ttotal: 602ms\tremaining: 1.13s\n",
      "104:\tlearn: 14.7624387\ttotal: 608ms\tremaining: 1.13s\n",
      "105:\tlearn: 14.7608756\ttotal: 612ms\tremaining: 1.12s\n",
      "106:\tlearn: 14.7589726\ttotal: 618ms\tremaining: 1.11s\n",
      "107:\tlearn: 14.7577837\ttotal: 623ms\tremaining: 1.11s\n",
      "108:\tlearn: 14.7563936\ttotal: 628ms\tremaining: 1.1s\n",
      "109:\tlearn: 14.7546602\ttotal: 633ms\tremaining: 1.09s\n",
      "110:\tlearn: 14.7530971\ttotal: 638ms\tremaining: 1.08s\n",
      "111:\tlearn: 14.7514583\ttotal: 643ms\tremaining: 1.08s\n",
      "112:\tlearn: 14.7492971\ttotal: 648ms\tremaining: 1.07s\n",
      "113:\tlearn: 14.7481379\ttotal: 653ms\tremaining: 1.06s\n",
      "114:\tlearn: 14.7465605\ttotal: 665ms\tremaining: 1.07s\n",
      "115:\tlearn: 14.7450765\ttotal: 670ms\tremaining: 1.06s\n",
      "116:\tlearn: 14.7437044\ttotal: 676ms\tremaining: 1.06s\n",
      "117:\tlearn: 14.7414933\ttotal: 681ms\tremaining: 1.05s\n",
      "118:\tlearn: 14.7402240\ttotal: 686ms\tremaining: 1.04s\n",
      "119:\tlearn: 14.7385992\ttotal: 691ms\tremaining: 1.04s\n",
      "120:\tlearn: 14.7361927\ttotal: 696ms\tremaining: 1.03s\n",
      "121:\tlearn: 14.7353739\ttotal: 701ms\tremaining: 1.02s\n",
      "122:\tlearn: 14.7338517\ttotal: 706ms\tremaining: 1.02s\n",
      "123:\tlearn: 14.7324368\ttotal: 711ms\tremaining: 1.01s\n",
      "124:\tlearn: 14.7308971\ttotal: 716ms\tremaining: 1s\n",
      "125:\tlearn: 14.7296697\ttotal: 721ms\tremaining: 996ms\n",
      "126:\tlearn: 14.7285805\ttotal: 726ms\tremaining: 989ms\n",
      "127:\tlearn: 14.7268947\ttotal: 731ms\tremaining: 983ms\n",
      "128:\tlearn: 14.7253351\ttotal: 737ms\tremaining: 976ms\n",
      "129:\tlearn: 14.7233772\ttotal: 742ms\tremaining: 970ms\n",
      "130:\tlearn: 14.7214073\ttotal: 747ms\tremaining: 963ms\n",
      "131:\tlearn: 14.7202478\ttotal: 752ms\tremaining: 957ms\n",
      "132:\tlearn: 14.7191723\ttotal: 757ms\tremaining: 951ms\n",
      "133:\tlearn: 14.7174287\ttotal: 762ms\tremaining: 944ms\n",
      "134:\tlearn: 14.7167967\ttotal: 767ms\tremaining: 938ms\n",
      "135:\tlearn: 14.7157388\ttotal: 772ms\tremaining: 931ms\n",
      "136:\tlearn: 14.7145355\ttotal: 777ms\tremaining: 925ms\n",
      "137:\tlearn: 14.7130281\ttotal: 782ms\tremaining: 918ms\n",
      "138:\tlearn: 14.7107087\ttotal: 787ms\tremaining: 912ms\n",
      "139:\tlearn: 14.7088980\ttotal: 792ms\tremaining: 906ms\n",
      "140:\tlearn: 14.7072061\ttotal: 797ms\tremaining: 899ms\n",
      "141:\tlearn: 14.7061593\ttotal: 802ms\tremaining: 893ms\n",
      "142:\tlearn: 14.7043483\ttotal: 808ms\tremaining: 887ms\n",
      "143:\tlearn: 14.7030716\ttotal: 812ms\tremaining: 880ms\n",
      "144:\tlearn: 14.7018578\ttotal: 818ms\tremaining: 874ms\n",
      "145:\tlearn: 14.7001817\ttotal: 823ms\tremaining: 868ms\n",
      "146:\tlearn: 14.6984260\ttotal: 828ms\tremaining: 861ms\n",
      "147:\tlearn: 14.6969981\ttotal: 833ms\tremaining: 855ms\n",
      "148:\tlearn: 14.6955598\ttotal: 838ms\tremaining: 849ms\n",
      "149:\tlearn: 14.6944175\ttotal: 843ms\tremaining: 843ms\n",
      "150:\tlearn: 14.6928315\ttotal: 848ms\tremaining: 837ms\n",
      "151:\tlearn: 14.6912595\ttotal: 853ms\tremaining: 830ms\n",
      "152:\tlearn: 14.6898976\ttotal: 858ms\tremaining: 824ms\n",
      "153:\tlearn: 14.6883114\ttotal: 870ms\tremaining: 825ms\n",
      "154:\tlearn: 14.6869754\ttotal: 876ms\tremaining: 819ms\n",
      "155:\tlearn: 14.6859446\ttotal: 881ms\tremaining: 813ms\n",
      "156:\tlearn: 14.6850578\ttotal: 886ms\tremaining: 807ms\n",
      "157:\tlearn: 14.6840531\ttotal: 891ms\tremaining: 801ms\n",
      "158:\tlearn: 14.6830499\ttotal: 896ms\tremaining: 795ms\n",
      "159:\tlearn: 14.6817808\ttotal: 901ms\tremaining: 788ms\n",
      "160:\tlearn: 14.6805806\ttotal: 906ms\tremaining: 782ms\n",
      "161:\tlearn: 14.6795026\ttotal: 911ms\tremaining: 776ms\n",
      "162:\tlearn: 14.6775536\ttotal: 916ms\tremaining: 770ms\n",
      "163:\tlearn: 14.6760979\ttotal: 930ms\tremaining: 771ms\n",
      "164:\tlearn: 14.6741380\ttotal: 940ms\tremaining: 769ms\n",
      "165:\tlearn: 14.6731549\ttotal: 945ms\tremaining: 763ms\n",
      "166:\tlearn: 14.6714367\ttotal: 951ms\tremaining: 757ms\n",
      "167:\tlearn: 14.6698996\ttotal: 956ms\tremaining: 751ms\n",
      "168:\tlearn: 14.6688217\ttotal: 961ms\tremaining: 745ms\n",
      "169:\tlearn: 14.6663323\ttotal: 966ms\tremaining: 739ms\n",
      "170:\tlearn: 14.6651662\ttotal: 971ms\tremaining: 732ms\n",
      "171:\tlearn: 14.6633679\ttotal: 976ms\tremaining: 726ms\n",
      "172:\tlearn: 14.6622094\ttotal: 981ms\tremaining: 720ms\n",
      "173:\tlearn: 14.6608092\ttotal: 986ms\tremaining: 714ms\n",
      "174:\tlearn: 14.6594725\ttotal: 991ms\tremaining: 708ms\n",
      "175:\tlearn: 14.6580826\ttotal: 997ms\tremaining: 702ms\n",
      "176:\tlearn: 14.6574470\ttotal: 1.01s\tremaining: 699ms\n",
      "177:\tlearn: 14.6567259\ttotal: 1.01s\tremaining: 693ms\n",
      "178:\tlearn: 14.6552530\ttotal: 1.02s\tremaining: 688ms\n",
      "179:\tlearn: 14.6541649\ttotal: 1.02s\tremaining: 682ms\n",
      "180:\tlearn: 14.6531595\ttotal: 1.03s\tremaining: 676ms\n",
      "181:\tlearn: 14.6513806\ttotal: 1.03s\tremaining: 670ms\n",
      "182:\tlearn: 14.6500428\ttotal: 1.04s\tremaining: 665ms\n",
      "183:\tlearn: 14.6489974\ttotal: 1.04s\tremaining: 659ms\n",
      "184:\tlearn: 14.6477519\ttotal: 1.05s\tremaining: 653ms\n",
      "185:\tlearn: 14.6459271\ttotal: 1.06s\tremaining: 647ms\n",
      "186:\tlearn: 14.6446677\ttotal: 1.06s\tremaining: 642ms\n",
      "187:\tlearn: 14.6431004\ttotal: 1.07s\tremaining: 639ms\n",
      "188:\tlearn: 14.6419248\ttotal: 1.08s\tremaining: 633ms\n",
      "189:\tlearn: 14.6408175\ttotal: 1.08s\tremaining: 627ms\n",
      "190:\tlearn: 14.6399973\ttotal: 1.09s\tremaining: 621ms\n",
      "191:\tlearn: 14.6387561\ttotal: 1.09s\tremaining: 615ms\n",
      "192:\tlearn: 14.6377158\ttotal: 1.1s\tremaining: 609ms\n",
      "193:\tlearn: 14.6361918\ttotal: 1.1s\tremaining: 603ms\n",
      "194:\tlearn: 14.6352123\ttotal: 1.11s\tremaining: 597ms\n",
      "195:\tlearn: 14.6346975\ttotal: 1.11s\tremaining: 591ms\n",
      "196:\tlearn: 14.6335224\ttotal: 1.12s\tremaining: 585ms\n",
      "197:\tlearn: 14.6328332\ttotal: 1.12s\tremaining: 579ms\n",
      "198:\tlearn: 14.6316847\ttotal: 1.13s\tremaining: 573ms\n",
      "199:\tlearn: 14.6308004\ttotal: 1.13s\tremaining: 567ms\n",
      "200:\tlearn: 14.6297480\ttotal: 1.14s\tremaining: 561ms\n",
      "201:\tlearn: 14.6285980\ttotal: 1.14s\tremaining: 555ms\n",
      "202:\tlearn: 14.6273407\ttotal: 1.15s\tremaining: 549ms\n",
      "203:\tlearn: 14.6260384\ttotal: 1.15s\tremaining: 543ms\n",
      "204:\tlearn: 14.6249254\ttotal: 1.16s\tremaining: 537ms\n",
      "205:\tlearn: 14.6237290\ttotal: 1.16s\tremaining: 531ms\n",
      "206:\tlearn: 14.6221990\ttotal: 1.17s\tremaining: 525ms\n",
      "207:\tlearn: 14.6205377\ttotal: 1.17s\tremaining: 519ms\n",
      "208:\tlearn: 14.6196354\ttotal: 1.18s\tremaining: 513ms\n",
      "209:\tlearn: 14.6186187\ttotal: 1.18s\tremaining: 507ms\n",
      "210:\tlearn: 14.6172354\ttotal: 1.19s\tremaining: 501ms\n",
      "211:\tlearn: 14.6161330\ttotal: 1.19s\tremaining: 496ms\n",
      "212:\tlearn: 14.6141721\ttotal: 1.2s\tremaining: 490ms\n",
      "213:\tlearn: 14.6129266\ttotal: 1.2s\tremaining: 484ms\n",
      "214:\tlearn: 14.6119169\ttotal: 1.21s\tremaining: 478ms\n",
      "215:\tlearn: 14.6107983\ttotal: 1.21s\tremaining: 472ms\n",
      "216:\tlearn: 14.6100813\ttotal: 1.22s\tremaining: 466ms\n",
      "217:\tlearn: 14.6086904\ttotal: 1.22s\tremaining: 460ms\n",
      "218:\tlearn: 14.6076104\ttotal: 1.23s\tremaining: 455ms\n",
      "219:\tlearn: 14.6062478\ttotal: 1.23s\tremaining: 449ms\n",
      "220:\tlearn: 14.6051274\ttotal: 1.24s\tremaining: 443ms\n",
      "221:\tlearn: 14.6043045\ttotal: 1.24s\tremaining: 437ms\n",
      "222:\tlearn: 14.6028208\ttotal: 1.25s\tremaining: 431ms\n",
      "223:\tlearn: 14.6019867\ttotal: 1.25s\tremaining: 426ms\n",
      "224:\tlearn: 14.6005191\ttotal: 1.26s\tremaining: 420ms\n",
      "225:\tlearn: 14.5996682\ttotal: 1.26s\tremaining: 414ms\n",
      "226:\tlearn: 14.5982051\ttotal: 1.27s\tremaining: 410ms\n",
      "227:\tlearn: 14.5971006\ttotal: 1.28s\tremaining: 405ms\n",
      "228:\tlearn: 14.5957493\ttotal: 1.29s\tremaining: 399ms\n",
      "229:\tlearn: 14.5939780\ttotal: 1.29s\tremaining: 393ms\n",
      "230:\tlearn: 14.5926975\ttotal: 1.3s\tremaining: 387ms\n",
      "231:\tlearn: 14.5917116\ttotal: 1.3s\tremaining: 382ms\n",
      "232:\tlearn: 14.5907228\ttotal: 1.31s\tremaining: 376ms\n",
      "233:\tlearn: 14.5894543\ttotal: 1.31s\tremaining: 370ms\n",
      "234:\tlearn: 14.5876254\ttotal: 1.32s\tremaining: 365ms\n",
      "235:\tlearn: 14.5861172\ttotal: 1.32s\tremaining: 359ms\n",
      "236:\tlearn: 14.5853648\ttotal: 1.33s\tremaining: 353ms\n",
      "237:\tlearn: 14.5833610\ttotal: 1.33s\tremaining: 348ms\n",
      "238:\tlearn: 14.5828455\ttotal: 1.34s\tremaining: 342ms\n",
      "239:\tlearn: 14.5814434\ttotal: 1.34s\tremaining: 336ms\n",
      "240:\tlearn: 14.5799151\ttotal: 1.35s\tremaining: 330ms\n",
      "241:\tlearn: 14.5781411\ttotal: 1.35s\tremaining: 325ms\n",
      "242:\tlearn: 14.5771944\ttotal: 1.36s\tremaining: 319ms\n",
      "243:\tlearn: 14.5765453\ttotal: 1.36s\tremaining: 313ms\n",
      "244:\tlearn: 14.5759569\ttotal: 1.37s\tremaining: 308ms\n",
      "245:\tlearn: 14.5739859\ttotal: 1.38s\tremaining: 302ms\n",
      "246:\tlearn: 14.5725575\ttotal: 1.38s\tremaining: 296ms\n",
      "247:\tlearn: 14.5712986\ttotal: 1.39s\tremaining: 291ms\n",
      "248:\tlearn: 14.5704008\ttotal: 1.39s\tremaining: 285ms\n",
      "249:\tlearn: 14.5697768\ttotal: 1.4s\tremaining: 279ms\n",
      "250:\tlearn: 14.5684852\ttotal: 1.4s\tremaining: 273ms\n",
      "251:\tlearn: 14.5672522\ttotal: 1.41s\tremaining: 268ms\n",
      "252:\tlearn: 14.5666882\ttotal: 1.41s\tremaining: 262ms\n",
      "253:\tlearn: 14.5653380\ttotal: 1.42s\tremaining: 256ms\n",
      "254:\tlearn: 14.5636582\ttotal: 1.42s\tremaining: 251ms\n",
      "255:\tlearn: 14.5628920\ttotal: 1.43s\tremaining: 245ms\n",
      "256:\tlearn: 14.5619494\ttotal: 1.43s\tremaining: 239ms\n",
      "257:\tlearn: 14.5603273\ttotal: 1.44s\tremaining: 234ms\n",
      "258:\tlearn: 14.5591796\ttotal: 1.44s\tremaining: 228ms\n",
      "259:\tlearn: 14.5586676\ttotal: 1.45s\tremaining: 222ms\n",
      "260:\tlearn: 14.5577656\ttotal: 1.45s\tremaining: 217ms\n",
      "261:\tlearn: 14.5565333\ttotal: 1.46s\tremaining: 211ms\n",
      "262:\tlearn: 14.5550668\ttotal: 1.46s\tremaining: 206ms\n",
      "263:\tlearn: 14.5537302\ttotal: 1.47s\tremaining: 200ms\n",
      "264:\tlearn: 14.5520725\ttotal: 1.47s\tremaining: 194ms\n",
      "265:\tlearn: 14.5514961\ttotal: 1.48s\tremaining: 189ms\n",
      "266:\tlearn: 14.5506466\ttotal: 1.48s\tremaining: 184ms\n",
      "267:\tlearn: 14.5499900\ttotal: 1.49s\tremaining: 178ms\n",
      "268:\tlearn: 14.5483938\ttotal: 1.49s\tremaining: 172ms\n",
      "269:\tlearn: 14.5470969\ttotal: 1.5s\tremaining: 167ms\n",
      "270:\tlearn: 14.5456104\ttotal: 1.5s\tremaining: 161ms\n",
      "271:\tlearn: 14.5443929\ttotal: 1.51s\tremaining: 155ms\n",
      "272:\tlearn: 14.5433009\ttotal: 1.51s\tremaining: 150ms\n",
      "273:\tlearn: 14.5420161\ttotal: 1.52s\tremaining: 144ms\n",
      "274:\tlearn: 14.5404240\ttotal: 1.52s\tremaining: 139ms\n",
      "275:\tlearn: 14.5386843\ttotal: 1.53s\tremaining: 133ms\n",
      "276:\tlearn: 14.5373551\ttotal: 1.53s\tremaining: 127ms\n",
      "277:\tlearn: 14.5362074\ttotal: 1.54s\tremaining: 122ms\n",
      "278:\tlearn: 14.5352172\ttotal: 1.54s\tremaining: 116ms\n",
      "279:\tlearn: 14.5344784\ttotal: 1.55s\tremaining: 111ms\n",
      "280:\tlearn: 14.5333782\ttotal: 1.55s\tremaining: 105ms\n",
      "281:\tlearn: 14.5325006\ttotal: 1.56s\tremaining: 99.6ms\n",
      "282:\tlearn: 14.5311425\ttotal: 1.56s\tremaining: 94.1ms\n",
      "283:\tlearn: 14.5300481\ttotal: 1.57s\tremaining: 88.5ms\n",
      "284:\tlearn: 14.5291528\ttotal: 1.58s\tremaining: 83ms\n",
      "285:\tlearn: 14.5278860\ttotal: 1.58s\tremaining: 77.4ms\n",
      "286:\tlearn: 14.5270527\ttotal: 1.59s\tremaining: 71.9ms\n",
      "287:\tlearn: 14.5262944\ttotal: 1.59s\tremaining: 66.3ms\n",
      "288:\tlearn: 14.5255472\ttotal: 1.6s\tremaining: 60.8ms\n",
      "289:\tlearn: 14.5246153\ttotal: 1.6s\tremaining: 55.2ms\n",
      "290:\tlearn: 14.5240852\ttotal: 1.61s\tremaining: 49.7ms\n",
      "291:\tlearn: 14.5230199\ttotal: 1.61s\tremaining: 44.2ms\n",
      "292:\tlearn: 14.5218619\ttotal: 1.62s\tremaining: 38.6ms\n",
      "293:\tlearn: 14.5205826\ttotal: 1.62s\tremaining: 33.1ms\n",
      "294:\tlearn: 14.5195419\ttotal: 1.63s\tremaining: 27.6ms\n",
      "295:\tlearn: 14.5189110\ttotal: 1.63s\tremaining: 22ms\n",
      "296:\tlearn: 14.5179006\ttotal: 1.64s\tremaining: 16.5ms\n",
      "297:\tlearn: 14.5165424\ttotal: 1.64s\tremaining: 11ms\n",
      "298:\tlearn: 14.5153853\ttotal: 1.65s\tremaining: 5.51ms\n",
      "299:\tlearn: 14.5145214\ttotal: 1.65s\tremaining: 0us\n"
     ]
    },
    {
     "ename": "NameError",
     "evalue": "ignored",
     "output_type": "error",
     "traceback": [
      "\u001b[0;31m---------------------------------------------------------------------------\u001b[0m",
      "\u001b[0;31mNameError\u001b[0m                                 Traceback (most recent call last)",
      "\u001b[0;32m<ipython-input-58-99729bf1e5e7>\u001b[0m in \u001b[0;36m<module>\u001b[0;34m()\u001b[0m\n\u001b[1;32m      6\u001b[0m                \"max_leaves\": [20,30]}\n\u001b[1;32m      7\u001b[0m \u001b[0;34m\u001b[0m\u001b[0m\n\u001b[0;32m----> 8\u001b[0;31m \u001b[0mytest\u001b[0m\u001b[0;34m,\u001b[0m \u001b[0my_pred\u001b[0m\u001b[0;34m,\u001b[0m \u001b[0mcatbr_model\u001b[0m\u001b[0;34m,\u001b[0m \u001b[0mbest_param\u001b[0m \u001b[0;34m=\u001b[0m \u001b[0mCatBoostRegressorTuning\u001b[0m\u001b[0;34m(\u001b[0m\u001b[0mxtrain\u001b[0m\u001b[0;34m,\u001b[0m\u001b[0mytrain\u001b[0m\u001b[0;34m,\u001b[0m \u001b[0mxtest\u001b[0m\u001b[0;34m,\u001b[0m \u001b[0mytest\u001b[0m\u001b[0;34m,\u001b[0m \u001b[0mcatbr_params\u001b[0m\u001b[0;34m)\u001b[0m\u001b[0;34m\u001b[0m\u001b[0;34m\u001b[0m\u001b[0m\n\u001b[0m\u001b[1;32m      9\u001b[0m \u001b[0mevaluation_metrics\u001b[0m\u001b[0;34m(\u001b[0m\u001b[0mytest\u001b[0m\u001b[0;34m,\u001b[0m \u001b[0my_pred\u001b[0m\u001b[0;34m)\u001b[0m\u001b[0;34m\u001b[0m\u001b[0;34m\u001b[0m\u001b[0m\n\u001b[1;32m     10\u001b[0m \u001b[0mprint\u001b[0m\u001b[0;34m(\u001b[0m\u001b[0mbest_param\u001b[0m\u001b[0;34m)\u001b[0m\u001b[0;34m\u001b[0m\u001b[0;34m\u001b[0m\u001b[0m\n",
      "\u001b[0;32m<ipython-input-57-cbbc8b5d1797>\u001b[0m in \u001b[0;36mCatBoostRegressorTuning\u001b[0;34m(xtrain, ytrain, xtest, ytest, params, cv, n_jobs, verbose)\u001b[0m\n\u001b[1;32m      5\u001b[0m     \u001b[0;31m# best parameters\u001b[0m\u001b[0;34m\u001b[0m\u001b[0;34m\u001b[0m\u001b[0;34m\u001b[0m\u001b[0m\n\u001b[1;32m      6\u001b[0m     model = CatBoostRegressor(\n\u001b[0;32m----> 7\u001b[0;31m         \u001b[0miterations\u001b[0m\u001b[0;34m=\u001b[0m\u001b[0mcatb_cv_model\u001b[0m\u001b[0;34m.\u001b[0m\u001b[0mbest_params_\u001b[0m\u001b[0;34m[\u001b[0m\u001b[0;34m\"iterations\"\u001b[0m\u001b[0;34m]\u001b[0m\u001b[0;34m,\u001b[0m\u001b[0;34m\u001b[0m\u001b[0;34m\u001b[0m\u001b[0m\n\u001b[0m\u001b[1;32m      8\u001b[0m         \u001b[0mlearning_rate\u001b[0m \u001b[0;34m=\u001b[0m \u001b[0mcatb_cv_model\u001b[0m\u001b[0;34m.\u001b[0m\u001b[0mbest_params_\u001b[0m\u001b[0;34m[\u001b[0m\u001b[0;34m\"learning_rate\"\u001b[0m\u001b[0;34m]\u001b[0m\u001b[0;34m,\u001b[0m\u001b[0;34m\u001b[0m\u001b[0;34m\u001b[0m\u001b[0m\n\u001b[1;32m      9\u001b[0m         \u001b[0mdepth\u001b[0m\u001b[0;34m=\u001b[0m \u001b[0mcatb_cv_model\u001b[0m\u001b[0;34m.\u001b[0m\u001b[0mbest_params_\u001b[0m\u001b[0;34m[\u001b[0m\u001b[0;34m\"depth\"\u001b[0m\u001b[0;34m]\u001b[0m\u001b[0;34m,\u001b[0m\u001b[0;34m\u001b[0m\u001b[0;34m\u001b[0m\u001b[0m\n",
      "\u001b[0;31mNameError\u001b[0m: name 'catb_cv_model' is not defined"
     ]
    }
   ],
   "source": [
    "catbr_params = {\"learning_rate\": [0.01, 0.005],\n",
    "               \"iterations\": [300, 500, 1000],\n",
    "               \"depth\": [3,5,8],\n",
    "               \"grow_policy\": [\"Lossguide\"],\n",
    "               \"leaf_estimation_iterations\":[1,5],\n",
    "               \"max_leaves\": [20,30]}\n",
    "\n",
    "ytest, y_pred, catbr_model, best_param = CatBoostRegressorTuning(xtrain,ytrain, xtest, ytest, catbr_params)\n",
    "evaluation_metrics(ytest, y_pred)\n",
    "print(best_param)"
   ]
  },
  {
   "cell_type": "markdown",
   "metadata": {
    "colab_type": "text",
    "id": "ZlmVLDea9Yt8"
   },
   "source": [
    "### **6.4. XG Boost Regressor Tuning**"
   ]
  },
  {
   "cell_type": "code",
   "execution_count": null,
   "metadata": {
    "colab": {},
    "colab_type": "code",
    "id": "yUVPAsq29afA"
   },
   "outputs": [],
   "source": [
    "def XGBRegressorTuning(xtrain,ytrain, xtest, ytest, params, cv=10, n_jobs=-1, verbose=2):\n",
    "    model = XGBRegressor()\n",
    "    gridsearch_cv = GridSearchCV(model, params, cv=cv, n_jobs=n_jobs, verbose=verbose)\n",
    "    grid_cv_model = gridsearch_cv.fit(xtrain, ytrain)\n",
    "    # best parameters\n",
    "    model.n_estimators = grid_cv_model.best_params_[\"n_estimators\"]\n",
    "    model.subsample = grid_cv_model.best_params_[\"subsample\"]\n",
    "    model.max_depth = grid_cv_model.best_params_[\"max_depth\"]\n",
    "    model.learning_rate = grid_cv_model.best_params_[\"learning_rate\"]\n",
    "    model.min_child_weight = grid_cv_model.best_params_[\"min_child_weight\"]\n",
    "    # tuned model\n",
    "    model_tuned = model.fit(xtrain, ytrain)\n",
    "    y_pred = model_tuned.predict(xtest)\n",
    "    return ytest, y_pred, model, grid_cv_model.best_params_"
   ]
  },
  {
   "cell_type": "code",
   "execution_count": null,
   "metadata": {
    "colab": {
     "base_uri": "https://localhost:8080/",
     "height": 278
    },
    "colab_type": "code",
    "id": "SJkT6kET9f1K",
    "outputId": "9243d7bf-b690-44b5-dacd-bf7306d1a452"
   },
   "outputs": [
    {
     "name": "stdout",
     "output_type": "stream",
     "text": [
      "Fitting 10 folds for each of 162 candidates, totalling 1620 fits\n"
     ]
    },
    {
     "name": "stderr",
     "output_type": "stream",
     "text": [
      "[Parallel(n_jobs=-1)]: Using backend LokyBackend with 2 concurrent workers.\n",
      "[Parallel(n_jobs=-1)]: Done  37 tasks      | elapsed:   51.9s\n",
      "[Parallel(n_jobs=-1)]: Done 158 tasks      | elapsed:  6.1min\n",
      "[Parallel(n_jobs=-1)]: Done 361 tasks      | elapsed: 17.8min\n",
      "[Parallel(n_jobs=-1)]: Done 644 tasks      | elapsed: 40.6min\n",
      "[Parallel(n_jobs=-1)]: Done 1009 tasks      | elapsed: 66.3min\n",
      "[Parallel(n_jobs=-1)]: Done 1454 tasks      | elapsed: 99.6min\n",
      "[Parallel(n_jobs=-1)]: Done 1620 out of 1620 | elapsed: 118.3min finished\n"
     ]
    },
    {
     "name": "stdout",
     "output_type": "stream",
     "text": [
      "[09:51:45] WARNING: /workspace/src/objective/regression_obj.cu:152: reg:linear is now deprecated in favor of reg:squarederror.\n",
      "[09:51:47] WARNING: /workspace/src/objective/regression_obj.cu:152: reg:linear is now deprecated in favor of reg:squarederror.\n",
      "MSE :  207.23009690746073\n",
      "RMSE:  14.395488769314529\n",
      "MAE :  14.145781381957068\n",
      "{'learning_rate': 0.001, 'max_depth': 3, 'min_child_weight': 0.8, 'n_estimators': 500, 'subsample': 0.6}\n"
     ]
    }
   ],
   "source": [
    "xgb_params = {\n",
    "    \"n_estimators\": [500, 1000, 2000],\n",
    "    \"subsample\": [0.6, 0.8, 1.0],\n",
    "    \"max_depth\": [3,5,7],\n",
    "    \"learning_rate\": [0.01, 0.001],\n",
    "    \"min_child_weight\": [0.8,0.9,1.0]}\n",
    "\n",
    "ytest, y_pred, xgbr_model, best_param = XGBRegressorTuning(xtrain,ytrain, xtest, ytest, xgb_params)\n",
    "evaluation_metrics(ytest, y_pred)\n",
    "print(best_param)"
   ]
  },
  {
   "cell_type": "markdown",
   "metadata": {
    "colab_type": "text",
    "id": "Mas5JjjY-cjt"
   },
   "source": [
    "### **6.5. KNN Regressor Tuning**"
   ]
  },
  {
   "cell_type": "code",
   "execution_count": null,
   "metadata": {
    "colab": {},
    "colab_type": "code",
    "id": "IsrRLVu8-aa1"
   },
   "outputs": [],
   "source": [
    "def KNNRegressorTuning(xtrain,ytrain, xtest, ytest, params, cv=10, n_jobs=-1, verbose=2):\n",
    "    model = KNeighborsRegressor()\n",
    "    gridsearch_cv = GridSearchCV(model, params, cv=cv, n_jobs=n_jobs, verbose=verbose)\n",
    "    grid_cv_model = gridsearch_cv.fit(xtrain, ytrain)\n",
    "    # best parameters\n",
    "    model.n_neighbors = grid_cv_model.best_params_[\"n_neighbors\"]\n",
    "    model.leaf_size = grid_cv_model.best_params_[\"leaf_size\"]\n",
    "    model.algorithm = grid_cv_model.best_params_[\"algorithm\"]\n",
    "    model.metric = grid_cv_model.best_params_[\"metric\"]\n",
    "    model.weights = grid_cv_model.best_params_[\"weights\"]\n",
    "    # tuned model\n",
    "    model_tuned = model.fit(xtrain, ytrain)\n",
    "    y_pred = model_tuned.predict(xtest)\n",
    "    return ytest, y_pred, model, grid_cv_model.best_params_"
   ]
  },
  {
   "cell_type": "code",
   "execution_count": null,
   "metadata": {
    "colab": {
     "base_uri": "https://localhost:8080/",
     "height": 260
    },
    "colab_type": "code",
    "id": "NwglhCX2-hQM",
    "outputId": "4cb5d10d-de33-4257-934b-9df4722b86a3"
   },
   "outputs": [
    {
     "name": "stdout",
     "output_type": "stream",
     "text": [
      "Fitting 10 folds for each of 936 candidates, totalling 9360 fits\n"
     ]
    },
    {
     "name": "stderr",
     "output_type": "stream",
     "text": [
      "[Parallel(n_jobs=-1)]: Using backend LokyBackend with 2 concurrent workers.\n",
      "[Parallel(n_jobs=-1)]: Done  86 tasks      | elapsed:    2.9s\n",
      "[Parallel(n_jobs=-1)]: Done 570 tasks      | elapsed:   12.8s\n",
      "[Parallel(n_jobs=-1)]: Done 1382 tasks      | elapsed:   30.5s\n",
      "[Parallel(n_jobs=-1)]: Done 2514 tasks      | elapsed:   56.1s\n",
      "[Parallel(n_jobs=-1)]: Done 3974 tasks      | elapsed:  1.5min\n",
      "[Parallel(n_jobs=-1)]: Done 5754 tasks      | elapsed:  2.1min\n",
      "[Parallel(n_jobs=-1)]: Done 7862 tasks      | elapsed:  2.9min\n"
     ]
    },
    {
     "name": "stdout",
     "output_type": "stream",
     "text": [
      "MSE :  244.40446921736483\n",
      "RMSE:  15.633440735083395\n",
      "MAE :  14.008919274628497\n",
      "{'algorithm': 'ball_tree', 'leaf_size': 30, 'metric': 'manhattan', 'n_neighbors': 14, 'weights': 'uniform'}\n"
     ]
    },
    {
     "name": "stderr",
     "output_type": "stream",
     "text": [
      "[Parallel(n_jobs=-1)]: Done 9360 out of 9360 | elapsed:  3.6min finished\n"
     ]
    }
   ],
   "source": [
    "knn_params = {\"n_neighbors\": np.arange(2,15),\n",
    "              \"leaf_size\": [30,40,50,100],\n",
    "              \"algorithm\": [\"ball_tree\", \"kd_tree\", \"brute\"],\n",
    "              \"metric\": [\"euclidean\", \"minkowski\", \"manhattan\"],\n",
    "              \"weights\": [\"uniform\", \"distance\"]}\n",
    "\n",
    "ytest, y_pred, knnr_model, best_param = KNNRegressorTuning(xtrain,ytrain, xtest, ytest, knn_params)\n",
    "evaluation_metrics(ytest, y_pred)\n",
    "print(best_param)"
   ]
  },
  {
   "cell_type": "code",
   "execution_count": null,
   "metadata": {
    "colab": {},
    "colab_type": "code",
    "id": "5ETVvMxjXZNN"
   },
   "outputs": [],
   "source": []
  }
 ],
 "metadata": {
  "colab": {
   "collapsed_sections": [
    "HKWD899Dps4y",
    "EQzlpXfeps48",
    "nRdUmeQtGcx8",
    "teN1-Yb2GcuZ",
    "VM6rh1oXGcrD",
    "dXPM5JPkGnyQ"
   ],
   "name": "assignment9-Boosting_KNN_Regressor.ipynb",
   "provenance": []
  },
  "kernelspec": {
   "display_name": "Python 3",
   "language": "python",
   "name": "python3"
  },
  "language_info": {
   "codemirror_mode": {
    "name": "ipython",
    "version": 3
   },
   "file_extension": ".py",
   "mimetype": "text/x-python",
   "name": "python",
   "nbconvert_exporter": "python",
   "pygments_lexer": "ipython3",
   "version": "3.7.4"
  }
 },
 "nbformat": 4,
 "nbformat_minor": 1
}
