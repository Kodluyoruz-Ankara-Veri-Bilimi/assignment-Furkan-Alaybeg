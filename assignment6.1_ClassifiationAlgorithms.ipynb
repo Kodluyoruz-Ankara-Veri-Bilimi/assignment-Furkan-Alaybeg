{
 "cells": [
  {
   "cell_type": "markdown",
   "metadata": {
    "colab_type": "text",
    "id": "UzUuqr6nA-EN"
   },
   "source": [
    "# **Classification Algorithms** \n",
    "\n",
    "The experiments conducted using different feature selections methods such as PCA, Correlation, RandomForest based feature selections and the last was without feature selection. Experiment algorithms are as follows:\n",
    "\n",
    "- SVM (Support Vector Machine) \n",
    "- Gaussian Naive Bayes\n",
    "- Multinomial Naive Bayes \n",
    "- Bernoulli Naive Bayes\n",
    "- Gradient Boost Tree \n",
    "- Cat Boost Tree \n",
    "- XGBoost Tree \n",
    "- K-Nearest Neighbors"
   ]
  },
  {
   "cell_type": "code",
   "execution_count": 1,
   "metadata": {
    "colab": {
     "base_uri": "https://localhost:8080/",
     "height": 350
    },
    "colab_type": "code",
    "id": "KLvPy83fUpoV",
    "outputId": "fceec84f-f6e0-4fdf-9a6c-504a46fc820b"
   },
   "outputs": [
    {
     "name": "stdout",
     "output_type": "stream",
     "text": [
      "Collecting catboost\n",
      "  Downloading catboost-0.24-cp37-none-manylinux1_x86_64.whl (65.8 MB)\n",
      "\u001b[K     |████████████████████████████████| 65.8 MB 3.0 MB/s eta 0:00:01\n",
      "\u001b[?25hCollecting graphviz\n",
      "  Downloading graphviz-0.14.1-py2.py3-none-any.whl (18 kB)\n",
      "Collecting plotly\n",
      "  Downloading plotly-4.9.0-py2.py3-none-any.whl (12.9 MB)\n",
      "\u001b[K     |████████████████████████████████| 12.9 MB 2.4 MB/s eta 0:00:01\n",
      "\u001b[?25hCollecting pandas>=0.24.0\n",
      "  Downloading pandas-1.1.1-cp37-cp37m-manylinux1_x86_64.whl (10.5 MB)\n",
      "\u001b[K     |████████████████████████████████| 10.5 MB 2.3 MB/s eta 0:00:01\n",
      "\u001b[?25hRequirement already satisfied: six in /home/asus/anaconda3/lib/python3.7/site-packages (from catboost) (1.12.0)\n",
      "Requirement already satisfied: matplotlib in /home/asus/anaconda3/lib/python3.7/site-packages (from catboost) (3.0.2)\n",
      "Requirement already satisfied: scipy in /home/asus/anaconda3/lib/python3.7/site-packages (from catboost) (1.1.0)\n",
      "Requirement already satisfied: numpy>=1.16.0 in /home/asus/anaconda3/lib/python3.7/site-packages (from catboost) (1.17.0)\n",
      "Collecting retrying>=1.3.3\n",
      "  Downloading retrying-1.3.3.tar.gz (10 kB)\n",
      "Requirement already satisfied: python-dateutil>=2.7.3 in /home/asus/anaconda3/lib/python3.7/site-packages (from pandas>=0.24.0->catboost) (2.8.0)\n",
      "Requirement already satisfied: pytz>=2017.2 in /home/asus/anaconda3/lib/python3.7/site-packages (from pandas>=0.24.0->catboost) (2018.7)\n",
      "Requirement already satisfied: cycler>=0.10 in /home/asus/anaconda3/lib/python3.7/site-packages (from matplotlib->catboost) (0.10.0)\n",
      "Requirement already satisfied: kiwisolver>=1.0.1 in /home/asus/anaconda3/lib/python3.7/site-packages (from matplotlib->catboost) (1.0.1)\n",
      "Requirement already satisfied: pyparsing!=2.0.4,!=2.1.2,!=2.1.6,>=2.0.1 in /home/asus/anaconda3/lib/python3.7/site-packages (from matplotlib->catboost) (2.3.0)\n",
      "Requirement already satisfied: setuptools in /home/asus/anaconda3/lib/python3.7/site-packages (from kiwisolver>=1.0.1->matplotlib->catboost) (41.4.0)\n",
      "Building wheels for collected packages: retrying\n",
      "  Building wheel for retrying (setup.py) ... \u001b[?25ldone\n",
      "\u001b[?25h  Created wheel for retrying: filename=retrying-1.3.3-py3-none-any.whl size=11429 sha256=ab4e93bba83b1bdb7b0bb8099bfa2024f62c37db08bea255b0c33d46092ca4ba\n",
      "  Stored in directory: /home/asus/.cache/pip/wheels/f9/8d/8d/f6af3f7f9eea3553bc2fe6d53e4b287dad18b06a861ac56ddf\n",
      "Successfully built retrying\n",
      "Installing collected packages: graphviz, retrying, plotly, pandas, catboost\n",
      "  Attempting uninstall: pandas\n",
      "    Found existing installation: pandas 0.23.4\n",
      "    Uninstalling pandas-0.23.4:\n",
      "      Successfully uninstalled pandas-0.23.4\n",
      "Successfully installed catboost-0.24 graphviz-0.14.1 pandas-1.1.1 plotly-4.9.0 retrying-1.3.3\n"
     ]
    }
   ],
   "source": [
    "!pip install catboost"
   ]
  },
  {
   "cell_type": "code",
   "execution_count": 7,
   "metadata": {
    "colab": {
     "base_uri": "https://localhost:8080/",
     "height": 52
    },
    "colab_type": "code",
    "id": "M1meCQDTxqHy",
    "outputId": "bb2aefa7-c9ee-482c-ba0d-500b4a09b305"
   },
   "outputs": [],
   "source": [
    "import numpy as np\n",
    "import pandas as pd \n",
    "import statsmodels.api as sm\n",
    "import statsmodels.formula.api as smf\n",
    "import seaborn as sns\n",
    "import matplotlib.pyplot as plt\n",
    "from sklearn.preprocessing import scale, MinMaxScaler, Normalizer, StandardScaler, MaxAbsScaler\n",
    "from sklearn.model_selection import train_test_split, GridSearchCV, cross_val_score\n",
    "from sklearn.metrics import confusion_matrix, accuracy_score, classification_report\n",
    "from sklearn.metrics import precision_score, recall_score, f1_score\n",
    "from sklearn.metrics import roc_auc_score,roc_curve\n",
    "import statsmodels.formula.api as smf\n",
    "from sklearn import preprocessing\n",
    "from sklearn.ensemble import RandomForestClassifier\n",
    "from sklearn.naive_bayes import GaussianNB, MultinomialNB, BernoulliNB\n",
    "from sklearn.svm import SVC\n",
    "from sklearn.ensemble import GradientBoostingClassifier\n",
    "from xgboost import XGBClassifier\n",
    "from lightgbm import LGBMClassifier\n",
    "from catboost import CatBoostClassifier\n",
    "from sklearn.neighbors import KNeighborsClassifier\n",
    "\n",
    "\n",
    "from sklearn.decomposition import PCA\n",
    "import timeit\n",
    "from warnings import filterwarnings\n",
    "filterwarnings('ignore')"
   ]
  },
  {
   "cell_type": "code",
   "execution_count": 8,
   "metadata": {
    "colab": {},
    "colab_type": "code",
    "id": "rg7M5XzbxqID"
   },
   "outputs": [],
   "source": []
  },
  {
   "cell_type": "code",
   "execution_count": 9,
   "metadata": {
    "colab": {},
    "colab_type": "code",
    "id": "i7_hKEOzxqIY"
   },
   "outputs": [],
   "source": [
    "def crosstab(index, col, normalize=\"columns\"):\n",
    "    return pd.crosstab(index, col, normalize=normalize)\n",
    "\n",
    "def correlation_df(data, remove_columns=None):\n",
    "    if(remove_columns is None):\n",
    "        corr = data.corr()\n",
    "        corr = corr.where(np.triu(np.ones(corr.shape)).astype(np.bool))\n",
    "        corr = corr.stack().reset_index()\n",
    "        new_df = corr[corr[\"level_0\"] != corr[\"level_1\"]]\n",
    "        new_df.columns = ['feature1','feature2','Corr']\n",
    "        new_df[\"Corr\"] = abs(new_df[\"Corr\"])\n",
    "    else:\n",
    "        data2 = data.drop(remove_columns, axis=1)\n",
    "        corr = data2.corr()\n",
    "        corr = corr.where(np.triu(np.ones(corr.shape)).astype(np.bool))\n",
    "        corr = corr.stack().reset_index()\n",
    "        new_df = corr[corr[\"level_0\"] != corr[\"level_1\"]]\n",
    "        new_df.columns = ['feature1','feature2','Corr']\n",
    "        new_df[\"Corr\"] = abs(new_df[\"Corr\"])\n",
    "    return new_df\n",
    "\n",
    "def numeric_categoric_variable(data):\n",
    "    name_of_col = list(data.columns)\n",
    "    num_var_list = []\n",
    "    str_var_list = []\n",
    "    drop_col=[]\n",
    "\n",
    "    str_var_list = name_of_col.copy()\n",
    "    for var in name_of_col:\n",
    "        # check if column belongs to numeric type\n",
    "        if (data[var].dtypes not in (np.object, np.str)):\n",
    "            str_var_list.remove(var)\n",
    "            num_var_list.append(var)\n",
    "        # drop the omit column from list\n",
    "    for var in drop_col:\n",
    "        if var in str_var_list:\n",
    "            str_var_list.remove(var)\n",
    "        if var in num_var_list:\n",
    "            num_var_list.remove(var)\n",
    "    print(\"Numeric Column  :\\n\", num_var_list,\n",
    "          \"\\n\\nCategoric Column :\\n\", str_var_list)\n",
    "    return num_var_list, str_var_list\n",
    "\n",
    "def sortDifferentCategory(data):\n",
    "    def takeSecond(elem):\n",
    "        return elem[1]\n",
    "\n",
    "    listem = []\n",
    "    for i in data.select_dtypes(include=[\"object\", \"int64\", \"float64\"]).columns:\n",
    "        listem.append([i, data[i].value_counts().count()])\n",
    "\n",
    "    return sorted(listem, key=takeSecond ,reverse=False)\n"
   ]
  },
  {
   "cell_type": "code",
   "execution_count": 12,
   "metadata": {
    "colab": {},
    "colab_type": "code",
    "id": "_5Q6CsTaxqIv"
   },
   "outputs": [],
   "source": [
    "def layer1(data_norm, remove_col, threshold):\n",
    "    corr_col=set()\n",
    "    data2 = data.drop(remove_col, axis=1)\n",
    "    corrmat=data2.corr()\n",
    "    for i in range(len(corrmat.columns)):\n",
    "        for j in range(i):\n",
    "            if abs(corrmat.iloc[i,j] > threshold):\n",
    "                colname=corrmat.columns[i]\n",
    "                corr_col.add(colname)\n",
    "    corr_col=list(corr_col)\n",
    "    layer1_df = data_norm.drop(corr_col, axis=1)\n",
    "    #layer1_df[\"labels\"] = data_norm[\"labels\"]\n",
    "    return layer1_df\n",
    "\n",
    "def featureselection_pca(data_minmax, target, threshold):\n",
    "    x = data_minmax.drop([target], axis=1)\n",
    "    y = data_minmax[target]\n",
    "    pca = PCA()    \n",
    "    X_pca = pca.fit_transform(x)\n",
    "    arr = np.cumsum(np.round(pca.explained_variance_ratio_, decimals = 4)*100)\n",
    "    num_var = sum((arr < threshold*100)) + 1 \n",
    "    print('pca sonrası değişken sayısı: ',num_var)\n",
    "    X_pcad = pd.DataFrame(X_pca[:,0:num_var], index = x.index)\n",
    "    X_pcad[target] = y\n",
    "    return X_pcad\n",
    "\n",
    "def layer2(new_df, target, num_feats):\n",
    "    x = new_df.drop([target], axis=1)\n",
    "    y = new_df[target]\n",
    "    cor_list = []\n",
    "    feature_name = list(x.columns)\n",
    "    for i in list(x.columns):\n",
    "        cor = np.corrcoef(x[i],y)[0,1]\n",
    "        cor_list.append(cor)\n",
    "\n",
    "    cor_list = [0 if np.isnan(i) else i for i in cor_list]\n",
    "    cor_feature = x.iloc[:,np.argsort(np.abs(cor_list))[-num_feats:]].columns.tolist()\n",
    "    return cor_feature\n",
    "\n",
    "def featureselection_randomforest(xtrain,ytrain, params, top_feat, cv=10, n_jobs=-1, verbose=2):\n",
    "    model = RandomForestClassifier()\n",
    "    gridsearch_cv = GridSearchCV(model, params, cv=cv, n_jobs=n_jobs, verbose=verbose)\n",
    "    grid_cv_model = gridsearch_cv.fit(xtrain, ytrain)\n",
    "    # best parameters\n",
    "    model.max_depth = grid_cv_model.best_params_[\"max_depth\"]\n",
    "    model.max_features = grid_cv_model.best_params_[\"max_features\"] \n",
    "    model.n_estimators = grid_cv_model.best_params_[\"n_estimators\"]\n",
    "    model.min_samples_split= grid_cv_model.best_params_[\"min_samples_split\"]\n",
    "    # tuned model\n",
    "    model_tuned = model.fit(xtrain, ytrain)\n",
    "    #y_pred = model_tuned.predict(xtest)\n",
    "    \n",
    "    importance = pd.DataFrame({\"importance\": model.feature_importances_*100}, index = xtrain.columns)\n",
    "    rf_columns = importance.sort_values(by=\"importance\", axis=0, ascending=False).head(top_feat).index\n",
    "    new_df = xtrain[rf_columns]\n",
    "    new_df[\"bad\"] = ytrain\n",
    "    return new_df\n",
    "\n",
    "def featureselection_corrcorr(data, target, threshold, num_feat):\n",
    "    layer1_df = layer1(data, target, threshold)\n",
    "    last_features = layer2(layer1_df, target, num_feat)\n",
    "    reduced_df = data[last_features]\n",
    "    reduced_df[target] = data[target]\n",
    "    return reduced_df\n",
    "\n",
    "def dummy_df(df, todummy_list):\n",
    "    for x in todummy_list:\n",
    "        dummies = pd.get_dummies(df[x], prefix=x, dummy_na=False)\n",
    "        df = df.drop(x, 1)\n",
    "        df = pd.concat([df, dummies], axis=1)\n",
    "    return df"
   ]
  },
  {
   "cell_type": "code",
   "execution_count": 13,
   "metadata": {
    "colab": {},
    "colab_type": "code",
    "id": "cYu70vRMxqJO"
   },
   "outputs": [],
   "source": [
    "def describe(data):\n",
    "    desc_df = data.describe().T\n",
    "    null_count = data.isnull().sum()\n",
    "    null_percent = (data.isnull().sum() / data.count())*100\n",
    "    variance = data.var()\n",
    "\n",
    "    desc_df[\"variance\"] =  round(variance,3)\n",
    "    desc_df[\"null_values\"] = round(null_count,3)\n",
    "    desc_df[\"null__rate\"] = round(null_percent,3)\n",
    "    return desc_df.T\n",
    "\n",
    "def normalization_minmax(dataframe):\n",
    "    scaler = preprocessing.MinMaxScaler()\n",
    "    scaler.fit(dataframe)\n",
    "    array = scaler.transform(dataframe)\n",
    "    data_minmax = pd.DataFrame(array, columns=dataframe.columns)\n",
    "    return data_minmax\n",
    "\n",
    "def nulldata_check(data):\n",
    "    count = data.isnull().sum().sort_values(ascending=True).to_frame()\n",
    "    percent = (data.isnull().sum().sort_values(ascending=True)/data[\"bad\"].count()).to_frame().round(decimals=4)\n",
    "    df = pd.concat([count, percent], axis=1)\n",
    "    df.columns = [\"count\",\"percentage\"]\n",
    "    return df\n",
    "\n",
    "def evaluation_metrics(ytest, y_pred):\n",
    "    print(\"accuracy : \", round(accuracy_score(ytest,y_pred),5),\n",
    "      \"\\nprecision: \", round(precision_score(ytest,y_pred),5),\n",
    "      \"\\nrecall   : \", round(recall_score(ytest,y_pred),5),\n",
    "      \"\\nf1-score : \", round(f1_score(ytest,y_pred),5))\n",
    "    \n",
    "def train_test_splitting(data, target, test_size=0.25, random_state=42):\n",
    "    x = data.drop([target], axis=1)\n",
    "    y = data[target]\n",
    "    xtrain, xtest, ytrain, ytest = train_test_split(x,y, test_size=test_size, random_state=random_state)\n",
    "    print(xtrain.shape, xtest.shape, ytrain.shape, ytest.shape)\n",
    "    return xtrain, xtest, ytrain, ytest"
   ]
  },
  {
   "cell_type": "markdown",
   "metadata": {
    "colab_type": "text",
    "id": "ZPw0DnhZxqJ0"
   },
   "source": [
    "# **1. Data Exploration**"
   ]
  },
  {
   "cell_type": "markdown",
   "metadata": {
    "colab_type": "text",
    "id": "MGWP3TruxqJ2"
   },
   "source": [
    "### **1.1.  Veri Degiskenlerinin Aciklanmasi**"
   ]
  },
  {
   "cell_type": "markdown",
   "metadata": {
    "colab_type": "text",
    "id": "vf7hS8DBxqJ3"
   },
   "source": [
    "**BAD:** BAD değişkeni veri setinde hedef değişkenidir. **'1'** kişinin borcunu zamanında ve usulüne göre yerine getirmediği durum. **'0'** kredi borcunu zamanında ödemiş. \n",
    "\n",
    "**LOAN:** Bankadan talep ettiği kredi miktarı \n",
    "\n",
    "**MORTDUE:** İpotek için ödemesi gereken tutar\n",
    "\n",
    "**VALUE:** Müşterinin geçerli mülk değeri\n",
    "\n",
    "**REASON:** **DebtCont=** diğer borç yükümlülükleri için alınan borç. **HomeImp=** Kişisel ev ihtiyaçları için alınan borç \n",
    "\n",
    "**JOB:** Müşterinin meslek (kategorik veri)\n",
    "\n",
    "**YOJ:** Mevcut mesleğinde kaç yıldır çalışıyor\n",
    "\n",
    "**DEROG:** Kredi almasını etkileyen önemli zararlı/uygunsuz rapor sayısı\n",
    "\n",
    "**DELINQ:** Zamanında ödenmemiş kredi sayısı\n",
    "\n",
    "**CLAGE:** Aylar içinde en eski kredi limitinin yaşı\n",
    "\n",
    "**NINQ:** Kredi ile ilgili son yapılan sorgu sayısı\n",
    "\n",
    "**CLNO:** Kredi limitinin sayısı \n",
    "\n",
    "**DEBTINC:** Müşterinin borç-gelir oranı "
   ]
  },
  {
   "cell_type": "code",
   "execution_count": 15,
   "metadata": {
    "colab": {
     "base_uri": "https://localhost:8080/",
     "height": 206
    },
    "colab_type": "code",
    "id": "pm7_ONOZxqJ4",
    "outputId": "4207e316-648e-4f94-f849-8e202e0a87e5"
   },
   "outputs": [
    {
     "data": {
      "text/html": [
       "<div>\n",
       "<style scoped>\n",
       "    .dataframe tbody tr th:only-of-type {\n",
       "        vertical-align: middle;\n",
       "    }\n",
       "\n",
       "    .dataframe tbody tr th {\n",
       "        vertical-align: top;\n",
       "    }\n",
       "\n",
       "    .dataframe thead th {\n",
       "        text-align: right;\n",
       "    }\n",
       "</style>\n",
       "<table border=\"1\" class=\"dataframe\">\n",
       "  <thead>\n",
       "    <tr style=\"text-align: right;\">\n",
       "      <th></th>\n",
       "      <th>bad</th>\n",
       "      <th>loan</th>\n",
       "      <th>mortdue</th>\n",
       "      <th>value</th>\n",
       "      <th>reason</th>\n",
       "      <th>job</th>\n",
       "      <th>yoj</th>\n",
       "      <th>derog</th>\n",
       "      <th>delinq</th>\n",
       "      <th>clage</th>\n",
       "      <th>ninq</th>\n",
       "      <th>clno</th>\n",
       "      <th>debtinc</th>\n",
       "    </tr>\n",
       "  </thead>\n",
       "  <tbody>\n",
       "    <tr>\n",
       "      <th>0</th>\n",
       "      <td>0</td>\n",
       "      <td>81200</td>\n",
       "      <td>18834.0</td>\n",
       "      <td>108355.0</td>\n",
       "      <td>HomeImp</td>\n",
       "      <td>NaN</td>\n",
       "      <td>28.0</td>\n",
       "      <td>0.0</td>\n",
       "      <td>0.0</td>\n",
       "      <td>139.14</td>\n",
       "      <td>0.0</td>\n",
       "      <td>14.0</td>\n",
       "      <td>34.042</td>\n",
       "    </tr>\n",
       "    <tr>\n",
       "      <th>1</th>\n",
       "      <td>0</td>\n",
       "      <td>12600</td>\n",
       "      <td>103960.0</td>\n",
       "      <td>127384.0</td>\n",
       "      <td>DebtCon</td>\n",
       "      <td>NaN</td>\n",
       "      <td>2.0</td>\n",
       "      <td>0.0</td>\n",
       "      <td>0.0</td>\n",
       "      <td>129.02</td>\n",
       "      <td>0.0</td>\n",
       "      <td>25.0</td>\n",
       "      <td>34.479</td>\n",
       "    </tr>\n",
       "    <tr>\n",
       "      <th>2</th>\n",
       "      <td>0</td>\n",
       "      <td>18000</td>\n",
       "      <td>46865.0</td>\n",
       "      <td>61266.0</td>\n",
       "      <td>DebtCon</td>\n",
       "      <td>NaN</td>\n",
       "      <td>5.0</td>\n",
       "      <td>0.0</td>\n",
       "      <td>0.0</td>\n",
       "      <td>102.59</td>\n",
       "      <td>2.0</td>\n",
       "      <td>9.0</td>\n",
       "      <td>26.354</td>\n",
       "    </tr>\n",
       "    <tr>\n",
       "      <th>3</th>\n",
       "      <td>0</td>\n",
       "      <td>10300</td>\n",
       "      <td>57676.0</td>\n",
       "      <td>71027.0</td>\n",
       "      <td>DebtCon</td>\n",
       "      <td>NaN</td>\n",
       "      <td>19.0</td>\n",
       "      <td>0.0</td>\n",
       "      <td>0.0</td>\n",
       "      <td>157.52</td>\n",
       "      <td>1.0</td>\n",
       "      <td>11.0</td>\n",
       "      <td>33.992</td>\n",
       "    </tr>\n",
       "    <tr>\n",
       "      <th>4</th>\n",
       "      <td>0</td>\n",
       "      <td>9400</td>\n",
       "      <td>56508.0</td>\n",
       "      <td>78358.0</td>\n",
       "      <td>DebtCon</td>\n",
       "      <td>NaN</td>\n",
       "      <td>17.0</td>\n",
       "      <td>0.0</td>\n",
       "      <td>0.0</td>\n",
       "      <td>141.93</td>\n",
       "      <td>0.0</td>\n",
       "      <td>11.0</td>\n",
       "      <td>32.327</td>\n",
       "    </tr>\n",
       "  </tbody>\n",
       "</table>\n",
       "</div>"
      ],
      "text/plain": [
       "   bad   loan   mortdue     value   reason  job   yoj  derog  delinq   clage  \\\n",
       "0    0  81200   18834.0  108355.0  HomeImp  NaN  28.0    0.0     0.0  139.14   \n",
       "1    0  12600  103960.0  127384.0  DebtCon  NaN   2.0    0.0     0.0  129.02   \n",
       "2    0  18000   46865.0   61266.0  DebtCon  NaN   5.0    0.0     0.0  102.59   \n",
       "3    0  10300   57676.0   71027.0  DebtCon  NaN  19.0    0.0     0.0  157.52   \n",
       "4    0   9400   56508.0   78358.0  DebtCon  NaN  17.0    0.0     0.0  141.93   \n",
       "\n",
       "   ninq  clno  debtinc  \n",
       "0   0.0  14.0   34.042  \n",
       "1   0.0  25.0   34.479  \n",
       "2   2.0   9.0   26.354  \n",
       "3   1.0  11.0   33.992  \n",
       "4   0.0  11.0   32.327  "
      ]
     },
     "execution_count": 15,
     "metadata": {},
     "output_type": "execute_result"
    }
   ],
   "source": [
    "data = pd.read_csv(\"hmelq.csv\")\n",
    "data.head()"
   ]
  },
  {
   "cell_type": "markdown",
   "metadata": {
    "colab_type": "text",
    "id": "eHcVxyBBxqKG"
   },
   "source": [
    "### **1.2. Verilerin Istatistiksel Dagilimi**"
   ]
  },
  {
   "cell_type": "code",
   "execution_count": 16,
   "metadata": {
    "colab": {
     "base_uri": "https://localhost:8080/",
     "height": 412
    },
    "colab_type": "code",
    "id": "drlEnU5sxqKH",
    "outputId": "56fa3d4b-c00d-4900-dd01-909a9297f019"
   },
   "outputs": [
    {
     "name": "stdout",
     "output_type": "stream",
     "text": [
      "Shape:  (3576, 13)\n"
     ]
    },
    {
     "data": {
      "text/html": [
       "<div>\n",
       "<style scoped>\n",
       "    .dataframe tbody tr th:only-of-type {\n",
       "        vertical-align: middle;\n",
       "    }\n",
       "\n",
       "    .dataframe tbody tr th {\n",
       "        vertical-align: top;\n",
       "    }\n",
       "\n",
       "    .dataframe thead th {\n",
       "        text-align: right;\n",
       "    }\n",
       "</style>\n",
       "<table border=\"1\" class=\"dataframe\">\n",
       "  <thead>\n",
       "    <tr style=\"text-align: right;\">\n",
       "      <th></th>\n",
       "      <th>count</th>\n",
       "      <th>mean</th>\n",
       "      <th>std</th>\n",
       "      <th>min</th>\n",
       "      <th>25%</th>\n",
       "      <th>50%</th>\n",
       "      <th>75%</th>\n",
       "      <th>max</th>\n",
       "      <th>variance</th>\n",
       "      <th>null_values</th>\n",
       "      <th>null__rate</th>\n",
       "    </tr>\n",
       "  </thead>\n",
       "  <tbody>\n",
       "    <tr>\n",
       "      <th>bad</th>\n",
       "      <td>3576.0</td>\n",
       "      <td>0.199385</td>\n",
       "      <td>0.399594</td>\n",
       "      <td>0.00</td>\n",
       "      <td>0.00</td>\n",
       "      <td>0.000</td>\n",
       "      <td>0.00</td>\n",
       "      <td>1.000</td>\n",
       "      <td>1.600000e-01</td>\n",
       "      <td>0.0</td>\n",
       "      <td>0.000</td>\n",
       "    </tr>\n",
       "    <tr>\n",
       "      <th>loan</th>\n",
       "      <td>3576.0</td>\n",
       "      <td>18529.697987</td>\n",
       "      <td>11262.834060</td>\n",
       "      <td>1100.00</td>\n",
       "      <td>11000.00</td>\n",
       "      <td>16200.000</td>\n",
       "      <td>23100.00</td>\n",
       "      <td>89900.000</td>\n",
       "      <td>1.268514e+08</td>\n",
       "      <td>0.0</td>\n",
       "      <td>0.000</td>\n",
       "    </tr>\n",
       "    <tr>\n",
       "      <th>mortdue</th>\n",
       "      <td>3262.0</td>\n",
       "      <td>74013.907992</td>\n",
       "      <td>44016.833772</td>\n",
       "      <td>2619.00</td>\n",
       "      <td>46700.25</td>\n",
       "      <td>65858.000</td>\n",
       "      <td>91717.00</td>\n",
       "      <td>399550.000</td>\n",
       "      <td>1.937482e+09</td>\n",
       "      <td>314.0</td>\n",
       "      <td>9.626</td>\n",
       "    </tr>\n",
       "    <tr>\n",
       "      <th>value</th>\n",
       "      <td>3512.0</td>\n",
       "      <td>101076.922759</td>\n",
       "      <td>54865.275351</td>\n",
       "      <td>8800.00</td>\n",
       "      <td>65753.00</td>\n",
       "      <td>89183.000</td>\n",
       "      <td>118928.25</td>\n",
       "      <td>850000.000</td>\n",
       "      <td>3.010198e+09</td>\n",
       "      <td>64.0</td>\n",
       "      <td>1.822</td>\n",
       "    </tr>\n",
       "    <tr>\n",
       "      <th>yoj</th>\n",
       "      <td>3264.0</td>\n",
       "      <td>8.832644</td>\n",
       "      <td>7.568046</td>\n",
       "      <td>0.00</td>\n",
       "      <td>3.00</td>\n",
       "      <td>7.000</td>\n",
       "      <td>13.00</td>\n",
       "      <td>41.000</td>\n",
       "      <td>5.727500e+01</td>\n",
       "      <td>312.0</td>\n",
       "      <td>9.559</td>\n",
       "    </tr>\n",
       "    <tr>\n",
       "      <th>derog</th>\n",
       "      <td>3149.0</td>\n",
       "      <td>0.261670</td>\n",
       "      <td>0.865178</td>\n",
       "      <td>0.00</td>\n",
       "      <td>0.00</td>\n",
       "      <td>0.000</td>\n",
       "      <td>0.00</td>\n",
       "      <td>10.000</td>\n",
       "      <td>7.490000e-01</td>\n",
       "      <td>427.0</td>\n",
       "      <td>13.560</td>\n",
       "    </tr>\n",
       "    <tr>\n",
       "      <th>delinq</th>\n",
       "      <td>3225.0</td>\n",
       "      <td>0.432558</td>\n",
       "      <td>1.099230</td>\n",
       "      <td>0.00</td>\n",
       "      <td>0.00</td>\n",
       "      <td>0.000</td>\n",
       "      <td>0.00</td>\n",
       "      <td>15.000</td>\n",
       "      <td>1.208000e+00</td>\n",
       "      <td>351.0</td>\n",
       "      <td>10.884</td>\n",
       "    </tr>\n",
       "    <tr>\n",
       "      <th>clage</th>\n",
       "      <td>3397.0</td>\n",
       "      <td>179.832529</td>\n",
       "      <td>87.066198</td>\n",
       "      <td>0.49</td>\n",
       "      <td>115.60</td>\n",
       "      <td>173.640</td>\n",
       "      <td>230.71</td>\n",
       "      <td>1168.230</td>\n",
       "      <td>7.580523e+03</td>\n",
       "      <td>179.0</td>\n",
       "      <td>5.269</td>\n",
       "    </tr>\n",
       "    <tr>\n",
       "      <th>ninq</th>\n",
       "      <td>3273.0</td>\n",
       "      <td>1.186373</td>\n",
       "      <td>1.728723</td>\n",
       "      <td>0.00</td>\n",
       "      <td>0.00</td>\n",
       "      <td>1.000</td>\n",
       "      <td>2.00</td>\n",
       "      <td>17.000</td>\n",
       "      <td>2.988000e+00</td>\n",
       "      <td>303.0</td>\n",
       "      <td>9.258</td>\n",
       "    </tr>\n",
       "    <tr>\n",
       "      <th>clno</th>\n",
       "      <td>3443.0</td>\n",
       "      <td>21.507116</td>\n",
       "      <td>10.167490</td>\n",
       "      <td>0.00</td>\n",
       "      <td>15.00</td>\n",
       "      <td>20.000</td>\n",
       "      <td>26.00</td>\n",
       "      <td>71.000</td>\n",
       "      <td>1.033780e+02</td>\n",
       "      <td>133.0</td>\n",
       "      <td>3.863</td>\n",
       "    </tr>\n",
       "    <tr>\n",
       "      <th>debtinc</th>\n",
       "      <td>2809.0</td>\n",
       "      <td>33.831737</td>\n",
       "      <td>9.061837</td>\n",
       "      <td>0.72</td>\n",
       "      <td>29.14</td>\n",
       "      <td>34.747</td>\n",
       "      <td>38.94</td>\n",
       "      <td>203.312</td>\n",
       "      <td>8.211700e+01</td>\n",
       "      <td>767.0</td>\n",
       "      <td>27.305</td>\n",
       "    </tr>\n",
       "  </tbody>\n",
       "</table>\n",
       "</div>"
      ],
      "text/plain": [
       "          count           mean           std      min       25%        50%  \\\n",
       "bad      3576.0       0.199385      0.399594     0.00      0.00      0.000   \n",
       "loan     3576.0   18529.697987  11262.834060  1100.00  11000.00  16200.000   \n",
       "mortdue  3262.0   74013.907992  44016.833772  2619.00  46700.25  65858.000   \n",
       "value    3512.0  101076.922759  54865.275351  8800.00  65753.00  89183.000   \n",
       "yoj      3264.0       8.832644      7.568046     0.00      3.00      7.000   \n",
       "derog    3149.0       0.261670      0.865178     0.00      0.00      0.000   \n",
       "delinq   3225.0       0.432558      1.099230     0.00      0.00      0.000   \n",
       "clage    3397.0     179.832529     87.066198     0.49    115.60    173.640   \n",
       "ninq     3273.0       1.186373      1.728723     0.00      0.00      1.000   \n",
       "clno     3443.0      21.507116     10.167490     0.00     15.00     20.000   \n",
       "debtinc  2809.0      33.831737      9.061837     0.72     29.14     34.747   \n",
       "\n",
       "               75%         max      variance  null_values  null__rate  \n",
       "bad           0.00       1.000  1.600000e-01          0.0       0.000  \n",
       "loan      23100.00   89900.000  1.268514e+08          0.0       0.000  \n",
       "mortdue   91717.00  399550.000  1.937482e+09        314.0       9.626  \n",
       "value    118928.25  850000.000  3.010198e+09         64.0       1.822  \n",
       "yoj          13.00      41.000  5.727500e+01        312.0       9.559  \n",
       "derog         0.00      10.000  7.490000e-01        427.0      13.560  \n",
       "delinq        0.00      15.000  1.208000e+00        351.0      10.884  \n",
       "clage       230.71    1168.230  7.580523e+03        179.0       5.269  \n",
       "ninq          2.00      17.000  2.988000e+00        303.0       9.258  \n",
       "clno         26.00      71.000  1.033780e+02        133.0       3.863  \n",
       "debtinc      38.94     203.312  8.211700e+01        767.0      27.305  "
      ]
     },
     "execution_count": 16,
     "metadata": {},
     "output_type": "execute_result"
    }
   ],
   "source": [
    "print(\"Shape: \", data.shape)\n",
    "describe(data).T"
   ]
  },
  {
   "cell_type": "markdown",
   "metadata": {
    "colab_type": "text",
    "id": "TcCxid3pxqKP"
   },
   "source": [
    "### **1.3. Kategorik-Numerik Degiskenlerin Incelenmesi**"
   ]
  },
  {
   "cell_type": "code",
   "execution_count": 17,
   "metadata": {
    "colab": {
     "base_uri": "https://localhost:8080/",
     "height": 173
    },
    "colab_type": "code",
    "id": "s5GS3wi1xqKR",
    "outputId": "3ad8327d-cab4-46b4-f948-8ddf63ecc4b8"
   },
   "outputs": [
    {
     "name": "stdout",
     "output_type": "stream",
     "text": [
      "Numeric Column  :\n",
      " ['bad', 'loan', 'mortdue', 'value', 'yoj', 'derog', 'delinq', 'clage', 'ninq', 'clno', 'debtinc'] \n",
      "\n",
      "Categoric Column :\n",
      " ['reason', 'job']\n",
      "\n",
      "\n",
      "reason :  2\n",
      "job :  6\n"
     ]
    }
   ],
   "source": [
    "num, cat = numeric_categoric_variable(data)\n",
    "print(\"\\n\")\n",
    "for i in data.select_dtypes(include=[\"object\"]).columns:\n",
    "    print(i,\": \",data[i].value_counts().count())"
   ]
  },
  {
   "cell_type": "markdown",
   "metadata": {
    "colab_type": "text",
    "id": "0H4_vBCGxqKe"
   },
   "source": [
    "Burada degiskenlerde kac farkli kategori oldugunu kontrol ediyoruz. Daha onceden kategorik veriler sayisal olarak girilmis olabilir. Ancak degiskenleri inceledigimize job ve reason disinda kategorik degiskenlerin olmadigini goruyoruz. derog ve delinq degiskenlerini dusunduk ancak odenmemis kredi sayisi ve uygunsun rapor sayisi oldugundan ayrik sayisal degerler oldugunu goruyoruz."
   ]
  },
  {
   "cell_type": "code",
   "execution_count": 18,
   "metadata": {
    "colab": {
     "base_uri": "https://localhost:8080/",
     "height": 243
    },
    "colab_type": "code",
    "id": "-kHljLXZxqKn",
    "outputId": "d25732a8-9b5c-4cb1-da41-56320b2f036c"
   },
   "outputs": [
    {
     "data": {
      "text/plain": [
       "[['bad', 2],\n",
       " ['reason', 2],\n",
       " ['job', 6],\n",
       " ['derog', 11],\n",
       " ['delinq', 12],\n",
       " ['ninq', 15],\n",
       " ['clno', 61],\n",
       " ['yoj', 86],\n",
       " ['loan', 474],\n",
       " ['debtinc', 2653],\n",
       " ['clage', 3050],\n",
       " ['mortdue', 3095],\n",
       " ['value', 3302]]"
      ]
     },
     "execution_count": 18,
     "metadata": {},
     "output_type": "execute_result"
    }
   ],
   "source": [
    "sortDifferentCategory(data)"
   ]
  },
  {
   "cell_type": "markdown",
   "metadata": {
    "colab_type": "text",
    "id": "I7VMVZy0xqK1"
   },
   "source": [
    "### **1.4. Categoric Variables using CrossTab**"
   ]
  },
  {
   "cell_type": "code",
   "execution_count": 19,
   "metadata": {
    "colab": {
     "base_uri": "https://localhost:8080/",
     "height": 143
    },
    "colab_type": "code",
    "id": "Q81GSWrwxqK4",
    "outputId": "d497f304-20cb-4bdc-f3be-4b8cf3b248bd"
   },
   "outputs": [
    {
     "data": {
      "text/html": [
       "<div>\n",
       "<style scoped>\n",
       "    .dataframe tbody tr th:only-of-type {\n",
       "        vertical-align: middle;\n",
       "    }\n",
       "\n",
       "    .dataframe tbody tr th {\n",
       "        vertical-align: top;\n",
       "    }\n",
       "\n",
       "    .dataframe thead th {\n",
       "        text-align: right;\n",
       "    }\n",
       "</style>\n",
       "<table border=\"1\" class=\"dataframe\">\n",
       "  <thead>\n",
       "    <tr style=\"text-align: right;\">\n",
       "      <th>job</th>\n",
       "      <th>Mgr</th>\n",
       "      <th>Office</th>\n",
       "      <th>Other</th>\n",
       "      <th>ProfEx</th>\n",
       "      <th>Sales</th>\n",
       "      <th>Self</th>\n",
       "    </tr>\n",
       "    <tr>\n",
       "      <th>bad</th>\n",
       "      <th></th>\n",
       "      <th></th>\n",
       "      <th></th>\n",
       "      <th></th>\n",
       "      <th></th>\n",
       "      <th></th>\n",
       "    </tr>\n",
       "  </thead>\n",
       "  <tbody>\n",
       "    <tr>\n",
       "      <th>0</th>\n",
       "      <td>0.767896</td>\n",
       "      <td>0.86819</td>\n",
       "      <td>0.767994</td>\n",
       "      <td>0.833116</td>\n",
       "      <td>0.651515</td>\n",
       "      <td>0.704348</td>\n",
       "    </tr>\n",
       "    <tr>\n",
       "      <th>1</th>\n",
       "      <td>0.232104</td>\n",
       "      <td>0.13181</td>\n",
       "      <td>0.232006</td>\n",
       "      <td>0.166884</td>\n",
       "      <td>0.348485</td>\n",
       "      <td>0.295652</td>\n",
       "    </tr>\n",
       "  </tbody>\n",
       "</table>\n",
       "</div>"
      ],
      "text/plain": [
       "job       Mgr   Office     Other    ProfEx     Sales      Self\n",
       "bad                                                           \n",
       "0    0.767896  0.86819  0.767994  0.833116  0.651515  0.704348\n",
       "1    0.232104  0.13181  0.232006  0.166884  0.348485  0.295652"
      ]
     },
     "execution_count": 19,
     "metadata": {},
     "output_type": "execute_result"
    }
   ],
   "source": [
    "bad_class = pd.crosstab(index=data[\"bad\"], columns=data[\"job\"], normalize=\"columns\")\n",
    "bad_class"
   ]
  },
  {
   "cell_type": "code",
   "execution_count": 20,
   "metadata": {
    "colab": {
     "base_uri": "https://localhost:8080/",
     "height": 206
    },
    "colab_type": "code",
    "id": "oiPHsb13xqLH",
    "outputId": "80463637-2fe8-4e30-fb1d-df729bf39314"
   },
   "outputs": [
    {
     "data": {
      "text/html": [
       "<div>\n",
       "<style scoped>\n",
       "    .dataframe tbody tr th:only-of-type {\n",
       "        vertical-align: middle;\n",
       "    }\n",
       "\n",
       "    .dataframe tbody tr th {\n",
       "        vertical-align: top;\n",
       "    }\n",
       "\n",
       "    .dataframe thead th {\n",
       "        text-align: right;\n",
       "    }\n",
       "</style>\n",
       "<table border=\"1\" class=\"dataframe\">\n",
       "  <thead>\n",
       "    <tr style=\"text-align: right;\">\n",
       "      <th></th>\n",
       "      <th>job</th>\n",
       "      <th>Mgr</th>\n",
       "      <th>Office</th>\n",
       "      <th>Other</th>\n",
       "      <th>ProfEx</th>\n",
       "      <th>Sales</th>\n",
       "      <th>Self</th>\n",
       "    </tr>\n",
       "    <tr>\n",
       "      <th>bad</th>\n",
       "      <th>reason</th>\n",
       "      <th></th>\n",
       "      <th></th>\n",
       "      <th></th>\n",
       "      <th></th>\n",
       "      <th></th>\n",
       "      <th></th>\n",
       "    </tr>\n",
       "  </thead>\n",
       "  <tbody>\n",
       "    <tr>\n",
       "      <th rowspan=\"2\" valign=\"top\">0</th>\n",
       "      <th>DebtCon</th>\n",
       "      <td>0.147216</td>\n",
       "      <td>0.172377</td>\n",
       "      <td>0.414347</td>\n",
       "      <td>0.229657</td>\n",
       "      <td>0.021413</td>\n",
       "      <td>0.014989</td>\n",
       "    </tr>\n",
       "    <tr>\n",
       "      <th>HomeImp</th>\n",
       "      <td>0.088348</td>\n",
       "      <td>0.203585</td>\n",
       "      <td>0.379001</td>\n",
       "      <td>0.257362</td>\n",
       "      <td>0.003841</td>\n",
       "      <td>0.067862</td>\n",
       "    </tr>\n",
       "    <tr>\n",
       "      <th rowspan=\"2\" valign=\"top\">1</th>\n",
       "      <th>DebtCon</th>\n",
       "      <td>0.154378</td>\n",
       "      <td>0.129032</td>\n",
       "      <td>0.460829</td>\n",
       "      <td>0.170507</td>\n",
       "      <td>0.046083</td>\n",
       "      <td>0.039171</td>\n",
       "    </tr>\n",
       "    <tr>\n",
       "      <th>HomeImp</th>\n",
       "      <td>0.144033</td>\n",
       "      <td>0.078189</td>\n",
       "      <td>0.518519</td>\n",
       "      <td>0.193416</td>\n",
       "      <td>0.012346</td>\n",
       "      <td>0.053498</td>\n",
       "    </tr>\n",
       "  </tbody>\n",
       "</table>\n",
       "</div>"
      ],
      "text/plain": [
       "job               Mgr    Office     Other    ProfEx     Sales      Self\n",
       "bad reason                                                             \n",
       "0   DebtCon  0.147216  0.172377  0.414347  0.229657  0.021413  0.014989\n",
       "    HomeImp  0.088348  0.203585  0.379001  0.257362  0.003841  0.067862\n",
       "1   DebtCon  0.154378  0.129032  0.460829  0.170507  0.046083  0.039171\n",
       "    HomeImp  0.144033  0.078189  0.518519  0.193416  0.012346  0.053498"
      ]
     },
     "execution_count": 20,
     "metadata": {},
     "output_type": "execute_result"
    }
   ],
   "source": [
    "crosstab([data[\"bad\"], data[\"reason\"]], data[\"job\"], \"index\")"
   ]
  },
  {
   "cell_type": "markdown",
   "metadata": {
    "colab_type": "text",
    "id": "43uVZ1KvxqLL"
   },
   "source": [
    "Burada kredisini odeyen ve odemeyen incelendi ve Karar agaclarinin daha kolay islem yapabilmesi icin ikiye ayrildi. 0-2 arasi odenmemis kredisi olanlar borcunu %79 oraninda oduyor ve bu nedenle 0-2 ve 3-10 arasi seklinde ayiriyoruz. Veya Yuksek-Orta-Hic seklindede ayirabiliriz."
   ]
  },
  {
   "cell_type": "code",
   "execution_count": 21,
   "metadata": {
    "colab": {
     "base_uri": "https://localhost:8080/",
     "height": 143
    },
    "colab_type": "code",
    "id": "XX24kLb4xqLL",
    "outputId": "2bf04b36-d049-4080-9cb6-4ed862b00f22"
   },
   "outputs": [
    {
     "data": {
      "text/html": [
       "<div>\n",
       "<style scoped>\n",
       "    .dataframe tbody tr th:only-of-type {\n",
       "        vertical-align: middle;\n",
       "    }\n",
       "\n",
       "    .dataframe tbody tr th {\n",
       "        vertical-align: top;\n",
       "    }\n",
       "\n",
       "    .dataframe thead th {\n",
       "        text-align: right;\n",
       "    }\n",
       "</style>\n",
       "<table border=\"1\" class=\"dataframe\">\n",
       "  <thead>\n",
       "    <tr style=\"text-align: right;\">\n",
       "      <th>delinq</th>\n",
       "      <th>0.0</th>\n",
       "      <th>1.0</th>\n",
       "      <th>2.0</th>\n",
       "      <th>3.0</th>\n",
       "      <th>4.0</th>\n",
       "      <th>5.0</th>\n",
       "      <th>6.0</th>\n",
       "      <th>7.0</th>\n",
       "      <th>8.0</th>\n",
       "      <th>10.0</th>\n",
       "      <th>13.0</th>\n",
       "      <th>15.0</th>\n",
       "    </tr>\n",
       "    <tr>\n",
       "      <th>bad</th>\n",
       "      <th></th>\n",
       "      <th></th>\n",
       "      <th></th>\n",
       "      <th></th>\n",
       "      <th></th>\n",
       "      <th></th>\n",
       "      <th></th>\n",
       "      <th></th>\n",
       "      <th></th>\n",
       "      <th></th>\n",
       "      <th></th>\n",
       "      <th></th>\n",
       "    </tr>\n",
       "  </thead>\n",
       "  <tbody>\n",
       "    <tr>\n",
       "      <th>0</th>\n",
       "      <td>0.858959</td>\n",
       "      <td>0.648241</td>\n",
       "      <td>0.598592</td>\n",
       "      <td>0.391304</td>\n",
       "      <td>0.392157</td>\n",
       "      <td>0.190476</td>\n",
       "      <td>0.0</td>\n",
       "      <td>0.0</td>\n",
       "      <td>0.0</td>\n",
       "      <td>0.0</td>\n",
       "      <td>0.0</td>\n",
       "      <td>0.0</td>\n",
       "    </tr>\n",
       "    <tr>\n",
       "      <th>1</th>\n",
       "      <td>0.141041</td>\n",
       "      <td>0.351759</td>\n",
       "      <td>0.401408</td>\n",
       "      <td>0.608696</td>\n",
       "      <td>0.607843</td>\n",
       "      <td>0.809524</td>\n",
       "      <td>1.0</td>\n",
       "      <td>1.0</td>\n",
       "      <td>1.0</td>\n",
       "      <td>1.0</td>\n",
       "      <td>1.0</td>\n",
       "      <td>1.0</td>\n",
       "    </tr>\n",
       "  </tbody>\n",
       "</table>\n",
       "</div>"
      ],
      "text/plain": [
       "delinq      0.0       1.0       2.0       3.0       4.0       5.0   6.0   \\\n",
       "bad                                                                        \n",
       "0       0.858959  0.648241  0.598592  0.391304  0.392157  0.190476   0.0   \n",
       "1       0.141041  0.351759  0.401408  0.608696  0.607843  0.809524   1.0   \n",
       "\n",
       "delinq  7.0   8.0   10.0  13.0  15.0  \n",
       "bad                                   \n",
       "0        0.0   0.0   0.0   0.0   0.0  \n",
       "1        1.0   1.0   1.0   1.0   1.0  "
      ]
     },
     "execution_count": 21,
     "metadata": {},
     "output_type": "execute_result"
    }
   ],
   "source": [
    "crosstab(data[\"bad\"], data[\"delinq\"], \"columns\")"
   ]
  },
  {
   "cell_type": "markdown",
   "metadata": {
    "colab_type": "text",
    "id": "bgt2oc78xqLU"
   },
   "source": [
    "Toplam verisetinde %5'ten kucuk null degerine value, clno, reason, job degiskenleri oldugunu goruyoruz. Veri karakteristigini daha az etkileyecegini dusundugumuz bu %5lik degiskenleri median ile doldurmayi dusunduk."
   ]
  },
  {
   "cell_type": "markdown",
   "metadata": {
    "colab_type": "text",
    "id": "MhQRbBu7xqLV"
   },
   "source": [
    "### **1.5. NULL Values Checking**"
   ]
  },
  {
   "cell_type": "code",
   "execution_count": 22,
   "metadata": {
    "colab": {
     "base_uri": "https://localhost:8080/",
     "height": 457
    },
    "colab_type": "code",
    "id": "ZwLD-DipxqLW",
    "outputId": "17349671-5665-43cd-f1c6-313a2cb7c9e6"
   },
   "outputs": [
    {
     "data": {
      "text/html": [
       "<div>\n",
       "<style scoped>\n",
       "    .dataframe tbody tr th:only-of-type {\n",
       "        vertical-align: middle;\n",
       "    }\n",
       "\n",
       "    .dataframe tbody tr th {\n",
       "        vertical-align: top;\n",
       "    }\n",
       "\n",
       "    .dataframe thead th {\n",
       "        text-align: right;\n",
       "    }\n",
       "</style>\n",
       "<table border=\"1\" class=\"dataframe\">\n",
       "  <thead>\n",
       "    <tr style=\"text-align: right;\">\n",
       "      <th></th>\n",
       "      <th>count</th>\n",
       "      <th>percentage</th>\n",
       "    </tr>\n",
       "  </thead>\n",
       "  <tbody>\n",
       "    <tr>\n",
       "      <th>bad</th>\n",
       "      <td>0</td>\n",
       "      <td>0.0000</td>\n",
       "    </tr>\n",
       "    <tr>\n",
       "      <th>loan</th>\n",
       "      <td>0</td>\n",
       "      <td>0.0000</td>\n",
       "    </tr>\n",
       "    <tr>\n",
       "      <th>value</th>\n",
       "      <td>64</td>\n",
       "      <td>0.0179</td>\n",
       "    </tr>\n",
       "    <tr>\n",
       "      <th>clno</th>\n",
       "      <td>133</td>\n",
       "      <td>0.0372</td>\n",
       "    </tr>\n",
       "    <tr>\n",
       "      <th>reason</th>\n",
       "      <td>147</td>\n",
       "      <td>0.0411</td>\n",
       "    </tr>\n",
       "    <tr>\n",
       "      <th>job</th>\n",
       "      <td>167</td>\n",
       "      <td>0.0467</td>\n",
       "    </tr>\n",
       "    <tr>\n",
       "      <th>clage</th>\n",
       "      <td>179</td>\n",
       "      <td>0.0501</td>\n",
       "    </tr>\n",
       "    <tr>\n",
       "      <th>ninq</th>\n",
       "      <td>303</td>\n",
       "      <td>0.0847</td>\n",
       "    </tr>\n",
       "    <tr>\n",
       "      <th>yoj</th>\n",
       "      <td>312</td>\n",
       "      <td>0.0872</td>\n",
       "    </tr>\n",
       "    <tr>\n",
       "      <th>mortdue</th>\n",
       "      <td>314</td>\n",
       "      <td>0.0878</td>\n",
       "    </tr>\n",
       "    <tr>\n",
       "      <th>delinq</th>\n",
       "      <td>351</td>\n",
       "      <td>0.0982</td>\n",
       "    </tr>\n",
       "    <tr>\n",
       "      <th>derog</th>\n",
       "      <td>427</td>\n",
       "      <td>0.1194</td>\n",
       "    </tr>\n",
       "    <tr>\n",
       "      <th>debtinc</th>\n",
       "      <td>767</td>\n",
       "      <td>0.2145</td>\n",
       "    </tr>\n",
       "  </tbody>\n",
       "</table>\n",
       "</div>"
      ],
      "text/plain": [
       "         count  percentage\n",
       "bad          0      0.0000\n",
       "loan         0      0.0000\n",
       "value       64      0.0179\n",
       "clno       133      0.0372\n",
       "reason     147      0.0411\n",
       "job        167      0.0467\n",
       "clage      179      0.0501\n",
       "ninq       303      0.0847\n",
       "yoj        312      0.0872\n",
       "mortdue    314      0.0878\n",
       "delinq     351      0.0982\n",
       "derog      427      0.1194\n",
       "debtinc    767      0.2145"
      ]
     },
     "execution_count": 22,
     "metadata": {},
     "output_type": "execute_result"
    }
   ],
   "source": [
    "null_data = nulldata_check(data)\n",
    "null_data[null_data[\"percentage\"] <= 0.55]"
   ]
  },
  {
   "cell_type": "markdown",
   "metadata": {
    "colab_type": "text",
    "id": "X310SmyixqLb"
   },
   "source": [
    "# **2. Data Visualization**"
   ]
  },
  {
   "cell_type": "markdown",
   "metadata": {
    "colab_type": "text",
    "id": "uH8MBtH-xqLb"
   },
   "source": [
    "### **2.1. Correlation HeatMap**"
   ]
  },
  {
   "cell_type": "code",
   "execution_count": 23,
   "metadata": {
    "colab": {
     "base_uri": "https://localhost:8080/",
     "height": 487
    },
    "colab_type": "code",
    "id": "PFggUlIHxqLc",
    "outputId": "d169a6e3-f28d-4998-cf61-d7af5cf718d5"
   },
   "outputs": [
    {
     "data": {
      "image/png": "[encoded data removed]",
      "text/plain": [
       "<Figure size 1152x576 with 2 Axes>"
      ]
     },
     "metadata": {
      "needs_background": "light"
     },
     "output_type": "display_data"
    }
   ],
   "source": [
    "def heatmap(data, figsize=(16,8)):\n",
    "    fig, ax = plt.subplots(figsize=figsize)   \n",
    "    sns.heatmap(data.corr(), annot=True, linewidths=.3, ax=ax)\n",
    "    plt.show()\n",
    "\n",
    "heatmap(data.drop([\"bad\"],axis=1))"
   ]
  },
  {
   "cell_type": "markdown",
   "metadata": {
    "colab_type": "text",
    "id": "ynhoZxFuxqLr"
   },
   "source": [
    "Value ve mortdue incelendiğinnde 0.87 korelasyona sahip oldukları görülmektedir. Biri artarken diğerininde arttığı görülmektedir. Mal varlığı yüksek olan birisi ipoteğide fazla verip kredi skorunu etkileyebilir."
   ]
  },
  {
   "cell_type": "code",
   "execution_count": 24,
   "metadata": {
    "colab": {
     "base_uri": "https://localhost:8080/",
     "height": 295
    },
    "colab_type": "code",
    "id": "6c152bCcxqLs",
    "outputId": "68e57655-0873-4939-bf84-83fc71e60204"
   },
   "outputs": [
    {
     "name": "stdout",
     "output_type": "stream",
     "text": [
      "Most Correlated\n",
      "    feature1 feature2      Corr\n",
      "11  mortdue    value  0.873280\n",
      "17  mortdue     clno  0.340139\n",
      "2      loan    value  0.337453\n",
      "25    value     clno  0.290439\n",
      "35    derog   delinq  0.234706 \n",
      "\n",
      "Less Correlated\n",
      "    feature1 feature2      Corr\n",
      "4      loan    derog  0.001463\n",
      "20    value      yoj  0.002501\n",
      "14  mortdue   delinq  0.004971\n",
      "24    value     ninq  0.005191\n",
      "22    value   delinq  0.011014 \n",
      "\n"
     ]
    }
   ],
   "source": [
    "print(\"Most Correlated\\n\",correlation_df(data.drop([\"bad\"],axis=1)).sort_values(by=\"Corr\", ascending=False).head(5),\"\\n\")\n",
    "print(\"Less Correlated\\n\",correlation_df(data.drop([\"bad\"],axis=1)).sort_values(by=\"Corr\", ascending=True).head(5),\"\\n\")"
   ]
  },
  {
   "cell_type": "markdown",
   "metadata": {
    "colab_type": "text",
    "id": "si1Ueh6t142-"
   },
   "source": [
    "### **2.2. Scatter Plot**"
   ]
  },
  {
   "cell_type": "code",
   "execution_count": 25,
   "metadata": {
    "colab": {
     "base_uri": "https://localhost:8080/",
     "height": 279
    },
    "colab_type": "code",
    "id": "E0xmPFApxqL3",
    "outputId": "e14c05ab-6a2f-4ce4-e327-abc9c75d39f9"
   },
   "outputs": [
    {
     "data": {
      "image/png": "[encoded data removed]",
      "text/plain": [
       "<Figure size 504x288 with 1 Axes>"
      ]
     },
     "metadata": {
      "needs_background": "light"
     },
     "output_type": "display_data"
    }
   ],
   "source": [
    "def scatterplot(x,y, hue, data, figsize=(7,4)):\n",
    "    fig, ax = plt.subplots(figsize=figsize)        \n",
    "    sns.scatterplot(x=x, y=y, hue=hue, data=data, ax=ax)\n",
    "    plt.show()\n",
    "\n",
    "scatterplot(\"mortdue\", \"value\", \"bad\", data)"
   ]
  },
  {
   "cell_type": "code",
   "execution_count": 26,
   "metadata": {
    "colab": {
     "base_uri": "https://localhost:8080/",
     "height": 279
    },
    "colab_type": "code",
    "id": "utqb8FAIxqL-",
    "outputId": "c5ccbb1d-7a3a-4923-b6b4-547d66a18c8e"
   },
   "outputs": [
    {
     "data": {
      "image/png": "[encoded data removed]",
      "text/plain": [
       "<Figure size 504x288 with 1 Axes>"
      ]
     },
     "metadata": {
      "needs_background": "light"
     },
     "output_type": "display_data"
    }
   ],
   "source": [
    "scatterplot(\"loan\", \"value\", \"bad\", data)"
   ]
  },
  {
   "cell_type": "markdown",
   "metadata": {
    "colab_type": "text",
    "id": "UJYob8IGxqML"
   },
   "source": [
    "Boxplot grafigi incelendiginde ise **loan, mortdue ve value** degiskenlerinde aykiri degerler oldugunu goruyoruz. Orjinal verileri manipule edip silmek istemedigimizden, verilere normalizasyon yontemini uyguluyoruz."
   ]
  },
  {
   "cell_type": "markdown",
   "metadata": {
    "colab_type": "text",
    "id": "xzw8qEzi18N6"
   },
   "source": [
    "### **2.3. Box Plot**"
   ]
  },
  {
   "cell_type": "code",
   "execution_count": 27,
   "metadata": {
    "colab": {
     "base_uri": "https://localhost:8080/",
     "height": 320
    },
    "colab_type": "code",
    "id": "DqAExrJ5xqMO",
    "outputId": "cfff4678-9dad-4273-d26b-3eba763b4e4d",
    "scrolled": true
   },
   "outputs": [
    {
     "data": {
      "image/png": "[encoded data removed]",
      "text/plain": [
       "<Figure size 720x360 with 1 Axes>"
      ]
     },
     "metadata": {
      "needs_background": "light"
     },
     "output_type": "display_data"
    }
   ],
   "source": [
    "def boxplot(boxplot_df, figsize=(10,5)):\n",
    "    plt.figure(figsize=figsize)\n",
    "    boxplot_df.boxplot()\n",
    "    plt.show()\n",
    "\n",
    "boxplot(data)"
   ]
  },
  {
   "cell_type": "markdown",
   "metadata": {
    "colab_type": "text",
    "id": "xDn2ic5dxqMZ"
   },
   "source": [
    "Histogram grafigi incelendiginde ise verilerin kesikli ve normal dagilimdan gelmedigini goruyoruz. Modelimizin daha iyi sonuc vermesi icin normalizasyon yontemlerinin uygulanmasi gerektigini uygun goruyoruz."
   ]
  },
  {
   "cell_type": "markdown",
   "metadata": {
    "colab_type": "text",
    "id": "LNraFd_d2AKk"
   },
   "source": [
    "### **2.4. Histogram**"
   ]
  },
  {
   "cell_type": "code",
   "execution_count": 28,
   "metadata": {
    "colab": {
     "base_uri": "https://localhost:8080/",
     "height": 494
    },
    "colab_type": "code",
    "id": "tDx8410FxqMc",
    "outputId": "62875ba4-381f-45d6-b108-cb36d2c35ca0"
   },
   "outputs": [
    {
     "data": {
      "image/png": "[encoded data removed]",
      "text/plain": [
       "<Figure size 1152x576 with 12 Axes>"
      ]
     },
     "metadata": {
      "needs_background": "light"
     },
     "output_type": "display_data"
    }
   ],
   "source": [
    "def histogram(datas, bins=40, xlabelsize=6, ylabelsize=6, figsize=(10,5)):\n",
    "    datas.hist(figsize=figsize, bins=bins, xlabelsize=xlabelsize, ylabelsize=ylabelsize)\n",
    "    plt.show()\n",
    "    \n",
    "histogram(data.drop([\"bad\"],axis=1), figsize=(16,8))"
   ]
  },
  {
   "cell_type": "markdown",
   "metadata": {
    "colab_type": "text",
    "id": "IqEAundFxqMf"
   },
   "source": [
    "# **3. Data Preprocessing**"
   ]
  },
  {
   "cell_type": "markdown",
   "metadata": {
    "colab_type": "text",
    "id": "jSRtAKeBxqMh"
   },
   "source": [
    "### **3.1. Data Imputation**\n",
    "- value \n",
    "- clno\n",
    "- reason\n",
    "- job\n",
    "\n",
    "Ancak dropna yaptigimizda datanin %45'sini silmis bulunuyoruz. Bu nedenle bazi degiskenleri silemk istmiyoruz. Imputation yontemine gidiyoruz. Burada %5'ten kucuk NULL oranina sahip degerleri median ile ve Unknown kategori ile dolduruyoruz."
   ]
  },
  {
   "cell_type": "markdown",
   "metadata": {
    "colab_type": "text",
    "id": "z31VZ_-okFXg"
   },
   "source": [
    "#### **With Imputation**"
   ]
  },
  {
   "cell_type": "code",
   "execution_count": 29,
   "metadata": {
    "colab": {
     "base_uri": "https://localhost:8080/",
     "height": 260
    },
    "colab_type": "code",
    "id": "1bjqla8TxqMi",
    "outputId": "be187667-464b-421f-903e-4f5318607d8d",
    "scrolled": false
   },
   "outputs": [
    {
     "name": "stdout",
     "output_type": "stream",
     "text": [
      "bad        3576\n",
      "loan       3576\n",
      "mortdue    3262\n",
      "value      3576\n",
      "reason     3576\n",
      "job        3576\n",
      "yoj        3264\n",
      "derog      3149\n",
      "delinq     3225\n",
      "clage      3397\n",
      "ninq       3273\n",
      "clno       3576\n",
      "debtinc    2809\n",
      "dtype: int64\n"
     ]
    }
   ],
   "source": [
    "imputation_df = data.copy()\n",
    "imputation_df[\"value\"] = data[\"value\"].fillna(data[\"value\"].median())\n",
    "imputation_df[\"clno\"] = data[\"clno\"].fillna(data[\"clno\"].median())\n",
    "imputation_df[\"reason\"] = data[\"reason\"].fillna(\"Unknown\")\n",
    "imputation_df[\"job\"] = data[\"job\"].fillna(\"Unknown\")\n",
    "print(imputation_df.count())"
   ]
  },
  {
   "cell_type": "markdown",
   "metadata": {
    "colab_type": "text",
    "id": "VWDyGFi3j-ns"
   },
   "source": [
    "#### **Without Imputation**"
   ]
  },
  {
   "cell_type": "code",
   "execution_count": 30,
   "metadata": {
    "colab": {
     "base_uri": "https://localhost:8080/",
     "height": 474
    },
    "colab_type": "code",
    "id": "393RsiLikBXt",
    "outputId": "cfd50c9b-ba5d-4b42-e79d-c6133e8c2bcd"
   },
   "outputs": [
    {
     "name": "stdout",
     "output_type": "stream",
     "text": [
      "Total Row:  2018\n"
     ]
    },
    {
     "data": {
      "text/html": [
       "<div>\n",
       "<style scoped>\n",
       "    .dataframe tbody tr th:only-of-type {\n",
       "        vertical-align: middle;\n",
       "    }\n",
       "\n",
       "    .dataframe tbody tr th {\n",
       "        vertical-align: top;\n",
       "    }\n",
       "\n",
       "    .dataframe thead th {\n",
       "        text-align: right;\n",
       "    }\n",
       "</style>\n",
       "<table border=\"1\" class=\"dataframe\">\n",
       "  <thead>\n",
       "    <tr style=\"text-align: right;\">\n",
       "      <th></th>\n",
       "      <th>count</th>\n",
       "      <th>percentage</th>\n",
       "    </tr>\n",
       "  </thead>\n",
       "  <tbody>\n",
       "    <tr>\n",
       "      <th>bad</th>\n",
       "      <td>0</td>\n",
       "      <td>0.0</td>\n",
       "    </tr>\n",
       "    <tr>\n",
       "      <th>loan</th>\n",
       "      <td>0</td>\n",
       "      <td>0.0</td>\n",
       "    </tr>\n",
       "    <tr>\n",
       "      <th>mortdue</th>\n",
       "      <td>0</td>\n",
       "      <td>0.0</td>\n",
       "    </tr>\n",
       "    <tr>\n",
       "      <th>value</th>\n",
       "      <td>0</td>\n",
       "      <td>0.0</td>\n",
       "    </tr>\n",
       "    <tr>\n",
       "      <th>reason</th>\n",
       "      <td>0</td>\n",
       "      <td>0.0</td>\n",
       "    </tr>\n",
       "    <tr>\n",
       "      <th>job</th>\n",
       "      <td>0</td>\n",
       "      <td>0.0</td>\n",
       "    </tr>\n",
       "    <tr>\n",
       "      <th>yoj</th>\n",
       "      <td>0</td>\n",
       "      <td>0.0</td>\n",
       "    </tr>\n",
       "    <tr>\n",
       "      <th>derog</th>\n",
       "      <td>0</td>\n",
       "      <td>0.0</td>\n",
       "    </tr>\n",
       "    <tr>\n",
       "      <th>delinq</th>\n",
       "      <td>0</td>\n",
       "      <td>0.0</td>\n",
       "    </tr>\n",
       "    <tr>\n",
       "      <th>clage</th>\n",
       "      <td>0</td>\n",
       "      <td>0.0</td>\n",
       "    </tr>\n",
       "    <tr>\n",
       "      <th>ninq</th>\n",
       "      <td>0</td>\n",
       "      <td>0.0</td>\n",
       "    </tr>\n",
       "    <tr>\n",
       "      <th>clno</th>\n",
       "      <td>0</td>\n",
       "      <td>0.0</td>\n",
       "    </tr>\n",
       "    <tr>\n",
       "      <th>debtinc</th>\n",
       "      <td>0</td>\n",
       "      <td>0.0</td>\n",
       "    </tr>\n",
       "  </tbody>\n",
       "</table>\n",
       "</div>"
      ],
      "text/plain": [
       "         count  percentage\n",
       "bad          0         0.0\n",
       "loan         0         0.0\n",
       "mortdue      0         0.0\n",
       "value        0         0.0\n",
       "reason       0         0.0\n",
       "job          0         0.0\n",
       "yoj          0         0.0\n",
       "derog        0         0.0\n",
       "delinq       0         0.0\n",
       "clage        0         0.0\n",
       "ninq         0         0.0\n",
       "clno         0         0.0\n",
       "debtinc      0         0.0"
      ]
     },
     "execution_count": 30,
     "metadata": {},
     "output_type": "execute_result"
    }
   ],
   "source": [
    "without_imputation_df = data.copy()\n",
    "without_imputation_df.dropna(inplace=True)\n",
    "print(\"Total Row: \",without_imputation_df.count()[\"bad\"])\n",
    "nulldata_check(without_imputation_df)"
   ]
  },
  {
   "cell_type": "markdown",
   "metadata": {
    "colab_type": "text",
    "id": "jAd11x0FxqMp"
   },
   "source": [
    "### **3.2. NULL Data Drop**"
   ]
  },
  {
   "cell_type": "code",
   "execution_count": 31,
   "metadata": {
    "colab": {
     "base_uri": "https://localhost:8080/",
     "height": 474
    },
    "colab_type": "code",
    "id": "Rz8c6ktzxqMr",
    "outputId": "fd852ec1-c732-4340-cc99-0b3bb0fa16fb"
   },
   "outputs": [
    {
     "name": "stdout",
     "output_type": "stream",
     "text": [
      "Total Row:  2114\n"
     ]
    },
    {
     "data": {
      "text/html": [
       "<div>\n",
       "<style scoped>\n",
       "    .dataframe tbody tr th:only-of-type {\n",
       "        vertical-align: middle;\n",
       "    }\n",
       "\n",
       "    .dataframe tbody tr th {\n",
       "        vertical-align: top;\n",
       "    }\n",
       "\n",
       "    .dataframe thead th {\n",
       "        text-align: right;\n",
       "    }\n",
       "</style>\n",
       "<table border=\"1\" class=\"dataframe\">\n",
       "  <thead>\n",
       "    <tr style=\"text-align: right;\">\n",
       "      <th></th>\n",
       "      <th>count</th>\n",
       "      <th>percentage</th>\n",
       "    </tr>\n",
       "  </thead>\n",
       "  <tbody>\n",
       "    <tr>\n",
       "      <th>bad</th>\n",
       "      <td>0</td>\n",
       "      <td>0.0</td>\n",
       "    </tr>\n",
       "    <tr>\n",
       "      <th>loan</th>\n",
       "      <td>0</td>\n",
       "      <td>0.0</td>\n",
       "    </tr>\n",
       "    <tr>\n",
       "      <th>mortdue</th>\n",
       "      <td>0</td>\n",
       "      <td>0.0</td>\n",
       "    </tr>\n",
       "    <tr>\n",
       "      <th>value</th>\n",
       "      <td>0</td>\n",
       "      <td>0.0</td>\n",
       "    </tr>\n",
       "    <tr>\n",
       "      <th>reason</th>\n",
       "      <td>0</td>\n",
       "      <td>0.0</td>\n",
       "    </tr>\n",
       "    <tr>\n",
       "      <th>job</th>\n",
       "      <td>0</td>\n",
       "      <td>0.0</td>\n",
       "    </tr>\n",
       "    <tr>\n",
       "      <th>yoj</th>\n",
       "      <td>0</td>\n",
       "      <td>0.0</td>\n",
       "    </tr>\n",
       "    <tr>\n",
       "      <th>derog</th>\n",
       "      <td>0</td>\n",
       "      <td>0.0</td>\n",
       "    </tr>\n",
       "    <tr>\n",
       "      <th>delinq</th>\n",
       "      <td>0</td>\n",
       "      <td>0.0</td>\n",
       "    </tr>\n",
       "    <tr>\n",
       "      <th>clage</th>\n",
       "      <td>0</td>\n",
       "      <td>0.0</td>\n",
       "    </tr>\n",
       "    <tr>\n",
       "      <th>ninq</th>\n",
       "      <td>0</td>\n",
       "      <td>0.0</td>\n",
       "    </tr>\n",
       "    <tr>\n",
       "      <th>clno</th>\n",
       "      <td>0</td>\n",
       "      <td>0.0</td>\n",
       "    </tr>\n",
       "    <tr>\n",
       "      <th>debtinc</th>\n",
       "      <td>0</td>\n",
       "      <td>0.0</td>\n",
       "    </tr>\n",
       "  </tbody>\n",
       "</table>\n",
       "</div>"
      ],
      "text/plain": [
       "         count  percentage\n",
       "bad          0         0.0\n",
       "loan         0         0.0\n",
       "mortdue      0         0.0\n",
       "value        0         0.0\n",
       "reason       0         0.0\n",
       "job          0         0.0\n",
       "yoj          0         0.0\n",
       "derog        0         0.0\n",
       "delinq       0         0.0\n",
       "clage        0         0.0\n",
       "ninq         0         0.0\n",
       "clno         0         0.0\n",
       "debtinc      0         0.0"
      ]
     },
     "execution_count": 31,
     "metadata": {},
     "output_type": "execute_result"
    }
   ],
   "source": [
    "imputation_df.dropna(inplace=True)\n",
    "print(\"Total Row: \",imputation_df.count()[\"bad\"])\n",
    "nulldata_check(imputation_df)"
   ]
  },
  {
   "cell_type": "markdown",
   "metadata": {
    "colab_type": "text",
    "id": "jEnxJufwontJ"
   },
   "source": [
    "### **3.3. Numeric to Categoric Tranformation**\n",
    "\n",
    "### --> Without imputation"
   ]
  },
  {
   "cell_type": "code",
   "execution_count": 32,
   "metadata": {
    "colab": {
     "base_uri": "https://localhost:8080/",
     "height": 143
    },
    "colab_type": "code",
    "id": "l44W7SMcoqFy",
    "outputId": "18910c76-e671-4811-c8ca-5610b9e7ec09"
   },
   "outputs": [
    {
     "data": {
      "text/html": [
       "<div>\n",
       "<style scoped>\n",
       "    .dataframe tbody tr th:only-of-type {\n",
       "        vertical-align: middle;\n",
       "    }\n",
       "\n",
       "    .dataframe tbody tr th {\n",
       "        vertical-align: top;\n",
       "    }\n",
       "\n",
       "    .dataframe thead th {\n",
       "        text-align: right;\n",
       "    }\n",
       "</style>\n",
       "<table border=\"1\" class=\"dataframe\">\n",
       "  <thead>\n",
       "    <tr style=\"text-align: right;\">\n",
       "      <th></th>\n",
       "      <th>bad</th>\n",
       "      <th>loan</th>\n",
       "      <th>mortdue</th>\n",
       "      <th>value</th>\n",
       "      <th>reason</th>\n",
       "      <th>job</th>\n",
       "      <th>yoj</th>\n",
       "      <th>derog</th>\n",
       "      <th>delinq</th>\n",
       "      <th>clage</th>\n",
       "      <th>ninq</th>\n",
       "      <th>clno</th>\n",
       "      <th>debtinc</th>\n",
       "    </tr>\n",
       "  </thead>\n",
       "  <tbody>\n",
       "    <tr>\n",
       "      <th>153</th>\n",
       "      <td>0</td>\n",
       "      <td>18200</td>\n",
       "      <td>94727.0</td>\n",
       "      <td>136877.0</td>\n",
       "      <td>DebtCon</td>\n",
       "      <td>Mgr</td>\n",
       "      <td>15.0</td>\n",
       "      <td>0.0</td>\n",
       "      <td>0.0</td>\n",
       "      <td>168.96</td>\n",
       "      <td>2.0</td>\n",
       "      <td>26.0</td>\n",
       "      <td>36.056</td>\n",
       "    </tr>\n",
       "    <tr>\n",
       "      <th>154</th>\n",
       "      <td>0</td>\n",
       "      <td>21700</td>\n",
       "      <td>79240.0</td>\n",
       "      <td>96784.0</td>\n",
       "      <td>DebtCon</td>\n",
       "      <td>Mgr</td>\n",
       "      <td>5.0</td>\n",
       "      <td>0.0</td>\n",
       "      <td>0.0</td>\n",
       "      <td>64.51</td>\n",
       "      <td>6.0</td>\n",
       "      <td>24.0</td>\n",
       "      <td>38.079</td>\n",
       "    </tr>\n",
       "    <tr>\n",
       "      <th>155</th>\n",
       "      <td>0</td>\n",
       "      <td>34100</td>\n",
       "      <td>241931.0</td>\n",
       "      <td>36486.0</td>\n",
       "      <td>DebtCon</td>\n",
       "      <td>Mgr</td>\n",
       "      <td>1.0</td>\n",
       "      <td>0.0</td>\n",
       "      <td>2.0</td>\n",
       "      <td>196.01</td>\n",
       "      <td>3.0</td>\n",
       "      <td>50.0</td>\n",
       "      <td>42.459</td>\n",
       "    </tr>\n",
       "  </tbody>\n",
       "</table>\n",
       "</div>"
      ],
      "text/plain": [
       "     bad   loan   mortdue     value   reason  job   yoj  derog  delinq  \\\n",
       "153    0  18200   94727.0  136877.0  DebtCon  Mgr  15.0    0.0     0.0   \n",
       "154    0  21700   79240.0   96784.0  DebtCon  Mgr   5.0    0.0     0.0   \n",
       "155    0  34100  241931.0   36486.0  DebtCon  Mgr   1.0    0.0     2.0   \n",
       "\n",
       "      clage  ninq  clno  debtinc  \n",
       "153  168.96   2.0  26.0   36.056  \n",
       "154   64.51   6.0  24.0   38.079  \n",
       "155  196.01   3.0  50.0   42.459  "
      ]
     },
     "execution_count": 32,
     "metadata": {},
     "output_type": "execute_result"
    }
   ],
   "source": [
    "imputation_df = without_imputation_df\n",
    "imputation_df.head(3)"
   ]
  },
  {
   "cell_type": "markdown",
   "metadata": {
    "colab_type": "text",
    "id": "eatYYgzYxqM5"
   },
   "source": [
    "Burada degiskenleri bad hedef degiskenine gore crosstab ile analiz edip, kategori incelemesi gereceklestiriyoruz. Numerik olan degiskenlerin kateogrik olacak sekilde araliklarini belirliyoruz. "
   ]
  },
  {
   "cell_type": "markdown",
   "metadata": {
    "colab_type": "text",
    "id": "bpDXETstxqM7"
   },
   "source": [
    "#### **3.3.1 DEROG Degiskeni**\n",
    "\n",
    "DEROG - Kredi borcunu zamaninda odemesi bakimindan musteri hakkinda zararli rapor sayisini inceledigimizde 0-2 arasinda zararli rapor sayisina sahip olan musteriler borclarini %77.5-92.5 arasinda odedigi goruluyor. Bu nedenle bunu uc kategoriye ayiriyoruz. \n",
    "\n",
    "- **RaporYok (0)**: 0 raporu olanlar genellikle %92 oraninda borcunu geri odemektedir. \n",
    "- **DusukRapor  (1-2)**: 1-2 arasinda zararli rapora sahip olanlar borcunu yuksek oranda odedigi gorulmektedir.\n",
    "- **YuksekRapor (3-10)**: 3-10 arasinda zararli rapora sahip olanlar borcunu ortalamadan dusuk veya hic odemedigi goruluyor. Ancak bu kategoride elimizde yeterli (unbalanced) veri bulunmaktadir.rclarini geri oduyorlarmis. "
   ]
  },
  {
   "cell_type": "code",
   "execution_count": 33,
   "metadata": {
    "colab": {
     "base_uri": "https://localhost:8080/",
     "height": 143
    },
    "colab_type": "code",
    "id": "poK7V8OuxqM9",
    "outputId": "27b7aa84-0d3d-4796-96f0-a998d85bd120",
    "scrolled": true
   },
   "outputs": [
    {
     "data": {
      "text/html": [
       "<div>\n",
       "<style scoped>\n",
       "    .dataframe tbody tr th:only-of-type {\n",
       "        vertical-align: middle;\n",
       "    }\n",
       "\n",
       "    .dataframe tbody tr th {\n",
       "        vertical-align: top;\n",
       "    }\n",
       "\n",
       "    .dataframe thead th {\n",
       "        text-align: right;\n",
       "    }\n",
       "</style>\n",
       "<table border=\"1\" class=\"dataframe\">\n",
       "  <thead>\n",
       "    <tr style=\"text-align: right;\">\n",
       "      <th>derog</th>\n",
       "      <th>0.0</th>\n",
       "      <th>1.0</th>\n",
       "      <th>2.0</th>\n",
       "      <th>3.0</th>\n",
       "      <th>4.0</th>\n",
       "      <th>6.0</th>\n",
       "      <th>7.0</th>\n",
       "      <th>8.0</th>\n",
       "      <th>10.0</th>\n",
       "    </tr>\n",
       "    <tr>\n",
       "      <th>bad</th>\n",
       "      <th></th>\n",
       "      <th></th>\n",
       "      <th></th>\n",
       "      <th></th>\n",
       "      <th></th>\n",
       "      <th></th>\n",
       "      <th></th>\n",
       "      <th></th>\n",
       "      <th></th>\n",
       "    </tr>\n",
       "  </thead>\n",
       "  <tbody>\n",
       "    <tr>\n",
       "      <th>0</th>\n",
       "      <td>0.927043</td>\n",
       "      <td>0.835938</td>\n",
       "      <td>0.791667</td>\n",
       "      <td>0.416667</td>\n",
       "      <td>0.0</td>\n",
       "      <td>0.0</td>\n",
       "      <td>0.0</td>\n",
       "      <td>0.0</td>\n",
       "      <td>0.0</td>\n",
       "    </tr>\n",
       "    <tr>\n",
       "      <th>1</th>\n",
       "      <td>0.072957</td>\n",
       "      <td>0.164062</td>\n",
       "      <td>0.208333</td>\n",
       "      <td>0.583333</td>\n",
       "      <td>1.0</td>\n",
       "      <td>1.0</td>\n",
       "      <td>1.0</td>\n",
       "      <td>1.0</td>\n",
       "      <td>1.0</td>\n",
       "    </tr>\n",
       "  </tbody>\n",
       "</table>\n",
       "</div>"
      ],
      "text/plain": [
       "derog      0.0       1.0       2.0       3.0   4.0   6.0   7.0   8.0   10.0\n",
       "bad                                                                        \n",
       "0      0.927043  0.835938  0.791667  0.416667   0.0   0.0   0.0   0.0   0.0\n",
       "1      0.072957  0.164062  0.208333  0.583333   1.0   1.0   1.0   1.0   1.0"
      ]
     },
     "execution_count": 33,
     "metadata": {},
     "output_type": "execute_result"
    }
   ],
   "source": [
    "crosstab(imputation_df[\"bad\"], imputation_df[\"derog\"])"
   ]
  },
  {
   "cell_type": "code",
   "execution_count": 34,
   "metadata": {
    "colab": {},
    "colab_type": "code",
    "id": "WIjv4vBfxqNA"
   },
   "outputs": [],
   "source": [
    "derog_replace = {0: \"RaporYok\", 1: \"DusukRapor\", 2: \"DusukRapor\", 3: \"YuksekRapor\", 4: \"YuksekRapor\",\n",
    "                 4: \"YuksekRapor\",6: \"YuksekRapor\",7: \"YuksekRapor\",8: \"YuksekRapor\", 9: \"YuksekRapor\",\n",
    "                10: \"YuksekRapor\"}\n",
    "imputation_df = imputation_df.replace({\"derog\": derog_replace})"
   ]
  },
  {
   "cell_type": "markdown",
   "metadata": {
    "colab_type": "text",
    "id": "OWky1AKgxqNH"
   },
   "source": [
    "#### **3.3.2. DELINQ Degiskeni**\n",
    "\n",
    "DELINQ - Zamaninda odenmemis kredi sayisi bakimindan cogunlugunu 0,1,2 ve 3 odenmemis kredi sayisina sahip musterler olusturdugunu goruyoruz. Musterinin borcunu geri odemesi bakimindan 3'den fazla odenmemis odenmemis kredisi olanlari yuksek odenmemis kredi olarak isaretliyoruz. \n",
    "\n",
    "- **GecikmeYok (0)**: Sifir gecikme sayisina sahip olanlar borcunu %93.2 oraninda geri odemektedir. \n",
    "- **DusukGecikme (1-3)**: 1-3 arasi dusuk sayida gecikmis kredi sayisina sahip olan musteriler %72-86.5 arasinda borcunu odemektedir.  \n",
    "- **YuksekGecikme (4-10)**: 4-10 arasi yuksek sayida gecikmis kredi sayisina sahip olan musteriler ise %0-50 arasinda borcunu geri odedigi gorulmektedir. Ancak 4'ten fazla gecikme sayisi olan musterilerin buyuk oranda borcunu hic odemedigi gorulmektedir."
   ]
  },
  {
   "cell_type": "code",
   "execution_count": 35,
   "metadata": {
    "colab": {
     "base_uri": "https://localhost:8080/",
     "height": 143
    },
    "colab_type": "code",
    "id": "Q-I-aNiYxqNJ",
    "outputId": "148031fc-2e18-47b2-f040-33ebd24301e7",
    "scrolled": true
   },
   "outputs": [
    {
     "data": {
      "text/html": [
       "<div>\n",
       "<style scoped>\n",
       "    .dataframe tbody tr th:only-of-type {\n",
       "        vertical-align: middle;\n",
       "    }\n",
       "\n",
       "    .dataframe tbody tr th {\n",
       "        vertical-align: top;\n",
       "    }\n",
       "\n",
       "    .dataframe thead th {\n",
       "        text-align: right;\n",
       "    }\n",
       "</style>\n",
       "<table border=\"1\" class=\"dataframe\">\n",
       "  <thead>\n",
       "    <tr style=\"text-align: right;\">\n",
       "      <th>delinq</th>\n",
       "      <th>0.0</th>\n",
       "      <th>1.0</th>\n",
       "      <th>2.0</th>\n",
       "      <th>3.0</th>\n",
       "      <th>4.0</th>\n",
       "      <th>5.0</th>\n",
       "      <th>6.0</th>\n",
       "      <th>7.0</th>\n",
       "      <th>10.0</th>\n",
       "    </tr>\n",
       "    <tr>\n",
       "      <th>bad</th>\n",
       "      <th></th>\n",
       "      <th></th>\n",
       "      <th></th>\n",
       "      <th></th>\n",
       "      <th></th>\n",
       "      <th></th>\n",
       "      <th></th>\n",
       "      <th></th>\n",
       "      <th></th>\n",
       "    </tr>\n",
       "  </thead>\n",
       "  <tbody>\n",
       "    <tr>\n",
       "      <th>0</th>\n",
       "      <td>0.933294</td>\n",
       "      <td>0.871658</td>\n",
       "      <td>0.791667</td>\n",
       "      <td>0.72</td>\n",
       "      <td>0.538462</td>\n",
       "      <td>0.0</td>\n",
       "      <td>0.0</td>\n",
       "      <td>0.0</td>\n",
       "      <td>0.0</td>\n",
       "    </tr>\n",
       "    <tr>\n",
       "      <th>1</th>\n",
       "      <td>0.066706</td>\n",
       "      <td>0.128342</td>\n",
       "      <td>0.208333</td>\n",
       "      <td>0.28</td>\n",
       "      <td>0.461538</td>\n",
       "      <td>1.0</td>\n",
       "      <td>1.0</td>\n",
       "      <td>1.0</td>\n",
       "      <td>1.0</td>\n",
       "    </tr>\n",
       "  </tbody>\n",
       "</table>\n",
       "</div>"
      ],
      "text/plain": [
       "delinq      0.0       1.0       2.0   3.0       4.0   5.0   6.0   7.0   10.0\n",
       "bad                                                                         \n",
       "0       0.933294  0.871658  0.791667  0.72  0.538462   0.0   0.0   0.0   0.0\n",
       "1       0.066706  0.128342  0.208333  0.28  0.461538   1.0   1.0   1.0   1.0"
      ]
     },
     "execution_count": 35,
     "metadata": {},
     "output_type": "execute_result"
    }
   ],
   "source": [
    "crosstab(imputation_df[\"bad\"], imputation_df[\"delinq\"])"
   ]
  },
  {
   "cell_type": "code",
   "execution_count": 36,
   "metadata": {
    "colab": {},
    "colab_type": "code",
    "id": "amHk-wAhxqNQ"
   },
   "outputs": [],
   "source": [
    "delinq_replace = {0: \"GecikmeYok\", 1: \"DusukGecikme\", 2: \"DusukGecikme\", 3: \"DusukGecikme\", \n",
    "                 4: \"YuksekGecikme\", 4: \"YuksekGecikme\",5: \"YuksekGecikme\",6: \"YuksekGecikme\",\n",
    "                 7: \"YuksekGecikme\",8: \"YuksekGecikme\", 9: \"YuksekGecikme\", 10: \"YuksekGecikme\"}\n",
    "imputation_df = imputation_df.replace({\"delinq\": delinq_replace})"
   ]
  },
  {
   "cell_type": "markdown",
   "metadata": {
    "colab_type": "text",
    "id": "XvX6X9IPxqNY"
   },
   "source": [
    "#### **3.3.3. NINQ Degiskeni**\n",
    "\n",
    "NINQ - Kredi ile ilgili yapilan sorgu sayisi bakimindan incelendiginde, verinin cogunlugunu 0,1,2 ve 3 sorgu degerine sahip musteriler olusturmaktadir. Degiskeni kategorik hale getirmek icin musterilerin en az %70 oraninda borcunu geri odemesi ve hakkinda en fazla 4 kredi sorgu yapilmis olmasi varsayimlarini kabul ediyoruz. Kredi ile ilgili 0 hic sorgusu olmayan 1-3 arasi sorgu yapildiysa DusukSorgu, 4'ten fazla sorgularda ise YuksekSorgu olarak isaretliyoruz. \n",
    "\n",
    "- **SorguYok (0):** Sifir kredi sorgusu olan musterilerin kredisini %91.72 oraninda odedigi gorulmektedir.\n",
    "- **DusukSorgu (1-4):** Kredi ile ilgili sorgu sayisi 1-4 arasi olanlar kredilerini %74.41-93.01 oaraninda zamaninda odedigi gorulmektedir. \n",
    "- **YuksekSorgu (5-13):** 4-13 sroguya sahip olanlar genellikle %74'ten az oranda borclarini geri oduyorlarmis. "
   ]
  },
  {
   "cell_type": "code",
   "execution_count": 37,
   "metadata": {
    "colab": {
     "base_uri": "https://localhost:8080/",
     "height": 143
    },
    "colab_type": "code",
    "id": "zRWDR66FxqNc",
    "outputId": "ffcf8dba-396b-412d-b41e-00ecdf8aa18f",
    "scrolled": true
   },
   "outputs": [
    {
     "data": {
      "text/html": [
       "<div>\n",
       "<style scoped>\n",
       "    .dataframe tbody tr th:only-of-type {\n",
       "        vertical-align: middle;\n",
       "    }\n",
       "\n",
       "    .dataframe tbody tr th {\n",
       "        vertical-align: top;\n",
       "    }\n",
       "\n",
       "    .dataframe thead th {\n",
       "        text-align: right;\n",
       "    }\n",
       "</style>\n",
       "<table border=\"1\" class=\"dataframe\">\n",
       "  <thead>\n",
       "    <tr style=\"text-align: right;\">\n",
       "      <th>ninq</th>\n",
       "      <th>0.0</th>\n",
       "      <th>1.0</th>\n",
       "      <th>2.0</th>\n",
       "      <th>3.0</th>\n",
       "      <th>4.0</th>\n",
       "      <th>5.0</th>\n",
       "      <th>6.0</th>\n",
       "      <th>7.0</th>\n",
       "      <th>8.0</th>\n",
       "      <th>9.0</th>\n",
       "      <th>10.0</th>\n",
       "      <th>11.0</th>\n",
       "      <th>13.0</th>\n",
       "    </tr>\n",
       "    <tr>\n",
       "      <th>bad</th>\n",
       "      <th></th>\n",
       "      <th></th>\n",
       "      <th></th>\n",
       "      <th></th>\n",
       "      <th></th>\n",
       "      <th></th>\n",
       "      <th></th>\n",
       "      <th></th>\n",
       "      <th></th>\n",
       "      <th></th>\n",
       "      <th></th>\n",
       "      <th></th>\n",
       "      <th></th>\n",
       "    </tr>\n",
       "  </thead>\n",
       "  <tbody>\n",
       "    <tr>\n",
       "      <th>0</th>\n",
       "      <td>0.920118</td>\n",
       "      <td>0.933333</td>\n",
       "      <td>0.92446</td>\n",
       "      <td>0.885714</td>\n",
       "      <td>0.75</td>\n",
       "      <td>0.6</td>\n",
       "      <td>0.642857</td>\n",
       "      <td>0.727273</td>\n",
       "      <td>1.0</td>\n",
       "      <td>0.666667</td>\n",
       "      <td>0.9</td>\n",
       "      <td>1.0</td>\n",
       "      <td>0.0</td>\n",
       "    </tr>\n",
       "    <tr>\n",
       "      <th>1</th>\n",
       "      <td>0.079882</td>\n",
       "      <td>0.066667</td>\n",
       "      <td>0.07554</td>\n",
       "      <td>0.114286</td>\n",
       "      <td>0.25</td>\n",
       "      <td>0.4</td>\n",
       "      <td>0.357143</td>\n",
       "      <td>0.272727</td>\n",
       "      <td>0.0</td>\n",
       "      <td>0.333333</td>\n",
       "      <td>0.1</td>\n",
       "      <td>0.0</td>\n",
       "      <td>1.0</td>\n",
       "    </tr>\n",
       "  </tbody>\n",
       "</table>\n",
       "</div>"
      ],
      "text/plain": [
       "ninq      0.0       1.0      2.0       3.0   4.0   5.0       6.0       7.0   \\\n",
       "bad                                                                           \n",
       "0     0.920118  0.933333  0.92446  0.885714  0.75   0.6  0.642857  0.727273   \n",
       "1     0.079882  0.066667  0.07554  0.114286  0.25   0.4  0.357143  0.272727   \n",
       "\n",
       "ninq  8.0       9.0   10.0  11.0  13.0  \n",
       "bad                                     \n",
       "0      1.0  0.666667   0.9   1.0   0.0  \n",
       "1      0.0  0.333333   0.1   0.0   1.0  "
      ]
     },
     "execution_count": 37,
     "metadata": {},
     "output_type": "execute_result"
    }
   ],
   "source": [
    "crosstab(imputation_df[\"bad\"], imputation_df[\"ninq\"])"
   ]
  },
  {
   "cell_type": "code",
   "execution_count": 38,
   "metadata": {
    "colab": {},
    "colab_type": "code",
    "id": "Kf05zq9JxqNi"
   },
   "outputs": [],
   "source": [
    "ninq_replace = {0: \"SorguYok\", 1: \"DusukSorgu\", 2: \"DusukSorgu\", 3: \"DusukSorgu\", \n",
    "                 4: \"DusukSorgu\", 4: \"YuksekSorgu\",5: \"YuksekSorgu\",6: \"YuksekSorgu\", 7: \"YuksekSorgu\",\n",
    "                 8: \"YuksekSorgu\", 9: \"YuksekSorgu\", 10: \"YuksekSorgu\", 11:\"YuksekSorgu\",\n",
    "                12:\"YuksekSorgu\", 13:\"YuksekSorgu\" }\n",
    "imputation_df = imputation_df.replace({\"ninq\": ninq_replace})"
   ]
  },
  {
   "cell_type": "markdown",
   "metadata": {
    "colab_type": "text",
    "id": "QkP1n5kjxqNy"
   },
   "source": [
    "#### **3.3.4. YOJ Degiskeni**\n",
    "\n",
    "YOJ - Musterilerin mevcut is yerinde calistigi yil bakimindan incelendiginde, 0-10 yil arasinda musterilerin her yilda 100'den fazla musteri oldugunu goruyoruz. Bu nedenle musterileri mevcut is yili bakiminda 0-10, 11-20, 21-30, 31-40, 41-50 seklinde kategorilere ayiriyoruz. "
   ]
  },
  {
   "cell_type": "code",
   "execution_count": 39,
   "metadata": {
    "colab": {
     "base_uri": "https://localhost:8080/",
     "height": 163
    },
    "colab_type": "code",
    "id": "u3ogz9xWxqNy",
    "outputId": "8aeee20c-cb99-48bf-9d2d-726fd19954fd",
    "scrolled": false
   },
   "outputs": [
    {
     "data": {
      "text/html": [
       "<div>\n",
       "<style scoped>\n",
       "    .dataframe tbody tr th:only-of-type {\n",
       "        vertical-align: middle;\n",
       "    }\n",
       "\n",
       "    .dataframe tbody tr th {\n",
       "        vertical-align: top;\n",
       "    }\n",
       "\n",
       "    .dataframe thead th {\n",
       "        text-align: right;\n",
       "    }\n",
       "</style>\n",
       "<table border=\"1\" class=\"dataframe\">\n",
       "  <thead>\n",
       "    <tr style=\"text-align: right;\">\n",
       "      <th>yoj</th>\n",
       "      <th>0.0</th>\n",
       "      <th>1.0</th>\n",
       "      <th>2.0</th>\n",
       "      <th>3.0</th>\n",
       "      <th>4.0</th>\n",
       "      <th>5.0</th>\n",
       "      <th>6.0</th>\n",
       "      <th>7.0</th>\n",
       "      <th>8.0</th>\n",
       "      <th>9.0</th>\n",
       "      <th>...</th>\n",
       "      <th>25.0</th>\n",
       "      <th>26.0</th>\n",
       "      <th>27.0</th>\n",
       "      <th>28.0</th>\n",
       "      <th>29.0</th>\n",
       "      <th>30.0</th>\n",
       "      <th>31.0</th>\n",
       "      <th>35.0</th>\n",
       "      <th>36.0</th>\n",
       "      <th>41.0</th>\n",
       "    </tr>\n",
       "    <tr>\n",
       "      <th>bad</th>\n",
       "      <th></th>\n",
       "      <th></th>\n",
       "      <th></th>\n",
       "      <th></th>\n",
       "      <th></th>\n",
       "      <th></th>\n",
       "      <th></th>\n",
       "      <th></th>\n",
       "      <th></th>\n",
       "      <th></th>\n",
       "      <th></th>\n",
       "      <th></th>\n",
       "      <th></th>\n",
       "      <th></th>\n",
       "      <th></th>\n",
       "      <th></th>\n",
       "      <th></th>\n",
       "      <th></th>\n",
       "      <th></th>\n",
       "      <th></th>\n",
       "      <th></th>\n",
       "    </tr>\n",
       "  </thead>\n",
       "  <tbody>\n",
       "    <tr>\n",
       "      <th>0</th>\n",
       "      <td>0.909605</td>\n",
       "      <td>0.927007</td>\n",
       "      <td>0.872</td>\n",
       "      <td>0.843478</td>\n",
       "      <td>0.921053</td>\n",
       "      <td>0.871795</td>\n",
       "      <td>0.928571</td>\n",
       "      <td>0.934783</td>\n",
       "      <td>0.895349</td>\n",
       "      <td>0.920354</td>\n",
       "      <td>...</td>\n",
       "      <td>0.909091</td>\n",
       "      <td>0.909091</td>\n",
       "      <td>0.947368</td>\n",
       "      <td>0.916667</td>\n",
       "      <td>1.0</td>\n",
       "      <td>0.875</td>\n",
       "      <td>1.0</td>\n",
       "      <td>1.0</td>\n",
       "      <td>1.0</td>\n",
       "      <td>0.0</td>\n",
       "    </tr>\n",
       "    <tr>\n",
       "      <th>1</th>\n",
       "      <td>0.090395</td>\n",
       "      <td>0.072993</td>\n",
       "      <td>0.128</td>\n",
       "      <td>0.156522</td>\n",
       "      <td>0.078947</td>\n",
       "      <td>0.128205</td>\n",
       "      <td>0.071429</td>\n",
       "      <td>0.065217</td>\n",
       "      <td>0.104651</td>\n",
       "      <td>0.079646</td>\n",
       "      <td>...</td>\n",
       "      <td>0.090909</td>\n",
       "      <td>0.090909</td>\n",
       "      <td>0.052632</td>\n",
       "      <td>0.083333</td>\n",
       "      <td>0.0</td>\n",
       "      <td>0.125</td>\n",
       "      <td>0.0</td>\n",
       "      <td>0.0</td>\n",
       "      <td>0.0</td>\n",
       "      <td>1.0</td>\n",
       "    </tr>\n",
       "  </tbody>\n",
       "</table>\n",
       "<p>2 rows × 35 columns</p>\n",
       "</div>"
      ],
      "text/plain": [
       "yoj      0.0       1.0    2.0       3.0       4.0       5.0       6.0   \\\n",
       "bad                                                                      \n",
       "0    0.909605  0.927007  0.872  0.843478  0.921053  0.871795  0.928571   \n",
       "1    0.090395  0.072993  0.128  0.156522  0.078947  0.128205  0.071429   \n",
       "\n",
       "yoj      7.0       8.0       9.0   ...      25.0      26.0      27.0  \\\n",
       "bad                                ...                                 \n",
       "0    0.934783  0.895349  0.920354  ...  0.909091  0.909091  0.947368   \n",
       "1    0.065217  0.104651  0.079646  ...  0.090909  0.090909  0.052632   \n",
       "\n",
       "yoj      28.0  29.0   30.0  31.0  35.0  36.0  41.0  \n",
       "bad                                                 \n",
       "0    0.916667   1.0  0.875   1.0   1.0   1.0   0.0  \n",
       "1    0.083333   0.0  0.125   0.0   0.0   0.0   1.0  \n",
       "\n",
       "[2 rows x 35 columns]"
      ]
     },
     "execution_count": 39,
     "metadata": {},
     "output_type": "execute_result"
    }
   ],
   "source": [
    "crosstab(imputation_df[\"bad\"], imputation_df[\"yoj\"])"
   ]
  },
  {
   "cell_type": "code",
   "execution_count": 40,
   "metadata": {
    "colab": {},
    "colab_type": "code",
    "id": "PPPO1ibyxqOB",
    "scrolled": true
   },
   "outputs": [],
   "source": [
    "yoj = []\n",
    "for i in imputation_df[\"yoj\"]:\n",
    "    i = int(i)\n",
    "    if(i >= 0 and i<=10):\n",
    "        yoj.append(\"0-10\")\n",
    "    elif(i>10 and i<=20):\n",
    "        yoj.append(\"11-20\")\n",
    "    elif(i>20 and i<=30):\n",
    "        yoj.append(\"21-30\")\n",
    "    elif(i>30 and i<=40):\n",
    "        yoj.append(\"31-40\")\n",
    "    else:\n",
    "        yoj.append(\"41-50\")\n",
    "\n",
    "imputation_df[\"yoj\"] = yoj"
   ]
  },
  {
   "cell_type": "code",
   "execution_count": 41,
   "metadata": {
    "colab": {
     "base_uri": "https://localhost:8080/",
     "height": 206
    },
    "colab_type": "code",
    "id": "0SrCon-1xqOE",
    "outputId": "599d0323-3ba5-4149-a080-a3b04303f2e3",
    "scrolled": true
   },
   "outputs": [
    {
     "data": {
      "text/html": [
       "<div>\n",
       "<style scoped>\n",
       "    .dataframe tbody tr th:only-of-type {\n",
       "        vertical-align: middle;\n",
       "    }\n",
       "\n",
       "    .dataframe tbody tr th {\n",
       "        vertical-align: top;\n",
       "    }\n",
       "\n",
       "    .dataframe thead th {\n",
       "        text-align: right;\n",
       "    }\n",
       "</style>\n",
       "<table border=\"1\" class=\"dataframe\">\n",
       "  <thead>\n",
       "    <tr style=\"text-align: right;\">\n",
       "      <th></th>\n",
       "      <th>bad</th>\n",
       "      <th>loan</th>\n",
       "      <th>mortdue</th>\n",
       "      <th>value</th>\n",
       "      <th>reason</th>\n",
       "      <th>job</th>\n",
       "      <th>yoj</th>\n",
       "      <th>derog</th>\n",
       "      <th>delinq</th>\n",
       "      <th>clage</th>\n",
       "      <th>ninq</th>\n",
       "      <th>clno</th>\n",
       "      <th>debtinc</th>\n",
       "    </tr>\n",
       "  </thead>\n",
       "  <tbody>\n",
       "    <tr>\n",
       "      <th>153</th>\n",
       "      <td>0</td>\n",
       "      <td>18200</td>\n",
       "      <td>94727.0</td>\n",
       "      <td>136877.0</td>\n",
       "      <td>DebtCon</td>\n",
       "      <td>Mgr</td>\n",
       "      <td>11-20</td>\n",
       "      <td>RaporYok</td>\n",
       "      <td>GecikmeYok</td>\n",
       "      <td>168.96</td>\n",
       "      <td>DusukSorgu</td>\n",
       "      <td>26.0</td>\n",
       "      <td>36.056</td>\n",
       "    </tr>\n",
       "    <tr>\n",
       "      <th>154</th>\n",
       "      <td>0</td>\n",
       "      <td>21700</td>\n",
       "      <td>79240.0</td>\n",
       "      <td>96784.0</td>\n",
       "      <td>DebtCon</td>\n",
       "      <td>Mgr</td>\n",
       "      <td>0-10</td>\n",
       "      <td>RaporYok</td>\n",
       "      <td>GecikmeYok</td>\n",
       "      <td>64.51</td>\n",
       "      <td>YuksekSorgu</td>\n",
       "      <td>24.0</td>\n",
       "      <td>38.079</td>\n",
       "    </tr>\n",
       "    <tr>\n",
       "      <th>155</th>\n",
       "      <td>0</td>\n",
       "      <td>34100</td>\n",
       "      <td>241931.0</td>\n",
       "      <td>36486.0</td>\n",
       "      <td>DebtCon</td>\n",
       "      <td>Mgr</td>\n",
       "      <td>0-10</td>\n",
       "      <td>RaporYok</td>\n",
       "      <td>DusukGecikme</td>\n",
       "      <td>196.01</td>\n",
       "      <td>DusukSorgu</td>\n",
       "      <td>50.0</td>\n",
       "      <td>42.459</td>\n",
       "    </tr>\n",
       "    <tr>\n",
       "      <th>156</th>\n",
       "      <td>0</td>\n",
       "      <td>8400</td>\n",
       "      <td>62989.0</td>\n",
       "      <td>76718.0</td>\n",
       "      <td>HomeImp</td>\n",
       "      <td>Mgr</td>\n",
       "      <td>0-10</td>\n",
       "      <td>RaporYok</td>\n",
       "      <td>DusukGecikme</td>\n",
       "      <td>131.47</td>\n",
       "      <td>SorguYok</td>\n",
       "      <td>22.0</td>\n",
       "      <td>29.200</td>\n",
       "    </tr>\n",
       "    <tr>\n",
       "      <th>157</th>\n",
       "      <td>0</td>\n",
       "      <td>17400</td>\n",
       "      <td>25859.0</td>\n",
       "      <td>43684.0</td>\n",
       "      <td>DebtCon</td>\n",
       "      <td>Mgr</td>\n",
       "      <td>11-20</td>\n",
       "      <td>DusukRapor</td>\n",
       "      <td>GecikmeYok</td>\n",
       "      <td>95.36</td>\n",
       "      <td>DusukSorgu</td>\n",
       "      <td>17.0</td>\n",
       "      <td>27.108</td>\n",
       "    </tr>\n",
       "  </tbody>\n",
       "</table>\n",
       "</div>"
      ],
      "text/plain": [
       "     bad   loan   mortdue     value   reason  job    yoj       derog  \\\n",
       "153    0  18200   94727.0  136877.0  DebtCon  Mgr  11-20    RaporYok   \n",
       "154    0  21700   79240.0   96784.0  DebtCon  Mgr   0-10    RaporYok   \n",
       "155    0  34100  241931.0   36486.0  DebtCon  Mgr   0-10    RaporYok   \n",
       "156    0   8400   62989.0   76718.0  HomeImp  Mgr   0-10    RaporYok   \n",
       "157    0  17400   25859.0   43684.0  DebtCon  Mgr  11-20  DusukRapor   \n",
       "\n",
       "           delinq   clage         ninq  clno  debtinc  \n",
       "153    GecikmeYok  168.96   DusukSorgu  26.0   36.056  \n",
       "154    GecikmeYok   64.51  YuksekSorgu  24.0   38.079  \n",
       "155  DusukGecikme  196.01   DusukSorgu  50.0   42.459  \n",
       "156  DusukGecikme  131.47     SorguYok  22.0   29.200  \n",
       "157    GecikmeYok   95.36   DusukSorgu  17.0   27.108  "
      ]
     },
     "execution_count": 41,
     "metadata": {},
     "output_type": "execute_result"
    }
   ],
   "source": [
    "imputation_df.head()"
   ]
  },
  {
   "cell_type": "markdown",
   "metadata": {
    "colab_type": "text",
    "id": "rI2IEiNdxqOK"
   },
   "source": [
    "### **3.4. Dummy Transformation**"
   ]
  },
  {
   "cell_type": "code",
   "execution_count": 42,
   "metadata": {
    "colab": {
     "base_uri": "https://localhost:8080/",
     "height": 104
    },
    "colab_type": "code",
    "id": "BSeGKotHxqOL",
    "outputId": "b0d33e0c-816e-4cd5-8c6c-59a28c86e314"
   },
   "outputs": [
    {
     "name": "stdout",
     "output_type": "stream",
     "text": [
      "Numeric Column  :\n",
      " ['bad', 'loan', 'mortdue', 'value', 'clage', 'clno', 'debtinc'] \n",
      "\n",
      "Categoric Column :\n",
      " ['reason', 'job', 'yoj', 'derog', 'delinq', 'ninq']\n"
     ]
    }
   ],
   "source": [
    "num, category = numeric_categoric_variable(imputation_df)"
   ]
  },
  {
   "cell_type": "code",
   "execution_count": 43,
   "metadata": {
    "colab": {
     "base_uri": "https://localhost:8080/",
     "height": 250
    },
    "colab_type": "code",
    "id": "8Lks3jBExqOR",
    "outputId": "a8bbce4c-890f-459e-fcef-906babee8701",
    "scrolled": false
   },
   "outputs": [
    {
     "name": "stdout",
     "output_type": "stream",
     "text": [
      "Numeric Column  :\n",
      " ['bad', 'loan', 'mortdue', 'value', 'clage', 'clno', 'debtinc', 'reason_DebtCon', 'reason_HomeImp', 'job_Mgr', 'job_Office', 'job_Other', 'job_ProfEx', 'job_Sales', 'job_Self', 'yoj_0-10', 'yoj_11-20', 'yoj_21-30', 'yoj_31-40', 'yoj_41-50', 'derog_DusukRapor', 'derog_RaporYok', 'derog_YuksekRapor', 'delinq_DusukGecikme', 'delinq_GecikmeYok', 'delinq_YuksekGecikme', 'ninq_DusukSorgu', 'ninq_SorguYok', 'ninq_YuksekSorgu'] \n",
      "\n",
      "Categoric Column :\n",
      " []\n"
     ]
    },
    {
     "data": {
      "text/html": [
       "<div>\n",
       "<style scoped>\n",
       "    .dataframe tbody tr th:only-of-type {\n",
       "        vertical-align: middle;\n",
       "    }\n",
       "\n",
       "    .dataframe tbody tr th {\n",
       "        vertical-align: top;\n",
       "    }\n",
       "\n",
       "    .dataframe thead th {\n",
       "        text-align: right;\n",
       "    }\n",
       "</style>\n",
       "<table border=\"1\" class=\"dataframe\">\n",
       "  <thead>\n",
       "    <tr style=\"text-align: right;\">\n",
       "      <th></th>\n",
       "      <th>bad</th>\n",
       "      <th>loan</th>\n",
       "      <th>mortdue</th>\n",
       "      <th>value</th>\n",
       "      <th>clage</th>\n",
       "      <th>clno</th>\n",
       "      <th>debtinc</th>\n",
       "      <th>reason_DebtCon</th>\n",
       "      <th>reason_HomeImp</th>\n",
       "      <th>job_Mgr</th>\n",
       "      <th>...</th>\n",
       "      <th>yoj_41-50</th>\n",
       "      <th>derog_DusukRapor</th>\n",
       "      <th>derog_RaporYok</th>\n",
       "      <th>derog_YuksekRapor</th>\n",
       "      <th>delinq_DusukGecikme</th>\n",
       "      <th>delinq_GecikmeYok</th>\n",
       "      <th>delinq_YuksekGecikme</th>\n",
       "      <th>ninq_DusukSorgu</th>\n",
       "      <th>ninq_SorguYok</th>\n",
       "      <th>ninq_YuksekSorgu</th>\n",
       "    </tr>\n",
       "  </thead>\n",
       "  <tbody>\n",
       "    <tr>\n",
       "      <th>153</th>\n",
       "      <td>0</td>\n",
       "      <td>18200</td>\n",
       "      <td>94727.0</td>\n",
       "      <td>136877.0</td>\n",
       "      <td>168.96</td>\n",
       "      <td>26.0</td>\n",
       "      <td>36.056</td>\n",
       "      <td>1</td>\n",
       "      <td>0</td>\n",
       "      <td>1</td>\n",
       "      <td>...</td>\n",
       "      <td>0</td>\n",
       "      <td>0</td>\n",
       "      <td>1</td>\n",
       "      <td>0</td>\n",
       "      <td>0</td>\n",
       "      <td>1</td>\n",
       "      <td>0</td>\n",
       "      <td>1</td>\n",
       "      <td>0</td>\n",
       "      <td>0</td>\n",
       "    </tr>\n",
       "    <tr>\n",
       "      <th>154</th>\n",
       "      <td>0</td>\n",
       "      <td>21700</td>\n",
       "      <td>79240.0</td>\n",
       "      <td>96784.0</td>\n",
       "      <td>64.51</td>\n",
       "      <td>24.0</td>\n",
       "      <td>38.079</td>\n",
       "      <td>1</td>\n",
       "      <td>0</td>\n",
       "      <td>1</td>\n",
       "      <td>...</td>\n",
       "      <td>0</td>\n",
       "      <td>0</td>\n",
       "      <td>1</td>\n",
       "      <td>0</td>\n",
       "      <td>0</td>\n",
       "      <td>1</td>\n",
       "      <td>0</td>\n",
       "      <td>0</td>\n",
       "      <td>0</td>\n",
       "      <td>1</td>\n",
       "    </tr>\n",
       "    <tr>\n",
       "      <th>155</th>\n",
       "      <td>0</td>\n",
       "      <td>34100</td>\n",
       "      <td>241931.0</td>\n",
       "      <td>36486.0</td>\n",
       "      <td>196.01</td>\n",
       "      <td>50.0</td>\n",
       "      <td>42.459</td>\n",
       "      <td>1</td>\n",
       "      <td>0</td>\n",
       "      <td>1</td>\n",
       "      <td>...</td>\n",
       "      <td>0</td>\n",
       "      <td>0</td>\n",
       "      <td>1</td>\n",
       "      <td>0</td>\n",
       "      <td>1</td>\n",
       "      <td>0</td>\n",
       "      <td>0</td>\n",
       "      <td>1</td>\n",
       "      <td>0</td>\n",
       "      <td>0</td>\n",
       "    </tr>\n",
       "  </tbody>\n",
       "</table>\n",
       "<p>3 rows × 29 columns</p>\n",
       "</div>"
      ],
      "text/plain": [
       "     bad   loan   mortdue     value   clage  clno  debtinc  reason_DebtCon  \\\n",
       "153    0  18200   94727.0  136877.0  168.96  26.0   36.056               1   \n",
       "154    0  21700   79240.0   96784.0   64.51  24.0   38.079               1   \n",
       "155    0  34100  241931.0   36486.0  196.01  50.0   42.459               1   \n",
       "\n",
       "     reason_HomeImp  job_Mgr  ...  yoj_41-50  derog_DusukRapor  \\\n",
       "153               0        1  ...          0                 0   \n",
       "154               0        1  ...          0                 0   \n",
       "155               0        1  ...          0                 0   \n",
       "\n",
       "     derog_RaporYok  derog_YuksekRapor  delinq_DusukGecikme  \\\n",
       "153               1                  0                    0   \n",
       "154               1                  0                    0   \n",
       "155               1                  0                    1   \n",
       "\n",
       "     delinq_GecikmeYok  delinq_YuksekGecikme  ninq_DusukSorgu  ninq_SorguYok  \\\n",
       "153                  1                     0                1              0   \n",
       "154                  1                     0                0              0   \n",
       "155                  0                     0                1              0   \n",
       "\n",
       "     ninq_YuksekSorgu  \n",
       "153                 0  \n",
       "154                 1  \n",
       "155                 0  \n",
       "\n",
       "[3 rows x 29 columns]"
      ]
     },
     "execution_count": 43,
     "metadata": {},
     "output_type": "execute_result"
    }
   ],
   "source": [
    "data_dummy = dummy_df(imputation_df, category)\n",
    "num, cat = numeric_categoric_variable(data_dummy)\n",
    "data_dummy.head(3)"
   ]
  },
  {
   "cell_type": "markdown",
   "metadata": {
    "colab_type": "text",
    "id": "nGk8PJ7zxqOU"
   },
   "source": [
    "### **3.5. Normalization**"
   ]
  },
  {
   "cell_type": "code",
   "execution_count": 44,
   "metadata": {
    "colab": {
     "base_uri": "https://localhost:8080/",
     "height": 163
    },
    "colab_type": "code",
    "id": "x5xfWB41xqOU",
    "outputId": "f9fd1ef8-3827-46ac-c6c6-2444fcec6890",
    "scrolled": false
   },
   "outputs": [
    {
     "data": {
      "text/html": [
       "<div>\n",
       "<style scoped>\n",
       "    .dataframe tbody tr th:only-of-type {\n",
       "        vertical-align: middle;\n",
       "    }\n",
       "\n",
       "    .dataframe tbody tr th {\n",
       "        vertical-align: top;\n",
       "    }\n",
       "\n",
       "    .dataframe thead th {\n",
       "        text-align: right;\n",
       "    }\n",
       "</style>\n",
       "<table border=\"1\" class=\"dataframe\">\n",
       "  <thead>\n",
       "    <tr style=\"text-align: right;\">\n",
       "      <th></th>\n",
       "      <th>bad</th>\n",
       "      <th>loan</th>\n",
       "      <th>mortdue</th>\n",
       "      <th>value</th>\n",
       "      <th>clage</th>\n",
       "      <th>clno</th>\n",
       "      <th>debtinc</th>\n",
       "      <th>reason_DebtCon</th>\n",
       "      <th>reason_HomeImp</th>\n",
       "      <th>job_Mgr</th>\n",
       "      <th>...</th>\n",
       "      <th>yoj_41-50</th>\n",
       "      <th>derog_DusukRapor</th>\n",
       "      <th>derog_RaporYok</th>\n",
       "      <th>derog_YuksekRapor</th>\n",
       "      <th>delinq_DusukGecikme</th>\n",
       "      <th>delinq_GecikmeYok</th>\n",
       "      <th>delinq_YuksekGecikme</th>\n",
       "      <th>ninq_DusukSorgu</th>\n",
       "      <th>ninq_SorguYok</th>\n",
       "      <th>ninq_YuksekSorgu</th>\n",
       "    </tr>\n",
       "  </thead>\n",
       "  <tbody>\n",
       "    <tr>\n",
       "      <th>0</th>\n",
       "      <td>0.0</td>\n",
       "      <td>0.187075</td>\n",
       "      <td>0.227347</td>\n",
       "      <td>0.232520</td>\n",
       "      <td>0.144270</td>\n",
       "      <td>0.40625</td>\n",
       "      <td>0.228498</td>\n",
       "      <td>1.0</td>\n",
       "      <td>0.0</td>\n",
       "      <td>1.0</td>\n",
       "      <td>...</td>\n",
       "      <td>0.0</td>\n",
       "      <td>0.0</td>\n",
       "      <td>1.0</td>\n",
       "      <td>0.0</td>\n",
       "      <td>0.0</td>\n",
       "      <td>1.0</td>\n",
       "      <td>0.0</td>\n",
       "      <td>1.0</td>\n",
       "      <td>0.0</td>\n",
       "      <td>0.0</td>\n",
       "    </tr>\n",
       "    <tr>\n",
       "      <th>1</th>\n",
       "      <td>0.0</td>\n",
       "      <td>0.226757</td>\n",
       "      <td>0.188073</td>\n",
       "      <td>0.150633</td>\n",
       "      <td>0.054824</td>\n",
       "      <td>0.37500</td>\n",
       "      <td>0.242931</td>\n",
       "      <td>1.0</td>\n",
       "      <td>0.0</td>\n",
       "      <td>1.0</td>\n",
       "      <td>...</td>\n",
       "      <td>0.0</td>\n",
       "      <td>0.0</td>\n",
       "      <td>1.0</td>\n",
       "      <td>0.0</td>\n",
       "      <td>0.0</td>\n",
       "      <td>1.0</td>\n",
       "      <td>0.0</td>\n",
       "      <td>0.0</td>\n",
       "      <td>0.0</td>\n",
       "      <td>1.0</td>\n",
       "    </tr>\n",
       "    <tr>\n",
       "      <th>2</th>\n",
       "      <td>0.0</td>\n",
       "      <td>0.367347</td>\n",
       "      <td>0.600643</td>\n",
       "      <td>0.027481</td>\n",
       "      <td>0.167435</td>\n",
       "      <td>0.78125</td>\n",
       "      <td>0.274181</td>\n",
       "      <td>1.0</td>\n",
       "      <td>0.0</td>\n",
       "      <td>1.0</td>\n",
       "      <td>...</td>\n",
       "      <td>0.0</td>\n",
       "      <td>0.0</td>\n",
       "      <td>1.0</td>\n",
       "      <td>0.0</td>\n",
       "      <td>1.0</td>\n",
       "      <td>0.0</td>\n",
       "      <td>0.0</td>\n",
       "      <td>1.0</td>\n",
       "      <td>0.0</td>\n",
       "      <td>0.0</td>\n",
       "    </tr>\n",
       "  </tbody>\n",
       "</table>\n",
       "<p>3 rows × 29 columns</p>\n",
       "</div>"
      ],
      "text/plain": [
       "   bad      loan   mortdue     value     clage     clno   debtinc  \\\n",
       "0  0.0  0.187075  0.227347  0.232520  0.144270  0.40625  0.228498   \n",
       "1  0.0  0.226757  0.188073  0.150633  0.054824  0.37500  0.242931   \n",
       "2  0.0  0.367347  0.600643  0.027481  0.167435  0.78125  0.274181   \n",
       "\n",
       "   reason_DebtCon  reason_HomeImp  job_Mgr  ...  yoj_41-50  derog_DusukRapor  \\\n",
       "0             1.0             0.0      1.0  ...        0.0               0.0   \n",
       "1             1.0             0.0      1.0  ...        0.0               0.0   \n",
       "2             1.0             0.0      1.0  ...        0.0               0.0   \n",
       "\n",
       "   derog_RaporYok  derog_YuksekRapor  delinq_DusukGecikme  delinq_GecikmeYok  \\\n",
       "0             1.0                0.0                  0.0                1.0   \n",
       "1             1.0                0.0                  0.0                1.0   \n",
       "2             1.0                0.0                  1.0                0.0   \n",
       "\n",
       "   delinq_YuksekGecikme  ninq_DusukSorgu  ninq_SorguYok  ninq_YuksekSorgu  \n",
       "0                   0.0              1.0            0.0               0.0  \n",
       "1                   0.0              0.0            0.0               1.0  \n",
       "2                   0.0              1.0            0.0               0.0  \n",
       "\n",
       "[3 rows x 29 columns]"
      ]
     },
     "execution_count": 44,
     "metadata": {},
     "output_type": "execute_result"
    }
   ],
   "source": [
    "data_minmax = normalization_minmax(data_dummy)\n",
    "data_minmax.head(3)"
   ]
  },
  {
   "cell_type": "markdown",
   "metadata": {
    "colab_type": "text",
    "id": "H5zt--PGxqOc"
   },
   "source": [
    "# **4. Feature Selection**"
   ]
  },
  {
   "cell_type": "markdown",
   "metadata": {
    "colab_type": "text",
    "id": "nWjRfGKmxqOe"
   },
   "source": [
    "### 4.1. Principal Component Analysis"
   ]
  },
  {
   "cell_type": "code",
   "execution_count": 45,
   "metadata": {
    "colab": {
     "base_uri": "https://localhost:8080/",
     "height": 223
    },
    "colab_type": "code",
    "id": "MxN3dkTvxqOg",
    "outputId": "9c7589d2-c373-46e2-a3a2-19d4ca526734"
   },
   "outputs": [
    {
     "name": "stdout",
     "output_type": "stream",
     "text": [
      "pca sonrası değişken sayısı:  9\n"
     ]
    },
    {
     "data": {
      "text/html": [
       "<div>\n",
       "<style scoped>\n",
       "    .dataframe tbody tr th:only-of-type {\n",
       "        vertical-align: middle;\n",
       "    }\n",
       "\n",
       "    .dataframe tbody tr th {\n",
       "        vertical-align: top;\n",
       "    }\n",
       "\n",
       "    .dataframe thead th {\n",
       "        text-align: right;\n",
       "    }\n",
       "</style>\n",
       "<table border=\"1\" class=\"dataframe\">\n",
       "  <thead>\n",
       "    <tr style=\"text-align: right;\">\n",
       "      <th></th>\n",
       "      <th>0</th>\n",
       "      <th>1</th>\n",
       "      <th>2</th>\n",
       "      <th>3</th>\n",
       "      <th>4</th>\n",
       "      <th>5</th>\n",
       "      <th>6</th>\n",
       "      <th>7</th>\n",
       "      <th>8</th>\n",
       "      <th>bad</th>\n",
       "    </tr>\n",
       "  </thead>\n",
       "  <tbody>\n",
       "    <tr>\n",
       "      <th>0</th>\n",
       "      <td>-0.731283</td>\n",
       "      <td>-0.503780</td>\n",
       "      <td>0.859174</td>\n",
       "      <td>0.650631</td>\n",
       "      <td>-0.230217</td>\n",
       "      <td>0.336906</td>\n",
       "      <td>0.511953</td>\n",
       "      <td>-0.650730</td>\n",
       "      <td>-0.049518</td>\n",
       "      <td>0.0</td>\n",
       "    </tr>\n",
       "    <tr>\n",
       "      <th>1</th>\n",
       "      <td>-0.365154</td>\n",
       "      <td>-0.203467</td>\n",
       "      <td>-0.512842</td>\n",
       "      <td>0.168786</td>\n",
       "      <td>-0.002665</td>\n",
       "      <td>0.367648</td>\n",
       "      <td>0.721640</td>\n",
       "      <td>-0.703201</td>\n",
       "      <td>0.123162</td>\n",
       "      <td>0.0</td>\n",
       "    </tr>\n",
       "    <tr>\n",
       "      <th>2</th>\n",
       "      <td>-0.856140</td>\n",
       "      <td>0.139723</td>\n",
       "      <td>-0.027679</td>\n",
       "      <td>0.261835</td>\n",
       "      <td>1.261572</td>\n",
       "      <td>0.133774</td>\n",
       "      <td>0.076385</td>\n",
       "      <td>-0.982768</td>\n",
       "      <td>0.260247</td>\n",
       "      <td>0.0</td>\n",
       "    </tr>\n",
       "    <tr>\n",
       "      <th>3</th>\n",
       "      <td>1.052660</td>\n",
       "      <td>0.648982</td>\n",
       "      <td>-0.011003</td>\n",
       "      <td>-0.076870</td>\n",
       "      <td>1.172337</td>\n",
       "      <td>0.263991</td>\n",
       "      <td>0.259323</td>\n",
       "      <td>-1.009152</td>\n",
       "      <td>0.149988</td>\n",
       "      <td>0.0</td>\n",
       "    </tr>\n",
       "    <tr>\n",
       "      <th>4</th>\n",
       "      <td>-0.835913</td>\n",
       "      <td>-0.429815</td>\n",
       "      <td>0.870792</td>\n",
       "      <td>0.478768</td>\n",
       "      <td>0.175907</td>\n",
       "      <td>0.128854</td>\n",
       "      <td>1.512593</td>\n",
       "      <td>0.165357</td>\n",
       "      <td>-0.179672</td>\n",
       "      <td>0.0</td>\n",
       "    </tr>\n",
       "  </tbody>\n",
       "</table>\n",
       "</div>"
      ],
      "text/plain": [
       "          0         1         2         3         4         5         6  \\\n",
       "0 -0.731283 -0.503780  0.859174  0.650631 -0.230217  0.336906  0.511953   \n",
       "1 -0.365154 -0.203467 -0.512842  0.168786 -0.002665  0.367648  0.721640   \n",
       "2 -0.856140  0.139723 -0.027679  0.261835  1.261572  0.133774  0.076385   \n",
       "3  1.052660  0.648982 -0.011003 -0.076870  1.172337  0.263991  0.259323   \n",
       "4 -0.835913 -0.429815  0.870792  0.478768  0.175907  0.128854  1.512593   \n",
       "\n",
       "          7         8  bad  \n",
       "0 -0.650730 -0.049518  0.0  \n",
       "1 -0.703201  0.123162  0.0  \n",
       "2 -0.982768  0.260247  0.0  \n",
       "3 -1.009152  0.149988  0.0  \n",
       "4  0.165357 -0.179672  0.0  "
      ]
     },
     "execution_count": 45,
     "metadata": {},
     "output_type": "execute_result"
    }
   ],
   "source": [
    "data_pca = featureselection_pca(data_minmax,\"bad\", 0.9)\n",
    "data_pca.head()"
   ]
  },
  {
   "cell_type": "markdown",
   "metadata": {
    "colab_type": "text",
    "id": "CLREJG2BxqOk"
   },
   "source": [
    "### 4.2. Correlation based Feature Selection"
   ]
  },
  {
   "cell_type": "code",
   "execution_count": 46,
   "metadata": {
    "colab": {
     "base_uri": "https://localhost:8080/",
     "height": 206
    },
    "colab_type": "code",
    "id": "sysciTlgxqOl",
    "outputId": "d87686e7-5aae-4fa7-9d69-4fb5c40812d8",
    "scrolled": true
   },
   "outputs": [
    {
     "data": {
      "text/html": [
       "<div>\n",
       "<style scoped>\n",
       "    .dataframe tbody tr th:only-of-type {\n",
       "        vertical-align: middle;\n",
       "    }\n",
       "\n",
       "    .dataframe tbody tr th {\n",
       "        vertical-align: top;\n",
       "    }\n",
       "\n",
       "    .dataframe thead th {\n",
       "        text-align: right;\n",
       "    }\n",
       "</style>\n",
       "<table border=\"1\" class=\"dataframe\">\n",
       "  <thead>\n",
       "    <tr style=\"text-align: right;\">\n",
       "      <th></th>\n",
       "      <th>yoj_41-50</th>\n",
       "      <th>clage</th>\n",
       "      <th>derog_DusukRapor</th>\n",
       "      <th>delinq_DusukGecikme</th>\n",
       "      <th>ninq_YuksekSorgu</th>\n",
       "      <th>derog_RaporYok</th>\n",
       "      <th>delinq_GecikmeYok</th>\n",
       "      <th>derog_YuksekRapor</th>\n",
       "      <th>delinq_YuksekGecikme</th>\n",
       "      <th>debtinc</th>\n",
       "      <th>bad</th>\n",
       "    </tr>\n",
       "  </thead>\n",
       "  <tbody>\n",
       "    <tr>\n",
       "      <th>0</th>\n",
       "      <td>0.0</td>\n",
       "      <td>0.144270</td>\n",
       "      <td>0.0</td>\n",
       "      <td>0.0</td>\n",
       "      <td>0.0</td>\n",
       "      <td>1.0</td>\n",
       "      <td>1.0</td>\n",
       "      <td>0.0</td>\n",
       "      <td>0.0</td>\n",
       "      <td>0.228498</td>\n",
       "      <td>0.0</td>\n",
       "    </tr>\n",
       "    <tr>\n",
       "      <th>1</th>\n",
       "      <td>0.0</td>\n",
       "      <td>0.054824</td>\n",
       "      <td>0.0</td>\n",
       "      <td>0.0</td>\n",
       "      <td>1.0</td>\n",
       "      <td>1.0</td>\n",
       "      <td>1.0</td>\n",
       "      <td>0.0</td>\n",
       "      <td>0.0</td>\n",
       "      <td>0.242931</td>\n",
       "      <td>0.0</td>\n",
       "    </tr>\n",
       "    <tr>\n",
       "      <th>2</th>\n",
       "      <td>0.0</td>\n",
       "      <td>0.167435</td>\n",
       "      <td>0.0</td>\n",
       "      <td>1.0</td>\n",
       "      <td>0.0</td>\n",
       "      <td>1.0</td>\n",
       "      <td>0.0</td>\n",
       "      <td>0.0</td>\n",
       "      <td>0.0</td>\n",
       "      <td>0.274181</td>\n",
       "      <td>0.0</td>\n",
       "    </tr>\n",
       "    <tr>\n",
       "      <th>3</th>\n",
       "      <td>0.0</td>\n",
       "      <td>0.112165</td>\n",
       "      <td>0.0</td>\n",
       "      <td>1.0</td>\n",
       "      <td>0.0</td>\n",
       "      <td>1.0</td>\n",
       "      <td>0.0</td>\n",
       "      <td>0.0</td>\n",
       "      <td>0.0</td>\n",
       "      <td>0.179582</td>\n",
       "      <td>0.0</td>\n",
       "    </tr>\n",
       "    <tr>\n",
       "      <th>4</th>\n",
       "      <td>0.0</td>\n",
       "      <td>0.081242</td>\n",
       "      <td>1.0</td>\n",
       "      <td>0.0</td>\n",
       "      <td>0.0</td>\n",
       "      <td>0.0</td>\n",
       "      <td>1.0</td>\n",
       "      <td>0.0</td>\n",
       "      <td>0.0</td>\n",
       "      <td>0.164656</td>\n",
       "      <td>0.0</td>\n",
       "    </tr>\n",
       "  </tbody>\n",
       "</table>\n",
       "</div>"
      ],
      "text/plain": [
       "   yoj_41-50     clage  derog_DusukRapor  delinq_DusukGecikme  \\\n",
       "0        0.0  0.144270               0.0                  0.0   \n",
       "1        0.0  0.054824               0.0                  0.0   \n",
       "2        0.0  0.167435               0.0                  1.0   \n",
       "3        0.0  0.112165               0.0                  1.0   \n",
       "4        0.0  0.081242               1.0                  0.0   \n",
       "\n",
       "   ninq_YuksekSorgu  derog_RaporYok  delinq_GecikmeYok  derog_YuksekRapor  \\\n",
       "0               0.0             1.0                1.0                0.0   \n",
       "1               1.0             1.0                1.0                0.0   \n",
       "2               0.0             1.0                0.0                0.0   \n",
       "3               0.0             1.0                0.0                0.0   \n",
       "4               0.0             0.0                1.0                0.0   \n",
       "\n",
       "   delinq_YuksekGecikme   debtinc  bad  \n",
       "0                   0.0  0.228498  0.0  \n",
       "1                   0.0  0.242931  0.0  \n",
       "2                   0.0  0.274181  0.0  \n",
       "3                   0.0  0.179582  0.0  \n",
       "4                   0.0  0.164656  0.0  "
      ]
     },
     "execution_count": 46,
     "metadata": {},
     "output_type": "execute_result"
    }
   ],
   "source": [
    "data_corr = featureselection_corrcorr(data_minmax, \"bad\",0.6, 10)\n",
    "data_corr.head()"
   ]
  },
  {
   "cell_type": "markdown",
   "metadata": {
    "colab_type": "text",
    "id": "NJ1bYTFLxqOr"
   },
   "source": [
    "### 4.3. RandomForest based Feature Selection"
   ]
  },
  {
   "cell_type": "code",
   "execution_count": 47,
   "metadata": {
    "colab": {
     "base_uri": "https://localhost:8080/",
     "height": 310
    },
    "colab_type": "code",
    "id": "ZpTVBha0xqOr",
    "outputId": "282e070c-4fb7-44f2-bc4b-d6e6a0d916ad"
   },
   "outputs": [
    {
     "name": "stdout",
     "output_type": "stream",
     "text": [
      "Fitting 10 folds for each of 96 candidates, totalling 960 fits\n"
     ]
    },
    {
     "name": "stderr",
     "output_type": "stream",
     "text": [
      "[Parallel(n_jobs=-1)]: Using backend LokyBackend with 12 concurrent workers.\n",
      "[Parallel(n_jobs=-1)]: Done  17 tasks      | elapsed:    2.6s\n",
      "[Parallel(n_jobs=-1)]: Done 138 tasks      | elapsed:    4.1s\n",
      "[Parallel(n_jobs=-1)]: Done 341 tasks      | elapsed:    7.0s\n",
      "[Parallel(n_jobs=-1)]: Done 624 tasks      | elapsed:   11.7s\n",
      "[Parallel(n_jobs=-1)]: Done 960 out of 960 | elapsed:   19.1s finished\n"
     ]
    },
    {
     "data": {
      "text/html": [
       "<div>\n",
       "<style scoped>\n",
       "    .dataframe tbody tr th:only-of-type {\n",
       "        vertical-align: middle;\n",
       "    }\n",
       "\n",
       "    .dataframe tbody tr th {\n",
       "        vertical-align: top;\n",
       "    }\n",
       "\n",
       "    .dataframe thead th {\n",
       "        text-align: right;\n",
       "    }\n",
       "</style>\n",
       "<table border=\"1\" class=\"dataframe\">\n",
       "  <thead>\n",
       "    <tr style=\"text-align: right;\">\n",
       "      <th></th>\n",
       "      <th>debtinc</th>\n",
       "      <th>loan</th>\n",
       "      <th>value</th>\n",
       "      <th>clage</th>\n",
       "      <th>clno</th>\n",
       "      <th>mortdue</th>\n",
       "      <th>delinq_YuksekGecikme</th>\n",
       "      <th>bad</th>\n",
       "    </tr>\n",
       "  </thead>\n",
       "  <tbody>\n",
       "    <tr>\n",
       "      <th>0</th>\n",
       "      <td>0.228498</td>\n",
       "      <td>0.187075</td>\n",
       "      <td>0.232520</td>\n",
       "      <td>0.144270</td>\n",
       "      <td>0.406250</td>\n",
       "      <td>0.227347</td>\n",
       "      <td>0.0</td>\n",
       "      <td>0.0</td>\n",
       "    </tr>\n",
       "    <tr>\n",
       "      <th>1</th>\n",
       "      <td>0.242931</td>\n",
       "      <td>0.226757</td>\n",
       "      <td>0.150633</td>\n",
       "      <td>0.054824</td>\n",
       "      <td>0.375000</td>\n",
       "      <td>0.188073</td>\n",
       "      <td>0.0</td>\n",
       "      <td>0.0</td>\n",
       "    </tr>\n",
       "    <tr>\n",
       "      <th>2</th>\n",
       "      <td>0.274181</td>\n",
       "      <td>0.367347</td>\n",
       "      <td>0.027481</td>\n",
       "      <td>0.167435</td>\n",
       "      <td>0.781250</td>\n",
       "      <td>0.600643</td>\n",
       "      <td>0.0</td>\n",
       "      <td>0.0</td>\n",
       "    </tr>\n",
       "    <tr>\n",
       "      <th>3</th>\n",
       "      <td>0.179582</td>\n",
       "      <td>0.075964</td>\n",
       "      <td>0.109651</td>\n",
       "      <td>0.112165</td>\n",
       "      <td>0.343750</td>\n",
       "      <td>0.146862</td>\n",
       "      <td>0.0</td>\n",
       "      <td>0.0</td>\n",
       "    </tr>\n",
       "    <tr>\n",
       "      <th>4</th>\n",
       "      <td>0.164656</td>\n",
       "      <td>0.178005</td>\n",
       "      <td>0.042182</td>\n",
       "      <td>0.081242</td>\n",
       "      <td>0.265625</td>\n",
       "      <td>0.052704</td>\n",
       "      <td>0.0</td>\n",
       "      <td>0.0</td>\n",
       "    </tr>\n",
       "  </tbody>\n",
       "</table>\n",
       "</div>"
      ],
      "text/plain": [
       "    debtinc      loan     value     clage      clno   mortdue  \\\n",
       "0  0.228498  0.187075  0.232520  0.144270  0.406250  0.227347   \n",
       "1  0.242931  0.226757  0.150633  0.054824  0.375000  0.188073   \n",
       "2  0.274181  0.367347  0.027481  0.167435  0.781250  0.600643   \n",
       "3  0.179582  0.075964  0.109651  0.112165  0.343750  0.146862   \n",
       "4  0.164656  0.178005  0.042182  0.081242  0.265625  0.052704   \n",
       "\n",
       "   delinq_YuksekGecikme  bad  \n",
       "0                   0.0  0.0  \n",
       "1                   0.0  0.0  \n",
       "2                   0.0  0.0  \n",
       "3                   0.0  0.0  \n",
       "4                   0.0  0.0  "
      ]
     },
     "execution_count": 47,
     "metadata": {},
     "output_type": "execute_result"
    }
   ],
   "source": [
    "rf_params = {\"max_depth\": [2,5,8,10],\n",
    "             \"max_features\": [4,5,6,7],\n",
    "             \"n_estimators\": [10,50,100],\n",
    "             \"min_samples_split\": [5,10]}\n",
    "\n",
    "x= data_minmax.drop([\"bad\"], axis=1)\n",
    "y = data_minmax[\"bad\"]\n",
    "\n",
    "data_rf = featureselection_randomforest(x,y, rf_params, 7) \n",
    "data_rf.head()"
   ]
  },
  {
   "cell_type": "markdown",
   "metadata": {
    "colab_type": "text",
    "id": "lpiK7AeixqOx"
   },
   "source": [
    "# **5. Modelling (Algorithms)**\n",
    "\n",
    "- SVM (Support Vector Machine)\n",
    "- Naive Bayes (Gaussian Naive Bayes)\n",
    "- Naive Bayes (Multinomial Naive Bayes)\n",
    "- Naive Bayes (Bernoulli Naive Bayes)\n",
    "- Gradient Boosted Tree\n",
    "- Cat Boost Tree\n",
    "- XGBoost Tree\n",
    "- K-Nearest Neighbors"
   ]
  },
  {
   "cell_type": "markdown",
   "metadata": {
    "colab_type": "text",
    "id": "xWrOYi1YxqO2"
   },
   "source": [
    "## 5.1. SVM (Support Vector Machine)"
   ]
  },
  {
   "cell_type": "markdown",
   "metadata": {
    "colab_type": "text",
    "id": "xgoN1IBMxqO3"
   },
   "source": [
    "### 5.1.1. PCA based FS"
   ]
  },
  {
   "cell_type": "code",
   "execution_count": 48,
   "metadata": {
    "colab": {
     "base_uri": "https://localhost:8080/",
     "height": 278
    },
    "colab_type": "code",
    "id": "w_VciQ67u02u",
    "outputId": "7973a1e5-01b1-431f-fddb-c58975fa288f"
   },
   "outputs": [
    {
     "name": "stdout",
     "output_type": "stream",
     "text": [
      "(1513, 9) (505, 9) (1513,) (505,)\n",
      "accuracy :  0.92277 \n",
      "precision:  0.0 \n",
      "recall   :  0.0 \n",
      "f1-score :  0.0\n",
      "\n",
      "               precision    recall  f1-score   support\n",
      "\n",
      "         0.0       0.92      1.00      0.96       466\n",
      "         1.0       0.00      0.00      0.00        39\n",
      "\n",
      "   micro avg       0.92      0.92      0.92       505\n",
      "   macro avg       0.46      0.50      0.48       505\n",
      "weighted avg       0.85      0.92      0.89       505\n",
      "\n"
     ]
    }
   ],
   "source": [
    "xtrain, xtest, ytrain, ytest = train_test_splitting(data_pca, \"bad\")\n",
    "svm = SVC(kernel=\"linear\")\n",
    "smv_model = svm.fit(xtrain, ytrain)\n",
    "y_pred = smv_model.predict(xtest)\n",
    "\n",
    "evaluation_metrics(ytest, y_pred)\n",
    "print(\"\\n\",classification_report(ytest, y_pred))"
   ]
  },
  {
   "cell_type": "markdown",
   "metadata": {
    "colab_type": "text",
    "id": "WyeeYRjWxqO_"
   },
   "source": [
    "### 5.1.2. Correlation based FS"
   ]
  },
  {
   "cell_type": "code",
   "execution_count": 49,
   "metadata": {
    "colab": {
     "base_uri": "https://localhost:8080/",
     "height": 278
    },
    "colab_type": "code",
    "id": "SklHV_H5xqPA",
    "outputId": "dfa97cc3-72c5-4d3c-c598-b45205b731ef",
    "scrolled": true
   },
   "outputs": [
    {
     "name": "stdout",
     "output_type": "stream",
     "text": [
      "(1513, 10) (505, 10) (1513,) (505,)\n",
      "accuracy :  0.92277 \n",
      "precision:  0.5 \n",
      "recall   :  0.15385 \n",
      "f1-score :  0.23529\n",
      "\n",
      "               precision    recall  f1-score   support\n",
      "\n",
      "         0.0       0.93      0.99      0.96       466\n",
      "         1.0       0.50      0.15      0.24        39\n",
      "\n",
      "   micro avg       0.92      0.92      0.92       505\n",
      "   macro avg       0.72      0.57      0.60       505\n",
      "weighted avg       0.90      0.92      0.90       505\n",
      "\n"
     ]
    }
   ],
   "source": [
    "xtrain, xtest, ytrain, ytest = train_test_splitting(data_corr, \"bad\")\n",
    "svm = SVC(kernel=\"linear\")\n",
    "smv_model = svm.fit(xtrain, ytrain)\n",
    "y_pred = smv_model.predict(xtest)\n",
    "\n",
    "evaluation_metrics(ytest, y_pred)\n",
    "print(\"\\n\",classification_report(ytest, y_pred))"
   ]
  },
  {
   "cell_type": "markdown",
   "metadata": {
    "colab_type": "text",
    "id": "cGVP9b_txqPF"
   },
   "source": [
    "### 5.1.3. RandomForest based FS"
   ]
  },
  {
   "cell_type": "code",
   "execution_count": 95,
   "metadata": {
    "colab": {
     "base_uri": "https://localhost:8080/",
     "height": 278
    },
    "colab_type": "code",
    "id": "ZIPkYToDvmcu",
    "outputId": "665d1aca-06a3-4937-ca61-9330cf4252f1"
   },
   "outputs": [
    {
     "name": "stdout",
     "output_type": "stream",
     "text": [
      "(1513, 7) (505, 7) (1513,) (505,)\n",
      "accuracy :  0.91881 \n",
      "precision:  0.33333 \n",
      "recall   :  0.05128 \n",
      "f1-score :  0.08889\n",
      "\n",
      "               precision    recall  f1-score   support\n",
      "\n",
      "         0.0       0.93      0.99      0.96       466\n",
      "         1.0       0.33      0.05      0.09        39\n",
      "\n",
      "   micro avg       0.92      0.92      0.92       505\n",
      "   macro avg       0.63      0.52      0.52       505\n",
      "weighted avg       0.88      0.92      0.89       505\n",
      "\n"
     ]
    }
   ],
   "source": [
    "xtrain, xtest, ytrain, ytest = train_test_splitting(data_rf, \"bad\")\n",
    "svm = SVC(kernel=\"linear\")\n",
    "smv_model = svm.fit(xtrain, ytrain)\n",
    "y_pred = smv_model.predict(xtest)\n",
    "\n",
    "evaluation_metrics(ytest, y_pred)\n",
    "print(\"\\n\",classification_report(ytest, y_pred))"
   ]
  },
  {
   "cell_type": "markdown",
   "metadata": {
    "colab_type": "text",
    "id": "gkRMc89ysOyO"
   },
   "source": [
    "### 5.1.4. Without Feature Selection"
   ]
  },
  {
   "cell_type": "code",
   "execution_count": 51,
   "metadata": {
    "colab": {
     "base_uri": "https://localhost:8080/",
     "height": 278
    },
    "colab_type": "code",
    "id": "C1x03Zpuvm3L",
    "outputId": "382185c8-27a4-414e-f5b4-6ff98122ec74"
   },
   "outputs": [
    {
     "name": "stdout",
     "output_type": "stream",
     "text": [
      "(1513, 28) (505, 28) (1513,) (505,)\n",
      "accuracy :  0.92277 \n",
      "precision:  0.5 \n",
      "recall   :  0.15385 \n",
      "f1-score :  0.23529\n",
      "\n",
      "               precision    recall  f1-score   support\n",
      "\n",
      "         0.0       0.93      0.99      0.96       466\n",
      "         1.0       0.50      0.15      0.24        39\n",
      "\n",
      "   micro avg       0.92      0.92      0.92       505\n",
      "   macro avg       0.72      0.57      0.60       505\n",
      "weighted avg       0.90      0.92      0.90       505\n",
      "\n"
     ]
    }
   ],
   "source": [
    "xtrain, xtest, ytrain, ytest = train_test_splitting(data_minmax, \"bad\")\n",
    "svm = SVC(kernel=\"linear\")\n",
    "smv_model = svm.fit(xtrain, ytrain)\n",
    "y_pred = smv_model.predict(xtest)\n",
    "\n",
    "evaluation_metrics(ytest, y_pred)\n",
    "print(\"\\n\",classification_report(ytest, y_pred))"
   ]
  },
  {
   "cell_type": "markdown",
   "metadata": {
    "colab_type": "text",
    "id": "n8v51u1hxqPM"
   },
   "source": [
    "## 5.2. Naive Bayes (Gaussian Naive Bayes)"
   ]
  },
  {
   "cell_type": "markdown",
   "metadata": {
    "colab_type": "text",
    "id": "n5VzC5XXxqPO"
   },
   "source": [
    "### 5.2.1. PCA based FS"
   ]
  },
  {
   "cell_type": "code",
   "execution_count": 52,
   "metadata": {
    "colab": {
     "base_uri": "https://localhost:8080/",
     "height": 278
    },
    "colab_type": "code",
    "id": "8uxDjmCiwHsh",
    "outputId": "d5abdb7e-b457-4909-cfab-2638e460942e"
   },
   "outputs": [
    {
     "name": "stdout",
     "output_type": "stream",
     "text": [
      "(1513, 9) (505, 9) (1513,) (505,)\n",
      "accuracy :  0.89901 \n",
      "precision:  0.22727 \n",
      "recall   :  0.12821 \n",
      "f1-score :  0.16393\n",
      "\n",
      "               precision    recall  f1-score   support\n",
      "\n",
      "         0.0       0.93      0.96      0.95       466\n",
      "         1.0       0.23      0.13      0.16        39\n",
      "\n",
      "   micro avg       0.90      0.90      0.90       505\n",
      "   macro avg       0.58      0.55      0.56       505\n",
      "weighted avg       0.88      0.90      0.89       505\n",
      "\n"
     ]
    }
   ],
   "source": [
    "xtrain, xtest, ytrain, ytest = train_test_splitting(data_pca, \"bad\")\n",
    "gnb = GaussianNB()\n",
    "gnb_model = gnb.fit(xtrain, ytrain)\n",
    "y_pred = gnb_model.predict(xtest)\n",
    "\n",
    "evaluation_metrics(ytest, y_pred)\n",
    "print(\"\\n\",classification_report(ytest, y_pred))"
   ]
  },
  {
   "cell_type": "markdown",
   "metadata": {
    "colab_type": "text",
    "id": "chWm1eQ-xqP-"
   },
   "source": [
    "### 5.2.2. Correlation based FS"
   ]
  },
  {
   "cell_type": "code",
   "execution_count": 53,
   "metadata": {
    "colab": {
     "base_uri": "https://localhost:8080/",
     "height": 278
    },
    "colab_type": "code",
    "id": "b0vQuXmivyJj",
    "outputId": "f4ebecb8-a25b-4e19-de34-92f7819318e3"
   },
   "outputs": [
    {
     "name": "stdout",
     "output_type": "stream",
     "text": [
      "(1513, 10) (505, 10) (1513,) (505,)\n",
      "accuracy :  0.89901 \n",
      "precision:  0.22727 \n",
      "recall   :  0.12821 \n",
      "f1-score :  0.16393\n",
      "\n",
      "               precision    recall  f1-score   support\n",
      "\n",
      "         0.0       0.93      0.96      0.95       466\n",
      "         1.0       0.23      0.13      0.16        39\n",
      "\n",
      "   micro avg       0.90      0.90      0.90       505\n",
      "   macro avg       0.58      0.55      0.56       505\n",
      "weighted avg       0.88      0.90      0.89       505\n",
      "\n"
     ]
    }
   ],
   "source": [
    "xtrain, xtest, ytrain, ytest = train_test_splitting(data_corr, \"bad\")\n",
    "gnb = GaussianNB()\n",
    "gnb_model = gnb.fit(xtrain, ytrain)\n",
    "pred = gnb_model.predict(xtest)\n",
    "\n",
    "evaluation_metrics(ytest, y_pred)\n",
    "print(\"\\n\",classification_report(ytest, y_pred))"
   ]
  },
  {
   "cell_type": "markdown",
   "metadata": {
    "colab_type": "text",
    "id": "pWrbBmyaxqQH"
   },
   "source": [
    "### 5.2.3. RandomForest based FS"
   ]
  },
  {
   "cell_type": "code",
   "execution_count": 92,
   "metadata": {
    "colab": {
     "base_uri": "https://localhost:8080/",
     "height": 278
    },
    "colab_type": "code",
    "id": "92JfsNQNvzFw",
    "outputId": "b1607e86-a158-4a98-8a14-e0b37097eb3c"
   },
   "outputs": [
    {
     "name": "stdout",
     "output_type": "stream",
     "text": [
      "(1513, 7) (505, 7) (1513,) (505,)\n",
      "accuracy :  0.92871 \n",
      "precision:  0.8 \n",
      "recall   :  0.10256 \n",
      "f1-score :  0.18182\n",
      "\n",
      "               precision    recall  f1-score   support\n",
      "\n",
      "         0.0       0.93      1.00      0.96       466\n",
      "         1.0       0.80      0.10      0.18        39\n",
      "\n",
      "   micro avg       0.93      0.93      0.93       505\n",
      "   macro avg       0.86      0.55      0.57       505\n",
      "weighted avg       0.92      0.93      0.90       505\n",
      "\n"
     ]
    }
   ],
   "source": [
    "xtrain, xtest, ytrain, ytest = train_test_splitting(data_rf, \"bad\")\n",
    "gnb = GaussianNB()\n",
    "gnb_model = gnb.fit(xtrain, ytrain)\n",
    "pred = gnb_model.predict(xtest)\n",
    "\n",
    "evaluation_metrics(ytest, y_pred)\n",
    "print(\"\\n\",classification_report(ytest, y_pred))"
   ]
  },
  {
   "cell_type": "markdown",
   "metadata": {
    "colab_type": "text",
    "id": "4SoOilua8fsH"
   },
   "source": [
    "### 5.2.4. Without Feature Selection"
   ]
  },
  {
   "cell_type": "code",
   "execution_count": 55,
   "metadata": {
    "colab": {
     "base_uri": "https://localhost:8080/",
     "height": 278
    },
    "colab_type": "code",
    "id": "2DES26nivzfW",
    "outputId": "c75a30c5-d866-482e-a670-70ddf921de87"
   },
   "outputs": [
    {
     "name": "stdout",
     "output_type": "stream",
     "text": [
      "(1513, 28) (505, 28) (1513,) (505,)\n",
      "accuracy :  0.89901 \n",
      "precision:  0.22727 \n",
      "recall   :  0.12821 \n",
      "f1-score :  0.16393\n",
      "\n",
      "               precision    recall  f1-score   support\n",
      "\n",
      "         0.0       0.93      0.96      0.95       466\n",
      "         1.0       0.23      0.13      0.16        39\n",
      "\n",
      "   micro avg       0.90      0.90      0.90       505\n",
      "   macro avg       0.58      0.55      0.56       505\n",
      "weighted avg       0.88      0.90      0.89       505\n",
      "\n"
     ]
    }
   ],
   "source": [
    "xtrain, xtest, ytrain, ytest = train_test_splitting(data_minmax, \"bad\")\n",
    "gnb = GaussianNB()\n",
    "gnb_model = gnb.fit(xtrain, ytrain)\n",
    "pred = gnb_model.predict(xtest)\n",
    "\n",
    "evaluation_metrics(ytest, y_pred)\n",
    "print(\"\\n\",classification_report(ytest, y_pred))"
   ]
  },
  {
   "cell_type": "markdown",
   "metadata": {
    "colab_type": "text",
    "id": "eJZDu8WGxqQR"
   },
   "source": [
    "## 5.3. Naive Bayes (Multinomial Naive Bayes)"
   ]
  },
  {
   "cell_type": "markdown",
   "metadata": {
    "colab_type": "text",
    "id": "aPglieF8xqQT"
   },
   "source": [
    "### 5.3.1. PCA based FS\n",
    "\n",
    "Multinomial Naive Bayes algorithm accepts only positive values. Therefore, we can't apply with PCA feature selection because there are negative values after PCA."
   ]
  },
  {
   "cell_type": "markdown",
   "metadata": {
    "colab_type": "text",
    "id": "yrG1TlIgxqQZ"
   },
   "source": [
    "### 5.3.2. Correlation based FS"
   ]
  },
  {
   "cell_type": "code",
   "execution_count": null,
   "metadata": {
    "colab": {
     "base_uri": "https://localhost:8080/",
     "height": 278
    },
    "colab_type": "code",
    "id": "4t_mDiQTwXCF",
    "outputId": "5817cac4-af9c-469f-9aba-a0062d188df0"
   },
   "outputs": [
    {
     "name": "stdout",
     "output_type": "stream",
     "text": [
      "(1513, 10) (505, 10) (1513,) (505,)\n",
      "accuracy :  0.92277 \n",
      "precision:  0.5 \n",
      "recall   :  0.15385 \n",
      "f1-score :  0.23529\n",
      "\n",
      "               precision    recall  f1-score   support\n",
      "\n",
      "         0.0       0.93      0.99      0.96       466\n",
      "         1.0       0.50      0.15      0.24        39\n",
      "\n",
      "    accuracy                           0.92       505\n",
      "   macro avg       0.72      0.57      0.60       505\n",
      "weighted avg       0.90      0.92      0.90       505\n",
      "\n"
     ]
    }
   ],
   "source": [
    "xtrain, xtest, ytrain, ytest = train_test_splitting(data_corr, \"bad\")\n",
    "mnb = MultinomialNB()\n",
    "mnb_model = mnb.fit(xtrain, ytrain)\n",
    "pred = mnb_model.predict(xtest)\n",
    "\n",
    "evaluation_metrics(ytest, y_pred)\n",
    "print(\"\\n\",classification_report(ytest, y_pred))"
   ]
  },
  {
   "cell_type": "markdown",
   "metadata": {
    "colab_type": "text",
    "id": "i13IH5itxqQh"
   },
   "source": [
    "### 5.3.3. RandomForest based FS"
   ]
  },
  {
   "cell_type": "code",
   "execution_count": 93,
   "metadata": {
    "colab": {
     "base_uri": "https://localhost:8080/",
     "height": 278
    },
    "colab_type": "code",
    "id": "b5lWg5fnwXTU",
    "outputId": "cc689472-b399-4b3b-d85a-6e56330d8ce4"
   },
   "outputs": [
    {
     "name": "stdout",
     "output_type": "stream",
     "text": [
      "(1513, 7) (505, 7) (1513,) (505,)\n",
      "accuracy :  0.92871 \n",
      "precision:  0.8 \n",
      "recall   :  0.10256 \n",
      "f1-score :  0.18182\n",
      "\n",
      "               precision    recall  f1-score   support\n",
      "\n",
      "         0.0       0.93      1.00      0.96       466\n",
      "         1.0       0.80      0.10      0.18        39\n",
      "\n",
      "   micro avg       0.93      0.93      0.93       505\n",
      "   macro avg       0.86      0.55      0.57       505\n",
      "weighted avg       0.92      0.93      0.90       505\n",
      "\n"
     ]
    }
   ],
   "source": [
    "xtrain, xtest, ytrain, ytest = train_test_splitting(data_rf, \"bad\")\n",
    "mnb = MultinomialNB()\n",
    "mnb_model = mnb.fit(xtrain, ytrain)\n",
    "pred = mnb_model.predict(xtest)\n",
    "\n",
    "evaluation_metrics(ytest, y_pred)\n",
    "print(\"\\n\",classification_report(ytest, y_pred))"
   ]
  },
  {
   "cell_type": "markdown",
   "metadata": {
    "colab_type": "text",
    "id": "hcYAC6SksL0T"
   },
   "source": [
    "### 5.3.4. Without Feature Selection"
   ]
  },
  {
   "cell_type": "code",
   "execution_count": 58,
   "metadata": {
    "colab": {
     "base_uri": "https://localhost:8080/",
     "height": 278
    },
    "colab_type": "code",
    "id": "HciUboGuwXj6",
    "outputId": "f1a1ae2c-de5a-4461-a6d5-a4fede3d3535"
   },
   "outputs": [
    {
     "name": "stdout",
     "output_type": "stream",
     "text": [
      "(1513, 28) (505, 28) (1513,) (505,)\n",
      "accuracy :  0.89901 \n",
      "precision:  0.22727 \n",
      "recall   :  0.12821 \n",
      "f1-score :  0.16393\n",
      "\n",
      "               precision    recall  f1-score   support\n",
      "\n",
      "         0.0       0.93      0.96      0.95       466\n",
      "         1.0       0.23      0.13      0.16        39\n",
      "\n",
      "   micro avg       0.90      0.90      0.90       505\n",
      "   macro avg       0.58      0.55      0.56       505\n",
      "weighted avg       0.88      0.90      0.89       505\n",
      "\n"
     ]
    }
   ],
   "source": [
    "xtrain, xtest, ytrain, ytest = train_test_splitting(data_minmax, \"bad\")\n",
    "mnb = MultinomialNB()\n",
    "mnb_model = mnb.fit(xtrain, ytrain)\n",
    "pred = mnb_model.predict(xtest)\n",
    "\n",
    "evaluation_metrics(ytest, y_pred)\n",
    "print(\"\\n\",classification_report(ytest, y_pred))"
   ]
  },
  {
   "cell_type": "markdown",
   "metadata": {
    "colab_type": "text",
    "id": "2MdkqV60k1jl"
   },
   "source": [
    "## 5.4. Naive Bayes (Bernoulli Naive Bayes)"
   ]
  },
  {
   "cell_type": "markdown",
   "metadata": {
    "colab_type": "text",
    "id": "3NmoboRvl1GH"
   },
   "source": [
    "### 5.4.1. PCA based FS"
   ]
  },
  {
   "cell_type": "code",
   "execution_count": 59,
   "metadata": {
    "colab": {
     "base_uri": "https://localhost:8080/",
     "height": 278
    },
    "colab_type": "code",
    "id": "ToKuQLNuDN6G",
    "outputId": "866f0508-ca40-4aa5-d9eb-43a618e8e685"
   },
   "outputs": [
    {
     "name": "stdout",
     "output_type": "stream",
     "text": [
      "(1513, 9) (505, 9) (1513,) (505,)\n",
      "accuracy :  0.89901 \n",
      "precision:  0.22727 \n",
      "recall   :  0.12821 \n",
      "f1-score :  0.16393\n",
      "\n",
      "               precision    recall  f1-score   support\n",
      "\n",
      "         0.0       0.93      0.96      0.95       466\n",
      "         1.0       0.23      0.13      0.16        39\n",
      "\n",
      "   micro avg       0.90      0.90      0.90       505\n",
      "   macro avg       0.58      0.55      0.56       505\n",
      "weighted avg       0.88      0.90      0.89       505\n",
      "\n"
     ]
    }
   ],
   "source": [
    "xtrain, xtest, ytrain, ytest = train_test_splitting(data_pca, \"bad\")\n",
    "bnb = BernoulliNB()\n",
    "bnb_model = bnb.fit(xtrain, ytrain)\n",
    "pred = bnb_model.predict(xtest)\n",
    "\n",
    "evaluation_metrics(ytest, y_pred)\n",
    "print(\"\\n\",classification_report(ytest, y_pred))"
   ]
  },
  {
   "cell_type": "markdown",
   "metadata": {
    "colab_type": "text",
    "id": "TK3nZOsQl4nK"
   },
   "source": [
    "### 5.4.2. Correlation based FS"
   ]
  },
  {
   "cell_type": "code",
   "execution_count": 60,
   "metadata": {
    "colab": {
     "base_uri": "https://localhost:8080/",
     "height": 278
    },
    "colab_type": "code",
    "id": "ZmZ2EsCXDONl",
    "outputId": "1571f3d6-1cc4-47ae-dee7-4543e2b150ee"
   },
   "outputs": [
    {
     "name": "stdout",
     "output_type": "stream",
     "text": [
      "(1513, 10) (505, 10) (1513,) (505,)\n",
      "accuracy :  0.89901 \n",
      "precision:  0.22727 \n",
      "recall   :  0.12821 \n",
      "f1-score :  0.16393\n",
      "\n",
      "               precision    recall  f1-score   support\n",
      "\n",
      "         0.0       0.93      0.96      0.95       466\n",
      "         1.0       0.23      0.13      0.16        39\n",
      "\n",
      "   micro avg       0.90      0.90      0.90       505\n",
      "   macro avg       0.58      0.55      0.56       505\n",
      "weighted avg       0.88      0.90      0.89       505\n",
      "\n"
     ]
    }
   ],
   "source": [
    "xtrain, xtest, ytrain, ytest = train_test_splitting(data_corr, \"bad\")\n",
    "bnb = BernoulliNB()\n",
    "bnb_model = bnb.fit(xtrain, ytrain)\n",
    "pred = bnb_model.predict(xtest)\n",
    "\n",
    "evaluation_metrics(ytest, y_pred)\n",
    "print(\"\\n\",classification_report(ytest, y_pred))"
   ]
  },
  {
   "cell_type": "markdown",
   "metadata": {
    "colab_type": "text",
    "id": "ATyzyMFDk6x_"
   },
   "source": [
    "### 5.4.3. RandomForest based FS"
   ]
  },
  {
   "cell_type": "code",
   "execution_count": 61,
   "metadata": {
    "colab": {
     "base_uri": "https://localhost:8080/",
     "height": 278
    },
    "colab_type": "code",
    "id": "AniLHHHeDOcJ",
    "outputId": "f552ab93-7733-4b30-b9a7-0a142134c780"
   },
   "outputs": [
    {
     "name": "stdout",
     "output_type": "stream",
     "text": [
      "(1513, 7) (505, 7) (1513,) (505,)\n",
      "accuracy :  0.89901 \n",
      "precision:  0.22727 \n",
      "recall   :  0.12821 \n",
      "f1-score :  0.16393\n",
      "\n",
      "               precision    recall  f1-score   support\n",
      "\n",
      "         0.0       0.93      0.96      0.95       466\n",
      "         1.0       0.23      0.13      0.16        39\n",
      "\n",
      "   micro avg       0.90      0.90      0.90       505\n",
      "   macro avg       0.58      0.55      0.56       505\n",
      "weighted avg       0.88      0.90      0.89       505\n",
      "\n"
     ]
    }
   ],
   "source": [
    "xtrain, xtest, ytrain, ytest = train_test_splitting(data_rf, \"bad\")\n",
    "bnb = BernoulliNB()\n",
    "bnb_model = bnb.fit(xtrain, ytrain)\n",
    "pred = bnb_model.predict(xtest)\n",
    "\n",
    "evaluation_metrics(ytest, y_pred)\n",
    "print(\"\\n\",classification_report(ytest, y_pred))"
   ]
  },
  {
   "cell_type": "markdown",
   "metadata": {
    "colab_type": "text",
    "id": "44yB55aPsTVQ"
   },
   "source": [
    "### 5.4.4. Without Feature Selection"
   ]
  },
  {
   "cell_type": "code",
   "execution_count": 62,
   "metadata": {
    "colab": {
     "base_uri": "https://localhost:8080/",
     "height": 278
    },
    "colab_type": "code",
    "id": "Fa_uMYRgDOu-",
    "outputId": "b13030d3-783f-4070-f0c6-f2f875e61853"
   },
   "outputs": [
    {
     "name": "stdout",
     "output_type": "stream",
     "text": [
      "(1513, 28) (505, 28) (1513,) (505,)\n",
      "accuracy :  0.89703 \n",
      "precision:  0.25926 \n",
      "recall   :  0.17949 \n",
      "f1-score :  0.21212\n",
      "\n",
      "               precision    recall  f1-score   support\n",
      "\n",
      "         0.0       0.93      0.96      0.94       466\n",
      "         1.0       0.26      0.18      0.21        39\n",
      "\n",
      "   micro avg       0.90      0.90      0.90       505\n",
      "   macro avg       0.60      0.57      0.58       505\n",
      "weighted avg       0.88      0.90      0.89       505\n",
      "\n"
     ]
    }
   ],
   "source": [
    "xtrain, xtest, ytrain, ytest = train_test_splitting(data_minmax, \"bad\")\n",
    "bnb = BernoulliNB()\n",
    "bnb_model = bnb.fit(xtrain, ytrain)\n",
    "y_pred = bnb_model.predict(xtest)\n",
    "\n",
    "evaluation_metrics(ytest, y_pred)\n",
    "print(\"\\n\",classification_report(ytest, y_pred))"
   ]
  },
  {
   "cell_type": "markdown",
   "metadata": {
    "colab_type": "text",
    "id": "yMVr1-jUrA0B"
   },
   "source": [
    "## 5.5. Gradient Boost Tree"
   ]
  },
  {
   "cell_type": "code",
   "execution_count": 65,
   "metadata": {
    "colab": {},
    "colab_type": "code",
    "id": "ko-A_ayjuPXf"
   },
   "outputs": [],
   "source": [
    "def GradientBoost(xtrain, ytrain, xtest):\n",
    "    gbt = GradientBoostingClassifier()\n",
    "    gbt_model = gbt.fit(xtrain, ytrain)\n",
    "    y_pred = gbt_model.predict(xtest)\n",
    "    return y_pred, gbt"
   ]
  },
  {
   "cell_type": "markdown",
   "metadata": {
    "colab_type": "text",
    "id": "w7x9yB4NrM_g"
   },
   "source": [
    "### 5.5.1. PCA based Feature Selection"
   ]
  },
  {
   "cell_type": "code",
   "execution_count": 66,
   "metadata": {
    "colab": {
     "base_uri": "https://localhost:8080/",
     "height": 278
    },
    "colab_type": "code",
    "id": "zq8F8hmAvWCp",
    "outputId": "82c4ade1-e266-4c2a-95b8-d5fabfc95e89"
   },
   "outputs": [
    {
     "name": "stdout",
     "output_type": "stream",
     "text": [
      "(1513, 9) (505, 9) (1513,) (505,)\n",
      "accuracy :  0.92079 \n",
      "precision:  0.46154 \n",
      "recall   :  0.15385 \n",
      "f1-score :  0.23077\n",
      "\n",
      "               precision    recall  f1-score   support\n",
      "\n",
      "         0.0       0.93      0.98      0.96       466\n",
      "         1.0       0.46      0.15      0.23        39\n",
      "\n",
      "   micro avg       0.92      0.92      0.92       505\n",
      "   macro avg       0.70      0.57      0.59       505\n",
      "weighted avg       0.90      0.92      0.90       505\n",
      "\n"
     ]
    }
   ],
   "source": [
    "xtrain, xtest, ytrain, ytest = train_test_splitting(data_pca, \"bad\")\n",
    "\n",
    "y_pred, gbt = GradientBoost(xtrain, ytrain, xtest)\n",
    "evaluation_metrics(ytest, y_pred)\n",
    "print(\"\\n\",classification_report(ytest, y_pred))"
   ]
  },
  {
   "cell_type": "markdown",
   "metadata": {
    "colab_type": "text",
    "id": "A44C-yL-rRSO"
   },
   "source": [
    "### 5.5.2. Correlation Based Feature Selection"
   ]
  },
  {
   "cell_type": "code",
   "execution_count": 67,
   "metadata": {
    "colab": {
     "base_uri": "https://localhost:8080/",
     "height": 278
    },
    "colab_type": "code",
    "id": "zkt9hAXKuAWi",
    "outputId": "caaf310f-8be6-4cbe-e76c-b0a6c106709d"
   },
   "outputs": [
    {
     "name": "stdout",
     "output_type": "stream",
     "text": [
      "(1513, 10) (505, 10) (1513,) (505,)\n",
      "accuracy :  0.94257 \n",
      "precision:  0.72727 \n",
      "recall   :  0.41026 \n",
      "f1-score :  0.52459\n",
      "\n",
      "               precision    recall  f1-score   support\n",
      "\n",
      "         0.0       0.95      0.99      0.97       466\n",
      "         1.0       0.73      0.41      0.52        39\n",
      "\n",
      "   micro avg       0.94      0.94      0.94       505\n",
      "   macro avg       0.84      0.70      0.75       505\n",
      "weighted avg       0.93      0.94      0.94       505\n",
      "\n"
     ]
    }
   ],
   "source": [
    "xtrain, xtest, ytrain, ytest = train_test_splitting(data_corr, \"bad\")\n",
    "\n",
    "y_pred, gbt = GradientBoost(xtrain, ytrain, xtest)\n",
    "evaluation_metrics(ytest, y_pred)\n",
    "print(\"\\n\",classification_report(ytest, y_pred))"
   ]
  },
  {
   "cell_type": "markdown",
   "metadata": {
    "colab_type": "text",
    "id": "TeY2I-6lrRks"
   },
   "source": [
    "### 5.5.3. RandomForest Based Feature Selection"
   ]
  },
  {
   "cell_type": "code",
   "execution_count": 68,
   "metadata": {
    "colab": {
     "base_uri": "https://localhost:8080/",
     "height": 278
    },
    "colab_type": "code",
    "id": "Zi8ueW07uApT",
    "outputId": "57db19b4-e9a6-44db-d316-426c88859464"
   },
   "outputs": [
    {
     "name": "stdout",
     "output_type": "stream",
     "text": [
      "(1513, 7) (505, 7) (1513,) (505,)\n",
      "accuracy :  0.95842 \n",
      "precision:  0.95 \n",
      "recall   :  0.48718 \n",
      "f1-score :  0.64407\n",
      "\n",
      "               precision    recall  f1-score   support\n",
      "\n",
      "         0.0       0.96      1.00      0.98       466\n",
      "         1.0       0.95      0.49      0.64        39\n",
      "\n",
      "   micro avg       0.96      0.96      0.96       505\n",
      "   macro avg       0.95      0.74      0.81       505\n",
      "weighted avg       0.96      0.96      0.95       505\n",
      "\n"
     ]
    }
   ],
   "source": [
    "xtrain, xtest, ytrain, ytest = train_test_splitting(data_rf, \"bad\")\n",
    "\n",
    "y_pred, gb = GradientBoost(xtrain, ytrain, xtest)\n",
    "evaluation_metrics(ytest, y_pred)\n",
    "print(\"\\n\",classification_report(ytest, y_pred))"
   ]
  },
  {
   "cell_type": "markdown",
   "metadata": {
    "colab_type": "text",
    "id": "-rWDSLQvrbbl"
   },
   "source": [
    "### 5.5.4. Without Feature Selection"
   ]
  },
  {
   "cell_type": "code",
   "execution_count": 69,
   "metadata": {
    "colab": {
     "base_uri": "https://localhost:8080/",
     "height": 278
    },
    "colab_type": "code",
    "id": "2X0TQhxbuBjX",
    "outputId": "99241ddf-daf0-4561-c50d-f023a9061dcf"
   },
   "outputs": [
    {
     "name": "stdout",
     "output_type": "stream",
     "text": [
      "(1513, 28) (505, 28) (1513,) (505,)\n",
      "accuracy :  0.96238 \n",
      "precision:  0.95455 \n",
      "recall   :  0.53846 \n",
      "f1-score :  0.68852\n",
      "\n",
      "               precision    recall  f1-score   support\n",
      "\n",
      "         0.0       0.96      1.00      0.98       466\n",
      "         1.0       0.95      0.54      0.69        39\n",
      "\n",
      "   micro avg       0.96      0.96      0.96       505\n",
      "   macro avg       0.96      0.77      0.83       505\n",
      "weighted avg       0.96      0.96      0.96       505\n",
      "\n"
     ]
    }
   ],
   "source": [
    "xtrain, xtest, ytrain, ytest = train_test_splitting(data_minmax, \"bad\")\n",
    "\n",
    "y_pred, gbt = GradientBoost(xtrain, ytrain, xtest)\n",
    "evaluation_metrics(ytest, y_pred)\n",
    "print(\"\\n\",classification_report(ytest, y_pred))"
   ]
  },
  {
   "cell_type": "markdown",
   "metadata": {
    "colab_type": "text",
    "id": "yQA5Vy2-rEkp"
   },
   "source": [
    "## 5.6. Cat Boost Tree"
   ]
  },
  {
   "cell_type": "code",
   "execution_count": 75,
   "metadata": {
    "colab": {},
    "colab_type": "code",
    "id": "M6_1itRiwxFx"
   },
   "outputs": [],
   "source": [
    "def CatBoostTree(xtrain, ytrain, xtest):\n",
    "    cat = CatBoostClassifier(verbose=0)\n",
    "    cat_model = cat.fit(xtrain, ytrain)\n",
    "    y_pred = cat_model.predict(xtest)\n",
    "    return y_pred, cat"
   ]
  },
  {
   "cell_type": "markdown",
   "metadata": {
    "colab_type": "text",
    "id": "V6sk5Yjlrfi2"
   },
   "source": [
    "### 5.6.1. PCA based Feature Selection"
   ]
  },
  {
   "cell_type": "code",
   "execution_count": 76,
   "metadata": {
    "colab": {
     "base_uri": "https://localhost:8080/",
     "height": 278
    },
    "colab_type": "code",
    "id": "eBSkaj3nrsaP",
    "outputId": "758f7370-0edb-4c85-9242-34c778e78ce7"
   },
   "outputs": [
    {
     "name": "stdout",
     "output_type": "stream",
     "text": [
      "(1513, 9) (505, 9) (1513,) (505,)\n",
      "accuracy :  0.92475 \n",
      "precision:  0.54545 \n",
      "recall   :  0.15385 \n",
      "f1-score :  0.24\n",
      "\n",
      "               precision    recall  f1-score   support\n",
      "\n",
      "         0.0       0.93      0.99      0.96       466\n",
      "         1.0       0.55      0.15      0.24        39\n",
      "\n",
      "   micro avg       0.92      0.92      0.92       505\n",
      "   macro avg       0.74      0.57      0.60       505\n",
      "weighted avg       0.90      0.92      0.90       505\n",
      "\n"
     ]
    }
   ],
   "source": [
    "xtrain, xtest, ytrain, ytest = train_test_splitting(data_pca, \"bad\")\n",
    "\n",
    "y_pred, cat = CatBoostTree(xtrain, ytrain, xtest)\n",
    "evaluation_metrics(ytest, y_pred)\n",
    "print(\"\\n\",classification_report(ytest, y_pred))"
   ]
  },
  {
   "cell_type": "markdown",
   "metadata": {
    "colab_type": "text",
    "id": "ahOBKEF6rgg-"
   },
   "source": [
    "### 5.6.2. Correlation Based Feature Selection"
   ]
  },
  {
   "cell_type": "code",
   "execution_count": 77,
   "metadata": {
    "colab": {
     "base_uri": "https://localhost:8080/",
     "height": 278
    },
    "colab_type": "code",
    "id": "mFEvK-mgrste",
    "outputId": "2a61ad2f-64f7-4d56-e523-6420fe0d8d97"
   },
   "outputs": [
    {
     "name": "stdout",
     "output_type": "stream",
     "text": [
      "(1513, 10) (505, 10) (1513,) (505,)\n",
      "accuracy :  0.94455 \n",
      "precision:  0.78947 \n",
      "recall   :  0.38462 \n",
      "f1-score :  0.51724\n",
      "\n",
      "               precision    recall  f1-score   support\n",
      "\n",
      "         0.0       0.95      0.99      0.97       466\n",
      "         1.0       0.79      0.38      0.52        39\n",
      "\n",
      "   micro avg       0.94      0.94      0.94       505\n",
      "   macro avg       0.87      0.69      0.74       505\n",
      "weighted avg       0.94      0.94      0.94       505\n",
      "\n"
     ]
    }
   ],
   "source": [
    "xtrain, xtest, ytrain, ytest = train_test_splitting(data_corr, \"bad\")\n",
    "\n",
    "y_pred, cat = CatBoostTree(xtrain, ytrain, xtest)\n",
    "evaluation_metrics(ytest, y_pred)\n",
    "print(\"\\n\",classification_report(ytest, y_pred))"
   ]
  },
  {
   "cell_type": "markdown",
   "metadata": {
    "colab_type": "text",
    "id": "Zw0LMFXMrgvw"
   },
   "source": [
    "### 5.6.3. RandomForest Based Feature Selection"
   ]
  },
  {
   "cell_type": "code",
   "execution_count": 78,
   "metadata": {
    "colab": {
     "base_uri": "https://localhost:8080/",
     "height": 278
    },
    "colab_type": "code",
    "id": "LiWgW-tRrtGg",
    "outputId": "82980d30-49b5-4a3b-f809-248605e6d71a"
   },
   "outputs": [
    {
     "name": "stdout",
     "output_type": "stream",
     "text": [
      "(1513, 7) (505, 7) (1513,) (505,)\n",
      "accuracy :  0.95842 \n",
      "precision:  0.95 \n",
      "recall   :  0.48718 \n",
      "f1-score :  0.64407\n",
      "\n",
      "               precision    recall  f1-score   support\n",
      "\n",
      "         0.0       0.96      1.00      0.98       466\n",
      "         1.0       0.95      0.49      0.64        39\n",
      "\n",
      "   micro avg       0.96      0.96      0.96       505\n",
      "   macro avg       0.95      0.74      0.81       505\n",
      "weighted avg       0.96      0.96      0.95       505\n",
      "\n"
     ]
    }
   ],
   "source": [
    "xtrain, xtest, ytrain, ytest = train_test_splitting(data_rf, \"bad\")\n",
    "\n",
    "y_pred, cat = CatBoostTree(xtrain, ytrain, xtest)\n",
    "evaluation_metrics(ytest, y_pred)\n",
    "print(\"\\n\",classification_report(ytest, y_pred))"
   ]
  },
  {
   "cell_type": "markdown",
   "metadata": {
    "colab_type": "text",
    "id": "BTipvxXKrHVT"
   },
   "source": [
    "### 5.6.4. Without Feature Selection"
   ]
  },
  {
   "cell_type": "code",
   "execution_count": 79,
   "metadata": {
    "colab": {
     "base_uri": "https://localhost:8080/",
     "height": 278
    },
    "colab_type": "code",
    "id": "oEev04UCxFq1",
    "outputId": "5fe5c83b-3638-44b6-baeb-d234c9aea3a4"
   },
   "outputs": [
    {
     "name": "stdout",
     "output_type": "stream",
     "text": [
      "(1513, 28) (505, 28) (1513,) (505,)\n",
      "accuracy :  0.96436 \n",
      "precision:  0.95652 \n",
      "recall   :  0.5641 \n",
      "f1-score :  0.70968\n",
      "\n",
      "               precision    recall  f1-score   support\n",
      "\n",
      "         0.0       0.96      1.00      0.98       466\n",
      "         1.0       0.96      0.56      0.71        39\n",
      "\n",
      "   micro avg       0.96      0.96      0.96       505\n",
      "   macro avg       0.96      0.78      0.85       505\n",
      "weighted avg       0.96      0.96      0.96       505\n",
      "\n"
     ]
    }
   ],
   "source": [
    "xtrain, xtest, ytrain, ytest = train_test_splitting(data_minmax, \"bad\")\n",
    "\n",
    "y_pred, cat = CatBoostTree(xtrain, ytrain, xtest)\n",
    "evaluation_metrics(ytest, y_pred)\n",
    "print(\"\\n\",classification_report(ytest, y_pred))"
   ]
  },
  {
   "cell_type": "markdown",
   "metadata": {
    "colab_type": "text",
    "id": "6hhA0VvrNBpa"
   },
   "source": [
    "## 5.6. XGBoost Tree"
   ]
  },
  {
   "cell_type": "code",
   "execution_count": 96,
   "metadata": {
    "colab": {},
    "colab_type": "code",
    "id": "NGUGYqYXNizB"
   },
   "outputs": [],
   "source": [
    "def XGBoostTree(xtrain, ytrain, xtest):\n",
    "    xgb = XGBClassifier()\n",
    "    xgb_model = xgb.fit(xtrain, ytrain)\n",
    "    y_pred = xgb_model.predict(xtest)\n",
    "    return y_pred, xgb_model"
   ]
  },
  {
   "cell_type": "markdown",
   "metadata": {
    "colab_type": "text",
    "id": "zG7GupiFNEh6"
   },
   "source": [
    "### 5.6.1. PCA based Feature Selection"
   ]
  },
  {
   "cell_type": "code",
   "execution_count": 83,
   "metadata": {
    "colab": {
     "base_uri": "https://localhost:8080/",
     "height": 278
    },
    "colab_type": "code",
    "id": "EVKbt2YvNRzx",
    "outputId": "695a2a2f-1196-4d2e-cc32-2844cbc776ab"
   },
   "outputs": [
    {
     "name": "stdout",
     "output_type": "stream",
     "text": [
      "(1513, 9) (505, 9) (1513,) (505,)\n",
      "accuracy :  0.91881 \n",
      "precision:  0.42857 \n",
      "recall   :  0.15385 \n",
      "f1-score :  0.22642\n",
      "\n",
      "               precision    recall  f1-score   support\n",
      "\n",
      "         0.0       0.93      0.98      0.96       466\n",
      "         1.0       0.43      0.15      0.23        39\n",
      "\n",
      "   micro avg       0.92      0.92      0.92       505\n",
      "   macro avg       0.68      0.57      0.59       505\n",
      "weighted avg       0.89      0.92      0.90       505\n",
      "\n"
     ]
    }
   ],
   "source": [
    "xtrain, xtest, ytrain, ytest = train_test_splitting(data_pca, \"bad\")\n",
    "\n",
    "y_pred, xgb = XGBoostTree(xtrain, ytrain, xtest)\n",
    "evaluation_metrics(ytest, y_pred)\n",
    "print(\"\\n\",classification_report(ytest, y_pred))"
   ]
  },
  {
   "cell_type": "markdown",
   "metadata": {
    "colab_type": "text",
    "id": "h0MoLePHNEdR"
   },
   "source": [
    "### 5.6.2. Correlation based Feature Selection"
   ]
  },
  {
   "cell_type": "code",
   "execution_count": 84,
   "metadata": {
    "colab": {
     "base_uri": "https://localhost:8080/",
     "height": 278
    },
    "colab_type": "code",
    "id": "psGE5BPkNSJr",
    "outputId": "79e6949b-ffe7-4454-9b04-10b0bfbcd4b3"
   },
   "outputs": [
    {
     "name": "stdout",
     "output_type": "stream",
     "text": [
      "(1513, 10) (505, 10) (1513,) (505,)\n",
      "accuracy :  0.93069 \n",
      "precision:  0.57143 \n",
      "recall   :  0.41026 \n",
      "f1-score :  0.47761\n",
      "\n",
      "               precision    recall  f1-score   support\n",
      "\n",
      "         0.0       0.95      0.97      0.96       466\n",
      "         1.0       0.57      0.41      0.48        39\n",
      "\n",
      "   micro avg       0.93      0.93      0.93       505\n",
      "   macro avg       0.76      0.69      0.72       505\n",
      "weighted avg       0.92      0.93      0.93       505\n",
      "\n"
     ]
    }
   ],
   "source": [
    "xtrain, xtest, ytrain, ytest = train_test_splitting(data_corr, \"bad\")\n",
    "\n",
    "y_pred, xgb = XGBoostTree(xtrain, ytrain, xtest)\n",
    "evaluation_metrics(ytest, y_pred)\n",
    "print(\"\\n\",classification_report(ytest, y_pred))"
   ]
  },
  {
   "cell_type": "markdown",
   "metadata": {
    "colab_type": "text",
    "id": "WqwWq5pfNEgW"
   },
   "source": [
    "### 5.6.3. RandomForest based Feature Selection"
   ]
  },
  {
   "cell_type": "code",
   "execution_count": 85,
   "metadata": {
    "colab": {
     "base_uri": "https://localhost:8080/",
     "height": 278
    },
    "colab_type": "code",
    "id": "sr_xMqQCNSdE",
    "outputId": "e83331f3-111b-47db-98f7-a6761f6bb81c"
   },
   "outputs": [
    {
     "name": "stdout",
     "output_type": "stream",
     "text": [
      "(1513, 7) (505, 7) (1513,) (505,)\n",
      "accuracy :  0.95446 \n",
      "precision:  0.86364 \n",
      "recall   :  0.48718 \n",
      "f1-score :  0.62295\n",
      "\n",
      "               precision    recall  f1-score   support\n",
      "\n",
      "         0.0       0.96      0.99      0.98       466\n",
      "         1.0       0.86      0.49      0.62        39\n",
      "\n",
      "   micro avg       0.95      0.95      0.95       505\n",
      "   macro avg       0.91      0.74      0.80       505\n",
      "weighted avg       0.95      0.95      0.95       505\n",
      "\n"
     ]
    }
   ],
   "source": [
    "xtrain, xtest, ytrain, ytest = train_test_splitting(data_rf, \"bad\")\n",
    "\n",
    "y_pred, xgb_model = XGBoostTree(xtrain, ytrain, xtest)\n",
    "evaluation_metrics(ytest, y_pred)\n",
    "print(\"\\n\",classification_report(ytest, y_pred))"
   ]
  },
  {
   "cell_type": "markdown",
   "metadata": {
    "colab_type": "text",
    "id": "ujRzM0zINXUl"
   },
   "source": [
    "### 5.6.4. Without Feature Selection"
   ]
  },
  {
   "cell_type": "code",
   "execution_count": 86,
   "metadata": {
    "colab": {
     "base_uri": "https://localhost:8080/",
     "height": 278
    },
    "colab_type": "code",
    "id": "dDQgIQycNeU7",
    "outputId": "d856c23a-2ed9-418f-81c3-430b011769b4"
   },
   "outputs": [
    {
     "name": "stdout",
     "output_type": "stream",
     "text": [
      "(1513, 28) (505, 28) (1513,) (505,)\n",
      "accuracy :  0.9604 \n",
      "precision:  0.91304 \n",
      "recall   :  0.53846 \n",
      "f1-score :  0.67742\n",
      "\n",
      "               precision    recall  f1-score   support\n",
      "\n",
      "         0.0       0.96      1.00      0.98       466\n",
      "         1.0       0.91      0.54      0.68        39\n",
      "\n",
      "   micro avg       0.96      0.96      0.96       505\n",
      "   macro avg       0.94      0.77      0.83       505\n",
      "weighted avg       0.96      0.96      0.96       505\n",
      "\n"
     ]
    }
   ],
   "source": [
    "xtrain, xtest, ytrain, ytest = train_test_splitting(data_minmax, \"bad\")\n",
    "\n",
    "y_pred, xgb = XGBoostTree(xtrain, ytrain, xtest)\n",
    "evaluation_metrics(ytest, y_pred)\n",
    "print(\"\\n\",classification_report(ytest, y_pred))"
   ]
  },
  {
   "cell_type": "markdown",
   "metadata": {
    "colab_type": "text",
    "id": "_KYV7i7tDOjA"
   },
   "source": [
    "## 5.7. K-Neares Neighbors"
   ]
  },
  {
   "cell_type": "code",
   "execution_count": 87,
   "metadata": {
    "colab": {},
    "colab_type": "code",
    "id": "Gb01VwplEBJA"
   },
   "outputs": [],
   "source": [
    "def KNearestNeighbors(xtrain, ytrain, xtest):\n",
    "    knn = KNeighborsClassifier()\n",
    "    knn_model = knn.fit(xtrain, ytrain)\n",
    "    y_pred = knn_model.predict(xtest)\n",
    "    return y_pred, knn_model"
   ]
  },
  {
   "cell_type": "markdown",
   "metadata": {
    "colab_type": "text",
    "id": "bNaGLwFKDcQd"
   },
   "source": [
    "### 5.7.1. PCA based Feature Selection"
   ]
  },
  {
   "cell_type": "code",
   "execution_count": 88,
   "metadata": {
    "colab": {
     "base_uri": "https://localhost:8080/",
     "height": 278
    },
    "colab_type": "code",
    "id": "lcNn-_KEDgmz",
    "outputId": "cbc0ad1e-590a-4c98-f1b0-d3866f9d7e4c"
   },
   "outputs": [
    {
     "name": "stdout",
     "output_type": "stream",
     "text": [
      "(1513, 9) (505, 9) (1513,) (505,)\n",
      "accuracy :  0.91683 \n",
      "precision:  0.2 \n",
      "recall   :  0.02564 \n",
      "f1-score :  0.04545\n",
      "\n",
      "               precision    recall  f1-score   support\n",
      "\n",
      "         0.0       0.92      0.99      0.96       466\n",
      "         1.0       0.20      0.03      0.05        39\n",
      "\n",
      "   micro avg       0.92      0.92      0.92       505\n",
      "   macro avg       0.56      0.51      0.50       505\n",
      "weighted avg       0.87      0.92      0.89       505\n",
      "\n"
     ]
    }
   ],
   "source": [
    "xtrain, xtest, ytrain, ytest = train_test_splitting(data_pca, \"bad\")\n",
    "\n",
    "y_pred, knn = KNearestNeighbors(xtrain, ytrain, xtest)\n",
    "evaluation_metrics(ytest, y_pred)\n",
    "print(\"\\n\",classification_report(ytest, y_pred))"
   ]
  },
  {
   "cell_type": "markdown",
   "metadata": {
    "colab_type": "text",
    "id": "V-sJdd0NDW0j"
   },
   "source": [
    "### 5.7.2. Correlation based Feature Selection"
   ]
  },
  {
   "cell_type": "code",
   "execution_count": 89,
   "metadata": {
    "colab": {
     "base_uri": "https://localhost:8080/",
     "height": 278
    },
    "colab_type": "code",
    "id": "Zrun-SZeDg7b",
    "outputId": "6eca342c-89c9-4c2a-872d-b525def7ba79"
   },
   "outputs": [
    {
     "name": "stdout",
     "output_type": "stream",
     "text": [
      "(1513, 10) (505, 10) (1513,) (505,)\n",
      "accuracy :  0.93861 \n",
      "precision:  0.72222 \n",
      "recall   :  0.33333 \n",
      "f1-score :  0.45614\n",
      "\n",
      "               precision    recall  f1-score   support\n",
      "\n",
      "         0.0       0.95      0.99      0.97       466\n",
      "         1.0       0.72      0.33      0.46        39\n",
      "\n",
      "   micro avg       0.94      0.94      0.94       505\n",
      "   macro avg       0.83      0.66      0.71       505\n",
      "weighted avg       0.93      0.94      0.93       505\n",
      "\n"
     ]
    }
   ],
   "source": [
    "xtrain, xtest, ytrain, ytest = train_test_splitting(data_corr, \"bad\")\n",
    "\n",
    "y_pred, knn = KNearestNeighbors(xtrain, ytrain, xtest)\n",
    "evaluation_metrics(ytest, y_pred)\n",
    "print(\"\\n\",classification_report(ytest, y_pred))"
   ]
  },
  {
   "cell_type": "markdown",
   "metadata": {
    "colab_type": "text",
    "id": "xY63xvm9DWxZ"
   },
   "source": [
    "### 5.7.3. RandomForest based Feature Selection"
   ]
  },
  {
   "cell_type": "code",
   "execution_count": 90,
   "metadata": {
    "colab": {
     "base_uri": "https://localhost:8080/",
     "height": 278
    },
    "colab_type": "code",
    "id": "bKMJHjgGDhNQ",
    "outputId": "4c8ae51f-83c8-44e0-c829-2d73520dd4dd"
   },
   "outputs": [
    {
     "name": "stdout",
     "output_type": "stream",
     "text": [
      "(1513, 7) (505, 7) (1513,) (505,)\n",
      "accuracy :  0.93267 \n",
      "precision:  0.72727 \n",
      "recall   :  0.20513 \n",
      "f1-score :  0.32\n",
      "\n",
      "               precision    recall  f1-score   support\n",
      "\n",
      "         0.0       0.94      0.99      0.96       466\n",
      "         1.0       0.73      0.21      0.32        39\n",
      "\n",
      "   micro avg       0.93      0.93      0.93       505\n",
      "   macro avg       0.83      0.60      0.64       505\n",
      "weighted avg       0.92      0.93      0.91       505\n",
      "\n"
     ]
    }
   ],
   "source": [
    "xtrain, xtest, ytrain, ytest = train_test_splitting(data_rf, \"bad\")\n",
    "\n",
    "y_pred, knn_model = KNearestNeighbors(xtrain, ytrain, xtest)\n",
    "evaluation_metrics(ytest, y_pred)\n",
    "print(\"\\n\",classification_report(ytest, y_pred))"
   ]
  },
  {
   "cell_type": "markdown",
   "metadata": {
    "colab_type": "text",
    "id": "747MHfdLDS6o"
   },
   "source": [
    "### 5.7.4. Without Feature Selection"
   ]
  },
  {
   "cell_type": "code",
   "execution_count": 91,
   "metadata": {
    "colab": {
     "base_uri": "https://localhost:8080/",
     "height": 278
    },
    "colab_type": "code",
    "id": "H2kV6g-nDhjo",
    "outputId": "3929d32a-9910-4b76-d679-22f0315326a9"
   },
   "outputs": [
    {
     "name": "stdout",
     "output_type": "stream",
     "text": [
      "(1513, 28) (505, 28) (1513,) (505,)\n",
      "accuracy :  0.92871 \n",
      "precision:  0.8 \n",
      "recall   :  0.10256 \n",
      "f1-score :  0.18182\n",
      "\n",
      "               precision    recall  f1-score   support\n",
      "\n",
      "         0.0       0.93      1.00      0.96       466\n",
      "         1.0       0.80      0.10      0.18        39\n",
      "\n",
      "   micro avg       0.93      0.93      0.93       505\n",
      "   macro avg       0.86      0.55      0.57       505\n",
      "weighted avg       0.92      0.93      0.90       505\n",
      "\n"
     ]
    }
   ],
   "source": [
    "xtrain, xtest, ytrain, ytest = train_test_splitting(data_minmax, \"bad\")\n",
    "\n",
    "y_pred, knn = KNearestNeighbors(xtrain, ytrain, xtest)\n",
    "evaluation_metrics(ytest, y_pred)\n",
    "print(\"\\n\",classification_report(ytest, y_pred))"
   ]
  },
  {
   "cell_type": "markdown",
   "metadata": {},
   "source": [
    "## 5.8. Comparison Algorithms"
   ]
  },
  {
   "cell_type": "code",
   "execution_count": 102,
   "metadata": {},
   "outputs": [
    {
     "name": "stdout",
     "output_type": "stream",
     "text": [
      "(1513, 7) (505, 7) (1513,) (505,)\n"
     ]
    },
    {
     "data": {
      "text/html": [
       "<div>\n",
       "<style scoped>\n",
       "    .dataframe tbody tr th:only-of-type {\n",
       "        vertical-align: middle;\n",
       "    }\n",
       "\n",
       "    .dataframe tbody tr th {\n",
       "        vertical-align: top;\n",
       "    }\n",
       "\n",
       "    .dataframe thead th {\n",
       "        text-align: right;\n",
       "    }\n",
       "</style>\n",
       "<table border=\"1\" class=\"dataframe\">\n",
       "  <thead>\n",
       "    <tr style=\"text-align: right;\">\n",
       "      <th></th>\n",
       "      <th>Accuracy</th>\n",
       "      <th>Precision</th>\n",
       "      <th>Recall</th>\n",
       "      <th>F1-Score</th>\n",
       "    </tr>\n",
       "  </thead>\n",
       "  <tbody>\n",
       "    <tr>\n",
       "      <th>CatBoost</th>\n",
       "      <td>0.958416</td>\n",
       "      <td>0.950000</td>\n",
       "      <td>0.487179</td>\n",
       "      <td>0.644068</td>\n",
       "    </tr>\n",
       "    <tr>\n",
       "      <th>XGBoost</th>\n",
       "      <td>0.954455</td>\n",
       "      <td>0.863636</td>\n",
       "      <td>0.487179</td>\n",
       "      <td>0.622951</td>\n",
       "    </tr>\n",
       "    <tr>\n",
       "      <th>KNN</th>\n",
       "      <td>0.932673</td>\n",
       "      <td>0.727273</td>\n",
       "      <td>0.205128</td>\n",
       "      <td>0.320000</td>\n",
       "    </tr>\n",
       "    <tr>\n",
       "      <th>SVM</th>\n",
       "      <td>0.918812</td>\n",
       "      <td>0.333333</td>\n",
       "      <td>0.051282</td>\n",
       "      <td>0.088889</td>\n",
       "    </tr>\n",
       "    <tr>\n",
       "      <th>MultinomialNB</th>\n",
       "      <td>0.918812</td>\n",
       "      <td>0.333333</td>\n",
       "      <td>0.051282</td>\n",
       "      <td>0.088889</td>\n",
       "    </tr>\n",
       "    <tr>\n",
       "      <th>BernoulliNB</th>\n",
       "      <td>0.918812</td>\n",
       "      <td>0.333333</td>\n",
       "      <td>0.051282</td>\n",
       "      <td>0.088889</td>\n",
       "    </tr>\n",
       "    <tr>\n",
       "      <th>GaussianNB</th>\n",
       "      <td>0.912871</td>\n",
       "      <td>0.380952</td>\n",
       "      <td>0.205128</td>\n",
       "      <td>0.266667</td>\n",
       "    </tr>\n",
       "  </tbody>\n",
       "</table>\n",
       "</div>"
      ],
      "text/plain": [
       "               Accuracy  Precision    Recall  F1-Score\n",
       "CatBoost       0.958416   0.950000  0.487179  0.644068\n",
       "XGBoost        0.954455   0.863636  0.487179  0.622951\n",
       "KNN            0.932673   0.727273  0.205128  0.320000\n",
       "SVM            0.918812   0.333333  0.051282  0.088889\n",
       "MultinomialNB  0.918812   0.333333  0.051282  0.088889\n",
       "BernoulliNB    0.918812   0.333333  0.051282  0.088889\n",
       "GaussianNB     0.912871   0.380952  0.205128  0.266667"
      ]
     },
     "execution_count": 102,
     "metadata": {},
     "output_type": "execute_result"
    }
   ],
   "source": [
    "models = [svm, gnb, mnb, bnb, cat, xgb, knn]\n",
    "algorithms = [\"SVM\", \"GaussianNB\",\"MultinomialNB\", \"BernoulliNB\", \"CatBoost\", \"XGBoost\", \"KNN\"]\n",
    "\n",
    "xtrain, xtest, ytrain, ytest = train_test_splitting(data_rf, \"bad\")\n",
    "\n",
    "\n",
    "metrics = [\"Accuracy\", \"Precision\", \"Recall\", \"F1-Score\"]\n",
    "accuracy = []\n",
    "\n",
    "for i in models:\n",
    "    model = i.fit(xtrain,ytrain)\n",
    "    y_pred = model.predict(xtest)\n",
    "    acc = accuracy_score(ytest, y_pred)\n",
    "    precision = precision_score(ytest, y_pred)\n",
    "    recall = recall_score(ytest, y_pred)\n",
    "    f1score = f1_score(ytest, y_pred)\n",
    "    accuracy.append([acc, precision, recall, f1score])\n",
    "\n",
    "pd.DataFrame(accuracy, columns=metrics, index=algorithms).sort_values(by=\"Accuracy\", ascending=False)"
   ]
  },
  {
   "cell_type": "markdown",
   "metadata": {
    "colab_type": "text",
    "id": "yoUdZlAxxqQp"
   },
   "source": [
    "# **6. Model Tuning**\n",
    "- Finding best parameters using GridSearch\n",
    "\n",
    "Tuning yaparken modelling kisminda en iyi basariyi veren Feature Selection yontemi baz alinarak gerceklestirilmistir. "
   ]
  },
  {
   "cell_type": "markdown",
   "metadata": {
    "colab_type": "text",
    "id": "J3oKdJiUxqQp"
   },
   "source": [
    "### 6.1. SVM (Support Vector Machine) Tuning"
   ]
  },
  {
   "cell_type": "code",
   "execution_count": null,
   "metadata": {
    "colab": {},
    "colab_type": "code",
    "id": "OfX1AMyBxqQq"
   },
   "outputs": [],
   "source": [
    "def SVCTuning(xtrain,ytrain, xtest, ytest, params, cv=10, n_jobs=-1, verbose=2):\n",
    "    model = SVC()\n",
    "    gridsearch_cv = GridSearchCV(model, params, cv=cv, n_jobs=n_jobs, verbose=verbose)\n",
    "    grid_cv_model = gridsearch_cv.fit(xtrain, ytrain)\n",
    "    # best parameters\n",
    "    model.C = grid_cv_model.best_params_[\"C\"]\n",
    "    model.kernel = grid_cv_model.best_params_[\"kernel\"]\n",
    "    model.degree = grid_cv_model.best_params_[\"degree\"]\n",
    "    model.class_weight = grid_cv_model.best_params_[\"class_weight\"]\n",
    "    model.decision_function_shape = grid_cv_model.best_params_[\"decision_function_shape\"]\n",
    "    model.random_state = grid_cv_model.best_params_[\"random_state\"]\n",
    "    # tuned model\n",
    "    model_tuned = model.fit(xtrain, ytrain)\n",
    "    y_pred = model_tuned.predict(xtest)\n",
    "    return ytest, y_pred, model, grid_cv_model.best_params_"
   ]
  },
  {
   "cell_type": "code",
   "execution_count": null,
   "metadata": {
    "colab": {
     "base_uri": "https://localhost:8080/",
     "height": 312
    },
    "colab_type": "code",
    "id": "hYhpNWKdxqQw",
    "outputId": "785e6962-0fec-4010-ff73-66376a9d0c91"
   },
   "outputs": [
    {
     "name": "stdout",
     "output_type": "stream",
     "text": [
      "CPU times: user 2 µs, sys: 0 ns, total: 2 µs\n",
      "Wall time: 5.25 µs\n",
      "(1513, 10) (505, 10) (1513,) (505,)\n",
      "Fitting 10 folds for each of 1152 candidates, totalling 11520 fits\n"
     ]
    },
    {
     "name": "stderr",
     "output_type": "stream",
     "text": [
      "[Parallel(n_jobs=-1)]: Using backend LokyBackend with 2 concurrent workers.\n",
      "[Parallel(n_jobs=-1)]: Done 144 tasks      | elapsed:    7.1s\n",
      "[Parallel(n_jobs=-1)]: Done 678 tasks      | elapsed:   32.3s\n",
      "[Parallel(n_jobs=-1)]: Done 2302 tasks      | elapsed:  1.3min\n",
      "[Parallel(n_jobs=-1)]: Done 4566 tasks      | elapsed:  2.5min\n",
      "[Parallel(n_jobs=-1)]: Done 7486 tasks      | elapsed:  3.7min\n",
      "[Parallel(n_jobs=-1)]: Done 11046 tasks      | elapsed:  5.5min\n"
     ]
    },
    {
     "name": "stdout",
     "output_type": "stream",
     "text": [
      "accuracy :  0.92277 \n",
      "precision:  0.5 \n",
      "recall   :  0.12821 \n",
      "f1-score :  0.20408\n",
      "{'C': 4, 'class_weight': None, 'decision_function_shape': 'ovo', 'degree': 4, 'kernel': 'poly', 'random_state': 0}\n"
     ]
    },
    {
     "name": "stderr",
     "output_type": "stream",
     "text": [
      "[Parallel(n_jobs=-1)]: Done 11520 out of 11520 | elapsed:  5.6min finished\n"
     ]
    }
   ],
   "source": [
    "%time\n",
    "start = timeit.default_timer()\n",
    "svm_params = {\"C\": range(1,7),\n",
    "              \"kernel\": [\"linearly\", \"poly\", \"rbf\", \"sigmoid\"],\n",
    "              \"degree\": range(1,5),\n",
    "              \"class_weight\": [\"balanced\", None],\n",
    "              \"decision_function_shape\": [\"ovo\", \"ovr\"],\n",
    "              \"random_state\": [0, 42, None]}\n",
    "\n",
    "xtrain, xtest, ytrain, ytest = train_test_splitting(data_corr, \"bad\")\n",
    "ytest, y_pred, svm_model, best_params = SVCTuning(xtrain, ytrain, xtest, ytest, svm_params)\n",
    "evaluation_metrics(ytest, y_pred)\n",
    "print(best_params)"
   ]
  },
  {
   "cell_type": "markdown",
   "metadata": {
    "colab_type": "text",
    "id": "Ga3ElwDtxqQ0"
   },
   "source": [
    "### 6.2. Gaussian Naive Bayes Tuning"
   ]
  },
  {
   "cell_type": "code",
   "execution_count": null,
   "metadata": {
    "colab": {},
    "colab_type": "code",
    "id": "cbMTu-rKxqQ2"
   },
   "outputs": [],
   "source": [
    "def GaussianNBTuning(xtrain,ytrain, xtest, ytest, params, cv=10, n_jobs=-1, verbose=2):\n",
    "    model = GaussianNB()\n",
    "    gridsearch_cv = GridSearchCV(model, params, cv=cv, n_jobs=n_jobs, verbose=verbose)\n",
    "    grid_cv_model = gridsearch_cv.fit(xtrain, ytrain)\n",
    "    # best parameters\n",
    "    model.priors = grid_cv_model.best_params_[\"priors\"]\n",
    "    # tuned model\n",
    "    model_tuned = model.fit(xtrain, ytrain)\n",
    "    y_pred = model_tuned.predict(xtest)\n",
    "    return ytest, y_pred, model, grid_cv_model.best_params_"
   ]
  },
  {
   "cell_type": "code",
   "execution_count": null,
   "metadata": {
    "colab": {
     "base_uri": "https://localhost:8080/",
     "height": 208
    },
    "colab_type": "code",
    "id": "O1KPJJlexqQ4",
    "outputId": "2a9b6a2c-9e7d-4a85-9e2a-b77bfee20df7"
   },
   "outputs": [
    {
     "name": "stdout",
     "output_type": "stream",
     "text": [
      "Fitting 10 folds for each of 24 candidates, totalling 240 fits\n"
     ]
    },
    {
     "name": "stderr",
     "output_type": "stream",
     "text": [
      "[Parallel(n_jobs=-1)]: Using backend LokyBackend with 2 concurrent workers.\n"
     ]
    },
    {
     "name": "stdout",
     "output_type": "stream",
     "text": [
      "accuracy :  0.91287 \n",
      "precision:  0.27273 \n",
      "recall   :  0.07692 \n",
      "f1-score :  0.12\n",
      "{'priors': (0.95, 0.05)}\n",
      "\n",
      "Passed Time:  1.0035004599994863\n"
     ]
    },
    {
     "name": "stderr",
     "output_type": "stream",
     "text": [
      "[Parallel(n_jobs=-1)]: Done 218 tasks      | elapsed:    0.9s\n",
      "[Parallel(n_jobs=-1)]: Done 240 out of 240 | elapsed:    1.0s finished\n"
     ]
    }
   ],
   "source": [
    "start = timeit.default_timer()\n",
    "\n",
    "gnb_params = {\"priors\": [(0.01, 0.99), (0.03, 0.97), (0.05, 0.95), (0.10, 0.90),\n",
    "                         (0.15, 0.85),(0.20, 0.80),(0.25, 0.75), (0.30, 0.70), \n",
    "                         (0.35, 0.65), (0.40, 0.60), (0.45, 0.55), (0.50, 0.50),\n",
    "                         (0.55, 0.45), (0.60, 0.40), (0.65, 0.35), (0.70, 0.30),\n",
    "                         (0.75, 0.25), (0.80, 0.20), (0.85, 0.15), (0.87, 0.13),\n",
    "                         (0.89, 0.11), (0.90, 0.10), (0.91, 0.09), (0.95, 0.05)]}\n",
    "\n",
    "\n",
    "ytest, y_pred, gnb_model, best_params = GaussianNBTuning(xtrain,ytrain,xtest,ytest, gnb_params)\n",
    "evaluation_metrics(ytest, y_pred)\n",
    "print(best_params)\n",
    "\n",
    "stop = timeit.default_timer()\n",
    "print('\\nPassed Time: ', stop - start)  "
   ]
  },
  {
   "cell_type": "markdown",
   "metadata": {
    "colab_type": "text",
    "id": "lPnFKMOqmwwj"
   },
   "source": [
    "### 6.3. Multinomial Naive Bayes Tuning"
   ]
  },
  {
   "cell_type": "code",
   "execution_count": null,
   "metadata": {
    "colab": {},
    "colab_type": "code",
    "id": "jUByFGMKoIHQ"
   },
   "outputs": [],
   "source": [
    "def MultinomialNBTuning(xtrain,ytrain, xtest, ytest, params, cv=10, n_jobs=-1, verbose=2):\n",
    "    model = MultinomialNB()\n",
    "    gridsearch_cv = GridSearchCV(model, params, cv=cv, n_jobs=n_jobs, verbose=verbose)\n",
    "    grid_cv_model = gridsearch_cv.fit(xtrain, ytrain)\n",
    "    # best parameters\n",
    "    model.alpha = grid_cv_model.best_params_[\"alpha\"]\n",
    "    # tuned model\n",
    "    model_tuned = model.fit(xtrain, ytrain)\n",
    "    y_pred = model_tuned.predict(xtest)\n",
    "    return ytest, y_pred, model, grid_cv_model.best_params_"
   ]
  },
  {
   "cell_type": "code",
   "execution_count": null,
   "metadata": {
    "colab": {
     "base_uri": "https://localhost:8080/",
     "height": 208
    },
    "colab_type": "code",
    "id": "NcZAuZQCm2yN",
    "outputId": "ac755185-04dc-4370-fb46-cd6bc09ae773"
   },
   "outputs": [
    {
     "name": "stdout",
     "output_type": "stream",
     "text": [
      "(1513, 10) (505, 10) (1513,) (505,)\n",
      "Fitting 10 folds for each of 7 candidates, totalling 70 fits\n"
     ]
    },
    {
     "name": "stderr",
     "output_type": "stream",
     "text": [
      "[Parallel(n_jobs=-1)]: Using backend LokyBackend with 2 concurrent workers.\n"
     ]
    },
    {
     "name": "stdout",
     "output_type": "stream",
     "text": [
      "accuracy :  0.92277 \n",
      "precision:  0.5 \n",
      "recall   :  0.15385 \n",
      "f1-score :  0.23529\n",
      "{'alpha': 0.1}\n",
      "\n",
      "Passed Time:  0.33858262700232444\n"
     ]
    },
    {
     "name": "stderr",
     "output_type": "stream",
     "text": [
      "[Parallel(n_jobs=-1)]: Done  70 out of  70 | elapsed:    0.3s finished\n"
     ]
    }
   ],
   "source": [
    "start = timeit.default_timer()\n",
    "\n",
    "mnb_params = {\"alpha\": [0.1,0.2,0.3,0.5,0.7,0.9,1.0]}\n",
    "\n",
    "xtrain, xtest, ytrain, ytest = train_test_splitting(data_corr, \"bad\")\n",
    "ytest, y_pred, mnb_model, best_params = MultinomialNBTuning(xtrain,ytrain,xtest,ytest, mnb_params)\n",
    "evaluation_metrics(ytest, y_pred)\n",
    "print(best_params)\n",
    "\n",
    "stop = timeit.default_timer()\n",
    "print('\\nPassed Time: ', stop - start)  "
   ]
  },
  {
   "cell_type": "markdown",
   "metadata": {
    "colab_type": "text",
    "id": "Ghl86BXCxqQ6"
   },
   "source": [
    "### 6.4. Bernoulli Naive Bayes Tuning"
   ]
  },
  {
   "cell_type": "code",
   "execution_count": null,
   "metadata": {
    "colab": {},
    "colab_type": "code",
    "id": "I8legkVSxqQ7"
   },
   "outputs": [],
   "source": [
    "def BernoulliNBTuning(xtrain,ytrain, xtest, ytest, params, cv=10, n_jobs=-1, verbose=2):\n",
    "    model = BernoulliNB()\n",
    "    gridsearch_cv = GridSearchCV(model, params, cv=cv, n_jobs=n_jobs, verbose=verbose)\n",
    "    grid_cv_model = gridsearch_cv.fit(xtrain, ytrain)\n",
    "    # best parameters\n",
    "    model.alpha = grid_cv_model.best_params_[\"alpha\"]\n",
    "    # tuned model\n",
    "    model_tuned = model.fit(xtrain, ytrain)\n",
    "    y_pred = model_tuned.predict(xtest)\n",
    "    return ytest, y_pred, model, grid_cv_model.best_params_"
   ]
  },
  {
   "cell_type": "code",
   "execution_count": null,
   "metadata": {
    "colab": {
     "base_uri": "https://localhost:8080/",
     "height": 208
    },
    "colab_type": "code",
    "id": "YgEHU0CUxqQ-",
    "outputId": "92a209e1-4428-4ad4-8bd3-355e1832ee51"
   },
   "outputs": [
    {
     "name": "stdout",
     "output_type": "stream",
     "text": [
      "(1513, 7) (505, 7) (1513,) (505,)\n",
      "Fitting 10 folds for each of 7 candidates, totalling 70 fits\n"
     ]
    },
    {
     "name": "stderr",
     "output_type": "stream",
     "text": [
      "[Parallel(n_jobs=-1)]: Using backend LokyBackend with 2 concurrent workers.\n"
     ]
    },
    {
     "name": "stdout",
     "output_type": "stream",
     "text": [
      "accuracy :  0.91881 \n",
      "precision:  0.33333 \n",
      "recall   :  0.05128 \n",
      "f1-score :  0.08889\n",
      "{'alpha': 0.1}\n",
      "\n",
      "Passed Time:  0.3411481309994997\n"
     ]
    },
    {
     "name": "stderr",
     "output_type": "stream",
     "text": [
      "[Parallel(n_jobs=-1)]: Done  70 out of  70 | elapsed:    0.3s finished\n"
     ]
    }
   ],
   "source": [
    "start = timeit.default_timer()\n",
    "\n",
    "bnb_params = {\"alpha\": [0.1,0.2,0.3,0.5,0.7,0.9,1.0]}\n",
    "\n",
    "\n",
    "xtrain, xtest, ytrain, ytest = train_test_splitting(data_rf, \"bad\")\n",
    "ytest, y_pred, bnb_model, best_params = BernoulliNBTuning(xtrain,ytrain,xtest,ytest, bnb_params)\n",
    "evaluation_metrics(ytest, y_pred)\n",
    "print(best_params)\n",
    "\n",
    "stop = timeit.default_timer()\n",
    "print('\\nPassed Time: ', stop - start)  "
   ]
  },
  {
   "cell_type": "markdown",
   "metadata": {
    "colab_type": "text",
    "id": "vdEzvuXNxgj9"
   },
   "source": [
    "### 6.5. Gradient Boost Tuning"
   ]
  },
  {
   "cell_type": "code",
   "execution_count": null,
   "metadata": {
    "colab": {},
    "colab_type": "code",
    "id": "S3mynFr8xmdH"
   },
   "outputs": [],
   "source": [
    "def GradientBoostTuning(xtrain,ytrain, xtest, ytest, params, cv=10, n_jobs=-1, verbose=2):\n",
    "    model = GradientBoostingClassifier()\n",
    "    gridsearch_cv = GridSearchCV(model, params, cv=cv, n_jobs=n_jobs, verbose=verbose)\n",
    "    grid_cv_model = gridsearch_cv.fit(xtrain, ytrain)\n",
    "    # best parameters\n",
    "    model.loss = grid_cv_model.best_params_[\"loss\"]\n",
    "    model.learning_rate = grid_cv_model.best_params_[\"learning_rate\"]\n",
    "    model.n_estimators = grid_cv_model.best_params_[\"n_estimators\"]\n",
    "    model.subsample = grid_cv_model.best_params_[\"subsample\"]\n",
    "    model.min_samples_split = grid_cv_model.best_params_[\"min_samples_split\"]\n",
    "    model.max_depth = grid_cv_model.best_params_[\"max_depth\"]\n",
    "    model.max_leaf_nodes = grid_cv_model.best_params_[\"max_leaf_nodes\"]\n",
    "    # tuned model\n",
    "    model_tuned = model.fit(xtrain, ytrain)\n",
    "    y_pred = model_tuned.predict(xtest)\n",
    "    return ytest, y_pred, model, grid_cv_model.best_params_"
   ]
  },
  {
   "cell_type": "code",
   "execution_count": null,
   "metadata": {
    "colab": {
     "base_uri": "https://localhost:8080/",
     "height": 469
    },
    "colab_type": "code",
    "id": "Pov0qzqBEb0Z",
    "outputId": "cf8134c5-e3d3-4efb-f864-59ce24781061"
   },
   "outputs": [
    {
     "name": "stdout",
     "output_type": "stream",
     "text": [
      "CPU times: user 4 µs, sys: 0 ns, total: 4 µs\n",
      "Wall time: 7.63 µs\n",
      "(1513, 7) (505, 7) (1513,) (505,)\n",
      "Fitting 10 folds for each of 972 candidates, totalling 9720 fits\n"
     ]
    },
    {
     "name": "stderr",
     "output_type": "stream",
     "text": [
      "[Parallel(n_jobs=-1)]: Using backend LokyBackend with 2 concurrent workers.\n",
      "[Parallel(n_jobs=-1)]: Done  37 tasks      | elapsed:    9.6s\n",
      "[Parallel(n_jobs=-1)]: Done 158 tasks      | elapsed:   41.7s\n",
      "[Parallel(n_jobs=-1)]: Done 361 tasks      | elapsed:  1.7min\n",
      "[Parallel(n_jobs=-1)]: Done 644 tasks      | elapsed:  3.2min\n",
      "[Parallel(n_jobs=-1)]: Done 1009 tasks      | elapsed:  5.1min\n",
      "[Parallel(n_jobs=-1)]: Done 1454 tasks      | elapsed:  7.2min\n",
      "[Parallel(n_jobs=-1)]: Done 1981 tasks      | elapsed:  9.9min\n",
      "[Parallel(n_jobs=-1)]: Done 2588 tasks      | elapsed: 13.1min\n",
      "[Parallel(n_jobs=-1)]: Done 3277 tasks      | elapsed: 16.7min\n",
      "[Parallel(n_jobs=-1)]: Done 4046 tasks      | elapsed: 20.5min\n",
      "[Parallel(n_jobs=-1)]: Done 4897 tasks      | elapsed: 25.0min\n",
      "[Parallel(n_jobs=-1)]: Done 5828 tasks      | elapsed: 29.8min\n",
      "[Parallel(n_jobs=-1)]: Done 6841 tasks      | elapsed: 34.8min\n",
      "[Parallel(n_jobs=-1)]: Done 7934 tasks      | elapsed: 39.7min\n",
      "[Parallel(n_jobs=-1)]: Done 9109 tasks      | elapsed: 45.0min\n",
      "[Parallel(n_jobs=-1)]: Done 9720 out of 9720 | elapsed: 47.8min finished\n"
     ]
    },
    {
     "name": "stdout",
     "output_type": "stream",
     "text": [
      "accuracy :  0.95644 \n",
      "precision:  0.94737 \n",
      "recall   :  0.46154 \n",
      "f1-score :  0.62069\n",
      "{'learning_rate': 0.1, 'loss': 'deviance', 'max_depth': 5, 'max_leaf_nodes': 5, 'min_samples_split': 2, 'n_estimators': 200, 'subsample': 0.75}\n"
     ]
    }
   ],
   "source": [
    "%time\n",
    "start = timeit.default_timer()\n",
    "gbt_params = {\"loss\": [\"deviance\", \"exponential\"],\n",
    "              \"learning_rate\": [0.01, 0.001, 0.1],\n",
    "              \"n_estimators\": [100, 200],\n",
    "              \"subsample\": [1.0, 0.75, 0.5],\n",
    "              \"min_samples_split\": [2,5,10],\n",
    "              \"max_depth\": [5,7,8],\n",
    "              \"max_leaf_nodes\": [3,4,5]}\n",
    "\n",
    "xtrain, xtest, ytrain, ytest = train_test_splitting(data_rf, \"bad\")\n",
    "ytest, y_pred, gbt_model, best_params = GradientBoostTuning(xtrain, ytrain, xtest, ytest, gbt_params)\n",
    "evaluation_metrics(ytest, y_pred)\n",
    "print(best_params)"
   ]
  },
  {
   "cell_type": "markdown",
   "metadata": {
    "colab_type": "text",
    "id": "pkWbqsAnxkaZ"
   },
   "source": [
    "### 6.6. Cat Boost Tuning"
   ]
  },
  {
   "cell_type": "code",
   "execution_count": null,
   "metadata": {
    "colab": {},
    "colab_type": "code",
    "id": "kFRaoQdqxm1n"
   },
   "outputs": [],
   "source": [
    "def CatBoostTuning(xtrain,ytrain, xtest, ytest, params, cv=10, n_jobs=-1, verbose=2):\n",
    "    model = CatBoostClassifier(verbose=verbose)\n",
    "    gridsearch_cv = GridSearchCV(model, params, cv=cv, n_jobs=n_jobs, verbose=verbose)\n",
    "    catb_cv_model = gridsearch_cv.fit(xtrain, ytrain)\n",
    "    # best parameters tuning\n",
    "    model_tuned = CatBoostClassifier(\n",
    "        iterations=catb_cv_model.best_params_[\"iterations\"],\n",
    "        learning_rate = catb_cv_model.best_params_[\"learning_rate\"],\n",
    "        depth= catb_cv_model.best_params_[\"depth\"],\n",
    "        leaf_estimation_iterations= catb_cv_model.best_params_[\"leaf_estimation_iterations\"],\n",
    "        boosting_type= catb_cv_model.best_params_[\"boosting_type\"],\n",
    "        bootstrap_type = catb_cv_model.best_params_[\"bootstrap_type\"],\n",
    "        grow_policy= catb_cv_model.best_params_[\"grow_policy\"],\n",
    "        max_leaves= catb_cv_model.best_params_[\"max_leaves\"], \n",
    "        verbose=verbose).fit(xtrain,ytrain)\n",
    "    y_pred = model_tuned.predict(xtest)\n",
    "    return ytest, y_pred, model_tuned, catb_cv_model.best_params_"
   ]
  },
  {
   "cell_type": "code",
   "execution_count": null,
   "metadata": {
    "colab": {
     "base_uri": "https://localhost:8080/",
     "height": 1000
    },
    "colab_type": "code",
    "id": "Pt2ZLSDtxkCH",
    "outputId": "ac8e200b-963e-442c-d6d2-26b0f264d24c"
   },
   "outputs": [
    {
     "name": "stdout",
     "output_type": "stream",
     "text": [
      "CPU times: user 2 µs, sys: 0 ns, total: 2 µs\n",
      "Wall time: 5.01 µs\n",
      "(1513, 7) (505, 7) (1513,) (505,)\n",
      "Fitting 10 folds for each of 144 candidates, totalling 1440 fits\n"
     ]
    },
    {
     "name": "stderr",
     "output_type": "stream",
     "text": [
      "[Parallel(n_jobs=-1)]: Using backend LokyBackend with 2 concurrent workers.\n",
      "[Parallel(n_jobs=-1)]: Done  37 tasks      | elapsed:   32.1s\n",
      "[Parallel(n_jobs=-1)]: Done 158 tasks      | elapsed:  2.5min\n",
      "[Parallel(n_jobs=-1)]: Done 361 tasks      | elapsed:  7.4min\n",
      "[Parallel(n_jobs=-1)]: Done 644 tasks      | elapsed: 18.4min\n",
      "[Parallel(n_jobs=-1)]: Done 1009 tasks      | elapsed: 28.5min\n",
      "[Parallel(n_jobs=-1)]: Done 1440 out of 1440 | elapsed: 46.4min finished\n"
     ]
    },
    {
     "name": "stdout",
     "output_type": "stream",
     "text": [
      "0:\tlearn: 0.5970648\ttotal: 53.5ms\tremaining: 16s\n",
      "2:\tlearn: 0.4633663\ttotal: 64.3ms\tremaining: 6.36s\n",
      "4:\tlearn: 0.3643600\ttotal: 77.5ms\tremaining: 4.57s\n",
      "6:\tlearn: 0.3090271\ttotal: 88.1ms\tremaining: 3.69s\n",
      "8:\tlearn: 0.2729033\ttotal: 99.6ms\tremaining: 3.22s\n",
      "10:\tlearn: 0.2489903\ttotal: 111ms\tremaining: 2.92s\n",
      "12:\tlearn: 0.2295360\ttotal: 123ms\tremaining: 2.72s\n",
      "14:\tlearn: 0.2141816\ttotal: 137ms\tremaining: 2.6s\n",
      "16:\tlearn: 0.2052101\ttotal: 149ms\tremaining: 2.48s\n",
      "18:\tlearn: 0.1970465\ttotal: 161ms\tremaining: 2.37s\n",
      "20:\tlearn: 0.1883625\ttotal: 173ms\tremaining: 2.29s\n",
      "22:\tlearn: 0.1822481\ttotal: 189ms\tremaining: 2.27s\n",
      "24:\tlearn: 0.1764631\ttotal: 201ms\tremaining: 2.21s\n",
      "26:\tlearn: 0.1681193\ttotal: 214ms\tremaining: 2.16s\n",
      "28:\tlearn: 0.1640363\ttotal: 226ms\tremaining: 2.11s\n",
      "30:\tlearn: 0.1610389\ttotal: 238ms\tremaining: 2.07s\n",
      "32:\tlearn: 0.1563540\ttotal: 250ms\tremaining: 2.02s\n",
      "34:\tlearn: 0.1527948\ttotal: 264ms\tremaining: 2s\n",
      "36:\tlearn: 0.1476836\ttotal: 277ms\tremaining: 1.97s\n",
      "38:\tlearn: 0.1451510\ttotal: 294ms\tremaining: 1.97s\n",
      "40:\tlearn: 0.1411417\ttotal: 307ms\tremaining: 1.94s\n",
      "42:\tlearn: 0.1373935\ttotal: 321ms\tremaining: 1.92s\n",
      "44:\tlearn: 0.1340231\ttotal: 335ms\tremaining: 1.9s\n",
      "46:\tlearn: 0.1302710\ttotal: 348ms\tremaining: 1.87s\n",
      "48:\tlearn: 0.1271873\ttotal: 361ms\tremaining: 1.85s\n",
      "50:\tlearn: 0.1221668\ttotal: 375ms\tremaining: 1.83s\n",
      "52:\tlearn: 0.1195079\ttotal: 387ms\tremaining: 1.8s\n",
      "54:\tlearn: 0.1163984\ttotal: 400ms\tremaining: 1.78s\n",
      "56:\tlearn: 0.1118884\ttotal: 413ms\tremaining: 1.76s\n",
      "58:\tlearn: 0.1084179\ttotal: 425ms\tremaining: 1.74s\n",
      "60:\tlearn: 0.1062798\ttotal: 436ms\tremaining: 1.71s\n",
      "62:\tlearn: 0.1040583\ttotal: 449ms\tremaining: 1.69s\n",
      "64:\tlearn: 0.1006248\ttotal: 463ms\tremaining: 1.67s\n",
      "66:\tlearn: 0.0981353\ttotal: 479ms\tremaining: 1.67s\n",
      "68:\tlearn: 0.0958896\ttotal: 492ms\tremaining: 1.65s\n",
      "70:\tlearn: 0.0935671\ttotal: 505ms\tremaining: 1.63s\n",
      "72:\tlearn: 0.0899512\ttotal: 519ms\tremaining: 1.61s\n",
      "74:\tlearn: 0.0871021\ttotal: 533ms\tremaining: 1.6s\n",
      "76:\tlearn: 0.0837541\ttotal: 547ms\tremaining: 1.58s\n",
      "78:\tlearn: 0.0809652\ttotal: 560ms\tremaining: 1.56s\n",
      "80:\tlearn: 0.0791921\ttotal: 573ms\tremaining: 1.55s\n",
      "82:\tlearn: 0.0775224\ttotal: 588ms\tremaining: 1.54s\n",
      "84:\tlearn: 0.0747890\ttotal: 602ms\tremaining: 1.52s\n",
      "86:\tlearn: 0.0714848\ttotal: 615ms\tremaining: 1.51s\n",
      "88:\tlearn: 0.0692040\ttotal: 629ms\tremaining: 1.49s\n",
      "90:\tlearn: 0.0675491\ttotal: 641ms\tremaining: 1.47s\n",
      "92:\tlearn: 0.0647994\ttotal: 655ms\tremaining: 1.46s\n",
      "94:\tlearn: 0.0619424\ttotal: 670ms\tremaining: 1.45s\n",
      "96:\tlearn: 0.0593177\ttotal: 689ms\tremaining: 1.44s\n",
      "98:\tlearn: 0.0581141\ttotal: 703ms\tremaining: 1.43s\n",
      "100:\tlearn: 0.0557800\ttotal: 717ms\tremaining: 1.41s\n",
      "102:\tlearn: 0.0540113\ttotal: 729ms\tremaining: 1.4s\n",
      "104:\tlearn: 0.0523610\ttotal: 742ms\tremaining: 1.38s\n",
      "106:\tlearn: 0.0505382\ttotal: 756ms\tremaining: 1.36s\n",
      "108:\tlearn: 0.0492274\ttotal: 769ms\tremaining: 1.35s\n",
      "110:\tlearn: 0.0477148\ttotal: 783ms\tremaining: 1.33s\n",
      "112:\tlearn: 0.0465352\ttotal: 797ms\tremaining: 1.32s\n",
      "114:\tlearn: 0.0449988\ttotal: 811ms\tremaining: 1.3s\n",
      "116:\tlearn: 0.0433674\ttotal: 825ms\tremaining: 1.29s\n",
      "118:\tlearn: 0.0421793\ttotal: 839ms\tremaining: 1.28s\n",
      "120:\tlearn: 0.0410103\ttotal: 853ms\tremaining: 1.26s\n",
      "122:\tlearn: 0.0398585\ttotal: 867ms\tremaining: 1.25s\n",
      "124:\tlearn: 0.0386906\ttotal: 880ms\tremaining: 1.23s\n",
      "126:\tlearn: 0.0379051\ttotal: 896ms\tremaining: 1.22s\n",
      "128:\tlearn: 0.0368674\ttotal: 910ms\tremaining: 1.21s\n",
      "130:\tlearn: 0.0358786\ttotal: 924ms\tremaining: 1.19s\n",
      "132:\tlearn: 0.0346978\ttotal: 938ms\tremaining: 1.18s\n",
      "134:\tlearn: 0.0340839\ttotal: 952ms\tremaining: 1.16s\n",
      "136:\tlearn: 0.0327257\ttotal: 966ms\tremaining: 1.15s\n",
      "138:\tlearn: 0.0316966\ttotal: 980ms\tremaining: 1.14s\n",
      "140:\tlearn: 0.0308288\ttotal: 995ms\tremaining: 1.12s\n",
      "142:\tlearn: 0.0301194\ttotal: 1.01s\tremaining: 1.11s\n",
      "144:\tlearn: 0.0296328\ttotal: 1.02s\tremaining: 1.09s\n",
      "146:\tlearn: 0.0288852\ttotal: 1.04s\tremaining: 1.08s\n",
      "148:\tlearn: 0.0282510\ttotal: 1.05s\tremaining: 1.06s\n",
      "150:\tlearn: 0.0278918\ttotal: 1.07s\tremaining: 1.05s\n",
      "152:\tlearn: 0.0270702\ttotal: 1.08s\tremaining: 1.04s\n",
      "154:\tlearn: 0.0263124\ttotal: 1.09s\tremaining: 1.02s\n",
      "156:\tlearn: 0.0258423\ttotal: 1.11s\tremaining: 1.01s\n",
      "158:\tlearn: 0.0250039\ttotal: 1.13s\tremaining: 999ms\n",
      "160:\tlearn: 0.0244442\ttotal: 1.14s\tremaining: 984ms\n",
      "162:\tlearn: 0.0240761\ttotal: 1.15s\tremaining: 970ms\n",
      "164:\tlearn: 0.0236095\ttotal: 1.17s\tremaining: 955ms\n",
      "166:\tlearn: 0.0230115\ttotal: 1.18s\tremaining: 941ms\n",
      "168:\tlearn: 0.0226513\ttotal: 1.19s\tremaining: 926ms\n",
      "170:\tlearn: 0.0221935\ttotal: 1.21s\tremaining: 912ms\n",
      "172:\tlearn: 0.0220114\ttotal: 1.22s\tremaining: 897ms\n",
      "174:\tlearn: 0.0213760\ttotal: 1.24s\tremaining: 883ms\n",
      "176:\tlearn: 0.0209897\ttotal: 1.25s\tremaining: 869ms\n",
      "178:\tlearn: 0.0205435\ttotal: 1.26s\tremaining: 854ms\n",
      "180:\tlearn: 0.0202623\ttotal: 1.28s\tremaining: 839ms\n",
      "182:\tlearn: 0.0198974\ttotal: 1.3s\tremaining: 832ms\n",
      "184:\tlearn: 0.0195982\ttotal: 1.31s\tremaining: 818ms\n",
      "186:\tlearn: 0.0191430\ttotal: 1.33s\tremaining: 803ms\n",
      "188:\tlearn: 0.0186687\ttotal: 1.34s\tremaining: 789ms\n",
      "190:\tlearn: 0.0183295\ttotal: 1.36s\tremaining: 775ms\n",
      "192:\tlearn: 0.0181472\ttotal: 1.37s\tremaining: 760ms\n",
      "194:\tlearn: 0.0178960\ttotal: 1.39s\tremaining: 746ms\n",
      "196:\tlearn: 0.0174801\ttotal: 1.4s\tremaining: 731ms\n",
      "198:\tlearn: 0.0170842\ttotal: 1.41s\tremaining: 717ms\n",
      "200:\tlearn: 0.0167747\ttotal: 1.43s\tremaining: 703ms\n",
      "202:\tlearn: 0.0166196\ttotal: 1.44s\tremaining: 688ms\n",
      "204:\tlearn: 0.0163866\ttotal: 1.46s\tremaining: 675ms\n",
      "206:\tlearn: 0.0160812\ttotal: 1.47s\tremaining: 661ms\n",
      "208:\tlearn: 0.0157401\ttotal: 1.48s\tremaining: 647ms\n",
      "210:\tlearn: 0.0155111\ttotal: 1.5s\tremaining: 632ms\n",
      "212:\tlearn: 0.0152603\ttotal: 1.51s\tremaining: 619ms\n",
      "214:\tlearn: 0.0150172\ttotal: 1.53s\tremaining: 604ms\n",
      "216:\tlearn: 0.0148230\ttotal: 1.54s\tremaining: 590ms\n",
      "218:\tlearn: 0.0146207\ttotal: 1.55s\tremaining: 575ms\n",
      "220:\tlearn: 0.0144081\ttotal: 1.57s\tremaining: 561ms\n",
      "222:\tlearn: 0.0142010\ttotal: 1.58s\tremaining: 546ms\n",
      "224:\tlearn: 0.0139738\ttotal: 1.59s\tremaining: 532ms\n",
      "226:\tlearn: 0.0137362\ttotal: 1.61s\tremaining: 517ms\n",
      "228:\tlearn: 0.0134913\ttotal: 1.62s\tremaining: 503ms\n",
      "230:\tlearn: 0.0132700\ttotal: 1.64s\tremaining: 489ms\n",
      "232:\tlearn: 0.0130692\ttotal: 1.65s\tremaining: 475ms\n",
      "234:\tlearn: 0.0129276\ttotal: 1.66s\tremaining: 460ms\n",
      "236:\tlearn: 0.0127355\ttotal: 1.68s\tremaining: 446ms\n",
      "238:\tlearn: 0.0126183\ttotal: 1.69s\tremaining: 432ms\n",
      "240:\tlearn: 0.0123735\ttotal: 1.71s\tremaining: 418ms\n",
      "242:\tlearn: 0.0122042\ttotal: 1.72s\tremaining: 404ms\n",
      "244:\tlearn: 0.0120729\ttotal: 1.73s\tremaining: 389ms\n",
      "246:\tlearn: 0.0118887\ttotal: 1.75s\tremaining: 375ms\n",
      "248:\tlearn: 0.0117056\ttotal: 1.76s\tremaining: 361ms\n",
      "250:\tlearn: 0.0115747\ttotal: 1.78s\tremaining: 347ms\n",
      "252:\tlearn: 0.0114339\ttotal: 1.79s\tremaining: 332ms\n",
      "254:\tlearn: 0.0112485\ttotal: 1.8s\tremaining: 318ms\n",
      "256:\tlearn: 0.0111704\ttotal: 1.82s\tremaining: 304ms\n",
      "258:\tlearn: 0.0110680\ttotal: 1.83s\tremaining: 290ms\n",
      "260:\tlearn: 0.0109171\ttotal: 1.84s\tremaining: 276ms\n",
      "262:\tlearn: 0.0107797\ttotal: 1.86s\tremaining: 262ms\n",
      "264:\tlearn: 0.0106430\ttotal: 1.87s\tremaining: 248ms\n",
      "266:\tlearn: 0.0104847\ttotal: 1.89s\tremaining: 233ms\n",
      "268:\tlearn: 0.0103521\ttotal: 1.9s\tremaining: 219ms\n",
      "270:\tlearn: 0.0102159\ttotal: 1.92s\tremaining: 205ms\n",
      "272:\tlearn: 0.0101081\ttotal: 1.93s\tremaining: 191ms\n",
      "274:\tlearn: 0.0100030\ttotal: 1.95s\tremaining: 177ms\n",
      "276:\tlearn: 0.0098703\ttotal: 1.96s\tremaining: 163ms\n",
      "278:\tlearn: 0.0098026\ttotal: 1.97s\tremaining: 149ms\n",
      "280:\tlearn: 0.0097027\ttotal: 1.99s\tremaining: 134ms\n",
      "282:\tlearn: 0.0095389\ttotal: 2s\tremaining: 120ms\n",
      "284:\tlearn: 0.0094528\ttotal: 2.02s\tremaining: 106ms\n",
      "286:\tlearn: 0.0093679\ttotal: 2.03s\tremaining: 91.9ms\n",
      "288:\tlearn: 0.0092629\ttotal: 2.04s\tremaining: 77.8ms\n",
      "290:\tlearn: 0.0091777\ttotal: 2.06s\tremaining: 63.6ms\n",
      "292:\tlearn: 0.0090225\ttotal: 2.07s\tremaining: 49.5ms\n",
      "294:\tlearn: 0.0089352\ttotal: 2.08s\tremaining: 35.3ms\n",
      "296:\tlearn: 0.0088364\ttotal: 2.1s\tremaining: 21.2ms\n",
      "298:\tlearn: 0.0087616\ttotal: 2.11s\tremaining: 7.07ms\n",
      "299:\tlearn: 0.0086852\ttotal: 2.13s\tremaining: 0us\n",
      "0:\tlearn: 0.5970648\ttotal: 5.59ms\tremaining: 1.67s\n",
      "2:\tlearn: 0.4633663\ttotal: 16.1ms\tremaining: 1.59s\n",
      "4:\tlearn: 0.3643600\ttotal: 28.7ms\tremaining: 1.7s\n",
      "6:\tlearn: 0.3090271\ttotal: 39.3ms\tremaining: 1.64s\n",
      "8:\tlearn: 0.2729033\ttotal: 50.5ms\tremaining: 1.63s\n",
      "10:\tlearn: 0.2489903\ttotal: 66.8ms\tremaining: 1.75s\n",
      "12:\tlearn: 0.2295360\ttotal: 79.3ms\tremaining: 1.75s\n",
      "14:\tlearn: 0.2141816\ttotal: 92.8ms\tremaining: 1.76s\n",
      "16:\tlearn: 0.2052101\ttotal: 111ms\tremaining: 1.85s\n",
      "18:\tlearn: 0.1970465\ttotal: 124ms\tremaining: 1.83s\n",
      "20:\tlearn: 0.1883625\ttotal: 137ms\tremaining: 1.82s\n",
      "22:\tlearn: 0.1822481\ttotal: 152ms\tremaining: 1.83s\n",
      "24:\tlearn: 0.1764631\ttotal: 165ms\tremaining: 1.81s\n",
      "26:\tlearn: 0.1681193\ttotal: 177ms\tremaining: 1.79s\n",
      "28:\tlearn: 0.1640363\ttotal: 190ms\tremaining: 1.77s\n",
      "30:\tlearn: 0.1610389\ttotal: 202ms\tremaining: 1.75s\n",
      "32:\tlearn: 0.1563540\ttotal: 213ms\tremaining: 1.72s\n",
      "34:\tlearn: 0.1527948\ttotal: 224ms\tremaining: 1.7s\n",
      "36:\tlearn: 0.1476836\ttotal: 238ms\tremaining: 1.69s\n",
      "38:\tlearn: 0.1451510\ttotal: 250ms\tremaining: 1.67s\n",
      "40:\tlearn: 0.1411417\ttotal: 262ms\tremaining: 1.65s\n",
      "42:\tlearn: 0.1373935\ttotal: 275ms\tremaining: 1.65s\n",
      "44:\tlearn: 0.1340231\ttotal: 289ms\tremaining: 1.64s\n",
      "46:\tlearn: 0.1302710\ttotal: 302ms\tremaining: 1.63s\n",
      "48:\tlearn: 0.1271873\ttotal: 314ms\tremaining: 1.61s\n",
      "50:\tlearn: 0.1221668\ttotal: 328ms\tremaining: 1.6s\n",
      "52:\tlearn: 0.1195079\ttotal: 340ms\tremaining: 1.58s\n",
      "54:\tlearn: 0.1163984\ttotal: 357ms\tremaining: 1.59s\n",
      "56:\tlearn: 0.1118884\ttotal: 370ms\tremaining: 1.58s\n",
      "58:\tlearn: 0.1084179\ttotal: 382ms\tremaining: 1.56s\n",
      "60:\tlearn: 0.1062798\ttotal: 394ms\tremaining: 1.54s\n",
      "62:\tlearn: 0.1040583\ttotal: 408ms\tremaining: 1.53s\n",
      "64:\tlearn: 0.1006248\ttotal: 421ms\tremaining: 1.52s\n",
      "66:\tlearn: 0.0981353\ttotal: 434ms\tremaining: 1.51s\n",
      "68:\tlearn: 0.0958896\ttotal: 447ms\tremaining: 1.5s\n",
      "70:\tlearn: 0.0935671\ttotal: 461ms\tremaining: 1.49s\n",
      "72:\tlearn: 0.0899512\ttotal: 475ms\tremaining: 1.48s\n",
      "74:\tlearn: 0.0871021\ttotal: 489ms\tremaining: 1.47s\n",
      "76:\tlearn: 0.0837541\ttotal: 503ms\tremaining: 1.46s\n",
      "78:\tlearn: 0.0809652\ttotal: 516ms\tremaining: 1.44s\n",
      "80:\tlearn: 0.0791921\ttotal: 530ms\tremaining: 1.43s\n",
      "82:\tlearn: 0.0775224\ttotal: 542ms\tremaining: 1.42s\n",
      "84:\tlearn: 0.0747890\ttotal: 556ms\tremaining: 1.41s\n",
      "86:\tlearn: 0.0714848\ttotal: 572ms\tremaining: 1.4s\n",
      "88:\tlearn: 0.0692040\ttotal: 585ms\tremaining: 1.39s\n",
      "90:\tlearn: 0.0675491\ttotal: 597ms\tremaining: 1.37s\n",
      "92:\tlearn: 0.0647994\ttotal: 611ms\tremaining: 1.36s\n",
      "94:\tlearn: 0.0619424\ttotal: 625ms\tremaining: 1.35s\n",
      "96:\tlearn: 0.0593177\ttotal: 639ms\tremaining: 1.34s\n",
      "98:\tlearn: 0.0581141\ttotal: 653ms\tremaining: 1.32s\n",
      "100:\tlearn: 0.0557800\ttotal: 667ms\tremaining: 1.31s\n",
      "102:\tlearn: 0.0540113\ttotal: 680ms\tremaining: 1.3s\n",
      "104:\tlearn: 0.0523610\ttotal: 692ms\tremaining: 1.28s\n",
      "106:\tlearn: 0.0505382\ttotal: 706ms\tremaining: 1.27s\n",
      "108:\tlearn: 0.0492274\ttotal: 719ms\tremaining: 1.26s\n",
      "110:\tlearn: 0.0477148\ttotal: 734ms\tremaining: 1.25s\n",
      "112:\tlearn: 0.0465352\ttotal: 748ms\tremaining: 1.24s\n",
      "114:\tlearn: 0.0449988\ttotal: 762ms\tremaining: 1.23s\n",
      "116:\tlearn: 0.0433674\ttotal: 780ms\tremaining: 1.22s\n",
      "118:\tlearn: 0.0421793\ttotal: 796ms\tremaining: 1.21s\n",
      "120:\tlearn: 0.0410103\ttotal: 812ms\tremaining: 1.2s\n",
      "122:\tlearn: 0.0398585\ttotal: 826ms\tremaining: 1.19s\n",
      "124:\tlearn: 0.0386906\ttotal: 840ms\tremaining: 1.18s\n",
      "126:\tlearn: 0.0379051\ttotal: 857ms\tremaining: 1.17s\n",
      "128:\tlearn: 0.0368674\ttotal: 872ms\tremaining: 1.16s\n",
      "130:\tlearn: 0.0358786\ttotal: 886ms\tremaining: 1.14s\n",
      "132:\tlearn: 0.0346978\ttotal: 900ms\tremaining: 1.13s\n",
      "134:\tlearn: 0.0340839\ttotal: 915ms\tremaining: 1.12s\n",
      "136:\tlearn: 0.0327257\ttotal: 929ms\tremaining: 1.1s\n",
      "138:\tlearn: 0.0316966\ttotal: 943ms\tremaining: 1.09s\n",
      "140:\tlearn: 0.0308288\ttotal: 957ms\tremaining: 1.08s\n",
      "142:\tlearn: 0.0301194\ttotal: 970ms\tremaining: 1.06s\n",
      "144:\tlearn: 0.0296328\ttotal: 985ms\tremaining: 1.05s\n",
      "146:\tlearn: 0.0288852\ttotal: 1000ms\tremaining: 1.04s\n",
      "148:\tlearn: 0.0282510\ttotal: 1.01s\tremaining: 1.03s\n",
      "150:\tlearn: 0.0278918\ttotal: 1.03s\tremaining: 1.01s\n",
      "152:\tlearn: 0.0270702\ttotal: 1.04s\tremaining: 1s\n",
      "154:\tlearn: 0.0263124\ttotal: 1.05s\tremaining: 988ms\n",
      "156:\tlearn: 0.0258423\ttotal: 1.07s\tremaining: 974ms\n",
      "158:\tlearn: 0.0250039\ttotal: 1.08s\tremaining: 961ms\n",
      "160:\tlearn: 0.0244442\ttotal: 1.1s\tremaining: 949ms\n",
      "162:\tlearn: 0.0240761\ttotal: 1.12s\tremaining: 940ms\n",
      "164:\tlearn: 0.0236095\ttotal: 1.13s\tremaining: 926ms\n",
      "166:\tlearn: 0.0230115\ttotal: 1.15s\tremaining: 912ms\n",
      "168:\tlearn: 0.0226513\ttotal: 1.16s\tremaining: 898ms\n",
      "170:\tlearn: 0.0221935\ttotal: 1.18s\tremaining: 887ms\n",
      "172:\tlearn: 0.0220114\ttotal: 1.19s\tremaining: 876ms\n",
      "174:\tlearn: 0.0213760\ttotal: 1.21s\tremaining: 862ms\n",
      "176:\tlearn: 0.0209897\ttotal: 1.22s\tremaining: 849ms\n",
      "178:\tlearn: 0.0205435\ttotal: 1.23s\tremaining: 835ms\n",
      "180:\tlearn: 0.0202623\ttotal: 1.25s\tremaining: 823ms\n",
      "182:\tlearn: 0.0198974\ttotal: 1.27s\tremaining: 810ms\n",
      "184:\tlearn: 0.0195982\ttotal: 1.28s\tremaining: 796ms\n",
      "186:\tlearn: 0.0191430\ttotal: 1.29s\tremaining: 782ms\n",
      "188:\tlearn: 0.0186687\ttotal: 1.31s\tremaining: 769ms\n",
      "190:\tlearn: 0.0183295\ttotal: 1.32s\tremaining: 755ms\n",
      "192:\tlearn: 0.0181472\ttotal: 1.33s\tremaining: 740ms\n",
      "194:\tlearn: 0.0178960\ttotal: 1.35s\tremaining: 726ms\n",
      "196:\tlearn: 0.0174801\ttotal: 1.36s\tremaining: 712ms\n",
      "198:\tlearn: 0.0170842\ttotal: 1.38s\tremaining: 699ms\n",
      "200:\tlearn: 0.0167747\ttotal: 1.39s\tremaining: 685ms\n",
      "202:\tlearn: 0.0166196\ttotal: 1.41s\tremaining: 671ms\n",
      "204:\tlearn: 0.0163866\ttotal: 1.42s\tremaining: 657ms\n",
      "206:\tlearn: 0.0160812\ttotal: 1.43s\tremaining: 644ms\n",
      "208:\tlearn: 0.0157401\ttotal: 1.45s\tremaining: 630ms\n",
      "210:\tlearn: 0.0155111\ttotal: 1.46s\tremaining: 616ms\n",
      "212:\tlearn: 0.0152603\ttotal: 1.47s\tremaining: 602ms\n",
      "214:\tlearn: 0.0150172\ttotal: 1.49s\tremaining: 588ms\n",
      "216:\tlearn: 0.0148230\ttotal: 1.5s\tremaining: 574ms\n",
      "218:\tlearn: 0.0146207\ttotal: 1.51s\tremaining: 560ms\n",
      "220:\tlearn: 0.0144081\ttotal: 1.53s\tremaining: 546ms\n",
      "222:\tlearn: 0.0142010\ttotal: 1.54s\tremaining: 532ms\n",
      "224:\tlearn: 0.0139738\ttotal: 1.55s\tremaining: 518ms\n",
      "226:\tlearn: 0.0137362\ttotal: 1.57s\tremaining: 505ms\n",
      "228:\tlearn: 0.0134913\ttotal: 1.58s\tremaining: 491ms\n",
      "230:\tlearn: 0.0132700\ttotal: 1.6s\tremaining: 477ms\n",
      "232:\tlearn: 0.0130692\ttotal: 1.61s\tremaining: 465ms\n",
      "234:\tlearn: 0.0129276\ttotal: 1.63s\tremaining: 451ms\n",
      "236:\tlearn: 0.0127355\ttotal: 1.65s\tremaining: 438ms\n",
      "238:\tlearn: 0.0126183\ttotal: 1.66s\tremaining: 424ms\n",
      "240:\tlearn: 0.0123735\ttotal: 1.67s\tremaining: 410ms\n",
      "242:\tlearn: 0.0122042\ttotal: 1.69s\tremaining: 396ms\n",
      "244:\tlearn: 0.0120729\ttotal: 1.7s\tremaining: 382ms\n",
      "246:\tlearn: 0.0118887\ttotal: 1.71s\tremaining: 368ms\n",
      "248:\tlearn: 0.0117056\ttotal: 1.73s\tremaining: 354ms\n",
      "250:\tlearn: 0.0115747\ttotal: 1.74s\tremaining: 340ms\n",
      "252:\tlearn: 0.0114339\ttotal: 1.75s\tremaining: 326ms\n",
      "254:\tlearn: 0.0112485\ttotal: 1.77s\tremaining: 312ms\n",
      "256:\tlearn: 0.0111704\ttotal: 1.78s\tremaining: 298ms\n",
      "258:\tlearn: 0.0110680\ttotal: 1.79s\tremaining: 284ms\n",
      "260:\tlearn: 0.0109171\ttotal: 1.81s\tremaining: 270ms\n",
      "262:\tlearn: 0.0107797\ttotal: 1.83s\tremaining: 257ms\n",
      "264:\tlearn: 0.0106430\ttotal: 1.84s\tremaining: 243ms\n",
      "266:\tlearn: 0.0104847\ttotal: 1.85s\tremaining: 229ms\n",
      "268:\tlearn: 0.0103521\ttotal: 1.87s\tremaining: 215ms\n",
      "270:\tlearn: 0.0102159\ttotal: 1.88s\tremaining: 201ms\n",
      "272:\tlearn: 0.0101081\ttotal: 1.9s\tremaining: 188ms\n",
      "274:\tlearn: 0.0100030\ttotal: 1.91s\tremaining: 174ms\n",
      "276:\tlearn: 0.0098703\ttotal: 1.92s\tremaining: 160ms\n",
      "278:\tlearn: 0.0098026\ttotal: 1.94s\tremaining: 146ms\n",
      "280:\tlearn: 0.0097027\ttotal: 1.95s\tremaining: 132ms\n",
      "282:\tlearn: 0.0095389\ttotal: 1.96s\tremaining: 118ms\n",
      "284:\tlearn: 0.0094528\ttotal: 1.98s\tremaining: 104ms\n",
      "286:\tlearn: 0.0093679\ttotal: 1.99s\tremaining: 90.2ms\n",
      "288:\tlearn: 0.0092629\ttotal: 2s\tremaining: 76.3ms\n",
      "290:\tlearn: 0.0091777\ttotal: 2.02s\tremaining: 62.5ms\n",
      "292:\tlearn: 0.0090225\ttotal: 2.04s\tremaining: 48.8ms\n",
      "294:\tlearn: 0.0089352\ttotal: 2.06s\tremaining: 34.8ms\n",
      "296:\tlearn: 0.0088364\ttotal: 2.07s\tremaining: 20.9ms\n",
      "298:\tlearn: 0.0087616\ttotal: 2.08s\tremaining: 6.97ms\n",
      "299:\tlearn: 0.0086852\ttotal: 2.09s\tremaining: 0us\n",
      "accuracy :  0.96436 \n",
      "precision:  1.0 \n",
      "recall   :  0.53846 \n",
      "f1-score :  0.7\n",
      "{'boosting_type': 'Plain', 'bootstrap_type': 'Bernoulli', 'depth': 8, 'grow_policy': 'Lossguide', 'iterations': 300, 'leaf_estimation_iterations': 5, 'learning_rate': 0.1, 'max_leaves': 30}\n"
     ]
    }
   ],
   "source": [
    "%time\n",
    "start = timeit.default_timer()\n",
    "\n",
    "catb_params = { \"iterations\": [300, 500],\n",
    "               \"learning_rate\": [0.01, 0.005, 0.1],\n",
    "               \"depth\": [3,5,8],\n",
    "               \"leaf_estimation_iterations\":[1,5],\n",
    "               \"boosting_type\": [\"Plain\"],\n",
    "               \"bootstrap_type\": [\"Bernoulli\", \"Bayesian\"],\n",
    "               \"grow_policy\": [\"Lossguide\"],\n",
    "               \"max_leaves\": [20,30]}\n",
    "\n",
    "xtrain, xtest, ytrain, ytest = train_test_splitting(data_rf, \"bad\")\n",
    "ytest, y_pred, catb_model, best_params = CatBoostTuning(xtrain, ytrain, xtest, ytest, catb_params)\n",
    "evaluation_metrics(ytest, y_pred)\n",
    "print(best_params)"
   ]
  },
  {
   "cell_type": "markdown",
   "metadata": {
    "colab_type": "text",
    "id": "PmqeAPj9OCB0"
   },
   "source": [
    "### 6.7. XGBoost Tuning"
   ]
  },
  {
   "cell_type": "code",
   "execution_count": null,
   "metadata": {
    "colab": {},
    "colab_type": "code",
    "id": "nBacKhrTFADA"
   },
   "outputs": [],
   "source": [
    "def XGBoostTuning(xtrain,ytrain, xtest, ytest, params, cv=10, n_jobs=-1, verbose=2):\n",
    "    model = XGBClassifier()\n",
    "    gridsearch_cv = GridSearchCV(model, params, cv=cv, n_jobs=n_jobs, verbose=verbose)\n",
    "    grid_cv_model = gridsearch_cv.fit(xtrain, ytrain)\n",
    "    # best parameters\n",
    "    model.n_estimators = grid_cv_model.best_params_[\"n_estimators\"]\n",
    "    model.subsample = grid_cv_model.best_params_[\"subsample\"]\n",
    "    model.max_depth = grid_cv_model.best_params_[\"max_depth\"]\n",
    "    model.learning_rate = grid_cv_model.best_params_[\"learning_rate\"]\n",
    "    model.min_child_weight = grid_cv_model.best_params_[\"min_child_weight\"]\n",
    "    # tuned model\n",
    "    model_tuned = model.fit(xtrain, ytrain)\n",
    "    y_pred = model_tuned.predict(xtest)\n",
    "    return ytest, y_pred, model, grid_cv_model.best_params_"
   ]
  },
  {
   "cell_type": "code",
   "execution_count": null,
   "metadata": {
    "colab": {
     "base_uri": "https://localhost:8080/",
     "height": 399
    },
    "colab_type": "code",
    "id": "Lvmjls0BOFR0",
    "outputId": "bd921c70-9a34-4bb8-a53b-88bb17d5c80f"
   },
   "outputs": [
    {
     "name": "stdout",
     "output_type": "stream",
     "text": [
      "CPU times: user 3 µs, sys: 0 ns, total: 3 µs\n",
      "Wall time: 6.44 µs\n",
      "(1513, 7) (505, 7) (1513,) (505,)\n",
      "Fitting 10 folds for each of 576 candidates, totalling 5760 fits\n"
     ]
    },
    {
     "name": "stderr",
     "output_type": "stream",
     "text": [
      "[Parallel(n_jobs=-1)]: Using backend LokyBackend with 2 concurrent workers.\n",
      "[Parallel(n_jobs=-1)]: Done  37 tasks      | elapsed:    6.2s\n",
      "[Parallel(n_jobs=-1)]: Done 158 tasks      | elapsed:  1.3min\n",
      "[Parallel(n_jobs=-1)]: Done 361 tasks      | elapsed:  3.6min\n",
      "[Parallel(n_jobs=-1)]: Done 644 tasks      | elapsed:  6.4min\n",
      "[Parallel(n_jobs=-1)]: Done 1009 tasks      | elapsed: 10.8min\n",
      "[Parallel(n_jobs=-1)]: Done 1454 tasks      | elapsed: 16.5min\n",
      "[Parallel(n_jobs=-1)]: Done 1981 tasks      | elapsed: 22.0min\n",
      "[Parallel(n_jobs=-1)]: Done 2588 tasks      | elapsed: 30.7min\n",
      "[Parallel(n_jobs=-1)]: Done 3277 tasks      | elapsed: 40.2min\n",
      "[Parallel(n_jobs=-1)]: Done 4046 tasks      | elapsed: 50.8min\n",
      "[Parallel(n_jobs=-1)]: Done 4897 tasks      | elapsed: 61.9min\n",
      "[Parallel(n_jobs=-1)]: Done 5760 out of 5760 | elapsed: 74.1min finished\n"
     ]
    },
    {
     "name": "stdout",
     "output_type": "stream",
     "text": [
      "accuracy :  0.9604 \n",
      "precision:  0.95238 \n",
      "recall   :  0.51282 \n",
      "f1-score :  0.66667\n",
      "{'learning_rate': 0.05, 'max_depth': 5, 'min_child_weight': 0.8, 'n_estimators': 1000, 'subsample': 0.8}\n"
     ]
    }
   ],
   "source": [
    "%time\n",
    "start = timeit.default_timer()\n",
    "\n",
    "xgb_params = {\n",
    "    \"n_estimators\": [100,500, 1000, 2000],\n",
    "    \"subsample\": [0.6, 0.8, 1.0],\n",
    "    \"max_depth\": [3,4,5,6],\n",
    "    \"learning_rate\": [0.1, 0.01, 0.02, 0.05],\n",
    "    \"min_child_weight\": [0.8,0.9,1.0]}\n",
    "\n",
    "xtrain, xtest, ytrain, ytest = train_test_splitting(data_rf, \"bad\")\n",
    "ytest, y_pred, catb_model, best_params = XGBoostTuning(xtrain, ytrain, xtest, ytest, xgb_params)\n",
    "evaluation_metrics(ytest, y_pred)\n",
    "print(best_params)"
   ]
  },
  {
   "cell_type": "markdown",
   "metadata": {
    "colab_type": "text",
    "id": "rVcndz1MBx0C"
   },
   "source": [
    "### 6.8. K-Nearest Neighbors"
   ]
  },
  {
   "cell_type": "code",
   "execution_count": null,
   "metadata": {
    "colab": {},
    "colab_type": "code",
    "id": "K86eqaY5B1V8"
   },
   "outputs": [],
   "source": [
    "def KNNTuning(xtrain,ytrain, xtest, ytest, params, cv=10, n_jobs=-1, verbose=2):\n",
    "    model = KNeighborsClassifier()\n",
    "    gridsearch_cv = GridSearchCV(model, params, cv=cv, n_jobs=n_jobs, verbose=verbose)\n",
    "    grid_cv_model = gridsearch_cv.fit(xtrain, ytrain)\n",
    "    # best parameters\n",
    "    model.n_neighbors = grid_cv_model.best_params_[\"n_neighbors\"]\n",
    "    model.leaf_size = grid_cv_model.best_params_[\"leaf_size\"]\n",
    "    model.algorithm = grid_cv_model.best_params_[\"algorithm\"]\n",
    "    model.metric = grid_cv_model.best_params_[\"metric\"]\n",
    "    # tuned model\n",
    "    model_tuned = model.fit(xtrain, ytrain)\n",
    "    y_pred = model_tuned.predict(xtest)\n",
    "    return ytest, y_pred, model, grid_cv_model.best_params_"
   ]
  },
  {
   "cell_type": "code",
   "execution_count": null,
   "metadata": {
    "colab": {
     "base_uri": "https://localhost:8080/",
     "height": 260
    },
    "colab_type": "code",
    "id": "z1K-OWAtB1zm",
    "outputId": "b0afe671-f784-4d5a-8c3e-b4c94b1dce8e"
   },
   "outputs": [
    {
     "name": "stdout",
     "output_type": "stream",
     "text": [
      "CPU times: user 3 µs, sys: 0 ns, total: 3 µs\n",
      "Wall time: 5.25 µs\n",
      "(1513, 7) (505, 7) (1513,) (505,)\n",
      "Fitting 10 folds for each of 405 candidates, totalling 4050 fits\n"
     ]
    },
    {
     "name": "stderr",
     "output_type": "stream",
     "text": [
      "[Parallel(n_jobs=-1)]: Using backend LokyBackend with 2 concurrent workers.\n",
      "[Parallel(n_jobs=-1)]: Done 144 tasks      | elapsed:    2.8s\n",
      "[Parallel(n_jobs=-1)]: Done 1112 tasks      | elapsed:   13.0s\n",
      "[Parallel(n_jobs=-1)]: Done 2736 tasks      | elapsed:   29.3s\n"
     ]
    },
    {
     "name": "stdout",
     "output_type": "stream",
     "text": [
      "accuracy :  0.94653 \n",
      "precision:  0.77273 \n",
      "recall   :  0.4359 \n",
      "f1-score :  0.55738\n",
      "{'algorithm': 'ball_tree', 'leaf_size': 10, 'metric': 'euclidean', 'n_neighbors': 1}\n"
     ]
    },
    {
     "name": "stderr",
     "output_type": "stream",
     "text": [
      "[Parallel(n_jobs=-1)]: Done 4050 out of 4050 | elapsed:   42.1s finished\n"
     ]
    }
   ],
   "source": [
    "%time\n",
    "start = timeit.default_timer()\n",
    "\n",
    "knn_params = {\"n_neighbors\": np.arange(1,10),\n",
    "              \"leaf_size\": [10,20,30,40,50],\n",
    "              \"algorithm\": [\"ball_tree\", \"kd_tree\", \"brute\"],\n",
    "              \"metric\": [\"euclidean\", \"minkowski\", \"manhattan\"]}\n",
    "\n",
    "xtrain, xtest, ytrain, ytest = train_test_splitting(data_rf, \"bad\")\n",
    "ytest, y_pred, knn_model, best_params = KNNTuning(xtrain, ytrain, xtest, ytest, knn_params)\n",
    "evaluation_metrics(ytest, y_pred)\n",
    "print(best_params)"
   ]
  },
  {
   "cell_type": "code",
   "execution_count": null,
   "metadata": {
    "colab": {},
    "colab_type": "code",
    "id": "a7bpm0ZAFAS9"
   },
   "outputs": [],
   "source": []
  }
 ],
 "metadata": {
  "colab": {
   "collapsed_sections": [
    "MGWP3TruxqJ2",
    "eHcVxyBBxqKG",
    "TcCxid3pxqKP",
    "I7VMVZy0xqK1",
    "MhQRbBu7xqLV",
    "uH8MBtH-xqLb",
    "si1Ueh6t142-",
    "xzw8qEzi18N6",
    "LNraFd_d2AKk",
    "jSRtAKeBxqMh",
    "z31VZ_-okFXg",
    "jAd11x0FxqMp",
    "jEnxJufwontJ",
    "OWky1AKgxqNH",
    "XvX6X9IPxqNY",
    "QkP1n5kjxqNy",
    "rI2IEiNdxqOK",
    "nWjRfGKmxqOe",
    "CLREJG2BxqOk",
    "NJ1bYTFLxqOr",
    "xWrOYi1YxqO2",
    "WyeeYRjWxqO_",
    "cGVP9b_txqPF",
    "eJZDu8WGxqQR",
    "2MdkqV60k1jl",
    "yMVr1-jUrA0B",
    "w7x9yB4NrM_g",
    "A44C-yL-rRSO",
    "TeY2I-6lrRks",
    "-rWDSLQvrbbl",
    "yQA5Vy2-rEkp",
    "V6sk5Yjlrfi2",
    "ahOBKEF6rgg-",
    "Zw0LMFXMrgvw",
    "BTipvxXKrHVT",
    "6hhA0VvrNBpa",
    "ujRzM0zINXUl"
   ],
   "name": "assignment8-ClassifiationAlgorithms.ipynb",
   "provenance": []
  },
  "kernelspec": {
   "display_name": "Python 3",
   "language": "python",
   "name": "python3"
  },
  "language_info": {
   "codemirror_mode": {
    "name": "ipython",
    "version": 3
   },
   "file_extension": ".py",
   "mimetype": "text/x-python",
   "name": "python",
   "nbconvert_exporter": "python",
   "pygments_lexer": "ipython3",
   "version": "3.7.4"
  }
 },
 "nbformat": 4,
 "nbformat_minor": 1
}
